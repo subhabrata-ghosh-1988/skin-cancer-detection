{
  "nbformat": 4,
  "nbformat_minor": 0,
  "metadata": {
    "accelerator": "GPU",
    "colab": {
      "name": "Starter code Assignment CNN Skin Cancer.ipynb",
      "provenance": []
    },
    "kernelspec": {
      "display_name": "Python 3",
      "name": "python3"
    }
  },
  "cells": [
    {
      "cell_type": "markdown",
      "metadata": {
        "id": "yDriIbfa5lwD"
      },
      "source": [
        "Problem statement: To build a CNN based model which can accurately detect melanoma. Melanoma is a type of cancer that can be deadly if not detected early. It accounts for 75% of skin cancer deaths. A solution which can evaluate images and alert the dermatologists about the presence of melanoma has the potential to reduce a lot of manual effort needed in diagnosis."
      ]
    },
    {
      "cell_type": "markdown",
      "metadata": {
        "id": "lvR7ppk77v31"
      },
      "source": [
        "### Importing Skin Cancer Data\n",
        "#### To do: Take necessary actions to read the data"
      ]
    },
    {
      "cell_type": "markdown",
      "metadata": {
        "id": "JfcpIXQZN2Rh"
      },
      "source": [
        "### Importing all the important libraries"
      ]
    },
    {
      "cell_type": "code",
      "metadata": {
        "id": "WC8xCQuELWms"
      },
      "source": [
        "import pathlib\n",
        "import tensorflow as tf\n",
        "import matplotlib.pyplot as plt\n",
        "import numpy as np\n",
        "import pandas as pd\n",
        "import os\n",
        "import PIL\n",
        "from tensorflow import keras\n",
        "from tensorflow.keras import layers\n",
        "from tensorflow.keras.models import Sequential\n",
        "import shutil"
      ],
      "execution_count": 54,
      "outputs": []
    },
    {
      "cell_type": "code",
      "metadata": {
        "id": "U4HBQdQYVlNR"
      },
      "source": [
        "## remove the existing zip file\r\n",
        "shutil.rmtree('/content/CNN_assignment.zip', ignore_errors=True)"
      ],
      "execution_count": 56,
      "outputs": []
    },
    {
      "cell_type": "code",
      "metadata": {
        "id": "TYpVPmT5z7AP",
        "colab": {
          "base_uri": "https://localhost:8080/",
          "height": 258
        },
        "outputId": "d54d485c-64cd-452c-a47f-f2afd517df3f"
      },
      "source": [
        "## If you are using the data by mounting the google drive, use the following :\r\n",
        "!pip install gdown\r\n",
        "import gdown\r\n",
        "url=\"https://drive.google.com/uc?id=1Y-zrnB-P15z4iCbUKzFvi7_zF5eJ9gTp\"\r\n",
        "output = \"CNN_assignment.zip\"\r\n",
        "gdown.download(url, output, quiet=False)\r\n",
        "\r\n",
        "##Ref:https://towardsdatascience.com/downloading-datasets-into-google-drive-via-google-colab-bcb1b30b0166"
      ],
      "execution_count": 57,
      "outputs": [
        {
          "output_type": "stream",
          "text": [
            "Requirement already satisfied: gdown in /usr/local/lib/python3.6/dist-packages (3.6.4)\n",
            "Requirement already satisfied: tqdm in /usr/local/lib/python3.6/dist-packages (from gdown) (4.41.1)\n",
            "Requirement already satisfied: requests in /usr/local/lib/python3.6/dist-packages (from gdown) (2.23.0)\n",
            "Requirement already satisfied: six in /usr/local/lib/python3.6/dist-packages (from gdown) (1.15.0)\n",
            "Requirement already satisfied: certifi>=2017.4.17 in /usr/local/lib/python3.6/dist-packages (from requests->gdown) (2020.12.5)\n",
            "Requirement already satisfied: urllib3!=1.25.0,!=1.25.1,<1.26,>=1.21.1 in /usr/local/lib/python3.6/dist-packages (from requests->gdown) (1.24.3)\n",
            "Requirement already satisfied: idna<3,>=2.5 in /usr/local/lib/python3.6/dist-packages (from requests->gdown) (2.10)\n",
            "Requirement already satisfied: chardet<4,>=3.0.2 in /usr/local/lib/python3.6/dist-packages (from requests->gdown) (3.0.4)\n"
          ],
          "name": "stdout"
        },
        {
          "output_type": "stream",
          "text": [
            "Downloading...\n",
            "From: https://drive.google.com/uc?id=1Y-zrnB-P15z4iCbUKzFvi7_zF5eJ9gTp\n",
            "To: /content/CNN_assignment.zip\n",
            "824MB [00:04, 173MB/s]\n"
          ],
          "name": "stderr"
        },
        {
          "output_type": "execute_result",
          "data": {
            "application/vnd.google.colaboratory.intrinsic+json": {
              "type": "string"
            },
            "text/plain": [
              "'CNN_assignment.zip'"
            ]
          },
          "metadata": {
            "tags": []
          },
          "execution_count": 57
        }
      ]
    },
    {
      "cell_type": "code",
      "metadata": {
        "id": "lz-5oQwzUOtP"
      },
      "source": [
        "## unzip the downloaded folder\r\n",
        "shutil.rmtree('/content/CNN_assignment', ignore_errors=True)\r\n",
        "shutil.unpack_archive(\"CNN_assignment.zip\", \"CNN_assignment\")"
      ],
      "execution_count": 58,
      "outputs": []
    },
    {
      "cell_type": "markdown",
      "metadata": {
        "id": "RpUsRQwOOL72"
      },
      "source": [
        "This assignment uses a dataset of about 2357 images of skin cancer types. The dataset contains 9 sub-directories in each train and test subdirectories. The 9 sub-directories contains the images of 9 skin cancer types respectively."
      ]
    },
    {
      "cell_type": "code",
      "metadata": {
        "id": "D57L-ovIKtI4"
      },
      "source": [
        "# Defining the path for train and test images\n",
        "## Todo: Update the paths of the train and test dataset\n",
        "data_dir_train = pathlib.Path(\"/content/CNN_assignment/Skin cancer ISIC The International Skin Imaging Collaboration/Train\")\n",
        "data_dir_test = pathlib.Path('/content/CNN_assignment/Skin cancer ISIC The International Skin Imaging Collaboration/Test')"
      ],
      "execution_count": 59,
      "outputs": []
    },
    {
      "cell_type": "code",
      "metadata": {
        "id": "DqksN1w5Fu-N",
        "colab": {
          "base_uri": "https://localhost:8080/"
        },
        "outputId": "8b09edb6-9686-4bfe-9851-1f5348ea28bf"
      },
      "source": [
        "image_count_train = len(list(data_dir_train.glob('*/*.jpg')))\n",
        "print(image_count_train)\n",
        "image_count_test = len(list(data_dir_test.glob('*/*.jpg')))\n",
        "print(image_count_test)"
      ],
      "execution_count": 60,
      "outputs": [
        {
          "output_type": "stream",
          "text": [
            "2239\n",
            "118\n"
          ],
          "name": "stdout"
        }
      ]
    },
    {
      "cell_type": "markdown",
      "metadata": {
        "id": "O8HkfW3jPJun"
      },
      "source": [
        "### Load using keras.preprocessing\n",
        "\n",
        "Let's load these images off disk using the helpful image_dataset_from_directory utility."
      ]
    },
    {
      "cell_type": "markdown",
      "metadata": {
        "id": "cDBKZG3jPcMc"
      },
      "source": [
        "### Create a dataset\n",
        "\n",
        "Define some parameters for the loader:"
      ]
    },
    {
      "cell_type": "code",
      "metadata": {
        "id": "VLfcXcZ9LjGv"
      },
      "source": [
        "batch_size = 32\n",
        "img_height = 180\n",
        "img_width = 180"
      ],
      "execution_count": 61,
      "outputs": []
    },
    {
      "cell_type": "markdown",
      "metadata": {
        "id": "Y5f5y43GPog1"
      },
      "source": [
        "Use 80% of the images for training, and 20% for validation."
      ]
    },
    {
      "cell_type": "code",
      "metadata": {
        "id": "G1BWmDzr7w-5",
        "colab": {
          "base_uri": "https://localhost:8080/"
        },
        "outputId": "bfa25994-8912-4df1-850e-2dca653ef402"
      },
      "source": [
        "## Write your train dataset here\n",
        "## Note use seed=123 while creating your dataset using tf.keras.preprocessing.image_dataset_from_directory\n",
        "## Note, make sure your resize your images to the size img_height*img_width, while writting the dataset\n",
        "train_ds = tf.keras.preprocessing.image_dataset_from_directory(\n",
        "               directory=data_dir_train, labels='inferred', label_mode='categorical', class_names=None,\n",
        "               color_mode='rgb', batch_size=batch_size, image_size=(img_height, img_width),\n",
        "               shuffle=True, seed=123, validation_split=.20, subset=\"training\",\n",
        "              interpolation='nearest', follow_links=False)"
      ],
      "execution_count": 62,
      "outputs": [
        {
          "output_type": "stream",
          "text": [
            "Found 2239 files belonging to 9 classes.\n",
            "Using 1792 files for training.\n"
          ],
          "name": "stdout"
        }
      ]
    },
    {
      "cell_type": "code",
      "metadata": {
        "id": "LYch6-SR-i2g",
        "colab": {
          "base_uri": "https://localhost:8080/"
        },
        "outputId": "226df3f3-0119-43e2-d977-b0d2102afe08"
      },
      "source": [
        "## Write your validation dataset here\n",
        "## Note use seed=123 while creating your dataset using tf.keras.preprocessing.image_dataset_from_directory\n",
        "## Note, make sure your resize your images to the size img_height*img_width, while writting the dataset\n",
        "val_ds = tf.keras.preprocessing.image_dataset_from_directory(\n",
        "              directory=data_dir_train, labels='inferred', label_mode='categorical', class_names=None,\n",
        "              color_mode='rgb', batch_size=batch_size, image_size=(img_height, img_width),\n",
        "              shuffle=False, seed=123, validation_split=.20, subset=\"validation\",\n",
        "              interpolation='nearest', follow_links=False)"
      ],
      "execution_count": 63,
      "outputs": [
        {
          "output_type": "stream",
          "text": [
            "Found 2239 files belonging to 9 classes.\n",
            "Using 447 files for validation.\n"
          ],
          "name": "stdout"
        }
      ]
    },
    {
      "cell_type": "code",
      "metadata": {
        "id": "9gWEOH5p6ijO",
        "colab": {
          "base_uri": "https://localhost:8080/"
        },
        "outputId": "be3f646d-3471-427c-8cb1-c5b7a65b69ee"
      },
      "source": [
        "## Loading the test dataset\r\n",
        "\r\n",
        "test_ds=tf.keras.preprocessing.image_dataset_from_directory(\r\n",
        "        data_dir_test,\r\n",
        "        labels='inferred', label_mode='categorical', class_names=None,\r\n",
        "        color_mode='rgb',\r\n",
        "        image_size=(img_height,img_width),\r\n",
        "        seed=123\r\n",
        "       \r\n",
        "    )"
      ],
      "execution_count": 64,
      "outputs": [
        {
          "output_type": "stream",
          "text": [
            "Found 118 files belonging to 9 classes.\n"
          ],
          "name": "stdout"
        }
      ]
    },
    {
      "cell_type": "code",
      "metadata": {
        "id": "Bk0RV7G7-nad",
        "colab": {
          "base_uri": "https://localhost:8080/"
        },
        "outputId": "bb892ca5-68f3-44f0-b63c-b2fc9e1f4a53"
      },
      "source": [
        "# List out all the classes of skin cancer and store them in a list. \n",
        "# You can find the class names in the class_names attribute on these datasets. \n",
        "# These correspond to the directory names in alphabetical order.\n",
        "class_names = train_ds.class_names\n",
        "print(class_names)"
      ],
      "execution_count": 65,
      "outputs": [
        {
          "output_type": "stream",
          "text": [
            "['actinic keratosis', 'basal cell carcinoma', 'dermatofibroma', 'melanoma', 'nevus', 'pigmented benign keratosis', 'seborrheic keratosis', 'squamous cell carcinoma', 'vascular lesion']\n"
          ],
          "name": "stdout"
        }
      ]
    },
    {
      "cell_type": "markdown",
      "metadata": {
        "id": "jbsm5oYiQH_b"
      },
      "source": [
        "### Visualize the data\n",
        "#### Todo, create a code to visualize one instance of all the nine classes present in the dataset"
      ]
    },
    {
      "cell_type": "code",
      "metadata": {
        "id": "tKILZ48I-q1k",
        "colab": {
          "base_uri": "https://localhost:8080/",
          "height": 326
        },
        "outputId": "c49604e9-8ad7-45d5-b687-609f5c3f62d5"
      },
      "source": [
        "from os import listdir\n",
        "from os.path import join\n",
        "import matplotlib.image as mpimg\n",
        "import matplotlib.pyplot as plt\n",
        "\n",
        "### your code goes here, you can use training or validation data to visualize\n",
        "%matplotlib inline\n",
        "image_indexes = [0]\n",
        "selected_image_file_paths = dict()\n",
        "for classification in class_names:\n",
        "    image_directory = join(data_dir_train, classification)\n",
        "    image_file_names = listdir(image_directory)\n",
        "    selected_image_file_paths[classification] = [join(image_directory, image_file_names[i]) for i in image_indexes]\n",
        "\n",
        "number_classes = len(class_names)\n",
        "plt.figure(figsize=(16,16))    \n",
        "for i,classification in enumerate(class_names):\n",
        "    for j,image in enumerate(selected_image_file_paths[classification]):\n",
        "        image_number = (i * len(image_indexes)) + j + 1\n",
        "        ax = plt.subplot(number_classes,3,image_number)\n",
        "        plt.title(classification)\n",
        "        plt.axis(\"off\")\n",
        "        plt.imshow(mpimg.imread(image))\n",
        "\n"
      ],
      "execution_count": 66,
      "outputs": [
        {
          "output_type": "display_data",
          "data": {
            "image/png": "[encoded data removed]",
            "text/plain": [
              "<Figure size 1152x1152 with 9 Axes>"
            ]
          },
          "metadata": {
            "tags": [],
            "needs_background": "light"
          }
        }
      ]
    },
    {
      "cell_type": "markdown",
      "metadata": {
        "id": "8cAZPYaeQjQy"
      },
      "source": [
        "The `image_batch` is a tensor of the shape `(32, 180, 180, 3)`. This is a batch of 32 images of shape `180x180x3` (the last dimension refers to color channels RGB). The `label_batch` is a tensor of the shape `(32,)`, these are corresponding labels to the 32 images."
      ]
    },
    {
      "cell_type": "markdown",
      "metadata": {
        "id": "jzVXBHiyQ7_I"
      },
      "source": [
        "`Dataset.cache()` keeps the images in memory after they're loaded off disk during the first epoch.\n",
        "\n",
        "`Dataset.prefetch()` overlaps data preprocessing and model execution while training."
      ]
    },
    {
      "cell_type": "code",
      "metadata": {
        "id": "7wZlKRBEGNtU"
      },
      "source": [
        "AUTOTUNE = tf.data.experimental.AUTOTUNE\n",
        "x_train_ds = train_ds\n",
        "train_ds = train_ds.cache().shuffle(1000).prefetch(buffer_size=AUTOTUNE)\n",
        "val_ds = val_ds.cache().prefetch(buffer_size=AUTOTUNE)"
      ],
      "execution_count": 67,
      "outputs": []
    },
    {
      "cell_type": "markdown",
      "metadata": {
        "id": "1JEAF6-sRyz8"
      },
      "source": [
        "### Create the model\n",
        "#### Todo: Create a CNN model, which can accurately detect 9 classes present in the dataset. Use ```layers.experimental.preprocessing.Rescaling``` to normalize pixel values between (0,1). The RGB channel values are in the `[0, 255]` range. This is not ideal for a neural network. Here, it is good to standardize values to be in the `[0, 1]`"
      ]
    },
    {
      "cell_type": "code",
      "metadata": {
        "id": "ync9xoW7GZgn"
      },
      "source": [
        "### Your code goes here\n",
        "\n",
        "color_mode = \"rgb\"\n",
        "number_colour_layers = 3\n",
        "image_size = (img_height, img_width)\n",
        "image_shape = image_size + (number_colour_layers,)\n",
        "\n",
        "preprocessing_layers = [\n",
        "    tf.keras.layers.experimental.preprocessing.Rescaling(1./255, input_shape=image_shape)\n",
        "]"
      ],
      "execution_count": 68,
      "outputs": []
    },
    {
      "cell_type": "code",
      "metadata": {
        "id": "Du3tMOiA1xAF"
      },
      "source": [
        "def conv_2d_pooling_layers(filters, number_colour_layers):\r\n",
        "    return [\r\n",
        "        tf.keras.layers.Conv2D(\r\n",
        "            filters,\r\n",
        "            number_colour_layers,\r\n",
        "            padding='same',\r\n",
        "            activation='relu'\r\n",
        "        ),\r\n",
        "        tf.keras.layers.MaxPooling2D()\r\n",
        "    ]\r\n",
        "core_layers = \\\r\n",
        "    conv_2d_pooling_layers(16, number_colour_layers) + \\\r\n",
        "    conv_2d_pooling_layers(32, number_colour_layers) + \\\r\n",
        "    conv_2d_pooling_layers(64, number_colour_layers)"
      ],
      "execution_count": 69,
      "outputs": []
    },
    {
      "cell_type": "code",
      "metadata": {
        "id": "7315BYdP2JaF"
      },
      "source": [
        "dense_layers = [\r\n",
        "    tf.keras.layers.Flatten(),\r\n",
        "    tf.keras.layers.Dense(128, activation='relu'),\r\n",
        "    tf.keras.layers.Dense(number_classes)\r\n",
        "]"
      ],
      "execution_count": 70,
      "outputs": []
    },
    {
      "cell_type": "code",
      "metadata": {
        "id": "8XEqjRV02VYS"
      },
      "source": [
        "model = tf.keras.Sequential(\r\n",
        "    preprocessing_layers +\r\n",
        "    core_layers +\r\n",
        "    dense_layers\r\n",
        ")"
      ],
      "execution_count": 71,
      "outputs": []
    },
    {
      "cell_type": "markdown",
      "metadata": {
        "id": "SDKzJmHwSCtt"
      },
      "source": [
        "### Compile the model\n",
        "Choose an appropirate optimiser and loss function for model training "
      ]
    },
    {
      "cell_type": "code",
      "metadata": {
        "id": "XB8wKtiPGe1j"
      },
      "source": [
        "### Todo, choose an appropirate optimiser and loss function\n",
        "loss = tf.keras.losses.CategoricalCrossentropy(from_logits=True)\n",
        "model.compile(optimizer='adam',\n",
        "              loss=loss,\n",
        "              metrics=['accuracy'])"
      ],
      "execution_count": 72,
      "outputs": []
    },
    {
      "cell_type": "code",
      "metadata": {
        "id": "_ZGWN4MZGhtJ",
        "colab": {
          "base_uri": "https://localhost:8080/"
        },
        "outputId": "68e87e37-04e0-445f-b01e-10bbde88b11b"
      },
      "source": [
        "# View the summary of all layers\n",
        "model.summary()"
      ],
      "execution_count": 73,
      "outputs": [
        {
          "output_type": "stream",
          "text": [
            "Model: \"sequential_3\"\n",
            "_________________________________________________________________\n",
            "Layer (type)                 Output Shape              Param #   \n",
            "=================================================================\n",
            "rescaling_1 (Rescaling)      (None, 180, 180, 3)       0         \n",
            "_________________________________________________________________\n",
            "conv2d_6 (Conv2D)            (None, 180, 180, 16)      448       \n",
            "_________________________________________________________________\n",
            "max_pooling2d_6 (MaxPooling2 (None, 90, 90, 16)        0         \n",
            "_________________________________________________________________\n",
            "conv2d_7 (Conv2D)            (None, 90, 90, 32)        4640      \n",
            "_________________________________________________________________\n",
            "max_pooling2d_7 (MaxPooling2 (None, 45, 45, 32)        0         \n",
            "_________________________________________________________________\n",
            "conv2d_8 (Conv2D)            (None, 45, 45, 64)        18496     \n",
            "_________________________________________________________________\n",
            "max_pooling2d_8 (MaxPooling2 (None, 22, 22, 64)        0         \n",
            "_________________________________________________________________\n",
            "flatten_2 (Flatten)          (None, 30976)             0         \n",
            "_________________________________________________________________\n",
            "dense_4 (Dense)              (None, 128)               3965056   \n",
            "_________________________________________________________________\n",
            "dense_5 (Dense)              (None, 9)                 1161      \n",
            "=================================================================\n",
            "Total params: 3,989,801\n",
            "Trainable params: 3,989,801\n",
            "Non-trainable params: 0\n",
            "_________________________________________________________________\n"
          ],
          "name": "stdout"
        }
      ]
    },
    {
      "cell_type": "markdown",
      "metadata": {
        "id": "ljD_83rwSl5O"
      },
      "source": [
        "### Train the model"
      ]
    },
    {
      "cell_type": "code",
      "metadata": {
        "id": "Kkfw2rJXGlYC",
        "colab": {
          "base_uri": "https://localhost:8080/"
        },
        "outputId": "c6118f7d-d504-43ae-fe59-18c61e13bd38"
      },
      "source": [
        "epochs = 20\n",
        "history = model.fit(\n",
        "  train_ds,\n",
        "  validation_data=val_ds,\n",
        "  epochs=epochs\n",
        ")"
      ],
      "execution_count": 74,
      "outputs": [
        {
          "output_type": "stream",
          "text": [
            "Epoch 1/20\n",
            "56/56 [==============================] - 17s 67ms/step - loss: 2.1859 - accuracy: 0.2244 - val_loss: 2.1130 - val_accuracy: 0.0716\n",
            "Epoch 2/20\n",
            "56/56 [==============================] - 1s 20ms/step - loss: 1.6554 - accuracy: 0.4161 - val_loss: 1.6843 - val_accuracy: 0.3535\n",
            "Epoch 3/20\n",
            "56/56 [==============================] - 1s 19ms/step - loss: 1.3706 - accuracy: 0.5418 - val_loss: 1.8389 - val_accuracy: 0.3020\n",
            "Epoch 4/20\n",
            "56/56 [==============================] - 1s 19ms/step - loss: 1.3596 - accuracy: 0.5252 - val_loss: 1.6218 - val_accuracy: 0.3400\n",
            "Epoch 5/20\n",
            "56/56 [==============================] - 1s 19ms/step - loss: 1.2052 - accuracy: 0.5782 - val_loss: 1.4737 - val_accuracy: 0.4362\n",
            "Epoch 6/20\n",
            "56/56 [==============================] - 1s 20ms/step - loss: 1.1697 - accuracy: 0.5829 - val_loss: 1.4712 - val_accuracy: 0.3803\n",
            "Epoch 7/20\n",
            "56/56 [==============================] - 1s 20ms/step - loss: 1.1131 - accuracy: 0.6031 - val_loss: 1.2262 - val_accuracy: 0.4810\n",
            "Epoch 8/20\n",
            "56/56 [==============================] - 1s 20ms/step - loss: 0.9893 - accuracy: 0.6263 - val_loss: 1.1402 - val_accuracy: 0.6309\n",
            "Epoch 9/20\n",
            "56/56 [==============================] - 1s 19ms/step - loss: 0.8760 - accuracy: 0.6984 - val_loss: 1.0700 - val_accuracy: 0.5794\n",
            "Epoch 10/20\n",
            "56/56 [==============================] - 1s 20ms/step - loss: 0.8794 - accuracy: 0.6915 - val_loss: 0.9163 - val_accuracy: 0.6689\n",
            "Epoch 11/20\n",
            "56/56 [==============================] - 1s 20ms/step - loss: 0.7464 - accuracy: 0.7312 - val_loss: 0.8963 - val_accuracy: 0.7472\n",
            "Epoch 12/20\n",
            "56/56 [==============================] - 1s 20ms/step - loss: 0.6919 - accuracy: 0.7444 - val_loss: 1.2217 - val_accuracy: 0.6174\n",
            "Epoch 13/20\n",
            "56/56 [==============================] - 1s 19ms/step - loss: 0.6986 - accuracy: 0.7528 - val_loss: 1.1043 - val_accuracy: 0.6577\n",
            "Epoch 14/20\n",
            "56/56 [==============================] - 1s 20ms/step - loss: 0.5544 - accuracy: 0.7910 - val_loss: 1.0253 - val_accuracy: 0.6935\n",
            "Epoch 15/20\n",
            "56/56 [==============================] - 1s 20ms/step - loss: 0.4792 - accuracy: 0.8249 - val_loss: 0.8661 - val_accuracy: 0.7562\n",
            "Epoch 16/20\n",
            "56/56 [==============================] - 1s 20ms/step - loss: 0.4552 - accuracy: 0.8493 - val_loss: 0.8231 - val_accuracy: 0.7875\n",
            "Epoch 17/20\n",
            "56/56 [==============================] - 1s 20ms/step - loss: 0.3839 - accuracy: 0.8527 - val_loss: 0.9136 - val_accuracy: 0.7405\n",
            "Epoch 18/20\n",
            "56/56 [==============================] - 1s 20ms/step - loss: 0.3433 - accuracy: 0.8729 - val_loss: 1.0004 - val_accuracy: 0.7494\n",
            "Epoch 19/20\n",
            "56/56 [==============================] - 1s 20ms/step - loss: 0.3571 - accuracy: 0.8610 - val_loss: 1.1879 - val_accuracy: 0.6890\n",
            "Epoch 20/20\n",
            "56/56 [==============================] - 1s 20ms/step - loss: 0.3248 - accuracy: 0.8614 - val_loss: 1.0907 - val_accuracy: 0.7539\n"
          ],
          "name": "stdout"
        }
      ]
    },
    {
      "cell_type": "markdown",
      "metadata": {
        "id": "w3679V8OShSE"
      },
      "source": [
        "### Visualizing training results"
      ]
    },
    {
      "cell_type": "code",
      "metadata": {
        "id": "R1xkgk5nGubz",
        "colab": {
          "base_uri": "https://localhost:8080/",
          "height": 716
        },
        "outputId": "05510f9c-cbdb-49cb-b9d3-d4c6104023fa"
      },
      "source": [
        "acc = history.history['accuracy']\n",
        "val_acc = history.history['val_accuracy']\n",
        "\n",
        "loss = history.history['loss']\n",
        "val_loss = history.history['val_loss']\n",
        "\n",
        "epochs_range = range(epochs)\n",
        "\n",
        "plt.figure(figsize=(12, 12))\n",
        "plt.subplot(1, 2, 1)\n",
        "plt.plot(epochs_range, acc, label='Training Accuracy')\n",
        "plt.plot(epochs_range, val_acc, label='Validation Accuracy')\n",
        "plt.legend(loc='lower right')\n",
        "plt.title('Training and Validation Accuracy')\n",
        "\n",
        "plt.subplot(1, 2, 2)\n",
        "plt.plot(epochs_range, loss, label='Training Loss')\n",
        "plt.plot(epochs_range, val_loss, label='Validation Loss')\n",
        "plt.legend(loc='upper right')\n",
        "plt.title('Training and Validation Loss')\n",
        "plt.show()"
      ],
      "execution_count": 75,
      "outputs": [
        {
          "output_type": "display_data",
          "data": {
            "image/png": "[encoded data removed]",
            "text/plain": [
              "<Figure size 864x864 with 2 Axes>"
            ]
          },
          "metadata": {
            "tags": [],
            "needs_background": "light"
          }
        }
      ]
    },
    {
      "cell_type": "markdown",
      "metadata": {
        "id": "JvPphJYuSZhK"
      },
      "source": [
        "#### Todo: Write your findings after the model fit, see if there is an evidence of model overfit or underfit"
      ]
    },
    {
      "cell_type": "markdown",
      "metadata": {
        "id": "xnUDGgTO4M1i"
      },
      "source": [
        "###Observation\r\n",
        "\r\n",
        "At the end of 20 epochs , the model training has been completed and the training accuracy is very *high*.In general ,This is more likely due to careful control of the conditions in which the data was captured or some augmentation of the images rather than the model itself being particularly good, as it has not been **optimised**.\r\n"
      ]
    },
    {
      "cell_type": "code",
      "metadata": {
        "id": "nphwpmhk63Km",
        "colab": {
          "base_uri": "https://localhost:8080/"
        },
        "outputId": "a0af351e-4a59-477d-dda3-58afdfc806e2"
      },
      "source": [
        "## Let's evaluate the model on the test data\r\n",
        "history_test_model=model.evaluate(test_ds)"
      ],
      "execution_count": 76,
      "outputs": [
        {
          "output_type": "stream",
          "text": [
            "4/4 [==============================] - 4s 14ms/step - loss: 6.0010 - accuracy: 0.3051\n"
          ],
          "name": "stdout"
        }
      ]
    },
    {
      "cell_type": "code",
      "metadata": {
        "colab": {
          "base_uri": "https://localhost:8080/"
        },
        "id": "0sLWXX-ANzdA",
        "outputId": "1203d3b1-6eff-4a14-8498-84ba3da6d9c5"
      },
      "source": [
        "## Model summary on the performance train, validation and test set\r\n",
        "print('Model summary')\r\n",
        "print('-----------------------------------------------------------------')\r\n",
        "print('Train accuracy on epoch',epochs,'is',str(100*(acc[epochs-1]))+'%')\r\n",
        "print('Validation accuracy on epoch',epochs,'is',str(100*(val_acc[epochs-1]))+'%')\r\n",
        "print('Test accuracy: ', str(100*history_test_model[1])+'%')"
      ],
      "execution_count": 77,
      "outputs": [
        {
          "output_type": "stream",
          "text": [
            "Model summary\n",
            "-----------------------------------------------------------------\n",
            "Train accuracy on epoch 20 is 85.71428656578064%\n",
            "Validation accuracy on epoch 20 is 75.3915011882782%\n",
            "Test accuracy:  30.50847351551056%\n"
          ],
          "name": "stdout"
        }
      ]
    },
    {
      "cell_type": "markdown",
      "metadata": {
        "id": "E6yU8NcaQnGj"
      },
      "source": [
        "### Observation\r\n",
        "\r\n",
        "The model performs well on the training data. However , the accuracy for the validation set has stopped improving from epoch 15 and similary the loss remains almost same since epoch 10 in the validation set. The model performs very poorly with the test set. We can conclude that the model is overfitting"
      ]
    },
    {
      "cell_type": "markdown",
      "metadata": {
        "id": "3vRTPbJEn-pX"
      },
      "source": [
        "### Write your findings here"
      ]
    },
    {
      "cell_type": "code",
      "metadata": {
        "id": "22hljAl6GykA"
      },
      "source": [
        "# Todo, after you have analysed the model fit history for presence of underfit or overfit, choose an appropriate data augumentation strategy. \n",
        "# Your code goes here\n"
      ],
      "execution_count": 24,
      "outputs": []
    },
    {
      "cell_type": "code",
      "metadata": {
        "id": "XEjPWh8GG0C7"
      },
      "source": [
        "# Todo, visualize how your augmentation strategy works for one instance of training image.\n",
        "# Your code goes here"
      ],
      "execution_count": 25,
      "outputs": []
    },
    {
      "cell_type": "markdown",
      "metadata": {
        "id": "XhKDHlUdTuSX"
      },
      "source": [
        "### Todo:\n",
        "### Create the model, compile and train the model\n"
      ]
    },
    {
      "cell_type": "code",
      "metadata": {
        "id": "n907nlN0czWq"
      },
      "source": [
        "def drop_out_layers(rate):\r\n",
        "   return [tf.keras.layers.Dropout(rate)]"
      ],
      "execution_count": 26,
      "outputs": []
    },
    {
      "cell_type": "code",
      "metadata": {
        "id": "W3V4l-O9G3dM"
      },
      "source": [
        "## You can use Dropout layer if there is an evidence of overfitting in your findings\r\n",
        "## Your code goes here\r\n",
        "core_layers = \\\r\n",
        "    conv_2d_pooling_layers(16, number_colour_layers) + \\\r\n",
        "    drop_out_layers(0.4)+ \\\r\n",
        "    conv_2d_pooling_layers(32, number_colour_layers) + \\\r\n",
        "    drop_out_layers(0.4)+ \\\r\n",
        "    conv_2d_pooling_layers(64, number_colour_layers) + \\\r\n",
        "    drop_out_layers(0.4)\r\n",
        "\r\n",
        "\r\n",
        "\r\n",
        "dense_layers = [\r\n",
        "    tf.keras.layers.Flatten(),\r\n",
        "    tf.keras.layers.Dense(128, activation='relu'),\r\n",
        "    tf.keras.layers.Dropout(0.2),\r\n",
        "    tf.keras.layers.Dense(number_classes)\r\n",
        "]\r\n",
        "\r\n",
        "model = tf.keras.Sequential(\r\n",
        "    preprocessing_layers +\r\n",
        "    core_layers +\r\n",
        "    dense_layers\r\n",
        ")"
      ],
      "execution_count": 27,
      "outputs": []
    },
    {
      "cell_type": "markdown",
      "metadata": {
        "id": "FfUWFp96UIAN"
      },
      "source": [
        "### Compiling the model"
      ]
    },
    {
      "cell_type": "code",
      "metadata": {
        "id": "_-7yTm8IG8zR"
      },
      "source": [
        "## Your code goes here\r\n",
        "loss = tf.keras.losses.CategoricalCrossentropy(from_logits=True)\r\n",
        "model.compile(optimizer='adam',\r\n",
        "              loss=loss,\r\n",
        "              metrics=['accuracy'])\r\n"
      ],
      "execution_count": 28,
      "outputs": []
    },
    {
      "cell_type": "code",
      "metadata": {
        "colab": {
          "base_uri": "https://localhost:8080/"
        },
        "id": "gD6NLpGbcaSO",
        "outputId": "aca5723d-436d-4fbb-dbcb-f0dd7976b562"
      },
      "source": [
        "# View the summary of all layers\r\n",
        "model.summary()"
      ],
      "execution_count": 29,
      "outputs": [
        {
          "output_type": "stream",
          "text": [
            "Model: \"sequential_1\"\n",
            "_________________________________________________________________\n",
            "Layer (type)                 Output Shape              Param #   \n",
            "=================================================================\n",
            "rescaling (Rescaling)        (None, 180, 180, 3)       0         \n",
            "_________________________________________________________________\n",
            "conv2d_3 (Conv2D)            (None, 180, 180, 16)      448       \n",
            "_________________________________________________________________\n",
            "max_pooling2d_3 (MaxPooling2 (None, 90, 90, 16)        0         \n",
            "_________________________________________________________________\n",
            "dropout (Dropout)            (None, 90, 90, 16)        0         \n",
            "_________________________________________________________________\n",
            "conv2d_4 (Conv2D)            (None, 90, 90, 32)        4640      \n",
            "_________________________________________________________________\n",
            "max_pooling2d_4 (MaxPooling2 (None, 45, 45, 32)        0         \n",
            "_________________________________________________________________\n",
            "dropout_1 (Dropout)          (None, 45, 45, 32)        0         \n",
            "_________________________________________________________________\n",
            "conv2d_5 (Conv2D)            (None, 45, 45, 64)        18496     \n",
            "_________________________________________________________________\n",
            "max_pooling2d_5 (MaxPooling2 (None, 22, 22, 64)        0         \n",
            "_________________________________________________________________\n",
            "dropout_2 (Dropout)          (None, 22, 22, 64)        0         \n",
            "_________________________________________________________________\n",
            "flatten_1 (Flatten)          (None, 30976)             0         \n",
            "_________________________________________________________________\n",
            "dense_2 (Dense)              (None, 128)               3965056   \n",
            "_________________________________________________________________\n",
            "dropout_3 (Dropout)          (None, 128)               0         \n",
            "_________________________________________________________________\n",
            "dense_3 (Dense)              (None, 9)                 1161      \n",
            "=================================================================\n",
            "Total params: 3,989,801\n",
            "Trainable params: 3,989,801\n",
            "Non-trainable params: 0\n",
            "_________________________________________________________________\n"
          ],
          "name": "stdout"
        }
      ]
    },
    {
      "cell_type": "markdown",
      "metadata": {
        "id": "kC-D_RWOURp6"
      },
      "source": [
        "### Training the model"
      ]
    },
    {
      "cell_type": "code",
      "metadata": {
        "id": "UcPfkUASHBf9",
        "colab": {
          "base_uri": "https://localhost:8080/"
        },
        "outputId": "17e603f4-43c0-468a-b995-1cd7cd9a8219"
      },
      "source": [
        "## Your code goes here, note: train your model for 20 epochs\n",
        "epochs = 20\n",
        "history = model.fit(\n",
        "  train_ds,\n",
        "  validation_data=val_ds,\n",
        "  epochs=epochs\n",
        ")"
      ],
      "execution_count": 30,
      "outputs": [
        {
          "output_type": "stream",
          "text": [
            "Epoch 1/20\n",
            "56/56 [==============================] - 2s 24ms/step - loss: 4.1519 - accuracy: 0.1638 - val_loss: 2.2805 - val_accuracy: 0.0984\n",
            "Epoch 2/20\n",
            "56/56 [==============================] - 1s 22ms/step - loss: 2.0667 - accuracy: 0.1786 - val_loss: 2.3056 - val_accuracy: 0.0313\n",
            "Epoch 3/20\n",
            "56/56 [==============================] - 1s 21ms/step - loss: 2.0348 - accuracy: 0.2074 - val_loss: 2.3463 - val_accuracy: 0.0403\n",
            "Epoch 4/20\n",
            "56/56 [==============================] - 1s 21ms/step - loss: 2.0032 - accuracy: 0.2443 - val_loss: 2.4302 - val_accuracy: 0.0447\n",
            "Epoch 5/20\n",
            "56/56 [==============================] - 1s 21ms/step - loss: 1.9509 - accuracy: 0.2869 - val_loss: 2.3421 - val_accuracy: 0.0761\n",
            "Epoch 6/20\n",
            "56/56 [==============================] - 1s 21ms/step - loss: 1.8173 - accuracy: 0.3414 - val_loss: 2.3680 - val_accuracy: 0.0246\n",
            "Epoch 7/20\n",
            "56/56 [==============================] - 1s 21ms/step - loss: 1.8034 - accuracy: 0.3510 - val_loss: 2.2975 - val_accuracy: 0.0850\n",
            "Epoch 8/20\n",
            "56/56 [==============================] - 1s 21ms/step - loss: 1.6614 - accuracy: 0.3683 - val_loss: 2.2425 - val_accuracy: 0.0828\n",
            "Epoch 9/20\n",
            "56/56 [==============================] - 1s 21ms/step - loss: 1.7323 - accuracy: 0.3645 - val_loss: 2.2265 - val_accuracy: 0.1051\n",
            "Epoch 10/20\n",
            "56/56 [==============================] - 1s 21ms/step - loss: 1.6478 - accuracy: 0.4090 - val_loss: 2.1880 - val_accuracy: 0.0626\n",
            "Epoch 11/20\n",
            "56/56 [==============================] - 1s 21ms/step - loss: 1.6265 - accuracy: 0.4088 - val_loss: 2.2019 - val_accuracy: 0.0850\n",
            "Epoch 12/20\n",
            "56/56 [==============================] - 1s 21ms/step - loss: 1.5791 - accuracy: 0.4300 - val_loss: 2.0360 - val_accuracy: 0.0984\n",
            "Epoch 13/20\n",
            "56/56 [==============================] - 1s 21ms/step - loss: 1.6260 - accuracy: 0.4242 - val_loss: 2.1597 - val_accuracy: 0.0872\n",
            "Epoch 14/20\n",
            "56/56 [==============================] - 1s 21ms/step - loss: 1.5753 - accuracy: 0.4253 - val_loss: 2.0188 - val_accuracy: 0.1387\n",
            "Epoch 15/20\n",
            "56/56 [==============================] - 1s 21ms/step - loss: 1.5406 - accuracy: 0.4477 - val_loss: 1.9908 - val_accuracy: 0.0962\n",
            "Epoch 16/20\n",
            "56/56 [==============================] - 1s 21ms/step - loss: 1.5090 - accuracy: 0.4913 - val_loss: 1.9884 - val_accuracy: 0.1655\n",
            "Epoch 17/20\n",
            "56/56 [==============================] - 1s 21ms/step - loss: 1.4384 - accuracy: 0.4850 - val_loss: 1.9948 - val_accuracy: 0.1991\n",
            "Epoch 18/20\n",
            "56/56 [==============================] - 1s 21ms/step - loss: 1.3805 - accuracy: 0.5220 - val_loss: 1.9410 - val_accuracy: 0.2148\n",
            "Epoch 19/20\n",
            "56/56 [==============================] - 1s 22ms/step - loss: 1.3438 - accuracy: 0.5415 - val_loss: 1.8681 - val_accuracy: 0.2058\n",
            "Epoch 20/20\n",
            "56/56 [==============================] - 1s 21ms/step - loss: 1.3371 - accuracy: 0.5309 - val_loss: 1.7553 - val_accuracy: 0.3020\n"
          ],
          "name": "stdout"
        }
      ]
    },
    {
      "cell_type": "markdown",
      "metadata": {
        "id": "IhNOKtSyUYzC"
      },
      "source": [
        "### Visualizing the results"
      ]
    },
    {
      "cell_type": "code",
      "metadata": {
        "id": "vjN_F4QxHIsh",
        "colab": {
          "base_uri": "https://localhost:8080/",
          "height": 499
        },
        "outputId": "0f7dc37f-47f1-4d3e-cd02-81d9d4a8e96a"
      },
      "source": [
        "acc = history.history['accuracy']\n",
        "val_acc = history.history['val_accuracy']\n",
        "\n",
        "loss = history.history['loss']\n",
        "val_loss = history.history['val_loss']\n",
        "\n",
        "epochs_range = range(epochs)\n",
        "\n",
        "plt.figure(figsize=(8, 8))\n",
        "plt.subplot(1, 2, 1)\n",
        "plt.plot(epochs_range, acc, label='Training Accuracy')\n",
        "plt.plot(epochs_range, val_acc, label='Validation Accuracy')\n",
        "plt.legend(loc='lower right')\n",
        "plt.title('Training and Validation Accuracy')\n",
        "\n",
        "plt.subplot(1, 2, 2)\n",
        "plt.plot(epochs_range, loss, label='Training Loss')\n",
        "plt.plot(epochs_range, val_loss, label='Validation Loss')\n",
        "plt.legend(loc='upper right')\n",
        "plt.title('Training and Validation Loss')\n",
        "plt.show()"
      ],
      "execution_count": 31,
      "outputs": [
        {
          "output_type": "display_data",
          "data": {
            "image/png": "[encoded data removed]",
            "text/plain": [
              "<Figure size 576x576 with 2 Axes>"
            ]
          },
          "metadata": {
            "tags": [],
            "needs_background": "light"
          }
        }
      ]
    },
    {
      "cell_type": "code",
      "metadata": {
        "colab": {
          "base_uri": "https://localhost:8080/"
        },
        "id": "Rm19_Dz_eXnv",
        "outputId": "60531199-b31f-4484-e116-4b8a5e226a2a"
      },
      "source": [
        "## Let's evaluate the model on the test data\r\n",
        "history_test_model=model.evaluate(test_ds)"
      ],
      "execution_count": 32,
      "outputs": [
        {
          "output_type": "stream",
          "text": [
            "4/4 [==============================] - 4s 14ms/step - loss: 2.0595 - accuracy: 0.3220\n"
          ],
          "name": "stdout"
        }
      ]
    },
    {
      "cell_type": "code",
      "metadata": {
        "colab": {
          "base_uri": "https://localhost:8080/"
        },
        "id": "PfxWIWgheXl2",
        "outputId": "55c2d62e-8fe9-43d5-fff0-6939a15b488f"
      },
      "source": [
        "## Model summary on the performance train, validation and test set\r\n",
        "print('Model summary after adding the Dense layer')\r\n",
        "print('-----------------------------------------------------------------')\r\n",
        "print('Train accuracy on epoch',epochs,'is',str(100*(acc[epochs-1]))+'%')\r\n",
        "print('Validation accuracy on epoch',epochs,'is',str(100*(val_acc[epochs-1]))+'%')\r\n",
        "print('Test accuracy: ', str(100*history_test_model[1])+'%')"
      ],
      "execution_count": 33,
      "outputs": [
        {
          "output_type": "stream",
          "text": [
            "Model summary after adding the Dense layer\n",
            "-----------------------------------------------------------------\n",
            "Train accuracy on epoch 20 is 52.34375%\n",
            "Validation accuracy on epoch 20 is 30.201342701911926%\n",
            "Test accuracy:  32.20339119434357%\n"
          ],
          "name": "stdout"
        }
      ]
    },
    {
      "cell_type": "markdown",
      "metadata": {
        "id": "0-AUR_b7UcaK"
      },
      "source": [
        "#### Todo: Write your findings after the model fit, see if there is an evidence of model overfit or underfit. Do you think there is some improvement now as compared to the previous model run?"
      ]
    },
    {
      "cell_type": "markdown",
      "metadata": {
        "id": "7TdDi4u-VTkW"
      },
      "source": [
        "#### **Todo:** Find the distribution of classes in the training dataset.\n",
        "#### **Context:** Many times real life datasets can have class imbalance, one class can have proportionately higher number of samples compared to the others. Class imbalance can have a detrimental effect on the final model quality. Hence as a sanity check it becomes important to check what is the distribution of classes in the data."
      ]
    },
    {
      "cell_type": "code",
      "metadata": {
        "id": "HAhwYgtTQRzq",
        "colab": {
          "base_uri": "https://localhost:8080/"
        },
        "outputId": "866f9f82-e21d-4b29-ce9a-f04d2166e58c"
      },
      "source": [
        "## Your code goes here.\r\n",
        "\r\n",
        "print(x_train_ds.class_names)"
      ],
      "execution_count": 34,
      "outputs": [
        {
          "output_type": "stream",
          "text": [
            "['actinic keratosis', 'basal cell carcinoma', 'dermatofibroma', 'melanoma', 'nevus', 'pigmented benign keratosis', 'seborrheic keratosis', 'squamous cell carcinoma', 'vascular lesion']\n"
          ],
          "name": "stdout"
        }
      ]
    },
    {
      "cell_type": "markdown",
      "metadata": {
        "id": "4csQL1dvO0b2"
      },
      "source": [
        "#### **Todo:** Write your findings here: \n",
        "#### - Which class has the least number of samples?\n",
        "#### - Which classes dominate the data in terms proportionate number of samples?\n"
      ]
    },
    {
      "cell_type": "markdown",
      "metadata": {
        "id": "Hb-stKyHPf8v"
      },
      "source": [
        "#### **Todo:** Rectify the class imbalance\n",
        "#### **Context:** You can use a python package known as `Augmentor` (https://augmentor.readthedocs.io/en/master/) to add more samples across all classes so that none of the classes have very few samples."
      ]
    },
    {
      "cell_type": "code",
      "metadata": {
        "id": "ItAg4rU-SzJh",
        "colab": {
          "base_uri": "https://localhost:8080/"
        },
        "outputId": "89ae69db-42ff-4842-bce4-688125e3734b"
      },
      "source": [
        "!pip install Augmentor"
      ],
      "execution_count": 35,
      "outputs": [
        {
          "output_type": "stream",
          "text": [
            "Collecting Augmentor\n",
            "  Downloading https://files.pythonhosted.org/packages/cb/79/861f38d5830cff631e30e33b127076bfef8ac98171e51daa06df0118c75f/Augmentor-0.2.8-py2.py3-none-any.whl\n",
            "Requirement already satisfied: numpy>=1.11.0 in /usr/local/lib/python3.6/dist-packages (from Augmentor) (1.19.5)\n",
            "Requirement already satisfied: tqdm>=4.9.0 in /usr/local/lib/python3.6/dist-packages (from Augmentor) (4.41.1)\n",
            "Requirement already satisfied: Pillow>=5.2.0 in /usr/local/lib/python3.6/dist-packages (from Augmentor) (7.0.0)\n",
            "Requirement already satisfied: future>=0.16.0 in /usr/local/lib/python3.6/dist-packages (from Augmentor) (0.16.0)\n",
            "Installing collected packages: Augmentor\n",
            "Successfully installed Augmentor-0.2.8\n"
          ],
          "name": "stdout"
        }
      ]
    },
    {
      "cell_type": "markdown",
      "metadata": {
        "id": "BZKzTe3zWL4O"
      },
      "source": [
        "To use `Augmentor`, the following general procedure is followed:\n",
        "\n",
        "1. Instantiate a `Pipeline` object pointing to a directory containing your initial image data set.<br>\n",
        "2. Define a number of operations to perform on this data set using your `Pipeline` object.<br>\n",
        "3. Execute these operations by calling the `Pipeline’s` `sample()` method.\n"
      ]
    },
    {
      "cell_type": "code",
      "metadata": {
        "colab": {
          "base_uri": "https://localhost:8080/"
        },
        "id": "9Egt9EHjR-Dd",
        "outputId": "5e593ec7-a0c5-43e6-89f7-b6f0008d54b5"
      },
      "source": [
        "path_to_training_dataset=str(data_dir_train)\n",
        "import Augmentor\n",
        "for i in class_names:\n",
        "    p = Augmentor.Pipeline(path_to_training_dataset+'/' + i)\n",
        "    p.rotate(probability=0.7, max_left_rotation=10, max_right_rotation=10)\n",
        "    p.sample(500) ## We are adding 500 samples per class to make sure that none of the classes are sparse."
      ],
      "execution_count": 36,
      "outputs": [
        {
          "output_type": "stream",
          "text": [
            "\rExecuting Pipeline:   0%|          | 0/500 [00:00<?, ? Samples/s]"
          ],
          "name": "stderr"
        },
        {
          "output_type": "stream",
          "text": [
            "Initialised with 114 image(s) found.\n",
            "Output directory set to /content/CNN_assignment/Skin cancer ISIC The International Skin Imaging Collaboration/Train/actinic keratosis/output."
          ],
          "name": "stdout"
        },
        {
          "output_type": "stream",
          "text": [
            "Processing <PIL.JpegImagePlugin.JpegImageFile image mode=RGB size=600x450 at 0x7F565009C828>: 100%|██████████| 500/500 [00:15<00:00, 32.49 Samples/s]\n",
            "Executing Pipeline:   0%|          | 0/500 [00:00<?, ? Samples/s]"
          ],
          "name": "stderr"
        },
        {
          "output_type": "stream",
          "text": [
            "Initialised with 376 image(s) found.\n",
            "Output directory set to /content/CNN_assignment/Skin cancer ISIC The International Skin Imaging Collaboration/Train/basal cell carcinoma/output."
          ],
          "name": "stdout"
        },
        {
          "output_type": "stream",
          "text": [
            "Processing <PIL.Image.Image image mode=RGB size=600x450 at 0x7F56500B7588>: 100%|██████████| 500/500 [00:15<00:00, 32.35 Samples/s]\n",
            "Executing Pipeline:   0%|          | 0/500 [00:00<?, ? Samples/s]"
          ],
          "name": "stderr"
        },
        {
          "output_type": "stream",
          "text": [
            "Initialised with 95 image(s) found.\n",
            "Output directory set to /content/CNN_assignment/Skin cancer ISIC The International Skin Imaging Collaboration/Train/dermatofibroma/output."
          ],
          "name": "stdout"
        },
        {
          "output_type": "stream",
          "text": [
            "Processing <PIL.Image.Image image mode=RGB size=600x450 at 0x7F5650224898>: 100%|██████████| 500/500 [00:16<00:00, 30.62 Samples/s]\n",
            "Executing Pipeline:   0%|          | 0/500 [00:00<?, ? Samples/s]"
          ],
          "name": "stderr"
        },
        {
          "output_type": "stream",
          "text": [
            "Initialised with 438 image(s) found.\n",
            "Output directory set to /content/CNN_assignment/Skin cancer ISIC The International Skin Imaging Collaboration/Train/melanoma/output."
          ],
          "name": "stdout"
        },
        {
          "output_type": "stream",
          "text": [
            "Processing <PIL.Image.Image image mode=RGB size=1024x768 at 0x7F56504406D8>: 100%|██████████| 500/500 [01:19<00:00,  6.25 Samples/s]\n",
            "Processing <PIL.Image.Image image mode=RGB size=600x450 at 0x7F56A72C0470>:   0%|          | 1/500 [00:00<01:20,  6.21 Samples/s]"
          ],
          "name": "stderr"
        },
        {
          "output_type": "stream",
          "text": [
            "Initialised with 357 image(s) found.\n",
            "Output directory set to /content/CNN_assignment/Skin cancer ISIC The International Skin Imaging Collaboration/Train/nevus/output."
          ],
          "name": "stdout"
        },
        {
          "output_type": "stream",
          "text": [
            "Processing <PIL.Image.Image image mode=RGB size=919x802 at 0x7F56502FA550>: 100%|██████████| 500/500 [01:23<00:00,  6.01 Samples/s]\n",
            "Processing <PIL.JpegImagePlugin.JpegImageFile image mode=RGB size=600x450 at 0x7F56901AE240>:   0%|          | 0/500 [00:00<?, ? Samples/s]"
          ],
          "name": "stderr"
        },
        {
          "output_type": "stream",
          "text": [
            "Initialised with 462 image(s) found.\n",
            "Output directory set to /content/CNN_assignment/Skin cancer ISIC The International Skin Imaging Collaboration/Train/pigmented benign keratosis/output."
          ],
          "name": "stdout"
        },
        {
          "output_type": "stream",
          "text": [
            "Processing <PIL.Image.Image image mode=RGB size=600x450 at 0x7F565031E978>: 100%|██████████| 500/500 [00:15<00:00, 31.65 Samples/s]\n",
            "Executing Pipeline:   0%|          | 0/500 [00:00<?, ? Samples/s]"
          ],
          "name": "stderr"
        },
        {
          "output_type": "stream",
          "text": [
            "Initialised with 77 image(s) found.\n",
            "Output directory set to /content/CNN_assignment/Skin cancer ISIC The International Skin Imaging Collaboration/Train/seborrheic keratosis/output."
          ],
          "name": "stdout"
        },
        {
          "output_type": "stream",
          "text": [
            "Processing <PIL.Image.Image image mode=RGB size=1024x768 at 0x7F56A7351080>: 100%|██████████| 500/500 [00:37<00:00, 13.26 Samples/s]\n",
            "Executing Pipeline:   0%|          | 0/500 [00:00<?, ? Samples/s]"
          ],
          "name": "stderr"
        },
        {
          "output_type": "stream",
          "text": [
            "Initialised with 181 image(s) found.\n",
            "Output directory set to /content/CNN_assignment/Skin cancer ISIC The International Skin Imaging Collaboration/Train/squamous cell carcinoma/output."
          ],
          "name": "stdout"
        },
        {
          "output_type": "stream",
          "text": [
            "Processing <PIL.Image.Image image mode=RGB size=600x450 at 0x7F56B21DCE48>: 100%|██████████| 500/500 [00:15<00:00, 31.83 Samples/s]\n",
            "Executing Pipeline:   0%|          | 0/500 [00:00<?, ? Samples/s]"
          ],
          "name": "stderr"
        },
        {
          "output_type": "stream",
          "text": [
            "Initialised with 139 image(s) found.\n",
            "Output directory set to /content/CNN_assignment/Skin cancer ISIC The International Skin Imaging Collaboration/Train/vascular lesion/output."
          ],
          "name": "stdout"
        },
        {
          "output_type": "stream",
          "text": [
            "Processing <PIL.Image.Image image mode=RGB size=600x450 at 0x7F56501C4E80>: 100%|██████████| 500/500 [00:16<00:00, 30.88 Samples/s]\n"
          ],
          "name": "stderr"
        }
      ]
    },
    {
      "cell_type": "markdown",
      "metadata": {
        "id": "CcBIFZGbWuFa"
      },
      "source": [
        "Augmentor has stored the augmented images in the output sub-directory of each of the sub-directories of skin cancer types.. Lets take a look at total count of augmented images."
      ]
    },
    {
      "cell_type": "code",
      "metadata": {
        "colab": {
          "base_uri": "https://localhost:8080/"
        },
        "id": "jxWcMqZhdRWz",
        "outputId": "f846bf40-a8cc-47d2-cede-81306f4f3e20"
      },
      "source": [
        "from glob import glob\n",
        "image_count_train = len(list(data_dir_train.glob('*/output/*.jpg')))\n",
        "print(image_count_train)"
      ],
      "execution_count": 37,
      "outputs": [
        {
          "output_type": "stream",
          "text": [
            "4500\n"
          ],
          "name": "stdout"
        }
      ]
    },
    {
      "cell_type": "markdown",
      "metadata": {
        "id": "IJ5KarKq4kWJ"
      },
      "source": [
        "### Lets see the distribution of augmented data after adding new images to the original training data."
      ]
    },
    {
      "cell_type": "code",
      "metadata": {
        "id": "6tODrYIY2nxJ",
        "colab": {
          "base_uri": "https://localhost:8080/"
        },
        "outputId": "1d1c0c2a-70de-4057-bf50-53dc24674af3"
      },
      "source": [
        "path_list = [x for x in glob(os.path.join(data_dir_train, '*','output', '*.jpg'))]\n",
        "path_list_new=path_list\n",
        "path_list"
      ],
      "execution_count": 38,
      "outputs": [
        {
          "output_type": "execute_result",
          "data": {
            "text/plain": [
              "['/content/CNN_assignment/Skin cancer ISIC The International Skin Imaging Collaboration/Train/dermatofibroma/output/dermatofibroma_original_ISIC_0031271.jpg_68cece17-59b5-4626-8529-84ae9a2c96de.jpg',\n",
              " '/content/CNN_assignment/Skin cancer ISIC The International Skin Imaging Collaboration/Train/dermatofibroma/output/dermatofibroma_original_ISIC_0027488.jpg_8e4e3b4a-8f95-4c96-8e08-32c27a3c1693.jpg',\n",
              " '/content/CNN_assignment/Skin cancer ISIC The International Skin Imaging Collaboration/Train/dermatofibroma/output/dermatofibroma_original_ISIC_0030015.jpg_499af732-479a-431f-9ab7-3e1e57b709b1.jpg',\n",
              " '/content/CNN_assignment/Skin cancer ISIC The International Skin Imaging Collaboration/Train/dermatofibroma/output/dermatofibroma_original_ISIC_0032941.jpg_15ec6be6-2c64-4c01-85d9-43cd8006b080.jpg',\n",
              " '/content/CNN_assignment/Skin cancer ISIC The International Skin Imaging Collaboration/Train/dermatofibroma/output/dermatofibroma_original_ISIC_0033790.jpg_40c7fc20-1e5a-4da9-be99-05d17619a5b5.jpg',\n",
              " '/content/CNN_assignment/Skin cancer ISIC The International Skin Imaging Collaboration/Train/dermatofibroma/output/dermatofibroma_original_ISIC_0033810.jpg_1f2c35d7-43b4-4277-bbae-0b2d1797706a.jpg',\n",
              " '/content/CNN_assignment/Skin cancer ISIC The International Skin Imaging Collaboration/Train/dermatofibroma/output/dermatofibroma_original_ISIC_0033808.jpg_a7ef99e8-c6b8-41c4-aac7-943b5e22e357.jpg',\n",
              " '/content/CNN_assignment/Skin cancer ISIC The International Skin Imaging Collaboration/Train/dermatofibroma/output/dermatofibroma_original_ISIC_0033554.jpg_caa05479-8ad0-404b-8163-c90f186074af.jpg',\n",
              " '/content/CNN_assignment/Skin cancer ISIC The International Skin Imaging Collaboration/Train/dermatofibroma/output/dermatofibroma_original_ISIC_0029967.jpg_66156b46-9225-474a-9a44-8db4d1c0c8a4.jpg',\n",
              " '/content/CNN_assignment/Skin cancer ISIC The International Skin Imaging Collaboration/Train/dermatofibroma/output/dermatofibroma_original_ISIC_0027648.jpg_c828f76a-4778-422d-9797-fab09907bea9.jpg',\n",
              " '/content/CNN_assignment/Skin cancer ISIC The International Skin Imaging Collaboration/Train/dermatofibroma/output/dermatofibroma_original_ISIC_0030021.jpg_2d4c54dc-eb56-4927-80e8-1586259a4acc.jpg',\n",
              " '/content/CNN_assignment/Skin cancer ISIC The International Skin Imaging Collaboration/Train/dermatofibroma/output/dermatofibroma_original_ISIC_0031257.jpg_39a77985-a2a6-44a3-9f91-4d45a8d2d17c.jpg',\n",
              " '/content/CNN_assignment/Skin cancer ISIC The International Skin Imaging Collaboration/Train/dermatofibroma/output/dermatofibroma_original_ISIC_0025903.jpg_9a4022d1-9c21-48fb-afb9-68df608f93f6.jpg',\n",
              " '/content/CNN_assignment/Skin cancer ISIC The International Skin Imaging Collaboration/Train/dermatofibroma/output/dermatofibroma_original_ISIC_0031257.jpg_4113c633-2f5d-4f47-8acf-18118ddc5376.jpg',\n",
              " '/content/CNN_assignment/Skin cancer ISIC The International Skin Imaging Collaboration/Train/dermatofibroma/output/dermatofibroma_original_ISIC_0028651.jpg_95117d95-53e6-4e8a-a5b5-0e158a066a06.jpg',\n",
              " '/content/CNN_assignment/Skin cancer ISIC The International Skin Imaging Collaboration/Train/dermatofibroma/output/dermatofibroma_original_ISIC_0028651.jpg_6da01e00-a0db-4d16-bfe6-03890a1eb234.jpg',\n",
              " '/content/CNN_assignment/Skin cancer ISIC The International Skin Imaging Collaboration/Train/dermatofibroma/output/dermatofibroma_original_ISIC_0033790.jpg_c043796e-dc48-40d8-87be-2cb6d5d65920.jpg',\n",
              " '/content/CNN_assignment/Skin cancer ISIC The International Skin Imaging Collaboration/Train/dermatofibroma/output/dermatofibroma_original_ISIC_0026471.jpg_e9192138-b582-400b-a633-8688d82efe4e.jpg',\n",
              " '/content/CNN_assignment/Skin cancer ISIC The International Skin Imaging Collaboration/Train/dermatofibroma/output/dermatofibroma_original_ISIC_0029973.jpg_6d28d9e5-a080-46a3-8d47-e98efdf8be66.jpg',\n",
              " '/content/CNN_assignment/Skin cancer ISIC The International Skin Imaging Collaboration/Train/dermatofibroma/output/dermatofibroma_original_ISIC_0032613.jpg_37512aae-06b9-4262-8c28-c4c397e38417.jpg',\n",
              " '/content/CNN_assignment/Skin cancer ISIC The International Skin Imaging Collaboration/Train/dermatofibroma/output/dermatofibroma_original_ISIC_0030555.jpg_fce947d8-95c7-446a-8869-25b07698caf5.jpg',\n",
              " '/content/CNN_assignment/Skin cancer ISIC The International Skin Imaging Collaboration/Train/dermatofibroma/output/dermatofibroma_original_ISIC_0030021.jpg_ba226b45-d2fc-414e-adc5-680ca97011b7.jpg',\n",
              " '/content/CNN_assignment/Skin cancer ISIC The International Skin Imaging Collaboration/Train/dermatofibroma/output/dermatofibroma_original_ISIC_0031443.jpg_324ecb14-5f8d-4d99-a897-b690d0ac1e90.jpg',\n",
              " '/content/CNN_assignment/Skin cancer ISIC The International Skin Imaging Collaboration/Train/dermatofibroma/output/dermatofibroma_original_ISIC_0030021.jpg_62373117-9b9d-4c66-ada0-467d71ed1c2e.jpg',\n",
              " '/content/CNN_assignment/Skin cancer ISIC The International Skin Imaging Collaboration/Train/dermatofibroma/output/dermatofibroma_original_ISIC_0032468.jpg_ac3623fb-87ce-47be-984c-dd96fb755c7c.jpg',\n",
              " '/content/CNN_assignment/Skin cancer ISIC The International Skin Imaging Collaboration/Train/dermatofibroma/output/dermatofibroma_original_ISIC_0026313.jpg_a3bdb37b-bcfe-45cb-a23b-588c7502ea5d.jpg',\n",
              " '/content/CNN_assignment/Skin cancer ISIC The International Skin Imaging Collaboration/Train/dermatofibroma/output/dermatofibroma_original_ISIC_0029578.jpg_0ad1046e-f708-43e8-ae47-bbd0c3238e74.jpg',\n",
              " '/content/CNN_assignment/Skin cancer ISIC The International Skin Imaging Collaboration/Train/dermatofibroma/output/dermatofibroma_original_ISIC_0030011.jpg_3a981a3b-c155-41a3-a813-f1ec474074f8.jpg',\n",
              " '/content/CNN_assignment/Skin cancer ISIC The International Skin Imaging Collaboration/Train/dermatofibroma/output/dermatofibroma_original_ISIC_0031457.jpg_da9e1a3b-fc70-45b1-8950-e52caa979654.jpg',\n",
              " '/content/CNN_assignment/Skin cancer ISIC The International Skin Imaging Collaboration/Train/dermatofibroma/output/dermatofibroma_original_ISIC_0033780.jpg_86bf2578-199a-4fec-ae1b-f06307860112.jpg',\n",
              " '/content/CNN_assignment/Skin cancer ISIC The International Skin Imaging Collaboration/Train/dermatofibroma/output/dermatofibroma_original_ISIC_0033695.jpg_e529e3c8-7ecc-4eed-8100-fe1b5d0749aa.jpg',\n",
              " '/content/CNN_assignment/Skin cancer ISIC The International Skin Imaging Collaboration/Train/dermatofibroma/output/dermatofibroma_original_ISIC_0030555.jpg_a7d475c5-e268-43e9-82aa-1f1ff032276a.jpg',\n",
              " '/content/CNN_assignment/Skin cancer ISIC The International Skin Imaging Collaboration/Train/dermatofibroma/output/dermatofibroma_original_ISIC_0025771.jpg_09a79bd1-f19d-4722-9c1d-715f29a6d7a8.jpg',\n",
              " '/content/CNN_assignment/Skin cancer ISIC The International Skin Imaging Collaboration/Train/dermatofibroma/output/dermatofibroma_original_ISIC_0033847.jpg_d2ba1892-ad98-41e5-ad95-6707fbaf046b.jpg',\n",
              " '/content/CNN_assignment/Skin cancer ISIC The International Skin Imaging Collaboration/Train/dermatofibroma/output/dermatofibroma_original_ISIC_0031827.jpg_94977145-0792-4fc8-a684-0ceaf32adc2d.jpg',\n",
              " '/content/CNN_assignment/Skin cancer ISIC The International Skin Imaging Collaboration/Train/dermatofibroma/output/dermatofibroma_original_ISIC_0027488.jpg_657493df-04fc-468e-9307-ec6fa4762621.jpg',\n",
              " '/content/CNN_assignment/Skin cancer ISIC The International Skin Imaging Collaboration/Train/dermatofibroma/output/dermatofibroma_original_ISIC_0027598.jpg_24ead474-59c8-4f05-97f2-333594b12a49.jpg',\n",
              " '/content/CNN_assignment/Skin cancer ISIC The International Skin Imaging Collaboration/Train/dermatofibroma/output/dermatofibroma_original_ISIC_0029967.jpg_82fca0e1-894b-428f-a44c-68c944e162e7.jpg',\n",
              " '/content/CNN_assignment/Skin cancer ISIC The International Skin Imaging Collaboration/Train/dermatofibroma/output/dermatofibroma_original_ISIC_0028346.jpg_50678c8c-4cb4-4fb3-957b-ce8bd3d5c0d2.jpg',\n",
              " '/content/CNN_assignment/Skin cancer ISIC The International Skin Imaging Collaboration/Train/dermatofibroma/output/dermatofibroma_original_ISIC_0026254.jpg_a00c8840-891d-416b-a846-4a850dbe8503.jpg',\n",
              " '/content/CNN_assignment/Skin cancer ISIC The International Skin Imaging Collaboration/Train/dermatofibroma/output/dermatofibroma_original_ISIC_0027613.jpg_9892e3e5-937e-48c4-a919-91fad5318d22.jpg',\n",
              " '/content/CNN_assignment/Skin cancer ISIC The International Skin Imaging Collaboration/Train/dermatofibroma/output/dermatofibroma_original_ISIC_0031309.jpg_0a9f7088-21c2-4a7f-b995-de7074f8cf04.jpg',\n",
              " '/content/CNN_assignment/Skin cancer ISIC The International Skin Imaging Collaboration/Train/dermatofibroma/output/dermatofibroma_original_ISIC_0032138.jpg_435f83d0-e359-47f2-ab02-a663af10b252.jpg',\n",
              " '/content/CNN_assignment/Skin cancer ISIC The International Skin Imaging Collaboration/Train/dermatofibroma/output/dermatofibroma_original_ISIC_0031799.jpg_41faff50-378e-467a-ac2e-1e319183788a.jpg',\n",
              " '/content/CNN_assignment/Skin cancer ISIC The International Skin Imaging Collaboration/Train/dermatofibroma/output/dermatofibroma_original_ISIC_0032138.jpg_23d71fc3-e6e5-45eb-8807-43dd3690856b.jpg',\n",
              " '/content/CNN_assignment/Skin cancer ISIC The International Skin Imaging Collaboration/Train/dermatofibroma/output/dermatofibroma_original_ISIC_0030830.jpg_f5c0a10f-8928-4944-98a9-7784b6f64196.jpg',\n",
              " '/content/CNN_assignment/Skin cancer ISIC The International Skin Imaging Collaboration/Train/dermatofibroma/output/dermatofibroma_original_ISIC_0028880.jpg_ba3b599f-3f78-44d6-b5f8-8f0a604577e0.jpg',\n",
              " '/content/CNN_assignment/Skin cancer ISIC The International Skin Imaging Collaboration/Train/dermatofibroma/output/dermatofibroma_original_ISIC_0031429.jpg_3c45d4cd-b895-4762-8b1f-2f7b7c0f4608.jpg',\n",
              " '/content/CNN_assignment/Skin cancer ISIC The International Skin Imaging Collaboration/Train/dermatofibroma/output/dermatofibroma_original_ISIC_0029248.jpg_38950daf-2143-49c2-ba1e-1a798c88568e.jpg',\n",
              " '/content/CNN_assignment/Skin cancer ISIC The International Skin Imaging Collaboration/Train/dermatofibroma/output/dermatofibroma_original_ISIC_0030870.jpg_6e669a36-63d5-4b90-991c-c1035e7e6466.jpg',\n",
              " '/content/CNN_assignment/Skin cancer ISIC The International Skin Imaging Collaboration/Train/dermatofibroma/output/dermatofibroma_original_ISIC_0030321.jpg_941aa0c6-3594-4e96-bed8-ad0c384f741a.jpg',\n",
              " '/content/CNN_assignment/Skin cancer ISIC The International Skin Imaging Collaboration/Train/dermatofibroma/output/dermatofibroma_original_ISIC_0031735.jpg_a772b492-f2d6-4387-8e60-5bd0a113fec3.jpg',\n",
              " '/content/CNN_assignment/Skin cancer ISIC The International Skin Imaging Collaboration/Train/dermatofibroma/output/dermatofibroma_original_ISIC_0027745.jpg_2041e68e-95b4-4469-8497-0c0e77ceb243.jpg',\n",
              " '/content/CNN_assignment/Skin cancer ISIC The International Skin Imaging Collaboration/Train/dermatofibroma/output/dermatofibroma_original_ISIC_0028880.jpg_81f8d900-9a95-43d1-a308-94a4a1577ee0.jpg',\n",
              " '/content/CNN_assignment/Skin cancer ISIC The International Skin Imaging Collaboration/Train/dermatofibroma/output/dermatofibroma_original_ISIC_0030015.jpg_4e69e216-bf25-47e8-96c7-01126afe220f.jpg',\n",
              " '/content/CNN_assignment/Skin cancer ISIC The International Skin Imaging Collaboration/Train/dermatofibroma/output/dermatofibroma_original_ISIC_0030665.jpg_09c53a0b-2ba9-4e84-b32c-2cf0b54c389e.jpg',\n",
              " '/content/CNN_assignment/Skin cancer ISIC The International Skin Imaging Collaboration/Train/dermatofibroma/output/dermatofibroma_original_ISIC_0029962.jpg_d03484ae-a948-4525-a431-259866521281.jpg',\n",
              " '/content/CNN_assignment/Skin cancer ISIC The International Skin Imaging Collaboration/Train/dermatofibroma/output/dermatofibroma_original_ISIC_0032114.jpg_4b0c5d67-8cef-45c5-88c6-ebd86748c9a1.jpg',\n",
              " '/content/CNN_assignment/Skin cancer ISIC The International Skin Imaging Collaboration/Train/dermatofibroma/output/dermatofibroma_original_ISIC_0025314.jpg_cc947c13-e2fa-4546-812d-cf31d37d28c5.jpg',\n",
              " '/content/CNN_assignment/Skin cancer ISIC The International Skin Imaging Collaboration/Train/dermatofibroma/output/dermatofibroma_original_ISIC_0034135.jpg_97c7fd75-5e3a-4220-b4a9-5bdffe86658a.jpg',\n",
              " '/content/CNN_assignment/Skin cancer ISIC The International Skin Imaging Collaboration/Train/dermatofibroma/output/dermatofibroma_original_ISIC_0027044.jpg_a01ddf5b-6199-4db9-aed8-e78d007396aa.jpg',\n",
              " '/content/CNN_assignment/Skin cancer ISIC The International Skin Imaging Collaboration/Train/dermatofibroma/output/dermatofibroma_original_ISIC_0025911.jpg_c95601d9-4777-49a4-a0b6-1227cf6cf164.jpg',\n",
              " '/content/CNN_assignment/Skin cancer ISIC The International Skin Imaging Collaboration/Train/dermatofibroma/output/dermatofibroma_original_ISIC_0028346.jpg_7fa9bc05-64f2-41d5-8498-7d16c603aee4.jpg',\n",
              " '/content/CNN_assignment/Skin cancer ISIC The International Skin Imaging Collaboration/Train/dermatofibroma/output/dermatofibroma_original_ISIC_0030830.jpg_ed5d0883-e934-42b5-9180-7a5c8e8e3d0e.jpg',\n",
              " '/content/CNN_assignment/Skin cancer ISIC The International Skin Imaging Collaboration/Train/dermatofibroma/output/dermatofibroma_original_ISIC_0031457.jpg_20c6559b-12cf-4e69-a27a-8d8b7bd25662.jpg',\n",
              " '/content/CNN_assignment/Skin cancer ISIC The International Skin Imaging Collaboration/Train/dermatofibroma/output/dermatofibroma_original_ISIC_0031372.jpg_fb4ff8f3-1543-4053-bfcd-39e86c368460.jpg',\n",
              " '/content/CNN_assignment/Skin cancer ISIC The International Skin Imaging Collaboration/Train/dermatofibroma/output/dermatofibroma_original_ISIC_0032941.jpg_c8c96c7a-5612-4289-bae3-431da187d976.jpg',\n",
              " '/content/CNN_assignment/Skin cancer ISIC The International Skin Imaging Collaboration/Train/dermatofibroma/output/dermatofibroma_original_ISIC_0028790.jpg_959bffa9-7b0c-40db-9c47-cd96335f0c4c.jpg',\n",
              " '/content/CNN_assignment/Skin cancer ISIC The International Skin Imaging Collaboration/Train/dermatofibroma/output/dermatofibroma_original_ISIC_0027107.jpg_61b52b74-823e-4418-92e4-6d56290e9736.jpg',\n",
              " '/content/CNN_assignment/Skin cancer ISIC The International Skin Imaging Collaboration/Train/dermatofibroma/output/dermatofibroma_original_ISIC_0027613.jpg_e68832b0-d0dc-497d-a040-1e83b3736fea.jpg',\n",
              " '/content/CNN_assignment/Skin cancer ISIC The International Skin Imaging Collaboration/Train/dermatofibroma/output/dermatofibroma_original_ISIC_0031344.jpg_2fd160e9-f4e7-4531-82e0-5eb4bffefeaf.jpg',\n",
              " '/content/CNN_assignment/Skin cancer ISIC The International Skin Imaging Collaboration/Train/dermatofibroma/output/dermatofibroma_original_ISIC_0025903.jpg_8ee71d1d-2236-4927-b565-047933a79b70.jpg',\n",
              " '/content/CNN_assignment/Skin cancer ISIC The International Skin Imaging Collaboration/Train/dermatofibroma/output/dermatofibroma_original_ISIC_0033626.jpg_ee7ef7fd-d23a-4fdc-9ab4-5c1d368fe014.jpg',\n",
              " '/content/CNN_assignment/Skin cancer ISIC The International Skin Imaging Collaboration/Train/dermatofibroma/output/dermatofibroma_original_ISIC_0031271.jpg_581e6edd-f4e1-4559-a615-00cc7bea5f68.jpg',\n",
              " '/content/CNN_assignment/Skin cancer ISIC The International Skin Imaging Collaboration/Train/dermatofibroma/output/dermatofibroma_original_ISIC_0025903.jpg_e58d1fac-ce2a-4170-bbec-ebc3f233ab49.jpg',\n",
              " '/content/CNN_assignment/Skin cancer ISIC The International Skin Imaging Collaboration/Train/dermatofibroma/output/dermatofibroma_original_ISIC_0027626.jpg_3e1c43e8-c557-43df-977a-8a89c18d45ee.jpg',\n",
              " '/content/CNN_assignment/Skin cancer ISIC The International Skin Imaging Collaboration/Train/dermatofibroma/output/dermatofibroma_original_ISIC_0025954.jpg_f2f76ab5-2851-4028-b4e3-ae61872700f6.jpg',\n",
              " '/content/CNN_assignment/Skin cancer ISIC The International Skin Imaging Collaboration/Train/dermatofibroma/output/dermatofibroma_original_ISIC_0033860.jpg_6407347c-c252-44a1-b24f-4eb704414897.jpg',\n",
              " '/content/CNN_assignment/Skin cancer ISIC The International Skin Imaging Collaboration/Train/dermatofibroma/output/dermatofibroma_original_ISIC_0032613.jpg_31bcbb1a-1e6f-4f41-a292-b1c2cd2028e8.jpg',\n",
              " '/content/CNN_assignment/Skin cancer ISIC The International Skin Imaging Collaboration/Train/dermatofibroma/output/dermatofibroma_original_ISIC_0028880.jpg_8b1c8037-a0e3-400d-b24b-b84af3a114ac.jpg',\n",
              " '/content/CNN_assignment/Skin cancer ISIC The International Skin Imaging Collaboration/Train/dermatofibroma/output/dermatofibroma_original_ISIC_0027141.jpg_5d193630-96e7-45b1-a130-dacd002371cb.jpg',\n",
              " '/content/CNN_assignment/Skin cancer ISIC The International Skin Imaging Collaboration/Train/dermatofibroma/output/dermatofibroma_original_ISIC_0026471.jpg_9572a5d7-4acf-452e-9861-0e27dd382f57.jpg',\n",
              " '/content/CNN_assignment/Skin cancer ISIC The International Skin Imaging Collaboration/Train/dermatofibroma/output/dermatofibroma_original_ISIC_0033790.jpg_142b6663-3bbb-4d4d-aa8e-3c91869b5963.jpg',\n",
              " '/content/CNN_assignment/Skin cancer ISIC The International Skin Imaging Collaboration/Train/dermatofibroma/output/dermatofibroma_original_ISIC_0031257.jpg_4902775d-1233-4d44-a048-c399871317e9.jpg',\n",
              " '/content/CNN_assignment/Skin cancer ISIC The International Skin Imaging Collaboration/Train/dermatofibroma/output/dermatofibroma_original_ISIC_0026473.jpg_b0e18fe1-416a-4226-99ca-7f81a6ceed90.jpg',\n",
              " '/content/CNN_assignment/Skin cancer ISIC The International Skin Imaging Collaboration/Train/dermatofibroma/output/dermatofibroma_original_ISIC_0027044.jpg_28d7036b-6213-41e9-b9df-deb611b70bb9.jpg',\n",
              " '/content/CNN_assignment/Skin cancer ISIC The International Skin Imaging Collaboration/Train/dermatofibroma/output/dermatofibroma_original_ISIC_0027648.jpg_ae567ab8-4419-4dfe-9cfb-6eea4e7654e1.jpg',\n",
              " '/content/CNN_assignment/Skin cancer ISIC The International Skin Imaging Collaboration/Train/dermatofibroma/output/dermatofibroma_original_ISIC_0025911.jpg_4cc4ef38-3fa2-414d-9045-7e4a8b0ff778.jpg',\n",
              " '/content/CNN_assignment/Skin cancer ISIC The International Skin Imaging Collaboration/Train/dermatofibroma/output/dermatofibroma_original_ISIC_0026471.jpg_6f39e03e-e521-43b6-9987-e5080116b39c.jpg',\n",
              " '/content/CNN_assignment/Skin cancer ISIC The International Skin Imaging Collaboration/Train/dermatofibroma/output/dermatofibroma_original_ISIC_0031372.jpg_5476c64f-7e06-40bc-a8b4-ecc517c6722d.jpg',\n",
              " '/content/CNN_assignment/Skin cancer ISIC The International Skin Imaging Collaboration/Train/dermatofibroma/output/dermatofibroma_original_ISIC_0029967.jpg_99f0bb47-2105-4754-a0e4-dc02bc04fdae.jpg',\n",
              " '/content/CNN_assignment/Skin cancer ISIC The International Skin Imaging Collaboration/Train/dermatofibroma/output/dermatofibroma_original_ISIC_0025302.jpg_04da4bb1-958c-49b4-9d9d-eccc81621d58.jpg',\n",
              " '/content/CNN_assignment/Skin cancer ISIC The International Skin Imaging Collaboration/Train/dermatofibroma/output/dermatofibroma_original_ISIC_0030021.jpg_7742b166-77a6-4b70-9ef6-95630d112a8f.jpg',\n",
              " '/content/CNN_assignment/Skin cancer ISIC The International Skin Imaging Collaboration/Train/dermatofibroma/output/dermatofibroma_original_ISIC_0027648.jpg_f5a46016-eeaf-45d0-919b-9772d87434c8.jpg',\n",
              " '/content/CNN_assignment/Skin cancer ISIC The International Skin Imaging Collaboration/Train/dermatofibroma/output/dermatofibroma_original_ISIC_0031358.jpg_10bde19f-0bc4-42cf-a8c9-3ef2cbe9bd93.jpg',\n",
              " '/content/CNN_assignment/Skin cancer ISIC The International Skin Imaging Collaboration/Train/dermatofibroma/output/dermatofibroma_original_ISIC_0026789.jpg_72fad3eb-32cf-46a9-bbcd-87851d18ee93.jpg',\n",
              " '/content/CNN_assignment/Skin cancer ISIC The International Skin Imaging Collaboration/Train/dermatofibroma/output/dermatofibroma_original_ISIC_0025911.jpg_c0c0d522-8b3a-4e11-92b3-9c7fc8d0f489.jpg',\n",
              " '/content/CNN_assignment/Skin cancer ISIC The International Skin Imaging Collaboration/Train/dermatofibroma/output/dermatofibroma_original_ISIC_0033626.jpg_6e66da4a-803a-4c9d-8df4-0f468a92874f.jpg',\n",
              " '/content/CNN_assignment/Skin cancer ISIC The International Skin Imaging Collaboration/Train/dermatofibroma/output/dermatofibroma_original_ISIC_0033675.jpg_8895cd82-3030-40c0-96b8-087d07cd2663.jpg',\n",
              " '/content/CNN_assignment/Skin cancer ISIC The International Skin Imaging Collaboration/Train/dermatofibroma/output/dermatofibroma_original_ISIC_0032941.jpg_b6f1532c-bd45-4550-b3bc-f45ab7cdfa11.jpg',\n",
              " '/content/CNN_assignment/Skin cancer ISIC The International Skin Imaging Collaboration/Train/dermatofibroma/output/dermatofibroma_original_ISIC_0026473.jpg_3ba1b267-9b6c-4d7c-94ef-92cd2bce19fb.jpg',\n",
              " '/content/CNN_assignment/Skin cancer ISIC The International Skin Imaging Collaboration/Train/dermatofibroma/output/dermatofibroma_original_ISIC_0027216.jpg_0029129e-a40c-4846-8bd0-59b45c9eaa3d.jpg',\n",
              " '/content/CNN_assignment/Skin cancer ISIC The International Skin Imaging Collaboration/Train/dermatofibroma/output/dermatofibroma_original_ISIC_0027488.jpg_eb86a980-c771-4802-8149-a5d74b0f5c3c.jpg',\n",
              " '/content/CNN_assignment/Skin cancer ISIC The International Skin Imaging Collaboration/Train/dermatofibroma/output/dermatofibroma_original_ISIC_0031358.jpg_afc9d886-90cc-4077-958c-0b08156b6756.jpg',\n",
              " '/content/CNN_assignment/Skin cancer ISIC The International Skin Imaging Collaboration/Train/dermatofibroma/output/dermatofibroma_original_ISIC_0026789.jpg_ce4db3bd-a746-444f-97ef-f521d837cf0a.jpg',\n",
              " '/content/CNN_assignment/Skin cancer ISIC The International Skin Imaging Collaboration/Train/dermatofibroma/output/dermatofibroma_original_ISIC_0029177.jpg_a9c91935-d9f8-4b53-88b3-61c1b9c91220.jpg',\n",
              " '/content/CNN_assignment/Skin cancer ISIC The International Skin Imaging Collaboration/Train/dermatofibroma/output/dermatofibroma_original_ISIC_0033808.jpg_be7dd1b5-0e42-4ae9-8ce3-19ae4b7d7a8a.jpg',\n",
              " '/content/CNN_assignment/Skin cancer ISIC The International Skin Imaging Collaboration/Train/dermatofibroma/output/dermatofibroma_original_ISIC_0027044.jpg_6a982c24-a347-4bd1-8f63-51aeb7b87cd6.jpg',\n",
              " '/content/CNN_assignment/Skin cancer ISIC The International Skin Imaging Collaboration/Train/dermatofibroma/output/dermatofibroma_original_ISIC_0027008.jpg_bf95376d-db5d-407b-80b5-6f85eab269f2.jpg',\n",
              " '/content/CNN_assignment/Skin cancer ISIC The International Skin Imaging Collaboration/Train/dermatofibroma/output/dermatofibroma_original_ISIC_0031735.jpg_ae0a0840-fe5e-462e-9953-7f93eca1b42a.jpg',\n",
              " '/content/CNN_assignment/Skin cancer ISIC The International Skin Imaging Collaboration/Train/dermatofibroma/output/dermatofibroma_original_ISIC_0029297.jpg_bd6551c9-312c-4d01-a22d-e8230fc23404.jpg',\n",
              " '/content/CNN_assignment/Skin cancer ISIC The International Skin Imaging Collaboration/Train/dermatofibroma/output/dermatofibroma_original_ISIC_0027141.jpg_839d3f3c-5c4f-45b5-a5dd-aadedff60454.jpg',\n",
              " '/content/CNN_assignment/Skin cancer ISIC The International Skin Imaging Collaboration/Train/dermatofibroma/output/dermatofibroma_original_ISIC_0033790.jpg_4ebb3b77-c1e3-4f8e-a6ef-6ec4e175edee.jpg',\n",
              " '/content/CNN_assignment/Skin cancer ISIC The International Skin Imaging Collaboration/Train/dermatofibroma/output/dermatofibroma_original_ISIC_0030579.jpg_0a614c0b-d1e7-4c4d-9c6f-b2c01cb2b713.jpg',\n",
              " '/content/CNN_assignment/Skin cancer ISIC The International Skin Imaging Collaboration/Train/dermatofibroma/output/dermatofibroma_original_ISIC_0030015.jpg_98ebe7b5-4ff9-4631-a471-a848b4e7b847.jpg',\n",
              " '/content/CNN_assignment/Skin cancer ISIC The International Skin Imaging Collaboration/Train/dermatofibroma/output/dermatofibroma_original_ISIC_0029578.jpg_6a70df1f-aa05-4316-a4cd-500d8c7f66e0.jpg',\n",
              " '/content/CNN_assignment/Skin cancer ISIC The International Skin Imaging Collaboration/Train/dermatofibroma/output/dermatofibroma_original_ISIC_0025771.jpg_728b2db9-daa5-4b5a-95fa-e384e692b66b.jpg',\n",
              " '/content/CNN_assignment/Skin cancer ISIC The International Skin Imaging Collaboration/Train/dermatofibroma/output/dermatofibroma_original_ISIC_0027141.jpg_78cd9d3d-98ab-46d3-98ad-394d719d05c9.jpg',\n",
              " '/content/CNN_assignment/Skin cancer ISIC The International Skin Imaging Collaboration/Train/dermatofibroma/output/dermatofibroma_original_ISIC_0033005.jpg_4eb98c59-0779-4b79-b352-9993de16f3d5.jpg',\n",
              " '/content/CNN_assignment/Skin cancer ISIC The International Skin Imaging Collaboration/Train/dermatofibroma/output/dermatofibroma_original_ISIC_0029177.jpg_f348dc88-9731-488a-a4a8-7d217455814c.jpg',\n",
              " '/content/CNN_assignment/Skin cancer ISIC The International Skin Imaging Collaboration/Train/dermatofibroma/output/dermatofibroma_original_ISIC_0032642.jpg_57ca3964-4f48-4e1f-ac50-0478252efc3e.jpg',\n",
              " '/content/CNN_assignment/Skin cancer ISIC The International Skin Imaging Collaboration/Train/dermatofibroma/output/dermatofibroma_original_ISIC_0026789.jpg_65e022dc-34c3-45b0-b25a-c9e21a096a1a.jpg',\n",
              " '/content/CNN_assignment/Skin cancer ISIC The International Skin Imaging Collaboration/Train/dermatofibroma/output/dermatofibroma_original_ISIC_0029248.jpg_91950d15-8070-4909-ba23-518533c44fa7.jpg',\n",
              " '/content/CNN_assignment/Skin cancer ISIC The International Skin Imaging Collaboration/Train/dermatofibroma/output/dermatofibroma_original_ISIC_0025980.jpg_f00fa415-f0cd-402d-b8bc-b6b0733d4a0c.jpg',\n",
              " '/content/CNN_assignment/Skin cancer ISIC The International Skin Imaging Collaboration/Train/dermatofibroma/output/dermatofibroma_original_ISIC_0027598.jpg_0f76bba5-5663-47fd-a0e8-d641ac7bd788.jpg',\n",
              " '/content/CNN_assignment/Skin cancer ISIC The International Skin Imaging Collaboration/Train/dermatofibroma/output/dermatofibroma_original_ISIC_0033554.jpg_647ab8e7-7b08-449a-b4b3-9440529f4a4b.jpg',\n",
              " '/content/CNN_assignment/Skin cancer ISIC The International Skin Imaging Collaboration/Train/dermatofibroma/output/dermatofibroma_original_ISIC_0033005.jpg_159bd15a-f8d0-44e5-835d-1da88163120a.jpg',\n",
              " '/content/CNN_assignment/Skin cancer ISIC The International Skin Imaging Collaboration/Train/dermatofibroma/output/dermatofibroma_original_ISIC_0025622.jpg_c6a6b259-b78b-46e5-918e-b9ed5b9267c3.jpg',\n",
              " '/content/CNN_assignment/Skin cancer ISIC The International Skin Imaging Collaboration/Train/dermatofibroma/output/dermatofibroma_original_ISIC_0029891.jpg_d3b4c101-7cc4-42bd-8ec1-61ad6f70164e.jpg',\n",
              " '/content/CNN_assignment/Skin cancer ISIC The International Skin Imaging Collaboration/Train/dermatofibroma/output/dermatofibroma_original_ISIC_0033695.jpg_3db20894-c38b-4127-b604-78751ab6f996.jpg',\n",
              " '/content/CNN_assignment/Skin cancer ISIC The International Skin Imaging Collaboration/Train/dermatofibroma/output/dermatofibroma_original_ISIC_0033891.jpg_2f9d0792-2238-49fe-953f-f4ad5bbe9f30.jpg',\n",
              " '/content/CNN_assignment/Skin cancer ISIC The International Skin Imaging Collaboration/Train/dermatofibroma/output/dermatofibroma_original_ISIC_0031358.jpg_a5d52115-85b0-42c1-a7ac-61d5fb595bbf.jpg',\n",
              " '/content/CNN_assignment/Skin cancer ISIC The International Skin Imaging Collaboration/Train/dermatofibroma/output/dermatofibroma_original_ISIC_0031443.jpg_c3773282-1689-4273-9e8d-75b4059e6997.jpg',\n",
              " '/content/CNN_assignment/Skin cancer ISIC The International Skin Imaging Collaboration/Train/dermatofibroma/output/dermatofibroma_original_ISIC_0031257.jpg_bc0deaff-9b55-4e57-9131-8dc4eea7c7cc.jpg',\n",
              " '/content/CNN_assignment/Skin cancer ISIC The International Skin Imaging Collaboration/Train/dermatofibroma/output/dermatofibroma_original_ISIC_0031344.jpg_7e0495c9-65b7-4277-9543-6ccfd185664c.jpg',\n",
              " '/content/CNN_assignment/Skin cancer ISIC The International Skin Imaging Collaboration/Train/dermatofibroma/output/dermatofibroma_original_ISIC_0029578.jpg_14b4baae-7b64-45c0-bc20-f9b38bf0d8b6.jpg',\n",
              " '/content/CNN_assignment/Skin cancer ISIC The International Skin Imaging Collaboration/Train/dermatofibroma/output/dermatofibroma_original_ISIC_0033005.jpg_e741f449-96fe-4165-82b5-f805dbe9b503.jpg',\n",
              " '/content/CNN_assignment/Skin cancer ISIC The International Skin Imaging Collaboration/Train/dermatofibroma/output/dermatofibroma_original_ISIC_0031735.jpg_2dd29d04-8149-49bf-b948-ac7049c263f5.jpg',\n",
              " '/content/CNN_assignment/Skin cancer ISIC The International Skin Imaging Collaboration/Train/dermatofibroma/output/dermatofibroma_original_ISIC_0025302.jpg_bfbdea5f-873c-4f96-ab80-e5fbaf2bbc8c.jpg',\n",
              " '/content/CNN_assignment/Skin cancer ISIC The International Skin Imaging Collaboration/Train/dermatofibroma/output/dermatofibroma_original_ISIC_0029783.jpg_3dcde48b-9edb-4dad-85a5-20d0619cdd65.jpg',\n",
              " '/content/CNN_assignment/Skin cancer ISIC The International Skin Imaging Collaboration/Train/dermatofibroma/output/dermatofibroma_original_ISIC_0029177.jpg_4e553db4-bdec-4a59-9d6c-6c7d510d1012.jpg',\n",
              " '/content/CNN_assignment/Skin cancer ISIC The International Skin Imaging Collaboration/Train/dermatofibroma/output/dermatofibroma_original_ISIC_0027141.jpg_1c65befe-ab0e-4cda-8678-c91538aabc83.jpg',\n",
              " '/content/CNN_assignment/Skin cancer ISIC The International Skin Imaging Collaboration/Train/dermatofibroma/output/dermatofibroma_original_ISIC_0025668.jpg_38b8c9f4-20f4-4cfb-b2b1-767d348b014d.jpg',\n",
              " '/content/CNN_assignment/Skin cancer ISIC The International Skin Imaging Collaboration/Train/dermatofibroma/output/dermatofibroma_original_ISIC_0030011.jpg_f1613b3c-f5a3-483f-8da7-61575e739a75.jpg',\n",
              " '/content/CNN_assignment/Skin cancer ISIC The International Skin Imaging Collaboration/Train/dermatofibroma/output/dermatofibroma_original_ISIC_0026313.jpg_9efd2784-03a1-4b93-860f-e95da434c5e1.jpg',\n",
              " '/content/CNN_assignment/Skin cancer ISIC The International Skin Imaging Collaboration/Train/dermatofibroma/output/dermatofibroma_original_ISIC_0027598.jpg_950035a3-9541-414a-b866-2751a16c3cc6.jpg',\n",
              " '/content/CNN_assignment/Skin cancer ISIC The International Skin Imaging Collaboration/Train/dermatofibroma/output/dermatofibroma_original_ISIC_0033810.jpg_7328e89f-4528-4200-9ef7-fab13c533455.jpg',\n",
              " '/content/CNN_assignment/Skin cancer ISIC The International Skin Imaging Collaboration/Train/dermatofibroma/output/dermatofibroma_original_ISIC_0034135.jpg_4bb250d4-57ef-40fb-9e7a-028a3611bda3.jpg',\n",
              " '/content/CNN_assignment/Skin cancer ISIC The International Skin Imaging Collaboration/Train/dermatofibroma/output/dermatofibroma_original_ISIC_0025223.jpg_423cb5be-08d6-4330-8a06-89e224b644a5.jpg',\n",
              " '/content/CNN_assignment/Skin cancer ISIC The International Skin Imaging Collaboration/Train/dermatofibroma/output/dermatofibroma_original_ISIC_0028651.jpg_b00c27f2-5709-4d9c-ba2c-820c51ea8fc2.jpg',\n",
              " '/content/CNN_assignment/Skin cancer ISIC The International Skin Imaging Collaboration/Train/dermatofibroma/output/dermatofibroma_original_ISIC_0032114.jpg_27f6206a-089d-43df-9aba-90b64031d2c7.jpg',\n",
              " '/content/CNN_assignment/Skin cancer ISIC The International Skin Imaging Collaboration/Train/dermatofibroma/output/dermatofibroma_original_ISIC_0032468.jpg_8c7437f8-f8fb-423a-8633-04726cef7ca8.jpg',\n",
              " '/content/CNN_assignment/Skin cancer ISIC The International Skin Imaging Collaboration/Train/dermatofibroma/output/dermatofibroma_original_ISIC_0031429.jpg_03e7c892-6a22-41c3-82c8-d222545340d3.jpg',\n",
              " '/content/CNN_assignment/Skin cancer ISIC The International Skin Imaging Collaboration/Train/dermatofibroma/output/dermatofibroma_original_ISIC_0033695.jpg_7667bb49-32f1-428c-8247-0c9330c23a1e.jpg',\n",
              " '/content/CNN_assignment/Skin cancer ISIC The International Skin Imaging Collaboration/Train/dermatofibroma/output/dermatofibroma_original_ISIC_0032138.jpg_7c631143-fea0-415e-b9b7-a20a3fa8814d.jpg',\n",
              " '/content/CNN_assignment/Skin cancer ISIC The International Skin Imaging Collaboration/Train/dermatofibroma/output/dermatofibroma_original_ISIC_0031372.jpg_9f733e26-bf9d-4139-b31b-c4c02ea063f9.jpg',\n",
              " '/content/CNN_assignment/Skin cancer ISIC The International Skin Imaging Collaboration/Train/dermatofibroma/output/dermatofibroma_original_ISIC_0033808.jpg_c7787324-29c3-4da7-8df8-ce95b5823043.jpg',\n",
              " '/content/CNN_assignment/Skin cancer ISIC The International Skin Imaging Collaboration/Train/dermatofibroma/output/dermatofibroma_original_ISIC_0027613.jpg_82384b42-fec5-4a0a-bae5-64d1a58a3c2d.jpg',\n",
              " '/content/CNN_assignment/Skin cancer ISIC The International Skin Imaging Collaboration/Train/dermatofibroma/output/dermatofibroma_original_ISIC_0033860.jpg_034be9be-4d03-4be0-a00f-9de7a8a961ed.jpg',\n",
              " '/content/CNN_assignment/Skin cancer ISIC The International Skin Imaging Collaboration/Train/dermatofibroma/output/dermatofibroma_original_ISIC_0025954.jpg_c12b744b-3b8e-4ede-9309-ba337cda8b3f.jpg',\n",
              " '/content/CNN_assignment/Skin cancer ISIC The International Skin Imaging Collaboration/Train/dermatofibroma/output/dermatofibroma_original_ISIC_0031429.jpg_548e5717-376e-4220-b409-418e5f134890.jpg',\n",
              " '/content/CNN_assignment/Skin cancer ISIC The International Skin Imaging Collaboration/Train/dermatofibroma/output/dermatofibroma_original_ISIC_0027626.jpg_0542eab5-7f8e-4eac-9d77-8fa85cfefb6d.jpg',\n",
              " '/content/CNN_assignment/Skin cancer ISIC The International Skin Imaging Collaboration/Train/dermatofibroma/output/dermatofibroma_original_ISIC_0031443.jpg_d2859aef-5f75-4245-a0de-2634848342e3.jpg',\n",
              " '/content/CNN_assignment/Skin cancer ISIC The International Skin Imaging Collaboration/Train/dermatofibroma/output/dermatofibroma_original_ISIC_0025668.jpg_b4aca5be-0b28-4169-b588-d562b4daf1bf.jpg',\n",
              " '/content/CNN_assignment/Skin cancer ISIC The International Skin Imaging Collaboration/Train/dermatofibroma/output/dermatofibroma_original_ISIC_0027626.jpg_567fe036-af0b-4bb0-9de8-5f61aef1095b.jpg',\n",
              " '/content/CNN_assignment/Skin cancer ISIC The International Skin Imaging Collaboration/Train/dermatofibroma/output/dermatofibroma_original_ISIC_0032613.jpg_d977acc4-9e60-4609-a1f4-dd1ffe083e02.jpg',\n",
              " '/content/CNN_assignment/Skin cancer ISIC The International Skin Imaging Collaboration/Train/dermatofibroma/output/dermatofibroma_original_ISIC_0033891.jpg_e416adb4-adc3-4905-b893-fc05ab4ca4e4.jpg',\n",
              " '/content/CNN_assignment/Skin cancer ISIC The International Skin Imaging Collaboration/Train/dermatofibroma/output/dermatofibroma_original_ISIC_0032138.jpg_32510b7b-5378-490f-9ef1-4a06d84b2d43.jpg',\n",
              " '/content/CNN_assignment/Skin cancer ISIC The International Skin Imaging Collaboration/Train/dermatofibroma/output/dermatofibroma_original_ISIC_0026473.jpg_67bfec85-8dea-4ac6-b452-469cb7c6bfb2.jpg',\n",
              " '/content/CNN_assignment/Skin cancer ISIC The International Skin Imaging Collaboration/Train/dermatofibroma/output/dermatofibroma_original_ISIC_0025954.jpg_a9888165-2439-43f1-8329-c69e0cb7c455.jpg',\n",
              " '/content/CNN_assignment/Skin cancer ISIC The International Skin Imaging Collaboration/Train/dermatofibroma/output/dermatofibroma_original_ISIC_0031271.jpg_add68515-115c-450f-9a4f-466e878d6bc7.jpg',\n",
              " '/content/CNN_assignment/Skin cancer ISIC The International Skin Imaging Collaboration/Train/dermatofibroma/output/dermatofibroma_original_ISIC_0028790.jpg_29e47ac3-b530-4495-a13e-41dd398864f3.jpg',\n",
              " '/content/CNN_assignment/Skin cancer ISIC The International Skin Imaging Collaboration/Train/dermatofibroma/output/dermatofibroma_original_ISIC_0026417.jpg_060b66f2-a2f4-4cce-b833-d8cd132ee2f1.jpg',\n",
              " '/content/CNN_assignment/Skin cancer ISIC The International Skin Imaging Collaboration/Train/dermatofibroma/output/dermatofibroma_original_ISIC_0030442.jpg_273c1a27-c21c-4cb6-bbd4-a6af07295e77.jpg',\n",
              " '/content/CNN_assignment/Skin cancer ISIC The International Skin Imaging Collaboration/Train/dermatofibroma/output/dermatofibroma_original_ISIC_0026629.jpg_fc686ee8-5b59-4dcf-b375-718cacfbd8af.jpg',\n",
              " '/content/CNN_assignment/Skin cancer ISIC The International Skin Imaging Collaboration/Train/dermatofibroma/output/dermatofibroma_original_ISIC_0030665.jpg_6170a1aa-f615-4d0f-bd37-af9e5c52b5ca.jpg',\n",
              " '/content/CNN_assignment/Skin cancer ISIC The International Skin Imaging Collaboration/Train/dermatofibroma/output/dermatofibroma_original_ISIC_0026254.jpg_f9fe0b0f-321e-4a30-a9ef-d39f04d97f32.jpg',\n",
              " '/content/CNN_assignment/Skin cancer ISIC The International Skin Imaging Collaboration/Train/dermatofibroma/output/dermatofibroma_original_ISIC_0029578.jpg_dd518bcd-6d1f-46c6-80fc-ebadd851e990.jpg',\n",
              " '/content/CNN_assignment/Skin cancer ISIC The International Skin Imaging Collaboration/Train/dermatofibroma/output/dermatofibroma_original_ISIC_0029039.jpg_4255889d-4ef2-4079-b8b2-571c7ac0e528.jpg',\n",
              " '/content/CNN_assignment/Skin cancer ISIC The International Skin Imaging Collaboration/Train/dermatofibroma/output/dermatofibroma_original_ISIC_0032138.jpg_7d916249-1c55-4602-a984-f6fdb48d2b7a.jpg',\n",
              " '/content/CNN_assignment/Skin cancer ISIC The International Skin Imaging Collaboration/Train/dermatofibroma/output/dermatofibroma_original_ISIC_0028346.jpg_a09181ce-643d-4cb9-9fb9-b2ab48d952c1.jpg',\n",
              " '/content/CNN_assignment/Skin cancer ISIC The International Skin Imaging Collaboration/Train/dermatofibroma/output/dermatofibroma_original_ISIC_0029039.jpg_119b7945-92a0-40b5-a149-6798c74e1f7d.jpg',\n",
              " '/content/CNN_assignment/Skin cancer ISIC The International Skin Imaging Collaboration/Train/dermatofibroma/output/dermatofibroma_original_ISIC_0033675.jpg_183cf404-9385-4312-af5c-c557d8a56229.jpg',\n",
              " '/content/CNN_assignment/Skin cancer ISIC The International Skin Imaging Collaboration/Train/dermatofibroma/output/dermatofibroma_original_ISIC_0028926.jpg_a856e9d3-7327-4e47-b4e2-91f280cb2a18.jpg',\n",
              " '/content/CNN_assignment/Skin cancer ISIC The International Skin Imaging Collaboration/Train/dermatofibroma/output/dermatofibroma_original_ISIC_0033860.jpg_0d69d490-adc5-46eb-a72d-5baadd78e117.jpg',\n",
              " '/content/CNN_assignment/Skin cancer ISIC The International Skin Imaging Collaboration/Train/dermatofibroma/output/dermatofibroma_original_ISIC_0027216.jpg_a7c751b6-1003-4660-8806-a6a054316b97.jpg',\n",
              " '/content/CNN_assignment/Skin cancer ISIC The International Skin Imaging Collaboration/Train/dermatofibroma/output/dermatofibroma_original_ISIC_0032613.jpg_e0de9069-9c45-4ecf-9b59-2ff38f9d02ab.jpg',\n",
              " '/content/CNN_assignment/Skin cancer ISIC The International Skin Imaging Collaboration/Train/dermatofibroma/output/dermatofibroma_original_ISIC_0025903.jpg_da9fb41c-2482-4f54-9833-885984bb2a92.jpg',\n",
              " '/content/CNN_assignment/Skin cancer ISIC The International Skin Imaging Collaboration/Train/dermatofibroma/output/dermatofibroma_original_ISIC_0026473.jpg_2eae80fa-a94c-4e02-9968-b1e40cb537c0.jpg',\n",
              " '/content/CNN_assignment/Skin cancer ISIC The International Skin Imaging Collaboration/Train/dermatofibroma/output/dermatofibroma_original_ISIC_0032613.jpg_8cdd1c09-f83d-4f2b-8dea-69220b2b55cc.jpg',\n",
              " '/content/CNN_assignment/Skin cancer ISIC The International Skin Imaging Collaboration/Train/dermatofibroma/output/dermatofibroma_original_ISIC_0030442.jpg_8da0cb2f-93b4-4e41-bbbe-ce3c9d3375a2.jpg',\n",
              " '/content/CNN_assignment/Skin cancer ISIC The International Skin Imaging Collaboration/Train/dermatofibroma/output/dermatofibroma_original_ISIC_0027216.jpg_d165121c-4907-4565-87df-fa0e304864ab.jpg',\n",
              " '/content/CNN_assignment/Skin cancer ISIC The International Skin Imaging Collaboration/Train/dermatofibroma/output/dermatofibroma_original_ISIC_0030757.jpg_a7ca5f93-c58a-4d6f-abe7-5014ed0504f2.jpg',\n",
              " '/content/CNN_assignment/Skin cancer ISIC The International Skin Imaging Collaboration/Train/dermatofibroma/output/dermatofibroma_original_ISIC_0025504.jpg_439ed16c-ae61-4c16-9438-c2e80f87f076.jpg',\n",
              " '/content/CNN_assignment/Skin cancer ISIC The International Skin Imaging Collaboration/Train/dermatofibroma/output/dermatofibroma_original_ISIC_0032114.jpg_4ef570f2-1cd5-4630-8cfb-4a9a26fc30cd.jpg',\n",
              " '/content/CNN_assignment/Skin cancer ISIC The International Skin Imaging Collaboration/Train/dermatofibroma/output/dermatofibroma_original_ISIC_0031443.jpg_80ee1ad5-f60c-4f7e-94e9-bdb065977898.jpg',\n",
              " '/content/CNN_assignment/Skin cancer ISIC The International Skin Imaging Collaboration/Train/dermatofibroma/output/dermatofibroma_original_ISIC_0031735.jpg_b6da2d02-5537-4c73-ab7e-b23fc6083d4b.jpg',\n",
              " '/content/CNN_assignment/Skin cancer ISIC The International Skin Imaging Collaboration/Train/dermatofibroma/output/dermatofibroma_original_ISIC_0031735.jpg_50c6c3ac-44de-4877-a29e-ef2aea0bcfde.jpg',\n",
              " '/content/CNN_assignment/Skin cancer ISIC The International Skin Imaging Collaboration/Train/dermatofibroma/output/dermatofibroma_original_ISIC_0029248.jpg_4360bdb8-2dfd-467c-ba02-04fc5186294b.jpg',\n",
              " '/content/CNN_assignment/Skin cancer ISIC The International Skin Imaging Collaboration/Train/dermatofibroma/output/dermatofibroma_original_ISIC_0030830.jpg_0bddf925-aaa3-48b7-a715-c1b0dff27246.jpg',\n",
              " '/content/CNN_assignment/Skin cancer ISIC The International Skin Imaging Collaboration/Train/dermatofibroma/output/dermatofibroma_original_ISIC_0032138.jpg_04e93c9a-412b-4adc-91ed-45360c26ebea.jpg',\n",
              " '/content/CNN_assignment/Skin cancer ISIC The International Skin Imaging Collaboration/Train/dermatofibroma/output/dermatofibroma_original_ISIC_0031309.jpg_6c03976a-5d01-4166-82c6-5ef76db2ea0e.jpg',\n",
              " '/content/CNN_assignment/Skin cancer ISIC The International Skin Imaging Collaboration/Train/dermatofibroma/output/dermatofibroma_original_ISIC_0031457.jpg_747aa0e8-1803-4678-9d9f-2bb85f9bbaa6.jpg',\n",
              " '/content/CNN_assignment/Skin cancer ISIC The International Skin Imaging Collaboration/Train/dermatofibroma/output/dermatofibroma_original_ISIC_0026789.jpg_fd9e3dcd-a0cc-4cfd-bb7b-cd0d143e7271.jpg',\n",
              " '/content/CNN_assignment/Skin cancer ISIC The International Skin Imaging Collaboration/Train/dermatofibroma/output/dermatofibroma_original_ISIC_0029052.jpg_4b3af5fb-2ced-452a-bf19-7fee25a63f5c.jpg',\n",
              " '/content/CNN_assignment/Skin cancer ISIC The International Skin Imaging Collaboration/Train/dermatofibroma/output/dermatofibroma_original_ISIC_0030665.jpg_968677dc-70d6-440e-a04a-2b8988aba5ce.jpg',\n",
              " '/content/CNN_assignment/Skin cancer ISIC The International Skin Imaging Collaboration/Train/dermatofibroma/output/dermatofibroma_original_ISIC_0025223.jpg_412b23ff-aa06-4ab4-8626-b206d83d5be7.jpg',\n",
              " '/content/CNN_assignment/Skin cancer ISIC The International Skin Imaging Collaboration/Train/dermatofibroma/output/dermatofibroma_original_ISIC_0032613.jpg_b5dac3ba-9543-4f59-b169-2e149bde6469.jpg',\n",
              " '/content/CNN_assignment/Skin cancer ISIC The International Skin Imaging Collaboration/Train/dermatofibroma/output/dermatofibroma_original_ISIC_0027008.jpg_7fb38972-1726-41ba-9156-950970f2a7b9.jpg',\n",
              " '/content/CNN_assignment/Skin cancer ISIC The International Skin Imaging Collaboration/Train/dermatofibroma/output/dermatofibroma_original_ISIC_0030011.jpg_e57887fa-e189-4261-8f9a-f79fa8e42fc2.jpg',\n",
              " '/content/CNN_assignment/Skin cancer ISIC The International Skin Imaging Collaboration/Train/dermatofibroma/output/dermatofibroma_original_ISIC_0028790.jpg_2e0b2412-ab89-43c0-a658-e06d8d31d7e4.jpg',\n",
              " '/content/CNN_assignment/Skin cancer ISIC The International Skin Imaging Collaboration/Train/dermatofibroma/output/dermatofibroma_original_ISIC_0026629.jpg_20d464cc-0de9-4a2c-a056-d5df9fedc9ba.jpg',\n",
              " '/content/CNN_assignment/Skin cancer ISIC The International Skin Imaging Collaboration/Train/dermatofibroma/output/dermatofibroma_original_ISIC_0026789.jpg_733a4b24-55a0-4b43-a34f-335e665b2bca.jpg',\n",
              " '/content/CNN_assignment/Skin cancer ISIC The International Skin Imaging Collaboration/Train/dermatofibroma/output/dermatofibroma_original_ISIC_0031257.jpg_6df2cd60-300e-44a7-987b-334c3292f0a6.jpg',\n",
              " '/content/CNN_assignment/Skin cancer ISIC The International Skin Imaging Collaboration/Train/dermatofibroma/output/dermatofibroma_original_ISIC_0025980.jpg_33836c33-0201-444c-b895-df4ee79758be.jpg',\n",
              " '/content/CNN_assignment/Skin cancer ISIC The International Skin Imaging Collaboration/Train/dermatofibroma/output/dermatofibroma_original_ISIC_0030830.jpg_88b15fc8-9740-4295-bc29-3b5a4b0b43f3.jpg',\n",
              " '/content/CNN_assignment/Skin cancer ISIC The International Skin Imaging Collaboration/Train/dermatofibroma/output/dermatofibroma_original_ISIC_0031372.jpg_47b632b5-4e72-4d37-a633-04c154050e49.jpg',\n",
              " '/content/CNN_assignment/Skin cancer ISIC The International Skin Imaging Collaboration/Train/dermatofibroma/output/dermatofibroma_original_ISIC_0032114.jpg_75f289be-e90a-43d2-8e1e-29d59b90c9a3.jpg',\n",
              " '/content/CNN_assignment/Skin cancer ISIC The International Skin Imaging Collaboration/Train/dermatofibroma/output/dermatofibroma_original_ISIC_0025622.jpg_389780e7-9a0f-45bf-ba73-0b4723d7c760.jpg',\n",
              " '/content/CNN_assignment/Skin cancer ISIC The International Skin Imaging Collaboration/Train/dermatofibroma/output/dermatofibroma_original_ISIC_0029578.jpg_b595e63b-5772-4583-b2ed-e239ec892cca.jpg',\n",
              " '/content/CNN_assignment/Skin cancer ISIC The International Skin Imaging Collaboration/Train/dermatofibroma/output/dermatofibroma_original_ISIC_0027598.jpg_038afb10-59c6-4b2b-8f17-8456a0399811.jpg',\n",
              " '/content/CNN_assignment/Skin cancer ISIC The International Skin Imaging Collaboration/Train/dermatofibroma/output/dermatofibroma_original_ISIC_0032941.jpg_1b742966-e2eb-476c-aeaf-fece65e40a5e.jpg',\n",
              " '/content/CNN_assignment/Skin cancer ISIC The International Skin Imaging Collaboration/Train/dermatofibroma/output/dermatofibroma_original_ISIC_0030442.jpg_bb221c40-4562-4e7b-a577-cf1a836dee12.jpg',\n",
              " '/content/CNN_assignment/Skin cancer ISIC The International Skin Imaging Collaboration/Train/dermatofibroma/output/dermatofibroma_original_ISIC_0029783.jpg_f1b0102e-d1a8-46dc-a0d2-f3f0b4f946fc.jpg',\n",
              " '/content/CNN_assignment/Skin cancer ISIC The International Skin Imaging Collaboration/Train/dermatofibroma/output/dermatofibroma_original_ISIC_0030870.jpg_1d8e3dfe-162d-446e-851a-07583a1917d6.jpg',\n",
              " '/content/CNN_assignment/Skin cancer ISIC The International Skin Imaging Collaboration/Train/dermatofibroma/output/dermatofibroma_original_ISIC_0030021.jpg_868c7af0-acb0-4ad2-8cd0-4073e6d46e7e.jpg',\n",
              " '/content/CNN_assignment/Skin cancer ISIC The International Skin Imaging Collaboration/Train/dermatofibroma/output/dermatofibroma_original_ISIC_0028790.jpg_36d45312-71f6-46b0-9326-68e8aaaccea6.jpg',\n",
              " '/content/CNN_assignment/Skin cancer ISIC The International Skin Imaging Collaboration/Train/dermatofibroma/output/dermatofibroma_original_ISIC_0029962.jpg_8075d91c-4507-4ac7-9861-ccfcc45293b1.jpg',\n",
              " '/content/CNN_assignment/Skin cancer ISIC The International Skin Imaging Collaboration/Train/dermatofibroma/output/dermatofibroma_original_ISIC_0032642.jpg_a46974dd-bb19-48f0-9000-c270c8743ef7.jpg',\n",
              " '/content/CNN_assignment/Skin cancer ISIC The International Skin Imaging Collaboration/Train/dermatofibroma/output/dermatofibroma_original_ISIC_0031271.jpg_70b6d7f2-b053-4859-baff-c908ad8ad5e1.jpg',\n",
              " '/content/CNN_assignment/Skin cancer ISIC The International Skin Imaging Collaboration/Train/dermatofibroma/output/dermatofibroma_original_ISIC_0027648.jpg_9948c2a8-be26-4f09-b361-d28f9cb2095d.jpg',\n",
              " '/content/CNN_assignment/Skin cancer ISIC The International Skin Imaging Collaboration/Train/dermatofibroma/output/dermatofibroma_original_ISIC_0025622.jpg_b31b94ea-cf08-4a74-97e3-d2c9f582fb92.jpg',\n",
              " '/content/CNN_assignment/Skin cancer ISIC The International Skin Imaging Collaboration/Train/dermatofibroma/output/dermatofibroma_original_ISIC_0025223.jpg_8ef8954d-7241-4258-bc0e-f6cfa7fde859.jpg',\n",
              " '/content/CNN_assignment/Skin cancer ISIC The International Skin Imaging Collaboration/Train/dermatofibroma/output/dermatofibroma_original_ISIC_0027044.jpg_896b5e1b-8b73-4bc9-a46d-22fdc3928067.jpg',\n",
              " '/content/CNN_assignment/Skin cancer ISIC The International Skin Imaging Collaboration/Train/dermatofibroma/output/dermatofibroma_original_ISIC_0029962.jpg_98d16e84-d76e-4512-8094-91d555dc8603.jpg',\n",
              " '/content/CNN_assignment/Skin cancer ISIC The International Skin Imaging Collaboration/Train/dermatofibroma/output/dermatofibroma_original_ISIC_0033554.jpg_234780e5-ed7e-4f6e-acd0-d78182df2b2c.jpg',\n",
              " '/content/CNN_assignment/Skin cancer ISIC The International Skin Imaging Collaboration/Train/dermatofibroma/output/dermatofibroma_original_ISIC_0030427.jpg_d539b936-37ea-4456-81c4-f5b74c6c5498.jpg',\n",
              " '/content/CNN_assignment/Skin cancer ISIC The International Skin Imaging Collaboration/Train/dermatofibroma/output/dermatofibroma_original_ISIC_0031309.jpg_4a302391-0f7a-4296-8f3c-11fad61a57f3.jpg',\n",
              " '/content/CNN_assignment/Skin cancer ISIC The International Skin Imaging Collaboration/Train/dermatofibroma/output/dermatofibroma_original_ISIC_0026417.jpg_65997179-ea1b-4397-b6e5-75b058b44f88.jpg',\n",
              " '/content/CNN_assignment/Skin cancer ISIC The International Skin Imaging Collaboration/Train/dermatofibroma/output/dermatofibroma_original_ISIC_0031457.jpg_9ce5bc2a-39a7-4449-ac58-30a769c040a1.jpg',\n",
              " '/content/CNN_assignment/Skin cancer ISIC The International Skin Imaging Collaboration/Train/dermatofibroma/output/dermatofibroma_original_ISIC_0031271.jpg_00a65d07-a4ac-4eef-b1de-7516165e1a16.jpg',\n",
              " '/content/CNN_assignment/Skin cancer ISIC The International Skin Imaging Collaboration/Train/dermatofibroma/output/dermatofibroma_original_ISIC_0034135.jpg_5418c77a-90fe-484d-9cb5-de01f9de3531.jpg',\n",
              " '/content/CNN_assignment/Skin cancer ISIC The International Skin Imaging Collaboration/Train/dermatofibroma/output/dermatofibroma_original_ISIC_0026254.jpg_1432f538-be76-4e71-bb8b-8ada2bfd34b2.jpg',\n",
              " '/content/CNN_assignment/Skin cancer ISIC The International Skin Imaging Collaboration/Train/dermatofibroma/output/dermatofibroma_original_ISIC_0032247.jpg_eb065d54-feb1-418b-9775-832f8aa30ebc.jpg',\n",
              " '/content/CNN_assignment/Skin cancer ISIC The International Skin Imaging Collaboration/Train/dermatofibroma/output/dermatofibroma_original_ISIC_0026471.jpg_e5f3c6ab-a18d-4586-8a9d-58e39b050d29.jpg',\n",
              " '/content/CNN_assignment/Skin cancer ISIC The International Skin Imaging Collaboration/Train/dermatofibroma/output/dermatofibroma_original_ISIC_0029967.jpg_fb60391a-9540-4623-ac3c-f80cbb6b8b36.jpg',\n",
              " '/content/CNN_assignment/Skin cancer ISIC The International Skin Imaging Collaboration/Train/dermatofibroma/output/dermatofibroma_original_ISIC_0032114.jpg_79feeac4-20ba-4276-884b-597f39609475.jpg',\n",
              " '/content/CNN_assignment/Skin cancer ISIC The International Skin Imaging Collaboration/Train/dermatofibroma/output/dermatofibroma_original_ISIC_0029967.jpg_ecdf7f22-c826-4d35-8252-c990994a2c4a.jpg',\n",
              " '/content/CNN_assignment/Skin cancer ISIC The International Skin Imaging Collaboration/Train/dermatofibroma/output/dermatofibroma_original_ISIC_0026471.jpg_13c27da7-ca69-40d6-99a8-2a0e1f6b1703.jpg',\n",
              " '/content/CNN_assignment/Skin cancer ISIC The International Skin Imaging Collaboration/Train/dermatofibroma/output/dermatofibroma_original_ISIC_0025622.jpg_8389e42d-7af0-49f3-8d56-d4017d407151.jpg',\n",
              " '/content/CNN_assignment/Skin cancer ISIC The International Skin Imaging Collaboration/Train/dermatofibroma/output/dermatofibroma_original_ISIC_0030870.jpg_965b526f-c6d0-4970-9de4-6b3f0e72a6ad.jpg',\n",
              " '/content/CNN_assignment/Skin cancer ISIC The International Skin Imaging Collaboration/Train/dermatofibroma/output/dermatofibroma_original_ISIC_0025594.jpg_09051c42-3e91-44cc-9591-25ff5a630d62.jpg',\n",
              " '/content/CNN_assignment/Skin cancer ISIC The International Skin Imaging Collaboration/Train/dermatofibroma/output/dermatofibroma_original_ISIC_0029248.jpg_41d989aa-bc2a-4e23-b239-ec7a92bfea81.jpg',\n",
              " '/content/CNN_assignment/Skin cancer ISIC The International Skin Imaging Collaboration/Train/dermatofibroma/output/dermatofibroma_original_ISIC_0027216.jpg_2cdac1c4-4fe1-4a72-830d-6965e0b83325.jpg',\n",
              " '/content/CNN_assignment/Skin cancer ISIC The International Skin Imaging Collaboration/Train/dermatofibroma/output/dermatofibroma_original_ISIC_0026629.jpg_f45d0c1c-7bb6-4bfa-89bb-750bb3be36df.jpg',\n",
              " '/content/CNN_assignment/Skin cancer ISIC The International Skin Imaging Collaboration/Train/dermatofibroma/output/dermatofibroma_original_ISIC_0026471.jpg_57cac25e-7ebf-40f2-b491-2357656ca8f1.jpg',\n",
              " '/content/CNN_assignment/Skin cancer ISIC The International Skin Imaging Collaboration/Train/dermatofibroma/output/dermatofibroma_original_ISIC_0026789.jpg_aeeff644-5fa9-4ce8-a602-aa7c367ed328.jpg',\n",
              " '/content/CNN_assignment/Skin cancer ISIC The International Skin Imaging Collaboration/Train/dermatofibroma/output/dermatofibroma_original_ISIC_0031358.jpg_02d66503-8611-4a06-9ad1-f2dec3ce125e.jpg',\n",
              " '/content/CNN_assignment/Skin cancer ISIC The International Skin Imaging Collaboration/Train/dermatofibroma/output/dermatofibroma_original_ISIC_0026417.jpg_2e1e9ecf-2746-4400-95ff-d00aa2ff77da.jpg',\n",
              " '/content/CNN_assignment/Skin cancer ISIC The International Skin Imaging Collaboration/Train/dermatofibroma/output/dermatofibroma_original_ISIC_0031799.jpg_e776ac4d-5b84-4152-9b13-cc31c3517e82.jpg',\n",
              " '/content/CNN_assignment/Skin cancer ISIC The International Skin Imaging Collaboration/Train/dermatofibroma/output/dermatofibroma_original_ISIC_0033675.jpg_bb3fa140-dccf-4fc0-9ce3-43bab1d04d98.jpg',\n",
              " '/content/CNN_assignment/Skin cancer ISIC The International Skin Imaging Collaboration/Train/dermatofibroma/output/dermatofibroma_original_ISIC_0026417.jpg_82524b12-77a1-4ab4-a758-0c42a759a6e6.jpg',\n",
              " '/content/CNN_assignment/Skin cancer ISIC The International Skin Imaging Collaboration/Train/dermatofibroma/output/dermatofibroma_original_ISIC_0027745.jpg_06540d87-5e0c-49f2-a62b-00e9def9540e.jpg',\n",
              " '/content/CNN_assignment/Skin cancer ISIC The International Skin Imaging Collaboration/Train/dermatofibroma/output/dermatofibroma_original_ISIC_0030665.jpg_6812848e-1648-44e2-89eb-0cb60316df7f.jpg',\n",
              " '/content/CNN_assignment/Skin cancer ISIC The International Skin Imaging Collaboration/Train/dermatofibroma/output/dermatofibroma_original_ISIC_0030665.jpg_c4e6ed05-aefd-478d-8006-839e020558f5.jpg',\n",
              " '/content/CNN_assignment/Skin cancer ISIC The International Skin Imaging Collaboration/Train/dermatofibroma/output/dermatofibroma_original_ISIC_0026417.jpg_2ee6ceb4-7aeb-4e90-918f-4d54c3216266.jpg',\n",
              " '/content/CNN_assignment/Skin cancer ISIC The International Skin Imaging Collaboration/Train/dermatofibroma/output/dermatofibroma_original_ISIC_0030555.jpg_1afb599e-bdbe-4a99-a381-ada23d856107.jpg',\n",
              " '/content/CNN_assignment/Skin cancer ISIC The International Skin Imaging Collaboration/Train/dermatofibroma/output/dermatofibroma_original_ISIC_0029783.jpg_50deb550-4bd0-4c33-8079-1d5869e86914.jpg',\n",
              " '/content/CNN_assignment/Skin cancer ISIC The International Skin Imaging Collaboration/Train/dermatofibroma/output/dermatofibroma_original_ISIC_0030427.jpg_40cb60b5-38cf-4002-a074-480f5f2c4e2a.jpg',\n",
              " '/content/CNN_assignment/Skin cancer ISIC The International Skin Imaging Collaboration/Train/dermatofibroma/output/dermatofibroma_original_ISIC_0030442.jpg_6ad7db33-00da-4a5c-86a7-553f937d94ae.jpg',\n",
              " '/content/CNN_assignment/Skin cancer ISIC The International Skin Imaging Collaboration/Train/dermatofibroma/output/dermatofibroma_original_ISIC_0029297.jpg_9ed87a60-bf98-49c0-8dc9-ef7d27d053b4.jpg',\n",
              " '/content/CNN_assignment/Skin cancer ISIC The International Skin Imaging Collaboration/Train/dermatofibroma/output/dermatofibroma_original_ISIC_0033780.jpg_00e60628-9ccb-40f7-b27b-e2a81e2f0e20.jpg',\n",
              " '/content/CNN_assignment/Skin cancer ISIC The International Skin Imaging Collaboration/Train/dermatofibroma/output/dermatofibroma_original_ISIC_0028926.jpg_db98cef4-e53f-437a-ad8e-37ab98b68c51.jpg',\n",
              " '/content/CNN_assignment/Skin cancer ISIC The International Skin Imaging Collaboration/Train/dermatofibroma/output/dermatofibroma_original_ISIC_0029177.jpg_d97650a0-7f98-49e8-a5b2-62851fc453c3.jpg',\n",
              " '/content/CNN_assignment/Skin cancer ISIC The International Skin Imaging Collaboration/Train/dermatofibroma/output/dermatofibroma_original_ISIC_0031443.jpg_921df145-06cf-4d57-8efc-b43455b4fd57.jpg',\n",
              " '/content/CNN_assignment/Skin cancer ISIC The International Skin Imaging Collaboration/Train/dermatofibroma/output/dermatofibroma_original_ISIC_0031457.jpg_42d94aba-360c-4dbb-8064-4ccf7f14ae4d.jpg',\n",
              " '/content/CNN_assignment/Skin cancer ISIC The International Skin Imaging Collaboration/Train/dermatofibroma/output/dermatofibroma_original_ISIC_0026254.jpg_9bfeb6c2-4800-4505-974f-200aab1a0288.jpg',\n",
              " '/content/CNN_assignment/Skin cancer ISIC The International Skin Imaging Collaboration/Train/dermatofibroma/output/dermatofibroma_original_ISIC_0030579.jpg_014326db-f192-4539-8d23-043e940b0e25.jpg',\n",
              " '/content/CNN_assignment/Skin cancer ISIC The International Skin Imaging Collaboration/Train/dermatofibroma/output/dermatofibroma_original_ISIC_0027876.jpg_a0fece6c-6c72-4fe5-912c-3809b4a7caff.jpg',\n",
              " '/content/CNN_assignment/Skin cancer ISIC The International Skin Imaging Collaboration/Train/dermatofibroma/output/dermatofibroma_original_ISIC_0025903.jpg_552c87a3-c5cd-403f-8b7d-43abce16ee26.jpg',\n",
              " '/content/CNN_assignment/Skin cancer ISIC The International Skin Imaging Collaboration/Train/dermatofibroma/output/dermatofibroma_original_ISIC_0025980.jpg_de9abbfd-7b8c-4164-855d-c54e86483c73.jpg',\n",
              " '/content/CNN_assignment/Skin cancer ISIC The International Skin Imaging Collaboration/Train/dermatofibroma/output/dermatofibroma_original_ISIC_0026254.jpg_a912d0c1-9bed-4830-a131-ed58bba92ba1.jpg',\n",
              " '/content/CNN_assignment/Skin cancer ISIC The International Skin Imaging Collaboration/Train/dermatofibroma/output/dermatofibroma_original_ISIC_0030830.jpg_b7c5962d-ca63-437e-b256-f3cd7aa3896a.jpg',\n",
              " '/content/CNN_assignment/Skin cancer ISIC The International Skin Imaging Collaboration/Train/dermatofibroma/output/dermatofibroma_original_ISIC_0028346.jpg_958beb2d-c367-4e4a-afea-306c651d4aae.jpg',\n",
              " '/content/CNN_assignment/Skin cancer ISIC The International Skin Imaging Collaboration/Train/dermatofibroma/output/dermatofibroma_original_ISIC_0031358.jpg_9e1de604-1d07-4962-894c-3985c4b61e7e.jpg',\n",
              " '/content/CNN_assignment/Skin cancer ISIC The International Skin Imaging Collaboration/Train/dermatofibroma/output/dermatofibroma_original_ISIC_0030665.jpg_4e2504ea-6d15-433d-8f0b-eefb3a0f80a8.jpg',\n",
              " '/content/CNN_assignment/Skin cancer ISIC The International Skin Imaging Collaboration/Train/dermatofibroma/output/dermatofibroma_original_ISIC_0033808.jpg_9f320a87-2f4c-4095-8207-72a6f06287d1.jpg',\n",
              " '/content/CNN_assignment/Skin cancer ISIC The International Skin Imaging Collaboration/Train/dermatofibroma/output/dermatofibroma_original_ISIC_0031735.jpg_a19a2e24-44e9-443f-a511-029ab11a27f4.jpg',\n",
              " '/content/CNN_assignment/Skin cancer ISIC The International Skin Imaging Collaboration/Train/dermatofibroma/output/dermatofibroma_original_ISIC_0033808.jpg_26b23406-280d-4813-9343-908d5d79f525.jpg',\n",
              " '/content/CNN_assignment/Skin cancer ISIC The International Skin Imaging Collaboration/Train/dermatofibroma/output/dermatofibroma_original_ISIC_0028346.jpg_4ff37b79-7b1f-4a16-8fda-9640fc14fb6b.jpg',\n",
              " '/content/CNN_assignment/Skin cancer ISIC The International Skin Imaging Collaboration/Train/dermatofibroma/output/dermatofibroma_original_ISIC_0029973.jpg_a7c05331-e2fd-49b6-902a-c5394fbf8ebd.jpg',\n",
              " '/content/CNN_assignment/Skin cancer ISIC The International Skin Imaging Collaboration/Train/dermatofibroma/output/dermatofibroma_original_ISIC_0027648.jpg_ddb55e14-43c8-407e-a219-25ece2f2a1cc.jpg',\n",
              " '/content/CNN_assignment/Skin cancer ISIC The International Skin Imaging Collaboration/Train/dermatofibroma/output/dermatofibroma_original_ISIC_0027141.jpg_116bfcf7-1c8e-4d0f-883c-97a2ebc14daa.jpg',\n",
              " '/content/CNN_assignment/Skin cancer ISIC The International Skin Imaging Collaboration/Train/dermatofibroma/output/dermatofibroma_original_ISIC_0033810.jpg_9dff69f5-557b-4d03-a443-93a3eaf6fbbd.jpg',\n",
              " '/content/CNN_assignment/Skin cancer ISIC The International Skin Imaging Collaboration/Train/dermatofibroma/output/dermatofibroma_original_ISIC_0031457.jpg_92006d6d-e80a-4897-a1b6-1f4e5d99328e.jpg',\n",
              " '/content/CNN_assignment/Skin cancer ISIC The International Skin Imaging Collaboration/Train/dermatofibroma/output/dermatofibroma_original_ISIC_0025911.jpg_2118daef-653c-4f2e-b7fc-9439a27e4a80.jpg',\n",
              " '/content/CNN_assignment/Skin cancer ISIC The International Skin Imaging Collaboration/Train/dermatofibroma/output/dermatofibroma_original_ISIC_0025954.jpg_ac041fa8-9cac-4038-b3e4-2caeee018a2c.jpg',\n",
              " '/content/CNN_assignment/Skin cancer ISIC The International Skin Imaging Collaboration/Train/dermatofibroma/output/dermatofibroma_original_ISIC_0031344.jpg_ad241424-b819-4ade-b16f-c449d49a10a2.jpg',\n",
              " '/content/CNN_assignment/Skin cancer ISIC The International Skin Imaging Collaboration/Train/dermatofibroma/output/dermatofibroma_original_ISIC_0033005.jpg_783a3dec-6ab1-45d0-9559-1b3c083177e3.jpg',\n",
              " '/content/CNN_assignment/Skin cancer ISIC The International Skin Imaging Collaboration/Train/dermatofibroma/output/dermatofibroma_original_ISIC_0031457.jpg_5feb3fbf-ca57-4fb3-a735-a22847c0a369.jpg',\n",
              " '/content/CNN_assignment/Skin cancer ISIC The International Skin Imaging Collaboration/Train/dermatofibroma/output/dermatofibroma_original_ISIC_0028346.jpg_0fe20c22-c964-40c7-873d-b0c55fa02c3b.jpg',\n",
              " '/content/CNN_assignment/Skin cancer ISIC The International Skin Imaging Collaboration/Train/dermatofibroma/output/dermatofibroma_original_ISIC_0029578.jpg_dcfb8c83-134e-4e64-8444-bad4780f8608.jpg',\n",
              " '/content/CNN_assignment/Skin cancer ISIC The International Skin Imaging Collaboration/Train/dermatofibroma/output/dermatofibroma_original_ISIC_0030830.jpg_9baf5bc7-200e-427f-9e21-c124752c177c.jpg',\n",
              " '/content/CNN_assignment/Skin cancer ISIC The International Skin Imaging Collaboration/Train/dermatofibroma/output/dermatofibroma_original_ISIC_0031309.jpg_25e2c297-742d-4940-8ad4-d08b1faa5261.jpg',\n",
              " '/content/CNN_assignment/Skin cancer ISIC The International Skin Imaging Collaboration/Train/dermatofibroma/output/dermatofibroma_original_ISIC_0031443.jpg_7568d110-987f-44f4-a38c-24722c8b9f3e.jpg',\n",
              " '/content/CNN_assignment/Skin cancer ISIC The International Skin Imaging Collaboration/Train/dermatofibroma/output/dermatofibroma_original_ISIC_0025980.jpg_2bad406f-e32f-4fbf-9105-2df89cc3cebd.jpg',\n",
              " '/content/CNN_assignment/Skin cancer ISIC The International Skin Imaging Collaboration/Train/dermatofibroma/output/dermatofibroma_original_ISIC_0030757.jpg_85145a94-8c0b-47a0-9047-dd1c3d123817.jpg',\n",
              " '/content/CNN_assignment/Skin cancer ISIC The International Skin Imaging Collaboration/Train/dermatofibroma/output/dermatofibroma_original_ISIC_0028735.jpg_019aed02-1f2c-4760-ac07-0659f1fc1a2b.jpg',\n",
              " '/content/CNN_assignment/Skin cancer ISIC The International Skin Imaging Collaboration/Train/dermatofibroma/output/dermatofibroma_original_ISIC_0030321.jpg_524d763a-18d5-4ae2-9ac5-78c75ddb5aad.jpg',\n",
              " '/content/CNN_assignment/Skin cancer ISIC The International Skin Imaging Collaboration/Train/dermatofibroma/output/dermatofibroma_original_ISIC_0027488.jpg_3ea2f82c-04b6-40f9-87b5-930a19a240a0.jpg',\n",
              " '/content/CNN_assignment/Skin cancer ISIC The International Skin Imaging Collaboration/Train/dermatofibroma/output/dermatofibroma_original_ISIC_0025980.jpg_64e9a26d-b5f5-493f-8a0e-c08d47417aea.jpg',\n",
              " '/content/CNN_assignment/Skin cancer ISIC The International Skin Imaging Collaboration/Train/dermatofibroma/output/dermatofibroma_original_ISIC_0029967.jpg_fa4a23e0-39df-449e-9be6-1c41675d5efe.jpg',\n",
              " '/content/CNN_assignment/Skin cancer ISIC The International Skin Imaging Collaboration/Train/dermatofibroma/output/dermatofibroma_original_ISIC_0029824.jpg_fa770b35-6f37-447e-b364-cdfec448a78b.jpg',\n",
              " '/content/CNN_assignment/Skin cancer ISIC The International Skin Imaging Collaboration/Train/dermatofibroma/output/dermatofibroma_original_ISIC_0033891.jpg_0ae848b5-dcc7-44ff-b35e-46e5029f6f12.jpg',\n",
              " '/content/CNN_assignment/Skin cancer ISIC The International Skin Imaging Collaboration/Train/dermatofibroma/output/dermatofibroma_original_ISIC_0031257.jpg_be674e2f-413f-47ef-a42d-e982e67c03ef.jpg',\n",
              " '/content/CNN_assignment/Skin cancer ISIC The International Skin Imaging Collaboration/Train/dermatofibroma/output/dermatofibroma_original_ISIC_0032114.jpg_53f774d7-71c7-482c-af13-21d103f644b5.jpg',\n",
              " '/content/CNN_assignment/Skin cancer ISIC The International Skin Imaging Collaboration/Train/dermatofibroma/output/dermatofibroma_original_ISIC_0029973.jpg_3777960e-dc2e-496c-b1d3-c74868ac11da.jpg',\n",
              " '/content/CNN_assignment/Skin cancer ISIC The International Skin Imaging Collaboration/Train/dermatofibroma/output/dermatofibroma_original_ISIC_0029297.jpg_cb5e861c-ffc1-49b1-8958-7051bd28108e.jpg',\n",
              " '/content/CNN_assignment/Skin cancer ISIC The International Skin Imaging Collaboration/Train/dermatofibroma/output/dermatofibroma_original_ISIC_0027626.jpg_6f81d7e2-e695-44e3-8717-e52f58d24253.jpg',\n",
              " '/content/CNN_assignment/Skin cancer ISIC The International Skin Imaging Collaboration/Train/dermatofibroma/output/dermatofibroma_original_ISIC_0033790.jpg_8c951622-ad22-4ffd-b481-391d77529e9b.jpg',\n",
              " '/content/CNN_assignment/Skin cancer ISIC The International Skin Imaging Collaboration/Train/dermatofibroma/output/dermatofibroma_original_ISIC_0026471.jpg_4d98291a-ffe3-46e7-bbf3-26cc16670b8b.jpg',\n",
              " '/content/CNN_assignment/Skin cancer ISIC The International Skin Imaging Collaboration/Train/dermatofibroma/output/dermatofibroma_original_ISIC_0025594.jpg_1213d32a-3f91-4306-95b4-c2af0acc60d9.jpg',\n",
              " '/content/CNN_assignment/Skin cancer ISIC The International Skin Imaging Collaboration/Train/dermatofibroma/output/dermatofibroma_original_ISIC_0026789.jpg_76f3bf10-e41b-412b-b2ef-e5975aa73a91.jpg',\n",
              " '/content/CNN_assignment/Skin cancer ISIC The International Skin Imaging Collaboration/Train/dermatofibroma/output/dermatofibroma_original_ISIC_0027107.jpg_1f105be8-9e32-4deb-8736-8437effa07ca.jpg',\n",
              " '/content/CNN_assignment/Skin cancer ISIC The International Skin Imaging Collaboration/Train/dermatofibroma/output/dermatofibroma_original_ISIC_0033675.jpg_d36fbbf5-7b20-438d-8034-8e856b6eff72.jpg',\n",
              " '/content/CNN_assignment/Skin cancer ISIC The International Skin Imaging Collaboration/Train/dermatofibroma/output/dermatofibroma_original_ISIC_0027044.jpg_dbabcc22-c278-4185-8728-cd8c3e41bf25.jpg',\n",
              " '/content/CNN_assignment/Skin cancer ISIC The International Skin Imaging Collaboration/Train/dermatofibroma/output/dermatofibroma_original_ISIC_0034135.jpg_69dd2cda-5b68-4c09-b678-19f295c670b9.jpg',\n",
              " '/content/CNN_assignment/Skin cancer ISIC The International Skin Imaging Collaboration/Train/dermatofibroma/output/dermatofibroma_original_ISIC_0031443.jpg_679f9718-1651-4150-b560-e5d298fc354c.jpg',\n",
              " '/content/CNN_assignment/Skin cancer ISIC The International Skin Imaging Collaboration/Train/dermatofibroma/output/dermatofibroma_original_ISIC_0032613.jpg_b39dde84-f879-44ef-b0f7-1a6d3c832568.jpg',\n",
              " '/content/CNN_assignment/Skin cancer ISIC The International Skin Imaging Collaboration/Train/dermatofibroma/output/dermatofibroma_original_ISIC_0030579.jpg_e67939e9-382a-4b8e-a727-f2642a615d30.jpg',\n",
              " '/content/CNN_assignment/Skin cancer ISIC The International Skin Imaging Collaboration/Train/dermatofibroma/output/dermatofibroma_original_ISIC_0031827.jpg_83b54bb8-7883-4a35-b2b0-12cbf2aa6ddd.jpg',\n",
              " '/content/CNN_assignment/Skin cancer ISIC The International Skin Imaging Collaboration/Train/dermatofibroma/output/dermatofibroma_original_ISIC_0025223.jpg_3333b276-91df-4a3e-8229-96d491847b6f.jpg',\n",
              " '/content/CNN_assignment/Skin cancer ISIC The International Skin Imaging Collaboration/Train/dermatofibroma/output/dermatofibroma_original_ISIC_0030021.jpg_64f71bcd-5b66-42f4-9507-91427aa8eb4e.jpg',\n",
              " '/content/CNN_assignment/Skin cancer ISIC The International Skin Imaging Collaboration/Train/dermatofibroma/output/dermatofibroma_original_ISIC_0025594.jpg_b4ae1145-43a3-4828-a663-8f20dca8e401.jpg',\n",
              " '/content/CNN_assignment/Skin cancer ISIC The International Skin Imaging Collaboration/Train/dermatofibroma/output/dermatofibroma_original_ISIC_0029297.jpg_135c41de-b042-4a4d-bcea-dda72a24e114.jpg',\n",
              " '/content/CNN_assignment/Skin cancer ISIC The International Skin Imaging Collaboration/Train/dermatofibroma/output/dermatofibroma_original_ISIC_0033810.jpg_3c79ba4e-4216-4bac-946a-6e8b7b757395.jpg',\n",
              " '/content/CNN_assignment/Skin cancer ISIC The International Skin Imaging Collaboration/Train/dermatofibroma/output/dermatofibroma_original_ISIC_0030442.jpg_6135c280-bc30-45e0-9b08-51ba87ea5045.jpg',\n",
              " '/content/CNN_assignment/Skin cancer ISIC The International Skin Imaging Collaboration/Train/dermatofibroma/output/dermatofibroma_original_ISIC_0032138.jpg_950e68ac-6821-46c0-9bf9-e1a929d6e4be.jpg',\n",
              " '/content/CNN_assignment/Skin cancer ISIC The International Skin Imaging Collaboration/Train/dermatofibroma/output/dermatofibroma_original_ISIC_0033810.jpg_e03f8bb1-b967-44d9-81ec-663a1de6e331.jpg',\n",
              " '/content/CNN_assignment/Skin cancer ISIC The International Skin Imaging Collaboration/Train/dermatofibroma/output/dermatofibroma_original_ISIC_0027008.jpg_7c4c1406-fb60-4394-b316-caeafcbc8911.jpg',\n",
              " '/content/CNN_assignment/Skin cancer ISIC The International Skin Imaging Collaboration/Train/dermatofibroma/output/dermatofibroma_original_ISIC_0027745.jpg_ba782964-ede5-452c-ad3a-8da6337a7362.jpg',\n",
              " '/content/CNN_assignment/Skin cancer ISIC The International Skin Imaging Collaboration/Train/dermatofibroma/output/dermatofibroma_original_ISIC_0029962.jpg_6c5967e8-a2b7-4c72-a4d6-38945e8147a9.jpg',\n",
              " '/content/CNN_assignment/Skin cancer ISIC The International Skin Imaging Collaboration/Train/dermatofibroma/output/dermatofibroma_original_ISIC_0033626.jpg_2caba95c-b79a-4114-a6a7-d04ad6e20617.jpg',\n",
              " '/content/CNN_assignment/Skin cancer ISIC The International Skin Imaging Collaboration/Train/dermatofibroma/output/dermatofibroma_original_ISIC_0031257.jpg_3dff1578-f420-4f96-b1e8-6fcb62604de2.jpg',\n",
              " '/content/CNN_assignment/Skin cancer ISIC The International Skin Imaging Collaboration/Train/dermatofibroma/output/dermatofibroma_original_ISIC_0031429.jpg_f7c4485a-06ee-4893-b64a-fa2a795ff089.jpg',\n",
              " '/content/CNN_assignment/Skin cancer ISIC The International Skin Imaging Collaboration/Train/dermatofibroma/output/dermatofibroma_original_ISIC_0025594.jpg_852c4760-cb9a-42b2-bef3-5a6bed691708.jpg',\n",
              " '/content/CNN_assignment/Skin cancer ISIC The International Skin Imaging Collaboration/Train/dermatofibroma/output/dermatofibroma_original_ISIC_0031344.jpg_96bd8759-c6fb-490f-89fb-ce8696323b87.jpg',\n",
              " '/content/CNN_assignment/Skin cancer ISIC The International Skin Imaging Collaboration/Train/dermatofibroma/output/dermatofibroma_original_ISIC_0031429.jpg_4ae08402-06dc-48b0-b357-5d8842f233e8.jpg',\n",
              " '/content/CNN_assignment/Skin cancer ISIC The International Skin Imaging Collaboration/Train/dermatofibroma/output/dermatofibroma_original_ISIC_0033847.jpg_4b27bb66-9eee-43d5-aec0-b2c3607088a1.jpg',\n",
              " '/content/CNN_assignment/Skin cancer ISIC The International Skin Imaging Collaboration/Train/dermatofibroma/output/dermatofibroma_original_ISIC_0031443.jpg_26684089-e8f1-41d0-ad5a-9ffe1eda1b11.jpg',\n",
              " '/content/CNN_assignment/Skin cancer ISIC The International Skin Imaging Collaboration/Train/dermatofibroma/output/dermatofibroma_original_ISIC_0025373.jpg_0fe8a779-694c-4093-bbe9-02a37ca45480.jpg',\n",
              " '/content/CNN_assignment/Skin cancer ISIC The International Skin Imaging Collaboration/Train/dermatofibroma/output/dermatofibroma_original_ISIC_0025668.jpg_76fb5695-9a96-4cee-b08b-2d1c0a5533d9.jpg',\n",
              " '/content/CNN_assignment/Skin cancer ISIC The International Skin Imaging Collaboration/Train/dermatofibroma/output/dermatofibroma_original_ISIC_0027044.jpg_85145900-c0a4-4bb8-a9dd-972817d99e70.jpg',\n",
              " '/content/CNN_assignment/Skin cancer ISIC The International Skin Imaging Collaboration/Train/dermatofibroma/output/dermatofibroma_original_ISIC_0034135.jpg_29f9e425-7f9b-40be-8be3-830cb4e64aff.jpg',\n",
              " '/content/CNN_assignment/Skin cancer ISIC The International Skin Imaging Collaboration/Train/dermatofibroma/output/dermatofibroma_original_ISIC_0033554.jpg_152cb218-5a10-4a17-8807-3103cf6216f5.jpg',\n",
              " '/content/CNN_assignment/Skin cancer ISIC The International Skin Imaging Collaboration/Train/dermatofibroma/output/dermatofibroma_original_ISIC_0029783.jpg_86579ec1-fe13-44c7-9bd0-7f2d8d2fcf8d.jpg',\n",
              " '/content/CNN_assignment/Skin cancer ISIC The International Skin Imaging Collaboration/Train/dermatofibroma/output/dermatofibroma_original_ISIC_0030870.jpg_6557f60d-7e4d-47da-a88e-c84dd65824cc.jpg',\n",
              " '/content/CNN_assignment/Skin cancer ISIC The International Skin Imaging Collaboration/Train/dermatofibroma/output/dermatofibroma_original_ISIC_0030830.jpg_3c9f366b-f264-49fa-a69d-7b325f6208bf.jpg',\n",
              " '/content/CNN_assignment/Skin cancer ISIC The International Skin Imaging Collaboration/Train/dermatofibroma/output/dermatofibroma_original_ISIC_0033626.jpg_dc1f5997-4df8-49e3-8463-98b86c87b2fa.jpg',\n",
              " '/content/CNN_assignment/Skin cancer ISIC The International Skin Imaging Collaboration/Train/dermatofibroma/output/dermatofibroma_original_ISIC_0030321.jpg_456b22f3-3017-49a8-ae20-cb56db6b42f0.jpg',\n",
              " '/content/CNN_assignment/Skin cancer ISIC The International Skin Imaging Collaboration/Train/dermatofibroma/output/dermatofibroma_original_ISIC_0030555.jpg_35cac862-57b9-4ddd-a53f-aae59ee72e82.jpg',\n",
              " '/content/CNN_assignment/Skin cancer ISIC The International Skin Imaging Collaboration/Train/dermatofibroma/output/dermatofibroma_original_ISIC_0027598.jpg_f8562a61-57ac-4bb6-ad96-808bb908459a.jpg',\n",
              " '/content/CNN_assignment/Skin cancer ISIC The International Skin Imaging Collaboration/Train/dermatofibroma/output/dermatofibroma_original_ISIC_0029130.jpg_d1f34272-32d5-4446-8de7-ac974ec96eb1.jpg',\n",
              " '/content/CNN_assignment/Skin cancer ISIC The International Skin Imaging Collaboration/Train/dermatofibroma/output/dermatofibroma_original_ISIC_0033790.jpg_aa3d0af0-6dd3-43ab-8087-aff1c8f16967.jpg',\n",
              " '/content/CNN_assignment/Skin cancer ISIC The International Skin Imaging Collaboration/Train/dermatofibroma/output/dermatofibroma_original_ISIC_0031271.jpg_1280990a-d87e-4d97-9ea0-9956fedd9452.jpg',\n",
              " '/content/CNN_assignment/Skin cancer ISIC The International Skin Imaging Collaboration/Train/dermatofibroma/output/dermatofibroma_original_ISIC_0032941.jpg_0b6a281e-f54b-4b0d-8a50-b0011761ff9e.jpg',\n",
              " '/content/CNN_assignment/Skin cancer ISIC The International Skin Imaging Collaboration/Train/dermatofibroma/output/dermatofibroma_original_ISIC_0026789.jpg_1111afc7-c462-4827-86d9-2c2ef7c3c3be.jpg',\n",
              " '/content/CNN_assignment/Skin cancer ISIC The International Skin Imaging Collaboration/Train/dermatofibroma/output/dermatofibroma_original_ISIC_0031429.jpg_ccf263cf-5e61-4f59-a180-160fa8cd071f.jpg',\n",
              " '/content/CNN_assignment/Skin cancer ISIC The International Skin Imaging Collaboration/Train/dermatofibroma/output/dermatofibroma_original_ISIC_0026629.jpg_db07e613-b877-47d1-8d09-e113a23fc17a.jpg',\n",
              " '/content/CNN_assignment/Skin cancer ISIC The International Skin Imaging Collaboration/Train/dermatofibroma/output/dermatofibroma_original_ISIC_0027626.jpg_7e10c8d5-ceac-4024-8c60-b0b87157f08c.jpg',\n",
              " '/content/CNN_assignment/Skin cancer ISIC The International Skin Imaging Collaboration/Train/dermatofibroma/output/dermatofibroma_original_ISIC_0030555.jpg_061474e9-8f58-48a7-9c78-910b1e1fa76b.jpg',\n",
              " '/content/CNN_assignment/Skin cancer ISIC The International Skin Imaging Collaboration/Train/dermatofibroma/output/dermatofibroma_original_ISIC_0025302.jpg_6e57b23e-ecb1-46ed-86b6-d9672715e80a.jpg',\n",
              " '/content/CNN_assignment/Skin cancer ISIC The International Skin Imaging Collaboration/Train/dermatofibroma/output/dermatofibroma_original_ISIC_0029973.jpg_e7892c5d-80a0-48e5-b62e-762d235fe3ee.jpg',\n",
              " '/content/CNN_assignment/Skin cancer ISIC The International Skin Imaging Collaboration/Train/dermatofibroma/output/dermatofibroma_original_ISIC_0032247.jpg_bf52a6ed-6d7d-4449-9fa9-7a7d2cc4a328.jpg',\n",
              " '/content/CNN_assignment/Skin cancer ISIC The International Skin Imaging Collaboration/Train/dermatofibroma/output/dermatofibroma_original_ISIC_0032941.jpg_0b258fbe-0755-41c5-871d-38bbdb44a66c.jpg',\n",
              " '/content/CNN_assignment/Skin cancer ISIC The International Skin Imaging Collaboration/Train/dermatofibroma/output/dermatofibroma_original_ISIC_0033695.jpg_cb89614e-ed75-419d-8a6b-fd89af57987b.jpg',\n",
              " '/content/CNN_assignment/Skin cancer ISIC The International Skin Imaging Collaboration/Train/dermatofibroma/output/dermatofibroma_original_ISIC_0027598.jpg_be9757b7-ab8b-44aa-ba2a-5c004e65852b.jpg',\n",
              " '/content/CNN_assignment/Skin cancer ISIC The International Skin Imaging Collaboration/Train/dermatofibroma/output/dermatofibroma_original_ISIC_0030870.jpg_c1e5aea0-053a-4a94-adc7-e912ef8323f2.jpg',\n",
              " '/content/CNN_assignment/Skin cancer ISIC The International Skin Imaging Collaboration/Train/dermatofibroma/output/dermatofibroma_original_ISIC_0033675.jpg_d4f55eb5-d307-4647-8e3d-1968af594739.jpg',\n",
              " '/content/CNN_assignment/Skin cancer ISIC The International Skin Imaging Collaboration/Train/dermatofibroma/output/dermatofibroma_original_ISIC_0027598.jpg_f3123840-dfb0-4c2c-9dda-c2c6c55b0e4f.jpg',\n",
              " '/content/CNN_assignment/Skin cancer ISIC The International Skin Imaging Collaboration/Train/dermatofibroma/output/dermatofibroma_original_ISIC_0031429.jpg_4f09cdf6-ee93-4f73-bd75-1fc132cd4b97.jpg',\n",
              " '/content/CNN_assignment/Skin cancer ISIC The International Skin Imaging Collaboration/Train/dermatofibroma/output/dermatofibroma_original_ISIC_0032642.jpg_1eea6d42-9e37-4257-bb70-ce2192652bb0.jpg',\n",
              " '/content/CNN_assignment/Skin cancer ISIC The International Skin Imaging Collaboration/Train/dermatofibroma/output/dermatofibroma_original_ISIC_0026789.jpg_a6c48191-eb6d-4432-878e-979478203579.jpg',\n",
              " '/content/CNN_assignment/Skin cancer ISIC The International Skin Imaging Collaboration/Train/dermatofibroma/output/dermatofibroma_original_ISIC_0025314.jpg_9b6abd30-5466-4e03-9b70-ce4b26d5021a.jpg',\n",
              " '/content/CNN_assignment/Skin cancer ISIC The International Skin Imaging Collaboration/Train/dermatofibroma/output/dermatofibroma_original_ISIC_0025980.jpg_6e82b8b5-b7fc-4293-8885-64685727e803.jpg',\n",
              " '/content/CNN_assignment/Skin cancer ISIC The International Skin Imaging Collaboration/Train/dermatofibroma/output/dermatofibroma_original_ISIC_0025314.jpg_cf484df2-f00a-4f85-a7dc-1cfc400874f3.jpg',\n",
              " '/content/CNN_assignment/Skin cancer ISIC The International Skin Imaging Collaboration/Train/dermatofibroma/output/dermatofibroma_original_ISIC_0033695.jpg_d02f22e9-c58a-46e7-8c0f-624f2fa1cfd0.jpg',\n",
              " '/content/CNN_assignment/Skin cancer ISIC The International Skin Imaging Collaboration/Train/dermatofibroma/output/dermatofibroma_original_ISIC_0027107.jpg_a4f7bfd0-cf05-4323-9c35-dcff2f45848c.jpg',\n",
              " '/content/CNN_assignment/Skin cancer ISIC The International Skin Imaging Collaboration/Train/dermatofibroma/output/dermatofibroma_original_ISIC_0030015.jpg_ff68b12e-adae-45c2-ba23-645dfec60789.jpg',\n",
              " '/content/CNN_assignment/Skin cancer ISIC The International Skin Imaging Collaboration/Train/dermatofibroma/output/dermatofibroma_original_ISIC_0026473.jpg_70f0dea6-7365-42ef-b803-59ce414003fc.jpg',\n",
              " '/content/CNN_assignment/Skin cancer ISIC The International Skin Imaging Collaboration/Train/dermatofibroma/output/dermatofibroma_original_ISIC_0033808.jpg_cafb5dd2-f594-4600-be23-cd3f2c5d5fcf.jpg',\n",
              " '/content/CNN_assignment/Skin cancer ISIC The International Skin Imaging Collaboration/Train/dermatofibroma/output/dermatofibroma_original_ISIC_0026254.jpg_51a0c9ab-7070-44e7-b58b-4e19c460538c.jpg',\n",
              " '/content/CNN_assignment/Skin cancer ISIC The International Skin Imaging Collaboration/Train/dermatofibroma/output/dermatofibroma_original_ISIC_0032468.jpg_ca06912e-21e0-462b-84b8-6739975cc8c7.jpg',\n",
              " '/content/CNN_assignment/Skin cancer ISIC The International Skin Imaging Collaboration/Train/dermatofibroma/output/dermatofibroma_original_ISIC_0030021.jpg_026b306b-5ab9-4c37-a1d4-324b8d32ba4f.jpg',\n",
              " '/content/CNN_assignment/Skin cancer ISIC The International Skin Imaging Collaboration/Train/dermatofibroma/output/dermatofibroma_original_ISIC_0029783.jpg_59a53961-0241-4b04-ad91-9695dc163d3e.jpg',\n",
              " '/content/CNN_assignment/Skin cancer ISIC The International Skin Imaging Collaboration/Train/dermatofibroma/output/dermatofibroma_original_ISIC_0030321.jpg_ad895e90-536d-43f1-8112-14935aaea1f1.jpg',\n",
              " '/content/CNN_assignment/Skin cancer ISIC The International Skin Imaging Collaboration/Train/dermatofibroma/output/dermatofibroma_original_ISIC_0029962.jpg_9acba94d-14b1-4a03-9e7a-5be799b66b0a.jpg',\n",
              " '/content/CNN_assignment/Skin cancer ISIC The International Skin Imaging Collaboration/Train/dermatofibroma/output/dermatofibroma_original_ISIC_0029297.jpg_17bfc6a5-44eb-4b35-9725-074922aa9921.jpg',\n",
              " '/content/CNN_assignment/Skin cancer ISIC The International Skin Imaging Collaboration/Train/dermatofibroma/output/dermatofibroma_original_ISIC_0027216.jpg_47b248d8-071a-4597-9f62-cff5a65b7540.jpg',\n",
              " '/content/CNN_assignment/Skin cancer ISIC The International Skin Imaging Collaboration/Train/dermatofibroma/output/dermatofibroma_original_ISIC_0025314.jpg_d5a6695b-be84-4d3a-a30b-316e4d87e9aa.jpg',\n",
              " '/content/CNN_assignment/Skin cancer ISIC The International Skin Imaging Collaboration/Train/dermatofibroma/output/dermatofibroma_original_ISIC_0031799.jpg_f862c1c6-e116-4fc7-9791-5ac1076889a2.jpg',\n",
              " '/content/CNN_assignment/Skin cancer ISIC The International Skin Imaging Collaboration/Train/dermatofibroma/output/dermatofibroma_original_ISIC_0031827.jpg_df5e6f79-24bf-4c15-9836-94b3ca9dc046.jpg',\n",
              " '/content/CNN_assignment/Skin cancer ISIC The International Skin Imaging Collaboration/Train/dermatofibroma/output/dermatofibroma_original_ISIC_0031735.jpg_605a9102-ebbd-44c6-9ae1-3a6af8cc61d7.jpg',\n",
              " '/content/CNN_assignment/Skin cancer ISIC The International Skin Imaging Collaboration/Train/dermatofibroma/output/dermatofibroma_original_ISIC_0026789.jpg_1dc0f7b9-4e03-4eb2-96d0-4645b0ed8c1b.jpg',\n",
              " '/content/CNN_assignment/Skin cancer ISIC The International Skin Imaging Collaboration/Train/dermatofibroma/output/dermatofibroma_original_ISIC_0026254.jpg_4e44b3d3-be2b-4971-bdc0-5d52261a003c.jpg',\n",
              " '/content/CNN_assignment/Skin cancer ISIC The International Skin Imaging Collaboration/Train/dermatofibroma/output/dermatofibroma_original_ISIC_0029039.jpg_56848dfa-a442-4be8-b5be-e95fe6a2a962.jpg',\n",
              " '/content/CNN_assignment/Skin cancer ISIC The International Skin Imaging Collaboration/Train/dermatofibroma/output/dermatofibroma_original_ISIC_0026629.jpg_8951a9ca-78fc-4fab-a52e-db844cde0372.jpg',\n",
              " '/content/CNN_assignment/Skin cancer ISIC The International Skin Imaging Collaboration/Train/dermatofibroma/output/dermatofibroma_original_ISIC_0034135.jpg_e5c526d5-1a9f-4f10-8281-75aba2012879.jpg',\n",
              " '/content/CNN_assignment/Skin cancer ISIC The International Skin Imaging Collaboration/Train/dermatofibroma/output/dermatofibroma_original_ISIC_0025622.jpg_0d8a3b00-b1b8-4478-a5ef-260feea255f4.jpg',\n",
              " '/content/CNN_assignment/Skin cancer ISIC The International Skin Imaging Collaboration/Train/dermatofibroma/output/dermatofibroma_original_ISIC_0027044.jpg_28c00cc0-ef3e-40c3-89cb-f27506956b00.jpg',\n",
              " '/content/CNN_assignment/Skin cancer ISIC The International Skin Imaging Collaboration/Train/dermatofibroma/output/dermatofibroma_original_ISIC_0025771.jpg_90261dea-df36-43ed-b798-db3d532161e4.jpg',\n",
              " '/content/CNN_assignment/Skin cancer ISIC The International Skin Imaging Collaboration/Train/dermatofibroma/output/dermatofibroma_original_ISIC_0025314.jpg_57caca5f-0cbd-44e4-8f96-32756a2b767a.jpg',\n",
              " '/content/CNN_assignment/Skin cancer ISIC The International Skin Imaging Collaboration/Train/dermatofibroma/output/dermatofibroma_original_ISIC_0030870.jpg_9003a2da-418a-41e5-bb11-64d9be293483.jpg',\n",
              " '/content/CNN_assignment/Skin cancer ISIC The International Skin Imaging Collaboration/Train/dermatofibroma/output/dermatofibroma_original_ISIC_0030579.jpg_b2bd8fd7-d49f-4ecd-8c1d-74a15f604c5c.jpg',\n",
              " '/content/CNN_assignment/Skin cancer ISIC The International Skin Imaging Collaboration/Train/dermatofibroma/output/dermatofibroma_original_ISIC_0025504.jpg_ef0ace22-7e13-4230-94ef-ab57ae09a299.jpg',\n",
              " '/content/CNN_assignment/Skin cancer ISIC The International Skin Imaging Collaboration/Train/dermatofibroma/output/dermatofibroma_original_ISIC_0033005.jpg_2d0bdf4c-bae7-4599-94c4-ad833dde1cc6.jpg',\n",
              " '/content/CNN_assignment/Skin cancer ISIC The International Skin Imaging Collaboration/Train/dermatofibroma/output/dermatofibroma_original_ISIC_0030011.jpg_08f58dce-42e2-4ff6-b674-5b4c1b2fd79d.jpg',\n",
              " '/content/CNN_assignment/Skin cancer ISIC The International Skin Imaging Collaboration/Train/dermatofibroma/output/dermatofibroma_original_ISIC_0028926.jpg_d4344ef8-e490-411b-8d98-ba2abcecb947.jpg',\n",
              " '/content/CNN_assignment/Skin cancer ISIC The International Skin Imaging Collaboration/Train/dermatofibroma/output/dermatofibroma_original_ISIC_0028735.jpg_7f38d4ef-8e37-4c3a-a423-2cb19a9c5cd8.jpg',\n",
              " '/content/CNN_assignment/Skin cancer ISIC The International Skin Imaging Collaboration/Train/dermatofibroma/output/dermatofibroma_original_ISIC_0033891.jpg_7fd94bfa-f24c-43d4-b041-5afc91250185.jpg',\n",
              " '/content/CNN_assignment/Skin cancer ISIC The International Skin Imaging Collaboration/Train/dermatofibroma/output/dermatofibroma_original_ISIC_0033554.jpg_2f039e4e-d8fd-47fb-bba7-5334d6300346.jpg',\n",
              " '/content/CNN_assignment/Skin cancer ISIC The International Skin Imaging Collaboration/Train/dermatofibroma/output/dermatofibroma_original_ISIC_0030757.jpg_a0050625-efbc-4e79-b492-689a7cb7977c.jpg',\n",
              " '/content/CNN_assignment/Skin cancer ISIC The International Skin Imaging Collaboration/Train/dermatofibroma/output/dermatofibroma_original_ISIC_0029891.jpg_716c9e5a-8042-4863-8d06-2aaac08753fc.jpg',\n",
              " '/content/CNN_assignment/Skin cancer ISIC The International Skin Imaging Collaboration/Train/dermatofibroma/output/dermatofibroma_original_ISIC_0033780.jpg_1ff1bf8f-29e2-4213-92d0-ed94815679d1.jpg',\n",
              " '/content/CNN_assignment/Skin cancer ISIC The International Skin Imaging Collaboration/Train/dermatofibroma/output/dermatofibroma_original_ISIC_0030021.jpg_fdce7650-4681-411d-8c10-89dbc2f27df0.jpg',\n",
              " '/content/CNN_assignment/Skin cancer ISIC The International Skin Imaging Collaboration/Train/dermatofibroma/output/dermatofibroma_original_ISIC_0026473.jpg_600f976d-f986-49d6-8c36-c9fd7d25bbd3.jpg',\n",
              " '/content/CNN_assignment/Skin cancer ISIC The International Skin Imaging Collaboration/Train/dermatofibroma/output/dermatofibroma_original_ISIC_0029130.jpg_a4f10d4b-efef-4e75-9eba-3caf1395ead1.jpg',\n",
              " '/content/CNN_assignment/Skin cancer ISIC The International Skin Imaging Collaboration/Train/dermatofibroma/output/dermatofibroma_original_ISIC_0031457.jpg_8b5e2757-4ddb-47f9-9ea5-e098bb0b60f8.jpg',\n",
              " '/content/CNN_assignment/Skin cancer ISIC The International Skin Imaging Collaboration/Train/dermatofibroma/output/dermatofibroma_original_ISIC_0033808.jpg_9ee6d782-59d3-467a-9acd-7e83e5493065.jpg',\n",
              " '/content/CNN_assignment/Skin cancer ISIC The International Skin Imaging Collaboration/Train/dermatofibroma/output/dermatofibroma_original_ISIC_0025903.jpg_9646182f-d136-424b-84cd-8127d208913e.jpg',\n",
              " '/content/CNN_assignment/Skin cancer ISIC The International Skin Imaging Collaboration/Train/dermatofibroma/output/dermatofibroma_original_ISIC_0025314.jpg_e3ac2507-4873-417c-a83b-014963c28a3e.jpg',\n",
              " '/content/CNN_assignment/Skin cancer ISIC The International Skin Imaging Collaboration/Train/dermatofibroma/output/dermatofibroma_original_ISIC_0027745.jpg_85109bb6-e2e5-43fd-9a0f-fa2eda35ae41.jpg',\n",
              " '/content/CNN_assignment/Skin cancer ISIC The International Skin Imaging Collaboration/Train/dermatofibroma/output/dermatofibroma_original_ISIC_0033790.jpg_47566e42-99a6-409a-8231-6217c6142cc4.jpg',\n",
              " '/content/CNN_assignment/Skin cancer ISIC The International Skin Imaging Collaboration/Train/dermatofibroma/output/dermatofibroma_original_ISIC_0025504.jpg_4b0cff7e-6aca-40b1-9477-0705ecedbc0b.jpg',\n",
              " '/content/CNN_assignment/Skin cancer ISIC The International Skin Imaging Collaboration/Train/dermatofibroma/output/dermatofibroma_original_ISIC_0031358.jpg_41831744-89f6-4629-9d98-352439a27a1f.jpg',\n",
              " '/content/CNN_assignment/Skin cancer ISIC The International Skin Imaging Collaboration/Train/dermatofibroma/output/dermatofibroma_original_ISIC_0026417.jpg_34fceb51-800d-4e1b-8346-177d32f6650a.jpg',\n",
              " '/content/CNN_assignment/Skin cancer ISIC The International Skin Imaging Collaboration/Train/dermatofibroma/output/dermatofibroma_original_ISIC_0025668.jpg_6f762e2d-0c43-4c28-91b2-cef65e1d086d.jpg',\n",
              " '/content/CNN_assignment/Skin cancer ISIC The International Skin Imaging Collaboration/Train/dermatofibroma/output/dermatofibroma_original_ISIC_0025302.jpg_891f6227-3424-4c81-8b64-c7be1e6f91c7.jpg',\n",
              " '/content/CNN_assignment/Skin cancer ISIC The International Skin Imaging Collaboration/Train/dermatofibroma/output/dermatofibroma_original_ISIC_0026473.jpg_740a713b-9ae5-46b2-9334-b02dbdeb80cf.jpg',\n",
              " '/content/CNN_assignment/Skin cancer ISIC The International Skin Imaging Collaboration/Train/dermatofibroma/output/dermatofibroma_original_ISIC_0030021.jpg_e47f812a-a8fb-4f33-83d1-84e4b2c883a2.jpg',\n",
              " '/content/CNN_assignment/Skin cancer ISIC The International Skin Imaging Collaboration/Train/dermatofibroma/output/dermatofibroma_original_ISIC_0030015.jpg_04fc894f-dc5b-4260-95aa-330fbba85668.jpg',\n",
              " '/content/CNN_assignment/Skin cancer ISIC The International Skin Imaging Collaboration/Train/dermatofibroma/output/dermatofibroma_original_ISIC_0033695.jpg_69ba22e6-3246-4455-b614-94b4f4d97c4f.jpg',\n",
              " '/content/CNN_assignment/Skin cancer ISIC The International Skin Imaging Collaboration/Train/dermatofibroma/output/dermatofibroma_original_ISIC_0025594.jpg_53703e8c-1a28-4822-bcbd-a7b2e6a1093e.jpg',\n",
              " '/content/CNN_assignment/Skin cancer ISIC The International Skin Imaging Collaboration/Train/dermatofibroma/output/dermatofibroma_original_ISIC_0030015.jpg_bf5af809-165d-4a23-9bd7-4c96743fa13a.jpg',\n",
              " '/content/CNN_assignment/Skin cancer ISIC The International Skin Imaging Collaboration/Train/dermatofibroma/output/dermatofibroma_original_ISIC_0025594.jpg_1fff1869-be28-4131-bbcc-644e5781d316.jpg',\n",
              " '/content/CNN_assignment/Skin cancer ISIC The International Skin Imaging Collaboration/Train/dermatofibroma/output/dermatofibroma_original_ISIC_0031372.jpg_314195eb-e032-4013-a67a-88b42c0b3153.jpg',\n",
              " '/content/CNN_assignment/Skin cancer ISIC The International Skin Imaging Collaboration/Train/dermatofibroma/output/dermatofibroma_original_ISIC_0029824.jpg_1b00bca0-ba63-4a2d-86d0-dd8e57c62835.jpg',\n",
              " '/content/CNN_assignment/Skin cancer ISIC The International Skin Imaging Collaboration/Train/dermatofibroma/output/dermatofibroma_original_ISIC_0031358.jpg_08759eb7-9eca-40b1-acca-de8e699b2062.jpg',\n",
              " '/content/CNN_assignment/Skin cancer ISIC The International Skin Imaging Collaboration/Train/dermatofibroma/output/dermatofibroma_original_ISIC_0029891.jpg_8f71b4ec-f4a6-46bf-81aa-2425740b8d43.jpg',\n",
              " '/content/CNN_assignment/Skin cancer ISIC The International Skin Imaging Collaboration/Train/dermatofibroma/output/dermatofibroma_original_ISIC_0030427.jpg_08cad107-30e0-4ffa-8a5a-26a372e578f6.jpg',\n",
              " '/content/CNN_assignment/Skin cancer ISIC The International Skin Imaging Collaboration/Train/dermatofibroma/output/dermatofibroma_original_ISIC_0028346.jpg_e182b5d9-ab3f-4e5e-89a1-5baf7a538adc.jpg',\n",
              " '/content/CNN_assignment/Skin cancer ISIC The International Skin Imaging Collaboration/Train/dermatofibroma/output/dermatofibroma_original_ISIC_0029039.jpg_1f053eae-3795-430c-8cce-48b7050bd265.jpg',\n",
              " '/content/CNN_assignment/Skin cancer ISIC The International Skin Imaging Collaboration/Train/dermatofibroma/output/dermatofibroma_original_ISIC_0027876.jpg_dfc3b91a-3403-47e4-96c9-a27d72a9ccc5.jpg',\n",
              " '/content/CNN_assignment/Skin cancer ISIC The International Skin Imaging Collaboration/Train/dermatofibroma/output/dermatofibroma_original_ISIC_0025622.jpg_58ba3071-652c-47ed-ab2c-bb71e9bbba81.jpg',\n",
              " '/content/CNN_assignment/Skin cancer ISIC The International Skin Imaging Collaboration/Train/dermatofibroma/output/dermatofibroma_original_ISIC_0025223.jpg_14b124e8-0007-40aa-9219-dc7c8df87707.jpg',\n",
              " '/content/CNN_assignment/Skin cancer ISIC The International Skin Imaging Collaboration/Train/dermatofibroma/output/dermatofibroma_original_ISIC_0027141.jpg_f37a3f1b-2176-41b5-bbd5-e556a5ac15ad.jpg',\n",
              " '/content/CNN_assignment/Skin cancer ISIC The International Skin Imaging Collaboration/Train/dermatofibroma/output/dermatofibroma_original_ISIC_0029824.jpg_d2ddd0f0-551f-4cb5-9d1b-3523ad04bd7d.jpg',\n",
              " '/content/CNN_assignment/Skin cancer ISIC The International Skin Imaging Collaboration/Train/dermatofibroma/output/dermatofibroma_original_ISIC_0029177.jpg_deb98fe7-4d5b-4add-8ed3-32005e05ea31.jpg',\n",
              " '/content/CNN_assignment/Skin cancer ISIC The International Skin Imaging Collaboration/Train/dermatofibroma/output/dermatofibroma_original_ISIC_0031271.jpg_47622cf6-b4d3-41b5-b8e3-3df7269e3d9a.jpg',\n",
              " '/content/CNN_assignment/Skin cancer ISIC The International Skin Imaging Collaboration/Train/dermatofibroma/output/dermatofibroma_original_ISIC_0032138.jpg_72a73d24-5355-4adf-8a89-311acbb64aef.jpg',\n",
              " '/content/CNN_assignment/Skin cancer ISIC The International Skin Imaging Collaboration/Train/dermatofibroma/output/dermatofibroma_original_ISIC_0027044.jpg_ee6502b8-c1cb-4051-8d37-5b15150a7f55.jpg',\n",
              " '/content/CNN_assignment/Skin cancer ISIC The International Skin Imaging Collaboration/Train/dermatofibroma/output/dermatofibroma_original_ISIC_0029962.jpg_f7ab26ec-fe7b-467c-a003-7251af098494.jpg',\n",
              " '/content/CNN_assignment/Skin cancer ISIC The International Skin Imaging Collaboration/Train/dermatofibroma/output/dermatofibroma_original_ISIC_0031429.jpg_5f1fb43a-7db3-43e2-a582-c77afcec3607.jpg',\n",
              " '/content/CNN_assignment/Skin cancer ISIC The International Skin Imaging Collaboration/Train/dermatofibroma/output/dermatofibroma_original_ISIC_0025668.jpg_ce779a58-847f-4180-8c50-ad08f1913373.jpg',\n",
              " '/content/CNN_assignment/Skin cancer ISIC The International Skin Imaging Collaboration/Train/dermatofibroma/output/dermatofibroma_original_ISIC_0025622.jpg_80f67451-e7eb-4a7b-ad1a-2235c985f1f5.jpg',\n",
              " '/content/CNN_assignment/Skin cancer ISIC The International Skin Imaging Collaboration/Train/dermatofibroma/output/dermatofibroma_original_ISIC_0033891.jpg_6ca7fd31-3eb0-40f8-807e-a7fc57dc8f61.jpg',\n",
              " '/content/CNN_assignment/Skin cancer ISIC The International Skin Imaging Collaboration/Train/dermatofibroma/output/dermatofibroma_original_ISIC_0033626.jpg_9e861145-90fa-40f3-92e9-1a231ff8be8b.jpg',\n",
              " '/content/CNN_assignment/Skin cancer ISIC The International Skin Imaging Collaboration/Train/dermatofibroma/output/dermatofibroma_original_ISIC_0032138.jpg_333af246-dc26-4ac0-82e5-2dfc6acfd673.jpg',\n",
              " '/content/CNN_assignment/Skin cancer ISIC The International Skin Imaging Collaboration/Train/dermatofibroma/output/dermatofibroma_original_ISIC_0031344.jpg_300288e3-e6e1-44e2-8ae7-7eb720923d47.jpg',\n",
              " '/content/CNN_assignment/Skin cancer ISIC The International Skin Imaging Collaboration/Train/dermatofibroma/output/dermatofibroma_original_ISIC_0025622.jpg_e1659e2b-4d2f-4e55-9a5e-2996ba078fa5.jpg',\n",
              " '/content/CNN_assignment/Skin cancer ISIC The International Skin Imaging Collaboration/Train/dermatofibroma/output/dermatofibroma_original_ISIC_0032941.jpg_ac4aecc9-fbdf-46af-bf87-e4e40340e64b.jpg',\n",
              " '/content/CNN_assignment/Skin cancer ISIC The International Skin Imaging Collaboration/Train/dermatofibroma/output/dermatofibroma_original_ISIC_0033860.jpg_0920ec84-9be1-4dd0-91ea-6fbb5591d884.jpg',\n",
              " '/content/CNN_assignment/Skin cancer ISIC The International Skin Imaging Collaboration/Train/dermatofibroma/output/dermatofibroma_original_ISIC_0030555.jpg_4640770f-a67b-4197-b444-97d15323bf20.jpg',\n",
              " '/content/CNN_assignment/Skin cancer ISIC The International Skin Imaging Collaboration/Train/dermatofibroma/output/dermatofibroma_original_ISIC_0026254.jpg_b69cc232-2c6c-467e-9c0d-7141b812ba1f.jpg',\n",
              " '/content/CNN_assignment/Skin cancer ISIC The International Skin Imaging Collaboration/Train/dermatofibroma/output/dermatofibroma_original_ISIC_0027626.jpg_054ac11c-7e12-483c-bbf1-a6e0faaec486.jpg',\n",
              " '/content/CNN_assignment/Skin cancer ISIC The International Skin Imaging Collaboration/Train/dermatofibroma/output/dermatofibroma_original_ISIC_0029248.jpg_4e7dfec5-1178-45e5-990b-f854a92a7185.jpg',\n",
              " '/content/CNN_assignment/Skin cancer ISIC The International Skin Imaging Collaboration/Train/dermatofibroma/output/dermatofibroma_original_ISIC_0033891.jpg_ae5d738c-5180-46a5-ade6-7ce0f16c6354.jpg',\n",
              " '/content/CNN_assignment/Skin cancer ISIC The International Skin Imaging Collaboration/Train/dermatofibroma/output/dermatofibroma_original_ISIC_0026629.jpg_be2635f7-36c9-4a3e-9009-cefdef945b6b.jpg',\n",
              " '/content/CNN_assignment/Skin cancer ISIC The International Skin Imaging Collaboration/Train/dermatofibroma/output/dermatofibroma_original_ISIC_0025594.jpg_f5fd76ce-1baf-4957-9525-cd7d6aaf91e3.jpg',\n",
              " '/content/CNN_assignment/Skin cancer ISIC The International Skin Imaging Collaboration/Train/dermatofibroma/output/dermatofibroma_original_ISIC_0033554.jpg_8f68e4ce-2176-42d0-bd05-f063e7c68d8c.jpg',\n",
              " '/content/CNN_assignment/Skin cancer ISIC The International Skin Imaging Collaboration/Train/dermatofibroma/output/dermatofibroma_original_ISIC_0028346.jpg_0f541ea0-46c1-49c1-948e-02a564ce33a9.jpg',\n",
              " '/content/CNN_assignment/Skin cancer ISIC The International Skin Imaging Collaboration/Train/dermatofibroma/output/dermatofibroma_original_ISIC_0029052.jpg_4c77eda9-b742-443d-88c4-07804afa0a7c.jpg',\n",
              " '/content/CNN_assignment/Skin cancer ISIC The International Skin Imaging Collaboration/Train/dermatofibroma/output/dermatofibroma_original_ISIC_0027216.jpg_1f644566-d96b-419f-bcf8-3e988df1fb94.jpg',\n",
              " '/content/CNN_assignment/Skin cancer ISIC The International Skin Imaging Collaboration/Train/dermatofibroma/output/dermatofibroma_original_ISIC_0033860.jpg_9bffa050-68ca-4478-bf6d-a7268a1cd678.jpg',\n",
              " '/content/CNN_assignment/Skin cancer ISIC The International Skin Imaging Collaboration/Train/dermatofibroma/output/dermatofibroma_original_ISIC_0030555.jpg_6b359361-dedc-4219-83df-e43a28ec60fe.jpg',\n",
              " '/content/CNN_assignment/Skin cancer ISIC The International Skin Imaging Collaboration/Train/dermatofibroma/output/dermatofibroma_original_ISIC_0029962.jpg_6b9db765-4f29-4690-a924-d5c9c6e86b61.jpg',\n",
              " '/content/CNN_assignment/Skin cancer ISIC The International Skin Imaging Collaboration/Train/dermatofibroma/output/dermatofibroma_original_ISIC_0032247.jpg_d03df5fd-ceb6-43be-a8b5-db86aa0ece28.jpg',\n",
              " '/content/CNN_assignment/Skin cancer ISIC The International Skin Imaging Collaboration/Train/dermatofibroma/output/dermatofibroma_original_ISIC_0025903.jpg_8e5afd24-ba45-4b14-98bc-a5e95dacd10c.jpg',\n",
              " '/content/CNN_assignment/Skin cancer ISIC The International Skin Imaging Collaboration/Train/dermatofibroma/output/dermatofibroma_original_ISIC_0029130.jpg_35783a56-f926-4978-810c-98b16929d6ac.jpg',\n",
              " '/content/CNN_assignment/Skin cancer ISIC The International Skin Imaging Collaboration/Train/dermatofibroma/output/dermatofibroma_original_ISIC_0029248.jpg_01960a43-1a91-4d4c-9c04-90927a9f9a2c.jpg',\n",
              " '/content/CNN_assignment/Skin cancer ISIC The International Skin Imaging Collaboration/Train/dermatofibroma/output/dermatofibroma_original_ISIC_0027648.jpg_d3515b5e-64e0-4e27-a8d5-3de0509472fe.jpg',\n",
              " '/content/CNN_assignment/Skin cancer ISIC The International Skin Imaging Collaboration/Train/dermatofibroma/output/dermatofibroma_original_ISIC_0032247.jpg_c01109d2-3123-424c-a85f-94853bc0ee67.jpg',\n",
              " '/content/CNN_assignment/Skin cancer ISIC The International Skin Imaging Collaboration/Train/dermatofibroma/output/dermatofibroma_original_ISIC_0029578.jpg_c63c1382-0dce-4356-8bb1-93765d99e0d2.jpg',\n",
              " '/content/CNN_assignment/Skin cancer ISIC The International Skin Imaging Collaboration/Train/dermatofibroma/output/dermatofibroma_original_ISIC_0033810.jpg_d5b85b94-f82f-47f7-822a-702d656dfe66.jpg',\n",
              " '/content/CNN_assignment/Skin cancer ISIC The International Skin Imaging Collaboration/Train/dermatofibroma/output/dermatofibroma_original_ISIC_0025373.jpg_462d1770-d4a0-4f1a-8d4b-b5c3d1e2a8db.jpg',\n",
              " '/content/CNN_assignment/Skin cancer ISIC The International Skin Imaging Collaboration/Train/dermatofibroma/output/dermatofibroma_original_ISIC_0031429.jpg_834db18c-1374-40ea-a531-ba07eb0f36db.jpg',\n",
              " '/content/CNN_assignment/Skin cancer ISIC The International Skin Imaging Collaboration/Train/dermatofibroma/output/dermatofibroma_original_ISIC_0027141.jpg_f998327b-6873-4ee6-abd6-ce2dcc4d794e.jpg',\n",
              " '/content/CNN_assignment/Skin cancer ISIC The International Skin Imaging Collaboration/Train/dermatofibroma/output/dermatofibroma_original_ISIC_0028926.jpg_06604888-2ecd-45ec-9c49-03355ad68989.jpg',\n",
              " '/content/CNN_assignment/Skin cancer ISIC The International Skin Imaging Collaboration/Train/dermatofibroma/output/dermatofibroma_original_ISIC_0031358.jpg_50c139b1-0d94-4d17-b58c-45f8d6730611.jpg',\n",
              " '/content/CNN_assignment/Skin cancer ISIC The International Skin Imaging Collaboration/Train/dermatofibroma/output/dermatofibroma_original_ISIC_0025302.jpg_88f345df-cad9-4a13-be47-eeb2f6201331.jpg',\n",
              " '/content/CNN_assignment/Skin cancer ISIC The International Skin Imaging Collaboration/Train/pigmented benign keratosis/output/pigmented benign keratosis_original_ISIC_0026737.jpg_4bfda405-e38d-4c4a-8cd4-72ae71361227.jpg',\n",
              " '/content/CNN_assignment/Skin cancer ISIC The International Skin Imaging Collaboration/Train/pigmented benign keratosis/output/pigmented benign keratosis_original_ISIC_0026301.jpg_716a9e37-cef9-4207-9fa1-7145dc18cd34.jpg',\n",
              " '/content/CNN_assignment/Skin cancer ISIC The International Skin Imaging Collaboration/Train/pigmented benign keratosis/output/pigmented benign keratosis_original_ISIC_0025431.jpg_7553a53f-b8c6-4cc0-ae5f-4d6c4c20a0fb.jpg',\n",
              " '/content/CNN_assignment/Skin cancer ISIC The International Skin Imaging Collaboration/Train/pigmented benign keratosis/output/pigmented benign keratosis_original_ISIC_0024910.jpg_49af0e3a-621d-483a-8cb2-96cc9836db24.jpg',\n",
              " '/content/CNN_assignment/Skin cancer ISIC The International Skin Imaging Collaboration/Train/pigmented benign keratosis/output/pigmented benign keratosis_original_ISIC_0025063.jpg_b32b5c47-f469-4128-a074-b30aa58c3760.jpg',\n",
              " '/content/CNN_assignment/Skin cancer ISIC The International Skin Imaging Collaboration/Train/pigmented benign keratosis/output/pigmented benign keratosis_original_ISIC_0024726.jpg_a25959cb-05eb-464a-ae27-6f17c2b729a4.jpg',\n",
              " '/content/CNN_assignment/Skin cancer ISIC The International Skin Imaging Collaboration/Train/pigmented benign keratosis/output/pigmented benign keratosis_original_ISIC_0024726.jpg_9c1d982d-0cba-46a0-8b4d-c92398cc4fae.jpg',\n",
              " '/content/CNN_assignment/Skin cancer ISIC The International Skin Imaging Collaboration/Train/pigmented benign keratosis/output/pigmented benign keratosis_original_ISIC_0027760.jpg_f0c2d540-f0d8-468b-90a6-c361f29b951e.jpg',\n",
              " '/content/CNN_assignment/Skin cancer ISIC The International Skin Imaging Collaboration/Train/pigmented benign keratosis/output/pigmented benign keratosis_original_ISIC_0027162.jpg_89333b34-c6cd-4c61-853d-441111426f1c.jpg',\n",
              " '/content/CNN_assignment/Skin cancer ISIC The International Skin Imaging Collaboration/Train/pigmented benign keratosis/output/pigmented benign keratosis_original_ISIC_0025374.jpg_6a5d7fd1-f856-4905-9d86-f59abb732110.jpg',\n",
              " '/content/CNN_assignment/Skin cancer ISIC The International Skin Imaging Collaboration/Train/pigmented benign keratosis/output/pigmented benign keratosis_original_ISIC_0025906.jpg_b54ec500-95ea-4666-92d1-8aecb93fb148.jpg',\n",
              " '/content/CNN_assignment/Skin cancer ISIC The International Skin Imaging Collaboration/Train/pigmented benign keratosis/output/pigmented benign keratosis_original_ISIC_0027437.jpg_65417872-4dc7-4f32-a885-9b892df20b55.jpg',\n",
              " '/content/CNN_assignment/Skin cancer ISIC The International Skin Imaging Collaboration/Train/pigmented benign keratosis/output/pigmented benign keratosis_original_ISIC_0026273.jpg_d9fffacb-408f-4f0b-b34f-c29766427d5d.jpg',\n",
              " '/content/CNN_assignment/Skin cancer ISIC The International Skin Imaging Collaboration/Train/pigmented benign keratosis/output/pigmented benign keratosis_original_ISIC_0025431.jpg_029958c1-fa3a-4ab9-b1ba-cf985539e56c.jpg',\n",
              " '/content/CNN_assignment/Skin cancer ISIC The International Skin Imaging Collaboration/Train/pigmented benign keratosis/output/pigmented benign keratosis_original_ISIC_0025136.jpg_39d7aa05-44e7-43a5-bb92-025a99d55991.jpg',\n",
              " '/content/CNN_assignment/Skin cancer ISIC The International Skin Imaging Collaboration/Train/pigmented benign keratosis/output/pigmented benign keratosis_original_ISIC_0025075.jpg_d78d028d-a227-4841-ba54-14f4cbde8972.jpg',\n",
              " '/content/CNN_assignment/Skin cancer ISIC The International Skin Imaging Collaboration/Train/pigmented benign keratosis/output/pigmented benign keratosis_original_ISIC_0027831.jpg_6069f3d7-97cd-4434-8007-dccaff87fcda.jpg',\n",
              " '/content/CNN_assignment/Skin cancer ISIC The International Skin Imaging Collaboration/Train/pigmented benign keratosis/output/pigmented benign keratosis_original_ISIC_0025642.jpg_b6f82b84-8c91-4877-8a44-ee8eae1e25a7.jpg',\n",
              " '/content/CNN_assignment/Skin cancer ISIC The International Skin Imaging Collaboration/Train/pigmented benign keratosis/output/pigmented benign keratosis_original_ISIC_0025113.jpg_927ee35c-6494-412e-be1e-1b9966638cd1.jpg',\n",
              " '/content/CNN_assignment/Skin cancer ISIC The International Skin Imaging Collaboration/Train/pigmented benign keratosis/output/pigmented benign keratosis_original_ISIC_0025874.jpg_963fe0d9-936b-4ba3-9835-063d779dad54.jpg',\n",
              " '/content/CNN_assignment/Skin cancer ISIC The International Skin Imaging Collaboration/Train/pigmented benign keratosis/output/pigmented benign keratosis_original_ISIC_0025876.jpg_f13ab994-cdc1-4234-bc9d-8b4b71b90986.jpg',\n",
              " '/content/CNN_assignment/Skin cancer ISIC The International Skin Imaging Collaboration/Train/pigmented benign keratosis/output/pigmented benign keratosis_original_ISIC_0025431.jpg_a127c2d6-1a51-427c-82bb-ab890ff60b20.jpg',\n",
              " '/content/CNN_assignment/Skin cancer ISIC The International Skin Imaging Collaboration/Train/pigmented benign keratosis/output/pigmented benign keratosis_original_ISIC_0027533.jpg_d4147d47-da5c-42fd-9000-e54dc6d5c5c6.jpg',\n",
              " '/content/CNN_assignment/Skin cancer ISIC The International Skin Imaging Collaboration/Train/pigmented benign keratosis/output/pigmented benign keratosis_original_ISIC_0025743.jpg_e43b7a15-eac8-4746-8225-ce706c75ecbf.jpg',\n",
              " '/content/CNN_assignment/Skin cancer ISIC The International Skin Imaging Collaboration/Train/pigmented benign keratosis/output/pigmented benign keratosis_original_ISIC_0025086.jpg_46aed2d4-05c1-474c-aa87-00af2870bb2c.jpg',\n",
              " '/content/CNN_assignment/Skin cancer ISIC The International Skin Imaging Collaboration/Train/pigmented benign keratosis/output/pigmented benign keratosis_original_ISIC_0025567.jpg_2f10f11e-bdea-49f0-a95e-f478ab0790e3.jpg',\n",
              " '/content/CNN_assignment/Skin cancer ISIC The International Skin Imaging Collaboration/Train/pigmented benign keratosis/output/pigmented benign keratosis_original_ISIC_0027953.jpg_4664c268-def6-4f7f-9dc7-585b8a382a9c.jpg',\n",
              " '/content/CNN_assignment/Skin cancer ISIC The International Skin Imaging Collaboration/Train/pigmented benign keratosis/output/pigmented benign keratosis_original_ISIC_0024971.jpg_74046cc2-3f92-4d4e-aab8-eaec3350a14d.jpg',\n",
              " '/content/CNN_assignment/Skin cancer ISIC The International Skin Imaging Collaboration/Train/pigmented benign keratosis/output/pigmented benign keratosis_original_ISIC_0027370.jpg_8153b658-4aa9-45a8-a000-bdd8d3d57620.jpg',\n",
              " '/content/CNN_assignment/Skin cancer ISIC The International Skin Imaging Collaboration/Train/pigmented benign keratosis/output/pigmented benign keratosis_original_ISIC_0025693.jpg_8db41e37-2cc4-4c21-a99b-01eb3687f89a.jpg',\n",
              " '/content/CNN_assignment/Skin cancer ISIC The International Skin Imaging Collaboration/Train/pigmented benign keratosis/output/pigmented benign keratosis_original_ISIC_0024883.jpg_81c2010e-2c0e-4f81-acc5-99f2dd5216c6.jpg',\n",
              " '/content/CNN_assignment/Skin cancer ISIC The International Skin Imaging Collaboration/Train/pigmented benign keratosis/output/pigmented benign keratosis_original_ISIC_0026679.jpg_7d80800d-c184-4262-958e-f67bda2d7b9d.jpg',\n",
              " '/content/CNN_assignment/Skin cancer ISIC The International Skin Imaging Collaboration/Train/pigmented benign keratosis/output/pigmented benign keratosis_original_ISIC_0024547.jpg_0d6936db-86b9-4d06-82c1-44bc22238597.jpg',\n",
              " '/content/CNN_assignment/Skin cancer ISIC The International Skin Imaging Collaboration/Train/pigmented benign keratosis/output/pigmented benign keratosis_original_ISIC_0025016.jpg_c71cb95d-1166-4714-8d06-62b41463aff8.jpg',\n",
              " '/content/CNN_assignment/Skin cancer ISIC The International Skin Imaging Collaboration/Train/pigmented benign keratosis/output/pigmented benign keratosis_original_ISIC_0027957.jpg_91a39dc6-7026-4975-b2ea-4b0435fbdbc2.jpg',\n",
              " '/content/CNN_assignment/Skin cancer ISIC The International Skin Imaging Collaboration/Train/pigmented benign keratosis/output/pigmented benign keratosis_original_ISIC_0028615.jpg_03ddbfe3-5a7c-4809-8f2a-bd85067f1d81.jpg',\n",
              " '/content/CNN_assignment/Skin cancer ISIC The International Skin Imaging Collaboration/Train/pigmented benign keratosis/output/pigmented benign keratosis_original_ISIC_0027437.jpg_0762de9e-7fdc-4e50-a122-23db15be4bc0.jpg',\n",
              " '/content/CNN_assignment/Skin cancer ISIC The International Skin Imaging Collaboration/Train/pigmented benign keratosis/output/pigmented benign keratosis_original_ISIC_0026205.jpg_135e85ca-6608-48d0-805c-f5c6cf321eff.jpg',\n",
              " '/content/CNN_assignment/Skin cancer ISIC The International Skin Imaging Collaboration/Train/pigmented benign keratosis/output/pigmented benign keratosis_original_ISIC_0027996.jpg_a740b703-06e9-4ab4-93a7-b7b543990db9.jpg',\n",
              " '/content/CNN_assignment/Skin cancer ISIC The International Skin Imaging Collaboration/Train/pigmented benign keratosis/output/pigmented benign keratosis_original_ISIC_0026263.jpg_536b027b-0256-47c3-aedc-3b5ea572db89.jpg',\n",
              " '/content/CNN_assignment/Skin cancer ISIC The International Skin Imaging Collaboration/Train/pigmented benign keratosis/output/pigmented benign keratosis_original_ISIC_0024982.jpg_abf2e2f9-bfbd-4f7c-a616-f80cbe7deef8.jpg',\n",
              " '/content/CNN_assignment/Skin cancer ISIC The International Skin Imaging Collaboration/Train/pigmented benign keratosis/output/pigmented benign keratosis_original_ISIC_0028331.jpg_68292cac-e219-4485-819a-3f6625da99d4.jpg',\n",
              " '/content/CNN_assignment/Skin cancer ISIC The International Skin Imaging Collaboration/Train/pigmented benign keratosis/output/pigmented benign keratosis_original_ISIC_0027681.jpg_a176886e-8c03-46ea-b9df-5e43ca9c9777.jpg',\n",
              " '/content/CNN_assignment/Skin cancer ISIC The International Skin Imaging Collaboration/Train/pigmented benign keratosis/output/pigmented benign keratosis_original_ISIC_0027706.jpg_1b413e90-d035-48df-9022-5b1abfc953bc.jpg',\n",
              " '/content/CNN_assignment/Skin cancer ISIC The International Skin Imaging Collaboration/Train/pigmented benign keratosis/output/pigmented benign keratosis_original_ISIC_0025345.jpg_a6b31340-8bc5-41ad-91e8-d52463245002.jpg',\n",
              " '/content/CNN_assignment/Skin cancer ISIC The International Skin Imaging Collaboration/Train/pigmented benign keratosis/output/pigmented benign keratosis_original_ISIC_0026205.jpg_6e98d872-683c-43ef-8398-062d1ded6af2.jpg',\n",
              " '/content/CNN_assignment/Skin cancer ISIC The International Skin Imaging Collaboration/Train/pigmented benign keratosis/output/pigmented benign keratosis_original_ISIC_0026219.jpg_c28cf3cd-2d50-4aa6-a3cf-477dfcfd28f7.jpg',\n",
              " '/content/CNN_assignment/Skin cancer ISIC The International Skin Imaging Collaboration/Train/pigmented benign keratosis/output/pigmented benign keratosis_original_ISIC_0026139.jpg_90c5d88f-d7e4-40cd-a274-5b532870d1cd.jpg',\n",
              " '/content/CNN_assignment/Skin cancer ISIC The International Skin Imaging Collaboration/Train/pigmented benign keratosis/output/pigmented benign keratosis_original_ISIC_0026159.jpg_845c991d-286c-48ad-8758-efdd45cd581d.jpg',\n",
              " '/content/CNN_assignment/Skin cancer ISIC The International Skin Imaging Collaboration/Train/pigmented benign keratosis/output/pigmented benign keratosis_original_ISIC_0025086.jpg_42b14341-d2f5-4227-972e-861cb7d29679.jpg',\n",
              " '/content/CNN_assignment/Skin cancer ISIC The International Skin Imaging Collaboration/Train/pigmented benign keratosis/output/pigmented benign keratosis_original_ISIC_0026744.jpg_90a35356-f2b0-484e-88b3-259745ebe189.jpg',\n",
              " '/content/CNN_assignment/Skin cancer ISIC The International Skin Imaging Collaboration/Train/pigmented benign keratosis/output/pigmented benign keratosis_original_ISIC_0027953.jpg_47f8819e-5027-465d-b0a2-485789089756.jpg',\n",
              " '/content/CNN_assignment/Skin cancer ISIC The International Skin Imaging Collaboration/Train/pigmented benign keratosis/output/pigmented benign keratosis_original_ISIC_0027735.jpg_660d5a76-dd12-4696-be07-e6c917e511c2.jpg',\n",
              " '/content/CNN_assignment/Skin cancer ISIC The International Skin Imaging Collaboration/Train/pigmented benign keratosis/output/pigmented benign keratosis_original_ISIC_0025180.jpg_24dab1c2-eac9-4762-8fdf-b6fd045d8907.jpg',\n",
              " '/content/CNN_assignment/Skin cancer ISIC The International Skin Imaging Collaboration/Train/pigmented benign keratosis/output/pigmented benign keratosis_original_ISIC_0027068.jpg_9c0d4d7b-36b7-48b9-a7d8-5826f19cda74.jpg',\n",
              " '/content/CNN_assignment/Skin cancer ISIC The International Skin Imaging Collaboration/Train/pigmented benign keratosis/output/pigmented benign keratosis_original_ISIC_0024982.jpg_f2eda85a-f234-4f67-abd7-19aca7be2f44.jpg',\n",
              " '/content/CNN_assignment/Skin cancer ISIC The International Skin Imaging Collaboration/Train/pigmented benign keratosis/output/pigmented benign keratosis_original_ISIC_0025484.jpg_ada04861-5301-4d34-9266-98a1e658615e.jpg',\n",
              " '/content/CNN_assignment/Skin cancer ISIC The International Skin Imaging Collaboration/Train/pigmented benign keratosis/output/pigmented benign keratosis_original_ISIC_0026069.jpg_0549d283-39f1-4dd3-b3dd-f0fe0768939c.jpg',\n",
              " '/content/CNN_assignment/Skin cancer ISIC The International Skin Imaging Collaboration/Train/pigmented benign keratosis/output/pigmented benign keratosis_original_ISIC_0026783.jpg_2dd9cb1f-6b1a-4cbc-8586-05896a594e8c.jpg',\n",
              " '/content/CNN_assignment/Skin cancer ISIC The International Skin Imaging Collaboration/Train/pigmented benign keratosis/output/pigmented benign keratosis_original_ISIC_0026135.jpg_aef57b1d-d7fa-48bb-9ee8-3910e8316283.jpg',\n",
              " '/content/CNN_assignment/Skin cancer ISIC The International Skin Imaging Collaboration/Train/pigmented benign keratosis/output/pigmented benign keratosis_original_ISIC_0025781.jpg_74ee1fa9-7621-4394-b339-042a53b60197.jpg',\n",
              " '/content/CNN_assignment/Skin cancer ISIC The International Skin Imaging Collaboration/Train/pigmented benign keratosis/output/pigmented benign keratosis_original_ISIC_0027332.jpg_7598201f-2c14-46ed-b87d-7cf03c384f01.jpg',\n",
              " '/content/CNN_assignment/Skin cancer ISIC The International Skin Imaging Collaboration/Train/pigmented benign keratosis/output/pigmented benign keratosis_original_ISIC_0026861.jpg_72ef5d76-df64-443e-9910-36013480f4d8.jpg',\n",
              " '/content/CNN_assignment/Skin cancer ISIC The International Skin Imaging Collaboration/Train/pigmented benign keratosis/output/pigmented benign keratosis_original_ISIC_0028490.jpg_4f6a2d5a-99f8-4582-acce-b8b923fd4954.jpg',\n",
              " '/content/CNN_assignment/Skin cancer ISIC The International Skin Imaging Collaboration/Train/pigmented benign keratosis/output/pigmented benign keratosis_original_ISIC_0025804.jpg_d023e0f3-f579-41e9-816d-6a6b3ed9a170.jpg',\n",
              " '/content/CNN_assignment/Skin cancer ISIC The International Skin Imaging Collaboration/Train/pigmented benign keratosis/output/pigmented benign keratosis_original_ISIC_0028343.jpg_0bc4664f-6603-4d34-b5f9-5e9cb7f7013d.jpg',\n",
              " '/content/CNN_assignment/Skin cancer ISIC The International Skin Imaging Collaboration/Train/pigmented benign keratosis/output/pigmented benign keratosis_original_ISIC_0027355.jpg_5a59a813-5a9c-4cb3-9602-26fe827b0860.jpg',\n",
              " '/content/CNN_assignment/Skin cancer ISIC The International Skin Imaging Collaboration/Train/pigmented benign keratosis/output/pigmented benign keratosis_original_ISIC_0027344.jpg_3d427a1d-e622-4471-badf-c8b53f5bbcd0.jpg',\n",
              " '/content/CNN_assignment/Skin cancer ISIC The International Skin Imaging Collaboration/Train/pigmented benign keratosis/output/pigmented benign keratosis_original_ISIC_0027533.jpg_ac0a80b7-e7d6-47e2-b8c6-cb9b7edea9c9.jpg',\n",
              " '/content/CNN_assignment/Skin cancer ISIC The International Skin Imaging Collaboration/Train/pigmented benign keratosis/output/pigmented benign keratosis_original_ISIC_0024453.jpg_e1709adf-19d8-4436-97c9-b1c5cc6e3675.jpg',\n",
              " '/content/CNN_assignment/Skin cancer ISIC The International Skin Imaging Collaboration/Train/pigmented benign keratosis/output/pigmented benign keratosis_original_ISIC_0027367.jpg_76966b14-2599-461c-9bcf-cfa917f553ff.jpg',\n",
              " '/content/CNN_assignment/Skin cancer ISIC The International Skin Imaging Collaboration/Train/pigmented benign keratosis/output/pigmented benign keratosis_original_ISIC_0028123.jpg_943ff4d3-b042-45ca-b2da-f4eb278c5212.jpg',\n",
              " '/content/CNN_assignment/Skin cancer ISIC The International Skin Imaging Collaboration/Train/pigmented benign keratosis/output/pigmented benign keratosis_original_ISIC_0027905.jpg_ffce682a-f7e6-4e1c-baf4-64dba3045d9c.jpg',\n",
              " '/content/CNN_assignment/Skin cancer ISIC The International Skin Imaging Collaboration/Train/pigmented benign keratosis/output/pigmented benign keratosis_original_ISIC_0028628.jpg_ba7b215b-a4f2-404f-a21e-3b9d861ec2c7.jpg',\n",
              " '/content/CNN_assignment/Skin cancer ISIC The International Skin Imaging Collaboration/Train/pigmented benign keratosis/output/pigmented benign keratosis_original_ISIC_0026849.jpg_b38d5bac-b212-4eda-8009-f2194338ca5c.jpg',\n",
              " '/content/CNN_assignment/Skin cancer ISIC The International Skin Imaging Collaboration/Train/pigmented benign keratosis/output/pigmented benign keratosis_original_ISIC_0026967.jpg_96780590-97cb-4760-8093-d6381cccee24.jpg',\n",
              " '/content/CNN_assignment/Skin cancer ISIC The International Skin Imaging Collaboration/Train/pigmented benign keratosis/output/pigmented benign keratosis_original_ISIC_0027202.jpg_dec1fc55-48a6-4086-bfb2-e703abba6d12.jpg',\n",
              " '/content/CNN_assignment/Skin cancer ISIC The International Skin Imaging Collaboration/Train/pigmented benign keratosis/output/pigmented benign keratosis_original_ISIC_0027419.jpg_9e91969e-b00b-4bb7-a7f4-2c221a6d532b.jpg',\n",
              " '/content/CNN_assignment/Skin cancer ISIC The International Skin Imaging Collaboration/Train/pigmented benign keratosis/output/pigmented benign keratosis_original_ISIC_0027162.jpg_225c9c90-3241-4c7e-92c2-cf96d8259936.jpg',\n",
              " '/content/CNN_assignment/Skin cancer ISIC The International Skin Imaging Collaboration/Train/pigmented benign keratosis/output/pigmented benign keratosis_original_ISIC_0027167.jpg_65e429bc-5db3-4885-83ef-5cc6fd8a59de.jpg',\n",
              " '/content/CNN_assignment/Skin cancer ISIC The International Skin Imaging Collaboration/Train/pigmented benign keratosis/output/pigmented benign keratosis_original_ISIC_0024489.jpg_70f4b5b3-dbcf-41ee-a8a6-4737322f0f19.jpg',\n",
              " '/content/CNN_assignment/Skin cancer ISIC The International Skin Imaging Collaboration/Train/pigmented benign keratosis/output/pigmented benign keratosis_original_ISIC_0027275.jpg_76a9857d-acd5-4430-84f4-486d3ac951ac.jpg',\n",
              " '/content/CNN_assignment/Skin cancer ISIC The International Skin Imaging Collaboration/Train/pigmented benign keratosis/output/pigmented benign keratosis_original_ISIC_0026744.jpg_0abbf249-ecde-492e-9324-e6c482e4548e.jpg',\n",
              " '/content/CNN_assignment/Skin cancer ISIC The International Skin Imaging Collaboration/Train/pigmented benign keratosis/output/pigmented benign keratosis_original_ISIC_0026523.jpg_b142ace3-6a85-44fe-9b63-502b76da02e1.jpg',\n",
              " '/content/CNN_assignment/Skin cancer ISIC The International Skin Imaging Collaboration/Train/pigmented benign keratosis/output/pigmented benign keratosis_original_ISIC_0025928.jpg_e751ffd5-75ee-4193-9c2c-e3953577edb4.jpg',\n",
              " '/content/CNN_assignment/Skin cancer ISIC The International Skin Imaging Collaboration/Train/pigmented benign keratosis/output/pigmented benign keratosis_original_ISIC_0025275.jpg_b7a52286-4b0b-4974-80a0-4431b8a38954.jpg',\n",
              " '/content/CNN_assignment/Skin cancer ISIC The International Skin Imaging Collaboration/Train/pigmented benign keratosis/output/pigmented benign keratosis_original_ISIC_0025642.jpg_e86c7a41-004d-4282-a6df-7cb6789fa4a7.jpg',\n",
              " '/content/CNN_assignment/Skin cancer ISIC The International Skin Imaging Collaboration/Train/pigmented benign keratosis/output/pigmented benign keratosis_original_ISIC_0028080.jpg_5000cb07-55e4-442e-8ccd-7e8128aa218b.jpg',\n",
              " '/content/CNN_assignment/Skin cancer ISIC The International Skin Imaging Collaboration/Train/pigmented benign keratosis/output/pigmented benign keratosis_original_ISIC_0024726.jpg_45313845-55c7-49fe-86d3-e9f066d0f8d6.jpg',\n",
              " '/content/CNN_assignment/Skin cancer ISIC The International Skin Imaging Collaboration/Train/pigmented benign keratosis/output/pigmented benign keratosis_original_ISIC_0024741.jpg_45956f84-2eb9-4768-adaf-558a3ab2e2da.jpg',\n",
              " '/content/CNN_assignment/Skin cancer ISIC The International Skin Imaging Collaboration/Train/pigmented benign keratosis/output/pigmented benign keratosis_original_ISIC_0025063.jpg_80eb704b-f03d-4a48-b789-82192e415fc8.jpg',\n",
              " '/content/CNN_assignment/Skin cancer ISIC The International Skin Imaging Collaboration/Train/pigmented benign keratosis/output/pigmented benign keratosis_original_ISIC_0028479.jpg_317d40b9-7434-4bc6-904c-30f321b02de4.jpg',\n",
              " '/content/CNN_assignment/Skin cancer ISIC The International Skin Imaging Collaboration/Train/pigmented benign keratosis/output/pigmented benign keratosis_original_ISIC_0024602.jpg_e0346562-bf20-459a-9001-83ce9131293f.jpg',\n",
              " '/content/CNN_assignment/Skin cancer ISIC The International Skin Imaging Collaboration/Train/pigmented benign keratosis/output/pigmented benign keratosis_original_ISIC_0027295.jpg_c3db7efd-28e0-4043-a110-35523f9d0a22.jpg',\n",
              " '/content/CNN_assignment/Skin cancer ISIC The International Skin Imaging Collaboration/Train/pigmented benign keratosis/output/pigmented benign keratosis_original_ISIC_0026539.jpg_5022d720-9c58-4215-ada4-09cb643f4b2e.jpg',\n",
              " '/content/CNN_assignment/Skin cancer ISIC The International Skin Imaging Collaboration/Train/pigmented benign keratosis/output/pigmented benign keratosis_original_ISIC_0027781.jpg_3b08d5e5-870b-4026-8a6f-e37c8c422f09.jpg',\n",
              " '/content/CNN_assignment/Skin cancer ISIC The International Skin Imaging Collaboration/Train/pigmented benign keratosis/output/pigmented benign keratosis_original_ISIC_0027142.jpg_f1db74a5-d464-49d3-babd-cb6d49450325.jpg',\n",
              " '/content/CNN_assignment/Skin cancer ISIC The International Skin Imaging Collaboration/Train/pigmented benign keratosis/output/pigmented benign keratosis_original_ISIC_0027419.jpg_f25e92f8-8fff-4515-abb0-ff9f48aa83bc.jpg',\n",
              " '/content/CNN_assignment/Skin cancer ISIC The International Skin Imaging Collaboration/Train/pigmented benign keratosis/output/pigmented benign keratosis_original_ISIC_0028200.jpg_8a094a3d-be54-41e1-a520-a1de856bbae3.jpg',\n",
              " '/content/CNN_assignment/Skin cancer ISIC The International Skin Imaging Collaboration/Train/pigmented benign keratosis/output/pigmented benign keratosis_original_ISIC_0026291.jpg_bd494017-8c44-4737-b0f3-bd503bbd35ad.jpg',\n",
              " '/content/CNN_assignment/Skin cancer ISIC The International Skin Imaging Collaboration/Train/pigmented benign keratosis/output/pigmented benign keratosis_original_ISIC_0027780.jpg_131113fe-578e-4f67-8f56-31d705dc57c2.jpg',\n",
              " '/content/CNN_assignment/Skin cancer ISIC The International Skin Imaging Collaboration/Train/pigmented benign keratosis/output/pigmented benign keratosis_original_ISIC_0027649.jpg_4a190cb5-7c7b-4599-a5da-9d07d984a433.jpg',\n",
              " '/content/CNN_assignment/Skin cancer ISIC The International Skin Imaging Collaboration/Train/pigmented benign keratosis/output/pigmented benign keratosis_original_ISIC_0027064.jpg_efd000e6-4c0b-44ae-a114-6d757567d954.jpg',\n",
              " '/content/CNN_assignment/Skin cancer ISIC The International Skin Imaging Collaboration/Train/pigmented benign keratosis/output/pigmented benign keratosis_original_ISIC_0025767.jpg_3503e0c9-6001-4519-88df-cb59ee76c221.jpg',\n",
              " '/content/CNN_assignment/Skin cancer ISIC The International Skin Imaging Collaboration/Train/pigmented benign keratosis/output/pigmented benign keratosis_original_ISIC_0024997.jpg_a98e84b8-f495-44c2-bbac-348131e9936c.jpg',\n",
              " '/content/CNN_assignment/Skin cancer ISIC The International Skin Imaging Collaboration/Train/pigmented benign keratosis/output/pigmented benign keratosis_original_ISIC_0028052.jpg_1576e008-a04e-47bf-8ddc-90800a5b1cb6.jpg',\n",
              " '/content/CNN_assignment/Skin cancer ISIC The International Skin Imaging Collaboration/Train/pigmented benign keratosis/output/pigmented benign keratosis_original_ISIC_0025810.jpg_74bd3efa-d8e6-473d-8655-e0ca66ff00f3.jpg',\n",
              " '/content/CNN_assignment/Skin cancer ISIC The International Skin Imaging Collaboration/Train/pigmented benign keratosis/output/pigmented benign keratosis_original_ISIC_0025040.jpg_8d44aded-a5cc-4fe3-9ff5-f68ffff0c7f3.jpg',\n",
              " '/content/CNN_assignment/Skin cancer ISIC The International Skin Imaging Collaboration/Train/pigmented benign keratosis/output/pigmented benign keratosis_original_ISIC_0026301.jpg_34bfacb1-1872-4916-bcec-ef363d47bd83.jpg',\n",
              " '/content/CNN_assignment/Skin cancer ISIC The International Skin Imaging Collaboration/Train/pigmented benign keratosis/output/pigmented benign keratosis_original_ISIC_0026843.jpg_f0ceb32c-a956-42e2-981b-61a8fe27eaa8.jpg',\n",
              " '/content/CNN_assignment/Skin cancer ISIC The International Skin Imaging Collaboration/Train/pigmented benign keratosis/output/pigmented benign keratosis_original_ISIC_0024839.jpg_e7caf655-c3eb-4314-a2dd-68f1d5c2eb53.jpg',\n",
              " '/content/CNN_assignment/Skin cancer ISIC The International Skin Imaging Collaboration/Train/pigmented benign keratosis/output/pigmented benign keratosis_original_ISIC_0025032.jpg_2969b029-a5d1-488a-af2b-fc8f7c2bb17d.jpg',\n",
              " '/content/CNN_assignment/Skin cancer ISIC The International Skin Imaging Collaboration/Train/pigmented benign keratosis/output/pigmented benign keratosis_original_ISIC_0027470.jpg_3798e1f7-eca4-4033-866c-c10475d534f2.jpg',\n",
              " '/content/CNN_assignment/Skin cancer ISIC The International Skin Imaging Collaboration/Train/pigmented benign keratosis/output/pigmented benign keratosis_original_ISIC_0026663.jpg_8b7823e5-bb2a-4d09-a421-77dd57466b0e.jpg',\n",
              " '/content/CNN_assignment/Skin cancer ISIC The International Skin Imaging Collaboration/Train/pigmented benign keratosis/output/pigmented benign keratosis_original_ISIC_0024910.jpg_4d8376fb-f737-40dc-95a8-a646f5230f9d.jpg',\n",
              " '/content/CNN_assignment/Skin cancer ISIC The International Skin Imaging Collaboration/Train/pigmented benign keratosis/output/pigmented benign keratosis_original_ISIC_0028646.jpg_34483997-957c-4d96-94e6-a73ed8686e7e.jpg',\n",
              " '/content/CNN_assignment/Skin cancer ISIC The International Skin Imaging Collaboration/Train/pigmented benign keratosis/output/pigmented benign keratosis_original_ISIC_0026409.jpg_6d9cde72-968b-47b1-bf87-8cc211d11402.jpg',\n",
              " '/content/CNN_assignment/Skin cancer ISIC The International Skin Imaging Collaboration/Train/pigmented benign keratosis/output/pigmented benign keratosis_original_ISIC_0027218.jpg_5e2fd7e6-a200-457e-9421-3740192bf467.jpg',\n",
              " '/content/CNN_assignment/Skin cancer ISIC The International Skin Imaging Collaboration/Train/pigmented benign keratosis/output/pigmented benign keratosis_original_ISIC_0024672.jpg_f6a23d38-3e49-4788-957e-403cf7ee962b.jpg',\n",
              " '/content/CNN_assignment/Skin cancer ISIC The International Skin Imaging Collaboration/Train/pigmented benign keratosis/output/pigmented benign keratosis_original_ISIC_0026846.jpg_6ee0de1b-b990-4976-b317-77f975d9cddd.jpg',\n",
              " '/content/CNN_assignment/Skin cancer ISIC The International Skin Imaging Collaboration/Train/pigmented benign keratosis/output/pigmented benign keratosis_original_ISIC_0024676.jpg_ebeae2f7-f45b-4871-b3d4-a093655b1972.jpg',\n",
              " '/content/CNN_assignment/Skin cancer ISIC The International Skin Imaging Collaboration/Train/pigmented benign keratosis/output/pigmented benign keratosis_original_ISIC_0027559.jpg_18f45d33-c094-490f-ad42-b93fb3d9c94f.jpg',\n",
              " '/content/CNN_assignment/Skin cancer ISIC The International Skin Imaging Collaboration/Train/pigmented benign keratosis/output/pigmented benign keratosis_original_ISIC_0024581.jpg_4bccea50-ae70-4d02-a9ee-701c84416fd9.jpg',\n",
              " '/content/CNN_assignment/Skin cancer ISIC The International Skin Imaging Collaboration/Train/pigmented benign keratosis/output/pigmented benign keratosis_original_ISIC_0028503.jpg_020ea34b-ee7f-42f8-889b-d12e670dc327.jpg',\n",
              " '/content/CNN_assignment/Skin cancer ISIC The International Skin Imaging Collaboration/Train/pigmented benign keratosis/output/pigmented benign keratosis_original_ISIC_0025064.jpg_48e708dc-6360-4f9e-98f6-7f92f8363f75.jpg',\n",
              " '/content/CNN_assignment/Skin cancer ISIC The International Skin Imaging Collaboration/Train/pigmented benign keratosis/output/pigmented benign keratosis_original_ISIC_0025906.jpg_be725933-05f0-4a71-bcf1-55e0a3553541.jpg',\n",
              " '/content/CNN_assignment/Skin cancer ISIC The International Skin Imaging Collaboration/Train/pigmented benign keratosis/output/pigmented benign keratosis_original_ISIC_0024602.jpg_4c27eda0-b386-465e-81c0-ad9781468fe0.jpg',\n",
              " '/content/CNN_assignment/Skin cancer ISIC The International Skin Imaging Collaboration/Train/pigmented benign keratosis/output/pigmented benign keratosis_original_ISIC_0026298.jpg_171720ff-fdcb-4280-bbb9-0dc51986c4d7.jpg',\n",
              " '/content/CNN_assignment/Skin cancer ISIC The International Skin Imaging Collaboration/Train/pigmented benign keratosis/output/pigmented benign keratosis_original_ISIC_0025066.jpg_29237536-7cf7-4e82-b97e-12922a994998.jpg',\n",
              " '/content/CNN_assignment/Skin cancer ISIC The International Skin Imaging Collaboration/Train/pigmented benign keratosis/output/pigmented benign keratosis_original_ISIC_0027239.jpg_4f816fbf-78cb-4dcb-8efb-35c17ade31ab.jpg',\n",
              " '/content/CNN_assignment/Skin cancer ISIC The International Skin Imaging Collaboration/Train/pigmented benign keratosis/output/pigmented benign keratosis_original_ISIC_0027710.jpg_eef20892-cc9e-46f9-b9f8-c920e9dbf604.jpg',\n",
              " '/content/CNN_assignment/Skin cancer ISIC The International Skin Imaging Collaboration/Train/pigmented benign keratosis/output/pigmented benign keratosis_original_ISIC_0027875.jpg_a5913154-ea35-4e7b-8095-b1a4eddcc83c.jpg',\n",
              " '/content/CNN_assignment/Skin cancer ISIC The International Skin Imaging Collaboration/Train/pigmented benign keratosis/output/pigmented benign keratosis_original_ISIC_0025526.jpg_fdcaaa40-fd82-499d-a01c-9abe669d3514.jpg',\n",
              " '/content/CNN_assignment/Skin cancer ISIC The International Skin Imaging Collaboration/Train/pigmented benign keratosis/output/pigmented benign keratosis_original_ISIC_0028593.jpg_a398b589-249e-4a51-a96f-6bcbe6286516.jpg',\n",
              " '/content/CNN_assignment/Skin cancer ISIC The International Skin Imaging Collaboration/Train/pigmented benign keratosis/output/pigmented benign keratosis_original_ISIC_0027068.jpg_9c750300-5b4a-4b1c-ae7a-f82d2653912a.jpg',\n",
              " '/content/CNN_assignment/Skin cancer ISIC The International Skin Imaging Collaboration/Train/pigmented benign keratosis/output/pigmented benign keratosis_original_ISIC_0026139.jpg_59d09dba-9167-4fc9-bf47-d4f978635eee.jpg',\n",
              " '/content/CNN_assignment/Skin cancer ISIC The International Skin Imaging Collaboration/Train/pigmented benign keratosis/output/pigmented benign keratosis_original_ISIC_0025083.jpg_07223fb1-9a56-454d-bd9b-39cebeed946b.jpg',\n",
              " '/content/CNN_assignment/Skin cancer ISIC The International Skin Imaging Collaboration/Train/pigmented benign keratosis/output/pigmented benign keratosis_original_ISIC_0027859.jpg_0aee4c0f-b16f-404f-a389-16673bf34b59.jpg',\n",
              " '/content/CNN_assignment/Skin cancer ISIC The International Skin Imaging Collaboration/Train/pigmented benign keratosis/output/pigmented benign keratosis_original_ISIC_0028094.jpg_ffcab090-50fd-4d77-a5ce-09efcc51b907.jpg',\n",
              " '/content/CNN_assignment/Skin cancer ISIC The International Skin Imaging Collaboration/Train/pigmented benign keratosis/output/pigmented benign keratosis_original_ISIC_0026631.jpg_40f124f3-e608-4921-aed4-5da645b720cc.jpg',\n",
              " '/content/CNN_assignment/Skin cancer ISIC The International Skin Imaging Collaboration/Train/pigmented benign keratosis/output/pigmented benign keratosis_original_ISIC_0024696.jpg_86e08c6c-82d2-481f-9fc5-80dc64bdead5.jpg',\n",
              " '/content/CNN_assignment/Skin cancer ISIC The International Skin Imaging Collaboration/Train/pigmented benign keratosis/output/pigmented benign keratosis_original_ISIC_0024446.jpg_eaa3c9ae-2e82-453f-ab62-7cd6a059a3a0.jpg',\n",
              " '/content/CNN_assignment/Skin cancer ISIC The International Skin Imaging Collaboration/Train/pigmented benign keratosis/output/pigmented benign keratosis_original_ISIC_0026955.jpg_227cde2c-f173-4321-ad74-e7b5dcc9f155.jpg',\n",
              " '/content/CNN_assignment/Skin cancer ISIC The International Skin Imaging Collaboration/Train/pigmented benign keratosis/output/pigmented benign keratosis_original_ISIC_0026280.jpg_81b8e72f-466b-4595-86e0-f481d970a8af.jpg',\n",
              " '/content/CNN_assignment/Skin cancer ISIC The International Skin Imaging Collaboration/Train/pigmented benign keratosis/output/pigmented benign keratosis_original_ISIC_0025659.jpg_95beb7b6-b441-4967-84e3-20677a8731bb.jpg',\n",
              " '/content/CNN_assignment/Skin cancer ISIC The International Skin Imaging Collaboration/Train/pigmented benign keratosis/output/pigmented benign keratosis_original_ISIC_0027026.jpg_e66b7936-00ea-4127-800d-52c74c5e4205.jpg',\n",
              " '/content/CNN_assignment/Skin cancer ISIC The International Skin Imaging Collaboration/Train/pigmented benign keratosis/output/pigmented benign keratosis_original_ISIC_0024877.jpg_a6d8b7f6-fe68-4ba7-b2d4-52205f114a94.jpg',\n",
              " '/content/CNN_assignment/Skin cancer ISIC The International Skin Imaging Collaboration/Train/pigmented benign keratosis/output/pigmented benign keratosis_original_ISIC_0024890.jpg_0c41423c-f672-4750-ba2f-c9137e8e9cf0.jpg',\n",
              " '/content/CNN_assignment/Skin cancer ISIC The International Skin Imaging Collaboration/Train/pigmented benign keratosis/output/pigmented benign keratosis_original_ISIC_0026273.jpg_f7705177-d29d-42b6-8351-af650dfa66b7.jpg',\n",
              " '/content/CNN_assignment/Skin cancer ISIC The International Skin Imaging Collaboration/Train/pigmented benign keratosis/output/pigmented benign keratosis_original_ISIC_0025982.jpg_9fe95a05-acb2-497a-a2b4-56e5ca9ae917.jpg',\n",
              " '/content/CNN_assignment/Skin cancer ISIC The International Skin Imaging Collaboration/Train/pigmented benign keratosis/output/pigmented benign keratosis_original_ISIC_0025366.jpg_fcb0249f-ba13-4df6-9ff5-3a10b1d21e14.jpg',\n",
              " '/content/CNN_assignment/Skin cancer ISIC The International Skin Imaging Collaboration/Train/pigmented benign keratosis/output/pigmented benign keratosis_original_ISIC_0026844.jpg_6846c36b-a652-418e-8a77-1104b424b0ef.jpg',\n",
              " '/content/CNN_assignment/Skin cancer ISIC The International Skin Imaging Collaboration/Train/pigmented benign keratosis/output/pigmented benign keratosis_original_ISIC_0025693.jpg_7913d1c8-dc85-45d0-890b-a32bcd72c03b.jpg',\n",
              " '/content/CNN_assignment/Skin cancer ISIC The International Skin Imaging Collaboration/Train/pigmented benign keratosis/output/pigmented benign keratosis_original_ISIC_0028294.jpg_40e542a9-f3ee-45fd-82c4-68d66e0cd54b.jpg',\n",
              " '/content/CNN_assignment/Skin cancer ISIC The International Skin Imaging Collaboration/Train/pigmented benign keratosis/output/pigmented benign keratosis_original_ISIC_0024880.jpg_ec32a395-08a2-4098-a2a7-ec6efafd22c3.jpg',\n",
              " '/content/CNN_assignment/Skin cancer ISIC The International Skin Imaging Collaboration/Train/pigmented benign keratosis/output/pigmented benign keratosis_original_ISIC_0024970.jpg_53f0a282-8e46-45cc-8a41-0c0c810f0cfd.jpg',\n",
              " '/content/CNN_assignment/Skin cancer ISIC The International Skin Imaging Collaboration/Train/pigmented benign keratosis/output/pigmented benign keratosis_original_ISIC_0025005.jpg_eeda0ce3-256e-4769-bbdd-c6e4bddbf581.jpg',\n",
              " '/content/CNN_assignment/Skin cancer ISIC The International Skin Imaging Collaboration/Train/pigmented benign keratosis/output/pigmented benign keratosis_original_ISIC_0025867.jpg_79f3bd63-bfd4-44d7-8732-57173f5a93d6.jpg',\n",
              " '/content/CNN_assignment/Skin cancer ISIC The International Skin Imaging Collaboration/Train/pigmented benign keratosis/output/pigmented benign keratosis_original_ISIC_0026526.jpg_e85af4cd-7ecf-40a2-b97d-3d645dfe4924.jpg',\n",
              " '/content/CNN_assignment/Skin cancer ISIC The International Skin Imaging Collaboration/Train/pigmented benign keratosis/output/pigmented benign keratosis_original_ISIC_0028656.jpg_df6fd4de-357d-4ea2-a0de-0ec064a27bc2.jpg',\n",
              " '/content/CNN_assignment/Skin cancer ISIC The International Skin Imaging Collaboration/Train/pigmented benign keratosis/output/pigmented benign keratosis_original_ISIC_0027584.jpg_0ff7cb84-cf4d-441d-8688-dbaf46359098.jpg',\n",
              " '/content/CNN_assignment/Skin cancer ISIC The International Skin Imaging Collaboration/Train/pigmented benign keratosis/output/pigmented benign keratosis_original_ISIC_0025470.jpg_5ccd31d2-4fd4-47c4-9d4d-94a9859424b8.jpg',\n",
              " '/content/CNN_assignment/Skin cancer ISIC The International Skin Imaging Collaboration/Train/pigmented benign keratosis/output/pigmented benign keratosis_original_ISIC_0024773.jpg_bc790114-a6da-48ee-8c8e-8ccf956662e1.jpg',\n",
              " '/content/CNN_assignment/Skin cancer ISIC The International Skin Imaging Collaboration/Train/pigmented benign keratosis/output/pigmented benign keratosis_original_ISIC_0026590.jpg_441eabc0-c977-4d41-a4ce-ba95e094c6d2.jpg',\n",
              " '/content/CNN_assignment/Skin cancer ISIC The International Skin Imaging Collaboration/Train/pigmented benign keratosis/output/pigmented benign keratosis_original_ISIC_0024471.jpg_dba2a6ca-bbf7-4084-869b-141a968206c9.jpg',\n",
              " '/content/CNN_assignment/Skin cancer ISIC The International Skin Imaging Collaboration/Train/pigmented benign keratosis/output/pigmented benign keratosis_original_ISIC_0027428.jpg_b6880878-e466-43a9-875b-11ff7fbad4f6.jpg',\n",
              " '/content/CNN_assignment/Skin cancer ISIC The International Skin Imaging Collaboration/Train/pigmented benign keratosis/output/pigmented benign keratosis_original_ISIC_0025326.jpg_78fdcf7b-b4c7-466f-88b2-11a553cf0003.jpg',\n",
              " '/content/CNN_assignment/Skin cancer ISIC The International Skin Imaging Collaboration/Train/pigmented benign keratosis/output/pigmented benign keratosis_original_ISIC_0027018.jpg_48a4cd4e-cf90-4f65-91ce-dc3d99232252.jpg',\n",
              " '/content/CNN_assignment/Skin cancer ISIC The International Skin Imaging Collaboration/Train/pigmented benign keratosis/output/pigmented benign keratosis_original_ISIC_0028593.jpg_93fafe2e-e839-42a5-b231-925ef6c4ea10.jpg',\n",
              " '/content/CNN_assignment/Skin cancer ISIC The International Skin Imaging Collaboration/Train/pigmented benign keratosis/output/pigmented benign keratosis_original_ISIC_0028511.jpg_aca594e8-90a3-4eef-9bab-f3460d71f120.jpg',\n",
              " '/content/CNN_assignment/Skin cancer ISIC The International Skin Imaging Collaboration/Train/pigmented benign keratosis/output/pigmented benign keratosis_original_ISIC_0027649.jpg_7a828455-ee4b-44cc-9eed-543ad3e59fe5.jpg',\n",
              " '/content/CNN_assignment/Skin cancer ISIC The International Skin Imaging Collaboration/Train/pigmented benign keratosis/output/pigmented benign keratosis_original_ISIC_0025387.jpg_a48ebce6-bc23-462a-9939-d77f0933ace4.jpg',\n",
              " '/content/CNN_assignment/Skin cancer ISIC The International Skin Imaging Collaboration/Train/pigmented benign keratosis/output/pigmented benign keratosis_original_ISIC_0025086.jpg_191cb306-864f-4a29-8451-af8f62428821.jpg',\n",
              " '/content/CNN_assignment/Skin cancer ISIC The International Skin Imaging Collaboration/Train/pigmented benign keratosis/output/pigmented benign keratosis_original_ISIC_0025575.jpg_b59c8fc3-d996-4325-b19d-600581983ec7.jpg',\n",
              " '/content/CNN_assignment/Skin cancer ISIC The International Skin Imaging Collaboration/Train/pigmented benign keratosis/output/pigmented benign keratosis_original_ISIC_0028414.jpg_1fd21a8a-730c-4697-9769-088b03e0c830.jpg',\n",
              " '/content/CNN_assignment/Skin cancer ISIC The International Skin Imaging Collaboration/Train/pigmented benign keratosis/output/pigmented benign keratosis_original_ISIC_0024489.jpg_d953d359-ade4-4f5b-abf6-1eb1626a30cd.jpg',\n",
              " '/content/CNN_assignment/Skin cancer ISIC The International Skin Imaging Collaboration/Train/pigmented benign keratosis/output/pigmented benign keratosis_original_ISIC_0024881.jpg_b61ec281-dec9-460f-8bca-331854795cfe.jpg',\n",
              " '/content/CNN_assignment/Skin cancer ISIC The International Skin Imaging Collaboration/Train/pigmented benign keratosis/output/pigmented benign keratosis_original_ISIC_0027770.jpg_ce9c5b3a-5f59-4eb2-bb5a-0c704d3ea210.jpg',\n",
              " '/content/CNN_assignment/Skin cancer ISIC The International Skin Imaging Collaboration/Train/pigmented benign keratosis/output/pigmented benign keratosis_original_ISIC_0026444.jpg_fb36c236-0966-4738-99df-000e1fd3b9b6.jpg',\n",
              " '/content/CNN_assignment/Skin cancer ISIC The International Skin Imaging Collaboration/Train/pigmented benign keratosis/output/pigmented benign keratosis_original_ISIC_0027326.jpg_f2effea5-4c59-4a8d-88dd-bce1cadeee88.jpg',\n",
              " '/content/CNN_assignment/Skin cancer ISIC The International Skin Imaging Collaboration/Train/pigmented benign keratosis/output/pigmented benign keratosis_original_ISIC_0028294.jpg_bb6e1cb4-f67d-4f50-9f26-8099ea90b23f.jpg',\n",
              " '/content/CNN_assignment/Skin cancer ISIC The International Skin Imaging Collaboration/Train/pigmented benign keratosis/output/pigmented benign keratosis_original_ISIC_0027781.jpg_f68f5209-b7b8-4694-bea5-3d176842d38d.jpg',\n",
              " '/content/CNN_assignment/Skin cancer ISIC The International Skin Imaging Collaboration/Train/pigmented benign keratosis/output/pigmented benign keratosis_original_ISIC_0028656.jpg_fee60cd6-56a9-4115-b14e-06e09cf86fb1.jpg',\n",
              " '/content/CNN_assignment/Skin cancer ISIC The International Skin Imaging Collaboration/Train/pigmented benign keratosis/output/pigmented benign keratosis_original_ISIC_0026846.jpg_79c0fbac-2c23-4201-b8f8-dcaad15428ea.jpg',\n",
              " '/content/CNN_assignment/Skin cancer ISIC The International Skin Imaging Collaboration/Train/pigmented benign keratosis/output/pigmented benign keratosis_original_ISIC_0025642.jpg_093f3fd0-d778-485f-b54a-782a209b0961.jpg',\n",
              " '/content/CNN_assignment/Skin cancer ISIC The International Skin Imaging Collaboration/Train/pigmented benign keratosis/output/pigmented benign keratosis_original_ISIC_0026524.jpg_9ff2fe58-c7ba-4c7c-9a18-034a23ac6207.jpg',\n",
              " '/content/CNN_assignment/Skin cancer ISIC The International Skin Imaging Collaboration/Train/pigmented benign keratosis/output/pigmented benign keratosis_original_ISIC_0027470.jpg_9eee861e-ac96-45a3-aa9c-d778468a5eca.jpg',\n",
              " '/content/CNN_assignment/Skin cancer ISIC The International Skin Imaging Collaboration/Train/pigmented benign keratosis/output/pigmented benign keratosis_original_ISIC_0024915.jpg_00c50a73-e39d-4204-b74d-0094e193170e.jpg',\n",
              " '/content/CNN_assignment/Skin cancer ISIC The International Skin Imaging Collaboration/Train/pigmented benign keratosis/output/pigmented benign keratosis_original_ISIC_0028615.jpg_1a77d977-c94d-41ef-bbaa-741a8c7de137.jpg',\n",
              " '/content/CNN_assignment/Skin cancer ISIC The International Skin Imaging Collaboration/Train/pigmented benign keratosis/output/pigmented benign keratosis_original_ISIC_0024643.jpg_69ff1673-9afa-4b89-bdee-daeb618c0b52.jpg',\n",
              " '/content/CNN_assignment/Skin cancer ISIC The International Skin Imaging Collaboration/Train/pigmented benign keratosis/output/pigmented benign keratosis_original_ISIC_0028020.jpg_8b9c2937-6949-4b2b-8ed2-8acf8897d35f.jpg',\n",
              " '/content/CNN_assignment/Skin cancer ISIC The International Skin Imaging Collaboration/Train/pigmented benign keratosis/output/pigmented benign keratosis_original_ISIC_0026409.jpg_fed89cf1-3e66-4545-a3be-341f8699944f.jpg',\n",
              " '/content/CNN_assignment/Skin cancer ISIC The International Skin Imaging Collaboration/Train/pigmented benign keratosis/output/pigmented benign keratosis_original_ISIC_0025519.jpg_6a2fb2b1-0bf4-410d-9aa1-c5ff21e90f24.jpg',\n",
              " '/content/CNN_assignment/Skin cancer ISIC The International Skin Imaging Collaboration/Train/pigmented benign keratosis/output/pigmented benign keratosis_original_ISIC_0028479.jpg_bda872a0-e3cc-46c3-9319-e27e2bb37c48.jpg',\n",
              " '/content/CNN_assignment/Skin cancer ISIC The International Skin Imaging Collaboration/Train/pigmented benign keratosis/output/pigmented benign keratosis_original_ISIC_0024786.jpg_17d66d39-57e6-42c8-9106-011f801099a0.jpg',\n",
              " '/content/CNN_assignment/Skin cancer ISIC The International Skin Imaging Collaboration/Train/pigmented benign keratosis/output/pigmented benign keratosis_original_ISIC_0027332.jpg_147b28ce-8752-4ad5-8394-c9d562f07713.jpg',\n",
              " '/content/CNN_assignment/Skin cancer ISIC The International Skin Imaging Collaboration/Train/pigmented benign keratosis/output/pigmented benign keratosis_original_ISIC_0027388.jpg_ae13bd89-4036-46b0-a798-47418f064a58.jpg',\n",
              " '/content/CNN_assignment/Skin cancer ISIC The International Skin Imaging Collaboration/Train/pigmented benign keratosis/output/pigmented benign keratosis_original_ISIC_0028347.jpg_68a3cea7-5584-49cc-875e-e1113becbe5e.jpg',\n",
              " '/content/CNN_assignment/Skin cancer ISIC The International Skin Imaging Collaboration/Train/pigmented benign keratosis/output/pigmented benign keratosis_original_ISIC_0026637.jpg_c3b4a56b-4f78-4d62-9662-1ea23bf91bf4.jpg',\n",
              " '/content/CNN_assignment/Skin cancer ISIC The International Skin Imaging Collaboration/Train/pigmented benign keratosis/output/pigmented benign keratosis_original_ISIC_0025973.jpg_a582a7af-fe93-4481-843d-13e3ff3a8684.jpg',\n",
              " '/content/CNN_assignment/Skin cancer ISIC The International Skin Imaging Collaboration/Train/pigmented benign keratosis/output/pigmented benign keratosis_original_ISIC_0027428.jpg_33489cbe-1b66-4d35-bdd5-ffab8dac618d.jpg',\n",
              " '/content/CNN_assignment/Skin cancer ISIC The International Skin Imaging Collaboration/Train/pigmented benign keratosis/output/pigmented benign keratosis_original_ISIC_0026556.jpg_aa1b7994-7323-4896-a382-a8a46428807e.jpg',\n",
              " '/content/CNN_assignment/Skin cancer ISIC The International Skin Imaging Collaboration/Train/pigmented benign keratosis/output/pigmented benign keratosis_original_ISIC_0026335.jpg_7ac0a1f9-9dd7-42e5-bddb-650552f43d12.jpg',\n",
              " '/content/CNN_assignment/Skin cancer ISIC The International Skin Imaging Collaboration/Train/pigmented benign keratosis/output/pigmented benign keratosis_original_ISIC_0027770.jpg_0d138552-9b77-43b7-a0f4-e2fa626d2fcf.jpg',\n",
              " '/content/CNN_assignment/Skin cancer ISIC The International Skin Imaging Collaboration/Train/pigmented benign keratosis/output/pigmented benign keratosis_original_ISIC_0024880.jpg_4a24fe2f-ca01-4490-beb8-c065a5209690.jpg',\n",
              " '/content/CNN_assignment/Skin cancer ISIC The International Skin Imaging Collaboration/Train/pigmented benign keratosis/output/pigmented benign keratosis_original_ISIC_0025066.jpg_7cccc0ea-1df7-4582-a561-d99f31cbb132.jpg',\n",
              " '/content/CNN_assignment/Skin cancer ISIC The International Skin Imaging Collaboration/Train/pigmented benign keratosis/output/pigmented benign keratosis_original_ISIC_0028622.jpg_b8bcfffe-a5f8-4993-a6cd-53f2a1badbd3.jpg',\n",
              " '/content/CNN_assignment/Skin cancer ISIC The International Skin Imaging Collaboration/Train/pigmented benign keratosis/output/pigmented benign keratosis_original_ISIC_0026895.jpg_bba44e81-faeb-4380-a507-bd22a3670598.jpg',\n",
              " '/content/CNN_assignment/Skin cancer ISIC The International Skin Imaging Collaboration/Train/pigmented benign keratosis/output/pigmented benign keratosis_original_ISIC_0024711.jpg_4ceea6ff-6d2b-4504-8ba4-a79e48752300.jpg',\n",
              " '/content/CNN_assignment/Skin cancer ISIC The International Skin Imaging Collaboration/Train/pigmented benign keratosis/output/pigmented benign keratosis_original_ISIC_0024982.jpg_01418214-36b9-4ea5-b096-2f3aa645aa06.jpg',\n",
              " '/content/CNN_assignment/Skin cancer ISIC The International Skin Imaging Collaboration/Train/pigmented benign keratosis/output/pigmented benign keratosis_original_ISIC_0025326.jpg_110488ac-c399-4249-8272-5ec1b63de8c0.jpg',\n",
              " '/content/CNN_assignment/Skin cancer ISIC The International Skin Imaging Collaboration/Train/pigmented benign keratosis/output/pigmented benign keratosis_original_ISIC_0026566.jpg_9a5e9dec-5c24-407b-9858-46a10a735b6a.jpg',\n",
              " '/content/CNN_assignment/Skin cancer ISIC The International Skin Imaging Collaboration/Train/pigmented benign keratosis/output/pigmented benign keratosis_original_ISIC_0028587.jpg_5e1e5981-8941-4f16-bbe3-9699fa1fcbdd.jpg',\n",
              " '/content/CNN_assignment/Skin cancer ISIC The International Skin Imaging Collaboration/Train/pigmented benign keratosis/output/pigmented benign keratosis_original_ISIC_0025654.jpg_f579db14-75b3-4289-adfc-363bdecd566d.jpg',\n",
              " '/content/CNN_assignment/Skin cancer ISIC The International Skin Imaging Collaboration/Train/pigmented benign keratosis/output/pigmented benign keratosis_original_ISIC_0027533.jpg_a79df95d-4f38-4c63-bbc4-95fe6fb71110.jpg',\n",
              " '/content/CNN_assignment/Skin cancer ISIC The International Skin Imaging Collaboration/Train/pigmented benign keratosis/output/pigmented benign keratosis_original_ISIC_0028628.jpg_b0ae8771-fe1c-4542-bebd-786de40d008d.jpg',\n",
              " '/content/CNN_assignment/Skin cancer ISIC The International Skin Imaging Collaboration/Train/pigmented benign keratosis/output/pigmented benign keratosis_original_ISIC_0024774.jpg_08eaad0b-9007-41bc-a837-fe2a4c89a3d5.jpg',\n",
              " '/content/CNN_assignment/Skin cancer ISIC The International Skin Imaging Collaboration/Train/pigmented benign keratosis/output/pigmented benign keratosis_original_ISIC_0025140.jpg_46250dd5-9efd-4ce7-b166-3647500a218b.jpg',\n",
              " '/content/CNN_assignment/Skin cancer ISIC The International Skin Imaging Collaboration/Train/pigmented benign keratosis/output/pigmented benign keratosis_original_ISIC_0024877.jpg_92b90ccd-0358-4cb9-8c46-2da47902eb5a.jpg',\n",
              " '/content/CNN_assignment/Skin cancer ISIC The International Skin Imaging Collaboration/Train/pigmented benign keratosis/output/pigmented benign keratosis_original_ISIC_0027470.jpg_058b1b0a-869b-4d72-976f-6db2d59e34b1.jpg',\n",
              " '/content/CNN_assignment/Skin cancer ISIC The International Skin Imaging Collaboration/Train/pigmented benign keratosis/output/pigmented benign keratosis_original_ISIC_0024915.jpg_05dfe315-5a71-4781-af30-97d10e366b6a.jpg',\n",
              " '/content/CNN_assignment/Skin cancer ISIC The International Skin Imaging Collaboration/Train/pigmented benign keratosis/output/pigmented benign keratosis_original_ISIC_0028449.jpg_33c2e653-a532-4757-9331-5955f693476e.jpg',\n",
              " '/content/CNN_assignment/Skin cancer ISIC The International Skin Imaging Collaboration/Train/pigmented benign keratosis/output/pigmented benign keratosis_original_ISIC_0024471.jpg_0f9b8232-8f06-41b9-b9d9-60ab45824a3b.jpg',\n",
              " '/content/CNN_assignment/Skin cancer ISIC The International Skin Imaging Collaboration/Train/pigmented benign keratosis/output/pigmented benign keratosis_original_ISIC_0026104.jpg_49a96a25-7362-4374-b926-6e343bd6fb3d.jpg',\n",
              " '/content/CNN_assignment/Skin cancer ISIC The International Skin Imaging Collaboration/Train/pigmented benign keratosis/output/pigmented benign keratosis_original_ISIC_0025874.jpg_a423dfc4-60e1-46ff-bbbf-ddc365955f42.jpg',\n",
              " '/content/CNN_assignment/Skin cancer ISIC The International Skin Imaging Collaboration/Train/pigmented benign keratosis/output/pigmented benign keratosis_original_ISIC_0024592.jpg_2ba8a5e0-0370-4277-a335-91a20bbd146d.jpg',\n",
              " '/content/CNN_assignment/Skin cancer ISIC The International Skin Imaging Collaboration/Train/pigmented benign keratosis/output/pigmented benign keratosis_original_ISIC_0026477.jpg_1359d175-45e5-45a6-b301-fea3fd82fa7c.jpg',\n",
              " '/content/CNN_assignment/Skin cancer ISIC The International Skin Imaging Collaboration/Train/pigmented benign keratosis/output/pigmented benign keratosis_original_ISIC_0027470.jpg_2bf3f6ff-b4bb-4bdf-997c-7187894d821b.jpg',\n",
              " '/content/CNN_assignment/Skin cancer ISIC The International Skin Imaging Collaboration/Train/pigmented benign keratosis/output/pigmented benign keratosis_original_ISIC_0024602.jpg_1789cb4f-a3b4-4fe8-a5bb-64e7cf76df8c.jpg',\n",
              " '/content/CNN_assignment/Skin cancer ISIC The International Skin Imaging Collaboration/Train/pigmented benign keratosis/output/pigmented benign keratosis_original_ISIC_0025937.jpg_99395c4f-40f4-4fbb-a723-e753e8ab2579.jpg',\n",
              " '/content/CNN_assignment/Skin cancer ISIC The International Skin Imaging Collaboration/Train/pigmented benign keratosis/output/pigmented benign keratosis_original_ISIC_0028376.jpg_7cfd9894-43b6-4a1a-b324-c5b3a99f6cc7.jpg',\n",
              " '/content/CNN_assignment/Skin cancer ISIC The International Skin Imaging Collaboration/Train/pigmented benign keratosis/output/pigmented benign keratosis_original_ISIC_0027991.jpg_2f5f0072-4224-433e-923a-27632eee6c32.jpg',\n",
              " '/content/CNN_assignment/Skin cancer ISIC The International Skin Imaging Collaboration/Train/pigmented benign keratosis/output/pigmented benign keratosis_original_ISIC_0028386.jpg_04ce9a97-4686-4a96-a23e-caa29247023b.jpg',\n",
              " '/content/CNN_assignment/Skin cancer ISIC The International Skin Imaging Collaboration/Train/pigmented benign keratosis/output/pigmented benign keratosis_original_ISIC_0026787.jpg_793e2c6d-a5ea-41c3-9bf3-64f7eb7615e5.jpg',\n",
              " '/content/CNN_assignment/Skin cancer ISIC The International Skin Imaging Collaboration/Train/pigmented benign keratosis/output/pigmented benign keratosis_original_ISIC_0026576.jpg_41774816-3be8-4ee7-8931-8ed2081b3c9c.jpg',\n",
              " '/content/CNN_assignment/Skin cancer ISIC The International Skin Imaging Collaboration/Train/pigmented benign keratosis/output/pigmented benign keratosis_original_ISIC_0028121.jpg_5a464b0d-9777-496e-acfd-dc3d7eb3888d.jpg',\n",
              " '/content/CNN_assignment/Skin cancer ISIC The International Skin Imaging Collaboration/Train/pigmented benign keratosis/output/pigmented benign keratosis_original_ISIC_0024890.jpg_e50b252f-f3d8-4e82-a17b-e364e7c35c8b.jpg',\n",
              " '/content/CNN_assignment/Skin cancer ISIC The International Skin Imaging Collaboration/Train/pigmented benign keratosis/output/pigmented benign keratosis_original_ISIC_0027612.jpg_c019c3b9-454b-4f18-9651-0b96d3cdb7ed.jpg',\n",
              " '/content/CNN_assignment/Skin cancer ISIC The International Skin Imaging Collaboration/Train/pigmented benign keratosis/output/pigmented benign keratosis_original_ISIC_0024676.jpg_9b72b7a6-c331-426f-9f21-b97b320680d2.jpg',\n",
              " '/content/CNN_assignment/Skin cancer ISIC The International Skin Imaging Collaboration/Train/pigmented benign keratosis/output/pigmented benign keratosis_original_ISIC_0028264.jpg_277be51d-278f-4c8d-bccf-4c02f9e4a0a2.jpg',\n",
              " '/content/CNN_assignment/Skin cancer ISIC The International Skin Imaging Collaboration/Train/pigmented benign keratosis/output/pigmented benign keratosis_original_ISIC_0027332.jpg_732eeb44-fa84-4bf7-9a9d-82af3fda5850.jpg',\n",
              " '/content/CNN_assignment/Skin cancer ISIC The International Skin Imaging Collaboration/Train/pigmented benign keratosis/output/pigmented benign keratosis_original_ISIC_0025068.jpg_6bf600a8-5301-43f1-a905-238e029e072d.jpg',\n",
              " '/content/CNN_assignment/Skin cancer ISIC The International Skin Imaging Collaboration/Train/pigmented benign keratosis/output/pigmented benign keratosis_original_ISIC_0027026.jpg_44cf0469-aca7-414a-a034-65289c0e9ed4.jpg',\n",
              " '/content/CNN_assignment/Skin cancer ISIC The International Skin Imaging Collaboration/Train/pigmented benign keratosis/output/pigmented benign keratosis_original_ISIC_0024623.jpg_b1a66fbf-0684-4d48-89bc-d6ffbd9662fa.jpg',\n",
              " '/content/CNN_assignment/Skin cancer ISIC The International Skin Imaging Collaboration/Train/pigmented benign keratosis/output/pigmented benign keratosis_original_ISIC_0026142.jpg_5bd2d38b-fcbb-4289-94bf-84f10c7ca3de.jpg',\n",
              " '/content/CNN_assignment/Skin cancer ISIC The International Skin Imaging Collaboration/Train/pigmented benign keratosis/output/pigmented benign keratosis_original_ISIC_0028611.jpg_24b45167-5d50-46c1-a6c7-3141edf79837.jpg',\n",
              " '/content/CNN_assignment/Skin cancer ISIC The International Skin Imaging Collaboration/Train/pigmented benign keratosis/output/pigmented benign keratosis_original_ISIC_0025465.jpg_62cb2fc3-f189-426c-b36a-15b357609c66.jpg',\n",
              " '/content/CNN_assignment/Skin cancer ISIC The International Skin Imaging Collaboration/Train/pigmented benign keratosis/output/pigmented benign keratosis_original_ISIC_0024782.jpg_24f248b6-412b-4c25-9ad9-1bfa62d9be06.jpg',\n",
              " '/content/CNN_assignment/Skin cancer ISIC The International Skin Imaging Collaboration/Train/pigmented benign keratosis/output/pigmented benign keratosis_original_ISIC_0024602.jpg_b4850bf5-2bed-4604-bc95-2692e19426f5.jpg',\n",
              " '/content/CNN_assignment/Skin cancer ISIC The International Skin Imaging Collaboration/Train/pigmented benign keratosis/output/pigmented benign keratosis_original_ISIC_0024758.jpg_c97a70cd-c413-440e-a3fc-3cc54356a6dd.jpg',\n",
              " '/content/CNN_assignment/Skin cancer ISIC The International Skin Imaging Collaboration/Train/pigmented benign keratosis/output/pigmented benign keratosis_original_ISIC_0026967.jpg_d6d9a0b8-074a-4e2b-bd19-69919c11d32e.jpg',\n",
              " '/content/CNN_assignment/Skin cancer ISIC The International Skin Imaging Collaboration/Train/pigmented benign keratosis/output/pigmented benign keratosis_original_ISIC_0025507.jpg_96221003-e683-43ff-9242-04dbcd237e51.jpg',\n",
              " '/content/CNN_assignment/Skin cancer ISIC The International Skin Imaging Collaboration/Train/pigmented benign keratosis/output/pigmented benign keratosis_original_ISIC_0026205.jpg_3891073b-72bc-40df-b74f-a2f279b73bba.jpg',\n",
              " '/content/CNN_assignment/Skin cancer ISIC The International Skin Imaging Collaboration/Train/pigmented benign keratosis/output/pigmented benign keratosis_original_ISIC_0027083.jpg_69c1ce3f-29ff-4272-88c9-52675de751b0.jpg',\n",
              " '/content/CNN_assignment/Skin cancer ISIC The International Skin Imaging Collaboration/Train/pigmented benign keratosis/output/pigmented benign keratosis_original_ISIC_0024477.jpg_22d806e0-0750-4b9b-9d5c-ce024d88a1a3.jpg',\n",
              " '/content/CNN_assignment/Skin cancer ISIC The International Skin Imaging Collaboration/Train/pigmented benign keratosis/output/pigmented benign keratosis_original_ISIC_0028376.jpg_a0af19e2-2d13-43cb-b42a-dbc936c26265.jpg',\n",
              " '/content/CNN_assignment/Skin cancer ISIC The International Skin Imaging Collaboration/Train/pigmented benign keratosis/output/pigmented benign keratosis_original_ISIC_0025515.jpg_c8f23555-a6b2-434b-8806-b9da7d2c1a91.jpg',\n",
              " '/content/CNN_assignment/Skin cancer ISIC The International Skin Imaging Collaboration/Train/pigmented benign keratosis/output/pigmented benign keratosis_original_ISIC_0026566.jpg_ee935c50-a21d-4436-b12e-e9b0ba8d6836.jpg',\n",
              " '/content/CNN_assignment/Skin cancer ISIC The International Skin Imaging Collaboration/Train/pigmented benign keratosis/output/pigmented benign keratosis_original_ISIC_0026174.jpg_07b6b722-68c1-4bf7-ba12-5d5c9f41450b.jpg',\n",
              " '/content/CNN_assignment/Skin cancer ISIC The International Skin Imaging Collaboration/Train/pigmented benign keratosis/output/pigmented benign keratosis_original_ISIC_0025879.jpg_0e9c6b27-52a9-4257-97c2-ccf1454ab059.jpg',\n",
              " '/content/CNN_assignment/Skin cancer ISIC The International Skin Imaging Collaboration/Train/pigmented benign keratosis/output/pigmented benign keratosis_original_ISIC_0025075.jpg_5957175e-edcf-459f-ae22-48699e38ff81.jpg',\n",
              " '/content/CNN_assignment/Skin cancer ISIC The International Skin Imaging Collaboration/Train/pigmented benign keratosis/output/pigmented benign keratosis_original_ISIC_0028622.jpg_6b357ebb-0499-4576-b3e7-848a6f190852.jpg',\n",
              " '/content/CNN_assignment/Skin cancer ISIC The International Skin Imaging Collaboration/Train/pigmented benign keratosis/output/pigmented benign keratosis_original_ISIC_0028309.jpg_e51c0751-9806-4b1d-b12e-a9faf63a63d2.jpg',\n",
              " '/content/CNN_assignment/Skin cancer ISIC The International Skin Imaging Collaboration/Train/pigmented benign keratosis/output/pigmented benign keratosis_original_ISIC_0026044.jpg_abc4c76d-77ea-4401-88b1-1b74de027e25.jpg',\n",
              " '/content/CNN_assignment/Skin cancer ISIC The International Skin Imaging Collaboration/Train/pigmented benign keratosis/output/pigmented benign keratosis_original_ISIC_0026849.jpg_6e1f3aca-6214-41e6-9e48-70f0b9377e8e.jpg',\n",
              " '/content/CNN_assignment/Skin cancer ISIC The International Skin Imaging Collaboration/Train/pigmented benign keratosis/output/pigmented benign keratosis_original_ISIC_0025693.jpg_c3e0e3e9-d192-45b7-9915-7f4ae7526aec.jpg',\n",
              " '/content/CNN_assignment/Skin cancer ISIC The International Skin Imaging Collaboration/Train/pigmented benign keratosis/output/pigmented benign keratosis_original_ISIC_0026446.jpg_108048bd-e920-4d20-8da3-0544a3a50228.jpg',\n",
              " '/content/CNN_assignment/Skin cancer ISIC The International Skin Imaging Collaboration/Train/pigmented benign keratosis/output/pigmented benign keratosis_original_ISIC_0027162.jpg_d8cadb94-7243-488e-a222-8674de93d486.jpg',\n",
              " '/content/CNN_assignment/Skin cancer ISIC The International Skin Imaging Collaboration/Train/pigmented benign keratosis/output/pigmented benign keratosis_original_ISIC_0026959.jpg_6fe739d1-94fc-4fc9-8c16-ade9cab91d42.jpg',\n",
              " '/content/CNN_assignment/Skin cancer ISIC The International Skin Imaging Collaboration/Train/pigmented benign keratosis/output/pigmented benign keratosis_original_ISIC_0026291.jpg_d2b72ceb-ec88-4d26-949b-ec5f88252fd9.jpg',\n",
              " '/content/CNN_assignment/Skin cancer ISIC The International Skin Imaging Collaboration/Train/pigmented benign keratosis/output/pigmented benign keratosis_original_ISIC_0028309.jpg_3e211257-7d7b-465d-a0a7-26961cfd33d1.jpg',\n",
              " '/content/CNN_assignment/Skin cancer ISIC The International Skin Imaging Collaboration/Train/pigmented benign keratosis/output/pigmented benign keratosis_original_ISIC_0025529.jpg_07b21cbd-d0e6-407e-b490-86b59cef97fc.jpg',\n",
              " '/content/CNN_assignment/Skin cancer ISIC The International Skin Imaging Collaboration/Train/pigmented benign keratosis/output/pigmented benign keratosis_original_ISIC_0027713.jpg_b385c976-d7af-430c-ba8d-450c53aacf7c.jpg',\n",
              " '/content/CNN_assignment/Skin cancer ISIC The International Skin Imaging Collaboration/Train/pigmented benign keratosis/output/pigmented benign keratosis_original_ISIC_0024890.jpg_a41d2638-4ea6-4a7c-be19-c0efe3584629.jpg',\n",
              " '/content/CNN_assignment/Skin cancer ISIC The International Skin Imaging Collaboration/Train/pigmented benign keratosis/output/pigmented benign keratosis_original_ISIC_0028331.jpg_bf32503d-30d2-432c-af9e-70f5fe6c015a.jpg',\n",
              " '/content/CNN_assignment/Skin cancer ISIC The International Skin Imaging Collaboration/Train/pigmented benign keratosis/output/pigmented benign keratosis_original_ISIC_0024850.jpg_97174bb4-d713-438c-9de6-96789b4813d1.jpg',\n",
              " '/content/CNN_assignment/Skin cancer ISIC The International Skin Imaging Collaboration/Train/pigmented benign keratosis/output/pigmented benign keratosis_original_ISIC_0027094.jpg_f59dd93d-c60e-4207-901b-40261e8ab52a.jpg',\n",
              " '/content/CNN_assignment/Skin cancer ISIC The International Skin Imaging Collaboration/Train/pigmented benign keratosis/output/pigmented benign keratosis_original_ISIC_0028555.jpg_89520ab1-7652-4251-a722-aa2fef1290e1.jpg',\n",
              " '/content/CNN_assignment/Skin cancer ISIC The International Skin Imaging Collaboration/Train/pigmented benign keratosis/output/pigmented benign keratosis_original_ISIC_0025388.jpg_c02eeaf1-f34f-4f30-a254-2c2228830d4b.jpg',\n",
              " '/content/CNN_assignment/Skin cancer ISIC The International Skin Imaging Collaboration/Train/pigmented benign keratosis/output/pigmented benign keratosis_original_ISIC_0028448.jpg_8232a3d3-1641-4235-be21-42db0405ec7a.jpg',\n",
              " '/content/CNN_assignment/Skin cancer ISIC The International Skin Imaging Collaboration/Train/pigmented benign keratosis/output/pigmented benign keratosis_original_ISIC_0027455.jpg_286fc0b9-a7e5-4bca-8c54-20a4dd70d818.jpg',\n",
              " '/content/CNN_assignment/Skin cancer ISIC The International Skin Imaging Collaboration/Train/pigmented benign keratosis/output/pigmented benign keratosis_original_ISIC_0028229.jpg_cce78eb3-fcbd-40bd-b45d-2f6a21292b39.jpg',\n",
              " '/content/CNN_assignment/Skin cancer ISIC The International Skin Imaging Collaboration/Train/pigmented benign keratosis/output/pigmented benign keratosis_original_ISIC_0026744.jpg_9b7ceca3-79a0-43d8-8a9e-ad05676704fe.jpg',\n",
              " '/content/CNN_assignment/Skin cancer ISIC The International Skin Imaging Collaboration/Train/pigmented benign keratosis/output/pigmented benign keratosis_original_ISIC_0024770.jpg_6edfdf8e-9bc3-445d-8756-4cd3f7ce1929.jpg',\n",
              " '/content/CNN_assignment/Skin cancer ISIC The International Skin Imaging Collaboration/Train/pigmented benign keratosis/output/pigmented benign keratosis_original_ISIC_0026277.jpg_f1307510-c817-4320-9f7a-6e52c59cd8cc.jpg',\n",
              " '/content/CNN_assignment/Skin cancer ISIC The International Skin Imaging Collaboration/Train/pigmented benign keratosis/output/pigmented benign keratosis_original_ISIC_0027041.jpg_c8c21ef8-b69f-46d9-9e7d-7157c95d3642.jpg',\n",
              " '/content/CNN_assignment/Skin cancer ISIC The International Skin Imaging Collaboration/Train/pigmented benign keratosis/output/pigmented benign keratosis_original_ISIC_0024711.jpg_44fc5a62-ab8e-4647-9887-c7695db57671.jpg',\n",
              " '/content/CNN_assignment/Skin cancer ISIC The International Skin Imaging Collaboration/Train/pigmented benign keratosis/output/pigmented benign keratosis_original_ISIC_0027354.jpg_dfdef276-c295-44e2-bfde-0b3fb2353378.jpg',\n",
              " '/content/CNN_assignment/Skin cancer ISIC The International Skin Imaging Collaboration/Train/pigmented benign keratosis/output/pigmented benign keratosis_original_ISIC_0025366.jpg_b35300a9-be3c-4155-b0d5-22e3a0a69abc.jpg',\n",
              " '/content/CNN_assignment/Skin cancer ISIC The International Skin Imaging Collaboration/Train/pigmented benign keratosis/output/pigmented benign keratosis_original_ISIC_0027094.jpg_13c894ed-17d5-46f3-b004-f8f3217a3e4d.jpg',\n",
              " '/content/CNN_assignment/Skin cancer ISIC The International Skin Imaging Collaboration/Train/pigmented benign keratosis/output/pigmented benign keratosis_original_ISIC_0026107.jpg_98ec9d7b-0abd-447f-a072-f8cb6ac620c1.jpg',\n",
              " '/content/CNN_assignment/Skin cancer ISIC The International Skin Imaging Collaboration/Train/pigmented benign keratosis/output/pigmented benign keratosis_original_ISIC_0025583.jpg_c8e5c452-0cc8-46e8-b739-4b6430d73fc9.jpg',\n",
              " '/content/CNN_assignment/Skin cancer ISIC The International Skin Imaging Collaboration/Train/pigmented benign keratosis/output/pigmented benign keratosis_original_ISIC_0025136.jpg_fc76e5ac-4b67-4e4c-a0d5-e7a14e71b8d6.jpg',\n",
              " '/content/CNN_assignment/Skin cancer ISIC The International Skin Imaging Collaboration/Train/pigmented benign keratosis/output/pigmented benign keratosis_original_ISIC_0025856.jpg_121c2f92-b812-402c-8d13-f9c41d9a8713.jpg',\n",
              " '/content/CNN_assignment/Skin cancer ISIC The International Skin Imaging Collaboration/Train/pigmented benign keratosis/output/pigmented benign keratosis_original_ISIC_0026248.jpg_f61c0d3c-408b-4687-b984-03be13cf7d65.jpg',\n",
              " '/content/CNN_assignment/Skin cancer ISIC The International Skin Imaging Collaboration/Train/pigmented benign keratosis/output/pigmented benign keratosis_original_ISIC_0026634.jpg_4d272ce5-4b95-40b9-9092-b67aad934e0a.jpg',\n",
              " '/content/CNN_assignment/Skin cancer ISIC The International Skin Imaging Collaboration/Train/pigmented benign keratosis/output/pigmented benign keratosis_original_ISIC_0026867.jpg_e93f490d-f002-4661-a227-efe659082ed3.jpg',\n",
              " '/content/CNN_assignment/Skin cancer ISIC The International Skin Imaging Collaboration/Train/pigmented benign keratosis/output/pigmented benign keratosis_original_ISIC_0026526.jpg_ddb6a6b4-2ab0-44c3-a75e-dc741f33261c.jpg',\n",
              " '/content/CNN_assignment/Skin cancer ISIC The International Skin Imaging Collaboration/Train/pigmented benign keratosis/output/pigmented benign keratosis_original_ISIC_0028052.jpg_a5ca9271-3413-4a64-8445-aab351e63353.jpg',\n",
              " '/content/CNN_assignment/Skin cancer ISIC The International Skin Imaging Collaboration/Train/pigmented benign keratosis/output/pigmented benign keratosis_original_ISIC_0026273.jpg_f177e11e-6af9-471b-9acc-6bca48a803fd.jpg',\n",
              " '/content/CNN_assignment/Skin cancer ISIC The International Skin Imaging Collaboration/Train/pigmented benign keratosis/output/pigmented benign keratosis_original_ISIC_0024877.jpg_ae2459ca-b502-4c71-989d-9a776b70f26f.jpg',\n",
              " '/content/CNN_assignment/Skin cancer ISIC The International Skin Imaging Collaboration/Train/pigmented benign keratosis/output/pigmented benign keratosis_original_ISIC_0024909.jpg_6cfaa2a4-a10b-4287-bbf8-36520fa921d7.jpg',\n",
              " '/content/CNN_assignment/Skin cancer ISIC The International Skin Imaging Collaboration/Train/pigmented benign keratosis/output/pigmented benign keratosis_original_ISIC_0026422.jpg_e9ab393c-7e51-49bf-9b26-adc2c82f3be6.jpg',\n",
              " '/content/CNN_assignment/Skin cancer ISIC The International Skin Imaging Collaboration/Train/pigmented benign keratosis/output/pigmented benign keratosis_original_ISIC_0024997.jpg_5581d1bb-deeb-4e02-80da-dfd184a5e5cf.jpg',\n",
              " '/content/CNN_assignment/Skin cancer ISIC The International Skin Imaging Collaboration/Train/pigmented benign keratosis/output/pigmented benign keratosis_original_ISIC_0024696.jpg_1ab47109-1085-4f5d-a1c9-62f8adee92d7.jpg',\n",
              " '/content/CNN_assignment/Skin cancer ISIC The International Skin Imaging Collaboration/Train/pigmented benign keratosis/output/pigmented benign keratosis_original_ISIC_0027527.jpg_466a898c-3720-448d-b112-062f53bdb5d3.jpg',\n",
              " '/content/CNN_assignment/Skin cancer ISIC The International Skin Imaging Collaboration/Train/pigmented benign keratosis/output/pigmented benign keratosis_original_ISIC_0025939.jpg_60f01bef-bbc6-444a-b336-636041914b62.jpg',\n",
              " '/content/CNN_assignment/Skin cancer ISIC The International Skin Imaging Collaboration/Train/pigmented benign keratosis/output/pigmented benign keratosis_original_ISIC_0027367.jpg_b60443ab-f74e-4569-85f3-50b8c8f6ccb0.jpg',\n",
              " '/content/CNN_assignment/Skin cancer ISIC The International Skin Imaging Collaboration/Train/pigmented benign keratosis/output/pigmented benign keratosis_original_ISIC_0027973.jpg_06fd4bce-3a49-42b2-9a8c-f66ea34e36a9.jpg',\n",
              " '/content/CNN_assignment/Skin cancer ISIC The International Skin Imaging Collaboration/Train/pigmented benign keratosis/output/pigmented benign keratosis_original_ISIC_0024880.jpg_dd2b8b46-3cfd-4b4f-9b24-fb530ed0029e.jpg',\n",
              " '/content/CNN_assignment/Skin cancer ISIC The International Skin Imaging Collaboration/Train/pigmented benign keratosis/output/pigmented benign keratosis_original_ISIC_0028124.jpg_e67bf828-2422-4c4f-8671-4da6a1610d98.jpg',\n",
              " '/content/CNN_assignment/Skin cancer ISIC The International Skin Imaging Collaboration/Train/pigmented benign keratosis/output/pigmented benign keratosis_original_ISIC_0026016.jpg_11998c21-1cda-4167-92ad-7560c06bddd6.jpg',\n",
              " '/content/CNN_assignment/Skin cancer ISIC The International Skin Imaging Collaboration/Train/pigmented benign keratosis/output/pigmented benign keratosis_original_ISIC_0026298.jpg_9dce670f-9494-4d53-a750-120fac3bdcfb.jpg',\n",
              " '/content/CNN_assignment/Skin cancer ISIC The International Skin Imaging Collaboration/Train/pigmented benign keratosis/output/pigmented benign keratosis_original_ISIC_0025389.jpg_a2c07b63-f451-462c-81f3-1fca52664bc2.jpg',\n",
              " '/content/CNN_assignment/Skin cancer ISIC The International Skin Imaging Collaboration/Train/pigmented benign keratosis/output/pigmented benign keratosis_original_ISIC_0026861.jpg_4efcafc6-1f9a-472c-9749-68c2beb88926.jpg',\n",
              " '/content/CNN_assignment/Skin cancer ISIC The International Skin Imaging Collaboration/Train/pigmented benign keratosis/output/pigmented benign keratosis_original_ISIC_0025351.jpg_9a0cdde9-bfd0-4072-ab0e-b6580a303a07.jpg',\n",
              " '/content/CNN_assignment/Skin cancer ISIC The International Skin Imaging Collaboration/Train/pigmented benign keratosis/output/pigmented benign keratosis_original_ISIC_0025830.jpg_ec245808-5db3-4871-983d-8df3c053136d.jpg',\n",
              " '/content/CNN_assignment/Skin cancer ISIC The International Skin Imaging Collaboration/Train/pigmented benign keratosis/output/pigmented benign keratosis_original_ISIC_0027017.jpg_ca3f9a09-27f9-48d7-b295-7d04641409f2.jpg',\n",
              " '/content/CNN_assignment/Skin cancer ISIC The International Skin Imaging Collaboration/Train/pigmented benign keratosis/output/pigmented benign keratosis_original_ISIC_0026409.jpg_f6fa9e0a-3252-4a8a-ad08-376d1b6bd8d4.jpg',\n",
              " '/content/CNN_assignment/Skin cancer ISIC The International Skin Imaging Collaboration/Train/pigmented benign keratosis/output/pigmented benign keratosis_original_ISIC_0027893.jpg_310a44a6-cdb6-4b85-aab3-2890ef1ef8a6.jpg',\n",
              " '/content/CNN_assignment/Skin cancer ISIC The International Skin Imaging Collaboration/Train/pigmented benign keratosis/output/pigmented benign keratosis_original_ISIC_0025753.jpg_82b8d632-e749-4224-8f6a-9b1cae738796.jpg',\n",
              " '/content/CNN_assignment/Skin cancer ISIC The International Skin Imaging Collaboration/Train/pigmented benign keratosis/output/pigmented benign keratosis_original_ISIC_0024825.jpg_4d53f455-c20d-4c61-9be3-a8d2c8836959.jpg',\n",
              " '/content/CNN_assignment/Skin cancer ISIC The International Skin Imaging Collaboration/Train/pigmented benign keratosis/output/pigmented benign keratosis_original_ISIC_0027916.jpg_1e721886-e8c6-4e87-9e3d-2fef2fbd2185.jpg',\n",
              " '/content/CNN_assignment/Skin cancer ISIC The International Skin Imaging Collaboration/Train/pigmented benign keratosis/output/pigmented benign keratosis_original_ISIC_0025837.jpg_056a395e-13c3-4736-bde0-695b20375acc.jpg',\n",
              " '/content/CNN_assignment/Skin cancer ISIC The International Skin Imaging Collaboration/Train/pigmented benign keratosis/output/pigmented benign keratosis_original_ISIC_0027064.jpg_f89ff2a2-c699-465a-b36b-926cda9dc36f.jpg',\n",
              " '/content/CNN_assignment/Skin cancer ISIC The International Skin Imaging Collaboration/Train/pigmented benign keratosis/output/pigmented benign keratosis_original_ISIC_0028525.jpg_4a018749-6a44-4ea3-bb3a-1810f7b03b5e.jpg',\n",
              " '/content/CNN_assignment/Skin cancer ISIC The International Skin Imaging Collaboration/Train/pigmented benign keratosis/output/pigmented benign keratosis_original_ISIC_0025515.jpg_0dbfe149-cd26-46d5-98f2-11280aed7375.jpg',\n",
              " '/content/CNN_assignment/Skin cancer ISIC The International Skin Imaging Collaboration/Train/pigmented benign keratosis/output/pigmented benign keratosis_original_ISIC_0024711.jpg_34c253b1-f3e8-4ea3-a01f-c01c811b365f.jpg',\n",
              " '/content/CNN_assignment/Skin cancer ISIC The International Skin Imaging Collaboration/Train/pigmented benign keratosis/output/pigmented benign keratosis_original_ISIC_0028354.jpg_20212061-9bfb-4f1b-955d-c7b948a54b7d.jpg',\n",
              " '/content/CNN_assignment/Skin cancer ISIC The International Skin Imaging Collaboration/Train/pigmented benign keratosis/output/pigmented benign keratosis_original_ISIC_0027037.jpg_618919f3-a8ac-418d-a087-8c319f836d32.jpg',\n",
              " '/content/CNN_assignment/Skin cancer ISIC The International Skin Imaging Collaboration/Train/pigmented benign keratosis/output/pigmented benign keratosis_original_ISIC_0027435.jpg_4c7446f8-6231-46df-b4b7-3c242f5845ab.jpg',\n",
              " '/content/CNN_assignment/Skin cancer ISIC The International Skin Imaging Collaboration/Train/pigmented benign keratosis/output/pigmented benign keratosis_original_ISIC_0028308.jpg_2911688b-39fb-4ffb-83d5-4ce9b24791a5.jpg',\n",
              " '/content/CNN_assignment/Skin cancer ISIC The International Skin Imaging Collaboration/Train/pigmented benign keratosis/output/pigmented benign keratosis_original_ISIC_0025851.jpg_31553c44-f08d-4273-a4db-2e88ec39b79f.jpg',\n",
              " '/content/CNN_assignment/Skin cancer ISIC The International Skin Imaging Collaboration/Train/pigmented benign keratosis/output/pigmented benign keratosis_original_ISIC_0028388.jpg_7782200a-109e-4390-83aa-cd124675e4fd.jpg',\n",
              " '/content/CNN_assignment/Skin cancer ISIC The International Skin Imaging Collaboration/Train/pigmented benign keratosis/output/pigmented benign keratosis_original_ISIC_0026205.jpg_b2b944ee-b8d1-4ca2-b256-75e1a3f20707.jpg',\n",
              " '/content/CNN_assignment/Skin cancer ISIC The International Skin Imaging Collaboration/Train/pigmented benign keratosis/output/pigmented benign keratosis_original_ISIC_0028336.jpg_2be3109a-2f7b-4c9c-a016-8b43e41f5bb3.jpg',\n",
              " '/content/CNN_assignment/Skin cancer ISIC The International Skin Imaging Collaboration/Train/pigmented benign keratosis/output/pigmented benign keratosis_original_ISIC_0027960.jpg_bab72217-d326-493d-89fe-61fc00ceb27f.jpg',\n",
              " '/content/CNN_assignment/Skin cancer ISIC The International Skin Imaging Collaboration/Train/pigmented benign keratosis/output/pigmented benign keratosis_original_ISIC_0027027.jpg_ebc0dfd6-e9e6-4b51-8485-4da0529cdaa9.jpg',\n",
              " '/content/CNN_assignment/Skin cancer ISIC The International Skin Imaging Collaboration/Train/pigmented benign keratosis/output/pigmented benign keratosis_original_ISIC_0027796.jpg_b158316a-0f52-446e-b293-5988ffe1713c.jpg',\n",
              " '/content/CNN_assignment/Skin cancer ISIC The International Skin Imaging Collaboration/Train/pigmented benign keratosis/output/pigmented benign keratosis_original_ISIC_0028497.jpg_833c5be3-f19d-4afd-9156-4b3c97dd3179.jpg',\n",
              " '/content/CNN_assignment/Skin cancer ISIC The International Skin Imaging Collaboration/Train/pigmented benign keratosis/output/pigmented benign keratosis_original_ISIC_0025465.jpg_33cc9935-49dd-4156-911b-a8ee14917979.jpg',\n",
              " '/content/CNN_assignment/Skin cancer ISIC The International Skin Imaging Collaboration/Train/pigmented benign keratosis/output/pigmented benign keratosis_original_ISIC_0025275.jpg_f2b156bf-85f9-47e3-a238-c823c3c38136.jpg',\n",
              " '/content/CNN_assignment/Skin cancer ISIC The International Skin Imaging Collaboration/Train/pigmented benign keratosis/output/pigmented benign keratosis_original_ISIC_0025885.jpg_1db8f48a-6c3c-46a4-af52-5445b4f875c5.jpg',\n",
              " '/content/CNN_assignment/Skin cancer ISIC The International Skin Imaging Collaboration/Train/pigmented benign keratosis/output/pigmented benign keratosis_original_ISIC_0027018.jpg_2c4b9732-90e8-4497-b5a1-299b8d1b0af0.jpg',\n",
              " '/content/CNN_assignment/Skin cancer ISIC The International Skin Imaging Collaboration/Train/pigmented benign keratosis/output/pigmented benign keratosis_original_ISIC_0028622.jpg_133e10aa-6cef-4199-94e1-232e9966dba7.jpg',\n",
              " '/content/CNN_assignment/Skin cancer ISIC The International Skin Imaging Collaboration/Train/pigmented benign keratosis/output/pigmented benign keratosis_original_ISIC_0028587.jpg_908c843f-0694-4a63-b601-3639dc2a7a79.jpg',\n",
              " '/content/CNN_assignment/Skin cancer ISIC The International Skin Imaging Collaboration/Train/pigmented benign keratosis/output/pigmented benign keratosis_original_ISIC_0027142.jpg_e5c43123-8096-4234-a3a6-9e6e0a15e1f2.jpg',\n",
              " '/content/CNN_assignment/Skin cancer ISIC The International Skin Imaging Collaboration/Train/pigmented benign keratosis/output/pigmented benign keratosis_original_ISIC_0027335.jpg_1cd6ae94-7619-4eb8-9815-28d7ebbe0400.jpg',\n",
              " '/content/CNN_assignment/Skin cancer ISIC The International Skin Imaging Collaboration/Train/pigmented benign keratosis/output/pigmented benign keratosis_original_ISIC_0026015.jpg_ca821f9f-ac5a-41b4-b208-0b2038fc8b96.jpg',\n",
              " '/content/CNN_assignment/Skin cancer ISIC The International Skin Imaging Collaboration/Train/pigmented benign keratosis/output/pigmented benign keratosis_original_ISIC_0024839.jpg_97c6a156-df6f-4e91-b384-c873121b4ead.jpg',\n",
              " '/content/CNN_assignment/Skin cancer ISIC The International Skin Imaging Collaboration/Train/pigmented benign keratosis/output/pigmented benign keratosis_original_ISIC_0026634.jpg_6e946793-aea9-4059-af2a-dd30d59f8bcd.jpg',\n",
              " '/content/CNN_assignment/Skin cancer ISIC The International Skin Imaging Collaboration/Train/pigmented benign keratosis/output/pigmented benign keratosis_original_ISIC_0027973.jpg_e7af4f85-73cb-4fdc-9a8b-053dd5ccd62f.jpg',\n",
              " '/content/CNN_assignment/Skin cancer ISIC The International Skin Imaging Collaboration/Train/pigmented benign keratosis/output/pigmented benign keratosis_original_ISIC_0025973.jpg_85dd488c-d19b-4051-9e2e-3362672584f1.jpg',\n",
              " '/content/CNN_assignment/Skin cancer ISIC The International Skin Imaging Collaboration/Train/pigmented benign keratosis/output/pigmented benign keratosis_original_ISIC_0026835.jpg_7a88a493-4f60-49ae-a444-1b28cb4ed34f.jpg',\n",
              " '/content/CNN_assignment/Skin cancer ISIC The International Skin Imaging Collaboration/Train/pigmented benign keratosis/output/pigmented benign keratosis_original_ISIC_0024773.jpg_a73c2008-4e4e-4b2b-bba8-625edd9dc0f0.jpg',\n",
              " '/content/CNN_assignment/Skin cancer ISIC The International Skin Imaging Collaboration/Train/pigmented benign keratosis/output/pigmented benign keratosis_original_ISIC_0025837.jpg_3226e98d-88f8-4196-9d82-6c2371d14c91.jpg',\n",
              " '/content/CNN_assignment/Skin cancer ISIC The International Skin Imaging Collaboration/Train/pigmented benign keratosis/output/pigmented benign keratosis_original_ISIC_0024705.jpg_857c680e-0ecc-4439-bdb8-a17f242f9d12.jpg',\n",
              " '/content/CNN_assignment/Skin cancer ISIC The International Skin Imaging Collaboration/Train/pigmented benign keratosis/output/pigmented benign keratosis_original_ISIC_0025076.jpg_65f10507-cde0-4514-a317-d369f99a7e8e.jpg',\n",
              " '/content/CNN_assignment/Skin cancer ISIC The International Skin Imaging Collaboration/Train/pigmented benign keratosis/output/pigmented benign keratosis_original_ISIC_0025743.jpg_8b1a908e-7ea6-4011-8b02-c78ca0c104b8.jpg',\n",
              " '/content/CNN_assignment/Skin cancer ISIC The International Skin Imaging Collaboration/Train/pigmented benign keratosis/output/pigmented benign keratosis_original_ISIC_0026844.jpg_065fd9ec-accf-47f6-8e3c-c90c92aee6d3.jpg',\n",
              " '/content/CNN_assignment/Skin cancer ISIC The International Skin Imaging Collaboration/Train/pigmented benign keratosis/output/pigmented benign keratosis_original_ISIC_0025703.jpg_ee58c4ba-b978-4a2e-bab8-20d54a4c4898.jpg',\n",
              " '/content/CNN_assignment/Skin cancer ISIC The International Skin Imaging Collaboration/Train/pigmented benign keratosis/output/pigmented benign keratosis_original_ISIC_0027989.jpg_8fb24256-6f70-42d1-a457-79f40c446a10.jpg',\n",
              " '/content/CNN_assignment/Skin cancer ISIC The International Skin Imaging Collaboration/Train/pigmented benign keratosis/output/pigmented benign keratosis_original_ISIC_0027428.jpg_e8b9e5a9-0df3-46b1-a17f-c919f886a740.jpg',\n",
              " '/content/CNN_assignment/Skin cancer ISIC The International Skin Imaging Collaboration/Train/pigmented benign keratosis/output/pigmented benign keratosis_original_ISIC_0027796.jpg_52c3c4e0-1cc9-4612-b6c8-524832d61a0a.jpg',\n",
              " '/content/CNN_assignment/Skin cancer ISIC The International Skin Imaging Collaboration/Train/pigmented benign keratosis/output/pigmented benign keratosis_original_ISIC_0027392.jpg_654ce732-494e-4dec-bed1-88126ba86d50.jpg',\n",
              " '/content/CNN_assignment/Skin cancer ISIC The International Skin Imaging Collaboration/Train/pigmented benign keratosis/output/pigmented benign keratosis_original_ISIC_0025326.jpg_38939646-28a6-4a85-8428-4b35c42e1304.jpg',\n",
              " '/content/CNN_assignment/Skin cancer ISIC The International Skin Imaging Collaboration/Train/pigmented benign keratosis/output/pigmented benign keratosis_original_ISIC_0027584.jpg_4fd576e8-3ece-4c47-89b2-c22109d4edbe.jpg',\n",
              " '/content/CNN_assignment/Skin cancer ISIC The International Skin Imaging Collaboration/Train/pigmented benign keratosis/output/pigmented benign keratosis_original_ISIC_0025388.jpg_a22f950e-c799-45b4-aabf-0df4d5789268.jpg',\n",
              " '/content/CNN_assignment/Skin cancer ISIC The International Skin Imaging Collaboration/Train/pigmented benign keratosis/output/pigmented benign keratosis_original_ISIC_0026775.jpg_e1f1e8e7-8b5e-49cf-80c7-b5535f03ffda.jpg',\n",
              " '/content/CNN_assignment/Skin cancer ISIC The International Skin Imaging Collaboration/Train/pigmented benign keratosis/output/pigmented benign keratosis_original_ISIC_0026606.jpg_1771931f-7cb6-4ecf-ab24-f68e59fccc4f.jpg',\n",
              " '/content/CNN_assignment/Skin cancer ISIC The International Skin Imaging Collaboration/Train/pigmented benign keratosis/output/pigmented benign keratosis_original_ISIC_0025856.jpg_36c7c5f1-8669-407f-b2dc-a96cfb2e0fb3.jpg',\n",
              " '/content/CNN_assignment/Skin cancer ISIC The International Skin Imaging Collaboration/Train/pigmented benign keratosis/output/pigmented benign keratosis_original_ISIC_0025136.jpg_1602bd25-22d5-4541-8977-27f8b01c129a.jpg',\n",
              " '/content/CNN_assignment/Skin cancer ISIC The International Skin Imaging Collaboration/Train/pigmented benign keratosis/output/pigmented benign keratosis_original_ISIC_0025838.jpg_3b4fe9cf-7c33-48d0-b3e6-79d3c27eef89.jpg',\n",
              " '/content/CNN_assignment/Skin cancer ISIC The International Skin Imaging Collaboration/Train/pigmented benign keratosis/output/pigmented benign keratosis_original_ISIC_0025982.jpg_66fa7379-4f8d-4249-95a0-ce0b3b3e4913.jpg',\n",
              " '/content/CNN_assignment/Skin cancer ISIC The International Skin Imaging Collaboration/Train/pigmented benign keratosis/output/pigmented benign keratosis_original_ISIC_0025083.jpg_2d793952-e7da-4bd0-93f1-150fd5296f51.jpg',\n",
              " '/content/CNN_assignment/Skin cancer ISIC The International Skin Imaging Collaboration/Train/pigmented benign keratosis/output/pigmented benign keratosis_original_ISIC_0027982.jpg_a35b19c5-bc2c-45f7-83e5-dd90afcb8198.jpg',\n",
              " '/content/CNN_assignment/Skin cancer ISIC The International Skin Imaging Collaboration/Train/pigmented benign keratosis/output/pigmented benign keratosis_original_ISIC_0028104.jpg_34edb8d1-9b48-4e67-8d8b-ca29046c36ed.jpg',\n",
              " '/content/CNN_assignment/Skin cancer ISIC The International Skin Imaging Collaboration/Train/pigmented benign keratosis/output/pigmented benign keratosis_original_ISIC_0025716.jpg_655fb337-009f-4417-91f0-a4eb5ed32899.jpg',\n",
              " '/content/CNN_assignment/Skin cancer ISIC The International Skin Imaging Collaboration/Train/pigmented benign keratosis/output/pigmented benign keratosis_original_ISIC_0027513.jpg_efb304dd-b42b-4bf1-a597-e0022aef1c00.jpg',\n",
              " '/content/CNN_assignment/Skin cancer ISIC The International Skin Imaging Collaboration/Train/pigmented benign keratosis/output/pigmented benign keratosis_original_ISIC_0025466.jpg_77f1977a-ac55-456c-9798-463766fb60c5.jpg',\n",
              " '/content/CNN_assignment/Skin cancer ISIC The International Skin Imaging Collaboration/Train/pigmented benign keratosis/output/pigmented benign keratosis_original_ISIC_0025312.jpg_c34f576e-03f9-4cdb-9738-9347b42795da.jpg',\n",
              " '/content/CNN_assignment/Skin cancer ISIC The International Skin Imaging Collaboration/Train/pigmented benign keratosis/output/pigmented benign keratosis_original_ISIC_0028389.jpg_26872bf5-023c-46c7-b473-33200b7d4a49.jpg',\n",
              " '/content/CNN_assignment/Skin cancer ISIC The International Skin Imaging Collaboration/Train/pigmented benign keratosis/output/pigmented benign keratosis_original_ISIC_0026291.jpg_acab21ac-68c4-4781-8f12-0d9f1ba3c66b.jpg',\n",
              " '/content/CNN_assignment/Skin cancer ISIC The International Skin Imaging Collaboration/Train/pigmented benign keratosis/output/pigmented benign keratosis_original_ISIC_0025876.jpg_87217109-3ab6-41c8-b979-73decc44b5c2.jpg',\n",
              " '/content/CNN_assignment/Skin cancer ISIC The International Skin Imaging Collaboration/Train/pigmented benign keratosis/output/pigmented benign keratosis_original_ISIC_0026947.jpg_5ab1224d-30fb-4339-901e-09b3dc7d1417.jpg',\n",
              " '/content/CNN_assignment/Skin cancer ISIC The International Skin Imaging Collaboration/Train/pigmented benign keratosis/output/pigmented benign keratosis_original_ISIC_0026846.jpg_7c5a99f5-e073-40cc-914e-e46afcff39f6.jpg',\n",
              " '/content/CNN_assignment/Skin cancer ISIC The International Skin Imaging Collaboration/Train/pigmented benign keratosis/output/pigmented benign keratosis_original_ISIC_0024705.jpg_2adfaea1-0f5d-457b-8dbe-838b34f8527a.jpg',\n",
              " '/content/CNN_assignment/Skin cancer ISIC The International Skin Imaging Collaboration/Train/pigmented benign keratosis/output/pigmented benign keratosis_original_ISIC_0028449.jpg_a5a6ec82-c007-4cf1-847a-e29d0638b86d.jpg',\n",
              " '/content/CNN_assignment/Skin cancer ISIC The International Skin Imaging Collaboration/Train/pigmented benign keratosis/output/pigmented benign keratosis_original_ISIC_0026790.jpg_cba4a25c-84db-41c8-937a-96888ff38471.jpg',\n",
              " '/content/CNN_assignment/Skin cancer ISIC The International Skin Imaging Collaboration/Train/pigmented benign keratosis/output/pigmented benign keratosis_original_ISIC_0024883.jpg_f18a02e8-6911-4621-810a-4ed71956ac91.jpg',\n",
              " '/content/CNN_assignment/Skin cancer ISIC The International Skin Imaging Collaboration/Train/pigmented benign keratosis/output/pigmented benign keratosis_original_ISIC_0025693.jpg_3af338c3-0b96-4104-a7d3-c76bd42c1318.jpg',\n",
              " '/content/CNN_assignment/Skin cancer ISIC The International Skin Imaging Collaboration/Train/pigmented benign keratosis/output/pigmented benign keratosis_original_ISIC_0027504.jpg_5a513838-dfa1-4d61-92f6-e80cf55dc125.jpg',\n",
              " '/content/CNN_assignment/Skin cancer ISIC The International Skin Imaging Collaboration/Train/pigmented benign keratosis/output/pigmented benign keratosis_original_ISIC_0025099.jpg_887c0f58-8221-4c1b-87ff-e1474c9349a1.jpg',\n",
              " '/content/CNN_assignment/Skin cancer ISIC The International Skin Imaging Collaboration/Train/pigmented benign keratosis/output/pigmented benign keratosis_original_ISIC_0027053.jpg_4a3c4ea7-2bb1-44e1-95d6-129ac70b0cae.jpg',\n",
              " '/content/CNN_assignment/Skin cancer ISIC The International Skin Imaging Collaboration/Train/pigmented benign keratosis/output/pigmented benign keratosis_original_ISIC_0026277.jpg_3db06e1d-3ed7-4a2f-ad35-93ce03290bfb.jpg',\n",
              " '/content/CNN_assignment/Skin cancer ISIC The International Skin Imaging Collaboration/Train/pigmented benign keratosis/output/pigmented benign keratosis_original_ISIC_0024676.jpg_69f9172d-d1f1-4dc0-8033-8b6aec7e65eb.jpg',\n",
              " '/content/CNN_assignment/Skin cancer ISIC The International Skin Imaging Collaboration/Train/pigmented benign keratosis/output/pigmented benign keratosis_original_ISIC_0026843.jpg_8f04b295-9814-421d-9816-545ad9b8551b.jpg',\n",
              " '/content/CNN_assignment/Skin cancer ISIC The International Skin Imaging Collaboration/Train/pigmented benign keratosis/output/pigmented benign keratosis_original_ISIC_0028525.jpg_58e0e1d0-812d-43fe-a9c3-bc3c5665ccea.jpg',\n",
              " '/content/CNN_assignment/Skin cancer ISIC The International Skin Imaging Collaboration/Train/pigmented benign keratosis/output/pigmented benign keratosis_original_ISIC_0026556.jpg_502a24eb-beec-4213-b911-88b8d7725931.jpg',\n",
              " '/content/CNN_assignment/Skin cancer ISIC The International Skin Imaging Collaboration/Train/pigmented benign keratosis/output/pigmented benign keratosis_original_ISIC_0026958.jpg_5c6b66d0-38e3-4139-bc42-a145e6f62eb6.jpg',\n",
              " '/content/CNN_assignment/Skin cancer ISIC The International Skin Imaging Collaboration/Train/pigmented benign keratosis/output/pigmented benign keratosis_original_ISIC_0026365.jpg_226a132b-475f-44bf-bbe9-d9a5c3995542.jpg',\n",
              " '/content/CNN_assignment/Skin cancer ISIC The International Skin Imaging Collaboration/Train/pigmented benign keratosis/output/pigmented benign keratosis_original_ISIC_0025330.jpg_d65c9a53-1bcc-4f71-bf24-c89ebe3256ba.jpg',\n",
              " '/content/CNN_assignment/Skin cancer ISIC The International Skin Imaging Collaboration/Train/pigmented benign keratosis/output/pigmented benign keratosis_original_ISIC_0027612.jpg_768a1ae4-7084-4499-96cd-bc6627ec4272.jpg',\n",
              " '/content/CNN_assignment/Skin cancer ISIC The International Skin Imaging Collaboration/Train/pigmented benign keratosis/output/pigmented benign keratosis_original_ISIC_0028354.jpg_1d577370-64e6-4a8c-9f6d-d46d5e062fd3.jpg',\n",
              " '/content/CNN_assignment/Skin cancer ISIC The International Skin Imaging Collaboration/Train/pigmented benign keratosis/output/pigmented benign keratosis_original_ISIC_0024748.jpg_e0f97513-1c76-438b-a8a9-f6f0dd2c13e4.jpg',\n",
              " '/content/CNN_assignment/Skin cancer ISIC The International Skin Imaging Collaboration/Train/pigmented benign keratosis/output/pigmented benign keratosis_original_ISIC_0028389.jpg_2f0f3c49-cd38-43bd-9731-e96d2b1fc3e1.jpg',\n",
              " '/content/CNN_assignment/Skin cancer ISIC The International Skin Imaging Collaboration/Train/pigmented benign keratosis/output/pigmented benign keratosis_original_ISIC_0028209.jpg_5b2e73f1-6c9d-4df6-a821-57760cfa56de.jpg',\n",
              " '/content/CNN_assignment/Skin cancer ISIC The International Skin Imaging Collaboration/Train/pigmented benign keratosis/output/pigmented benign keratosis_original_ISIC_0024490.jpg_631942a4-53ca-454a-a9a0-9218e049069a.jpg',\n",
              " '/content/CNN_assignment/Skin cancer ISIC The International Skin Imaging Collaboration/Train/pigmented benign keratosis/output/pigmented benign keratosis_original_ISIC_0028662.jpg_503f883f-542f-41e6-b816-d7188c595852.jpg',\n",
              " '/content/CNN_assignment/Skin cancer ISIC The International Skin Imaging Collaboration/Train/pigmented benign keratosis/output/pigmented benign keratosis_original_ISIC_0025876.jpg_95766f25-31d1-45ac-83db-fc524cb94889.jpg',\n",
              " '/content/CNN_assignment/Skin cancer ISIC The International Skin Imaging Collaboration/Train/pigmented benign keratosis/output/pigmented benign keratosis_original_ISIC_0027771.jpg_9000453b-8b5f-44f9-b1a9-242c958d96d1.jpg',\n",
              " '/content/CNN_assignment/Skin cancer ISIC The International Skin Imaging Collaboration/Train/pigmented benign keratosis/output/pigmented benign keratosis_original_ISIC_0028254.jpg_b5806640-901d-4372-a2ab-b459d378a31f.jpg',\n",
              " '/content/CNN_assignment/Skin cancer ISIC The International Skin Imaging Collaboration/Train/pigmented benign keratosis/output/pigmented benign keratosis_original_ISIC_0026104.jpg_97e5f94b-3fac-4e57-9867-20753c91f4d0.jpg',\n",
              " '/content/CNN_assignment/Skin cancer ISIC The International Skin Imaging Collaboration/Train/pigmented benign keratosis/output/pigmented benign keratosis_original_ISIC_0026135.jpg_30960c32-0d55-4f27-ab40-c1b151805a77.jpg',\n",
              " '/content/CNN_assignment/Skin cancer ISIC The International Skin Imaging Collaboration/Train/pigmented benign keratosis/output/pigmented benign keratosis_original_ISIC_0027023.jpg_a7f0210f-a834-4689-9aa7-863792708cac.jpg',\n",
              " '/content/CNN_assignment/Skin cancer ISIC The International Skin Imaging Collaboration/Train/pigmented benign keratosis/output/pigmented benign keratosis_original_ISIC_0028094.jpg_3e9f1c3d-a783-4bc1-87c0-162ee58c024b.jpg',\n",
              " '/content/CNN_assignment/Skin cancer ISIC The International Skin Imaging Collaboration/Train/pigmented benign keratosis/output/pigmented benign keratosis_original_ISIC_0026606.jpg_8a05851a-4a19-4fb5-b97b-15b7ab377906.jpg',\n",
              " '/content/CNN_assignment/Skin cancer ISIC The International Skin Imaging Collaboration/Train/pigmented benign keratosis/output/pigmented benign keratosis_original_ISIC_0026441.jpg_8e7a0de4-ad82-4ffc-8e3c-df9c01ed042c.jpg',\n",
              " '/content/CNN_assignment/Skin cancer ISIC The International Skin Imaging Collaboration/Train/pigmented benign keratosis/output/pigmented benign keratosis_original_ISIC_0025515.jpg_5070c408-3556-479a-b703-c01f109eca63.jpg',\n",
              " '/content/CNN_assignment/Skin cancer ISIC The International Skin Imaging Collaboration/Train/pigmented benign keratosis/output/pigmented benign keratosis_original_ISIC_0024982.jpg_8f7979dc-fdf9-4501-a2fa-59f3d733dfd2.jpg',\n",
              " '/content/CNN_assignment/Skin cancer ISIC The International Skin Imaging Collaboration/Train/pigmented benign keratosis/output/pigmented benign keratosis_original_ISIC_0027219.jpg_722fdc7a-235a-428c-96b4-79bb2bf6e930.jpg',\n",
              " '/content/CNN_assignment/Skin cancer ISIC The International Skin Imaging Collaboration/Train/pigmented benign keratosis/output/pigmented benign keratosis_original_ISIC_0024748.jpg_289c37b0-a838-4943-bca0-bdccfaf3a1e5.jpg',\n",
              " '/content/CNN_assignment/Skin cancer ISIC The International Skin Imaging Collaboration/Train/pigmented benign keratosis/output/pigmented benign keratosis_original_ISIC_0026290.jpg_e9dcf260-91f6-4823-a0a3-94278f8d5490.jpg',\n",
              " '/content/CNN_assignment/Skin cancer ISIC The International Skin Imaging Collaboration/Train/pigmented benign keratosis/output/pigmented benign keratosis_original_ISIC_0025066.jpg_d3e31c12-1878-4c90-a410-167c06cb795e.jpg',\n",
              " '/content/CNN_assignment/Skin cancer ISIC The International Skin Imaging Collaboration/Train/pigmented benign keratosis/output/pigmented benign keratosis_original_ISIC_0027202.jpg_da1a144c-f27a-48eb-8b3f-9ac5d93f6f14.jpg',\n",
              " '/content/CNN_assignment/Skin cancer ISIC The International Skin Imaging Collaboration/Train/pigmented benign keratosis/output/pigmented benign keratosis_original_ISIC_0024498.jpg_7e02c572-f0e4-4147-86d6-0ade287444ed.jpg',\n",
              " '/content/CNN_assignment/Skin cancer ISIC The International Skin Imaging Collaboration/Train/pigmented benign keratosis/output/pigmented benign keratosis_original_ISIC_0027154.jpg_c7cb6c03-7a9c-4f2a-a6d1-fde4c8c5e877.jpg',\n",
              " '/content/CNN_assignment/Skin cancer ISIC The International Skin Imaging Collaboration/Train/pigmented benign keratosis/output/pigmented benign keratosis_original_ISIC_0024881.jpg_d0947388-d3d4-43ce-873b-c71eab1649e7.jpg',\n",
              " '/content/CNN_assignment/Skin cancer ISIC The International Skin Imaging Collaboration/Train/pigmented benign keratosis/output/pigmented benign keratosis_original_ISIC_0024850.jpg_1ceab9cb-d2e3-4fc4-b7a6-bc101e3c0c10.jpg',\n",
              " '/content/CNN_assignment/Skin cancer ISIC The International Skin Imaging Collaboration/Train/pigmented benign keratosis/output/pigmented benign keratosis_original_ISIC_0024435.jpg_b3878b36-9c96-4792-84f0-90a8fcdbfa61.jpg',\n",
              " '/content/CNN_assignment/Skin cancer ISIC The International Skin Imaging Collaboration/Train/pigmented benign keratosis/output/pigmented benign keratosis_original_ISIC_0024705.jpg_9286de3c-a95f-4116-9597-11b220c3ea06.jpg',\n",
              " '/content/CNN_assignment/Skin cancer ISIC The International Skin Imaging Collaboration/Train/pigmented benign keratosis/output/pigmented benign keratosis_original_ISIC_0025883.jpg_1184b058-6cd9-4951-8075-b8c219a8789c.jpg',\n",
              " '/content/CNN_assignment/Skin cancer ISIC The International Skin Imaging Collaboration/Train/pigmented benign keratosis/output/pigmented benign keratosis_original_ISIC_0026526.jpg_70796a02-c053-46e6-b8b5-bc7f0aa93338.jpg',\n",
              " '/content/CNN_assignment/Skin cancer ISIC The International Skin Imaging Collaboration/Train/pigmented benign keratosis/output/pigmented benign keratosis_original_ISIC_0028236.jpg_ca5fa62f-d4e9-463f-9066-82e2c0d0f281.jpg',\n",
              " '/content/CNN_assignment/Skin cancer ISIC The International Skin Imaging Collaboration/Train/pigmented benign keratosis/output/pigmented benign keratosis_original_ISIC_0028473.jpg_f1076b9c-f091-4104-895f-68ee37b6dc6c.jpg',\n",
              " '/content/CNN_assignment/Skin cancer ISIC The International Skin Imaging Collaboration/Train/pigmented benign keratosis/output/pigmented benign keratosis_original_ISIC_0026526.jpg_68536743-11d6-47a1-b1e9-78d7eb4fec31.jpg',\n",
              " '/content/CNN_assignment/Skin cancer ISIC The International Skin Imaging Collaboration/Train/pigmented benign keratosis/output/pigmented benign keratosis_original_ISIC_0026827.jpg_0a66a778-20ca-426d-8a96-d4b67b3f2032.jpg',\n",
              " '/content/CNN_assignment/Skin cancer ISIC The International Skin Imaging Collaboration/Train/pigmented benign keratosis/output/pigmented benign keratosis_original_ISIC_0024494.jpg_850d739b-ae15-40d8-8ea9-6956fbdef4f8.jpg',\n",
              " '/content/CNN_assignment/Skin cancer ISIC The International Skin Imaging Collaboration/Train/pigmented benign keratosis/output/pigmented benign keratosis_original_ISIC_0026060.jpg_ed509d40-96c5-47c3-944e-025863e041d5.jpg',\n",
              " '/content/CNN_assignment/Skin cancer ISIC The International Skin Imaging Collaboration/Train/pigmented benign keratosis/output/pigmented benign keratosis_original_ISIC_0028662.jpg_6888a5df-0c31-4100-8994-34db6edc383a.jpg',\n",
              " '/content/CNN_assignment/Skin cancer ISIC The International Skin Imaging Collaboration/Train/pigmented benign keratosis/output/pigmented benign keratosis_original_ISIC_0025627.jpg_3d3a41fc-9e41-4273-acc4-fcce15209534.jpg',\n",
              " '/content/CNN_assignment/Skin cancer ISIC The International Skin Imaging Collaboration/Train/pigmented benign keratosis/output/pigmented benign keratosis_original_ISIC_0026526.jpg_b828b7c3-9750-4d9c-b03d-aa974ffbc2cf.jpg',\n",
              " '/content/CNN_assignment/Skin cancer ISIC The International Skin Imaging Collaboration/Train/pigmented benign keratosis/output/pigmented benign keratosis_original_ISIC_0027139.jpg_b38533fb-ec92-4915-b0af-d5ca4d52ec52.jpg',\n",
              " '/content/CNN_assignment/Skin cancer ISIC The International Skin Imaging Collaboration/Train/pigmented benign keratosis/output/pigmented benign keratosis_original_ISIC_0026249.jpg_9cba76db-cba1-47cd-877e-ba1e6571687a.jpg',\n",
              " '/content/CNN_assignment/Skin cancer ISIC The International Skin Imaging Collaboration/Train/pigmented benign keratosis/output/pigmented benign keratosis_original_ISIC_0028043.jpg_742644dd-2368-4dd3-8671-3f8169e3d497.jpg',\n",
              " '/content/CNN_assignment/Skin cancer ISIC The International Skin Imaging Collaboration/Train/pigmented benign keratosis/output/pigmented benign keratosis_original_ISIC_0028233.jpg_1c5cbe2c-3cd0-4a3d-b4ed-1e58e81947d8.jpg',\n",
              " '/content/CNN_assignment/Skin cancer ISIC The International Skin Imaging Collaboration/Train/pigmented benign keratosis/output/pigmented benign keratosis_original_ISIC_0027826.jpg_4113bdd5-6e38-4a71-9d46-091d88244d21.jpg',\n",
              " '/content/CNN_assignment/Skin cancer ISIC The International Skin Imaging Collaboration/Train/pigmented benign keratosis/output/pigmented benign keratosis_original_ISIC_0028308.jpg_879569cf-7618-4545-8ff6-f35fea612494.jpg',\n",
              " '/content/CNN_assignment/Skin cancer ISIC The International Skin Imaging Collaboration/Train/pigmented benign keratosis/output/pigmented benign keratosis_original_ISIC_0026441.jpg_8920f130-ecdc-406a-847a-33a99684a448.jpg',\n",
              " '/content/CNN_assignment/Skin cancer ISIC The International Skin Imaging Collaboration/Train/pigmented benign keratosis/output/pigmented benign keratosis_original_ISIC_0028656.jpg_6698052a-1106-4dfc-9be2-ee639b207366.jpg',\n",
              " '/content/CNN_assignment/Skin cancer ISIC The International Skin Imaging Collaboration/Train/pigmented benign keratosis/output/pigmented benign keratosis_original_ISIC_0025830.jpg_b4f9d768-f523-4c46-a22b-ed5206bac877.jpg',\n",
              " '/content/CNN_assignment/Skin cancer ISIC The International Skin Imaging Collaboration/Train/pigmented benign keratosis/output/pigmented benign keratosis_original_ISIC_0027806.jpg_47096d43-1c7b-4353-a9a5-9808e884bb86.jpg',\n",
              " '/content/CNN_assignment/Skin cancer ISIC The International Skin Imaging Collaboration/Train/pigmented benign keratosis/output/pigmented benign keratosis_original_ISIC_0028043.jpg_4a6d1e13-4d02-456b-b427-bf8b2db4f8b6.jpg',\n",
              " '/content/CNN_assignment/Skin cancer ISIC The International Skin Imaging Collaboration/Train/pigmented benign keratosis/output/pigmented benign keratosis_original_ISIC_0026867.jpg_a3740610-dcf5-4660-a68b-183a2521c8ad.jpg',\n",
              " '/content/CNN_assignment/Skin cancer ISIC The International Skin Imaging Collaboration/Train/pigmented benign keratosis/output/pigmented benign keratosis_original_ISIC_0028593.jpg_ee3d2f4e-f37f-4bef-a0b6-0d685a459271.jpg',\n",
              " '/content/CNN_assignment/Skin cancer ISIC The International Skin Imaging Collaboration/Train/pigmented benign keratosis/output/pigmented benign keratosis_original_ISIC_0027394.jpg_9341b902-2a60-49fd-9f05-851215b88a7a.jpg',\n",
              " '/content/CNN_assignment/Skin cancer ISIC The International Skin Imaging Collaboration/Train/pigmented benign keratosis/output/pigmented benign keratosis_original_ISIC_0025842.jpg_1edc0bab-336e-4918-b13c-42f8dd606078.jpg',\n",
              " '/content/CNN_assignment/Skin cancer ISIC The International Skin Imaging Collaboration/Train/pigmented benign keratosis/output/pigmented benign keratosis_original_ISIC_0025389.jpg_5a0d7fe4-0a51-4a07-848d-d3e71616fe8a.jpg',\n",
              " '/content/CNN_assignment/Skin cancer ISIC The International Skin Imaging Collaboration/Train/pigmented benign keratosis/output/pigmented benign keratosis_original_ISIC_0026714.jpg_e471aede-3de3-4683-b86c-7dd511a45c7c.jpg',\n",
              " '/content/CNN_assignment/Skin cancer ISIC The International Skin Imaging Collaboration/Train/pigmented benign keratosis/output/pigmented benign keratosis_original_ISIC_0025064.jpg_7e2979f9-7296-40eb-a391-71db267a4e82.jpg',\n",
              " '/content/CNN_assignment/Skin cancer ISIC The International Skin Imaging Collaboration/Train/pigmented benign keratosis/output/pigmented benign keratosis_original_ISIC_0027509.jpg_edd11cc1-2666-4f7d-ac24-3d5e16963481.jpg',\n",
              " '/content/CNN_assignment/Skin cancer ISIC The International Skin Imaging Collaboration/Train/pigmented benign keratosis/output/pigmented benign keratosis_original_ISIC_0027710.jpg_d1ffa360-da6a-4be0-8c7d-78e4e2782549.jpg',\n",
              " '/content/CNN_assignment/Skin cancer ISIC The International Skin Imaging Collaboration/Train/pigmented benign keratosis/output/pigmented benign keratosis_original_ISIC_0024910.jpg_ae5bd521-1ac5-43d1-84c2-b62b7126488e.jpg',\n",
              " '/content/CNN_assignment/Skin cancer ISIC The International Skin Imaging Collaboration/Train/pigmented benign keratosis/output/pigmented benign keratosis_original_ISIC_0025063.jpg_e25d3f8e-e424-4403-b398-74e5d9d00969.jpg',\n",
              " '/content/CNN_assignment/Skin cancer ISIC The International Skin Imaging Collaboration/Train/pigmented benign keratosis/output/pigmented benign keratosis_original_ISIC_0024909.jpg_9929853a-d44b-44b1-b557-4eb3bc8b6e34.jpg',\n",
              " '/content/CNN_assignment/Skin cancer ISIC The International Skin Imaging Collaboration/Train/pigmented benign keratosis/output/pigmented benign keratosis_original_ISIC_0025939.jpg_54840a96-c949-4419-bcb5-f3e73ef29a7f.jpg',\n",
              " '/content/CNN_assignment/Skin cancer ISIC The International Skin Imaging Collaboration/Train/pigmented benign keratosis/output/pigmented benign keratosis_original_ISIC_0025879.jpg_1dc8c098-1739-49d0-8941-f338991e80dd.jpg',\n",
              " '/content/CNN_assignment/Skin cancer ISIC The International Skin Imaging Collaboration/Train/pigmented benign keratosis/output/pigmented benign keratosis_original_ISIC_0025575.jpg_127a8c63-1989-42b1-952b-5731aa90374c.jpg',\n",
              " '/content/CNN_assignment/Skin cancer ISIC The International Skin Imaging Collaboration/Train/pigmented benign keratosis/output/pigmented benign keratosis_original_ISIC_0025033.jpg_3d7da63c-3b36-41c5-892b-33f0024ddb31.jpg',\n",
              " '/content/CNN_assignment/Skin cancer ISIC The International Skin Imaging Collaboration/Train/pigmented benign keratosis/output/pigmented benign keratosis_original_ISIC_0028201.jpg_d88c93fb-9f66-46bd-b966-33ba822a05c7.jpg',\n",
              " '/content/CNN_assignment/Skin cancer ISIC The International Skin Imaging Collaboration/Train/pigmented benign keratosis/output/pigmented benign keratosis_original_ISIC_0028587.jpg_ab254ed7-b85e-41a0-b031-782d6db8e558.jpg',\n",
              " '/content/CNN_assignment/Skin cancer ISIC The International Skin Imaging Collaboration/Train/pigmented benign keratosis/output/pigmented benign keratosis_original_ISIC_0027470.jpg_165d0d45-b220-4dfa-ae21-2fc26dc51fec.jpg',\n",
              " '/content/CNN_assignment/Skin cancer ISIC The International Skin Imaging Collaboration/Train/pigmented benign keratosis/output/pigmented benign keratosis_original_ISIC_0024786.jpg_761ed9b6-83ab-4413-9577-22f6eded37f5.jpg',\n",
              " '/content/CNN_assignment/Skin cancer ISIC The International Skin Imaging Collaboration/Train/pigmented benign keratosis/output/pigmented benign keratosis_original_ISIC_0026623.jpg_6aa46ad4-9943-462b-99a1-5d49c150e869.jpg',\n",
              " '/content/CNN_assignment/Skin cancer ISIC The International Skin Imaging Collaboration/Train/pigmented benign keratosis/output/pigmented benign keratosis_original_ISIC_0026803.jpg_6ec79c13-8df9-4730-a6c9-aca248993f00.jpg',\n",
              " '/content/CNN_assignment/Skin cancer ISIC The International Skin Imaging Collaboration/Train/pigmented benign keratosis/output/pigmented benign keratosis_original_ISIC_0026493.jpg_95e6c63f-2ea4-4edc-9ed8-b28c2e1c4b56.jpg',\n",
              " '/content/CNN_assignment/Skin cancer ISIC The International Skin Imaging Collaboration/Train/pigmented benign keratosis/output/pigmented benign keratosis_original_ISIC_0028503.jpg_34bd9ae7-5b31-446a-8282-92871d690b1f.jpg',\n",
              " '/content/CNN_assignment/Skin cancer ISIC The International Skin Imaging Collaboration/Train/pigmented benign keratosis/output/pigmented benign keratosis_original_ISIC_0028497.jpg_96fd1c80-f71a-4b2b-a1b9-df183a72a22c.jpg',\n",
              " '/content/CNN_assignment/Skin cancer ISIC The International Skin Imaging Collaboration/Train/pigmented benign keratosis/output/pigmented benign keratosis_original_ISIC_0026637.jpg_2e8f3b30-5646-48ff-91c3-49cbf677d356.jpg',\n",
              " '/content/CNN_assignment/Skin cancer ISIC The International Skin Imaging Collaboration/Train/pigmented benign keratosis/output/pigmented benign keratosis_original_ISIC_0026069.jpg_65cbd4bf-2824-480d-9f7e-ba4c803814d0.jpg',\n",
              " '/content/CNN_assignment/Skin cancer ISIC The International Skin Imaging Collaboration/Train/pigmented benign keratosis/output/pigmented benign keratosis_original_ISIC_0024850.jpg_3263d0fd-f03e-443e-86f8-d095314608d7.jpg',\n",
              " '/content/CNN_assignment/Skin cancer ISIC The International Skin Imaging Collaboration/Train/pigmented benign keratosis/output/pigmented benign keratosis_original_ISIC_0028650.jpg_02121339-f34a-46dc-b879-b0c72287b2e8.jpg',\n",
              " '/content/CNN_assignment/Skin cancer ISIC The International Skin Imaging Collaboration/Train/pigmented benign keratosis/output/pigmented benign keratosis_original_ISIC_0027710.jpg_ec192ecb-aeca-4a2e-a687-bf461311ba7f.jpg',\n",
              " '/content/CNN_assignment/Skin cancer ISIC The International Skin Imaging Collaboration/Train/pigmented benign keratosis/output/pigmented benign keratosis_original_ISIC_0026316.jpg_914fa342-fd08-4db8-a3d9-50380d22e692.jpg',\n",
              " '/content/CNN_assignment/Skin cancer ISIC The International Skin Imaging Collaboration/Train/pigmented benign keratosis/output/pigmented benign keratosis_original_ISIC_0027219.jpg_03e67fb5-7ea1-4810-a24c-4e5346ddafd7.jpg',\n",
              " '/content/CNN_assignment/Skin cancer ISIC The International Skin Imaging Collaboration/Train/pigmented benign keratosis/output/pigmented benign keratosis_original_ISIC_0025837.jpg_f590fc75-b2c6-4900-ae2b-d3f0b7f852b2.jpg',\n",
              " '/content/CNN_assignment/Skin cancer ISIC The International Skin Imaging Collaboration/Train/pigmented benign keratosis/output/pigmented benign keratosis_original_ISIC_0026205.jpg_773a62fe-7288-4b11-b0d2-70df3a6334fc.jpg',\n",
              " '/content/CNN_assignment/Skin cancer ISIC The International Skin Imaging Collaboration/Train/pigmented benign keratosis/output/pigmented benign keratosis_original_ISIC_0027332.jpg_4e924246-790b-4018-85d6-96fa7764761e.jpg',\n",
              " '/content/CNN_assignment/Skin cancer ISIC The International Skin Imaging Collaboration/Train/pigmented benign keratosis/output/pigmented benign keratosis_original_ISIC_0027018.jpg_3ca8837e-65a5-4f36-9529-6d05019e7aa7.jpg',\n",
              " '/content/CNN_assignment/Skin cancer ISIC The International Skin Imaging Collaboration/Train/pigmented benign keratosis/output/pigmented benign keratosis_original_ISIC_0024758.jpg_2e1b79e5-862a-4eb0-b5fa-a5dece46547a.jpg',\n",
              " '/content/CNN_assignment/Skin cancer ISIC The International Skin Imaging Collaboration/Train/pigmented benign keratosis/output/pigmented benign keratosis_original_ISIC_0027270.jpg_cc9efd99-ddf4-44db-a845-c079fc6d8093.jpg',\n",
              " '/content/CNN_assignment/Skin cancer ISIC The International Skin Imaging Collaboration/Train/pigmented benign keratosis/output/pigmented benign keratosis_original_ISIC_0027042.jpg_76e92c94-53a6-481c-bef5-ee910d8c1d70.jpg',\n",
              " '/content/CNN_assignment/Skin cancer ISIC The International Skin Imaging Collaboration/Train/pigmented benign keratosis/output/pigmented benign keratosis_original_ISIC_0026441.jpg_7b1a1776-425e-4e5d-8ebb-c587f0aff6e8.jpg',\n",
              " '/content/CNN_assignment/Skin cancer ISIC The International Skin Imaging Collaboration/Train/pigmented benign keratosis/output/pigmented benign keratosis_original_ISIC_0028451.jpg_a486b8f8-0394-4b8d-bbf6-398be9ea32a0.jpg',\n",
              " '/content/CNN_assignment/Skin cancer ISIC The International Skin Imaging Collaboration/Train/pigmented benign keratosis/output/pigmented benign keratosis_original_ISIC_0026526.jpg_d543b716-864a-44bf-b09f-125f9c052636.jpg',\n",
              " '/content/CNN_assignment/Skin cancer ISIC The International Skin Imaging Collaboration/Train/pigmented benign keratosis/output/pigmented benign keratosis_original_ISIC_0024890.jpg_0eb4f0a0-db91-4d15-99c9-44db144b1428.jpg',\n",
              " '/content/CNN_assignment/Skin cancer ISIC The International Skin Imaging Collaboration/Train/pigmented benign keratosis/output/pigmented benign keratosis_original_ISIC_0027982.jpg_87767878-7f00-420e-983c-707ce531e8c5.jpg',\n",
              " '/content/CNN_assignment/Skin cancer ISIC The International Skin Imaging Collaboration/Train/pigmented benign keratosis/output/pigmented benign keratosis_original_ISIC_0026893.jpg_3d9f7778-3fa1-40db-bbcd-364328150007.jpg',\n",
              " '/content/CNN_assignment/Skin cancer ISIC The International Skin Imaging Collaboration/Train/pigmented benign keratosis/output/pigmented benign keratosis_original_ISIC_0026539.jpg_9ab9d3dd-fc98-4dc2-a257-86dae26c3ac1.jpg',\n",
              " '/content/CNN_assignment/Skin cancer ISIC The International Skin Imaging Collaboration/Train/pigmented benign keratosis/output/pigmented benign keratosis_original_ISIC_0024547.jpg_3641f46e-f3ae-4e07-b359-d0df6573bf50.jpg',\n",
              " ...]"
            ]
          },
          "metadata": {
            "tags": []
          },
          "execution_count": 38
        }
      ]
    },
    {
      "cell_type": "code",
      "metadata": {
        "id": "nZvVdF7g3E1z",
        "colab": {
          "base_uri": "https://localhost:8080/"
        },
        "outputId": "ae8ac760-2511-4aae-e7cf-b8350a96c420"
      },
      "source": [
        "lesion_list_new = [os.path.basename(os.path.dirname(os.path.dirname(y))) for y in glob(os.path.join(data_dir_train, '*','output', '*.jpg'))]\n",
        "lesion_list_new"
      ],
      "execution_count": 39,
      "outputs": [
        {
          "output_type": "execute_result",
          "data": {
            "text/plain": [
              "['dermatofibroma',\n",
              " 'dermatofibroma',\n",
              " 'dermatofibroma',\n",
              " 'dermatofibroma',\n",
              " 'dermatofibroma',\n",
              " 'dermatofibroma',\n",
              " 'dermatofibroma',\n",
              " 'dermatofibroma',\n",
              " 'dermatofibroma',\n",
              " 'dermatofibroma',\n",
              " 'dermatofibroma',\n",
              " 'dermatofibroma',\n",
              " 'dermatofibroma',\n",
              " 'dermatofibroma',\n",
              " 'dermatofibroma',\n",
              " 'dermatofibroma',\n",
              " 'dermatofibroma',\n",
              " 'dermatofibroma',\n",
              " 'dermatofibroma',\n",
              " 'dermatofibroma',\n",
              " 'dermatofibroma',\n",
              " 'dermatofibroma',\n",
              " 'dermatofibroma',\n",
              " 'dermatofibroma',\n",
              " 'dermatofibroma',\n",
              " 'dermatofibroma',\n",
              " 'dermatofibroma',\n",
              " 'dermatofibroma',\n",
              " 'dermatofibroma',\n",
              " 'dermatofibroma',\n",
              " 'dermatofibroma',\n",
              " 'dermatofibroma',\n",
              " 'dermatofibroma',\n",
              " 'dermatofibroma',\n",
              " 'dermatofibroma',\n",
              " 'dermatofibroma',\n",
              " 'dermatofibroma',\n",
              " 'dermatofibroma',\n",
              " 'dermatofibroma',\n",
              " 'dermatofibroma',\n",
              " 'dermatofibroma',\n",
              " 'dermatofibroma',\n",
              " 'dermatofibroma',\n",
              " 'dermatofibroma',\n",
              " 'dermatofibroma',\n",
              " 'dermatofibroma',\n",
              " 'dermatofibroma',\n",
              " 'dermatofibroma',\n",
              " 'dermatofibroma',\n",
              " 'dermatofibroma',\n",
              " 'dermatofibroma',\n",
              " 'dermatofibroma',\n",
              " 'dermatofibroma',\n",
              " 'dermatofibroma',\n",
              " 'dermatofibroma',\n",
              " 'dermatofibroma',\n",
              " 'dermatofibroma',\n",
              " 'dermatofibroma',\n",
              " 'dermatofibroma',\n",
              " 'dermatofibroma',\n",
              " 'dermatofibroma',\n",
              " 'dermatofibroma',\n",
              " 'dermatofibroma',\n",
              " 'dermatofibroma',\n",
              " 'dermatofibroma',\n",
              " 'dermatofibroma',\n",
              " 'dermatofibroma',\n",
              " 'dermatofibroma',\n",
              " 'dermatofibroma',\n",
              " 'dermatofibroma',\n",
              " 'dermatofibroma',\n",
              " 'dermatofibroma',\n",
              " 'dermatofibroma',\n",
              " 'dermatofibroma',\n",
              " 'dermatofibroma',\n",
              " 'dermatofibroma',\n",
              " 'dermatofibroma',\n",
              " 'dermatofibroma',\n",
              " 'dermatofibroma',\n",
              " 'dermatofibroma',\n",
              " 'dermatofibroma',\n",
              " 'dermatofibroma',\n",
              " 'dermatofibroma',\n",
              " 'dermatofibroma',\n",
              " 'dermatofibroma',\n",
              " 'dermatofibroma',\n",
              " 'dermatofibroma',\n",
              " 'dermatofibroma',\n",
              " 'dermatofibroma',\n",
              " 'dermatofibroma',\n",
              " 'dermatofibroma',\n",
              " 'dermatofibroma',\n",
              " 'dermatofibroma',\n",
              " 'dermatofibroma',\n",
              " 'dermatofibroma',\n",
              " 'dermatofibroma',\n",
              " 'dermatofibroma',\n",
              " 'dermatofibroma',\n",
              " 'dermatofibroma',\n",
              " 'dermatofibroma',\n",
              " 'dermatofibroma',\n",
              " 'dermatofibroma',\n",
              " 'dermatofibroma',\n",
              " 'dermatofibroma',\n",
              " 'dermatofibroma',\n",
              " 'dermatofibroma',\n",
              " 'dermatofibroma',\n",
              " 'dermatofibroma',\n",
              " 'dermatofibroma',\n",
              " 'dermatofibroma',\n",
              " 'dermatofibroma',\n",
              " 'dermatofibroma',\n",
              " 'dermatofibroma',\n",
              " 'dermatofibroma',\n",
              " 'dermatofibroma',\n",
              " 'dermatofibroma',\n",
              " 'dermatofibroma',\n",
              " 'dermatofibroma',\n",
              " 'dermatofibroma',\n",
              " 'dermatofibroma',\n",
              " 'dermatofibroma',\n",
              " 'dermatofibroma',\n",
              " 'dermatofibroma',\n",
              " 'dermatofibroma',\n",
              " 'dermatofibroma',\n",
              " 'dermatofibroma',\n",
              " 'dermatofibroma',\n",
              " 'dermatofibroma',\n",
              " 'dermatofibroma',\n",
              " 'dermatofibroma',\n",
              " 'dermatofibroma',\n",
              " 'dermatofibroma',\n",
              " 'dermatofibroma',\n",
              " 'dermatofibroma',\n",
              " 'dermatofibroma',\n",
              " 'dermatofibroma',\n",
              " 'dermatofibroma',\n",
              " 'dermatofibroma',\n",
              " 'dermatofibroma',\n",
              " 'dermatofibroma',\n",
              " 'dermatofibroma',\n",
              " 'dermatofibroma',\n",
              " 'dermatofibroma',\n",
              " 'dermatofibroma',\n",
              " 'dermatofibroma',\n",
              " 'dermatofibroma',\n",
              " 'dermatofibroma',\n",
              " 'dermatofibroma',\n",
              " 'dermatofibroma',\n",
              " 'dermatofibroma',\n",
              " 'dermatofibroma',\n",
              " 'dermatofibroma',\n",
              " 'dermatofibroma',\n",
              " 'dermatofibroma',\n",
              " 'dermatofibroma',\n",
              " 'dermatofibroma',\n",
              " 'dermatofibroma',\n",
              " 'dermatofibroma',\n",
              " 'dermatofibroma',\n",
              " 'dermatofibroma',\n",
              " 'dermatofibroma',\n",
              " 'dermatofibroma',\n",
              " 'dermatofibroma',\n",
              " 'dermatofibroma',\n",
              " 'dermatofibroma',\n",
              " 'dermatofibroma',\n",
              " 'dermatofibroma',\n",
              " 'dermatofibroma',\n",
              " 'dermatofibroma',\n",
              " 'dermatofibroma',\n",
              " 'dermatofibroma',\n",
              " 'dermatofibroma',\n",
              " 'dermatofibroma',\n",
              " 'dermatofibroma',\n",
              " 'dermatofibroma',\n",
              " 'dermatofibroma',\n",
              " 'dermatofibroma',\n",
              " 'dermatofibroma',\n",
              " 'dermatofibroma',\n",
              " 'dermatofibroma',\n",
              " 'dermatofibroma',\n",
              " 'dermatofibroma',\n",
              " 'dermatofibroma',\n",
              " 'dermatofibroma',\n",
              " 'dermatofibroma',\n",
              " 'dermatofibroma',\n",
              " 'dermatofibroma',\n",
              " 'dermatofibroma',\n",
              " 'dermatofibroma',\n",
              " 'dermatofibroma',\n",
              " 'dermatofibroma',\n",
              " 'dermatofibroma',\n",
              " 'dermatofibroma',\n",
              " 'dermatofibroma',\n",
              " 'dermatofibroma',\n",
              " 'dermatofibroma',\n",
              " 'dermatofibroma',\n",
              " 'dermatofibroma',\n",
              " 'dermatofibroma',\n",
              " 'dermatofibroma',\n",
              " 'dermatofibroma',\n",
              " 'dermatofibroma',\n",
              " 'dermatofibroma',\n",
              " 'dermatofibroma',\n",
              " 'dermatofibroma',\n",
              " 'dermatofibroma',\n",
              " 'dermatofibroma',\n",
              " 'dermatofibroma',\n",
              " 'dermatofibroma',\n",
              " 'dermatofibroma',\n",
              " 'dermatofibroma',\n",
              " 'dermatofibroma',\n",
              " 'dermatofibroma',\n",
              " 'dermatofibroma',\n",
              " 'dermatofibroma',\n",
              " 'dermatofibroma',\n",
              " 'dermatofibroma',\n",
              " 'dermatofibroma',\n",
              " 'dermatofibroma',\n",
              " 'dermatofibroma',\n",
              " 'dermatofibroma',\n",
              " 'dermatofibroma',\n",
              " 'dermatofibroma',\n",
              " 'dermatofibroma',\n",
              " 'dermatofibroma',\n",
              " 'dermatofibroma',\n",
              " 'dermatofibroma',\n",
              " 'dermatofibroma',\n",
              " 'dermatofibroma',\n",
              " 'dermatofibroma',\n",
              " 'dermatofibroma',\n",
              " 'dermatofibroma',\n",
              " 'dermatofibroma',\n",
              " 'dermatofibroma',\n",
              " 'dermatofibroma',\n",
              " 'dermatofibroma',\n",
              " 'dermatofibroma',\n",
              " 'dermatofibroma',\n",
              " 'dermatofibroma',\n",
              " 'dermatofibroma',\n",
              " 'dermatofibroma',\n",
              " 'dermatofibroma',\n",
              " 'dermatofibroma',\n",
              " 'dermatofibroma',\n",
              " 'dermatofibroma',\n",
              " 'dermatofibroma',\n",
              " 'dermatofibroma',\n",
              " 'dermatofibroma',\n",
              " 'dermatofibroma',\n",
              " 'dermatofibroma',\n",
              " 'dermatofibroma',\n",
              " 'dermatofibroma',\n",
              " 'dermatofibroma',\n",
              " 'dermatofibroma',\n",
              " 'dermatofibroma',\n",
              " 'dermatofibroma',\n",
              " 'dermatofibroma',\n",
              " 'dermatofibroma',\n",
              " 'dermatofibroma',\n",
              " 'dermatofibroma',\n",
              " 'dermatofibroma',\n",
              " 'dermatofibroma',\n",
              " 'dermatofibroma',\n",
              " 'dermatofibroma',\n",
              " 'dermatofibroma',\n",
              " 'dermatofibroma',\n",
              " 'dermatofibroma',\n",
              " 'dermatofibroma',\n",
              " 'dermatofibroma',\n",
              " 'dermatofibroma',\n",
              " 'dermatofibroma',\n",
              " 'dermatofibroma',\n",
              " 'dermatofibroma',\n",
              " 'dermatofibroma',\n",
              " 'dermatofibroma',\n",
              " 'dermatofibroma',\n",
              " 'dermatofibroma',\n",
              " 'dermatofibroma',\n",
              " 'dermatofibroma',\n",
              " 'dermatofibroma',\n",
              " 'dermatofibroma',\n",
              " 'dermatofibroma',\n",
              " 'dermatofibroma',\n",
              " 'dermatofibroma',\n",
              " 'dermatofibroma',\n",
              " 'dermatofibroma',\n",
              " 'dermatofibroma',\n",
              " 'dermatofibroma',\n",
              " 'dermatofibroma',\n",
              " 'dermatofibroma',\n",
              " 'dermatofibroma',\n",
              " 'dermatofibroma',\n",
              " 'dermatofibroma',\n",
              " 'dermatofibroma',\n",
              " 'dermatofibroma',\n",
              " 'dermatofibroma',\n",
              " 'dermatofibroma',\n",
              " 'dermatofibroma',\n",
              " 'dermatofibroma',\n",
              " 'dermatofibroma',\n",
              " 'dermatofibroma',\n",
              " 'dermatofibroma',\n",
              " 'dermatofibroma',\n",
              " 'dermatofibroma',\n",
              " 'dermatofibroma',\n",
              " 'dermatofibroma',\n",
              " 'dermatofibroma',\n",
              " 'dermatofibroma',\n",
              " 'dermatofibroma',\n",
              " 'dermatofibroma',\n",
              " 'dermatofibroma',\n",
              " 'dermatofibroma',\n",
              " 'dermatofibroma',\n",
              " 'dermatofibroma',\n",
              " 'dermatofibroma',\n",
              " 'dermatofibroma',\n",
              " 'dermatofibroma',\n",
              " 'dermatofibroma',\n",
              " 'dermatofibroma',\n",
              " 'dermatofibroma',\n",
              " 'dermatofibroma',\n",
              " 'dermatofibroma',\n",
              " 'dermatofibroma',\n",
              " 'dermatofibroma',\n",
              " 'dermatofibroma',\n",
              " 'dermatofibroma',\n",
              " 'dermatofibroma',\n",
              " 'dermatofibroma',\n",
              " 'dermatofibroma',\n",
              " 'dermatofibroma',\n",
              " 'dermatofibroma',\n",
              " 'dermatofibroma',\n",
              " 'dermatofibroma',\n",
              " 'dermatofibroma',\n",
              " 'dermatofibroma',\n",
              " 'dermatofibroma',\n",
              " 'dermatofibroma',\n",
              " 'dermatofibroma',\n",
              " 'dermatofibroma',\n",
              " 'dermatofibroma',\n",
              " 'dermatofibroma',\n",
              " 'dermatofibroma',\n",
              " 'dermatofibroma',\n",
              " 'dermatofibroma',\n",
              " 'dermatofibroma',\n",
              " 'dermatofibroma',\n",
              " 'dermatofibroma',\n",
              " 'dermatofibroma',\n",
              " 'dermatofibroma',\n",
              " 'dermatofibroma',\n",
              " 'dermatofibroma',\n",
              " 'dermatofibroma',\n",
              " 'dermatofibroma',\n",
              " 'dermatofibroma',\n",
              " 'dermatofibroma',\n",
              " 'dermatofibroma',\n",
              " 'dermatofibroma',\n",
              " 'dermatofibroma',\n",
              " 'dermatofibroma',\n",
              " 'dermatofibroma',\n",
              " 'dermatofibroma',\n",
              " 'dermatofibroma',\n",
              " 'dermatofibroma',\n",
              " 'dermatofibroma',\n",
              " 'dermatofibroma',\n",
              " 'dermatofibroma',\n",
              " 'dermatofibroma',\n",
              " 'dermatofibroma',\n",
              " 'dermatofibroma',\n",
              " 'dermatofibroma',\n",
              " 'dermatofibroma',\n",
              " 'dermatofibroma',\n",
              " 'dermatofibroma',\n",
              " 'dermatofibroma',\n",
              " 'dermatofibroma',\n",
              " 'dermatofibroma',\n",
              " 'dermatofibroma',\n",
              " 'dermatofibroma',\n",
              " 'dermatofibroma',\n",
              " 'dermatofibroma',\n",
              " 'dermatofibroma',\n",
              " 'dermatofibroma',\n",
              " 'dermatofibroma',\n",
              " 'dermatofibroma',\n",
              " 'dermatofibroma',\n",
              " 'dermatofibroma',\n",
              " 'dermatofibroma',\n",
              " 'dermatofibroma',\n",
              " 'dermatofibroma',\n",
              " 'dermatofibroma',\n",
              " 'dermatofibroma',\n",
              " 'dermatofibroma',\n",
              " 'dermatofibroma',\n",
              " 'dermatofibroma',\n",
              " 'dermatofibroma',\n",
              " 'dermatofibroma',\n",
              " 'dermatofibroma',\n",
              " 'dermatofibroma',\n",
              " 'dermatofibroma',\n",
              " 'dermatofibroma',\n",
              " 'dermatofibroma',\n",
              " 'dermatofibroma',\n",
              " 'dermatofibroma',\n",
              " 'dermatofibroma',\n",
              " 'dermatofibroma',\n",
              " 'dermatofibroma',\n",
              " 'dermatofibroma',\n",
              " 'dermatofibroma',\n",
              " 'dermatofibroma',\n",
              " 'dermatofibroma',\n",
              " 'dermatofibroma',\n",
              " 'dermatofibroma',\n",
              " 'dermatofibroma',\n",
              " 'dermatofibroma',\n",
              " 'dermatofibroma',\n",
              " 'dermatofibroma',\n",
              " 'dermatofibroma',\n",
              " 'dermatofibroma',\n",
              " 'dermatofibroma',\n",
              " 'dermatofibroma',\n",
              " 'dermatofibroma',\n",
              " 'dermatofibroma',\n",
              " 'dermatofibroma',\n",
              " 'dermatofibroma',\n",
              " 'dermatofibroma',\n",
              " 'dermatofibroma',\n",
              " 'dermatofibroma',\n",
              " 'dermatofibroma',\n",
              " 'dermatofibroma',\n",
              " 'dermatofibroma',\n",
              " 'dermatofibroma',\n",
              " 'dermatofibroma',\n",
              " 'dermatofibroma',\n",
              " 'dermatofibroma',\n",
              " 'dermatofibroma',\n",
              " 'dermatofibroma',\n",
              " 'dermatofibroma',\n",
              " 'dermatofibroma',\n",
              " 'dermatofibroma',\n",
              " 'dermatofibroma',\n",
              " 'dermatofibroma',\n",
              " 'dermatofibroma',\n",
              " 'dermatofibroma',\n",
              " 'dermatofibroma',\n",
              " 'dermatofibroma',\n",
              " 'dermatofibroma',\n",
              " 'dermatofibroma',\n",
              " 'dermatofibroma',\n",
              " 'dermatofibroma',\n",
              " 'dermatofibroma',\n",
              " 'dermatofibroma',\n",
              " 'dermatofibroma',\n",
              " 'dermatofibroma',\n",
              " 'dermatofibroma',\n",
              " 'dermatofibroma',\n",
              " 'dermatofibroma',\n",
              " 'dermatofibroma',\n",
              " 'dermatofibroma',\n",
              " 'dermatofibroma',\n",
              " 'dermatofibroma',\n",
              " 'dermatofibroma',\n",
              " 'dermatofibroma',\n",
              " 'dermatofibroma',\n",
              " 'dermatofibroma',\n",
              " 'dermatofibroma',\n",
              " 'dermatofibroma',\n",
              " 'dermatofibroma',\n",
              " 'dermatofibroma',\n",
              " 'dermatofibroma',\n",
              " 'dermatofibroma',\n",
              " 'dermatofibroma',\n",
              " 'dermatofibroma',\n",
              " 'dermatofibroma',\n",
              " 'dermatofibroma',\n",
              " 'dermatofibroma',\n",
              " 'dermatofibroma',\n",
              " 'dermatofibroma',\n",
              " 'dermatofibroma',\n",
              " 'dermatofibroma',\n",
              " 'dermatofibroma',\n",
              " 'dermatofibroma',\n",
              " 'dermatofibroma',\n",
              " 'dermatofibroma',\n",
              " 'dermatofibroma',\n",
              " 'dermatofibroma',\n",
              " 'dermatofibroma',\n",
              " 'dermatofibroma',\n",
              " 'dermatofibroma',\n",
              " 'dermatofibroma',\n",
              " 'dermatofibroma',\n",
              " 'dermatofibroma',\n",
              " 'dermatofibroma',\n",
              " 'dermatofibroma',\n",
              " 'dermatofibroma',\n",
              " 'dermatofibroma',\n",
              " 'dermatofibroma',\n",
              " 'dermatofibroma',\n",
              " 'dermatofibroma',\n",
              " 'dermatofibroma',\n",
              " 'dermatofibroma',\n",
              " 'pigmented benign keratosis',\n",
              " 'pigmented benign keratosis',\n",
              " 'pigmented benign keratosis',\n",
              " 'pigmented benign keratosis',\n",
              " 'pigmented benign keratosis',\n",
              " 'pigmented benign keratosis',\n",
              " 'pigmented benign keratosis',\n",
              " 'pigmented benign keratosis',\n",
              " 'pigmented benign keratosis',\n",
              " 'pigmented benign keratosis',\n",
              " 'pigmented benign keratosis',\n",
              " 'pigmented benign keratosis',\n",
              " 'pigmented benign keratosis',\n",
              " 'pigmented benign keratosis',\n",
              " 'pigmented benign keratosis',\n",
              " 'pigmented benign keratosis',\n",
              " 'pigmented benign keratosis',\n",
              " 'pigmented benign keratosis',\n",
              " 'pigmented benign keratosis',\n",
              " 'pigmented benign keratosis',\n",
              " 'pigmented benign keratosis',\n",
              " 'pigmented benign keratosis',\n",
              " 'pigmented benign keratosis',\n",
              " 'pigmented benign keratosis',\n",
              " 'pigmented benign keratosis',\n",
              " 'pigmented benign keratosis',\n",
              " 'pigmented benign keratosis',\n",
              " 'pigmented benign keratosis',\n",
              " 'pigmented benign keratosis',\n",
              " 'pigmented benign keratosis',\n",
              " 'pigmented benign keratosis',\n",
              " 'pigmented benign keratosis',\n",
              " 'pigmented benign keratosis',\n",
              " 'pigmented benign keratosis',\n",
              " 'pigmented benign keratosis',\n",
              " 'pigmented benign keratosis',\n",
              " 'pigmented benign keratosis',\n",
              " 'pigmented benign keratosis',\n",
              " 'pigmented benign keratosis',\n",
              " 'pigmented benign keratosis',\n",
              " 'pigmented benign keratosis',\n",
              " 'pigmented benign keratosis',\n",
              " 'pigmented benign keratosis',\n",
              " 'pigmented benign keratosis',\n",
              " 'pigmented benign keratosis',\n",
              " 'pigmented benign keratosis',\n",
              " 'pigmented benign keratosis',\n",
              " 'pigmented benign keratosis',\n",
              " 'pigmented benign keratosis',\n",
              " 'pigmented benign keratosis',\n",
              " 'pigmented benign keratosis',\n",
              " 'pigmented benign keratosis',\n",
              " 'pigmented benign keratosis',\n",
              " 'pigmented benign keratosis',\n",
              " 'pigmented benign keratosis',\n",
              " 'pigmented benign keratosis',\n",
              " 'pigmented benign keratosis',\n",
              " 'pigmented benign keratosis',\n",
              " 'pigmented benign keratosis',\n",
              " 'pigmented benign keratosis',\n",
              " 'pigmented benign keratosis',\n",
              " 'pigmented benign keratosis',\n",
              " 'pigmented benign keratosis',\n",
              " 'pigmented benign keratosis',\n",
              " 'pigmented benign keratosis',\n",
              " 'pigmented benign keratosis',\n",
              " 'pigmented benign keratosis',\n",
              " 'pigmented benign keratosis',\n",
              " 'pigmented benign keratosis',\n",
              " 'pigmented benign keratosis',\n",
              " 'pigmented benign keratosis',\n",
              " 'pigmented benign keratosis',\n",
              " 'pigmented benign keratosis',\n",
              " 'pigmented benign keratosis',\n",
              " 'pigmented benign keratosis',\n",
              " 'pigmented benign keratosis',\n",
              " 'pigmented benign keratosis',\n",
              " 'pigmented benign keratosis',\n",
              " 'pigmented benign keratosis',\n",
              " 'pigmented benign keratosis',\n",
              " 'pigmented benign keratosis',\n",
              " 'pigmented benign keratosis',\n",
              " 'pigmented benign keratosis',\n",
              " 'pigmented benign keratosis',\n",
              " 'pigmented benign keratosis',\n",
              " 'pigmented benign keratosis',\n",
              " 'pigmented benign keratosis',\n",
              " 'pigmented benign keratosis',\n",
              " 'pigmented benign keratosis',\n",
              " 'pigmented benign keratosis',\n",
              " 'pigmented benign keratosis',\n",
              " 'pigmented benign keratosis',\n",
              " 'pigmented benign keratosis',\n",
              " 'pigmented benign keratosis',\n",
              " 'pigmented benign keratosis',\n",
              " 'pigmented benign keratosis',\n",
              " 'pigmented benign keratosis',\n",
              " 'pigmented benign keratosis',\n",
              " 'pigmented benign keratosis',\n",
              " 'pigmented benign keratosis',\n",
              " 'pigmented benign keratosis',\n",
              " 'pigmented benign keratosis',\n",
              " 'pigmented benign keratosis',\n",
              " 'pigmented benign keratosis',\n",
              " 'pigmented benign keratosis',\n",
              " 'pigmented benign keratosis',\n",
              " 'pigmented benign keratosis',\n",
              " 'pigmented benign keratosis',\n",
              " 'pigmented benign keratosis',\n",
              " 'pigmented benign keratosis',\n",
              " 'pigmented benign keratosis',\n",
              " 'pigmented benign keratosis',\n",
              " 'pigmented benign keratosis',\n",
              " 'pigmented benign keratosis',\n",
              " 'pigmented benign keratosis',\n",
              " 'pigmented benign keratosis',\n",
              " 'pigmented benign keratosis',\n",
              " 'pigmented benign keratosis',\n",
              " 'pigmented benign keratosis',\n",
              " 'pigmented benign keratosis',\n",
              " 'pigmented benign keratosis',\n",
              " 'pigmented benign keratosis',\n",
              " 'pigmented benign keratosis',\n",
              " 'pigmented benign keratosis',\n",
              " 'pigmented benign keratosis',\n",
              " 'pigmented benign keratosis',\n",
              " 'pigmented benign keratosis',\n",
              " 'pigmented benign keratosis',\n",
              " 'pigmented benign keratosis',\n",
              " 'pigmented benign keratosis',\n",
              " 'pigmented benign keratosis',\n",
              " 'pigmented benign keratosis',\n",
              " 'pigmented benign keratosis',\n",
              " 'pigmented benign keratosis',\n",
              " 'pigmented benign keratosis',\n",
              " 'pigmented benign keratosis',\n",
              " 'pigmented benign keratosis',\n",
              " 'pigmented benign keratosis',\n",
              " 'pigmented benign keratosis',\n",
              " 'pigmented benign keratosis',\n",
              " 'pigmented benign keratosis',\n",
              " 'pigmented benign keratosis',\n",
              " 'pigmented benign keratosis',\n",
              " 'pigmented benign keratosis',\n",
              " 'pigmented benign keratosis',\n",
              " 'pigmented benign keratosis',\n",
              " 'pigmented benign keratosis',\n",
              " 'pigmented benign keratosis',\n",
              " 'pigmented benign keratosis',\n",
              " 'pigmented benign keratosis',\n",
              " 'pigmented benign keratosis',\n",
              " 'pigmented benign keratosis',\n",
              " 'pigmented benign keratosis',\n",
              " 'pigmented benign keratosis',\n",
              " 'pigmented benign keratosis',\n",
              " 'pigmented benign keratosis',\n",
              " 'pigmented benign keratosis',\n",
              " 'pigmented benign keratosis',\n",
              " 'pigmented benign keratosis',\n",
              " 'pigmented benign keratosis',\n",
              " 'pigmented benign keratosis',\n",
              " 'pigmented benign keratosis',\n",
              " 'pigmented benign keratosis',\n",
              " 'pigmented benign keratosis',\n",
              " 'pigmented benign keratosis',\n",
              " 'pigmented benign keratosis',\n",
              " 'pigmented benign keratosis',\n",
              " 'pigmented benign keratosis',\n",
              " 'pigmented benign keratosis',\n",
              " 'pigmented benign keratosis',\n",
              " 'pigmented benign keratosis',\n",
              " 'pigmented benign keratosis',\n",
              " 'pigmented benign keratosis',\n",
              " 'pigmented benign keratosis',\n",
              " 'pigmented benign keratosis',\n",
              " 'pigmented benign keratosis',\n",
              " 'pigmented benign keratosis',\n",
              " 'pigmented benign keratosis',\n",
              " 'pigmented benign keratosis',\n",
              " 'pigmented benign keratosis',\n",
              " 'pigmented benign keratosis',\n",
              " 'pigmented benign keratosis',\n",
              " 'pigmented benign keratosis',\n",
              " 'pigmented benign keratosis',\n",
              " 'pigmented benign keratosis',\n",
              " 'pigmented benign keratosis',\n",
              " 'pigmented benign keratosis',\n",
              " 'pigmented benign keratosis',\n",
              " 'pigmented benign keratosis',\n",
              " 'pigmented benign keratosis',\n",
              " 'pigmented benign keratosis',\n",
              " 'pigmented benign keratosis',\n",
              " 'pigmented benign keratosis',\n",
              " 'pigmented benign keratosis',\n",
              " 'pigmented benign keratosis',\n",
              " 'pigmented benign keratosis',\n",
              " 'pigmented benign keratosis',\n",
              " 'pigmented benign keratosis',\n",
              " 'pigmented benign keratosis',\n",
              " 'pigmented benign keratosis',\n",
              " 'pigmented benign keratosis',\n",
              " 'pigmented benign keratosis',\n",
              " 'pigmented benign keratosis',\n",
              " 'pigmented benign keratosis',\n",
              " 'pigmented benign keratosis',\n",
              " 'pigmented benign keratosis',\n",
              " 'pigmented benign keratosis',\n",
              " 'pigmented benign keratosis',\n",
              " 'pigmented benign keratosis',\n",
              " 'pigmented benign keratosis',\n",
              " 'pigmented benign keratosis',\n",
              " 'pigmented benign keratosis',\n",
              " 'pigmented benign keratosis',\n",
              " 'pigmented benign keratosis',\n",
              " 'pigmented benign keratosis',\n",
              " 'pigmented benign keratosis',\n",
              " 'pigmented benign keratosis',\n",
              " 'pigmented benign keratosis',\n",
              " 'pigmented benign keratosis',\n",
              " 'pigmented benign keratosis',\n",
              " 'pigmented benign keratosis',\n",
              " 'pigmented benign keratosis',\n",
              " 'pigmented benign keratosis',\n",
              " 'pigmented benign keratosis',\n",
              " 'pigmented benign keratosis',\n",
              " 'pigmented benign keratosis',\n",
              " 'pigmented benign keratosis',\n",
              " 'pigmented benign keratosis',\n",
              " 'pigmented benign keratosis',\n",
              " 'pigmented benign keratosis',\n",
              " 'pigmented benign keratosis',\n",
              " 'pigmented benign keratosis',\n",
              " 'pigmented benign keratosis',\n",
              " 'pigmented benign keratosis',\n",
              " 'pigmented benign keratosis',\n",
              " 'pigmented benign keratosis',\n",
              " 'pigmented benign keratosis',\n",
              " 'pigmented benign keratosis',\n",
              " 'pigmented benign keratosis',\n",
              " 'pigmented benign keratosis',\n",
              " 'pigmented benign keratosis',\n",
              " 'pigmented benign keratosis',\n",
              " 'pigmented benign keratosis',\n",
              " 'pigmented benign keratosis',\n",
              " 'pigmented benign keratosis',\n",
              " 'pigmented benign keratosis',\n",
              " 'pigmented benign keratosis',\n",
              " 'pigmented benign keratosis',\n",
              " 'pigmented benign keratosis',\n",
              " 'pigmented benign keratosis',\n",
              " 'pigmented benign keratosis',\n",
              " 'pigmented benign keratosis',\n",
              " 'pigmented benign keratosis',\n",
              " 'pigmented benign keratosis',\n",
              " 'pigmented benign keratosis',\n",
              " 'pigmented benign keratosis',\n",
              " 'pigmented benign keratosis',\n",
              " 'pigmented benign keratosis',\n",
              " 'pigmented benign keratosis',\n",
              " 'pigmented benign keratosis',\n",
              " 'pigmented benign keratosis',\n",
              " 'pigmented benign keratosis',\n",
              " 'pigmented benign keratosis',\n",
              " 'pigmented benign keratosis',\n",
              " 'pigmented benign keratosis',\n",
              " 'pigmented benign keratosis',\n",
              " 'pigmented benign keratosis',\n",
              " 'pigmented benign keratosis',\n",
              " 'pigmented benign keratosis',\n",
              " 'pigmented benign keratosis',\n",
              " 'pigmented benign keratosis',\n",
              " 'pigmented benign keratosis',\n",
              " 'pigmented benign keratosis',\n",
              " 'pigmented benign keratosis',\n",
              " 'pigmented benign keratosis',\n",
              " 'pigmented benign keratosis',\n",
              " 'pigmented benign keratosis',\n",
              " 'pigmented benign keratosis',\n",
              " 'pigmented benign keratosis',\n",
              " 'pigmented benign keratosis',\n",
              " 'pigmented benign keratosis',\n",
              " 'pigmented benign keratosis',\n",
              " 'pigmented benign keratosis',\n",
              " 'pigmented benign keratosis',\n",
              " 'pigmented benign keratosis',\n",
              " 'pigmented benign keratosis',\n",
              " 'pigmented benign keratosis',\n",
              " 'pigmented benign keratosis',\n",
              " 'pigmented benign keratosis',\n",
              " 'pigmented benign keratosis',\n",
              " 'pigmented benign keratosis',\n",
              " 'pigmented benign keratosis',\n",
              " 'pigmented benign keratosis',\n",
              " 'pigmented benign keratosis',\n",
              " 'pigmented benign keratosis',\n",
              " 'pigmented benign keratosis',\n",
              " 'pigmented benign keratosis',\n",
              " 'pigmented benign keratosis',\n",
              " 'pigmented benign keratosis',\n",
              " 'pigmented benign keratosis',\n",
              " 'pigmented benign keratosis',\n",
              " 'pigmented benign keratosis',\n",
              " 'pigmented benign keratosis',\n",
              " 'pigmented benign keratosis',\n",
              " 'pigmented benign keratosis',\n",
              " 'pigmented benign keratosis',\n",
              " 'pigmented benign keratosis',\n",
              " 'pigmented benign keratosis',\n",
              " 'pigmented benign keratosis',\n",
              " 'pigmented benign keratosis',\n",
              " 'pigmented benign keratosis',\n",
              " 'pigmented benign keratosis',\n",
              " 'pigmented benign keratosis',\n",
              " 'pigmented benign keratosis',\n",
              " 'pigmented benign keratosis',\n",
              " 'pigmented benign keratosis',\n",
              " 'pigmented benign keratosis',\n",
              " 'pigmented benign keratosis',\n",
              " 'pigmented benign keratosis',\n",
              " 'pigmented benign keratosis',\n",
              " 'pigmented benign keratosis',\n",
              " 'pigmented benign keratosis',\n",
              " 'pigmented benign keratosis',\n",
              " 'pigmented benign keratosis',\n",
              " 'pigmented benign keratosis',\n",
              " 'pigmented benign keratosis',\n",
              " 'pigmented benign keratosis',\n",
              " 'pigmented benign keratosis',\n",
              " 'pigmented benign keratosis',\n",
              " 'pigmented benign keratosis',\n",
              " 'pigmented benign keratosis',\n",
              " 'pigmented benign keratosis',\n",
              " 'pigmented benign keratosis',\n",
              " 'pigmented benign keratosis',\n",
              " 'pigmented benign keratosis',\n",
              " 'pigmented benign keratosis',\n",
              " 'pigmented benign keratosis',\n",
              " 'pigmented benign keratosis',\n",
              " 'pigmented benign keratosis',\n",
              " 'pigmented benign keratosis',\n",
              " 'pigmented benign keratosis',\n",
              " 'pigmented benign keratosis',\n",
              " 'pigmented benign keratosis',\n",
              " 'pigmented benign keratosis',\n",
              " 'pigmented benign keratosis',\n",
              " 'pigmented benign keratosis',\n",
              " 'pigmented benign keratosis',\n",
              " 'pigmented benign keratosis',\n",
              " 'pigmented benign keratosis',\n",
              " 'pigmented benign keratosis',\n",
              " 'pigmented benign keratosis',\n",
              " 'pigmented benign keratosis',\n",
              " 'pigmented benign keratosis',\n",
              " 'pigmented benign keratosis',\n",
              " 'pigmented benign keratosis',\n",
              " 'pigmented benign keratosis',\n",
              " 'pigmented benign keratosis',\n",
              " 'pigmented benign keratosis',\n",
              " 'pigmented benign keratosis',\n",
              " 'pigmented benign keratosis',\n",
              " 'pigmented benign keratosis',\n",
              " 'pigmented benign keratosis',\n",
              " 'pigmented benign keratosis',\n",
              " 'pigmented benign keratosis',\n",
              " 'pigmented benign keratosis',\n",
              " 'pigmented benign keratosis',\n",
              " 'pigmented benign keratosis',\n",
              " 'pigmented benign keratosis',\n",
              " 'pigmented benign keratosis',\n",
              " 'pigmented benign keratosis',\n",
              " 'pigmented benign keratosis',\n",
              " 'pigmented benign keratosis',\n",
              " 'pigmented benign keratosis',\n",
              " 'pigmented benign keratosis',\n",
              " 'pigmented benign keratosis',\n",
              " 'pigmented benign keratosis',\n",
              " 'pigmented benign keratosis',\n",
              " 'pigmented benign keratosis',\n",
              " 'pigmented benign keratosis',\n",
              " 'pigmented benign keratosis',\n",
              " 'pigmented benign keratosis',\n",
              " 'pigmented benign keratosis',\n",
              " 'pigmented benign keratosis',\n",
              " 'pigmented benign keratosis',\n",
              " 'pigmented benign keratosis',\n",
              " 'pigmented benign keratosis',\n",
              " 'pigmented benign keratosis',\n",
              " 'pigmented benign keratosis',\n",
              " 'pigmented benign keratosis',\n",
              " 'pigmented benign keratosis',\n",
              " 'pigmented benign keratosis',\n",
              " 'pigmented benign keratosis',\n",
              " 'pigmented benign keratosis',\n",
              " 'pigmented benign keratosis',\n",
              " 'pigmented benign keratosis',\n",
              " 'pigmented benign keratosis',\n",
              " 'pigmented benign keratosis',\n",
              " 'pigmented benign keratosis',\n",
              " 'pigmented benign keratosis',\n",
              " 'pigmented benign keratosis',\n",
              " 'pigmented benign keratosis',\n",
              " 'pigmented benign keratosis',\n",
              " 'pigmented benign keratosis',\n",
              " 'pigmented benign keratosis',\n",
              " 'pigmented benign keratosis',\n",
              " 'pigmented benign keratosis',\n",
              " 'pigmented benign keratosis',\n",
              " 'pigmented benign keratosis',\n",
              " 'pigmented benign keratosis',\n",
              " 'pigmented benign keratosis',\n",
              " 'pigmented benign keratosis',\n",
              " 'pigmented benign keratosis',\n",
              " 'pigmented benign keratosis',\n",
              " 'pigmented benign keratosis',\n",
              " 'pigmented benign keratosis',\n",
              " 'pigmented benign keratosis',\n",
              " 'pigmented benign keratosis',\n",
              " 'pigmented benign keratosis',\n",
              " 'pigmented benign keratosis',\n",
              " 'pigmented benign keratosis',\n",
              " 'pigmented benign keratosis',\n",
              " 'pigmented benign keratosis',\n",
              " 'pigmented benign keratosis',\n",
              " 'pigmented benign keratosis',\n",
              " 'pigmented benign keratosis',\n",
              " 'pigmented benign keratosis',\n",
              " 'pigmented benign keratosis',\n",
              " 'pigmented benign keratosis',\n",
              " 'pigmented benign keratosis',\n",
              " 'pigmented benign keratosis',\n",
              " 'pigmented benign keratosis',\n",
              " 'pigmented benign keratosis',\n",
              " 'pigmented benign keratosis',\n",
              " 'pigmented benign keratosis',\n",
              " 'pigmented benign keratosis',\n",
              " 'pigmented benign keratosis',\n",
              " 'pigmented benign keratosis',\n",
              " 'pigmented benign keratosis',\n",
              " 'pigmented benign keratosis',\n",
              " 'pigmented benign keratosis',\n",
              " 'pigmented benign keratosis',\n",
              " 'pigmented benign keratosis',\n",
              " 'pigmented benign keratosis',\n",
              " 'pigmented benign keratosis',\n",
              " 'pigmented benign keratosis',\n",
              " 'pigmented benign keratosis',\n",
              " 'pigmented benign keratosis',\n",
              " 'pigmented benign keratosis',\n",
              " 'pigmented benign keratosis',\n",
              " 'pigmented benign keratosis',\n",
              " 'pigmented benign keratosis',\n",
              " 'pigmented benign keratosis',\n",
              " 'pigmented benign keratosis',\n",
              " 'pigmented benign keratosis',\n",
              " 'pigmented benign keratosis',\n",
              " 'pigmented benign keratosis',\n",
              " 'pigmented benign keratosis',\n",
              " 'pigmented benign keratosis',\n",
              " 'pigmented benign keratosis',\n",
              " 'pigmented benign keratosis',\n",
              " 'pigmented benign keratosis',\n",
              " 'pigmented benign keratosis',\n",
              " 'pigmented benign keratosis',\n",
              " 'pigmented benign keratosis',\n",
              " 'pigmented benign keratosis',\n",
              " 'pigmented benign keratosis',\n",
              " 'pigmented benign keratosis',\n",
              " 'pigmented benign keratosis',\n",
              " 'pigmented benign keratosis',\n",
              " 'pigmented benign keratosis',\n",
              " 'pigmented benign keratosis',\n",
              " 'pigmented benign keratosis',\n",
              " 'pigmented benign keratosis',\n",
              " 'pigmented benign keratosis',\n",
              " 'pigmented benign keratosis',\n",
              " 'pigmented benign keratosis',\n",
              " 'pigmented benign keratosis',\n",
              " 'pigmented benign keratosis',\n",
              " 'pigmented benign keratosis',\n",
              " 'pigmented benign keratosis',\n",
              " 'pigmented benign keratosis',\n",
              " 'pigmented benign keratosis',\n",
              " 'pigmented benign keratosis',\n",
              " 'pigmented benign keratosis',\n",
              " 'pigmented benign keratosis',\n",
              " 'pigmented benign keratosis',\n",
              " 'pigmented benign keratosis',\n",
              " 'pigmented benign keratosis',\n",
              " 'pigmented benign keratosis',\n",
              " 'pigmented benign keratosis',\n",
              " 'pigmented benign keratosis',\n",
              " 'pigmented benign keratosis',\n",
              " 'pigmented benign keratosis',\n",
              " 'pigmented benign keratosis',\n",
              " 'pigmented benign keratosis',\n",
              " 'pigmented benign keratosis',\n",
              " 'pigmented benign keratosis',\n",
              " 'pigmented benign keratosis',\n",
              " 'pigmented benign keratosis',\n",
              " 'pigmented benign keratosis',\n",
              " ...]"
            ]
          },
          "metadata": {
            "tags": []
          },
          "execution_count": 39
        }
      ]
    },
    {
      "cell_type": "code",
      "metadata": {
        "id": "okcqVFAA2nxK"
      },
      "source": [
        "dataframe_dict_new = dict(zip(path_list_new, lesion_list_new))"
      ],
      "execution_count": 40,
      "outputs": []
    },
    {
      "cell_type": "code",
      "metadata": {
        "id": "njzBxTNT2nxK"
      },
      "source": [
        "original_df=pd.DataFrame()\r\n",
        "df2 = pd.DataFrame(list(dataframe_dict_new.items()),columns = ['Path','Label'])\r\n",
        "new_df = original_df.append(df2)"
      ],
      "execution_count": 41,
      "outputs": []
    },
    {
      "cell_type": "code",
      "metadata": {
        "id": "5j45rmxd2nxK",
        "colab": {
          "base_uri": "https://localhost:8080/"
        },
        "outputId": "b68c69d6-2987-4fd1-faed-4d6d186192e5"
      },
      "source": [
        "new_df['Label'].value_counts()"
      ],
      "execution_count": 42,
      "outputs": [
        {
          "output_type": "execute_result",
          "data": {
            "text/plain": [
              "dermatofibroma                500\n",
              "basal cell carcinoma          500\n",
              "vascular lesion               500\n",
              "squamous cell carcinoma       500\n",
              "nevus                         500\n",
              "actinic keratosis             500\n",
              "melanoma                      500\n",
              "pigmented benign keratosis    500\n",
              "seborrheic keratosis          500\n",
              "Name: Label, dtype: int64"
            ]
          },
          "metadata": {
            "tags": []
          },
          "execution_count": 42
        }
      ]
    },
    {
      "cell_type": "markdown",
      "metadata": {
        "id": "9NirFBvGPmgI"
      },
      "source": [
        "So, now we have added 500 images to all the classes to maintain some class balance. We can add more images as we want to improve training process."
      ]
    },
    {
      "cell_type": "markdown",
      "metadata": {
        "id": "9EnspeMbRWNs"
      },
      "source": [
        "#### **Todo**: Train the model on the data created using Augmentor"
      ]
    },
    {
      "cell_type": "code",
      "metadata": {
        "id": "hFcj1XgndRWz"
      },
      "source": [
        "batch_size = 32\n",
        "img_height = 180\n",
        "img_width = 180"
      ],
      "execution_count": 43,
      "outputs": []
    },
    {
      "cell_type": "markdown",
      "metadata": {
        "id": "0haOU11Ey8ey"
      },
      "source": [
        "#### **Todo:** Create a training dataset"
      ]
    },
    {
      "cell_type": "code",
      "metadata": {
        "id": "H4ZY11judRWz",
        "colab": {
          "base_uri": "https://localhost:8080/"
        },
        "outputId": "3f95751d-a3e8-4f09-b802-1b56a8fa1e12"
      },
      "source": [
        "data_dir_train=pathlib.Path(\"/content/CNN_assignment/Skin cancer ISIC The International Skin Imaging Collaboration/Train/\")\n",
        "train_ds = tf.keras.preprocessing.image_dataset_from_directory(\n",
        "               directory=data_dir_train, labels='inferred', label_mode='categorical', class_names=None,\n",
        "               color_mode='rgb', batch_size=batch_size, image_size=(img_height, img_width),\n",
        "               shuffle=True, seed=123, validation_split=.20, subset=\"training\",\n",
        "              interpolation='nearest', follow_links=False)"
      ],
      "execution_count": 45,
      "outputs": [
        {
          "output_type": "stream",
          "text": [
            "Found 6739 files belonging to 9 classes.\n",
            "Using 5392 files for training.\n"
          ],
          "name": "stdout"
        }
      ]
    },
    {
      "cell_type": "markdown",
      "metadata": {
        "id": "mwNJVDuBP5kf"
      },
      "source": [
        "#### **Todo:** Create a validation dataset"
      ]
    },
    {
      "cell_type": "code",
      "metadata": {
        "id": "TX191d_3dRW0",
        "colab": {
          "base_uri": "https://localhost:8080/"
        },
        "outputId": "90962012-73e1-43f6-88bb-83d4896a2853"
      },
      "source": [
        "val_ds = tf.keras.preprocessing.image_dataset_from_directory(\n",
        "               directory=data_dir_train, labels='inferred', label_mode='categorical', class_names=None,\n",
        "               color_mode='rgb', batch_size=batch_size, image_size=(img_height, img_width),\n",
        "               shuffle=True, seed=123, validation_split=.20, subset=\"validation\",\n",
        "              interpolation='nearest', follow_links=False)"
      ],
      "execution_count": 46,
      "outputs": [
        {
          "output_type": "stream",
          "text": [
            "Found 6739 files belonging to 9 classes.\n",
            "Using 1347 files for validation.\n"
          ],
          "name": "stdout"
        }
      ]
    },
    {
      "cell_type": "markdown",
      "metadata": {
        "id": "JaoWeOEpVjqH"
      },
      "source": [
        "#### **Todo:** Create your model (make sure to include normalization)"
      ]
    },
    {
      "cell_type": "code",
      "metadata": {
        "id": "Ch0MuKvFVr7O"
      },
      "source": [
        "## your code goes here\r\n",
        "model = tf.keras.Sequential(\r\n",
        "    preprocessing_layers +\r\n",
        "    core_layers +\r\n",
        "    dense_layers\r\n",
        ")"
      ],
      "execution_count": 47,
      "outputs": []
    },
    {
      "cell_type": "markdown",
      "metadata": {
        "id": "Bu5N9LxkVx1B"
      },
      "source": [
        "#### **Todo:** Compile your model (Choose optimizer and loss function appropriately)"
      ]
    },
    {
      "cell_type": "code",
      "metadata": {
        "id": "H47GWmLbdRW1"
      },
      "source": [
        "## your code goes here\r\n",
        "\r\n",
        "## Your code goes here\r\n",
        "loss = tf.keras.losses.CategoricalCrossentropy(from_logits=True)\r\n",
        "model.compile(optimizer='adam',\r\n",
        "              loss=loss,\r\n",
        "              metrics=['accuracy'])\r\n"
      ],
      "execution_count": 48,
      "outputs": []
    },
    {
      "cell_type": "code",
      "metadata": {
        "colab": {
          "base_uri": "https://localhost:8080/"
        },
        "id": "2mp_iurQxKoE",
        "outputId": "694ce916-041b-4ed3-907c-b188512f448d"
      },
      "source": [
        "model.summary()"
      ],
      "execution_count": 53,
      "outputs": [
        {
          "output_type": "stream",
          "text": [
            "Model: \"sequential_2\"\n",
            "_________________________________________________________________\n",
            "Layer (type)                 Output Shape              Param #   \n",
            "=================================================================\n",
            "rescaling (Rescaling)        (None, 180, 180, 3)       0         \n",
            "_________________________________________________________________\n",
            "conv2d_3 (Conv2D)            (None, 180, 180, 16)      448       \n",
            "_________________________________________________________________\n",
            "max_pooling2d_3 (MaxPooling2 (None, 90, 90, 16)        0         \n",
            "_________________________________________________________________\n",
            "dropout (Dropout)            (None, 90, 90, 16)        0         \n",
            "_________________________________________________________________\n",
            "conv2d_4 (Conv2D)            (None, 90, 90, 32)        4640      \n",
            "_________________________________________________________________\n",
            "max_pooling2d_4 (MaxPooling2 (None, 45, 45, 32)        0         \n",
            "_________________________________________________________________\n",
            "dropout_1 (Dropout)          (None, 45, 45, 32)        0         \n",
            "_________________________________________________________________\n",
            "conv2d_5 (Conv2D)            (None, 45, 45, 64)        18496     \n",
            "_________________________________________________________________\n",
            "max_pooling2d_5 (MaxPooling2 (None, 22, 22, 64)        0         \n",
            "_________________________________________________________________\n",
            "dropout_2 (Dropout)          (None, 22, 22, 64)        0         \n",
            "_________________________________________________________________\n",
            "flatten_1 (Flatten)          (None, 30976)             0         \n",
            "_________________________________________________________________\n",
            "dense_2 (Dense)              (None, 128)               3965056   \n",
            "_________________________________________________________________\n",
            "dropout_3 (Dropout)          (None, 128)               0         \n",
            "_________________________________________________________________\n",
            "dense_3 (Dense)              (None, 9)                 1161      \n",
            "=================================================================\n",
            "Total params: 3,989,801\n",
            "Trainable params: 3,989,801\n",
            "Non-trainable params: 0\n",
            "_________________________________________________________________\n"
          ],
          "name": "stdout"
        }
      ]
    },
    {
      "cell_type": "markdown",
      "metadata": {
        "id": "9gS-Y1bJV7uy"
      },
      "source": [
        "#### **Todo:**  Train your model"
      ]
    },
    {
      "cell_type": "code",
      "metadata": {
        "id": "fcV6OdI4dRW1",
        "colab": {
          "base_uri": "https://localhost:8080/"
        },
        "outputId": "6d1e112d-96d0-4bd9-f5ec-af6e350e5a18"
      },
      "source": [
        "epochs = 50\n",
        "## Your code goes here, use 50 epochs.\n",
        "##epochs = 20\n",
        "history = model.fit(\n",
        "  train_ds,\n",
        "  validation_data=val_ds,\n",
        "  epochs=epochs\n",
        ")"
      ],
      "execution_count": 49,
      "outputs": [
        {
          "output_type": "stream",
          "text": [
            "Epoch 1/50\n",
            "169/169 [==============================] - 37s 212ms/step - loss: 1.5517 - accuracy: 0.4127 - val_loss: 1.5800 - val_accuracy: 0.3972\n",
            "Epoch 2/50\n",
            "169/169 [==============================] - 36s 208ms/step - loss: 1.4772 - accuracy: 0.4230 - val_loss: 1.4025 - val_accuracy: 0.4373\n",
            "Epoch 3/50\n",
            "169/169 [==============================] - 36s 207ms/step - loss: 1.4149 - accuracy: 0.4397 - val_loss: 1.4262 - val_accuracy: 0.4477\n",
            "Epoch 4/50\n",
            "169/169 [==============================] - 36s 207ms/step - loss: 1.3685 - accuracy: 0.4711 - val_loss: 1.4158 - val_accuracy: 0.4573\n",
            "Epoch 5/50\n",
            "169/169 [==============================] - 36s 207ms/step - loss: 1.3305 - accuracy: 0.4916 - val_loss: 1.4082 - val_accuracy: 0.4610\n",
            "Epoch 6/50\n",
            "169/169 [==============================] - 37s 211ms/step - loss: 1.2771 - accuracy: 0.5049 - val_loss: 1.2183 - val_accuracy: 0.5390\n",
            "Epoch 7/50\n",
            "169/169 [==============================] - 37s 211ms/step - loss: 1.2356 - accuracy: 0.5379 - val_loss: 1.2711 - val_accuracy: 0.5575\n",
            "Epoch 8/50\n",
            "169/169 [==============================] - 37s 212ms/step - loss: 1.1781 - accuracy: 0.5530 - val_loss: 1.1800 - val_accuracy: 0.5568\n",
            "Epoch 9/50\n",
            "169/169 [==============================] - 37s 214ms/step - loss: 1.1357 - accuracy: 0.5641 - val_loss: 1.1183 - val_accuracy: 0.6013\n",
            "Epoch 10/50\n",
            "169/169 [==============================] - 37s 212ms/step - loss: 1.1089 - accuracy: 0.5795 - val_loss: 1.0968 - val_accuracy: 0.5887\n",
            "Epoch 11/50\n",
            "169/169 [==============================] - 37s 212ms/step - loss: 1.0432 - accuracy: 0.5877 - val_loss: 1.1838 - val_accuracy: 0.5828\n",
            "Epoch 12/50\n",
            "169/169 [==============================] - 37s 215ms/step - loss: 1.0795 - accuracy: 0.5855 - val_loss: 1.0021 - val_accuracy: 0.6273\n",
            "Epoch 13/50\n",
            "169/169 [==============================] - 38s 216ms/step - loss: 1.0076 - accuracy: 0.6023 - val_loss: 0.9917 - val_accuracy: 0.6370\n",
            "Epoch 14/50\n",
            "169/169 [==============================] - 38s 216ms/step - loss: 0.9580 - accuracy: 0.6252 - val_loss: 0.9946 - val_accuracy: 0.6385\n",
            "Epoch 15/50\n",
            "169/169 [==============================] - 38s 219ms/step - loss: 0.9451 - accuracy: 0.6363 - val_loss: 0.9181 - val_accuracy: 0.6333\n",
            "Epoch 16/50\n",
            "169/169 [==============================] - 38s 220ms/step - loss: 0.9113 - accuracy: 0.6460 - val_loss: 1.0481 - val_accuracy: 0.6474\n",
            "Epoch 17/50\n",
            "169/169 [==============================] - 38s 220ms/step - loss: 0.8957 - accuracy: 0.6471 - val_loss: 1.0240 - val_accuracy: 0.6273\n",
            "Epoch 18/50\n",
            "169/169 [==============================] - 39s 222ms/step - loss: 0.8830 - accuracy: 0.6610 - val_loss: 0.9955 - val_accuracy: 0.6437\n",
            "Epoch 19/50\n",
            "169/169 [==============================] - 38s 220ms/step - loss: 0.9035 - accuracy: 0.6483 - val_loss: 0.9488 - val_accuracy: 0.6563\n",
            "Epoch 20/50\n",
            "169/169 [==============================] - 38s 219ms/step - loss: 0.8412 - accuracy: 0.6713 - val_loss: 0.9076 - val_accuracy: 0.6451\n",
            "Epoch 21/50\n",
            "169/169 [==============================] - 38s 219ms/step - loss: 0.8176 - accuracy: 0.6879 - val_loss: 0.8092 - val_accuracy: 0.7149\n",
            "Epoch 22/50\n",
            "169/169 [==============================] - 38s 219ms/step - loss: 0.7729 - accuracy: 0.6962 - val_loss: 0.8569 - val_accuracy: 0.6867\n",
            "Epoch 23/50\n",
            "169/169 [==============================] - 38s 218ms/step - loss: 0.7749 - accuracy: 0.7015 - val_loss: 0.8296 - val_accuracy: 0.6882\n",
            "Epoch 24/50\n",
            "169/169 [==============================] - 38s 221ms/step - loss: 0.7762 - accuracy: 0.6942 - val_loss: 0.8054 - val_accuracy: 0.6719\n",
            "Epoch 25/50\n",
            "169/169 [==============================] - 38s 221ms/step - loss: 0.7731 - accuracy: 0.6991 - val_loss: 0.7342 - val_accuracy: 0.7313\n",
            "Epoch 26/50\n",
            "169/169 [==============================] - 39s 224ms/step - loss: 0.7348 - accuracy: 0.7199 - val_loss: 0.8327 - val_accuracy: 0.6919\n",
            "Epoch 27/50\n",
            "169/169 [==============================] - 39s 221ms/step - loss: 0.7486 - accuracy: 0.7111 - val_loss: 0.7567 - val_accuracy: 0.7231\n",
            "Epoch 28/50\n",
            "169/169 [==============================] - 38s 220ms/step - loss: 0.7090 - accuracy: 0.7227 - val_loss: 0.7570 - val_accuracy: 0.7439\n",
            "Epoch 29/50\n",
            "169/169 [==============================] - 38s 218ms/step - loss: 0.6807 - accuracy: 0.7320 - val_loss: 0.7261 - val_accuracy: 0.7335\n",
            "Epoch 30/50\n",
            "169/169 [==============================] - 38s 219ms/step - loss: 0.7002 - accuracy: 0.7123 - val_loss: 0.7022 - val_accuracy: 0.7491\n",
            "Epoch 31/50\n",
            "169/169 [==============================] - 38s 217ms/step - loss: 0.6984 - accuracy: 0.7112 - val_loss: 0.7306 - val_accuracy: 0.7327\n",
            "Epoch 32/50\n",
            "169/169 [==============================] - 38s 219ms/step - loss: 0.6458 - accuracy: 0.7438 - val_loss: 0.7445 - val_accuracy: 0.7372\n",
            "Epoch 33/50\n",
            "169/169 [==============================] - 38s 215ms/step - loss: 0.6849 - accuracy: 0.7431 - val_loss: 0.6644 - val_accuracy: 0.7624\n",
            "Epoch 34/50\n",
            "169/169 [==============================] - 38s 219ms/step - loss: 0.6374 - accuracy: 0.7554 - val_loss: 0.8518 - val_accuracy: 0.7164\n",
            "Epoch 35/50\n",
            "169/169 [==============================] - 38s 219ms/step - loss: 0.6073 - accuracy: 0.7598 - val_loss: 0.7419 - val_accuracy: 0.7350\n",
            "Epoch 36/50\n",
            "169/169 [==============================] - 40s 229ms/step - loss: 0.6135 - accuracy: 0.7595 - val_loss: 0.7297 - val_accuracy: 0.7439\n",
            "Epoch 37/50\n",
            "169/169 [==============================] - 39s 225ms/step - loss: 0.6500 - accuracy: 0.7486 - val_loss: 0.9246 - val_accuracy: 0.6964\n",
            "Epoch 38/50\n",
            "169/169 [==============================] - 39s 223ms/step - loss: 0.6047 - accuracy: 0.7637 - val_loss: 0.7106 - val_accuracy: 0.7624\n",
            "Epoch 39/50\n",
            "169/169 [==============================] - 39s 226ms/step - loss: 0.5998 - accuracy: 0.7691 - val_loss: 0.7116 - val_accuracy: 0.7528\n",
            "Epoch 40/50\n",
            "169/169 [==============================] - 39s 224ms/step - loss: 0.5807 - accuracy: 0.7765 - val_loss: 0.6735 - val_accuracy: 0.7684\n",
            "Epoch 41/50\n",
            "169/169 [==============================] - 39s 223ms/step - loss: 0.6050 - accuracy: 0.7638 - val_loss: 0.6169 - val_accuracy: 0.7921\n",
            "Epoch 42/50\n",
            "169/169 [==============================] - 40s 227ms/step - loss: 0.5727 - accuracy: 0.7827 - val_loss: 0.6374 - val_accuracy: 0.7854\n",
            "Epoch 43/50\n",
            "169/169 [==============================] - 39s 221ms/step - loss: 0.6156 - accuracy: 0.7620 - val_loss: 0.6616 - val_accuracy: 0.7795\n",
            "Epoch 44/50\n",
            "169/169 [==============================] - 38s 220ms/step - loss: 0.5666 - accuracy: 0.7812 - val_loss: 0.6876 - val_accuracy: 0.7847\n",
            "Epoch 45/50\n",
            "169/169 [==============================] - 38s 220ms/step - loss: 0.5558 - accuracy: 0.7853 - val_loss: 0.7590 - val_accuracy: 0.7520\n",
            "Epoch 46/50\n",
            "169/169 [==============================] - 38s 221ms/step - loss: 0.5563 - accuracy: 0.7796 - val_loss: 0.6523 - val_accuracy: 0.7773\n",
            "Epoch 47/50\n",
            "169/169 [==============================] - 38s 220ms/step - loss: 0.5467 - accuracy: 0.7914 - val_loss: 0.7039 - val_accuracy: 0.7632\n",
            "Epoch 48/50\n",
            "169/169 [==============================] - 38s 219ms/step - loss: 0.5382 - accuracy: 0.7855 - val_loss: 0.6917 - val_accuracy: 0.7684\n",
            "Epoch 49/50\n",
            "169/169 [==============================] - 37s 214ms/step - loss: 0.5463 - accuracy: 0.7918 - val_loss: 0.6354 - val_accuracy: 0.7996\n",
            "Epoch 50/50\n",
            "169/169 [==============================] - 37s 215ms/step - loss: 0.4799 - accuracy: 0.8148 - val_loss: 0.6290 - val_accuracy: 0.7973\n"
          ],
          "name": "stdout"
        }
      ]
    },
    {
      "cell_type": "markdown",
      "metadata": {
        "id": "iuvfCTsBWLMp"
      },
      "source": [
        "#### **Todo:**  Visualize the model results"
      ]
    },
    {
      "cell_type": "code",
      "metadata": {
        "id": "lCTXwfkTdRW1",
        "colab": {
          "base_uri": "https://localhost:8080/",
          "height": 716
        },
        "outputId": "35926922-3353-4ced-9b4b-01fd4cd07cf9"
      },
      "source": [
        "acc = history.history['accuracy']\n",
        "val_acc = history.history['val_accuracy']\n",
        "\n",
        "loss = history.history['loss']\n",
        "val_loss = history.history['val_loss']\n",
        "\n",
        "epochs_range = range(epochs)\n",
        "\n",
        "plt.figure(figsize=(12, 12))\n",
        "plt.subplot(1, 2, 1)\n",
        "plt.plot(epochs_range, acc, label='Training Accuracy')\n",
        "plt.plot(epochs_range, val_acc, label='Validation Accuracy')\n",
        "plt.legend(loc='lower right')\n",
        "plt.title('Training and Validation Accuracy')\n",
        "\n",
        "plt.subplot(1, 2, 2)\n",
        "plt.plot(epochs_range, loss, label='Training Loss')\n",
        "plt.plot(epochs_range, val_loss, label='Validation Loss')\n",
        "plt.legend(loc='upper right')\n",
        "plt.title('Training and Validation Loss')\n",
        "plt.show()"
      ],
      "execution_count": 50,
      "outputs": [
        {
          "output_type": "display_data",
          "data": {
            "image/png": "[encoded data removed]",
            "text/plain": [
              "<Figure size 864x864 with 2 Axes>"
            ]
          },
          "metadata": {
            "tags": [],
            "needs_background": "light"
          }
        }
      ]
    },
    {
      "cell_type": "markdown",
      "metadata": {
        "id": "Way4lakC4_p0"
      },
      "source": [
        "#### **Todo:**  Analyze your results here. Did you get rid of underfitting/overfitting? Did class rebalance help?\n",
        "\n"
      ]
    },
    {
      "cell_type": "code",
      "metadata": {
        "id": "nV2BHg1dWrdY",
        "colab": {
          "base_uri": "https://localhost:8080/"
        },
        "outputId": "1ea30db1-8ed0-4932-8447-46bd0922f20a"
      },
      "source": [
        "## Let's evaluate the model on the test data\r\n",
        "history_test_model=model.evaluate(test_ds,batch_size=batch_size)"
      ],
      "execution_count": 51,
      "outputs": [
        {
          "output_type": "stream",
          "text": [
            "4/4 [==============================] - 4s 13ms/step - loss: 3.9070 - accuracy: 0.3814\n"
          ],
          "name": "stdout"
        }
      ]
    },
    {
      "cell_type": "code",
      "metadata": {
        "colab": {
          "base_uri": "https://localhost:8080/"
        },
        "id": "JEmD_HPC8Dfj",
        "outputId": "a6774cf9-d3d9-4c71-aa8d-0ba9ecc6084d"
      },
      "source": [
        "## Model summary on the performance train, validation and test set\r\n",
        "print('Model summary after class rebalance')\r\n",
        "print('-----------------------------------------------------------------')\r\n",
        "print('Train accuracy on epoch',epochs,'is',str(100*(acc[epochs-1]))+'%')\r\n",
        "print('Validation accuracy on epoch',epochs,'is',str(100*(val_acc[epochs-1]))+'%')\r\n",
        "print('Test accuracy: ', str(100*history_test_model[1])+'%')"
      ],
      "execution_count": 52,
      "outputs": [
        {
          "output_type": "stream",
          "text": [
            "Model summary after class rebalance\n",
            "-----------------------------------------------------------------\n",
            "Train accuracy on epoch 50 is 81.2685489654541%\n",
            "Validation accuracy on epoch 50 is 79.73273992538452%\n",
            "Test accuracy:  38.13559412956238%\n"
          ],
          "name": "stdout"
        }
      ]
    }
  ]
}