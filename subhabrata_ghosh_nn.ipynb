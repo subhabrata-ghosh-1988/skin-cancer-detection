{
  "nbformat": 4,
  "nbformat_minor": 0,
  "metadata": {
    "accelerator": "GPU",
    "colab": {
      "name": "Starter code Assignment CNN Skin Cancer.ipynb",
      "provenance": []
    },
    "kernelspec": {
      "display_name": "Python 3",
      "name": "python3"
    }
  },
  "cells": [
    {
      "cell_type": "markdown",
      "metadata": {
        "id": "yDriIbfa5lwD"
      },
      "source": [
        "Problem statement: To build a CNN based model which can accurately detect melanoma. Melanoma is a type of cancer that can be deadly if not detected early. It accounts for 75% of skin cancer deaths. A solution which can evaluate images and alert the dermatologists about the presence of melanoma has the potential to reduce a lot of manual effort needed in diagnosis."
      ]
    },
    {
      "cell_type": "markdown",
      "metadata": {
        "id": "lvR7ppk77v31"
      },
      "source": [
        "### Importing Skin Cancer Data\n",
        "#### To do: Take necessary actions to read the data"
      ]
    },
    {
      "cell_type": "markdown",
      "metadata": {
        "id": "JfcpIXQZN2Rh"
      },
      "source": [
        "### Importing all the important libraries"
      ]
    },
    {
      "cell_type": "code",
      "metadata": {
        "id": "WC8xCQuELWms"
      },
      "source": [
        "import pathlib\n",
        "import tensorflow as tf\n",
        "import matplotlib.pyplot as plt\n",
        "import numpy as np\n",
        "import pandas as pd\n",
        "import os\n",
        "import PIL\n",
        "from tensorflow import keras\n",
        "from tensorflow.keras import layers\n",
        "from tensorflow.keras.models import Sequential\n",
        "import shutil"
      ],
      "execution_count": 1,
      "outputs": []
    },
    {
      "cell_type": "code",
      "metadata": {
        "id": "U4HBQdQYVlNR"
      },
      "source": [
        "## remove the existing zip file\r\n",
        "shutil.rmtree('/content/CNN_assignment.zip', ignore_errors=True)"
      ],
      "execution_count": 2,
      "outputs": []
    },
    {
      "cell_type": "code",
      "metadata": {
        "id": "TYpVPmT5z7AP",
        "colab": {
          "base_uri": "https://localhost:8080/",
          "height": 258
        },
        "outputId": "6e7f32df-0bb8-4051-f453-654bff50a0c4"
      },
      "source": [
        "## If you are using the data by mounting the google drive, use the following :\r\n",
        "!pip install gdown\r\n",
        "import gdown\r\n",
        "url=\"https://drive.google.com/uc?id=1Y-zrnB-P15z4iCbUKzFvi7_zF5eJ9gTp\"\r\n",
        "output = \"CNN_assignment.zip\"\r\n",
        "gdown.download(url, output, quiet=False)\r\n",
        "\r\n",
        "##Ref:https://towardsdatascience.com/downloading-datasets-into-google-drive-via-google-colab-bcb1b30b0166"
      ],
      "execution_count": 3,
      "outputs": [
        {
          "output_type": "stream",
          "text": [
            "Requirement already satisfied: gdown in /usr/local/lib/python3.6/dist-packages (3.6.4)\n",
            "Requirement already satisfied: requests in /usr/local/lib/python3.6/dist-packages (from gdown) (2.23.0)\n",
            "Requirement already satisfied: six in /usr/local/lib/python3.6/dist-packages (from gdown) (1.15.0)\n",
            "Requirement already satisfied: tqdm in /usr/local/lib/python3.6/dist-packages (from gdown) (4.41.1)\n",
            "Requirement already satisfied: chardet<4,>=3.0.2 in /usr/local/lib/python3.6/dist-packages (from requests->gdown) (3.0.4)\n",
            "Requirement already satisfied: certifi>=2017.4.17 in /usr/local/lib/python3.6/dist-packages (from requests->gdown) (2020.12.5)\n",
            "Requirement already satisfied: idna<3,>=2.5 in /usr/local/lib/python3.6/dist-packages (from requests->gdown) (2.10)\n",
            "Requirement already satisfied: urllib3!=1.25.0,!=1.25.1,<1.26,>=1.21.1 in /usr/local/lib/python3.6/dist-packages (from requests->gdown) (1.24.3)\n"
          ],
          "name": "stdout"
        },
        {
          "output_type": "stream",
          "text": [
            "Downloading...\n",
            "From: https://drive.google.com/uc?id=1Y-zrnB-P15z4iCbUKzFvi7_zF5eJ9gTp\n",
            "To: /content/CNN_assignment.zip\n",
            "824MB [00:06, 124MB/s]\n"
          ],
          "name": "stderr"
        },
        {
          "output_type": "execute_result",
          "data": {
            "application/vnd.google.colaboratory.intrinsic+json": {
              "type": "string"
            },
            "text/plain": [
              "'CNN_assignment.zip'"
            ]
          },
          "metadata": {
            "tags": []
          },
          "execution_count": 3
        }
      ]
    },
    {
      "cell_type": "code",
      "metadata": {
        "id": "lz-5oQwzUOtP"
      },
      "source": [
        "## unzip the downloaded folder\r\n",
        "shutil.rmtree('/content/CNN_assignment', ignore_errors=True)\r\n",
        "shutil.unpack_archive(\"CNN_assignment.zip\", \"CNN_assignment\")"
      ],
      "execution_count": 4,
      "outputs": []
    },
    {
      "cell_type": "markdown",
      "metadata": {
        "id": "RpUsRQwOOL72"
      },
      "source": [
        "This assignment uses a dataset of about 2357 images of skin cancer types. The dataset contains 9 sub-directories in each train and test subdirectories. The 9 sub-directories contains the images of 9 skin cancer types respectively."
      ]
    },
    {
      "cell_type": "code",
      "metadata": {
        "id": "D57L-ovIKtI4"
      },
      "source": [
        "# Defining the path for train and test images\n",
        "## Todo: Update the paths of the train and test dataset\n",
        "data_dir_train = pathlib.Path(\"/content/CNN_assignment/Skin cancer ISIC The International Skin Imaging Collaboration/Train\")\n",
        "data_dir_test = pathlib.Path('/content/CNN_assignment/Skin cancer ISIC The International Skin Imaging Collaboration/Test')"
      ],
      "execution_count": 5,
      "outputs": []
    },
    {
      "cell_type": "code",
      "metadata": {
        "id": "DqksN1w5Fu-N",
        "colab": {
          "base_uri": "https://localhost:8080/"
        },
        "outputId": "1fb08f03-bbb7-4885-cf91-29d1c7edcbb3"
      },
      "source": [
        "image_count_train = len(list(data_dir_train.glob('*/*.jpg')))\n",
        "print(image_count_train)\n",
        "image_count_test = len(list(data_dir_test.glob('*/*.jpg')))\n",
        "print(image_count_test)"
      ],
      "execution_count": 6,
      "outputs": [
        {
          "output_type": "stream",
          "text": [
            "2239\n",
            "118\n"
          ],
          "name": "stdout"
        }
      ]
    },
    {
      "cell_type": "markdown",
      "metadata": {
        "id": "O8HkfW3jPJun"
      },
      "source": [
        "### Load using keras.preprocessing\n",
        "\n",
        "Let's load these images off disk using the helpful image_dataset_from_directory utility."
      ]
    },
    {
      "cell_type": "markdown",
      "metadata": {
        "id": "cDBKZG3jPcMc"
      },
      "source": [
        "### Create a dataset\n",
        "\n",
        "Define some parameters for the loader:"
      ]
    },
    {
      "cell_type": "code",
      "metadata": {
        "id": "VLfcXcZ9LjGv"
      },
      "source": [
        "batch_size = 32\n",
        "img_height = 180\n",
        "img_width = 180"
      ],
      "execution_count": 7,
      "outputs": []
    },
    {
      "cell_type": "markdown",
      "metadata": {
        "id": "Y5f5y43GPog1"
      },
      "source": [
        "Use 80% of the images for training, and 20% for validation."
      ]
    },
    {
      "cell_type": "code",
      "metadata": {
        "id": "G1BWmDzr7w-5",
        "colab": {
          "base_uri": "https://localhost:8080/"
        },
        "outputId": "dc5baa62-0204-4780-8b0a-79af5b66fb3d"
      },
      "source": [
        "## Write your train dataset here\n",
        "## Note use seed=123 while creating your dataset using tf.keras.preprocessing.image_dataset_from_directory\n",
        "## Note, make sure your resize your images to the size img_height*img_width, while writting the dataset\n",
        "train_ds = tf.keras.preprocessing.image_dataset_from_directory(\n",
        "               directory=data_dir_train, labels='inferred', label_mode='categorical', class_names=None,\n",
        "               color_mode='rgb', batch_size=batch_size, image_size=(img_height, img_width),\n",
        "               shuffle=True, seed=123, validation_split=.20, subset=\"training\",\n",
        "              interpolation='nearest', follow_links=False)"
      ],
      "execution_count": 8,
      "outputs": [
        {
          "output_type": "stream",
          "text": [
            "Found 2239 files belonging to 9 classes.\n",
            "Using 1792 files for training.\n"
          ],
          "name": "stdout"
        }
      ]
    },
    {
      "cell_type": "code",
      "metadata": {
        "id": "LYch6-SR-i2g",
        "colab": {
          "base_uri": "https://localhost:8080/"
        },
        "outputId": "002f62ac-ffab-49ad-fb26-5b3c2611c654"
      },
      "source": [
        "## Write your validation dataset here\n",
        "## Note use seed=123 while creating your dataset using tf.keras.preprocessing.image_dataset_from_directory\n",
        "## Note, make sure your resize your images to the size img_height*img_width, while writting the dataset\n",
        "val_ds = tf.keras.preprocessing.image_dataset_from_directory(\n",
        "              directory=data_dir_train, labels='inferred', label_mode='categorical', class_names=None,\n",
        "              color_mode='rgb', batch_size=batch_size, image_size=(img_height, img_width),\n",
        "              shuffle=False, seed=123, validation_split=.20, subset=\"validation\",\n",
        "              interpolation='nearest', follow_links=False)"
      ],
      "execution_count": 9,
      "outputs": [
        {
          "output_type": "stream",
          "text": [
            "Found 2239 files belonging to 9 classes.\n",
            "Using 447 files for validation.\n"
          ],
          "name": "stdout"
        }
      ]
    },
    {
      "cell_type": "code",
      "metadata": {
        "id": "Bk0RV7G7-nad",
        "colab": {
          "base_uri": "https://localhost:8080/"
        },
        "outputId": "15323df2-fe5d-47c6-8d24-7be32ed2ddfd"
      },
      "source": [
        "# List out all the classes of skin cancer and store them in a list. \n",
        "# You can find the class names in the class_names attribute on these datasets. \n",
        "# These correspond to the directory names in alphabetical order.\n",
        "class_names = train_ds.class_names\n",
        "print(class_names)"
      ],
      "execution_count": 11,
      "outputs": [
        {
          "output_type": "stream",
          "text": [
            "['actinic keratosis', 'basal cell carcinoma', 'dermatofibroma', 'melanoma', 'nevus', 'pigmented benign keratosis', 'seborrheic keratosis', 'squamous cell carcinoma', 'vascular lesion']\n"
          ],
          "name": "stdout"
        }
      ]
    },
    {
      "cell_type": "markdown",
      "metadata": {
        "id": "jbsm5oYiQH_b"
      },
      "source": [
        "### Visualize the data\n",
        "#### Todo, create a code to visualize one instance of all the nine classes present in the dataset"
      ]
    },
    {
      "cell_type": "code",
      "metadata": {
        "id": "t54rrh8BfCu7"
      },
      "source": [
        ""
      ],
      "execution_count": null,
      "outputs": []
    },
    {
      "cell_type": "code",
      "metadata": {
        "id": "tKILZ48I-q1k",
        "colab": {
          "base_uri": "https://localhost:8080/",
          "height": 326
        },
        "outputId": "2091f75b-9ff1-4bea-97ef-31aa2012d861"
      },
      "source": [
        "from os import listdir\n",
        "from os.path import join\n",
        "import matplotlib.image as mpimg\n",
        "import matplotlib.pyplot as plt\n",
        "\n",
        "### your code goes here, you can use training or validation data to visualize\n",
        "%matplotlib inline\n",
        "image_indexes = [0]\n",
        "selected_image_file_paths = dict()\n",
        "for classification in class_names:\n",
        "    image_directory = join(data_dir_train, classification)\n",
        "    image_file_names = listdir(image_directory)\n",
        "    selected_image_file_paths[classification] = [join(image_directory, image_file_names[i]) for i in image_indexes]\n",
        "\n",
        "number_classes = len(class_names)\n",
        "plt.figure(figsize=(16,16))    \n",
        "for i,classification in enumerate(class_names):\n",
        "    for j,image in enumerate(selected_image_file_paths[classification]):\n",
        "        image_number = (i * len(image_indexes)) + j + 1\n",
        "        ax = plt.subplot(number_classes,3,image_number)\n",
        "        plt.title(classification)\n",
        "        plt.axis(\"off\")\n",
        "        plt.imshow(mpimg.imread(image))\n",
        "\n"
      ],
      "execution_count": 12,
      "outputs": [
        {
          "output_type": "display_data",
          "data": {
            "image/png": "[encoded data removed]",
            "text/plain": [
              "<Figure size 1152x1152 with 9 Axes>"
            ]
          },
          "metadata": {
            "tags": [],
            "needs_background": "light"
          }
        }
      ]
    },
    {
      "cell_type": "markdown",
      "metadata": {
        "id": "8cAZPYaeQjQy"
      },
      "source": [
        "The `image_batch` is a tensor of the shape `(32, 180, 180, 3)`. This is a batch of 32 images of shape `180x180x3` (the last dimension refers to color channels RGB). The `label_batch` is a tensor of the shape `(32,)`, these are corresponding labels to the 32 images."
      ]
    },
    {
      "cell_type": "markdown",
      "metadata": {
        "id": "jzVXBHiyQ7_I"
      },
      "source": [
        "`Dataset.cache()` keeps the images in memory after they're loaded off disk during the first epoch.\n",
        "\n",
        "`Dataset.prefetch()` overlaps data preprocessing and model execution while training."
      ]
    },
    {
      "cell_type": "code",
      "metadata": {
        "id": "7wZlKRBEGNtU"
      },
      "source": [
        "AUTOTUNE = tf.data.experimental.AUTOTUNE\n",
        "x_train_ds = train_ds\n",
        "train_ds = train_ds.cache().shuffle(1000).prefetch(buffer_size=AUTOTUNE)\n",
        "val_ds = val_ds.cache().prefetch(buffer_size=AUTOTUNE)"
      ],
      "execution_count": 13,
      "outputs": []
    },
    {
      "cell_type": "markdown",
      "metadata": {
        "id": "1JEAF6-sRyz8"
      },
      "source": [
        "### Create the model\n",
        "#### Todo: Create a CNN model, which can accurately detect 9 classes present in the dataset. Use ```layers.experimental.preprocessing.Rescaling``` to normalize pixel values between (0,1). The RGB channel values are in the `[0, 255]` range. This is not ideal for a neural network. Here, it is good to standardize values to be in the `[0, 1]`"
      ]
    },
    {
      "cell_type": "code",
      "metadata": {
        "id": "ync9xoW7GZgn"
      },
      "source": [
        "### Your code goes here\n",
        "\n",
        "color_mode = \"rgb\"\n",
        "number_colour_layers = 3\n",
        "image_size = (img_height, img_width)\n",
        "image_shape = image_size + (number_colour_layers,)\n",
        "\n",
        "preprocessing_layers = [\n",
        "    tf.keras.layers.experimental.preprocessing.Rescaling(1./255, input_shape=image_shape)\n",
        "]"
      ],
      "execution_count": 14,
      "outputs": []
    },
    {
      "cell_type": "code",
      "metadata": {
        "id": "Du3tMOiA1xAF"
      },
      "source": [
        "def conv_2d_pooling_layers(filters, number_colour_layers):\r\n",
        "    return [\r\n",
        "        tf.keras.layers.Conv2D(\r\n",
        "            filters,\r\n",
        "            number_colour_layers,\r\n",
        "            padding='same',\r\n",
        "            activation='relu'\r\n",
        "        ),\r\n",
        "        tf.keras.layers.MaxPooling2D()\r\n",
        "    ]\r\n",
        "core_layers = \\\r\n",
        "    conv_2d_pooling_layers(16, number_colour_layers) + \\\r\n",
        "    conv_2d_pooling_layers(32, number_colour_layers) + \\\r\n",
        "    conv_2d_pooling_layers(64, number_colour_layers)"
      ],
      "execution_count": 15,
      "outputs": []
    },
    {
      "cell_type": "code",
      "metadata": {
        "id": "7315BYdP2JaF"
      },
      "source": [
        "dense_layers = [\r\n",
        "    tf.keras.layers.Flatten(),\r\n",
        "    tf.keras.layers.Dense(128, activation='relu'),\r\n",
        "    tf.keras.layers.Dense(number_classes)\r\n",
        "]"
      ],
      "execution_count": 16,
      "outputs": []
    },
    {
      "cell_type": "code",
      "metadata": {
        "id": "8XEqjRV02VYS"
      },
      "source": [
        "model = tf.keras.Sequential(\r\n",
        "    preprocessing_layers +\r\n",
        "    core_layers +\r\n",
        "    dense_layers\r\n",
        ")"
      ],
      "execution_count": 17,
      "outputs": []
    },
    {
      "cell_type": "markdown",
      "metadata": {
        "id": "SDKzJmHwSCtt"
      },
      "source": [
        "### Compile the model\n",
        "Choose an appropirate optimiser and loss function for model training "
      ]
    },
    {
      "cell_type": "code",
      "metadata": {
        "id": "XB8wKtiPGe1j"
      },
      "source": [
        "### Todo, choose an appropirate optimiser and loss function\n",
        "loss = tf.keras.losses.CategoricalCrossentropy(from_logits=True)\n",
        "model.compile(optimizer='adam',\n",
        "              loss=loss,\n",
        "              metrics=['accuracy'])"
      ],
      "execution_count": 18,
      "outputs": []
    },
    {
      "cell_type": "code",
      "metadata": {
        "id": "_ZGWN4MZGhtJ",
        "colab": {
          "base_uri": "https://localhost:8080/"
        },
        "outputId": "c4e79222-b47e-48b4-9793-38e6e0bb78bb"
      },
      "source": [
        "# View the summary of all layers\n",
        "model.summary()"
      ],
      "execution_count": 19,
      "outputs": [
        {
          "output_type": "stream",
          "text": [
            "Model: \"sequential\"\n",
            "_________________________________________________________________\n",
            "Layer (type)                 Output Shape              Param #   \n",
            "=================================================================\n",
            "rescaling (Rescaling)        (None, 180, 180, 3)       0         \n",
            "_________________________________________________________________\n",
            "conv2d (Conv2D)              (None, 180, 180, 16)      448       \n",
            "_________________________________________________________________\n",
            "max_pooling2d (MaxPooling2D) (None, 90, 90, 16)        0         \n",
            "_________________________________________________________________\n",
            "conv2d_1 (Conv2D)            (None, 90, 90, 32)        4640      \n",
            "_________________________________________________________________\n",
            "max_pooling2d_1 (MaxPooling2 (None, 45, 45, 32)        0         \n",
            "_________________________________________________________________\n",
            "conv2d_2 (Conv2D)            (None, 45, 45, 64)        18496     \n",
            "_________________________________________________________________\n",
            "max_pooling2d_2 (MaxPooling2 (None, 22, 22, 64)        0         \n",
            "_________________________________________________________________\n",
            "flatten (Flatten)            (None, 30976)             0         \n",
            "_________________________________________________________________\n",
            "dense (Dense)                (None, 128)               3965056   \n",
            "_________________________________________________________________\n",
            "dense_1 (Dense)              (None, 9)                 1161      \n",
            "=================================================================\n",
            "Total params: 3,989,801\n",
            "Trainable params: 3,989,801\n",
            "Non-trainable params: 0\n",
            "_________________________________________________________________\n"
          ],
          "name": "stdout"
        }
      ]
    },
    {
      "cell_type": "markdown",
      "metadata": {
        "id": "ljD_83rwSl5O"
      },
      "source": [
        "### Train the model"
      ]
    },
    {
      "cell_type": "code",
      "metadata": {
        "id": "Kkfw2rJXGlYC",
        "colab": {
          "base_uri": "https://localhost:8080/"
        },
        "outputId": "a4cd0f63-6460-49c8-aa4a-f93d404987ad"
      },
      "source": [
        "epochs = 20\n",
        "history = model.fit(\n",
        "  train_ds,\n",
        "  validation_data=val_ds,\n",
        "  epochs=epochs\n",
        ")"
      ],
      "execution_count": 20,
      "outputs": [
        {
          "output_type": "stream",
          "text": [
            "Epoch 1/20\n",
            "56/56 [==============================] - 22s 77ms/step - loss: 2.0277 - accuracy: 0.2037 - val_loss: 2.4565 - val_accuracy: 0.0134\n",
            "Epoch 2/20\n",
            "56/56 [==============================] - 1s 26ms/step - loss: 1.7760 - accuracy: 0.3451 - val_loss: 2.1487 - val_accuracy: 0.1700\n",
            "Epoch 3/20\n",
            "56/56 [==============================] - 1s 26ms/step - loss: 1.4975 - accuracy: 0.4739 - val_loss: 1.6998 - val_accuracy: 0.3356\n",
            "Epoch 4/20\n",
            "56/56 [==============================] - 1s 26ms/step - loss: 1.3118 - accuracy: 0.5746 - val_loss: 1.8729 - val_accuracy: 0.2931\n",
            "Epoch 5/20\n",
            "56/56 [==============================] - 1s 26ms/step - loss: 1.2304 - accuracy: 0.5651 - val_loss: 1.3740 - val_accuracy: 0.4743\n",
            "Epoch 6/20\n",
            "56/56 [==============================] - 1s 26ms/step - loss: 1.0945 - accuracy: 0.6015 - val_loss: 1.3408 - val_accuracy: 0.4676\n",
            "Epoch 7/20\n",
            "56/56 [==============================] - 1s 26ms/step - loss: 0.9764 - accuracy: 0.6507 - val_loss: 1.2211 - val_accuracy: 0.4922\n",
            "Epoch 8/20\n",
            "56/56 [==============================] - 1s 27ms/step - loss: 0.8846 - accuracy: 0.6846 - val_loss: 1.1946 - val_accuracy: 0.5481\n",
            "Epoch 9/20\n",
            "56/56 [==============================] - 1s 26ms/step - loss: 0.7890 - accuracy: 0.7254 - val_loss: 1.0927 - val_accuracy: 0.6174\n",
            "Epoch 10/20\n",
            "56/56 [==============================] - 1s 26ms/step - loss: 0.7306 - accuracy: 0.7590 - val_loss: 1.0778 - val_accuracy: 0.6219\n",
            "Epoch 11/20\n",
            "56/56 [==============================] - 1s 26ms/step - loss: 0.6828 - accuracy: 0.7644 - val_loss: 1.0936 - val_accuracy: 0.6600\n",
            "Epoch 12/20\n",
            "56/56 [==============================] - 1s 26ms/step - loss: 0.6303 - accuracy: 0.7822 - val_loss: 1.4361 - val_accuracy: 0.5168\n",
            "Epoch 13/20\n",
            "56/56 [==============================] - 1s 26ms/step - loss: 0.6497 - accuracy: 0.7612 - val_loss: 0.9714 - val_accuracy: 0.7584\n",
            "Epoch 14/20\n",
            "56/56 [==============================] - 1s 26ms/step - loss: 0.5061 - accuracy: 0.8150 - val_loss: 0.8745 - val_accuracy: 0.7405\n",
            "Epoch 15/20\n",
            "56/56 [==============================] - 1s 27ms/step - loss: 0.4497 - accuracy: 0.8397 - val_loss: 0.9055 - val_accuracy: 0.7494\n",
            "Epoch 16/20\n",
            "56/56 [==============================] - 1s 27ms/step - loss: 0.3696 - accuracy: 0.8613 - val_loss: 1.2928 - val_accuracy: 0.7315\n",
            "Epoch 17/20\n",
            "56/56 [==============================] - 2s 28ms/step - loss: 0.3870 - accuracy: 0.8555 - val_loss: 1.2338 - val_accuracy: 0.6801\n",
            "Epoch 18/20\n",
            "56/56 [==============================] - 1s 26ms/step - loss: 0.2703 - accuracy: 0.9021 - val_loss: 0.8085 - val_accuracy: 0.8255\n",
            "Epoch 19/20\n",
            "56/56 [==============================] - 1s 26ms/step - loss: 0.3143 - accuracy: 0.8858 - val_loss: 0.8922 - val_accuracy: 0.7651\n",
            "Epoch 20/20\n",
            "56/56 [==============================] - 1s 26ms/step - loss: 0.3692 - accuracy: 0.8604 - val_loss: 0.9339 - val_accuracy: 0.7875\n"
          ],
          "name": "stdout"
        }
      ]
    },
    {
      "cell_type": "markdown",
      "metadata": {
        "id": "w3679V8OShSE"
      },
      "source": [
        "### Visualizing training results"
      ]
    },
    {
      "cell_type": "code",
      "metadata": {
        "id": "R1xkgk5nGubz",
        "colab": {
          "base_uri": "https://localhost:8080/",
          "height": 716
        },
        "outputId": "db220c23-de08-4f64-cd8f-1b93aecde4c9"
      },
      "source": [
        "acc = history.history['accuracy']\n",
        "val_acc = history.history['val_accuracy']\n",
        "\n",
        "loss = history.history['loss']\n",
        "val_loss = history.history['val_loss']\n",
        "\n",
        "epochs_range = range(epochs)\n",
        "\n",
        "plt.figure(figsize=(12, 12))\n",
        "plt.subplot(1, 2, 1)\n",
        "plt.plot(epochs_range, acc, label='Training Accuracy')\n",
        "plt.plot(epochs_range, val_acc, label='Validation Accuracy')\n",
        "plt.legend(loc='lower right')\n",
        "plt.title('Training and Validation Accuracy')\n",
        "\n",
        "plt.subplot(1, 2, 2)\n",
        "plt.plot(epochs_range, loss, label='Training Loss')\n",
        "plt.plot(epochs_range, val_loss, label='Validation Loss')\n",
        "plt.legend(loc='upper right')\n",
        "plt.title('Training and Validation Loss')\n",
        "plt.show()"
      ],
      "execution_count": 21,
      "outputs": [
        {
          "output_type": "display_data",
          "data": {
            "image/png": "[encoded data removed]",
            "text/plain": [
              "<Figure size 864x864 with 2 Axes>"
            ]
          },
          "metadata": {
            "tags": [],
            "needs_background": "light"
          }
        }
      ]
    },
    {
      "cell_type": "markdown",
      "metadata": {
        "id": "JvPphJYuSZhK"
      },
      "source": [
        "#### Todo: Write your findings after the model fit, see if there is an evidence of model overfit or underfit"
      ]
    },
    {
      "cell_type": "markdown",
      "metadata": {
        "id": "xnUDGgTO4M1i"
      },
      "source": [
        "###Observation\r\n",
        "\r\n",
        "At the end of 20 epochs , the model training has been completed and the training accuracy is very *high*.In general ,This is more likely due to careful control of the conditions in which the data was captured or some augmentation of the images rather than the model itself being particularly good, as it has not been **optimised**.\r\n"
      ]
    },
    {
      "cell_type": "code",
      "metadata": {
        "colab": {
          "base_uri": "https://localhost:8080/"
        },
        "id": "0sLWXX-ANzdA",
        "outputId": "76904a7a-f183-4544-9575-828ce6745f75"
      },
      "source": [
        "## Model summary on the performance train, validation and test set\r\n",
        "print('Model summary')\r\n",
        "print('-----------------------------------------------------------------')\r\n",
        "print('Train accuracy on epoch',epochs,'is',str(100*(acc[epochs-1]))+'%')\r\n",
        "print('Validation accuracy on epoch',epochs,'is',str(100*(val_acc[epochs-1]))+'%')"
      ],
      "execution_count": 23,
      "outputs": [
        {
          "output_type": "stream",
          "text": [
            "Model summary\n",
            "-----------------------------------------------------------------\n",
            "Train accuracy on epoch 20 is 86.55133843421936%\n",
            "Validation accuracy on epoch 20 is 78.74720096588135%\n",
            "Test accuracy:  33.898305892944336%\n"
          ],
          "name": "stdout"
        }
      ]
    },
    {
      "cell_type": "markdown",
      "metadata": {
        "id": "E6yU8NcaQnGj"
      },
      "source": [
        "### Observation\r\n",
        "\r\n",
        "The model performs well on the training data. However , the accuracy for the validation set has stopped improving from epoch 15 and similary the loss remains almost same since epoch 10 in the validation set. The model performs very poorly with the test set. We can conclude that the model is overfitting"
      ]
    },
    {
      "cell_type": "markdown",
      "metadata": {
        "id": "3vRTPbJEn-pX"
      },
      "source": [
        "### Write your findings here"
      ]
    },
    {
      "cell_type": "code",
      "metadata": {
        "id": "22hljAl6GykA"
      },
      "source": [
        "# Todo, after you have analysed the model fit history for presence of underfit or overfit, choose an appropriate data augumentation strategy. \n",
        "# Your code goes here\n"
      ],
      "execution_count": 24,
      "outputs": []
    },
    {
      "cell_type": "code",
      "metadata": {
        "id": "XEjPWh8GG0C7"
      },
      "source": [
        "# Todo, visualize how your augmentation strategy works for one instance of training image.\n",
        "# Your code goes here"
      ],
      "execution_count": 25,
      "outputs": []
    },
    {
      "cell_type": "markdown",
      "metadata": {
        "id": "XhKDHlUdTuSX"
      },
      "source": [
        "### Todo:\n",
        "### Create the model, compile and train the model\n"
      ]
    },
    {
      "cell_type": "code",
      "metadata": {
        "id": "n907nlN0czWq"
      },
      "source": [
        "def drop_out_layers(rate):\r\n",
        "   return [tf.keras.layers.Dropout(rate)]"
      ],
      "execution_count": 26,
      "outputs": []
    },
    {
      "cell_type": "code",
      "metadata": {
        "id": "W3V4l-O9G3dM"
      },
      "source": [
        "## You can use Dropout layer if there is an evidence of overfitting in your findings\r\n",
        "## Your code goes here\r\n",
        "core_layers = \\\r\n",
        "    conv_2d_pooling_layers(16, number_colour_layers) + \\\r\n",
        "    drop_out_layers(0.4)+ \\\r\n",
        "    conv_2d_pooling_layers(32, number_colour_layers) + \\\r\n",
        "    drop_out_layers(0.4)+ \\\r\n",
        "    conv_2d_pooling_layers(64, number_colour_layers) + \\\r\n",
        "    drop_out_layers(0.4)\r\n",
        "\r\n",
        "\r\n",
        "\r\n",
        "dense_layers = [\r\n",
        "    tf.keras.layers.Flatten(),\r\n",
        "    tf.keras.layers.Dense(128, activation='relu'),\r\n",
        "    tf.keras.layers.Dropout(0.2),\r\n",
        "    tf.keras.layers.Dense(number_classes)\r\n",
        "]\r\n",
        "\r\n",
        "model = tf.keras.Sequential(\r\n",
        "    preprocessing_layers +\r\n",
        "    core_layers +\r\n",
        "    dense_layers\r\n",
        ")"
      ],
      "execution_count": 27,
      "outputs": []
    },
    {
      "cell_type": "markdown",
      "metadata": {
        "id": "FfUWFp96UIAN"
      },
      "source": [
        "### Compiling the model"
      ]
    },
    {
      "cell_type": "code",
      "metadata": {
        "id": "_-7yTm8IG8zR"
      },
      "source": [
        "## Your code goes here\r\n",
        "loss = tf.keras.losses.CategoricalCrossentropy(from_logits=True)\r\n",
        "model.compile(optimizer='adam',\r\n",
        "              loss=loss,\r\n",
        "              metrics=['accuracy'])\r\n"
      ],
      "execution_count": 28,
      "outputs": []
    },
    {
      "cell_type": "code",
      "metadata": {
        "colab": {
          "base_uri": "https://localhost:8080/"
        },
        "id": "gD6NLpGbcaSO",
        "outputId": "fd3a71ad-df61-4ec6-8d64-b92fec5dbfc4"
      },
      "source": [
        "# View the summary of all layers\r\n",
        "model.summary()"
      ],
      "execution_count": 29,
      "outputs": [
        {
          "output_type": "stream",
          "text": [
            "Model: \"sequential_1\"\n",
            "_________________________________________________________________\n",
            "Layer (type)                 Output Shape              Param #   \n",
            "=================================================================\n",
            "rescaling (Rescaling)        (None, 180, 180, 3)       0         \n",
            "_________________________________________________________________\n",
            "conv2d_3 (Conv2D)            (None, 180, 180, 16)      448       \n",
            "_________________________________________________________________\n",
            "max_pooling2d_3 (MaxPooling2 (None, 90, 90, 16)        0         \n",
            "_________________________________________________________________\n",
            "dropout (Dropout)            (None, 90, 90, 16)        0         \n",
            "_________________________________________________________________\n",
            "conv2d_4 (Conv2D)            (None, 90, 90, 32)        4640      \n",
            "_________________________________________________________________\n",
            "max_pooling2d_4 (MaxPooling2 (None, 45, 45, 32)        0         \n",
            "_________________________________________________________________\n",
            "dropout_1 (Dropout)          (None, 45, 45, 32)        0         \n",
            "_________________________________________________________________\n",
            "conv2d_5 (Conv2D)            (None, 45, 45, 64)        18496     \n",
            "_________________________________________________________________\n",
            "max_pooling2d_5 (MaxPooling2 (None, 22, 22, 64)        0         \n",
            "_________________________________________________________________\n",
            "dropout_2 (Dropout)          (None, 22, 22, 64)        0         \n",
            "_________________________________________________________________\n",
            "flatten_1 (Flatten)          (None, 30976)             0         \n",
            "_________________________________________________________________\n",
            "dense_2 (Dense)              (None, 128)               3965056   \n",
            "_________________________________________________________________\n",
            "dropout_3 (Dropout)          (None, 128)               0         \n",
            "_________________________________________________________________\n",
            "dense_3 (Dense)              (None, 9)                 1161      \n",
            "=================================================================\n",
            "Total params: 3,989,801\n",
            "Trainable params: 3,989,801\n",
            "Non-trainable params: 0\n",
            "_________________________________________________________________\n"
          ],
          "name": "stdout"
        }
      ]
    },
    {
      "cell_type": "markdown",
      "metadata": {
        "id": "kC-D_RWOURp6"
      },
      "source": [
        "### Training the model"
      ]
    },
    {
      "cell_type": "code",
      "metadata": {
        "id": "UcPfkUASHBf9",
        "colab": {
          "base_uri": "https://localhost:8080/"
        },
        "outputId": "2d5e8148-8758-4a4e-b3f2-0b494501ef39"
      },
      "source": [
        "## Your code goes here, note: train your model for 20 epochs\n",
        "epochs = 20\n",
        "history = model.fit(\n",
        "  train_ds,\n",
        "  validation_data=val_ds,\n",
        "  epochs=epochs\n",
        ")"
      ],
      "execution_count": 30,
      "outputs": [
        {
          "output_type": "stream",
          "text": [
            "Epoch 1/20\n",
            "56/56 [==============================] - 2s 32ms/step - loss: 5.0124 - accuracy: 0.1456 - val_loss: 2.2267 - val_accuracy: 0.0000e+00\n",
            "Epoch 2/20\n",
            "56/56 [==============================] - 2s 30ms/step - loss: 2.0459 - accuracy: 0.1849 - val_loss: 2.2179 - val_accuracy: 0.1119\n",
            "Epoch 3/20\n",
            "56/56 [==============================] - 2s 30ms/step - loss: 2.0165 - accuracy: 0.2030 - val_loss: 2.2209 - val_accuracy: 0.1119\n",
            "Epoch 4/20\n",
            "56/56 [==============================] - 2s 30ms/step - loss: 2.0164 - accuracy: 0.2154 - val_loss: 2.2169 - val_accuracy: 0.0940\n",
            "Epoch 5/20\n",
            "56/56 [==============================] - 2s 30ms/step - loss: 1.9832 - accuracy: 0.2390 - val_loss: 2.1308 - val_accuracy: 0.2550\n",
            "Epoch 6/20\n",
            "56/56 [==============================] - 2s 30ms/step - loss: 1.9728 - accuracy: 0.2406 - val_loss: 2.1595 - val_accuracy: 0.2595\n",
            "Epoch 7/20\n",
            "56/56 [==============================] - 2s 30ms/step - loss: 1.8434 - accuracy: 0.3034 - val_loss: 2.1477 - val_accuracy: 0.2170\n",
            "Epoch 8/20\n",
            "56/56 [==============================] - 2s 30ms/step - loss: 1.7022 - accuracy: 0.3779 - val_loss: 1.7577 - val_accuracy: 0.3445\n",
            "Epoch 9/20\n",
            "56/56 [==============================] - 2s 30ms/step - loss: 1.5529 - accuracy: 0.4611 - val_loss: 1.6569 - val_accuracy: 0.3602\n",
            "Epoch 10/20\n",
            "56/56 [==============================] - 2s 30ms/step - loss: 1.3892 - accuracy: 0.5311 - val_loss: 1.6155 - val_accuracy: 0.3669\n",
            "Epoch 11/20\n",
            "56/56 [==============================] - 2s 30ms/step - loss: 1.3917 - accuracy: 0.5178 - val_loss: 1.7079 - val_accuracy: 0.3602\n",
            "Epoch 12/20\n",
            "56/56 [==============================] - 2s 30ms/step - loss: 1.3919 - accuracy: 0.5222 - val_loss: 1.4931 - val_accuracy: 0.4049\n",
            "Epoch 13/20\n",
            "56/56 [==============================] - 2s 30ms/step - loss: 1.3173 - accuracy: 0.5356 - val_loss: 1.6149 - val_accuracy: 0.4049\n",
            "Epoch 14/20\n",
            "56/56 [==============================] - 2s 30ms/step - loss: 1.3844 - accuracy: 0.5164 - val_loss: 1.3657 - val_accuracy: 0.4989\n",
            "Epoch 15/20\n",
            "56/56 [==============================] - 2s 30ms/step - loss: 1.2380 - accuracy: 0.5529 - val_loss: 1.5858 - val_accuracy: 0.3647\n",
            "Epoch 16/20\n",
            "56/56 [==============================] - 2s 30ms/step - loss: 1.3097 - accuracy: 0.5361 - val_loss: 1.4559 - val_accuracy: 0.4273\n",
            "Epoch 17/20\n",
            "56/56 [==============================] - 2s 30ms/step - loss: 1.2037 - accuracy: 0.5724 - val_loss: 1.3019 - val_accuracy: 0.4430\n",
            "Epoch 18/20\n",
            "56/56 [==============================] - 2s 30ms/step - loss: 1.1725 - accuracy: 0.5800 - val_loss: 1.2155 - val_accuracy: 0.4877\n",
            "Epoch 19/20\n",
            "56/56 [==============================] - 2s 30ms/step - loss: 1.1514 - accuracy: 0.6014 - val_loss: 1.2909 - val_accuracy: 0.5101\n",
            "Epoch 20/20\n",
            "56/56 [==============================] - 2s 30ms/step - loss: 1.1275 - accuracy: 0.5766 - val_loss: 1.3517 - val_accuracy: 0.5034\n"
          ],
          "name": "stdout"
        }
      ]
    },
    {
      "cell_type": "markdown",
      "metadata": {
        "id": "IhNOKtSyUYzC"
      },
      "source": [
        "### Visualizing the results"
      ]
    },
    {
      "cell_type": "code",
      "metadata": {
        "id": "vjN_F4QxHIsh",
        "colab": {
          "base_uri": "https://localhost:8080/",
          "height": 499
        },
        "outputId": "849ac074-5743-4189-fe28-7cb53e22c06c"
      },
      "source": [
        "acc = history.history['accuracy']\n",
        "val_acc = history.history['val_accuracy']\n",
        "\n",
        "loss = history.history['loss']\n",
        "val_loss = history.history['val_loss']\n",
        "\n",
        "epochs_range = range(epochs)\n",
        "\n",
        "plt.figure(figsize=(8, 8))\n",
        "plt.subplot(1, 2, 1)\n",
        "plt.plot(epochs_range, acc, label='Training Accuracy')\n",
        "plt.plot(epochs_range, val_acc, label='Validation Accuracy')\n",
        "plt.legend(loc='lower right')\n",
        "plt.title('Training and Validation Accuracy')\n",
        "\n",
        "plt.subplot(1, 2, 2)\n",
        "plt.plot(epochs_range, loss, label='Training Loss')\n",
        "plt.plot(epochs_range, val_loss, label='Validation Loss')\n",
        "plt.legend(loc='upper right')\n",
        "plt.title('Training and Validation Loss')\n",
        "plt.show()"
      ],
      "execution_count": 31,
      "outputs": [
        {
          "output_type": "display_data",
          "data": {
            "image/png": "[encoded data removed]",
            "text/plain": [
              "<Figure size 576x576 with 2 Axes>"
            ]
          },
          "metadata": {
            "tags": [],
            "needs_background": "light"
          }
        }
      ]
    },
    {
      "cell_type": "code",
      "metadata": {
        "colab": {
          "base_uri": "https://localhost:8080/"
        },
        "id": "PfxWIWgheXl2",
        "outputId": "7f8d40dc-ef11-47d2-c189-97d80495000e"
      },
      "source": [
        "## Model summary on the performance train, validation and test set\r\n",
        "print('Model summary after adding the Dense layer')\r\n",
        "print('-----------------------------------------------------------------')\r\n",
        "print('Train accuracy on epoch',epochs,'is',str(100*(acc[epochs-1]))+'%')\r\n",
        "print('Validation accuracy on epoch',epochs,'is',str(100*(val_acc[epochs-1]))+'%')"
      ],
      "execution_count": 33,
      "outputs": [
        {
          "output_type": "stream",
          "text": [
            "Model summary after adding the Dense layer\n",
            "-----------------------------------------------------------------\n",
            "Train accuracy on epoch 20 is 58.92857313156128%\n",
            "Validation accuracy on epoch 20 is 50.33556818962097%\n",
            "Test accuracy:  31.355932354927063%\n"
          ],
          "name": "stdout"
        }
      ]
    },
    {
      "cell_type": "markdown",
      "metadata": {
        "id": "0-AUR_b7UcaK"
      },
      "source": [
        "#### Todo: Write your findings after the model fit, see if there is an evidence of model overfit or underfit. Do you think there is some improvement now as compared to the previous model run?"
      ]
    },
    {
      "cell_type": "markdown",
      "metadata": {
        "id": "7TdDi4u-VTkW"
      },
      "source": [
        "#### **Todo:** Find the distribution of classes in the training dataset.\n",
        "#### **Context:** Many times real life datasets can have class imbalance, one class can have proportionately higher number of samples compared to the others. Class imbalance can have a detrimental effect on the final model quality. Hence as a sanity check it becomes important to check what is the distribution of classes in the data."
      ]
    },
    {
      "cell_type": "code",
      "metadata": {
        "id": "HAhwYgtTQRzq",
        "colab": {
          "base_uri": "https://localhost:8080/"
        },
        "outputId": "08503aa3-0e96-4f2d-8c30-826c01c60976"
      },
      "source": [
        "## Your code goes here.\r\n",
        "\r\n",
        "print(x_train_ds.class_names)"
      ],
      "execution_count": 34,
      "outputs": [
        {
          "output_type": "stream",
          "text": [
            "['actinic keratosis', 'basal cell carcinoma', 'dermatofibroma', 'melanoma', 'nevus', 'pigmented benign keratosis', 'seborrheic keratosis', 'squamous cell carcinoma', 'vascular lesion']\n"
          ],
          "name": "stdout"
        }
      ]
    },
    {
      "cell_type": "markdown",
      "metadata": {
        "id": "4csQL1dvO0b2"
      },
      "source": [
        "#### **Todo:** Write your findings here: \n",
        "#### - Which class has the least number of samples?\n",
        "#### - Which classes dominate the data in terms proportionate number of samples?\n"
      ]
    },
    {
      "cell_type": "markdown",
      "metadata": {
        "id": "Hb-stKyHPf8v"
      },
      "source": [
        "#### **Todo:** Rectify the class imbalance\n",
        "#### **Context:** You can use a python package known as `Augmentor` (https://augmentor.readthedocs.io/en/master/) to add more samples across all classes so that none of the classes have very few samples."
      ]
    },
    {
      "cell_type": "code",
      "metadata": {
        "id": "ItAg4rU-SzJh",
        "colab": {
          "base_uri": "https://localhost:8080/"
        },
        "outputId": "a3bca8b3-7556-4436-c388-3f620b3c4739"
      },
      "source": [
        "!pip install Augmentor"
      ],
      "execution_count": 35,
      "outputs": [
        {
          "output_type": "stream",
          "text": [
            "Collecting Augmentor\n",
            "  Downloading https://files.pythonhosted.org/packages/cb/79/861f38d5830cff631e30e33b127076bfef8ac98171e51daa06df0118c75f/Augmentor-0.2.8-py2.py3-none-any.whl\n",
            "Requirement already satisfied: numpy>=1.11.0 in /usr/local/lib/python3.6/dist-packages (from Augmentor) (1.19.5)\n",
            "Requirement already satisfied: Pillow>=5.2.0 in /usr/local/lib/python3.6/dist-packages (from Augmentor) (7.0.0)\n",
            "Requirement already satisfied: future>=0.16.0 in /usr/local/lib/python3.6/dist-packages (from Augmentor) (0.16.0)\n",
            "Requirement already satisfied: tqdm>=4.9.0 in /usr/local/lib/python3.6/dist-packages (from Augmentor) (4.41.1)\n",
            "Installing collected packages: Augmentor\n",
            "Successfully installed Augmentor-0.2.8\n"
          ],
          "name": "stdout"
        }
      ]
    },
    {
      "cell_type": "markdown",
      "metadata": {
        "id": "BZKzTe3zWL4O"
      },
      "source": [
        "To use `Augmentor`, the following general procedure is followed:\n",
        "\n",
        "1. Instantiate a `Pipeline` object pointing to a directory containing your initial image data set.<br>\n",
        "2. Define a number of operations to perform on this data set using your `Pipeline` object.<br>\n",
        "3. Execute these operations by calling the `Pipeline’s` `sample()` method.\n"
      ]
    },
    {
      "cell_type": "code",
      "metadata": {
        "colab": {
          "base_uri": "https://localhost:8080/"
        },
        "id": "9Egt9EHjR-Dd",
        "outputId": "821f7538-5ac6-4359-893d-1eb359831461"
      },
      "source": [
        "path_to_training_dataset=str(data_dir_train)\n",
        "import Augmentor\n",
        "for i in class_names:\n",
        "    p = Augmentor.Pipeline(path_to_training_dataset+'/' + i)\n",
        "    p.rotate(probability=0.7, max_left_rotation=10, max_right_rotation=10)\n",
        "    p.sample(500) ## We are adding 500 samples per class to make sure that none of the classes are sparse."
      ],
      "execution_count": 36,
      "outputs": [
        {
          "output_type": "stream",
          "text": [
            "\rExecuting Pipeline:   0%|          | 0/500 [00:00<?, ? Samples/s]"
          ],
          "name": "stderr"
        },
        {
          "output_type": "stream",
          "text": [
            "Initialised with 114 image(s) found.\n",
            "Output directory set to /content/CNN_assignment/Skin cancer ISIC The International Skin Imaging Collaboration/Train/actinic keratosis/output."
          ],
          "name": "stdout"
        },
        {
          "output_type": "stream",
          "text": [
            "Processing <PIL.Image.Image image mode=RGB size=600x450 at 0x7F20865B2BE0>: 100%|██████████| 500/500 [00:15<00:00, 32.81 Samples/s]\n",
            "Executing Pipeline:   0%|          | 0/500 [00:00<?, ? Samples/s]"
          ],
          "name": "stderr"
        },
        {
          "output_type": "stream",
          "text": [
            "Initialised with 376 image(s) found.\n",
            "Output directory set to /content/CNN_assignment/Skin cancer ISIC The International Skin Imaging Collaboration/Train/basal cell carcinoma/output."
          ],
          "name": "stdout"
        },
        {
          "output_type": "stream",
          "text": [
            "Processing <PIL.Image.Image image mode=RGB size=600x450 at 0x7F20FF3D09E8>: 100%|██████████| 500/500 [00:15<00:00, 32.01 Samples/s]\n",
            "Processing <PIL.JpegImagePlugin.JpegImageFile image mode=RGB size=600x450 at 0x7F20ED7FC5C0>:   0%|          | 0/500 [00:00<?, ? Samples/s]"
          ],
          "name": "stderr"
        },
        {
          "output_type": "stream",
          "text": [
            "Initialised with 95 image(s) found.\n",
            "Output directory set to /content/CNN_assignment/Skin cancer ISIC The International Skin Imaging Collaboration/Train/dermatofibroma/output."
          ],
          "name": "stdout"
        },
        {
          "output_type": "stream",
          "text": [
            "Processing <PIL.Image.Image image mode=RGB size=600x450 at 0x7F20ED8B2A90>: 100%|██████████| 500/500 [00:15<00:00, 31.46 Samples/s]\n",
            "Executing Pipeline:   0%|          | 0/500 [00:00<?, ? Samples/s]"
          ],
          "name": "stderr"
        },
        {
          "output_type": "stream",
          "text": [
            "Initialised with 438 image(s) found.\n",
            "Output directory set to /content/CNN_assignment/Skin cancer ISIC The International Skin Imaging Collaboration/Train/melanoma/output."
          ],
          "name": "stdout"
        },
        {
          "output_type": "stream",
          "text": [
            "Processing <PIL.Image.Image image mode=RGB size=1024x768 at 0x7F20960216A0>: 100%|██████████| 500/500 [01:24<00:00,  5.93 Samples/s]\n",
            "Executing Pipeline:   0%|          | 0/500 [00:00<?, ? Samples/s]"
          ],
          "name": "stderr"
        },
        {
          "output_type": "stream",
          "text": [
            "Initialised with 357 image(s) found.\n",
            "Output directory set to /content/CNN_assignment/Skin cancer ISIC The International Skin Imaging Collaboration/Train/nevus/output."
          ],
          "name": "stdout"
        },
        {
          "output_type": "stream",
          "text": [
            "Processing <PIL.Image.Image image mode=RGB size=962x676 at 0x7F2086659358>: 100%|██████████| 500/500 [01:12<00:00,  6.87 Samples/s]\n",
            "Executing Pipeline:   0%|          | 0/500 [00:00<?, ? Samples/s]"
          ],
          "name": "stderr"
        },
        {
          "output_type": "stream",
          "text": [
            "Initialised with 462 image(s) found.\n",
            "Output directory set to /content/CNN_assignment/Skin cancer ISIC The International Skin Imaging Collaboration/Train/pigmented benign keratosis/output."
          ],
          "name": "stdout"
        },
        {
          "output_type": "stream",
          "text": [
            "Processing <PIL.Image.Image image mode=RGB size=600x450 at 0x7F20ED8B27B8>: 100%|██████████| 500/500 [00:15<00:00, 31.66 Samples/s]\n",
            "Processing <PIL.JpegImagePlugin.JpegImageFile image mode=RGB size=1024x768 at 0x7F20EE493B38>:   0%|          | 1/500 [00:00<01:10,  7.08 Samples/s]"
          ],
          "name": "stderr"
        },
        {
          "output_type": "stream",
          "text": [
            "Initialised with 77 image(s) found.\n",
            "Output directory set to /content/CNN_assignment/Skin cancer ISIC The International Skin Imaging Collaboration/Train/seborrheic keratosis/output."
          ],
          "name": "stdout"
        },
        {
          "output_type": "stream",
          "text": [
            "Processing <PIL.Image.Image image mode=RGB size=1024x768 at 0x7F2086780B38>: 100%|██████████| 500/500 [00:37<00:00, 13.31 Samples/s]\n",
            "Executing Pipeline:   0%|          | 0/500 [00:00<?, ? Samples/s]"
          ],
          "name": "stderr"
        },
        {
          "output_type": "stream",
          "text": [
            "Initialised with 181 image(s) found.\n",
            "Output directory set to /content/CNN_assignment/Skin cancer ISIC The International Skin Imaging Collaboration/Train/squamous cell carcinoma/output."
          ],
          "name": "stdout"
        },
        {
          "output_type": "stream",
          "text": [
            "Processing <PIL.JpegImagePlugin.JpegImageFile image mode=RGB size=600x450 at 0x7F20E03E5668>: 100%|██████████| 500/500 [00:15<00:00, 32.23 Samples/s]\n",
            "Executing Pipeline:   0%|          | 0/500 [00:00<?, ? Samples/s]"
          ],
          "name": "stderr"
        },
        {
          "output_type": "stream",
          "text": [
            "Initialised with 139 image(s) found.\n",
            "Output directory set to /content/CNN_assignment/Skin cancer ISIC The International Skin Imaging Collaboration/Train/vascular lesion/output."
          ],
          "name": "stdout"
        },
        {
          "output_type": "stream",
          "text": [
            "Processing <PIL.Image.Image image mode=RGB size=600x450 at 0x7F20ED8350B8>: 100%|██████████| 500/500 [00:16<00:00, 30.77 Samples/s]\n"
          ],
          "name": "stderr"
        }
      ]
    },
    {
      "cell_type": "markdown",
      "metadata": {
        "id": "CcBIFZGbWuFa"
      },
      "source": [
        "Augmentor has stored the augmented images in the output sub-directory of each of the sub-directories of skin cancer types.. Lets take a look at total count of augmented images."
      ]
    },
    {
      "cell_type": "code",
      "metadata": {
        "colab": {
          "base_uri": "https://localhost:8080/"
        },
        "id": "jxWcMqZhdRWz",
        "outputId": "8cd136c2-3536-4bae-ea2a-1b0795b5c43d"
      },
      "source": [
        "from glob import glob\n",
        "image_count_train = len(list(data_dir_train.glob('*/output/*.jpg')))\n",
        "print(image_count_train)"
      ],
      "execution_count": 37,
      "outputs": [
        {
          "output_type": "stream",
          "text": [
            "4500\n"
          ],
          "name": "stdout"
        }
      ]
    },
    {
      "cell_type": "markdown",
      "metadata": {
        "id": "IJ5KarKq4kWJ"
      },
      "source": [
        "### Lets see the distribution of augmented data after adding new images to the original training data."
      ]
    },
    {
      "cell_type": "code",
      "metadata": {
        "id": "6tODrYIY2nxJ",
        "colab": {
          "base_uri": "https://localhost:8080/"
        },
        "outputId": "da375b48-96ab-4780-b5a0-96e493022f90"
      },
      "source": [
        "path_list = [x for x in glob(os.path.join(data_dir_train, '*','output', '*.jpg'))]\n",
        "path_list_new=path_list\n",
        "path_list"
      ],
      "execution_count": 38,
      "outputs": [
        {
          "output_type": "execute_result",
          "data": {
            "text/plain": [
              "['/content/CNN_assignment/Skin cancer ISIC The International Skin Imaging Collaboration/Train/dermatofibroma/output/dermatofibroma_original_ISIC_0028346.jpg_579b4042-7593-49a7-9b33-f6b5c3b2ea93.jpg',\n",
              " '/content/CNN_assignment/Skin cancer ISIC The International Skin Imaging Collaboration/Train/dermatofibroma/output/dermatofibroma_original_ISIC_0025771.jpg_99ecc75f-1721-452e-9d35-348bace9fd7c.jpg',\n",
              " '/content/CNN_assignment/Skin cancer ISIC The International Skin Imaging Collaboration/Train/dermatofibroma/output/dermatofibroma_original_ISIC_0032468.jpg_6ebd1192-8e6a-40a2-b4b0-2623a62cf5b1.jpg',\n",
              " '/content/CNN_assignment/Skin cancer ISIC The International Skin Imaging Collaboration/Train/dermatofibroma/output/dermatofibroma_original_ISIC_0034135.jpg_17b5ebcc-4a88-4885-8f69-2985906da3b4.jpg',\n",
              " '/content/CNN_assignment/Skin cancer ISIC The International Skin Imaging Collaboration/Train/dermatofibroma/output/dermatofibroma_original_ISIC_0033860.jpg_0945b58c-83ce-48bc-9353-343b0a8c91a5.jpg',\n",
              " '/content/CNN_assignment/Skin cancer ISIC The International Skin Imaging Collaboration/Train/dermatofibroma/output/dermatofibroma_original_ISIC_0028926.jpg_dd296fc5-feac-4446-9356-7db404fcee49.jpg',\n",
              " '/content/CNN_assignment/Skin cancer ISIC The International Skin Imaging Collaboration/Train/dermatofibroma/output/dermatofibroma_original_ISIC_0032613.jpg_3c57dd13-d5d4-4b62-bc8b-9b712533977e.jpg',\n",
              " '/content/CNN_assignment/Skin cancer ISIC The International Skin Imaging Collaboration/Train/dermatofibroma/output/dermatofibroma_original_ISIC_0030870.jpg_2ab8a6c8-06fc-4293-9c7d-9bc39236e415.jpg',\n",
              " '/content/CNN_assignment/Skin cancer ISIC The International Skin Imaging Collaboration/Train/dermatofibroma/output/dermatofibroma_original_ISIC_0027008.jpg_3fcccf4f-1c4c-49bb-8058-2af6d8e455c5.jpg',\n",
              " '/content/CNN_assignment/Skin cancer ISIC The International Skin Imaging Collaboration/Train/dermatofibroma/output/dermatofibroma_original_ISIC_0027648.jpg_3ec66ca4-93d5-4444-ab23-9ddec5a28c14.jpg',\n",
              " '/content/CNN_assignment/Skin cancer ISIC The International Skin Imaging Collaboration/Train/dermatofibroma/output/dermatofibroma_original_ISIC_0026789.jpg_ab784565-5113-43f2-bbb7-74be92a6638d.jpg',\n",
              " '/content/CNN_assignment/Skin cancer ISIC The International Skin Imaging Collaboration/Train/dermatofibroma/output/dermatofibroma_original_ISIC_0032468.jpg_4c81e630-6bcd-4ccd-adb3-19bee51f917e.jpg',\n",
              " '/content/CNN_assignment/Skin cancer ISIC The International Skin Imaging Collaboration/Train/dermatofibroma/output/dermatofibroma_original_ISIC_0029130.jpg_9bbd7398-b5d5-49eb-a7ad-5c78123e3b2b.jpg',\n",
              " '/content/CNN_assignment/Skin cancer ISIC The International Skin Imaging Collaboration/Train/dermatofibroma/output/dermatofibroma_original_ISIC_0030665.jpg_a2bf6f4c-e0f1-45b9-8fdf-279d1c59457e.jpg',\n",
              " '/content/CNN_assignment/Skin cancer ISIC The International Skin Imaging Collaboration/Train/dermatofibroma/output/dermatofibroma_original_ISIC_0032613.jpg_2e45f3f9-d68b-4ecb-ac54-d9fc79c078af.jpg',\n",
              " '/content/CNN_assignment/Skin cancer ISIC The International Skin Imaging Collaboration/Train/dermatofibroma/output/dermatofibroma_original_ISIC_0026313.jpg_d1ed06df-dbd3-4408-8182-23976ec28799.jpg',\n",
              " '/content/CNN_assignment/Skin cancer ISIC The International Skin Imaging Collaboration/Train/dermatofibroma/output/dermatofibroma_original_ISIC_0027745.jpg_1ea80364-4329-45f3-aa19-603604a6226b.jpg',\n",
              " '/content/CNN_assignment/Skin cancer ISIC The International Skin Imaging Collaboration/Train/dermatofibroma/output/dermatofibroma_original_ISIC_0025302.jpg_bd5c8db9-093d-4082-adc4-f7a88d94fe50.jpg',\n",
              " '/content/CNN_assignment/Skin cancer ISIC The International Skin Imaging Collaboration/Train/dermatofibroma/output/dermatofibroma_original_ISIC_0033780.jpg_0548d494-98fc-4471-8c3d-f09b7cf0ab14.jpg',\n",
              " '/content/CNN_assignment/Skin cancer ISIC The International Skin Imaging Collaboration/Train/dermatofibroma/output/dermatofibroma_original_ISIC_0025980.jpg_f73e0106-9bee-4e54-bb09-7c5f5625f5fc.jpg',\n",
              " '/content/CNN_assignment/Skin cancer ISIC The International Skin Imaging Collaboration/Train/dermatofibroma/output/dermatofibroma_original_ISIC_0030830.jpg_ddf0a0f8-aeac-4985-91c0-b845af39dd85.jpg',\n",
              " '/content/CNN_assignment/Skin cancer ISIC The International Skin Imaging Collaboration/Train/dermatofibroma/output/dermatofibroma_original_ISIC_0028926.jpg_f33131cb-14c4-4fc2-a6af-e8d85cc3e0e9.jpg',\n",
              " '/content/CNN_assignment/Skin cancer ISIC The International Skin Imaging Collaboration/Train/dermatofibroma/output/dermatofibroma_original_ISIC_0030442.jpg_6c06c51c-20f3-4316-870e-a69f1dabc426.jpg',\n",
              " '/content/CNN_assignment/Skin cancer ISIC The International Skin Imaging Collaboration/Train/dermatofibroma/output/dermatofibroma_original_ISIC_0029578.jpg_89c311a1-fc8b-4795-b70c-4b282e3c3193.jpg',\n",
              " '/content/CNN_assignment/Skin cancer ISIC The International Skin Imaging Collaboration/Train/dermatofibroma/output/dermatofibroma_original_ISIC_0029130.jpg_79e70489-0190-46a5-aac9-13cbd5d391df.jpg',\n",
              " '/content/CNN_assignment/Skin cancer ISIC The International Skin Imaging Collaboration/Train/dermatofibroma/output/dermatofibroma_original_ISIC_0028346.jpg_fa2c3bc7-2422-485c-8525-d5649b5ffff1.jpg',\n",
              " '/content/CNN_assignment/Skin cancer ISIC The International Skin Imaging Collaboration/Train/dermatofibroma/output/dermatofibroma_original_ISIC_0025504.jpg_e0060669-ec12-4c5b-aa89-bdbcff44abbc.jpg',\n",
              " '/content/CNN_assignment/Skin cancer ISIC The International Skin Imaging Collaboration/Train/dermatofibroma/output/dermatofibroma_original_ISIC_0033675.jpg_155cdac0-34dc-4971-ba80-48196d5184de.jpg',\n",
              " '/content/CNN_assignment/Skin cancer ISIC The International Skin Imaging Collaboration/Train/dermatofibroma/output/dermatofibroma_original_ISIC_0027876.jpg_9d6a985a-96a3-4b66-9c60-49e9fe0ec47f.jpg',\n",
              " '/content/CNN_assignment/Skin cancer ISIC The International Skin Imaging Collaboration/Train/dermatofibroma/output/dermatofibroma_original_ISIC_0027044.jpg_7ca37d1c-5302-4ec9-b359-78e800bea3dc.jpg',\n",
              " '/content/CNN_assignment/Skin cancer ISIC The International Skin Imaging Collaboration/Train/dermatofibroma/output/dermatofibroma_original_ISIC_0033626.jpg_bc4d5042-85d7-4cbb-bd8f-3a739b1a0f7b.jpg',\n",
              " '/content/CNN_assignment/Skin cancer ISIC The International Skin Imaging Collaboration/Train/dermatofibroma/output/dermatofibroma_original_ISIC_0028735.jpg_cda4565d-66b1-4f6b-b529-e0216afd4a44.jpg',\n",
              " '/content/CNN_assignment/Skin cancer ISIC The International Skin Imaging Collaboration/Train/dermatofibroma/output/dermatofibroma_original_ISIC_0026629.jpg_1e5a1900-7be1-422f-8394-e6a842c5d59e.jpg',\n",
              " '/content/CNN_assignment/Skin cancer ISIC The International Skin Imaging Collaboration/Train/dermatofibroma/output/dermatofibroma_original_ISIC_0033847.jpg_7d23cb60-fa03-4dbe-963a-1a27a4699dd5.jpg',\n",
              " '/content/CNN_assignment/Skin cancer ISIC The International Skin Imaging Collaboration/Train/dermatofibroma/output/dermatofibroma_original_ISIC_0029962.jpg_f690add2-3bde-440f-9972-9acb204397ff.jpg',\n",
              " '/content/CNN_assignment/Skin cancer ISIC The International Skin Imaging Collaboration/Train/dermatofibroma/output/dermatofibroma_original_ISIC_0031799.jpg_9f5c20b5-a21d-4feb-9ec4-d204d14034d8.jpg',\n",
              " '/content/CNN_assignment/Skin cancer ISIC The International Skin Imaging Collaboration/Train/dermatofibroma/output/dermatofibroma_original_ISIC_0033675.jpg_5cf3b822-b2ee-4a9c-a7cf-c21c4e04c56f.jpg',\n",
              " '/content/CNN_assignment/Skin cancer ISIC The International Skin Imaging Collaboration/Train/dermatofibroma/output/dermatofibroma_original_ISIC_0033810.jpg_49c17dd0-118a-4d76-a643-fe2011355c0f.jpg',\n",
              " '/content/CNN_assignment/Skin cancer ISIC The International Skin Imaging Collaboration/Train/dermatofibroma/output/dermatofibroma_original_ISIC_0029824.jpg_94cce1e4-c14b-4777-9515-9438223d575b.jpg',\n",
              " '/content/CNN_assignment/Skin cancer ISIC The International Skin Imaging Collaboration/Train/dermatofibroma/output/dermatofibroma_original_ISIC_0030830.jpg_eb2edb5a-dc69-42be-9853-2d4074364d94.jpg',\n",
              " '/content/CNN_assignment/Skin cancer ISIC The International Skin Imaging Collaboration/Train/dermatofibroma/output/dermatofibroma_original_ISIC_0025302.jpg_317fe5c4-8ff9-41df-bfad-43a2cc5323ff.jpg',\n",
              " '/content/CNN_assignment/Skin cancer ISIC The International Skin Imaging Collaboration/Train/dermatofibroma/output/dermatofibroma_original_ISIC_0027626.jpg_ac8e4afb-100b-4118-91b6-d10d977888d4.jpg',\n",
              " '/content/CNN_assignment/Skin cancer ISIC The International Skin Imaging Collaboration/Train/dermatofibroma/output/dermatofibroma_original_ISIC_0027613.jpg_07100136-e9bc-4998-acc3-a0dd185b168f.jpg',\n",
              " '/content/CNN_assignment/Skin cancer ISIC The International Skin Imaging Collaboration/Train/dermatofibroma/output/dermatofibroma_original_ISIC_0033626.jpg_888a620c-9427-440e-9bef-f96c7c94c7f9.jpg',\n",
              " '/content/CNN_assignment/Skin cancer ISIC The International Skin Imaging Collaboration/Train/dermatofibroma/output/dermatofibroma_original_ISIC_0030442.jpg_851a6569-65ef-45e6-bc3f-19a3b0138bae.jpg',\n",
              " '/content/CNN_assignment/Skin cancer ISIC The International Skin Imaging Collaboration/Train/dermatofibroma/output/dermatofibroma_original_ISIC_0029578.jpg_ad1fbe93-ee6d-4083-ba60-9755293a139e.jpg',\n",
              " '/content/CNN_assignment/Skin cancer ISIC The International Skin Imaging Collaboration/Train/dermatofibroma/output/dermatofibroma_original_ISIC_0032138.jpg_4ded4d3c-c0b5-4b7b-a8a7-6ae42d13bb11.jpg',\n",
              " '/content/CNN_assignment/Skin cancer ISIC The International Skin Imaging Collaboration/Train/dermatofibroma/output/dermatofibroma_original_ISIC_0028790.jpg_55c5fd10-8b4d-466f-a9d3-281d3e3482d6.jpg',\n",
              " '/content/CNN_assignment/Skin cancer ISIC The International Skin Imaging Collaboration/Train/dermatofibroma/output/dermatofibroma_original_ISIC_0033790.jpg_987b684d-98b2-47bb-8729-008b8eb73c7e.jpg',\n",
              " '/content/CNN_assignment/Skin cancer ISIC The International Skin Imaging Collaboration/Train/dermatofibroma/output/dermatofibroma_original_ISIC_0031372.jpg_fff5e53b-c529-4a31-8c18-0ed3f16c7904.jpg',\n",
              " '/content/CNN_assignment/Skin cancer ISIC The International Skin Imaging Collaboration/Train/dermatofibroma/output/dermatofibroma_original_ISIC_0032468.jpg_af59eaf8-140c-42d5-ae2a-eb8381fcf971.jpg',\n",
              " '/content/CNN_assignment/Skin cancer ISIC The International Skin Imaging Collaboration/Train/dermatofibroma/output/dermatofibroma_original_ISIC_0025622.jpg_0a7685ca-af88-47ff-b1b7-ce4abaac3822.jpg',\n",
              " '/content/CNN_assignment/Skin cancer ISIC The International Skin Imaging Collaboration/Train/dermatofibroma/output/dermatofibroma_original_ISIC_0032114.jpg_475db13d-0f2a-4014-bfdb-ded29d4d9c74.jpg',\n",
              " '/content/CNN_assignment/Skin cancer ISIC The International Skin Imaging Collaboration/Train/dermatofibroma/output/dermatofibroma_original_ISIC_0030011.jpg_08f54c7c-ee89-43ac-9c6f-f650dd81563d.jpg',\n",
              " '/content/CNN_assignment/Skin cancer ISIC The International Skin Imaging Collaboration/Train/dermatofibroma/output/dermatofibroma_original_ISIC_0025504.jpg_e5656902-1de2-4a64-a479-ad9b03fe5b0e.jpg',\n",
              " '/content/CNN_assignment/Skin cancer ISIC The International Skin Imaging Collaboration/Train/dermatofibroma/output/dermatofibroma_original_ISIC_0031457.jpg_22bae9e5-7dd2-4389-8414-0ea7a3c5eca3.jpg',\n",
              " '/content/CNN_assignment/Skin cancer ISIC The International Skin Imaging Collaboration/Train/dermatofibroma/output/dermatofibroma_original_ISIC_0025223.jpg_24ffbae4-ce82-4a7d-abcf-245e5c23d9dd.jpg',\n",
              " '/content/CNN_assignment/Skin cancer ISIC The International Skin Imaging Collaboration/Train/dermatofibroma/output/dermatofibroma_original_ISIC_0025903.jpg_3387f85e-e429-400b-8359-2e28edabbfac.jpg',\n",
              " '/content/CNN_assignment/Skin cancer ISIC The International Skin Imaging Collaboration/Train/dermatofibroma/output/dermatofibroma_original_ISIC_0031372.jpg_1b8acd8b-97e6-41ff-bd6e-f4001500bfe6.jpg',\n",
              " '/content/CNN_assignment/Skin cancer ISIC The International Skin Imaging Collaboration/Train/dermatofibroma/output/dermatofibroma_original_ISIC_0032114.jpg_c7f53b9c-7a70-498f-b7a9-488c36392e0b.jpg',\n",
              " '/content/CNN_assignment/Skin cancer ISIC The International Skin Imaging Collaboration/Train/dermatofibroma/output/dermatofibroma_original_ISIC_0025622.jpg_4edddd27-55a8-4e26-b97f-5eff2a4a53e4.jpg',\n",
              " '/content/CNN_assignment/Skin cancer ISIC The International Skin Imaging Collaboration/Train/dermatofibroma/output/dermatofibroma_original_ISIC_0032247.jpg_a0016798-0c14-43a1-b2f1-87e80956b6c4.jpg',\n",
              " '/content/CNN_assignment/Skin cancer ISIC The International Skin Imaging Collaboration/Train/dermatofibroma/output/dermatofibroma_original_ISIC_0030015.jpg_8b1ffba0-9208-4167-a267-38ba5c1e2779.jpg',\n",
              " '/content/CNN_assignment/Skin cancer ISIC The International Skin Imaging Collaboration/Train/dermatofibroma/output/dermatofibroma_original_ISIC_0030665.jpg_a4c6bc47-834d-4592-bd7a-b7471d485d07.jpg',\n",
              " '/content/CNN_assignment/Skin cancer ISIC The International Skin Imaging Collaboration/Train/dermatofibroma/output/dermatofibroma_original_ISIC_0025954.jpg_91883a0d-1ff8-496e-bca4-3b790dbd9c86.jpg',\n",
              " '/content/CNN_assignment/Skin cancer ISIC The International Skin Imaging Collaboration/Train/dermatofibroma/output/dermatofibroma_original_ISIC_0026789.jpg_de54a1ab-6d87-4d59-8860-87714a71db45.jpg',\n",
              " '/content/CNN_assignment/Skin cancer ISIC The International Skin Imaging Collaboration/Train/dermatofibroma/output/dermatofibroma_original_ISIC_0025302.jpg_dd8d5856-e5b2-4c7b-87f1-309443ac1625.jpg',\n",
              " '/content/CNN_assignment/Skin cancer ISIC The International Skin Imaging Collaboration/Train/dermatofibroma/output/dermatofibroma_original_ISIC_0027107.jpg_b47b4a61-3c03-4015-9107-cb3a6870a612.jpg',\n",
              " '/content/CNN_assignment/Skin cancer ISIC The International Skin Imaging Collaboration/Train/dermatofibroma/output/dermatofibroma_original_ISIC_0032468.jpg_8e8d7f37-1c94-411f-8331-6f8c1fa0de8b.jpg',\n",
              " '/content/CNN_assignment/Skin cancer ISIC The International Skin Imaging Collaboration/Train/dermatofibroma/output/dermatofibroma_original_ISIC_0025903.jpg_7b962649-7ff0-47d9-a48c-1bf746ca47ca.jpg',\n",
              " '/content/CNN_assignment/Skin cancer ISIC The International Skin Imaging Collaboration/Train/dermatofibroma/output/dermatofibroma_original_ISIC_0026254.jpg_8f77fbb9-353a-4fe6-9ef7-37bcfe05a60d.jpg',\n",
              " '/content/CNN_assignment/Skin cancer ISIC The International Skin Imaging Collaboration/Train/dermatofibroma/output/dermatofibroma_original_ISIC_0033891.jpg_266abefd-2912-464f-8281-d17e758b6ec2.jpg',\n",
              " '/content/CNN_assignment/Skin cancer ISIC The International Skin Imaging Collaboration/Train/dermatofibroma/output/dermatofibroma_original_ISIC_0026789.jpg_d8c96bb0-fdf3-4c56-a810-942b3d0632aa.jpg',\n",
              " '/content/CNN_assignment/Skin cancer ISIC The International Skin Imaging Collaboration/Train/dermatofibroma/output/dermatofibroma_original_ISIC_0033790.jpg_8d3d7ef0-dfac-4409-8595-e173b6639613.jpg',\n",
              " '/content/CNN_assignment/Skin cancer ISIC The International Skin Imaging Collaboration/Train/dermatofibroma/output/dermatofibroma_original_ISIC_0025504.jpg_c351383e-1dc0-4014-9f5f-d23ea15314e4.jpg',\n",
              " '/content/CNN_assignment/Skin cancer ISIC The International Skin Imaging Collaboration/Train/dermatofibroma/output/dermatofibroma_original_ISIC_0025954.jpg_593fd16f-d125-4e25-9efa-253e8d588a60.jpg',\n",
              " '/content/CNN_assignment/Skin cancer ISIC The International Skin Imaging Collaboration/Train/dermatofibroma/output/dermatofibroma_original_ISIC_0028346.jpg_9ede7560-b720-4994-8b07-c5c929c3d2d7.jpg',\n",
              " '/content/CNN_assignment/Skin cancer ISIC The International Skin Imaging Collaboration/Train/dermatofibroma/output/dermatofibroma_original_ISIC_0025373.jpg_5ca353ad-d4a1-45ce-8b7c-9d7dfe7a04e9.jpg',\n",
              " '/content/CNN_assignment/Skin cancer ISIC The International Skin Imaging Collaboration/Train/dermatofibroma/output/dermatofibroma_original_ISIC_0027216.jpg_152abe01-ad30-4a47-9c34-58af1f739fec.jpg',\n",
              " '/content/CNN_assignment/Skin cancer ISIC The International Skin Imaging Collaboration/Train/dermatofibroma/output/dermatofibroma_original_ISIC_0025668.jpg_dbfcb09f-0d9f-4078-89bd-1d75983619c4.jpg',\n",
              " '/content/CNN_assignment/Skin cancer ISIC The International Skin Imaging Collaboration/Train/dermatofibroma/output/dermatofibroma_original_ISIC_0027648.jpg_df997f52-96c3-4321-a16f-6428e98e1763.jpg',\n",
              " '/content/CNN_assignment/Skin cancer ISIC The International Skin Imaging Collaboration/Train/dermatofibroma/output/dermatofibroma_original_ISIC_0027488.jpg_f81be624-a507-4ca1-856d-21bbda98f40a.jpg',\n",
              " '/content/CNN_assignment/Skin cancer ISIC The International Skin Imaging Collaboration/Train/dermatofibroma/output/dermatofibroma_original_ISIC_0033808.jpg_9edc9e44-f7b8-4803-868c-0278fd71cc8e.jpg',\n",
              " '/content/CNN_assignment/Skin cancer ISIC The International Skin Imaging Collaboration/Train/dermatofibroma/output/dermatofibroma_original_ISIC_0025504.jpg_0af1f1c0-c915-433e-93ae-16dd64bf0a5b.jpg',\n",
              " '/content/CNN_assignment/Skin cancer ISIC The International Skin Imaging Collaboration/Train/dermatofibroma/output/dermatofibroma_original_ISIC_0027745.jpg_47501a69-9bd9-4192-8d41-e5b45c76044d.jpg',\n",
              " '/content/CNN_assignment/Skin cancer ISIC The International Skin Imaging Collaboration/Train/dermatofibroma/output/dermatofibroma_original_ISIC_0031344.jpg_ec4d618b-35d3-4419-a3cf-310665d538d2.jpg',\n",
              " '/content/CNN_assignment/Skin cancer ISIC The International Skin Imaging Collaboration/Train/dermatofibroma/output/dermatofibroma_original_ISIC_0033005.jpg_62da2455-2ffe-4597-81a9-4180d1064dba.jpg',\n",
              " '/content/CNN_assignment/Skin cancer ISIC The International Skin Imaging Collaboration/Train/dermatofibroma/output/dermatofibroma_original_ISIC_0033675.jpg_bf70a14d-859f-4cd3-a51c-99d7a092d99e.jpg',\n",
              " '/content/CNN_assignment/Skin cancer ISIC The International Skin Imaging Collaboration/Train/dermatofibroma/output/dermatofibroma_original_ISIC_0026417.jpg_3df9fd46-ae0a-4fff-864b-17a33e81213c.jpg',\n",
              " '/content/CNN_assignment/Skin cancer ISIC The International Skin Imaging Collaboration/Train/dermatofibroma/output/dermatofibroma_original_ISIC_0025980.jpg_e401fe95-f10b-41a7-8582-e3f4bffb03ea.jpg',\n",
              " '/content/CNN_assignment/Skin cancer ISIC The International Skin Imaging Collaboration/Train/dermatofibroma/output/dermatofibroma_original_ISIC_0031457.jpg_b82e4f64-27cd-4002-9392-0c6d05872995.jpg',\n",
              " '/content/CNN_assignment/Skin cancer ISIC The International Skin Imaging Collaboration/Train/dermatofibroma/output/dermatofibroma_original_ISIC_0029973.jpg_394137ab-a9c2-4be2-989a-d32143d5f610.jpg',\n",
              " '/content/CNN_assignment/Skin cancer ISIC The International Skin Imaging Collaboration/Train/dermatofibroma/output/dermatofibroma_original_ISIC_0033695.jpg_eea696e7-0141-4366-a051-10a6098afcfe.jpg',\n",
              " '/content/CNN_assignment/Skin cancer ISIC The International Skin Imaging Collaboration/Train/dermatofibroma/output/dermatofibroma_original_ISIC_0031358.jpg_a812b51a-37ac-48e8-86ac-17eca299c24d.jpg',\n",
              " '/content/CNN_assignment/Skin cancer ISIC The International Skin Imaging Collaboration/Train/dermatofibroma/output/dermatofibroma_original_ISIC_0031344.jpg_75739a98-9614-4710-9175-206394fb1ca5.jpg',\n",
              " '/content/CNN_assignment/Skin cancer ISIC The International Skin Imaging Collaboration/Train/dermatofibroma/output/dermatofibroma_original_ISIC_0029578.jpg_7e5f06f3-1e82-407f-af7f-9bdfa537fb11.jpg',\n",
              " '/content/CNN_assignment/Skin cancer ISIC The International Skin Imaging Collaboration/Train/dermatofibroma/output/dermatofibroma_original_ISIC_0028735.jpg_3c557fcc-01ee-4c66-9952-a2224426afac.jpg',\n",
              " '/content/CNN_assignment/Skin cancer ISIC The International Skin Imaging Collaboration/Train/dermatofibroma/output/dermatofibroma_original_ISIC_0027044.jpg_44419549-ec02-43dc-9fa8-f146692a13ec.jpg',\n",
              " '/content/CNN_assignment/Skin cancer ISIC The International Skin Imaging Collaboration/Train/dermatofibroma/output/dermatofibroma_original_ISIC_0025771.jpg_0fdbe3cd-6c88-44d9-bf29-d59fa51e9be0.jpg',\n",
              " '/content/CNN_assignment/Skin cancer ISIC The International Skin Imaging Collaboration/Train/dermatofibroma/output/dermatofibroma_original_ISIC_0033790.jpg_9e0b64a2-e26d-4023-9aca-1e5546c4910b.jpg',\n",
              " '/content/CNN_assignment/Skin cancer ISIC The International Skin Imaging Collaboration/Train/dermatofibroma/output/dermatofibroma_original_ISIC_0031443.jpg_03e31eba-8c25-499a-a7b7-dc9c17007dd0.jpg',\n",
              " '/content/CNN_assignment/Skin cancer ISIC The International Skin Imaging Collaboration/Train/dermatofibroma/output/dermatofibroma_original_ISIC_0029130.jpg_04ca5ed0-39c7-4ac6-84ac-8fd7c0441ad2.jpg',\n",
              " '/content/CNN_assignment/Skin cancer ISIC The International Skin Imaging Collaboration/Train/dermatofibroma/output/dermatofibroma_original_ISIC_0033554.jpg_732ccccf-caec-4f02-a940-707b138c33d1.jpg',\n",
              " '/content/CNN_assignment/Skin cancer ISIC The International Skin Imaging Collaboration/Train/dermatofibroma/output/dermatofibroma_original_ISIC_0033810.jpg_c9a1f4d5-a98f-41fc-9bba-cd86b3c72ec2.jpg',\n",
              " '/content/CNN_assignment/Skin cancer ISIC The International Skin Imaging Collaboration/Train/dermatofibroma/output/dermatofibroma_original_ISIC_0029962.jpg_7307dcd0-851b-41f1-ab53-ea6670604317.jpg',\n",
              " '/content/CNN_assignment/Skin cancer ISIC The International Skin Imaging Collaboration/Train/dermatofibroma/output/dermatofibroma_original_ISIC_0030830.jpg_68548a79-dc9d-4a2e-a00c-3e63a726d1d5.jpg',\n",
              " '/content/CNN_assignment/Skin cancer ISIC The International Skin Imaging Collaboration/Train/dermatofibroma/output/dermatofibroma_original_ISIC_0026313.jpg_0ad8c529-0b0c-40a3-bb8f-e94698523115.jpg',\n",
              " '/content/CNN_assignment/Skin cancer ISIC The International Skin Imaging Collaboration/Train/dermatofibroma/output/dermatofibroma_original_ISIC_0025373.jpg_2d5a1043-4c27-4707-9278-fa980f23baa8.jpg',\n",
              " '/content/CNN_assignment/Skin cancer ISIC The International Skin Imaging Collaboration/Train/dermatofibroma/output/dermatofibroma_original_ISIC_0030021.jpg_cfd7d78e-2f96-4534-8101-c76598537be8.jpg',\n",
              " '/content/CNN_assignment/Skin cancer ISIC The International Skin Imaging Collaboration/Train/dermatofibroma/output/dermatofibroma_original_ISIC_0029962.jpg_8fcae7bd-ff33-4f7d-8aff-221bd62be602.jpg',\n",
              " '/content/CNN_assignment/Skin cancer ISIC The International Skin Imaging Collaboration/Train/dermatofibroma/output/dermatofibroma_original_ISIC_0033860.jpg_b4b9e8fa-3dc5-42bd-91c4-3dcdf91bab3f.jpg',\n",
              " '/content/CNN_assignment/Skin cancer ISIC The International Skin Imaging Collaboration/Train/dermatofibroma/output/dermatofibroma_original_ISIC_0029130.jpg_8dad7748-c507-445b-acac-b385fd535ad1.jpg',\n",
              " '/content/CNN_assignment/Skin cancer ISIC The International Skin Imaging Collaboration/Train/dermatofibroma/output/dermatofibroma_original_ISIC_0027008.jpg_b1dd26bc-172e-4c3c-b315-71ba6bb97ae5.jpg',\n",
              " '/content/CNN_assignment/Skin cancer ISIC The International Skin Imaging Collaboration/Train/dermatofibroma/output/dermatofibroma_original_ISIC_0031799.jpg_1dbbfa14-ee69-44ae-a1c1-ce8d7b4af003.jpg',\n",
              " '/content/CNN_assignment/Skin cancer ISIC The International Skin Imaging Collaboration/Train/dermatofibroma/output/dermatofibroma_original_ISIC_0025980.jpg_e8e74608-657a-4342-858f-635ea1ed055a.jpg',\n",
              " '/content/CNN_assignment/Skin cancer ISIC The International Skin Imaging Collaboration/Train/dermatofibroma/output/dermatofibroma_original_ISIC_0030555.jpg_7640a3ac-f5cd-4620-9d99-747e04eb175b.jpg',\n",
              " '/content/CNN_assignment/Skin cancer ISIC The International Skin Imaging Collaboration/Train/dermatofibroma/output/dermatofibroma_original_ISIC_0025302.jpg_a9b288d7-816a-4520-8f76-b1fce91c6682.jpg',\n",
              " '/content/CNN_assignment/Skin cancer ISIC The International Skin Imaging Collaboration/Train/dermatofibroma/output/dermatofibroma_original_ISIC_0031372.jpg_a37a4204-647b-45fd-a4e1-6984749d78d6.jpg',\n",
              " '/content/CNN_assignment/Skin cancer ISIC The International Skin Imaging Collaboration/Train/dermatofibroma/output/dermatofibroma_original_ISIC_0028926.jpg_c4fe2fa3-01ca-452f-838c-7adc2f1b3be7.jpg',\n",
              " '/content/CNN_assignment/Skin cancer ISIC The International Skin Imaging Collaboration/Train/dermatofibroma/output/dermatofibroma_original_ISIC_0031443.jpg_4b22f600-6886-4b0c-8a62-9f37913cb868.jpg',\n",
              " '/content/CNN_assignment/Skin cancer ISIC The International Skin Imaging Collaboration/Train/dermatofibroma/output/dermatofibroma_original_ISIC_0027613.jpg_04be2198-4976-4e85-aae5-1da60abbe814.jpg',\n",
              " '/content/CNN_assignment/Skin cancer ISIC The International Skin Imaging Collaboration/Train/dermatofibroma/output/dermatofibroma_original_ISIC_0033847.jpg_386ef266-2b83-41f8-96d0-6ad6fee776ac.jpg',\n",
              " '/content/CNN_assignment/Skin cancer ISIC The International Skin Imaging Collaboration/Train/dermatofibroma/output/dermatofibroma_original_ISIC_0027745.jpg_f6872375-0dad-47cb-a43f-5f06b01a82a5.jpg',\n",
              " '/content/CNN_assignment/Skin cancer ISIC The International Skin Imaging Collaboration/Train/dermatofibroma/output/dermatofibroma_original_ISIC_0033891.jpg_00cba32d-41de-490f-ba15-3d971fb8c8ab.jpg',\n",
              " '/content/CNN_assignment/Skin cancer ISIC The International Skin Imaging Collaboration/Train/dermatofibroma/output/dermatofibroma_original_ISIC_0029177.jpg_bfa4e6e8-ec76-4693-93fc-67a1f218f5e9.jpg',\n",
              " '/content/CNN_assignment/Skin cancer ISIC The International Skin Imaging Collaboration/Train/dermatofibroma/output/dermatofibroma_original_ISIC_0031309.jpg_50f9cb29-dd5c-4b47-a5d8-2f7a07a2c448.jpg',\n",
              " '/content/CNN_assignment/Skin cancer ISIC The International Skin Imaging Collaboration/Train/dermatofibroma/output/dermatofibroma_original_ISIC_0026629.jpg_53b89edd-e932-4ed8-9f80-a785142ccd1e.jpg',\n",
              " '/content/CNN_assignment/Skin cancer ISIC The International Skin Imaging Collaboration/Train/dermatofibroma/output/dermatofibroma_original_ISIC_0034135.jpg_15a5b2d8-47c0-40dc-b47d-3a9b1758d017.jpg',\n",
              " '/content/CNN_assignment/Skin cancer ISIC The International Skin Imaging Collaboration/Train/dermatofibroma/output/dermatofibroma_original_ISIC_0028926.jpg_7a56374f-d4ab-4ece-af0b-b5bd602b7a66.jpg',\n",
              " '/content/CNN_assignment/Skin cancer ISIC The International Skin Imaging Collaboration/Train/dermatofibroma/output/dermatofibroma_original_ISIC_0029967.jpg_fa885e99-e30a-4a3d-a337-c7014550bd83.jpg',\n",
              " '/content/CNN_assignment/Skin cancer ISIC The International Skin Imaging Collaboration/Train/dermatofibroma/output/dermatofibroma_original_ISIC_0031372.jpg_c1a0f192-48ca-4f9d-a78e-92e9209962a0.jpg',\n",
              " '/content/CNN_assignment/Skin cancer ISIC The International Skin Imaging Collaboration/Train/dermatofibroma/output/dermatofibroma_original_ISIC_0027488.jpg_f96249c3-1b40-4441-83f7-5cf797f6683d.jpg',\n",
              " '/content/CNN_assignment/Skin cancer ISIC The International Skin Imaging Collaboration/Train/dermatofibroma/output/dermatofibroma_original_ISIC_0033626.jpg_1aa5eda5-9a42-4c6d-92ba-5a764651fa72.jpg',\n",
              " '/content/CNN_assignment/Skin cancer ISIC The International Skin Imaging Collaboration/Train/dermatofibroma/output/dermatofibroma_original_ISIC_0032613.jpg_bd733de2-7bb0-4ed7-a613-3dd92a48d13e.jpg',\n",
              " '/content/CNN_assignment/Skin cancer ISIC The International Skin Imaging Collaboration/Train/dermatofibroma/output/dermatofibroma_original_ISIC_0033780.jpg_704b426d-bd3b-464b-9115-e3ed001d23a2.jpg',\n",
              " '/content/CNN_assignment/Skin cancer ISIC The International Skin Imaging Collaboration/Train/dermatofibroma/output/dermatofibroma_original_ISIC_0032642.jpg_3bd7fb17-797a-4521-9347-6f36401157ba.jpg',\n",
              " '/content/CNN_assignment/Skin cancer ISIC The International Skin Imaging Collaboration/Train/dermatofibroma/output/dermatofibroma_original_ISIC_0025903.jpg_ce8d3d0d-5464-41ac-902e-90d5aba02fa1.jpg',\n",
              " '/content/CNN_assignment/Skin cancer ISIC The International Skin Imaging Collaboration/Train/dermatofibroma/output/dermatofibroma_original_ISIC_0031344.jpg_dd52d7a6-9f62-4c58-9a99-e3b4c8a32b09.jpg',\n",
              " '/content/CNN_assignment/Skin cancer ISIC The International Skin Imaging Collaboration/Train/dermatofibroma/output/dermatofibroma_original_ISIC_0027626.jpg_80a543d8-1b52-432e-a2a6-d87c3e296fe1.jpg',\n",
              " '/content/CNN_assignment/Skin cancer ISIC The International Skin Imaging Collaboration/Train/dermatofibroma/output/dermatofibroma_original_ISIC_0028790.jpg_23244e02-4547-4461-8df6-3402669516e6.jpg',\n",
              " '/content/CNN_assignment/Skin cancer ISIC The International Skin Imaging Collaboration/Train/dermatofibroma/output/dermatofibroma_original_ISIC_0031257.jpg_7dc09336-1691-42b0-9cc9-ce68a83b5612.jpg',\n",
              " '/content/CNN_assignment/Skin cancer ISIC The International Skin Imaging Collaboration/Train/dermatofibroma/output/dermatofibroma_original_ISIC_0033860.jpg_d5aba587-7b9c-4db5-9800-c8d943189b92.jpg',\n",
              " '/content/CNN_assignment/Skin cancer ISIC The International Skin Imaging Collaboration/Train/dermatofibroma/output/dermatofibroma_original_ISIC_0025954.jpg_417e80df-1ef5-48c7-b7dd-82347f5111cf.jpg',\n",
              " '/content/CNN_assignment/Skin cancer ISIC The International Skin Imaging Collaboration/Train/dermatofibroma/output/dermatofibroma_original_ISIC_0029248.jpg_e071fd71-6e9e-43f3-ac11-094ba41852f2.jpg',\n",
              " '/content/CNN_assignment/Skin cancer ISIC The International Skin Imaging Collaboration/Train/dermatofibroma/output/dermatofibroma_original_ISIC_0032468.jpg_d7f9bbc5-e24b-47f6-a129-7f04e08cef5a.jpg',\n",
              " '/content/CNN_assignment/Skin cancer ISIC The International Skin Imaging Collaboration/Train/dermatofibroma/output/dermatofibroma_original_ISIC_0029967.jpg_635957fa-e4c2-435f-a704-dfbbc0e66041.jpg',\n",
              " '/content/CNN_assignment/Skin cancer ISIC The International Skin Imaging Collaboration/Train/dermatofibroma/output/dermatofibroma_original_ISIC_0025622.jpg_856d7fa8-7b56-4d2f-a985-0a32307d2c7d.jpg',\n",
              " '/content/CNN_assignment/Skin cancer ISIC The International Skin Imaging Collaboration/Train/dermatofibroma/output/dermatofibroma_original_ISIC_0030321.jpg_d4c05702-b7a7-4fc1-990f-72845d774085.jpg',\n",
              " '/content/CNN_assignment/Skin cancer ISIC The International Skin Imaging Collaboration/Train/dermatofibroma/output/dermatofibroma_original_ISIC_0027613.jpg_648caedb-de31-414a-bcbb-d8713920d438.jpg',\n",
              " '/content/CNN_assignment/Skin cancer ISIC The International Skin Imaging Collaboration/Train/dermatofibroma/output/dermatofibroma_original_ISIC_0025373.jpg_ca18662c-ff9f-4dbc-b359-61cc9a81ba15.jpg',\n",
              " '/content/CNN_assignment/Skin cancer ISIC The International Skin Imaging Collaboration/Train/dermatofibroma/output/dermatofibroma_original_ISIC_0032114.jpg_3626357f-0ace-4b90-ab06-4639d2e9a839.jpg',\n",
              " '/content/CNN_assignment/Skin cancer ISIC The International Skin Imaging Collaboration/Train/dermatofibroma/output/dermatofibroma_original_ISIC_0030757.jpg_556c6467-8958-48a4-9947-28dcb4f2887d.jpg',\n",
              " '/content/CNN_assignment/Skin cancer ISIC The International Skin Imaging Collaboration/Train/dermatofibroma/output/dermatofibroma_original_ISIC_0033891.jpg_bbd9803f-793f-4ec0-8ff2-fcb44612f089.jpg',\n",
              " '/content/CNN_assignment/Skin cancer ISIC The International Skin Imaging Collaboration/Train/dermatofibroma/output/dermatofibroma_original_ISIC_0026473.jpg_562f886d-3403-437c-8fc6-a10b62654a7e.jpg',\n",
              " '/content/CNN_assignment/Skin cancer ISIC The International Skin Imaging Collaboration/Train/dermatofibroma/output/dermatofibroma_original_ISIC_0029962.jpg_8501d7c8-910f-41e4-a4d0-20a5424278ec.jpg',\n",
              " '/content/CNN_assignment/Skin cancer ISIC The International Skin Imaging Collaboration/Train/dermatofibroma/output/dermatofibroma_original_ISIC_0026629.jpg_04ee7cb3-f8af-480c-b5e4-d04ec065b82b.jpg',\n",
              " '/content/CNN_assignment/Skin cancer ISIC The International Skin Imaging Collaboration/Train/dermatofibroma/output/dermatofibroma_original_ISIC_0025504.jpg_957954f9-a22a-4d70-9de4-9b0e57c24cc6.jpg',\n",
              " '/content/CNN_assignment/Skin cancer ISIC The International Skin Imaging Collaboration/Train/dermatofibroma/output/dermatofibroma_original_ISIC_0032642.jpg_de6017ae-cf2b-4245-b600-a516763dc7b5.jpg',\n",
              " '/content/CNN_assignment/Skin cancer ISIC The International Skin Imaging Collaboration/Train/dermatofibroma/output/dermatofibroma_original_ISIC_0025903.jpg_2c625e64-0b38-41a0-a233-e242be004d21.jpg',\n",
              " '/content/CNN_assignment/Skin cancer ISIC The International Skin Imaging Collaboration/Train/dermatofibroma/output/dermatofibroma_original_ISIC_0028880.jpg_b2f4dbf1-ce9d-4ab2-b099-5507de453a52.jpg',\n",
              " '/content/CNN_assignment/Skin cancer ISIC The International Skin Imaging Collaboration/Train/dermatofibroma/output/dermatofibroma_original_ISIC_0029891.jpg_56f7d6d2-6563-45ed-b097-12c8a780efa7.jpg',\n",
              " '/content/CNN_assignment/Skin cancer ISIC The International Skin Imaging Collaboration/Train/dermatofibroma/output/dermatofibroma_original_ISIC_0026471.jpg_1b641d1f-ae7d-487a-bb37-73d755733a3a.jpg',\n",
              " '/content/CNN_assignment/Skin cancer ISIC The International Skin Imaging Collaboration/Train/dermatofibroma/output/dermatofibroma_original_ISIC_0030830.jpg_83fad416-8ffe-44c1-8951-1d3d9b56670f.jpg',\n",
              " '/content/CNN_assignment/Skin cancer ISIC The International Skin Imaging Collaboration/Train/dermatofibroma/output/dermatofibroma_original_ISIC_0025980.jpg_d7b5e522-8afd-4552-b164-f24cc882b4c8.jpg',\n",
              " '/content/CNN_assignment/Skin cancer ISIC The International Skin Imaging Collaboration/Train/dermatofibroma/output/dermatofibroma_original_ISIC_0032941.jpg_651ac1b2-e9d0-4184-a59c-7021c759e8ef.jpg',\n",
              " '/content/CNN_assignment/Skin cancer ISIC The International Skin Imaging Collaboration/Train/dermatofibroma/output/dermatofibroma_original_ISIC_0031358.jpg_5ef3d3fd-7435-4d5f-967f-e38faa0ab561.jpg',\n",
              " '/content/CNN_assignment/Skin cancer ISIC The International Skin Imaging Collaboration/Train/dermatofibroma/output/dermatofibroma_original_ISIC_0026471.jpg_a3651c90-4e1f-476a-81ca-91a6dc53d464.jpg',\n",
              " '/content/CNN_assignment/Skin cancer ISIC The International Skin Imaging Collaboration/Train/dermatofibroma/output/dermatofibroma_original_ISIC_0025314.jpg_fd188196-bea6-46d2-8cff-cf428509485f.jpg',\n",
              " '/content/CNN_assignment/Skin cancer ISIC The International Skin Imaging Collaboration/Train/dermatofibroma/output/dermatofibroma_original_ISIC_0025771.jpg_7e571ef8-5222-4dab-a2f2-8a36117cc5d0.jpg',\n",
              " '/content/CNN_assignment/Skin cancer ISIC The International Skin Imaging Collaboration/Train/dermatofibroma/output/dermatofibroma_original_ISIC_0031735.jpg_8035f4a3-7d5b-4926-be6c-a5cf7df6f8bf.jpg',\n",
              " '/content/CNN_assignment/Skin cancer ISIC The International Skin Imaging Collaboration/Train/dermatofibroma/output/dermatofibroma_original_ISIC_0028790.jpg_75fda9be-14e4-4313-b710-e67641ba9ac0.jpg',\n",
              " '/content/CNN_assignment/Skin cancer ISIC The International Skin Imaging Collaboration/Train/dermatofibroma/output/dermatofibroma_original_ISIC_0029783.jpg_5b79b502-f1a3-4381-8e45-4d56737eff60.jpg',\n",
              " '/content/CNN_assignment/Skin cancer ISIC The International Skin Imaging Collaboration/Train/dermatofibroma/output/dermatofibroma_original_ISIC_0032114.jpg_d2ee6912-b5f0-4ea3-8871-52619fc32cec.jpg',\n",
              " '/content/CNN_assignment/Skin cancer ISIC The International Skin Imaging Collaboration/Train/dermatofibroma/output/dermatofibroma_original_ISIC_0027488.jpg_87ae18ed-0e5a-4742-9644-cd7bfe158bfb.jpg',\n",
              " '/content/CNN_assignment/Skin cancer ISIC The International Skin Imaging Collaboration/Train/dermatofibroma/output/dermatofibroma_original_ISIC_0031799.jpg_1ef3f4fe-8d00-4a32-8c15-15d8d7a941a8.jpg',\n",
              " '/content/CNN_assignment/Skin cancer ISIC The International Skin Imaging Collaboration/Train/dermatofibroma/output/dermatofibroma_original_ISIC_0026629.jpg_4e64c82f-733a-4c16-8f5f-c035ea99de3a.jpg',\n",
              " '/content/CNN_assignment/Skin cancer ISIC The International Skin Imaging Collaboration/Train/dermatofibroma/output/dermatofibroma_original_ISIC_0033695.jpg_05d1cfe3-7ea0-41d0-a088-84dd4f26a055.jpg',\n",
              " '/content/CNN_assignment/Skin cancer ISIC The International Skin Imaging Collaboration/Train/dermatofibroma/output/dermatofibroma_original_ISIC_0028880.jpg_f68f9ab2-c8e4-40cd-a03f-83eb5b13a0ed.jpg',\n",
              " '/content/CNN_assignment/Skin cancer ISIC The International Skin Imaging Collaboration/Train/dermatofibroma/output/dermatofibroma_original_ISIC_0028880.jpg_4033c1fd-b5f8-4191-9a66-a6659bacb35b.jpg',\n",
              " '/content/CNN_assignment/Skin cancer ISIC The International Skin Imaging Collaboration/Train/dermatofibroma/output/dermatofibroma_original_ISIC_0029039.jpg_26b9c176-aa1d-463c-93df-a6ab7f1bd3af.jpg',\n",
              " '/content/CNN_assignment/Skin cancer ISIC The International Skin Imaging Collaboration/Train/dermatofibroma/output/dermatofibroma_original_ISIC_0028735.jpg_0674591c-1e53-4ab1-b838-5d2281d98bf0.jpg',\n",
              " '/content/CNN_assignment/Skin cancer ISIC The International Skin Imaging Collaboration/Train/dermatofibroma/output/dermatofibroma_original_ISIC_0030321.jpg_b15b3feb-1e5e-448c-86c3-5baf52e80745.jpg',\n",
              " '/content/CNN_assignment/Skin cancer ISIC The International Skin Imaging Collaboration/Train/dermatofibroma/output/dermatofibroma_original_ISIC_0033790.jpg_b6f299fc-cf26-4869-a7db-f047ca7efadf.jpg',\n",
              " '/content/CNN_assignment/Skin cancer ISIC The International Skin Imaging Collaboration/Train/dermatofibroma/output/dermatofibroma_original_ISIC_0025594.jpg_791227a8-df40-4452-b7d5-584c04ed7b81.jpg',\n",
              " '/content/CNN_assignment/Skin cancer ISIC The International Skin Imaging Collaboration/Train/dermatofibroma/output/dermatofibroma_original_ISIC_0029824.jpg_7dd861b1-e0ae-451e-86ee-8fcba11a0706.jpg',\n",
              " '/content/CNN_assignment/Skin cancer ISIC The International Skin Imaging Collaboration/Train/dermatofibroma/output/dermatofibroma_original_ISIC_0032247.jpg_6a36aeb6-ca4f-48cf-b291-16b43f091496.jpg',\n",
              " '/content/CNN_assignment/Skin cancer ISIC The International Skin Imaging Collaboration/Train/dermatofibroma/output/dermatofibroma_original_ISIC_0030555.jpg_1002a1df-7d32-4297-bcad-69320f969705.jpg',\n",
              " '/content/CNN_assignment/Skin cancer ISIC The International Skin Imaging Collaboration/Train/dermatofibroma/output/dermatofibroma_original_ISIC_0029783.jpg_76fbf79c-30c0-44d1-8c44-ed26fd3dd11a.jpg',\n",
              " '/content/CNN_assignment/Skin cancer ISIC The International Skin Imaging Collaboration/Train/dermatofibroma/output/dermatofibroma_original_ISIC_0031443.jpg_1401a5f3-5f3a-4f0b-92e7-c3f574178a18.jpg',\n",
              " '/content/CNN_assignment/Skin cancer ISIC The International Skin Imaging Collaboration/Train/dermatofibroma/output/dermatofibroma_original_ISIC_0027648.jpg_b00c37ba-e225-48f7-a7c6-f23bf64ce5d5.jpg',\n",
              " '/content/CNN_assignment/Skin cancer ISIC The International Skin Imaging Collaboration/Train/dermatofibroma/output/dermatofibroma_original_ISIC_0031457.jpg_d26e9f04-b581-4b00-9b57-f0f88f093212.jpg',\n",
              " '/content/CNN_assignment/Skin cancer ISIC The International Skin Imaging Collaboration/Train/dermatofibroma/output/dermatofibroma_original_ISIC_0030555.jpg_6f85fddd-c1b4-4544-a7f7-ef449e5fa97b.jpg',\n",
              " '/content/CNN_assignment/Skin cancer ISIC The International Skin Imaging Collaboration/Train/dermatofibroma/output/dermatofibroma_original_ISIC_0025954.jpg_ba47f7db-ebb6-4157-82ea-a8a5fd1aa6b9.jpg',\n",
              " '/content/CNN_assignment/Skin cancer ISIC The International Skin Imaging Collaboration/Train/dermatofibroma/output/dermatofibroma_original_ISIC_0029130.jpg_a9453cac-cc68-46d4-9dba-2287eea049e2.jpg',\n",
              " '/content/CNN_assignment/Skin cancer ISIC The International Skin Imaging Collaboration/Train/dermatofibroma/output/dermatofibroma_original_ISIC_0029578.jpg_dba93186-da7e-44a8-a999-2354c6ebef54.jpg',\n",
              " '/content/CNN_assignment/Skin cancer ISIC The International Skin Imaging Collaboration/Train/dermatofibroma/output/dermatofibroma_original_ISIC_0033695.jpg_41efcfd9-1064-4775-8aac-9be2559a7d50.jpg',\n",
              " '/content/CNN_assignment/Skin cancer ISIC The International Skin Imaging Collaboration/Train/dermatofibroma/output/dermatofibroma_original_ISIC_0032941.jpg_2e7e1417-f678-432c-b073-5be65aaa86cd.jpg',\n",
              " '/content/CNN_assignment/Skin cancer ISIC The International Skin Imaging Collaboration/Train/dermatofibroma/output/dermatofibroma_original_ISIC_0028790.jpg_d39f8466-6a3c-48e8-8f90-ac0448769968.jpg',\n",
              " '/content/CNN_assignment/Skin cancer ISIC The International Skin Imaging Collaboration/Train/dermatofibroma/output/dermatofibroma_original_ISIC_0030011.jpg_486335e5-626a-4a5e-9dfa-abe90913f8a1.jpg',\n",
              " '/content/CNN_assignment/Skin cancer ISIC The International Skin Imaging Collaboration/Train/dermatofibroma/output/dermatofibroma_original_ISIC_0031443.jpg_706dab24-4d4b-41b8-bb37-5918dd7e9705.jpg',\n",
              " '/content/CNN_assignment/Skin cancer ISIC The International Skin Imaging Collaboration/Train/dermatofibroma/output/dermatofibroma_original_ISIC_0026789.jpg_ad08591a-bb9d-47d0-83ff-691b7a02d083.jpg',\n",
              " '/content/CNN_assignment/Skin cancer ISIC The International Skin Imaging Collaboration/Train/dermatofibroma/output/dermatofibroma_original_ISIC_0031827.jpg_53a0b49b-b1ee-4b1b-b16e-46feeca34c1d.jpg',\n",
              " '/content/CNN_assignment/Skin cancer ISIC The International Skin Imaging Collaboration/Train/dermatofibroma/output/dermatofibroma_original_ISIC_0028790.jpg_c51452fc-7921-4dc7-847d-b18619c4c17f.jpg',\n",
              " '/content/CNN_assignment/Skin cancer ISIC The International Skin Imaging Collaboration/Train/dermatofibroma/output/dermatofibroma_original_ISIC_0033626.jpg_a11f31df-1ab8-4e01-b4ab-39fa6ef46b24.jpg',\n",
              " '/content/CNN_assignment/Skin cancer ISIC The International Skin Imaging Collaboration/Train/dermatofibroma/output/dermatofibroma_original_ISIC_0031443.jpg_32098d84-4445-42e0-b4ed-78fe5df0558a.jpg',\n",
              " '/content/CNN_assignment/Skin cancer ISIC The International Skin Imaging Collaboration/Train/dermatofibroma/output/dermatofibroma_original_ISIC_0027488.jpg_060364af-a53c-455a-ac0d-18b5a5195fe6.jpg',\n",
              " '/content/CNN_assignment/Skin cancer ISIC The International Skin Imaging Collaboration/Train/dermatofibroma/output/dermatofibroma_original_ISIC_0030870.jpg_9623d723-2da1-45f0-96e7-08bab0351d16.jpg',\n",
              " '/content/CNN_assignment/Skin cancer ISIC The International Skin Imaging Collaboration/Train/dermatofibroma/output/dermatofibroma_original_ISIC_0030665.jpg_40e49035-9229-4c76-8a83-d2681cbee45b.jpg',\n",
              " '/content/CNN_assignment/Skin cancer ISIC The International Skin Imaging Collaboration/Train/dermatofibroma/output/dermatofibroma_original_ISIC_0033790.jpg_e491a3c7-009a-4ef5-946a-82b46eaeec09.jpg',\n",
              " '/content/CNN_assignment/Skin cancer ISIC The International Skin Imaging Collaboration/Train/dermatofibroma/output/dermatofibroma_original_ISIC_0026417.jpg_6242d093-9d2e-4e7e-888b-88ae6193410e.jpg',\n",
              " '/content/CNN_assignment/Skin cancer ISIC The International Skin Imaging Collaboration/Train/dermatofibroma/output/dermatofibroma_original_ISIC_0025911.jpg_00375e32-653a-42f6-ba25-1334daeeacfb.jpg',\n",
              " '/content/CNN_assignment/Skin cancer ISIC The International Skin Imaging Collaboration/Train/dermatofibroma/output/dermatofibroma_original_ISIC_0031799.jpg_24ba0013-d355-4f3e-8472-67aaf50b3211.jpg',\n",
              " '/content/CNN_assignment/Skin cancer ISIC The International Skin Imaging Collaboration/Train/dermatofibroma/output/dermatofibroma_original_ISIC_0027648.jpg_ef57f13e-63de-4698-83dc-ba833079f5aa.jpg',\n",
              " '/content/CNN_assignment/Skin cancer ISIC The International Skin Imaging Collaboration/Train/dermatofibroma/output/dermatofibroma_original_ISIC_0028790.jpg_240b1c1f-15c6-4103-a26a-b4810ef4e633.jpg',\n",
              " '/content/CNN_assignment/Skin cancer ISIC The International Skin Imaging Collaboration/Train/dermatofibroma/output/dermatofibroma_original_ISIC_0030555.jpg_ce1907ad-ad6f-4dc8-8cdd-624ea12a0f2d.jpg',\n",
              " '/content/CNN_assignment/Skin cancer ISIC The International Skin Imaging Collaboration/Train/dermatofibroma/output/dermatofibroma_original_ISIC_0034135.jpg_73dee246-4855-436d-92ff-69f1291f952f.jpg',\n",
              " '/content/CNN_assignment/Skin cancer ISIC The International Skin Imaging Collaboration/Train/dermatofibroma/output/dermatofibroma_original_ISIC_0028346.jpg_027f484f-7987-4eaf-b6f7-e6be45f12530.jpg',\n",
              " '/content/CNN_assignment/Skin cancer ISIC The International Skin Imaging Collaboration/Train/dermatofibroma/output/dermatofibroma_original_ISIC_0030427.jpg_65fcd99a-9e49-4849-b536-52c9081c054b.jpg',\n",
              " '/content/CNN_assignment/Skin cancer ISIC The International Skin Imaging Collaboration/Train/dermatofibroma/output/dermatofibroma_original_ISIC_0028735.jpg_12698a79-a41c-4d51-b6cc-f86faa93c3c7.jpg',\n",
              " '/content/CNN_assignment/Skin cancer ISIC The International Skin Imaging Collaboration/Train/dermatofibroma/output/dermatofibroma_original_ISIC_0030427.jpg_121e4b6d-8ec6-46fd-b94c-7ead3fa3da6c.jpg',\n",
              " '/content/CNN_assignment/Skin cancer ISIC The International Skin Imaging Collaboration/Train/dermatofibroma/output/dermatofibroma_original_ISIC_0025771.jpg_8273c524-0ce8-4652-a737-11ea9832a524.jpg',\n",
              " '/content/CNN_assignment/Skin cancer ISIC The International Skin Imaging Collaboration/Train/dermatofibroma/output/dermatofibroma_original_ISIC_0033780.jpg_c5be3ca0-6bc0-47e5-b368-ea0b7e7c92e7.jpg',\n",
              " '/content/CNN_assignment/Skin cancer ISIC The International Skin Imaging Collaboration/Train/dermatofibroma/output/dermatofibroma_original_ISIC_0029962.jpg_473beff6-f32c-487f-a925-4c39d0fcf3b1.jpg',\n",
              " '/content/CNN_assignment/Skin cancer ISIC The International Skin Imaging Collaboration/Train/dermatofibroma/output/dermatofibroma_original_ISIC_0025980.jpg_915ee051-39ed-4f96-8adb-7f380d106e14.jpg',\n",
              " '/content/CNN_assignment/Skin cancer ISIC The International Skin Imaging Collaboration/Train/dermatofibroma/output/dermatofibroma_original_ISIC_0025771.jpg_dc01e182-a7c7-4632-ad63-62f3762317f5.jpg',\n",
              " '/content/CNN_assignment/Skin cancer ISIC The International Skin Imaging Collaboration/Train/dermatofibroma/output/dermatofibroma_original_ISIC_0031257.jpg_66c2bda3-c31e-49d3-ad66-0301b6ec1342.jpg',\n",
              " '/content/CNN_assignment/Skin cancer ISIC The International Skin Imaging Collaboration/Train/dermatofibroma/output/dermatofibroma_original_ISIC_0026629.jpg_52f994a5-c71a-460b-8835-b51cae55028c.jpg',\n",
              " '/content/CNN_assignment/Skin cancer ISIC The International Skin Imaging Collaboration/Train/dermatofibroma/output/dermatofibroma_original_ISIC_0033860.jpg_3cdccf5f-fac0-4787-a369-8e61549ac085.jpg',\n",
              " '/content/CNN_assignment/Skin cancer ISIC The International Skin Imaging Collaboration/Train/dermatofibroma/output/dermatofibroma_original_ISIC_0027626.jpg_c344f8da-45d6-47b2-8eb2-5d37cfc4f399.jpg',\n",
              " '/content/CNN_assignment/Skin cancer ISIC The International Skin Imaging Collaboration/Train/dermatofibroma/output/dermatofibroma_original_ISIC_0030011.jpg_9d52f4ae-68a9-4a35-96d6-d256a9bb8108.jpg',\n",
              " '/content/CNN_assignment/Skin cancer ISIC The International Skin Imaging Collaboration/Train/dermatofibroma/output/dermatofibroma_original_ISIC_0029248.jpg_cb0f3375-9e90-4c49-a6d6-b68df124df39.jpg',\n",
              " '/content/CNN_assignment/Skin cancer ISIC The International Skin Imaging Collaboration/Train/dermatofibroma/output/dermatofibroma_original_ISIC_0033780.jpg_e1170b9b-3c5e-4bda-bf06-9ba73255e7ae.jpg',\n",
              " '/content/CNN_assignment/Skin cancer ISIC The International Skin Imaging Collaboration/Train/dermatofibroma/output/dermatofibroma_original_ISIC_0028651.jpg_acd3484a-e943-412b-98f1-e2a50ec57dc7.jpg',\n",
              " '/content/CNN_assignment/Skin cancer ISIC The International Skin Imaging Collaboration/Train/dermatofibroma/output/dermatofibroma_original_ISIC_0029039.jpg_afa8f24b-52b9-4769-9437-fb26dbe9d941.jpg',\n",
              " '/content/CNN_assignment/Skin cancer ISIC The International Skin Imaging Collaboration/Train/dermatofibroma/output/dermatofibroma_original_ISIC_0025622.jpg_cc56f186-e8ad-42fc-a040-40f2d97f5e35.jpg',\n",
              " '/content/CNN_assignment/Skin cancer ISIC The International Skin Imaging Collaboration/Train/dermatofibroma/output/dermatofibroma_original_ISIC_0033675.jpg_9e45317a-144f-4e63-a2b8-5ff75cb61208.jpg',\n",
              " '/content/CNN_assignment/Skin cancer ISIC The International Skin Imaging Collaboration/Train/dermatofibroma/output/dermatofibroma_original_ISIC_0025223.jpg_1f1d358e-246f-4454-874c-cd62a5abb807.jpg',\n",
              " '/content/CNN_assignment/Skin cancer ISIC The International Skin Imaging Collaboration/Train/dermatofibroma/output/dermatofibroma_original_ISIC_0030011.jpg_fc86db83-17f6-4822-bf5c-94ed2aff23e7.jpg',\n",
              " '/content/CNN_assignment/Skin cancer ISIC The International Skin Imaging Collaboration/Train/dermatofibroma/output/dermatofibroma_original_ISIC_0031827.jpg_d7c385f4-c769-465b-a9cb-6ec47c8d8be3.jpg',\n",
              " '/content/CNN_assignment/Skin cancer ISIC The International Skin Imaging Collaboration/Train/dermatofibroma/output/dermatofibroma_original_ISIC_0032247.jpg_92b379fe-885e-4201-bcc6-ae2b7a571e0d.jpg',\n",
              " '/content/CNN_assignment/Skin cancer ISIC The International Skin Imaging Collaboration/Train/dermatofibroma/output/dermatofibroma_original_ISIC_0027044.jpg_bffbb49c-c23c-4aec-ad74-94a594a80982.jpg',\n",
              " '/content/CNN_assignment/Skin cancer ISIC The International Skin Imaging Collaboration/Train/dermatofibroma/output/dermatofibroma_original_ISIC_0027648.jpg_77071b15-269c-49f2-b4e3-ff47ed1d7559.jpg',\n",
              " '/content/CNN_assignment/Skin cancer ISIC The International Skin Imaging Collaboration/Train/dermatofibroma/output/dermatofibroma_original_ISIC_0028346.jpg_94427ed7-b7d9-49bb-9f15-d3a942e58954.jpg',\n",
              " '/content/CNN_assignment/Skin cancer ISIC The International Skin Imaging Collaboration/Train/dermatofibroma/output/dermatofibroma_original_ISIC_0025622.jpg_12954e68-0075-4057-b988-96083d64b171.jpg',\n",
              " '/content/CNN_assignment/Skin cancer ISIC The International Skin Imaging Collaboration/Train/dermatofibroma/output/dermatofibroma_original_ISIC_0031372.jpg_45f6defd-6d85-4888-ace7-055b386642c3.jpg',\n",
              " '/content/CNN_assignment/Skin cancer ISIC The International Skin Imaging Collaboration/Train/dermatofibroma/output/dermatofibroma_original_ISIC_0025911.jpg_a15e49e7-0e51-49d3-9357-35ca5791fb4c.jpg',\n",
              " '/content/CNN_assignment/Skin cancer ISIC The International Skin Imaging Collaboration/Train/dermatofibroma/output/dermatofibroma_original_ISIC_0026629.jpg_8d6d0b63-57c0-4b3a-8820-fe490e346569.jpg',\n",
              " '/content/CNN_assignment/Skin cancer ISIC The International Skin Imaging Collaboration/Train/dermatofibroma/output/dermatofibroma_original_ISIC_0028880.jpg_18ef6fa6-b5a0-470b-b382-c65ced8f5330.jpg',\n",
              " '/content/CNN_assignment/Skin cancer ISIC The International Skin Imaging Collaboration/Train/dermatofibroma/output/dermatofibroma_original_ISIC_0030555.jpg_fc7cd597-6bda-43b7-9807-b7366ac9e58b.jpg',\n",
              " '/content/CNN_assignment/Skin cancer ISIC The International Skin Imaging Collaboration/Train/dermatofibroma/output/dermatofibroma_original_ISIC_0031735.jpg_dc65f6d9-6eb0-412e-b5eb-84aa54a91598.jpg',\n",
              " '/content/CNN_assignment/Skin cancer ISIC The International Skin Imaging Collaboration/Train/dermatofibroma/output/dermatofibroma_original_ISIC_0025622.jpg_74bdeea8-6e3e-475b-b232-68ca53f781d0.jpg',\n",
              " '/content/CNN_assignment/Skin cancer ISIC The International Skin Imaging Collaboration/Train/dermatofibroma/output/dermatofibroma_original_ISIC_0030015.jpg_61afd1ab-b2fa-4280-9229-5cb9c4915ec7.jpg',\n",
              " '/content/CNN_assignment/Skin cancer ISIC The International Skin Imaging Collaboration/Train/dermatofibroma/output/dermatofibroma_original_ISIC_0031735.jpg_35806472-d7e2-486b-9dd8-6d2fe458f9b5.jpg',\n",
              " '/content/CNN_assignment/Skin cancer ISIC The International Skin Imaging Collaboration/Train/dermatofibroma/output/dermatofibroma_original_ISIC_0029891.jpg_9a8e0190-7d7d-469a-b2c0-89424d9e53b0.jpg',\n",
              " '/content/CNN_assignment/Skin cancer ISIC The International Skin Imaging Collaboration/Train/dermatofibroma/output/dermatofibroma_original_ISIC_0030757.jpg_e0488d4c-8e97-443d-86d1-ef11010a3540.jpg',\n",
              " '/content/CNN_assignment/Skin cancer ISIC The International Skin Imaging Collaboration/Train/dermatofibroma/output/dermatofibroma_original_ISIC_0030021.jpg_8f837a04-be75-4d62-961d-bd91544d95d5.jpg',\n",
              " '/content/CNN_assignment/Skin cancer ISIC The International Skin Imaging Collaboration/Train/dermatofibroma/output/dermatofibroma_original_ISIC_0025504.jpg_9fc0d925-1a17-4b80-8982-d0864241f4fa.jpg',\n",
              " '/content/CNN_assignment/Skin cancer ISIC The International Skin Imaging Collaboration/Train/dermatofibroma/output/dermatofibroma_original_ISIC_0025622.jpg_fefb97c6-177e-4257-bd32-31f1a5afa86e.jpg',\n",
              " '/content/CNN_assignment/Skin cancer ISIC The International Skin Imaging Collaboration/Train/dermatofibroma/output/dermatofibroma_original_ISIC_0030579.jpg_edb65f1a-c4db-4245-8ed5-8e662e0baac3.jpg',\n",
              " '/content/CNN_assignment/Skin cancer ISIC The International Skin Imaging Collaboration/Train/dermatofibroma/output/dermatofibroma_original_ISIC_0025594.jpg_63a408d3-4ef9-4648-9eef-94eed08b2c43.jpg',\n",
              " '/content/CNN_assignment/Skin cancer ISIC The International Skin Imaging Collaboration/Train/dermatofibroma/output/dermatofibroma_original_ISIC_0031372.jpg_d0d5fb4d-69bd-476c-b9b0-e846d5940be3.jpg',\n",
              " '/content/CNN_assignment/Skin cancer ISIC The International Skin Imaging Collaboration/Train/dermatofibroma/output/dermatofibroma_original_ISIC_0033860.jpg_e8dfe14f-90b1-4d03-a821-19a6d8c38782.jpg',\n",
              " '/content/CNN_assignment/Skin cancer ISIC The International Skin Imaging Collaboration/Train/dermatofibroma/output/dermatofibroma_original_ISIC_0032138.jpg_d28c5a9c-613f-4431-9fee-c78a724bb626.jpg',\n",
              " '/content/CNN_assignment/Skin cancer ISIC The International Skin Imaging Collaboration/Train/dermatofibroma/output/dermatofibroma_original_ISIC_0028346.jpg_f12e2819-46b4-471c-90a8-51d0340a9449.jpg',\n",
              " '/content/CNN_assignment/Skin cancer ISIC The International Skin Imaging Collaboration/Train/dermatofibroma/output/dermatofibroma_original_ISIC_0027044.jpg_b2cdfc5b-f099-486a-8614-8dda529a824d.jpg',\n",
              " '/content/CNN_assignment/Skin cancer ISIC The International Skin Imaging Collaboration/Train/dermatofibroma/output/dermatofibroma_original_ISIC_0026789.jpg_6898db99-8f8d-41da-a58d-efa1b9988b07.jpg',\n",
              " '/content/CNN_assignment/Skin cancer ISIC The International Skin Imaging Collaboration/Train/dermatofibroma/output/dermatofibroma_original_ISIC_0029578.jpg_35303f31-f9eb-494a-af14-e0ff1a171183.jpg',\n",
              " '/content/CNN_assignment/Skin cancer ISIC The International Skin Imaging Collaboration/Train/dermatofibroma/output/dermatofibroma_original_ISIC_0033790.jpg_5d2ff5ef-f940-478f-a4ef-bac0eafb1053.jpg',\n",
              " '/content/CNN_assignment/Skin cancer ISIC The International Skin Imaging Collaboration/Train/dermatofibroma/output/dermatofibroma_original_ISIC_0026254.jpg_eb012f4a-e181-4566-89c8-4d5ea278a94d.jpg',\n",
              " '/content/CNN_assignment/Skin cancer ISIC The International Skin Imaging Collaboration/Train/dermatofibroma/output/dermatofibroma_original_ISIC_0032114.jpg_3262f495-3886-4573-940f-1b9712b85e07.jpg',\n",
              " '/content/CNN_assignment/Skin cancer ISIC The International Skin Imaging Collaboration/Train/dermatofibroma/output/dermatofibroma_original_ISIC_0033847.jpg_3c7ae6cf-75d9-42c9-87c8-615a47f3c0ea.jpg',\n",
              " '/content/CNN_assignment/Skin cancer ISIC The International Skin Imaging Collaboration/Train/dermatofibroma/output/dermatofibroma_original_ISIC_0029891.jpg_676ebe66-396a-4bfc-ae6a-875d0043eafe.jpg',\n",
              " '/content/CNN_assignment/Skin cancer ISIC The International Skin Imaging Collaboration/Train/dermatofibroma/output/dermatofibroma_original_ISIC_0029967.jpg_8df09750-35ef-401b-a768-3bbb03ff285d.jpg',\n",
              " '/content/CNN_assignment/Skin cancer ISIC The International Skin Imaging Collaboration/Train/dermatofibroma/output/dermatofibroma_original_ISIC_0030757.jpg_1baecb89-5171-4830-8710-b347779b9d62.jpg',\n",
              " '/content/CNN_assignment/Skin cancer ISIC The International Skin Imaging Collaboration/Train/dermatofibroma/output/dermatofibroma_original_ISIC_0033860.jpg_81ada097-78f7-425b-838e-3b59cfced46b.jpg',\n",
              " '/content/CNN_assignment/Skin cancer ISIC The International Skin Imaging Collaboration/Train/dermatofibroma/output/dermatofibroma_original_ISIC_0030555.jpg_bd54ed62-ebbf-406d-b8d4-7a4ebc7e583b.jpg',\n",
              " '/content/CNN_assignment/Skin cancer ISIC The International Skin Imaging Collaboration/Train/dermatofibroma/output/dermatofibroma_original_ISIC_0033860.jpg_ad0c358e-69c6-4aa7-90f5-cbc84f0b6e0f.jpg',\n",
              " '/content/CNN_assignment/Skin cancer ISIC The International Skin Imaging Collaboration/Train/dermatofibroma/output/dermatofibroma_original_ISIC_0025771.jpg_2dc4a699-2d99-4536-86e4-d024c2ac6514.jpg',\n",
              " '/content/CNN_assignment/Skin cancer ISIC The International Skin Imaging Collaboration/Train/dermatofibroma/output/dermatofibroma_original_ISIC_0028735.jpg_746d0b66-a70b-4423-bf35-4d2d18f3d7d2.jpg',\n",
              " '/content/CNN_assignment/Skin cancer ISIC The International Skin Imaging Collaboration/Train/dermatofibroma/output/dermatofibroma_original_ISIC_0033675.jpg_af857b23-c8d3-4766-bf39-80314c1bb4f9.jpg',\n",
              " '/content/CNN_assignment/Skin cancer ISIC The International Skin Imaging Collaboration/Train/dermatofibroma/output/dermatofibroma_original_ISIC_0031735.jpg_2d46d9ca-5c86-4b65-aef2-d1eb848042f0.jpg',\n",
              " '/content/CNN_assignment/Skin cancer ISIC The International Skin Imaging Collaboration/Train/dermatofibroma/output/dermatofibroma_original_ISIC_0033808.jpg_57075a3c-a47d-4725-a7ae-26a0f4f75c4c.jpg',\n",
              " '/content/CNN_assignment/Skin cancer ISIC The International Skin Imaging Collaboration/Train/dermatofibroma/output/dermatofibroma_original_ISIC_0033675.jpg_616d634e-582a-4f59-9739-2e5b38cae198.jpg',\n",
              " '/content/CNN_assignment/Skin cancer ISIC The International Skin Imaging Collaboration/Train/dermatofibroma/output/dermatofibroma_original_ISIC_0031827.jpg_77cd27c2-cd3b-4e68-8fcd-b640cadcc6ce.jpg',\n",
              " '/content/CNN_assignment/Skin cancer ISIC The International Skin Imaging Collaboration/Train/dermatofibroma/output/dermatofibroma_original_ISIC_0029578.jpg_ef631f57-17c5-49c9-9d67-bea4515a2a3e.jpg',\n",
              " '/content/CNN_assignment/Skin cancer ISIC The International Skin Imaging Collaboration/Train/dermatofibroma/output/dermatofibroma_original_ISIC_0027876.jpg_a4e899f9-ebb1-4114-b170-65955d8d206a.jpg',\n",
              " '/content/CNN_assignment/Skin cancer ISIC The International Skin Imaging Collaboration/Train/dermatofibroma/output/dermatofibroma_original_ISIC_0033891.jpg_f204f09a-7d1c-4a50-81cb-fa57f72b7ee9.jpg',\n",
              " '/content/CNN_assignment/Skin cancer ISIC The International Skin Imaging Collaboration/Train/dermatofibroma/output/dermatofibroma_original_ISIC_0027044.jpg_ee898214-afd7-45d5-a37b-e0d39711b7ff.jpg',\n",
              " '/content/CNN_assignment/Skin cancer ISIC The International Skin Imaging Collaboration/Train/dermatofibroma/output/dermatofibroma_original_ISIC_0030665.jpg_35126fbd-05fa-4a14-9a4a-591a91ac0e49.jpg',\n",
              " '/content/CNN_assignment/Skin cancer ISIC The International Skin Imaging Collaboration/Train/dermatofibroma/output/dermatofibroma_original_ISIC_0028346.jpg_62da1959-88c1-4899-a7e6-10a3cc2e52d0.jpg',\n",
              " '/content/CNN_assignment/Skin cancer ISIC The International Skin Imaging Collaboration/Train/dermatofibroma/output/dermatofibroma_original_ISIC_0033860.jpg_3a10095a-ec92-43c9-aa9d-727068d46371.jpg',\n",
              " '/content/CNN_assignment/Skin cancer ISIC The International Skin Imaging Collaboration/Train/dermatofibroma/output/dermatofibroma_original_ISIC_0025223.jpg_18115200-bc1a-4ccc-a23a-51ed5bc6e9ef.jpg',\n",
              " '/content/CNN_assignment/Skin cancer ISIC The International Skin Imaging Collaboration/Train/dermatofibroma/output/dermatofibroma_original_ISIC_0029578.jpg_e6b72e43-1bb0-44c2-b780-580a2d434df6.jpg',\n",
              " '/content/CNN_assignment/Skin cancer ISIC The International Skin Imaging Collaboration/Train/dermatofibroma/output/dermatofibroma_original_ISIC_0031827.jpg_316176a8-afff-4b43-aa50-5c3ae9920f60.jpg',\n",
              " '/content/CNN_assignment/Skin cancer ISIC The International Skin Imaging Collaboration/Train/dermatofibroma/output/dermatofibroma_original_ISIC_0030427.jpg_b5296fa9-36fa-4223-8530-a7ec752da4ee.jpg',\n",
              " '/content/CNN_assignment/Skin cancer ISIC The International Skin Imaging Collaboration/Train/dermatofibroma/output/dermatofibroma_original_ISIC_0028926.jpg_21bbc176-80b5-44a5-aabf-dd3599691627.jpg',\n",
              " '/content/CNN_assignment/Skin cancer ISIC The International Skin Imaging Collaboration/Train/dermatofibroma/output/dermatofibroma_original_ISIC_0029052.jpg_812b5937-f830-4aa4-aaca-6ff99168f312.jpg',\n",
              " '/content/CNN_assignment/Skin cancer ISIC The International Skin Imaging Collaboration/Train/dermatofibroma/output/dermatofibroma_original_ISIC_0027648.jpg_ac61f8fe-5083-4774-9705-571482adbb0d.jpg',\n",
              " '/content/CNN_assignment/Skin cancer ISIC The International Skin Imaging Collaboration/Train/dermatofibroma/output/dermatofibroma_original_ISIC_0027141.jpg_aa9e0f45-028b-40ff-816b-22e33545812b.jpg',\n",
              " '/content/CNN_assignment/Skin cancer ISIC The International Skin Imaging Collaboration/Train/dermatofibroma/output/dermatofibroma_original_ISIC_0033847.jpg_a5231e8f-b647-4868-94e3-c305d4b7f2c9.jpg',\n",
              " '/content/CNN_assignment/Skin cancer ISIC The International Skin Imaging Collaboration/Train/dermatofibroma/output/dermatofibroma_original_ISIC_0029962.jpg_42d0499b-3379-4af9-a40d-8818895f997f.jpg',\n",
              " '/content/CNN_assignment/Skin cancer ISIC The International Skin Imaging Collaboration/Train/dermatofibroma/output/dermatofibroma_original_ISIC_0027876.jpg_5cbe2603-c220-4646-b905-0a10739e4e9b.jpg',\n",
              " '/content/CNN_assignment/Skin cancer ISIC The International Skin Imaging Collaboration/Train/dermatofibroma/output/dermatofibroma_original_ISIC_0027107.jpg_840e5dc8-4f1c-46ca-9bd4-4dd60acf7fcd.jpg',\n",
              " '/content/CNN_assignment/Skin cancer ISIC The International Skin Imaging Collaboration/Train/dermatofibroma/output/dermatofibroma_original_ISIC_0027216.jpg_ad7875a6-7f3d-4532-912c-9482fbc40692.jpg',\n",
              " '/content/CNN_assignment/Skin cancer ISIC The International Skin Imaging Collaboration/Train/dermatofibroma/output/dermatofibroma_original_ISIC_0029973.jpg_bb27b978-7111-4cf0-b76f-fc5f3659e014.jpg',\n",
              " '/content/CNN_assignment/Skin cancer ISIC The International Skin Imaging Collaboration/Train/dermatofibroma/output/dermatofibroma_original_ISIC_0028790.jpg_b50a4d51-effa-4629-927f-d20f68bd1a89.jpg',\n",
              " '/content/CNN_assignment/Skin cancer ISIC The International Skin Imaging Collaboration/Train/dermatofibroma/output/dermatofibroma_original_ISIC_0031372.jpg_0dedadcb-fb8d-4f47-ab23-c89746a92956.jpg',\n",
              " '/content/CNN_assignment/Skin cancer ISIC The International Skin Imaging Collaboration/Train/dermatofibroma/output/dermatofibroma_original_ISIC_0025911.jpg_a2d86f72-cddf-4f85-9c3f-94ad0894f7e3.jpg',\n",
              " '/content/CNN_assignment/Skin cancer ISIC The International Skin Imaging Collaboration/Train/dermatofibroma/output/dermatofibroma_original_ISIC_0026471.jpg_add89f69-4a47-44bc-8146-95cfda20ecc7.jpg',\n",
              " '/content/CNN_assignment/Skin cancer ISIC The International Skin Imaging Collaboration/Train/dermatofibroma/output/dermatofibroma_original_ISIC_0033626.jpg_7fadfbee-95b7-4f54-b96a-22e2b2a76904.jpg',\n",
              " '/content/CNN_assignment/Skin cancer ISIC The International Skin Imaging Collaboration/Train/dermatofibroma/output/dermatofibroma_original_ISIC_0031429.jpg_47ccddfd-2a53-4321-99ca-f7a0cf2f480d.jpg',\n",
              " '/content/CNN_assignment/Skin cancer ISIC The International Skin Imaging Collaboration/Train/dermatofibroma/output/dermatofibroma_original_ISIC_0033860.jpg_f58aee43-5351-487e-b95c-5f029f2949be.jpg',\n",
              " '/content/CNN_assignment/Skin cancer ISIC The International Skin Imaging Collaboration/Train/dermatofibroma/output/dermatofibroma_original_ISIC_0027141.jpg_9d4e4ca5-9091-4de7-826a-51c411b5351a.jpg',\n",
              " '/content/CNN_assignment/Skin cancer ISIC The International Skin Imaging Collaboration/Train/dermatofibroma/output/dermatofibroma_original_ISIC_0033808.jpg_1950d430-e886-4621-9788-f9221642831d.jpg',\n",
              " '/content/CNN_assignment/Skin cancer ISIC The International Skin Imaging Collaboration/Train/dermatofibroma/output/dermatofibroma_original_ISIC_0028735.jpg_41b90e0c-c739-4084-a439-ecb47b2b8ad7.jpg',\n",
              " '/content/CNN_assignment/Skin cancer ISIC The International Skin Imaging Collaboration/Train/dermatofibroma/output/dermatofibroma_original_ISIC_0028651.jpg_165b2f19-9871-414c-adbf-49c4e948e74c.jpg',\n",
              " '/content/CNN_assignment/Skin cancer ISIC The International Skin Imaging Collaboration/Train/dermatofibroma/output/dermatofibroma_original_ISIC_0026254.jpg_b3dcc824-3b14-40fd-8e61-fc4ec02e703e.jpg',\n",
              " '/content/CNN_assignment/Skin cancer ISIC The International Skin Imaging Collaboration/Train/dermatofibroma/output/dermatofibroma_original_ISIC_0027008.jpg_70b0c4c3-a6e9-4074-bbaf-bf7dcb31ee1f.jpg',\n",
              " '/content/CNN_assignment/Skin cancer ISIC The International Skin Imaging Collaboration/Train/dermatofibroma/output/dermatofibroma_original_ISIC_0031429.jpg_1e42df07-724e-46d6-a943-5864e6b6f3d5.jpg',\n",
              " '/content/CNN_assignment/Skin cancer ISIC The International Skin Imaging Collaboration/Train/dermatofibroma/output/dermatofibroma_original_ISIC_0025302.jpg_0df3875b-b61c-4a28-887f-a9cfcedc6402.jpg',\n",
              " '/content/CNN_assignment/Skin cancer ISIC The International Skin Imaging Collaboration/Train/dermatofibroma/output/dermatofibroma_original_ISIC_0030757.jpg_8cb292e9-efb3-41e7-9818-cb21812da6cd.jpg',\n",
              " '/content/CNN_assignment/Skin cancer ISIC The International Skin Imaging Collaboration/Train/dermatofibroma/output/dermatofibroma_original_ISIC_0026254.jpg_784d81ef-6f08-4308-bcc6-df97fec560ef.jpg',\n",
              " '/content/CNN_assignment/Skin cancer ISIC The International Skin Imaging Collaboration/Train/dermatofibroma/output/dermatofibroma_original_ISIC_0026629.jpg_ba8a7ed5-3ef8-445e-8b2a-0bde39ba57d0.jpg',\n",
              " '/content/CNN_assignment/Skin cancer ISIC The International Skin Imaging Collaboration/Train/dermatofibroma/output/dermatofibroma_original_ISIC_0030579.jpg_7356f6e0-a598-414c-a245-32171716c7a6.jpg',\n",
              " '/content/CNN_assignment/Skin cancer ISIC The International Skin Imaging Collaboration/Train/dermatofibroma/output/dermatofibroma_original_ISIC_0032138.jpg_9fd02660-0a53-49ba-bd18-25670ad00173.jpg',\n",
              " '/content/CNN_assignment/Skin cancer ISIC The International Skin Imaging Collaboration/Train/dermatofibroma/output/dermatofibroma_original_ISIC_0031372.jpg_ff9dfe79-57f8-441f-a2e5-9015f707ab97.jpg',\n",
              " '/content/CNN_assignment/Skin cancer ISIC The International Skin Imaging Collaboration/Train/dermatofibroma/output/dermatofibroma_original_ISIC_0027141.jpg_63cbf478-79f9-4bbc-85be-76b01caa298f.jpg',\n",
              " '/content/CNN_assignment/Skin cancer ISIC The International Skin Imaging Collaboration/Train/dermatofibroma/output/dermatofibroma_original_ISIC_0025302.jpg_d4c469a1-6795-4515-8178-e8cdcde22276.jpg',\n",
              " '/content/CNN_assignment/Skin cancer ISIC The International Skin Imaging Collaboration/Train/dermatofibroma/output/dermatofibroma_original_ISIC_0030579.jpg_9e5c6a6f-f16e-4234-a69c-5fafc2957744.jpg',\n",
              " '/content/CNN_assignment/Skin cancer ISIC The International Skin Imaging Collaboration/Train/dermatofibroma/output/dermatofibroma_original_ISIC_0028735.jpg_e2f75758-7ea2-4630-98d0-a85c267d9231.jpg',\n",
              " '/content/CNN_assignment/Skin cancer ISIC The International Skin Imaging Collaboration/Train/dermatofibroma/output/dermatofibroma_original_ISIC_0031799.jpg_376e59cd-08bf-49d5-8cfb-e609dc56a7b2.jpg',\n",
              " '/content/CNN_assignment/Skin cancer ISIC The International Skin Imaging Collaboration/Train/dermatofibroma/output/dermatofibroma_original_ISIC_0033780.jpg_13354371-0aa0-4ff0-9858-fec4257fc438.jpg',\n",
              " '/content/CNN_assignment/Skin cancer ISIC The International Skin Imaging Collaboration/Train/dermatofibroma/output/dermatofibroma_original_ISIC_0030579.jpg_969ab7ba-c55e-41fd-bc77-85840428b582.jpg',\n",
              " '/content/CNN_assignment/Skin cancer ISIC The International Skin Imaging Collaboration/Train/dermatofibroma/output/dermatofibroma_original_ISIC_0025223.jpg_390ea69a-d20e-4793-a8ce-f3b4d5345848.jpg',\n",
              " '/content/CNN_assignment/Skin cancer ISIC The International Skin Imaging Collaboration/Train/dermatofibroma/output/dermatofibroma_original_ISIC_0031735.jpg_9926ac8a-ffd3-466c-8542-2edd17657b0f.jpg',\n",
              " '/content/CNN_assignment/Skin cancer ISIC The International Skin Imaging Collaboration/Train/dermatofibroma/output/dermatofibroma_original_ISIC_0030870.jpg_6b49f3d0-35b6-4e69-b406-fc9dbe44724a.jpg',\n",
              " '/content/CNN_assignment/Skin cancer ISIC The International Skin Imaging Collaboration/Train/dermatofibroma/output/dermatofibroma_original_ISIC_0025771.jpg_176a82b1-7692-491e-b75c-c94878f1e63c.jpg',\n",
              " '/content/CNN_assignment/Skin cancer ISIC The International Skin Imaging Collaboration/Train/dermatofibroma/output/dermatofibroma_original_ISIC_0029578.jpg_521ebb87-a603-4b8b-9c78-3ecf8a47f65c.jpg',\n",
              " '/content/CNN_assignment/Skin cancer ISIC The International Skin Imaging Collaboration/Train/dermatofibroma/output/dermatofibroma_original_ISIC_0033626.jpg_062f8def-8234-43ef-83a3-0be91461982b.jpg',\n",
              " '/content/CNN_assignment/Skin cancer ISIC The International Skin Imaging Collaboration/Train/dermatofibroma/output/dermatofibroma_original_ISIC_0025954.jpg_c11ea069-ff7c-4daa-8678-4d8c78966e7e.jpg',\n",
              " '/content/CNN_assignment/Skin cancer ISIC The International Skin Imaging Collaboration/Train/dermatofibroma/output/dermatofibroma_original_ISIC_0031372.jpg_2d410fb2-0a84-48d7-b36f-90fd5b29578c.jpg',\n",
              " '/content/CNN_assignment/Skin cancer ISIC The International Skin Imaging Collaboration/Train/dermatofibroma/output/dermatofibroma_original_ISIC_0027216.jpg_906be1bb-7309-46f9-afab-98f448d7ca33.jpg',\n",
              " '/content/CNN_assignment/Skin cancer ISIC The International Skin Imaging Collaboration/Train/dermatofibroma/output/dermatofibroma_original_ISIC_0032247.jpg_3f035b2e-5a69-4064-b416-790b33a8de7e.jpg',\n",
              " '/content/CNN_assignment/Skin cancer ISIC The International Skin Imaging Collaboration/Train/dermatofibroma/output/dermatofibroma_original_ISIC_0034135.jpg_ddb7fb19-c07f-4c82-84dc-611b3b3a5b0d.jpg',\n",
              " '/content/CNN_assignment/Skin cancer ISIC The International Skin Imaging Collaboration/Train/dermatofibroma/output/dermatofibroma_original_ISIC_0031827.jpg_d4ad7ff6-8125-4f83-977d-d88a451e06f3.jpg',\n",
              " '/content/CNN_assignment/Skin cancer ISIC The International Skin Imaging Collaboration/Train/dermatofibroma/output/dermatofibroma_original_ISIC_0025373.jpg_0aa54f93-c25f-4ae7-acbf-a29d77ee3ba0.jpg',\n",
              " '/content/CNN_assignment/Skin cancer ISIC The International Skin Imaging Collaboration/Train/dermatofibroma/output/dermatofibroma_original_ISIC_0025594.jpg_b18b706b-281e-4790-89ac-3470f84d758b.jpg',\n",
              " '/content/CNN_assignment/Skin cancer ISIC The International Skin Imaging Collaboration/Train/dermatofibroma/output/dermatofibroma_original_ISIC_0025504.jpg_86f55774-90df-4c6b-b6dd-ddcd834b3dda.jpg',\n",
              " '/content/CNN_assignment/Skin cancer ISIC The International Skin Imaging Collaboration/Train/dermatofibroma/output/dermatofibroma_original_ISIC_0029891.jpg_d686c917-1b32-4a0a-9004-5e69c5542bb5.jpg',\n",
              " '/content/CNN_assignment/Skin cancer ISIC The International Skin Imaging Collaboration/Train/dermatofibroma/output/dermatofibroma_original_ISIC_0030015.jpg_f475f56d-1cf9-4423-80d9-65c5df94e681.jpg',\n",
              " '/content/CNN_assignment/Skin cancer ISIC The International Skin Imaging Collaboration/Train/dermatofibroma/output/dermatofibroma_original_ISIC_0029967.jpg_322f6bc7-1bcf-428c-81e0-b3dc9d788947.jpg',\n",
              " '/content/CNN_assignment/Skin cancer ISIC The International Skin Imaging Collaboration/Train/dermatofibroma/output/dermatofibroma_original_ISIC_0029297.jpg_5dde4850-71c0-41a9-8fb3-7f62e30e0a68.jpg',\n",
              " '/content/CNN_assignment/Skin cancer ISIC The International Skin Imaging Collaboration/Train/dermatofibroma/output/dermatofibroma_original_ISIC_0031443.jpg_5d5def47-520d-4a66-8615-1f69e4e035a1.jpg',\n",
              " '/content/CNN_assignment/Skin cancer ISIC The International Skin Imaging Collaboration/Train/dermatofibroma/output/dermatofibroma_original_ISIC_0032642.jpg_006bbb49-be1c-4ce9-bd00-7fee1a0c9593.jpg',\n",
              " '/content/CNN_assignment/Skin cancer ISIC The International Skin Imaging Collaboration/Train/dermatofibroma/output/dermatofibroma_original_ISIC_0030321.jpg_94917219-56a1-4c5e-939c-e61547dd4b6e.jpg',\n",
              " '/content/CNN_assignment/Skin cancer ISIC The International Skin Imaging Collaboration/Train/dermatofibroma/output/dermatofibroma_original_ISIC_0031257.jpg_2c7d39d8-bce3-486a-85b3-2e803d286b45.jpg',\n",
              " '/content/CNN_assignment/Skin cancer ISIC The International Skin Imaging Collaboration/Train/dermatofibroma/output/dermatofibroma_original_ISIC_0025903.jpg_bd455b0d-70f3-43f0-9a38-357489418bd3.jpg',\n",
              " '/content/CNN_assignment/Skin cancer ISIC The International Skin Imaging Collaboration/Train/dermatofibroma/output/dermatofibroma_original_ISIC_0027745.jpg_48410a6c-5500-41e3-a4f4-b96575e3450b.jpg',\n",
              " '/content/CNN_assignment/Skin cancer ISIC The International Skin Imaging Collaboration/Train/dermatofibroma/output/dermatofibroma_original_ISIC_0032613.jpg_14079366-ec8b-4c83-8596-53efa221bae7.jpg',\n",
              " '/content/CNN_assignment/Skin cancer ISIC The International Skin Imaging Collaboration/Train/dermatofibroma/output/dermatofibroma_original_ISIC_0030665.jpg_346eef7d-83b4-4bfb-8c27-4db94ba3957f.jpg',\n",
              " '/content/CNN_assignment/Skin cancer ISIC The International Skin Imaging Collaboration/Train/dermatofibroma/output/dermatofibroma_original_ISIC_0034135.jpg_9c7bc32d-d88c-429d-acdf-176a7119e7de.jpg',\n",
              " '/content/CNN_assignment/Skin cancer ISIC The International Skin Imaging Collaboration/Train/dermatofibroma/output/dermatofibroma_original_ISIC_0029052.jpg_d6c5cb22-91df-4fb9-b4be-200ceaff41af.jpg',\n",
              " '/content/CNN_assignment/Skin cancer ISIC The International Skin Imaging Collaboration/Train/dermatofibroma/output/dermatofibroma_original_ISIC_0026471.jpg_c1fa3f89-d8f0-4e7b-b4b5-9f05bd232305.jpg',\n",
              " '/content/CNN_assignment/Skin cancer ISIC The International Skin Imaging Collaboration/Train/dermatofibroma/output/dermatofibroma_original_ISIC_0025903.jpg_20ac347c-e8e3-475b-b037-7d4674bb7319.jpg',\n",
              " '/content/CNN_assignment/Skin cancer ISIC The International Skin Imaging Collaboration/Train/dermatofibroma/output/dermatofibroma_original_ISIC_0025594.jpg_dc271974-f823-47c3-9968-106d73333048.jpg',\n",
              " '/content/CNN_assignment/Skin cancer ISIC The International Skin Imaging Collaboration/Train/dermatofibroma/output/dermatofibroma_original_ISIC_0033005.jpg_23aac4e6-12a8-42ff-ab28-4879234b5cdb.jpg',\n",
              " '/content/CNN_assignment/Skin cancer ISIC The International Skin Imaging Collaboration/Train/dermatofibroma/output/dermatofibroma_original_ISIC_0033005.jpg_8d0993db-d669-4534-b221-658cf6d98b63.jpg',\n",
              " '/content/CNN_assignment/Skin cancer ISIC The International Skin Imaging Collaboration/Train/dermatofibroma/output/dermatofibroma_original_ISIC_0029177.jpg_92ce7cf0-9768-4d5c-825b-afe99402865e.jpg',\n",
              " '/content/CNN_assignment/Skin cancer ISIC The International Skin Imaging Collaboration/Train/dermatofibroma/output/dermatofibroma_original_ISIC_0031735.jpg_bfd5c9f7-2760-4b6f-bf85-8e6ec8addc55.jpg',\n",
              " '/content/CNN_assignment/Skin cancer ISIC The International Skin Imaging Collaboration/Train/dermatofibroma/output/dermatofibroma_original_ISIC_0034135.jpg_0670f8ae-67a7-4f02-809f-bd756abe63e0.jpg',\n",
              " '/content/CNN_assignment/Skin cancer ISIC The International Skin Imaging Collaboration/Train/dermatofibroma/output/dermatofibroma_original_ISIC_0030555.jpg_f424196a-0b58-4f27-a97f-d7e13619f402.jpg',\n",
              " '/content/CNN_assignment/Skin cancer ISIC The International Skin Imaging Collaboration/Train/dermatofibroma/output/dermatofibroma_original_ISIC_0027613.jpg_93246020-0353-4881-b917-50bcac40d4bd.jpg',\n",
              " '/content/CNN_assignment/Skin cancer ISIC The International Skin Imaging Collaboration/Train/dermatofibroma/output/dermatofibroma_original_ISIC_0026471.jpg_9acc26a4-c882-4054-bae2-ca6da88c77f9.jpg',\n",
              " '/content/CNN_assignment/Skin cancer ISIC The International Skin Imaging Collaboration/Train/dermatofibroma/output/dermatofibroma_original_ISIC_0030555.jpg_8105f482-400b-4f78-8d69-dbbd7827286e.jpg',\n",
              " '/content/CNN_assignment/Skin cancer ISIC The International Skin Imaging Collaboration/Train/dermatofibroma/output/dermatofibroma_original_ISIC_0032468.jpg_dd524796-83dd-4f7a-b358-e85eb694092e.jpg',\n",
              " '/content/CNN_assignment/Skin cancer ISIC The International Skin Imaging Collaboration/Train/dermatofibroma/output/dermatofibroma_original_ISIC_0029783.jpg_b76ecfe6-c7d7-486d-9511-3f737f48fc3b.jpg',\n",
              " '/content/CNN_assignment/Skin cancer ISIC The International Skin Imaging Collaboration/Train/dermatofibroma/output/dermatofibroma_original_ISIC_0033808.jpg_cd6678a9-b809-44be-97ff-a333f4b88af2.jpg',\n",
              " '/content/CNN_assignment/Skin cancer ISIC The International Skin Imaging Collaboration/Train/dermatofibroma/output/dermatofibroma_original_ISIC_0031799.jpg_8850f984-82fe-41c1-92bb-8d1689e73c1d.jpg',\n",
              " '/content/CNN_assignment/Skin cancer ISIC The International Skin Imaging Collaboration/Train/dermatofibroma/output/dermatofibroma_original_ISIC_0031443.jpg_050e691f-5728-48b0-ab57-04e29ecad2fc.jpg',\n",
              " '/content/CNN_assignment/Skin cancer ISIC The International Skin Imaging Collaboration/Train/dermatofibroma/output/dermatofibroma_original_ISIC_0027626.jpg_9ef39242-58be-415a-8cd2-0320eb18500d.jpg',\n",
              " '/content/CNN_assignment/Skin cancer ISIC The International Skin Imaging Collaboration/Train/dermatofibroma/output/dermatofibroma_original_ISIC_0027044.jpg_9a07540c-ca71-4c29-bc97-42fd9f263a25.jpg',\n",
              " '/content/CNN_assignment/Skin cancer ISIC The International Skin Imaging Collaboration/Train/dermatofibroma/output/dermatofibroma_original_ISIC_0025594.jpg_52f91617-b28a-43de-8de0-ebb2f7450d1d.jpg',\n",
              " '/content/CNN_assignment/Skin cancer ISIC The International Skin Imaging Collaboration/Train/dermatofibroma/output/dermatofibroma_original_ISIC_0033780.jpg_21f94d90-8fcc-4f61-a5bc-6cd7d01a4a7b.jpg',\n",
              " '/content/CNN_assignment/Skin cancer ISIC The International Skin Imaging Collaboration/Train/dermatofibroma/output/dermatofibroma_original_ISIC_0033780.jpg_0337d96b-e2a7-4255-8a6d-6dc58bb6274b.jpg',\n",
              " '/content/CNN_assignment/Skin cancer ISIC The International Skin Imaging Collaboration/Train/dermatofibroma/output/dermatofibroma_original_ISIC_0027044.jpg_c62c32c5-9ea4-489d-8687-768b6d5decf8.jpg',\n",
              " '/content/CNN_assignment/Skin cancer ISIC The International Skin Imaging Collaboration/Train/dermatofibroma/output/dermatofibroma_original_ISIC_0031344.jpg_57f0b6d0-85e5-4e6c-bce9-61c8e3061120.jpg',\n",
              " '/content/CNN_assignment/Skin cancer ISIC The International Skin Imaging Collaboration/Train/dermatofibroma/output/dermatofibroma_original_ISIC_0033554.jpg_3adf18fd-ae53-48d7-b09d-a3436ae80e30.jpg',\n",
              " '/content/CNN_assignment/Skin cancer ISIC The International Skin Imaging Collaboration/Train/dermatofibroma/output/dermatofibroma_original_ISIC_0025622.jpg_3d3c57ac-08c6-4600-93c0-d56294fb2f19.jpg',\n",
              " '/content/CNN_assignment/Skin cancer ISIC The International Skin Imaging Collaboration/Train/dermatofibroma/output/dermatofibroma_original_ISIC_0027876.jpg_71e1e061-119c-4316-b8c7-308aa3f5c183.jpg',\n",
              " '/content/CNN_assignment/Skin cancer ISIC The International Skin Imaging Collaboration/Train/dermatofibroma/output/dermatofibroma_original_ISIC_0032138.jpg_7d18c2dc-d52c-42b7-982e-49e982e9cf42.jpg',\n",
              " '/content/CNN_assignment/Skin cancer ISIC The International Skin Imaging Collaboration/Train/dermatofibroma/output/dermatofibroma_original_ISIC_0033675.jpg_06302a6d-3542-41fc-b59e-705747bdca71.jpg',\n",
              " '/content/CNN_assignment/Skin cancer ISIC The International Skin Imaging Collaboration/Train/dermatofibroma/output/dermatofibroma_original_ISIC_0031457.jpg_49806944-0860-4f42-987d-6edd26c0c457.jpg',\n",
              " '/content/CNN_assignment/Skin cancer ISIC The International Skin Imaging Collaboration/Train/dermatofibroma/output/dermatofibroma_original_ISIC_0032613.jpg_f922d208-6135-4478-8c4b-d854b6047d92.jpg',\n",
              " '/content/CNN_assignment/Skin cancer ISIC The International Skin Imaging Collaboration/Train/dermatofibroma/output/dermatofibroma_original_ISIC_0029297.jpg_cb1cf901-24ff-4853-8747-879836824e7d.jpg',\n",
              " '/content/CNN_assignment/Skin cancer ISIC The International Skin Imaging Collaboration/Train/dermatofibroma/output/dermatofibroma_original_ISIC_0025504.jpg_03fd45dd-c354-4cf4-9288-12a85a3c319a.jpg',\n",
              " '/content/CNN_assignment/Skin cancer ISIC The International Skin Imaging Collaboration/Train/dermatofibroma/output/dermatofibroma_original_ISIC_0033808.jpg_b81d9b6b-7e7d-4fb9-a7a2-d910fe78ce50.jpg',\n",
              " '/content/CNN_assignment/Skin cancer ISIC The International Skin Imaging Collaboration/Train/dermatofibroma/output/dermatofibroma_original_ISIC_0027107.jpg_6c5d46b4-29f1-43e7-88a3-ceb96e07fd19.jpg',\n",
              " '/content/CNN_assignment/Skin cancer ISIC The International Skin Imaging Collaboration/Train/dermatofibroma/output/dermatofibroma_original_ISIC_0026471.jpg_3cc28fb2-4226-420e-9b61-823a2bb28f81.jpg',\n",
              " '/content/CNN_assignment/Skin cancer ISIC The International Skin Imaging Collaboration/Train/dermatofibroma/output/dermatofibroma_original_ISIC_0027044.jpg_d41a61ba-5bdc-45b4-893f-46cca1bb5dfc.jpg',\n",
              " '/content/CNN_assignment/Skin cancer ISIC The International Skin Imaging Collaboration/Train/dermatofibroma/output/dermatofibroma_original_ISIC_0032642.jpg_abe84e02-d074-42a8-97de-0c1c53b4a176.jpg',\n",
              " '/content/CNN_assignment/Skin cancer ISIC The International Skin Imaging Collaboration/Train/dermatofibroma/output/dermatofibroma_original_ISIC_0033860.jpg_2f2c9993-1cae-4162-9852-4c972dc8c3e1.jpg',\n",
              " '/content/CNN_assignment/Skin cancer ISIC The International Skin Imaging Collaboration/Train/dermatofibroma/output/dermatofibroma_original_ISIC_0027745.jpg_af7d55b8-32b3-42ad-8d0e-abef82d3fa63.jpg',\n",
              " '/content/CNN_assignment/Skin cancer ISIC The International Skin Imaging Collaboration/Train/dermatofibroma/output/dermatofibroma_original_ISIC_0031457.jpg_dc51494e-ad85-4383-a8b3-f6851f082a13.jpg',\n",
              " '/content/CNN_assignment/Skin cancer ISIC The International Skin Imaging Collaboration/Train/dermatofibroma/output/dermatofibroma_original_ISIC_0030579.jpg_f287a8fa-c671-4010-88bc-dee484408905.jpg',\n",
              " '/content/CNN_assignment/Skin cancer ISIC The International Skin Imaging Collaboration/Train/dermatofibroma/output/dermatofibroma_original_ISIC_0031799.jpg_244bae8b-75a5-4050-814f-d6347d93811c.jpg',\n",
              " '/content/CNN_assignment/Skin cancer ISIC The International Skin Imaging Collaboration/Train/dermatofibroma/output/dermatofibroma_original_ISIC_0031271.jpg_c3927589-a052-4204-81d1-931b090bfcc2.jpg',\n",
              " '/content/CNN_assignment/Skin cancer ISIC The International Skin Imaging Collaboration/Train/dermatofibroma/output/dermatofibroma_original_ISIC_0027008.jpg_a447b4cf-9c19-4ac0-a959-f88d6e5f333c.jpg',\n",
              " '/content/CNN_assignment/Skin cancer ISIC The International Skin Imaging Collaboration/Train/dermatofibroma/output/dermatofibroma_original_ISIC_0025622.jpg_e4ff3eb4-a57f-44bf-b1cd-62137672883c.jpg',\n",
              " '/content/CNN_assignment/Skin cancer ISIC The International Skin Imaging Collaboration/Train/dermatofibroma/output/dermatofibroma_original_ISIC_0030321.jpg_9c4918db-4ce0-4b14-ba9b-1fefa43373d0.jpg',\n",
              " '/content/CNN_assignment/Skin cancer ISIC The International Skin Imaging Collaboration/Train/dermatofibroma/output/dermatofibroma_original_ISIC_0030579.jpg_5449b9e9-ce9a-465e-979e-63e2b5fdbd85.jpg',\n",
              " '/content/CNN_assignment/Skin cancer ISIC The International Skin Imaging Collaboration/Train/dermatofibroma/output/dermatofibroma_original_ISIC_0030021.jpg_da398a7f-8c71-45e5-b11a-17c3493538ff.jpg',\n",
              " '/content/CNN_assignment/Skin cancer ISIC The International Skin Imaging Collaboration/Train/dermatofibroma/output/dermatofibroma_original_ISIC_0031827.jpg_9d5bead5-ee42-4dd3-9adf-3084674b36f1.jpg',\n",
              " '/content/CNN_assignment/Skin cancer ISIC The International Skin Imaging Collaboration/Train/dermatofibroma/output/dermatofibroma_original_ISIC_0025373.jpg_2cedce08-5488-460f-8e68-14b18417359c.jpg',\n",
              " '/content/CNN_assignment/Skin cancer ISIC The International Skin Imaging Collaboration/Train/dermatofibroma/output/dermatofibroma_original_ISIC_0025622.jpg_1a5d412c-0a14-47d9-afe4-ffa10f282a7e.jpg',\n",
              " '/content/CNN_assignment/Skin cancer ISIC The International Skin Imaging Collaboration/Train/dermatofibroma/output/dermatofibroma_original_ISIC_0030011.jpg_c756b90d-bb5d-493e-999f-c415e73456fc.jpg',\n",
              " '/content/CNN_assignment/Skin cancer ISIC The International Skin Imaging Collaboration/Train/dermatofibroma/output/dermatofibroma_original_ISIC_0030442.jpg_7da3d3b2-e936-4ad2-b601-e0a02ca369f1.jpg',\n",
              " '/content/CNN_assignment/Skin cancer ISIC The International Skin Imaging Collaboration/Train/dermatofibroma/output/dermatofibroma_original_ISIC_0029039.jpg_33198955-4c23-4043-8db7-4154fb6087c0.jpg',\n",
              " '/content/CNN_assignment/Skin cancer ISIC The International Skin Imaging Collaboration/Train/dermatofibroma/output/dermatofibroma_original_ISIC_0032642.jpg_5da7574a-a4a8-4e33-b248-5991c0356594.jpg',\n",
              " '/content/CNN_assignment/Skin cancer ISIC The International Skin Imaging Collaboration/Train/dermatofibroma/output/dermatofibroma_original_ISIC_0025594.jpg_ded69d40-39f4-4cb2-8f93-7d5f069a6292.jpg',\n",
              " '/content/CNN_assignment/Skin cancer ISIC The International Skin Imaging Collaboration/Train/dermatofibroma/output/dermatofibroma_original_ISIC_0032247.jpg_4d79968b-5b5e-4ee2-beb5-2f3497254c2c.jpg',\n",
              " '/content/CNN_assignment/Skin cancer ISIC The International Skin Imaging Collaboration/Train/dermatofibroma/output/dermatofibroma_original_ISIC_0031358.jpg_53384dc5-0e23-4d48-8a57-9f2e6722ab20.jpg',\n",
              " '/content/CNN_assignment/Skin cancer ISIC The International Skin Imaging Collaboration/Train/dermatofibroma/output/dermatofibroma_original_ISIC_0031257.jpg_c73d8cab-db80-4f84-a9b3-6d68eb40ad8b.jpg',\n",
              " '/content/CNN_assignment/Skin cancer ISIC The International Skin Imaging Collaboration/Train/dermatofibroma/output/dermatofibroma_original_ISIC_0030757.jpg_80f572cb-569f-4900-a099-c285ed556f80.jpg',\n",
              " '/content/CNN_assignment/Skin cancer ISIC The International Skin Imaging Collaboration/Train/dermatofibroma/output/dermatofibroma_original_ISIC_0032114.jpg_cdad5c7d-5602-41fe-9529-85c968ee9697.jpg',\n",
              " '/content/CNN_assignment/Skin cancer ISIC The International Skin Imaging Collaboration/Train/dermatofibroma/output/dermatofibroma_original_ISIC_0033860.jpg_9722bbdb-6d98-40d8-877c-5f0bd713042d.jpg',\n",
              " '/content/CNN_assignment/Skin cancer ISIC The International Skin Imaging Collaboration/Train/dermatofibroma/output/dermatofibroma_original_ISIC_0033810.jpg_528064e6-dc4e-4dcb-a868-3c9152db68b9.jpg',\n",
              " '/content/CNN_assignment/Skin cancer ISIC The International Skin Imaging Collaboration/Train/dermatofibroma/output/dermatofibroma_original_ISIC_0033675.jpg_84a5f0e4-b54e-4a52-af82-ef9bd10eb577.jpg',\n",
              " '/content/CNN_assignment/Skin cancer ISIC The International Skin Imaging Collaboration/Train/dermatofibroma/output/dermatofibroma_original_ISIC_0027141.jpg_aa9ac4af-a4bd-4288-a8cd-12cd453df818.jpg',\n",
              " '/content/CNN_assignment/Skin cancer ISIC The International Skin Imaging Collaboration/Train/dermatofibroma/output/dermatofibroma_original_ISIC_0028735.jpg_b803f1e4-ca96-49ef-88ab-48fd16b95384.jpg',\n",
              " '/content/CNN_assignment/Skin cancer ISIC The International Skin Imaging Collaboration/Train/dermatofibroma/output/dermatofibroma_original_ISIC_0029973.jpg_5f4af667-e7e3-41f2-9e1f-0df092a2ad81.jpg',\n",
              " '/content/CNN_assignment/Skin cancer ISIC The International Skin Imaging Collaboration/Train/dermatofibroma/output/dermatofibroma_original_ISIC_0028880.jpg_d26ca77c-c0ae-4804-a630-787aa8cab6d6.jpg',\n",
              " '/content/CNN_assignment/Skin cancer ISIC The International Skin Imaging Collaboration/Train/dermatofibroma/output/dermatofibroma_original_ISIC_0031257.jpg_cc2de1bf-a3fe-431d-9967-1b0744d1cdda.jpg',\n",
              " '/content/CNN_assignment/Skin cancer ISIC The International Skin Imaging Collaboration/Train/dermatofibroma/output/dermatofibroma_original_ISIC_0026629.jpg_97713c5f-6f0b-4670-b343-9b2d972d64bd.jpg',\n",
              " '/content/CNN_assignment/Skin cancer ISIC The International Skin Imaging Collaboration/Train/dermatofibroma/output/dermatofibroma_original_ISIC_0025622.jpg_3f8b8de5-f437-4feb-9262-7118a41cd7a8.jpg',\n",
              " '/content/CNN_assignment/Skin cancer ISIC The International Skin Imaging Collaboration/Train/dermatofibroma/output/dermatofibroma_original_ISIC_0033005.jpg_43e81c05-ef4d-4da7-bf08-ef0f3589c3a6.jpg',\n",
              " '/content/CNN_assignment/Skin cancer ISIC The International Skin Imaging Collaboration/Train/dermatofibroma/output/dermatofibroma_original_ISIC_0033780.jpg_670b2272-6469-42b8-9444-0bfb61480966.jpg',\n",
              " '/content/CNN_assignment/Skin cancer ISIC The International Skin Imaging Collaboration/Train/dermatofibroma/output/dermatofibroma_original_ISIC_0030442.jpg_3e5b56a3-3124-480c-a0ba-097727f9df16.jpg',\n",
              " '/content/CNN_assignment/Skin cancer ISIC The International Skin Imaging Collaboration/Train/dermatofibroma/output/dermatofibroma_original_ISIC_0028651.jpg_de52bda5-ab7c-49e3-ac82-9a30d294ca67.jpg',\n",
              " '/content/CNN_assignment/Skin cancer ISIC The International Skin Imaging Collaboration/Train/dermatofibroma/output/dermatofibroma_original_ISIC_0030579.jpg_e1210e21-a1c5-4e29-a6be-065eec4d34e1.jpg',\n",
              " '/content/CNN_assignment/Skin cancer ISIC The International Skin Imaging Collaboration/Train/dermatofibroma/output/dermatofibroma_original_ISIC_0030579.jpg_bc7f45e0-93f8-4d4d-830f-fcea03338d97.jpg',\n",
              " '/content/CNN_assignment/Skin cancer ISIC The International Skin Imaging Collaboration/Train/dermatofibroma/output/dermatofibroma_original_ISIC_0025771.jpg_cc3ee23f-8759-4a6e-89dd-f12b544c878e.jpg',\n",
              " '/content/CNN_assignment/Skin cancer ISIC The International Skin Imaging Collaboration/Train/dermatofibroma/output/dermatofibroma_original_ISIC_0032642.jpg_f32b6aba-29f4-459f-86e8-9404de9b2529.jpg',\n",
              " '/content/CNN_assignment/Skin cancer ISIC The International Skin Imaging Collaboration/Train/dermatofibroma/output/dermatofibroma_original_ISIC_0025980.jpg_f7bd5bc8-6749-459b-b265-68b48b2166b3.jpg',\n",
              " '/content/CNN_assignment/Skin cancer ISIC The International Skin Imaging Collaboration/Train/dermatofibroma/output/dermatofibroma_original_ISIC_0028651.jpg_4a0492fb-f74c-41dd-b0dd-abc67fa2ccb2.jpg',\n",
              " '/content/CNN_assignment/Skin cancer ISIC The International Skin Imaging Collaboration/Train/dermatofibroma/output/dermatofibroma_original_ISIC_0027613.jpg_9f7625e6-49fd-4cd7-be3d-171397c37226.jpg',\n",
              " '/content/CNN_assignment/Skin cancer ISIC The International Skin Imaging Collaboration/Train/dermatofibroma/output/dermatofibroma_original_ISIC_0027216.jpg_2ff4d6a1-74cd-40b8-a851-0c1827efc5ef.jpg',\n",
              " '/content/CNN_assignment/Skin cancer ISIC The International Skin Imaging Collaboration/Train/dermatofibroma/output/dermatofibroma_original_ISIC_0030021.jpg_0eddec64-7225-4a80-b5ed-8a9a14c884ed.jpg',\n",
              " '/content/CNN_assignment/Skin cancer ISIC The International Skin Imaging Collaboration/Train/dermatofibroma/output/dermatofibroma_original_ISIC_0033860.jpg_2e6327f7-8342-4c83-9fc0-b49656ec3162.jpg',\n",
              " '/content/CNN_assignment/Skin cancer ISIC The International Skin Imaging Collaboration/Train/dermatofibroma/output/dermatofibroma_original_ISIC_0031429.jpg_88bd92a3-84d2-421e-a5d8-7f7c6b567c44.jpg',\n",
              " '/content/CNN_assignment/Skin cancer ISIC The International Skin Imaging Collaboration/Train/dermatofibroma/output/dermatofibroma_original_ISIC_0031457.jpg_7210d0cf-8a90-4b45-9d9a-a8a435ade992.jpg',\n",
              " '/content/CNN_assignment/Skin cancer ISIC The International Skin Imaging Collaboration/Train/dermatofibroma/output/dermatofibroma_original_ISIC_0033891.jpg_dbfc28cd-ad05-431d-8c8f-35f53122c49e.jpg',\n",
              " '/content/CNN_assignment/Skin cancer ISIC The International Skin Imaging Collaboration/Train/dermatofibroma/output/dermatofibroma_original_ISIC_0030555.jpg_b5e93440-5b5b-4a06-8bfb-08a2699bda72.jpg',\n",
              " '/content/CNN_assignment/Skin cancer ISIC The International Skin Imaging Collaboration/Train/dermatofibroma/output/dermatofibroma_original_ISIC_0025980.jpg_2ef9e04c-aff2-4083-b3d9-3e32bb6d754a.jpg',\n",
              " '/content/CNN_assignment/Skin cancer ISIC The International Skin Imaging Collaboration/Train/dermatofibroma/output/dermatofibroma_original_ISIC_0027141.jpg_ad429d23-1452-4f69-a7f2-d7a98d5ecce6.jpg',\n",
              " '/content/CNN_assignment/Skin cancer ISIC The International Skin Imaging Collaboration/Train/dermatofibroma/output/dermatofibroma_original_ISIC_0025980.jpg_0d8488bd-6cda-477e-987a-0b178fb5d17f.jpg',\n",
              " '/content/CNN_assignment/Skin cancer ISIC The International Skin Imaging Collaboration/Train/dermatofibroma/output/dermatofibroma_original_ISIC_0033675.jpg_f15a54cf-7e29-43eb-8a56-ce92e86c0b4e.jpg',\n",
              " '/content/CNN_assignment/Skin cancer ISIC The International Skin Imaging Collaboration/Train/dermatofibroma/output/dermatofibroma_original_ISIC_0027488.jpg_40395c32-2d9b-4b01-9469-4471728831d8.jpg',\n",
              " '/content/CNN_assignment/Skin cancer ISIC The International Skin Imaging Collaboration/Train/dermatofibroma/output/dermatofibroma_original_ISIC_0025504.jpg_92b973bb-207b-4709-8eb1-d3b81fe590f4.jpg',\n",
              " '/content/CNN_assignment/Skin cancer ISIC The International Skin Imaging Collaboration/Train/dermatofibroma/output/dermatofibroma_original_ISIC_0025622.jpg_717988ac-0463-4a31-a0bf-9ce079e8413a.jpg',\n",
              " '/content/CNN_assignment/Skin cancer ISIC The International Skin Imaging Collaboration/Train/dermatofibroma/output/dermatofibroma_original_ISIC_0027598.jpg_97f1d005-2172-4723-a464-70502d2178d7.jpg',\n",
              " '/content/CNN_assignment/Skin cancer ISIC The International Skin Imaging Collaboration/Train/dermatofibroma/output/dermatofibroma_original_ISIC_0033810.jpg_41e71fa1-afa4-4b28-9651-3262a7a3417f.jpg',\n",
              " '/content/CNN_assignment/Skin cancer ISIC The International Skin Imaging Collaboration/Train/dermatofibroma/output/dermatofibroma_original_ISIC_0029783.jpg_b90be5a4-6827-40af-9470-2b67c5ffd989.jpg',\n",
              " '/content/CNN_assignment/Skin cancer ISIC The International Skin Imaging Collaboration/Train/dermatofibroma/output/dermatofibroma_original_ISIC_0032642.jpg_1abd0300-1b30-4db5-bef7-d2f2ec5229c2.jpg',\n",
              " '/content/CNN_assignment/Skin cancer ISIC The International Skin Imaging Collaboration/Train/dermatofibroma/output/dermatofibroma_original_ISIC_0031271.jpg_ee6a9e78-549d-4aaf-81da-0b47815d4856.jpg',\n",
              " '/content/CNN_assignment/Skin cancer ISIC The International Skin Imaging Collaboration/Train/dermatofibroma/output/dermatofibroma_original_ISIC_0030015.jpg_d8a78f65-4f03-4ec7-880a-dd94b5280a97.jpg',\n",
              " '/content/CNN_assignment/Skin cancer ISIC The International Skin Imaging Collaboration/Train/dermatofibroma/output/dermatofibroma_original_ISIC_0028926.jpg_a8abfbf8-02ae-4743-81f3-f3eaa0b1a17b.jpg',\n",
              " '/content/CNN_assignment/Skin cancer ISIC The International Skin Imaging Collaboration/Train/dermatofibroma/output/dermatofibroma_original_ISIC_0031257.jpg_de9e195a-f469-470d-85d4-140b9ab09c96.jpg',\n",
              " '/content/CNN_assignment/Skin cancer ISIC The International Skin Imaging Collaboration/Train/dermatofibroma/output/dermatofibroma_original_ISIC_0027141.jpg_b9dd5a6c-bd95-46f6-af31-89346151cd57.jpg',\n",
              " '/content/CNN_assignment/Skin cancer ISIC The International Skin Imaging Collaboration/Train/dermatofibroma/output/dermatofibroma_original_ISIC_0032642.jpg_db304bde-a837-43c4-9e67-a16d5ae6eb3e.jpg',\n",
              " '/content/CNN_assignment/Skin cancer ISIC The International Skin Imaging Collaboration/Train/dermatofibroma/output/dermatofibroma_original_ISIC_0033860.jpg_3e7423a0-b22d-4ab9-a0c7-db4b64be0a50.jpg',\n",
              " '/content/CNN_assignment/Skin cancer ISIC The International Skin Imaging Collaboration/Train/dermatofibroma/output/dermatofibroma_original_ISIC_0031429.jpg_291656b8-b217-4e7b-9906-dfc6538e4855.jpg',\n",
              " '/content/CNN_assignment/Skin cancer ISIC The International Skin Imaging Collaboration/Train/dermatofibroma/output/dermatofibroma_original_ISIC_0029962.jpg_ac0ce1c4-50b3-4311-809a-5ea26e8a1b57.jpg',\n",
              " '/content/CNN_assignment/Skin cancer ISIC The International Skin Imaging Collaboration/Train/dermatofibroma/output/dermatofibroma_original_ISIC_0033790.jpg_5da75000-0340-40dc-800b-a614f21288ac.jpg',\n",
              " '/content/CNN_assignment/Skin cancer ISIC The International Skin Imaging Collaboration/Train/dermatofibroma/output/dermatofibroma_original_ISIC_0030427.jpg_4ba6acd4-191c-48dd-b0ae-545d8c86e44d.jpg',\n",
              " '/content/CNN_assignment/Skin cancer ISIC The International Skin Imaging Collaboration/Train/dermatofibroma/output/dermatofibroma_original_ISIC_0027141.jpg_02bff201-16ce-4fcd-b198-23d7fdabe14e.jpg',\n",
              " '/content/CNN_assignment/Skin cancer ISIC The International Skin Imaging Collaboration/Train/dermatofibroma/output/dermatofibroma_original_ISIC_0025911.jpg_2d4bb137-2eca-4831-999a-834fca99f033.jpg',\n",
              " '/content/CNN_assignment/Skin cancer ISIC The International Skin Imaging Collaboration/Train/dermatofibroma/output/dermatofibroma_original_ISIC_0033695.jpg_cf0a8913-f927-45ad-93d9-85e806c57e8a.jpg',\n",
              " '/content/CNN_assignment/Skin cancer ISIC The International Skin Imaging Collaboration/Train/dermatofibroma/output/dermatofibroma_original_ISIC_0030321.jpg_a2c5a8e3-f56e-4bca-8ed5-2e33404c23ab.jpg',\n",
              " '/content/CNN_assignment/Skin cancer ISIC The International Skin Imaging Collaboration/Train/dermatofibroma/output/dermatofibroma_original_ISIC_0031257.jpg_de9006a2-7ee5-4775-93d5-bccb1a53ef8d.jpg',\n",
              " '/content/CNN_assignment/Skin cancer ISIC The International Skin Imaging Collaboration/Train/dermatofibroma/output/dermatofibroma_original_ISIC_0030830.jpg_1dd6ec90-2146-4b12-9d89-c1fb7258228a.jpg',\n",
              " '/content/CNN_assignment/Skin cancer ISIC The International Skin Imaging Collaboration/Train/dermatofibroma/output/dermatofibroma_original_ISIC_0031827.jpg_07d99095-346f-4f79-b8f7-01b6a5519f42.jpg',\n",
              " '/content/CNN_assignment/Skin cancer ISIC The International Skin Imaging Collaboration/Train/dermatofibroma/output/dermatofibroma_original_ISIC_0029967.jpg_5ebb806c-237d-42c6-94dd-b1a3ad85e70c.jpg',\n",
              " '/content/CNN_assignment/Skin cancer ISIC The International Skin Imaging Collaboration/Train/dermatofibroma/output/dermatofibroma_original_ISIC_0033554.jpg_8e5ba61d-9034-4c22-a5ac-3c61bafd9fd8.jpg',\n",
              " '/content/CNN_assignment/Skin cancer ISIC The International Skin Imaging Collaboration/Train/dermatofibroma/output/dermatofibroma_original_ISIC_0027626.jpg_e3e9b3f1-b7aa-4fb3-8f40-72bccfbfc6c5.jpg',\n",
              " '/content/CNN_assignment/Skin cancer ISIC The International Skin Imaging Collaboration/Train/dermatofibroma/output/dermatofibroma_original_ISIC_0030830.jpg_c2a45e5c-d1ee-4475-8cdc-ebf050015891.jpg',\n",
              " '/content/CNN_assignment/Skin cancer ISIC The International Skin Imaging Collaboration/Train/dermatofibroma/output/dermatofibroma_original_ISIC_0030665.jpg_a7220bc0-8b0e-447c-bfa4-b603f6fd79a1.jpg',\n",
              " '/content/CNN_assignment/Skin cancer ISIC The International Skin Imaging Collaboration/Train/dermatofibroma/output/dermatofibroma_original_ISIC_0028651.jpg_3d5521a5-465a-4192-9d99-48558d2df019.jpg',\n",
              " '/content/CNN_assignment/Skin cancer ISIC The International Skin Imaging Collaboration/Train/dermatofibroma/output/dermatofibroma_original_ISIC_0025302.jpg_c98b7752-19b2-4b95-89fa-2647277b1f42.jpg',\n",
              " '/content/CNN_assignment/Skin cancer ISIC The International Skin Imaging Collaboration/Train/dermatofibroma/output/dermatofibroma_original_ISIC_0030757.jpg_e226bc5d-100a-4505-924f-4b65303f198f.jpg',\n",
              " '/content/CNN_assignment/Skin cancer ISIC The International Skin Imaging Collaboration/Train/dermatofibroma/output/dermatofibroma_original_ISIC_0025980.jpg_3f8694ed-9994-4742-b7a5-e1327ea0fb4e.jpg',\n",
              " '/content/CNN_assignment/Skin cancer ISIC The International Skin Imaging Collaboration/Train/dermatofibroma/output/dermatofibroma_original_ISIC_0030870.jpg_15e4245e-053b-49bb-95cd-eda9178713d8.jpg',\n",
              " '/content/CNN_assignment/Skin cancer ISIC The International Skin Imaging Collaboration/Train/dermatofibroma/output/dermatofibroma_original_ISIC_0032247.jpg_ee02bbc6-39e7-4437-bf86-57aa25c6096e.jpg',\n",
              " '/content/CNN_assignment/Skin cancer ISIC The International Skin Imaging Collaboration/Train/dermatofibroma/output/dermatofibroma_original_ISIC_0032114.jpg_72c1a3e9-d866-4819-a089-e9f07c494d75.jpg',\n",
              " '/content/CNN_assignment/Skin cancer ISIC The International Skin Imaging Collaboration/Train/dermatofibroma/output/dermatofibroma_original_ISIC_0028880.jpg_fccafee9-59cc-495c-9160-f9e103ef0dd5.jpg',\n",
              " '/content/CNN_assignment/Skin cancer ISIC The International Skin Imaging Collaboration/Train/dermatofibroma/output/dermatofibroma_original_ISIC_0031344.jpg_17c9b88a-46ea-4169-976a-c01b199ad063.jpg',\n",
              " '/content/CNN_assignment/Skin cancer ISIC The International Skin Imaging Collaboration/Train/dermatofibroma/output/dermatofibroma_original_ISIC_0031827.jpg_34a165c2-759a-4833-b0c7-951e541412ac.jpg',\n",
              " '/content/CNN_assignment/Skin cancer ISIC The International Skin Imaging Collaboration/Train/dermatofibroma/output/dermatofibroma_original_ISIC_0027488.jpg_794f2b18-bd9e-4669-8b18-71a7a9aec8e1.jpg',\n",
              " '/content/CNN_assignment/Skin cancer ISIC The International Skin Imaging Collaboration/Train/dermatofibroma/output/dermatofibroma_original_ISIC_0026629.jpg_c68ca36f-ec6b-4179-adf4-0748f4b4b5e6.jpg',\n",
              " '/content/CNN_assignment/Skin cancer ISIC The International Skin Imaging Collaboration/Train/dermatofibroma/output/dermatofibroma_original_ISIC_0026471.jpg_283b8130-460d-4ad3-ada6-d816092030c2.jpg',\n",
              " '/content/CNN_assignment/Skin cancer ISIC The International Skin Imaging Collaboration/Train/dermatofibroma/output/dermatofibroma_original_ISIC_0030321.jpg_19f75471-9588-416d-a6e7-4b20bdf67219.jpg',\n",
              " '/content/CNN_assignment/Skin cancer ISIC The International Skin Imaging Collaboration/Train/pigmented benign keratosis/output/pigmented benign keratosis_original_ISIC_0027017.jpg_ff497a2e-57a2-4046-8b37-5dd716bed9bf.jpg',\n",
              " '/content/CNN_assignment/Skin cancer ISIC The International Skin Imaging Collaboration/Train/pigmented benign keratosis/output/pigmented benign keratosis_original_ISIC_0024761.jpg_ec86647d-a014-4959-8af9-615c27b7d624.jpg',\n",
              " '/content/CNN_assignment/Skin cancer ISIC The International Skin Imaging Collaboration/Train/pigmented benign keratosis/output/pigmented benign keratosis_original_ISIC_0028451.jpg_683c2ea3-91d4-4897-891c-d10d64007dc2.jpg',\n",
              " '/content/CNN_assignment/Skin cancer ISIC The International Skin Imaging Collaboration/Train/pigmented benign keratosis/output/pigmented benign keratosis_original_ISIC_0025984.jpg_313ad33d-6652-46e9-b13a-d14860680495.jpg',\n",
              " '/content/CNN_assignment/Skin cancer ISIC The International Skin Imaging Collaboration/Train/pigmented benign keratosis/output/pigmented benign keratosis_original_ISIC_0026409.jpg_4e2c30a9-7272-40a4-8e60-9a3f18e0f82c.jpg',\n",
              " '/content/CNN_assignment/Skin cancer ISIC The International Skin Imaging Collaboration/Train/pigmented benign keratosis/output/pigmented benign keratosis_original_ISIC_0025703.jpg_1409fbb0-0e4a-4c8f-9d7f-992e17bba904.jpg',\n",
              " '/content/CNN_assignment/Skin cancer ISIC The International Skin Imaging Collaboration/Train/pigmented benign keratosis/output/pigmented benign keratosis_original_ISIC_0028100.jpg_cab6cb6e-4cec-4724-bdfe-93bc0d6d04b1.jpg',\n",
              " '/content/CNN_assignment/Skin cancer ISIC The International Skin Imaging Collaboration/Train/pigmented benign keratosis/output/pigmented benign keratosis_original_ISIC_0027335.jpg_a7594bd7-ff98-403c-9795-08d46b743397.jpg',\n",
              " '/content/CNN_assignment/Skin cancer ISIC The International Skin Imaging Collaboration/Train/pigmented benign keratosis/output/pigmented benign keratosis_original_ISIC_0027437.jpg_e5dd07d1-e746-4396-9aad-0b112ea7c982.jpg',\n",
              " '/content/CNN_assignment/Skin cancer ISIC The International Skin Imaging Collaboration/Train/pigmented benign keratosis/output/pigmented benign keratosis_original_ISIC_0024453.jpg_ed6dd3a8-a460-4975-b0e6-febf2b0ea604.jpg',\n",
              " '/content/CNN_assignment/Skin cancer ISIC The International Skin Imaging Collaboration/Train/pigmented benign keratosis/output/pigmented benign keratosis_original_ISIC_0025885.jpg_fd83b58a-4569-4185-8d61-e4192f01d96d.jpg',\n",
              " '/content/CNN_assignment/Skin cancer ISIC The International Skin Imaging Collaboration/Train/pigmented benign keratosis/output/pigmented benign keratosis_original_ISIC_0028123.jpg_6058ac56-a635-4764-b2b7-cf6dcb319396.jpg',\n",
              " '/content/CNN_assignment/Skin cancer ISIC The International Skin Imaging Collaboration/Train/pigmented benign keratosis/output/pigmented benign keratosis_original_ISIC_0025180.jpg_58d0a21d-fd83-4ea4-b88f-ae6da4627ee8.jpg',\n",
              " '/content/CNN_assignment/Skin cancer ISIC The International Skin Imaging Collaboration/Train/pigmented benign keratosis/output/pigmented benign keratosis_original_ISIC_0024643.jpg_62126c61-f5c5-4622-afd0-6bcb57604fcb.jpg',\n",
              " '/content/CNN_assignment/Skin cancer ISIC The International Skin Imaging Collaboration/Train/pigmented benign keratosis/output/pigmented benign keratosis_original_ISIC_0025434.jpg_84bfe631-18fe-4afd-a1f6-201cf0460e2a.jpg',\n",
              " '/content/CNN_assignment/Skin cancer ISIC The International Skin Imaging Collaboration/Train/pigmented benign keratosis/output/pigmented benign keratosis_original_ISIC_0025743.jpg_3e461c36-bd44-4222-a315-a18167c8a64a.jpg',\n",
              " '/content/CNN_assignment/Skin cancer ISIC The International Skin Imaging Collaboration/Train/pigmented benign keratosis/output/pigmented benign keratosis_original_ISIC_0024997.jpg_c14d56df-0210-44c1-b7f9-17dbc7522c96.jpg',\n",
              " '/content/CNN_assignment/Skin cancer ISIC The International Skin Imaging Collaboration/Train/pigmented benign keratosis/output/pigmented benign keratosis_original_ISIC_0027806.jpg_78c87992-f9e4-4254-ada9-7dd5931abd29.jpg',\n",
              " '/content/CNN_assignment/Skin cancer ISIC The International Skin Imaging Collaboration/Train/pigmented benign keratosis/output/pigmented benign keratosis_original_ISIC_0028043.jpg_c134373e-01b2-42df-a0a5-064a218f3561.jpg',\n",
              " '/content/CNN_assignment/Skin cancer ISIC The International Skin Imaging Collaboration/Train/pigmented benign keratosis/output/pigmented benign keratosis_original_ISIC_0028479.jpg_73a95f6a-7b6b-4554-a9a4-28e23c798c2d.jpg',\n",
              " '/content/CNN_assignment/Skin cancer ISIC The International Skin Imaging Collaboration/Train/pigmented benign keratosis/output/pigmented benign keratosis_original_ISIC_0026631.jpg_ba8e3eb0-dbcf-4b53-b47f-7929c75d5cad.jpg',\n",
              " '/content/CNN_assignment/Skin cancer ISIC The International Skin Imaging Collaboration/Train/pigmented benign keratosis/output/pigmented benign keratosis_original_ISIC_0025856.jpg_03b47ff8-171b-4a1e-bcbc-38cd6db4644d.jpg',\n",
              " '/content/CNN_assignment/Skin cancer ISIC The International Skin Imaging Collaboration/Train/pigmented benign keratosis/output/pigmented benign keratosis_original_ISIC_0027023.jpg_166e02a8-9aae-4f2e-ba84-363a996ea813.jpg',\n",
              " '/content/CNN_assignment/Skin cancer ISIC The International Skin Imaging Collaboration/Train/pigmented benign keratosis/output/pigmented benign keratosis_original_ISIC_0026444.jpg_f8ff7098-eb03-47be-9ca5-17b583249398.jpg',\n",
              " '/content/CNN_assignment/Skin cancer ISIC The International Skin Imaging Collaboration/Train/pigmented benign keratosis/output/pigmented benign keratosis_original_ISIC_0028560.jpg_a065a7b2-dcf3-46e9-9279-aea044f9066d.jpg',\n",
              " '/content/CNN_assignment/Skin cancer ISIC The International Skin Imaging Collaboration/Train/pigmented benign keratosis/output/pigmented benign keratosis_original_ISIC_0028123.jpg_d6a02786-f1c9-40be-b52b-55f12fa4dc8f.jpg',\n",
              " '/content/CNN_assignment/Skin cancer ISIC The International Skin Imaging Collaboration/Train/pigmented benign keratosis/output/pigmented benign keratosis_original_ISIC_0027388.jpg_a7ef8154-e2d8-418a-967a-84ce3e421aae.jpg',\n",
              " '/content/CNN_assignment/Skin cancer ISIC The International Skin Imaging Collaboration/Train/pigmented benign keratosis/output/pigmented benign keratosis_original_ISIC_0026907.jpg_2f4af8f7-232a-4794-9604-b01d7ac220b4.jpg',\n",
              " '/content/CNN_assignment/Skin cancer ISIC The International Skin Imaging Collaboration/Train/pigmented benign keratosis/output/pigmented benign keratosis_original_ISIC_0026249.jpg_cba59207-0882-4710-abf5-8fd7d9e46e71.jpg',\n",
              " '/content/CNN_assignment/Skin cancer ISIC The International Skin Imaging Collaboration/Train/pigmented benign keratosis/output/pigmented benign keratosis_original_ISIC_0027470.jpg_cee1d25e-8887-4a13-b233-bdc24b24f0c8.jpg',\n",
              " '/content/CNN_assignment/Skin cancer ISIC The International Skin Imaging Collaboration/Train/pigmented benign keratosis/output/pigmented benign keratosis_original_ISIC_0024726.jpg_cca1adb3-b6fd-44db-b0f1-765b14ef6927.jpg',\n",
              " '/content/CNN_assignment/Skin cancer ISIC The International Skin Imaging Collaboration/Train/pigmented benign keratosis/output/pigmented benign keratosis_original_ISIC_0027606.jpg_a8bb1c50-4774-4d56-ac26-bf76884c991c.jpg',\n",
              " '/content/CNN_assignment/Skin cancer ISIC The International Skin Imaging Collaboration/Train/pigmented benign keratosis/output/pigmented benign keratosis_original_ISIC_0026644.jpg_3568c00c-d099-4d6b-b811-14bace00be5e.jpg',\n",
              " '/content/CNN_assignment/Skin cancer ISIC The International Skin Imaging Collaboration/Train/pigmented benign keratosis/output/pigmented benign keratosis_original_ISIC_0026941.jpg_eaf7e6a1-25b4-4838-95e0-4dfb4cfb5f47.jpg',\n",
              " '/content/CNN_assignment/Skin cancer ISIC The International Skin Imaging Collaboration/Train/pigmented benign keratosis/output/pigmented benign keratosis_original_ISIC_0024489.jpg_4a0f8bb4-a78a-489b-82a3-1a6c95fae899.jpg',\n",
              " '/content/CNN_assignment/Skin cancer ISIC The International Skin Imaging Collaboration/Train/pigmented benign keratosis/output/pigmented benign keratosis_original_ISIC_0025032.jpg_0db0fcf6-a9cc-40f4-bbf7-aea49cdf270c.jpg',\n",
              " '/content/CNN_assignment/Skin cancer ISIC The International Skin Imaging Collaboration/Train/pigmented benign keratosis/output/pigmented benign keratosis_original_ISIC_0026046.jpg_a17cdf4b-30b7-4e2b-b2c9-1b7fc4b1491c.jpg',\n",
              " '/content/CNN_assignment/Skin cancer ISIC The International Skin Imaging Collaboration/Train/pigmented benign keratosis/output/pigmented benign keratosis_original_ISIC_0025973.jpg_c1b8c1cf-161a-4bcc-8175-a408af57005c.jpg',\n",
              " '/content/CNN_assignment/Skin cancer ISIC The International Skin Imaging Collaboration/Train/pigmented benign keratosis/output/pigmented benign keratosis_original_ISIC_0025937.jpg_dfe341bd-f155-4fe1-be56-80ca68923c0e.jpg',\n",
              " '/content/CNN_assignment/Skin cancer ISIC The International Skin Imaging Collaboration/Train/pigmented benign keratosis/output/pigmented benign keratosis_original_ISIC_0028354.jpg_8bdb9792-9312-4fb8-8521-eb246a07be10.jpg',\n",
              " '/content/CNN_assignment/Skin cancer ISIC The International Skin Imaging Collaboration/Train/pigmented benign keratosis/output/pigmented benign keratosis_original_ISIC_0025131.jpg_9bc88e3b-8454-468c-b66b-a89a9dda926a.jpg',\n",
              " '/content/CNN_assignment/Skin cancer ISIC The International Skin Imaging Collaboration/Train/pigmented benign keratosis/output/pigmented benign keratosis_original_ISIC_0025209.jpg_537039f4-e800-43e2-bf36-bfc0456877bb.jpg',\n",
              " '/content/CNN_assignment/Skin cancer ISIC The International Skin Imaging Collaboration/Train/pigmented benign keratosis/output/pigmented benign keratosis_original_ISIC_0024612.jpg_6986304a-f636-4983-a309-e39b933fec6a.jpg',\n",
              " '/content/CNN_assignment/Skin cancer ISIC The International Skin Imaging Collaboration/Train/pigmented benign keratosis/output/pigmented benign keratosis_original_ISIC_0028123.jpg_303944e1-2edc-4780-b858-9f30df9db1ac.jpg',\n",
              " '/content/CNN_assignment/Skin cancer ISIC The International Skin Imaging Collaboration/Train/pigmented benign keratosis/output/pigmented benign keratosis_original_ISIC_0025777.jpg_9e6488ce-a386-4d3e-9f5b-ca13dabf9db8.jpg',\n",
              " '/content/CNN_assignment/Skin cancer ISIC The International Skin Imaging Collaboration/Train/pigmented benign keratosis/output/pigmented benign keratosis_original_ISIC_0028496.jpg_007cfc3b-cd3d-486f-bf87-acb5181b9c8f.jpg',\n",
              " '/content/CNN_assignment/Skin cancer ISIC The International Skin Imaging Collaboration/Train/pigmented benign keratosis/output/pigmented benign keratosis_original_ISIC_0026959.jpg_d679656e-5296-43d9-ac78-fd39eb63b2f2.jpg',\n",
              " '/content/CNN_assignment/Skin cancer ISIC The International Skin Imaging Collaboration/Train/pigmented benign keratosis/output/pigmented benign keratosis_original_ISIC_0026576.jpg_805b8004-21f7-4441-8eee-6e13ef58b2ea.jpg',\n",
              " '/content/CNN_assignment/Skin cancer ISIC The International Skin Imaging Collaboration/Train/pigmented benign keratosis/output/pigmented benign keratosis_original_ISIC_0024696.jpg_63680724-998d-43b4-94b7-4ecf7770811a.jpg',\n",
              " '/content/CNN_assignment/Skin cancer ISIC The International Skin Imaging Collaboration/Train/pigmented benign keratosis/output/pigmented benign keratosis_original_ISIC_0028201.jpg_14844b80-4e07-4493-8b75-e0810db242b4.jpg',\n",
              " '/content/CNN_assignment/Skin cancer ISIC The International Skin Imaging Collaboration/Train/pigmented benign keratosis/output/pigmented benign keratosis_original_ISIC_0027801.jpg_882d8790-0725-4682-bcfe-2c768e1d3f8a.jpg',\n",
              " '/content/CNN_assignment/Skin cancer ISIC The International Skin Imaging Collaboration/Train/pigmented benign keratosis/output/pigmented benign keratosis_original_ISIC_0026846.jpg_9115487a-5fd0-4826-ab99-b7373666e58d.jpg',\n",
              " '/content/CNN_assignment/Skin cancer ISIC The International Skin Imaging Collaboration/Train/pigmented benign keratosis/output/pigmented benign keratosis_original_ISIC_0026262.jpg_2483d597-fe3e-409d-92b9-97fd00e5ca2d.jpg',\n",
              " '/content/CNN_assignment/Skin cancer ISIC The International Skin Imaging Collaboration/Train/pigmented benign keratosis/output/pigmented benign keratosis_original_ISIC_0025131.jpg_9d0d6f30-e9bb-4111-99bf-2922d1b9c13d.jpg',\n",
              " '/content/CNN_assignment/Skin cancer ISIC The International Skin Imaging Collaboration/Train/pigmented benign keratosis/output/pigmented benign keratosis_original_ISIC_0027706.jpg_7be1dc6d-b308-4399-ac96-67e6dc4dab57.jpg',\n",
              " '/content/CNN_assignment/Skin cancer ISIC The International Skin Imaging Collaboration/Train/pigmented benign keratosis/output/pigmented benign keratosis_original_ISIC_0025099.jpg_1cbbc913-9c8a-4630-a7bd-2814384386c4.jpg',\n",
              " '/content/CNN_assignment/Skin cancer ISIC The International Skin Imaging Collaboration/Train/pigmented benign keratosis/output/pigmented benign keratosis_original_ISIC_0027167.jpg_eb434862-4540-464a-bfa5-1427764d3b80.jpg',\n",
              " '/content/CNN_assignment/Skin cancer ISIC The International Skin Imaging Collaboration/Train/pigmented benign keratosis/output/pigmented benign keratosis_original_ISIC_0028449.jpg_b5996dd9-da9f-45fc-a2d4-95729c3d673c.jpg',\n",
              " '/content/CNN_assignment/Skin cancer ISIC The International Skin Imaging Collaboration/Train/pigmented benign keratosis/output/pigmented benign keratosis_original_ISIC_0027367.jpg_545add00-4250-4167-83c5-5d6a613ba8df.jpg',\n",
              " '/content/CNN_assignment/Skin cancer ISIC The International Skin Imaging Collaboration/Train/pigmented benign keratosis/output/pigmented benign keratosis_original_ISIC_0027612.jpg_2d3f2ad2-1035-4cda-9dec-ecf7c2513ad4.jpg',\n",
              " '/content/CNN_assignment/Skin cancer ISIC The International Skin Imaging Collaboration/Train/pigmented benign keratosis/output/pigmented benign keratosis_original_ISIC_0026717.jpg_dd6d1347-7117-4093-a34b-e50eb0a3009a.jpg',\n",
              " '/content/CNN_assignment/Skin cancer ISIC The International Skin Imaging Collaboration/Train/pigmented benign keratosis/output/pigmented benign keratosis_original_ISIC_0026446.jpg_f2d882e6-9b9d-4446-a7cc-23fd5c3da7e0.jpg',\n",
              " '/content/CNN_assignment/Skin cancer ISIC The International Skin Imaging Collaboration/Train/pigmented benign keratosis/output/pigmented benign keratosis_original_ISIC_0027041.jpg_d088eb04-fd8d-47f7-80e4-9f92b6bafc63.jpg',\n",
              " '/content/CNN_assignment/Skin cancer ISIC The International Skin Imaging Collaboration/Train/pigmented benign keratosis/output/pigmented benign keratosis_original_ISIC_0027606.jpg_62c6f11a-401f-4b04-8eec-8da0c3e13b2c.jpg',\n",
              " '/content/CNN_assignment/Skin cancer ISIC The International Skin Imaging Collaboration/Train/pigmented benign keratosis/output/pigmented benign keratosis_original_ISIC_0025876.jpg_523e923e-1b13-414e-b673-9d010b660ab6.jpg',\n",
              " '/content/CNN_assignment/Skin cancer ISIC The International Skin Imaging Collaboration/Train/pigmented benign keratosis/output/pigmented benign keratosis_original_ISIC_0028388.jpg_5f9e4d34-3237-4ebf-a37c-b1c61bf90314.jpg',\n",
              " '/content/CNN_assignment/Skin cancer ISIC The International Skin Imaging Collaboration/Train/pigmented benign keratosis/output/pigmented benign keratosis_original_ISIC_0024635.jpg_ef86e7b5-53e6-41c3-9c7b-fd80240f6e63.jpg',\n",
              " '/content/CNN_assignment/Skin cancer ISIC The International Skin Imaging Collaboration/Train/pigmented benign keratosis/output/pigmented benign keratosis_original_ISIC_0027680.jpg_eda19d99-c15e-4a94-a9aa-e139c2e63742.jpg',\n",
              " '/content/CNN_assignment/Skin cancer ISIC The International Skin Imaging Collaboration/Train/pigmented benign keratosis/output/pigmented benign keratosis_original_ISIC_0028662.jpg_ff31908a-b9d7-43db-91af-a50eef48b9ff.jpg',\n",
              " '/content/CNN_assignment/Skin cancer ISIC The International Skin Imaging Collaboration/Train/pigmented benign keratosis/output/pigmented benign keratosis_original_ISIC_0026675.jpg_3d79b00d-2527-4e4f-aa2a-21cd2057ff76.jpg',\n",
              " '/content/CNN_assignment/Skin cancer ISIC The International Skin Imaging Collaboration/Train/pigmented benign keratosis/output/pigmented benign keratosis_original_ISIC_0027202.jpg_dd895ad6-2fc0-4dd1-9825-6ce464770427.jpg',\n",
              " '/content/CNN_assignment/Skin cancer ISIC The International Skin Imaging Collaboration/Train/pigmented benign keratosis/output/pigmented benign keratosis_original_ISIC_0025567.jpg_41204da7-9f66-4da1-8d1a-f69289d075de.jpg',\n",
              " '/content/CNN_assignment/Skin cancer ISIC The International Skin Imaging Collaboration/Train/pigmented benign keratosis/output/pigmented benign keratosis_original_ISIC_0027957.jpg_dfd06e9f-7a5b-4f10-a7d4-9ba02202b380.jpg',\n",
              " '/content/CNN_assignment/Skin cancer ISIC The International Skin Imaging Collaboration/Train/pigmented benign keratosis/output/pigmented benign keratosis_original_ISIC_0027355.jpg_8176f811-240e-4078-9b63-5e995e09ca5b.jpg',\n",
              " '/content/CNN_assignment/Skin cancer ISIC The International Skin Imaging Collaboration/Train/pigmented benign keratosis/output/pigmented benign keratosis_original_ISIC_0026335.jpg_cf03fec6-6714-4845-88b8-48c7247f50e6.jpg',\n",
              " '/content/CNN_assignment/Skin cancer ISIC The International Skin Imaging Collaboration/Train/pigmented benign keratosis/output/pigmented benign keratosis_original_ISIC_0027154.jpg_dbf96ab5-f3c2-4ecf-8cc9-b596ec8c0e85.jpg',\n",
              " '/content/CNN_assignment/Skin cancer ISIC The International Skin Imaging Collaboration/Train/pigmented benign keratosis/output/pigmented benign keratosis_original_ISIC_0027470.jpg_87f8655a-d6c0-486b-ac46-8e8fdad1c358.jpg',\n",
              " '/content/CNN_assignment/Skin cancer ISIC The International Skin Imaging Collaboration/Train/pigmented benign keratosis/output/pigmented benign keratosis_original_ISIC_0026744.jpg_d8a7372e-4160-4181-8f18-40aa57cb3f21.jpg',\n",
              " '/content/CNN_assignment/Skin cancer ISIC The International Skin Imaging Collaboration/Train/pigmented benign keratosis/output/pigmented benign keratosis_original_ISIC_0025180.jpg_8ca1c346-9102-493f-aee7-173c937bfb80.jpg',\n",
              " '/content/CNN_assignment/Skin cancer ISIC The International Skin Imaging Collaboration/Train/pigmented benign keratosis/output/pigmented benign keratosis_original_ISIC_0024711.jpg_bd834790-6c7e-4c4f-ae1f-b9f6ea2c4a3b.jpg',\n",
              " '/content/CNN_assignment/Skin cancer ISIC The International Skin Imaging Collaboration/Train/pigmented benign keratosis/output/pigmented benign keratosis_original_ISIC_0028496.jpg_d5e143bd-0a66-4647-b3c6-b80e7c07c206.jpg',\n",
              " '/content/CNN_assignment/Skin cancer ISIC The International Skin Imaging Collaboration/Train/pigmented benign keratosis/output/pigmented benign keratosis_original_ISIC_0026416.jpg_9845ce7a-79bd-42f7-a337-f985c603dc39.jpg',\n",
              " '/content/CNN_assignment/Skin cancer ISIC The International Skin Imaging Collaboration/Train/pigmented benign keratosis/output/pigmented benign keratosis_original_ISIC_0026139.jpg_76d022bd-1ebc-49e8-8cd9-b32f4e2e1e02.jpg',\n",
              " '/content/CNN_assignment/Skin cancer ISIC The International Skin Imaging Collaboration/Train/pigmented benign keratosis/output/pigmented benign keratosis_original_ISIC_0024495.jpg_aa4e6449-0a56-4e7e-8da8-358e7d3346eb.jpg',\n",
              " '/content/CNN_assignment/Skin cancer ISIC The International Skin Imaging Collaboration/Train/pigmented benign keratosis/output/pigmented benign keratosis_original_ISIC_0026046.jpg_59d51583-0de1-4f86-a23a-6c16fc7d6b17.jpg',\n",
              " '/content/CNN_assignment/Skin cancer ISIC The International Skin Imaging Collaboration/Train/pigmented benign keratosis/output/pigmented benign keratosis_original_ISIC_0025032.jpg_7a3893ba-2ddc-45d3-8b88-ee4e163b52c7.jpg',\n",
              " '/content/CNN_assignment/Skin cancer ISIC The International Skin Imaging Collaboration/Train/pigmented benign keratosis/output/pigmented benign keratosis_original_ISIC_0028120.jpg_82a71d32-1e94-4e8d-a51f-24f305a59db0.jpg',\n",
              " '/content/CNN_assignment/Skin cancer ISIC The International Skin Imaging Collaboration/Train/pigmented benign keratosis/output/pigmented benign keratosis_original_ISIC_0024592.jpg_8003c07a-0ea5-42ba-ac27-47624c162360.jpg',\n",
              " '/content/CNN_assignment/Skin cancer ISIC The International Skin Imaging Collaboration/Train/pigmented benign keratosis/output/pigmented benign keratosis_original_ISIC_0025454.jpg_6ba9bdce-cfff-4700-adbb-9f6b9a9203ff.jpg',\n",
              " '/content/CNN_assignment/Skin cancer ISIC The International Skin Imaging Collaboration/Train/pigmented benign keratosis/output/pigmented benign keratosis_original_ISIC_0026959.jpg_88bb893a-87e7-4d43-b9c1-c8f6d648609b.jpg',\n",
              " '/content/CNN_assignment/Skin cancer ISIC The International Skin Imaging Collaboration/Train/pigmented benign keratosis/output/pigmented benign keratosis_original_ISIC_0028104.jpg_8f90b601-2f18-41cb-b118-4208b92b050e.jpg',\n",
              " '/content/CNN_assignment/Skin cancer ISIC The International Skin Imaging Collaboration/Train/pigmented benign keratosis/output/pigmented benign keratosis_original_ISIC_0027023.jpg_cd802093-91bc-46f5-b033-a5038704b297.jpg',\n",
              " '/content/CNN_assignment/Skin cancer ISIC The International Skin Imaging Collaboration/Train/pigmented benign keratosis/output/pigmented benign keratosis_original_ISIC_0027820.jpg_02d75570-0033-4cd0-9624-63888ee94a37.jpg',\n",
              " '/content/CNN_assignment/Skin cancer ISIC The International Skin Imaging Collaboration/Train/pigmented benign keratosis/output/pigmented benign keratosis_original_ISIC_0026446.jpg_ab86a9e4-1584-4d1f-a2c2-8f59fef4bc0e.jpg',\n",
              " '/content/CNN_assignment/Skin cancer ISIC The International Skin Imaging Collaboration/Train/pigmented benign keratosis/output/pigmented benign keratosis_original_ISIC_0027270.jpg_196461c1-bc55-46cd-94a2-30b6b299f6f8.jpg',\n",
              " '/content/CNN_assignment/Skin cancer ISIC The International Skin Imaging Collaboration/Train/pigmented benign keratosis/output/pigmented benign keratosis_original_ISIC_0027859.jpg_d1747b7e-db01-49bb-929f-c349d3241e06.jpg',\n",
              " '/content/CNN_assignment/Skin cancer ISIC The International Skin Imaging Collaboration/Train/pigmented benign keratosis/output/pigmented benign keratosis_original_ISIC_0026139.jpg_ad6313ff-3dfc-48b2-ad91-177b9ae2ecd5.jpg',\n",
              " '/content/CNN_assignment/Skin cancer ISIC The International Skin Imaging Collaboration/Train/pigmented benign keratosis/output/pigmented benign keratosis_original_ISIC_0027826.jpg_96a1997f-76d4-4962-8d2f-0cfde5655e8f.jpg',\n",
              " '/content/CNN_assignment/Skin cancer ISIC The International Skin Imaging Collaboration/Train/pigmented benign keratosis/output/pigmented benign keratosis_original_ISIC_0028389.jpg_749c7f9f-7e35-4aa7-bea5-e702ee9ffee2.jpg',\n",
              " '/content/CNN_assignment/Skin cancer ISIC The International Skin Imaging Collaboration/Train/pigmented benign keratosis/output/pigmented benign keratosis_original_ISIC_0027162.jpg_d336f755-0c91-47a3-ae2a-11a635f75e36.jpg',\n",
              " '/content/CNN_assignment/Skin cancer ISIC The International Skin Imaging Collaboration/Train/pigmented benign keratosis/output/pigmented benign keratosis_original_ISIC_0028615.jpg_25c49564-9b8a-40b8-8f1f-919d4dc75529.jpg',\n",
              " '/content/CNN_assignment/Skin cancer ISIC The International Skin Imaging Collaboration/Train/pigmented benign keratosis/output/pigmented benign keratosis_original_ISIC_0024970.jpg_bb238836-0153-4126-a124-c6d7eee1c420.jpg',\n",
              " '/content/CNN_assignment/Skin cancer ISIC The International Skin Imaging Collaboration/Train/pigmented benign keratosis/output/pigmented benign keratosis_original_ISIC_0027806.jpg_ea87253d-7441-44a0-8dae-c67872519cce.jpg',\n",
              " '/content/CNN_assignment/Skin cancer ISIC The International Skin Imaging Collaboration/Train/pigmented benign keratosis/output/pigmented benign keratosis_original_ISIC_0025016.jpg_89ffd6ef-7b9f-4b76-a4d1-10ee9760748b.jpg',\n",
              " '/content/CNN_assignment/Skin cancer ISIC The International Skin Imaging Collaboration/Train/pigmented benign keratosis/output/pigmented benign keratosis_original_ISIC_0025470.jpg_85f145fc-25ad-4442-835e-ea6bf23d38fb.jpg',\n",
              " '/content/CNN_assignment/Skin cancer ISIC The International Skin Imaging Collaboration/Train/pigmented benign keratosis/output/pigmented benign keratosis_original_ISIC_0026842.jpg_240f5c35-3bf2-4f83-8a90-2626014cf2c6.jpg',\n",
              " '/content/CNN_assignment/Skin cancer ISIC The International Skin Imaging Collaboration/Train/pigmented benign keratosis/output/pigmented benign keratosis_original_ISIC_0026679.jpg_03d062e7-ca5f-4fe4-ac26-53dfe13cd282.jpg',\n",
              " '/content/CNN_assignment/Skin cancer ISIC The International Skin Imaging Collaboration/Train/pigmented benign keratosis/output/pigmented benign keratosis_original_ISIC_0027142.jpg_2e995572-5d4d-4aa7-9273-86c7921a4da7.jpg',\n",
              " '/content/CNN_assignment/Skin cancer ISIC The International Skin Imaging Collaboration/Train/pigmented benign keratosis/output/pigmented benign keratosis_original_ISIC_0026947.jpg_f36d1de9-17c8-4daf-bc5c-533fd10d4fc8.jpg',\n",
              " '/content/CNN_assignment/Skin cancer ISIC The International Skin Imaging Collaboration/Train/pigmented benign keratosis/output/pigmented benign keratosis_original_ISIC_0028223.jpg_7d19799c-f704-4b22-bd69-49284a29e834.jpg',\n",
              " '/content/CNN_assignment/Skin cancer ISIC The International Skin Imaging Collaboration/Train/pigmented benign keratosis/output/pigmented benign keratosis_original_ISIC_0027960.jpg_811c2ca7-6923-40a8-ba1d-4bd2e5a0e657.jpg',\n",
              " '/content/CNN_assignment/Skin cancer ISIC The International Skin Imaging Collaboration/Train/pigmented benign keratosis/output/pigmented benign keratosis_original_ISIC_0026107.jpg_449d7438-2fd9-416e-9083-0c9c0c59d7ea.jpg',\n",
              " '/content/CNN_assignment/Skin cancer ISIC The International Skin Imaging Collaboration/Train/pigmented benign keratosis/output/pigmented benign keratosis_original_ISIC_0026893.jpg_ffe127ac-e482-4709-bfc9-ce7fed22846b.jpg',\n",
              " '/content/CNN_assignment/Skin cancer ISIC The International Skin Imaging Collaboration/Train/pigmented benign keratosis/output/pigmented benign keratosis_original_ISIC_0024883.jpg_4408c94c-8200-4c46-81aa-eedad44cebaf.jpg',\n",
              " '/content/CNN_assignment/Skin cancer ISIC The International Skin Imaging Collaboration/Train/pigmented benign keratosis/output/pigmented benign keratosis_original_ISIC_0026286.jpg_e88e06a4-43b7-43b9-ae58-8ea551d163bc.jpg',\n",
              " '/content/CNN_assignment/Skin cancer ISIC The International Skin Imaging Collaboration/Train/pigmented benign keratosis/output/pigmented benign keratosis_original_ISIC_0027747.jpg_6b89e457-cd85-4c99-9ab8-c05260a993d2.jpg',\n",
              " '/content/CNN_assignment/Skin cancer ISIC The International Skin Imaging Collaboration/Train/pigmented benign keratosis/output/pigmented benign keratosis_original_ISIC_0024971.jpg_bff26092-5280-408b-bc8c-5196d3761a60.jpg',\n",
              " '/content/CNN_assignment/Skin cancer ISIC The International Skin Imaging Collaboration/Train/pigmented benign keratosis/output/pigmented benign keratosis_original_ISIC_0024970.jpg_a91212fe-ddde-4a69-a165-a9765d8ea6a7.jpg',\n",
              " '/content/CNN_assignment/Skin cancer ISIC The International Skin Imaging Collaboration/Train/pigmented benign keratosis/output/pigmented benign keratosis_original_ISIC_0026769.jpg_64789dc4-db89-411c-9108-fc696f3d17a7.jpg',\n",
              " '/content/CNN_assignment/Skin cancer ISIC The International Skin Imaging Collaboration/Train/pigmented benign keratosis/output/pigmented benign keratosis_original_ISIC_0025292.jpg_fd8d2ae7-008c-4a9a-960b-4654a9570001.jpg',\n",
              " '/content/CNN_assignment/Skin cancer ISIC The International Skin Imaging Collaboration/Train/pigmented benign keratosis/output/pigmented benign keratosis_original_ISIC_0025515.jpg_98e640c5-3ae4-4a7e-9f5e-73567c28e2c8.jpg',\n",
              " '/content/CNN_assignment/Skin cancer ISIC The International Skin Imaging Collaboration/Train/pigmented benign keratosis/output/pigmented benign keratosis_original_ISIC_0025136.jpg_a7025cdc-8a94-4618-a405-c10546b618fd.jpg',\n",
              " '/content/CNN_assignment/Skin cancer ISIC The International Skin Imaging Collaboration/Train/pigmented benign keratosis/output/pigmented benign keratosis_original_ISIC_0026607.jpg_0ec1afca-3618-41f7-a73c-fd2c74485806.jpg',\n",
              " '/content/CNN_assignment/Skin cancer ISIC The International Skin Imaging Collaboration/Train/pigmented benign keratosis/output/pigmented benign keratosis_original_ISIC_0027275.jpg_b3259ab5-5eee-4283-aaf6-85411f56fec2.jpg',\n",
              " '/content/CNN_assignment/Skin cancer ISIC The International Skin Imaging Collaboration/Train/pigmented benign keratosis/output/pigmented benign keratosis_original_ISIC_0024489.jpg_62ad60ae-cc99-4161-ac0f-b7445084f5f1.jpg',\n",
              " '/content/CNN_assignment/Skin cancer ISIC The International Skin Imaging Collaboration/Train/pigmented benign keratosis/output/pigmented benign keratosis_original_ISIC_0027527.jpg_a50ed66a-8884-4eae-aa7d-1545f650a912.jpg',\n",
              " '/content/CNN_assignment/Skin cancer ISIC The International Skin Imaging Collaboration/Train/pigmented benign keratosis/output/pigmented benign keratosis_original_ISIC_0028389.jpg_9fb54ad8-fd73-48ac-9404-972cf5998a74.jpg',\n",
              " '/content/CNN_assignment/Skin cancer ISIC The International Skin Imaging Collaboration/Train/pigmented benign keratosis/output/pigmented benign keratosis_original_ISIC_0025883.jpg_56e64d5f-f183-4fb0-ac1b-490b71695dc0.jpg',\n",
              " '/content/CNN_assignment/Skin cancer ISIC The International Skin Imaging Collaboration/Train/pigmented benign keratosis/output/pigmented benign keratosis_original_ISIC_0024839.jpg_bb69dbd1-a7eb-4b69-9608-53210f75180d.jpg',\n",
              " '/content/CNN_assignment/Skin cancer ISIC The International Skin Imaging Collaboration/Train/pigmented benign keratosis/output/pigmented benign keratosis_original_ISIC_0027354.jpg_91ed6a09-7c63-42ac-b099-ffc6cb060904.jpg',\n",
              " '/content/CNN_assignment/Skin cancer ISIC The International Skin Imaging Collaboration/Train/pigmented benign keratosis/output/pigmented benign keratosis_original_ISIC_0028124.jpg_47c0ff72-28db-45d0-887c-e4f215ccf352.jpg',\n",
              " '/content/CNN_assignment/Skin cancer ISIC The International Skin Imaging Collaboration/Train/pigmented benign keratosis/output/pigmented benign keratosis_original_ISIC_0026044.jpg_14dc36f7-3c8e-45df-847f-6e27f55dbc2d.jpg',\n",
              " '/content/CNN_assignment/Skin cancer ISIC The International Skin Imaging Collaboration/Train/pigmented benign keratosis/output/pigmented benign keratosis_original_ISIC_0025716.jpg_1cdebc24-6814-4191-9508-31dfa191719b.jpg',\n",
              " '/content/CNN_assignment/Skin cancer ISIC The International Skin Imaging Collaboration/Train/pigmented benign keratosis/output/pigmented benign keratosis_original_ISIC_0025470.jpg_149ac96e-0878-4e79-992b-11d37745e971.jpg',\n",
              " '/content/CNN_assignment/Skin cancer ISIC The International Skin Imaging Collaboration/Train/pigmented benign keratosis/output/pigmented benign keratosis_original_ISIC_0024635.jpg_477f62e8-897f-4e5f-90f9-65c42e875416.jpg',\n",
              " '/content/CNN_assignment/Skin cancer ISIC The International Skin Imaging Collaboration/Train/pigmented benign keratosis/output/pigmented benign keratosis_original_ISIC_0027167.jpg_87df39cb-e026-4682-8681-f5dabbdf4e8c.jpg',\n",
              " '/content/CNN_assignment/Skin cancer ISIC The International Skin Imaging Collaboration/Train/pigmented benign keratosis/output/pigmented benign keratosis_original_ISIC_0026286.jpg_99f0c689-bc1f-4e05-9380-9fc64eb5f1eb.jpg',\n",
              " '/content/CNN_assignment/Skin cancer ISIC The International Skin Imaging Collaboration/Train/pigmented benign keratosis/output/pigmented benign keratosis_original_ISIC_0026842.jpg_179c9835-e388-4eaf-83b5-2db02d482d04.jpg',\n",
              " '/content/CNN_assignment/Skin cancer ISIC The International Skin Imaging Collaboration/Train/pigmented benign keratosis/output/pigmented benign keratosis_original_ISIC_0027737.jpg_8230d4d3-7073-4e49-8cab-d28e7d0da427.jpg',\n",
              " '/content/CNN_assignment/Skin cancer ISIC The International Skin Imaging Collaboration/Train/pigmented benign keratosis/output/pigmented benign keratosis_original_ISIC_0025746.jpg_925a3378-2e1c-4684-9c0c-fe11b1382455.jpg',\n",
              " '/content/CNN_assignment/Skin cancer ISIC The International Skin Imaging Collaboration/Train/pigmented benign keratosis/output/pigmented benign keratosis_original_ISIC_0028354.jpg_a7661664-4fc1-442e-804a-7a291ed54dec.jpg',\n",
              " '/content/CNN_assignment/Skin cancer ISIC The International Skin Imaging Collaboration/Train/pigmented benign keratosis/output/pigmented benign keratosis_original_ISIC_0028640.jpg_8a9bd508-453f-48ff-b8d0-9f36cd46ecf6.jpg',\n",
              " '/content/CNN_assignment/Skin cancer ISIC The International Skin Imaging Collaboration/Train/pigmented benign keratosis/output/pigmented benign keratosis_original_ISIC_0027960.jpg_8d163f1b-af55-4c74-84eb-e7018901f3e4.jpg',\n",
              " '/content/CNN_assignment/Skin cancer ISIC The International Skin Imaging Collaboration/Train/pigmented benign keratosis/output/pigmented benign keratosis_original_ISIC_0027025.jpg_961cc86b-e354-4677-9e38-d65fdf7ae7db.jpg',\n",
              " '/content/CNN_assignment/Skin cancer ISIC The International Skin Imaging Collaboration/Train/pigmented benign keratosis/output/pigmented benign keratosis_original_ISIC_0025075.jpg_830ce1c9-7ece-4537-8ce7-35bbdc5e2bff.jpg',\n",
              " '/content/CNN_assignment/Skin cancer ISIC The International Skin Imaging Collaboration/Train/pigmented benign keratosis/output/pigmented benign keratosis_original_ISIC_0027154.jpg_6f88d941-1d05-4210-b138-eade43be915c.jpg',\n",
              " '/content/CNN_assignment/Skin cancer ISIC The International Skin Imaging Collaboration/Train/pigmented benign keratosis/output/pigmented benign keratosis_original_ISIC_0025209.jpg_257ef6c1-0547-4d86-8aa8-383afc4a94bd.jpg',\n",
              " '/content/CNN_assignment/Skin cancer ISIC The International Skin Imaging Collaboration/Train/pigmented benign keratosis/output/pigmented benign keratosis_original_ISIC_0026159.jpg_b3ec3e0a-46e7-4442-b134-e772bb40e7e0.jpg',\n",
              " '/content/CNN_assignment/Skin cancer ISIC The International Skin Imaging Collaboration/Train/pigmented benign keratosis/output/pigmented benign keratosis_original_ISIC_0025286.jpg_cb623ed6-0838-4855-ab0e-50870a3fdb59.jpg',\n",
              " '/content/CNN_assignment/Skin cancer ISIC The International Skin Imaging Collaboration/Train/pigmented benign keratosis/output/pigmented benign keratosis_original_ISIC_0026493.jpg_6896f8d8-c0fc-4ac6-882a-08c1620b4159.jpg',\n",
              " '/content/CNN_assignment/Skin cancer ISIC The International Skin Imaging Collaboration/Train/pigmented benign keratosis/output/pigmented benign keratosis_original_ISIC_0025810.jpg_a637579b-1614-4bf9-b465-7cf242323a15.jpg',\n",
              " '/content/CNN_assignment/Skin cancer ISIC The International Skin Imaging Collaboration/Train/pigmented benign keratosis/output/pigmented benign keratosis_original_ISIC_0024758.jpg_c2cbeef5-ef1f-4be1-99ce-5ec2693f495c.jpg',\n",
              " '/content/CNN_assignment/Skin cancer ISIC The International Skin Imaging Collaboration/Train/pigmented benign keratosis/output/pigmented benign keratosis_original_ISIC_0025515.jpg_fd088f83-ba1e-4669-bfeb-4341271dfcb6.jpg',\n",
              " '/content/CNN_assignment/Skin cancer ISIC The International Skin Imaging Collaboration/Train/pigmented benign keratosis/output/pigmented benign keratosis_original_ISIC_0028180.jpg_dfa01034-db6c-4d52-aef9-272b6c43da11.jpg',\n",
              " '/content/CNN_assignment/Skin cancer ISIC The International Skin Imaging Collaboration/Train/pigmented benign keratosis/output/pigmented benign keratosis_original_ISIC_0027754.jpg_13cba7f1-846e-4274-b645-1b6c25be8726.jpg',\n",
              " '/content/CNN_assignment/Skin cancer ISIC The International Skin Imaging Collaboration/Train/pigmented benign keratosis/output/pigmented benign keratosis_original_ISIC_0024435.jpg_814262a0-f501-4bb3-85ff-8afc90fc9333.jpg',\n",
              " '/content/CNN_assignment/Skin cancer ISIC The International Skin Imaging Collaboration/Train/pigmented benign keratosis/output/pigmented benign keratosis_original_ISIC_0025431.jpg_8b7e945c-7a84-4ae2-baad-92a915788304.jpg',\n",
              " '/content/CNN_assignment/Skin cancer ISIC The International Skin Imaging Collaboration/Train/pigmented benign keratosis/output/pigmented benign keratosis_original_ISIC_0027344.jpg_0b9e7896-9194-4748-9905-a142300067bd.jpg',\n",
              " '/content/CNN_assignment/Skin cancer ISIC The International Skin Imaging Collaboration/Train/pigmented benign keratosis/output/pigmented benign keratosis_original_ISIC_0025068.jpg_0e609d88-fe8e-483f-92e4-05f5dfbf0ce8.jpg',\n",
              " '/content/CNN_assignment/Skin cancer ISIC The International Skin Imaging Collaboration/Train/pigmented benign keratosis/output/pigmented benign keratosis_original_ISIC_0025767.jpg_a9e77330-b720-4037-a9b4-369624deeb1b.jpg',\n",
              " '/content/CNN_assignment/Skin cancer ISIC The International Skin Imaging Collaboration/Train/pigmented benign keratosis/output/pigmented benign keratosis_original_ISIC_0024881.jpg_ad7ff5c2-5896-4596-8922-956e93fa48b8.jpg',\n",
              " '/content/CNN_assignment/Skin cancer ISIC The International Skin Imaging Collaboration/Train/pigmented benign keratosis/output/pigmented benign keratosis_original_ISIC_0026737.jpg_d2553625-0daa-457c-bc73-4ff6dc84ae6c.jpg',\n",
              " '/content/CNN_assignment/Skin cancer ISIC The International Skin Imaging Collaboration/Train/pigmented benign keratosis/output/pigmented benign keratosis_original_ISIC_0025661.jpg_4e153522-470f-47cb-a3dc-de8a5875e914.jpg',\n",
              " '/content/CNN_assignment/Skin cancer ISIC The International Skin Imaging Collaboration/Train/pigmented benign keratosis/output/pigmented benign keratosis_original_ISIC_0026637.jpg_07bb76f9-e3fc-4eeb-ade8-798ea91e367b.jpg',\n",
              " '/content/CNN_assignment/Skin cancer ISIC The International Skin Imaging Collaboration/Train/pigmented benign keratosis/output/pigmented benign keratosis_original_ISIC_0026737.jpg_b84ac5e4-549a-4888-ab60-bd0f765055c1.jpg',\n",
              " '/content/CNN_assignment/Skin cancer ISIC The International Skin Imaging Collaboration/Train/pigmented benign keratosis/output/pigmented benign keratosis_original_ISIC_0026961.jpg_d698cc31-16ee-4e78-bde9-a2325f9d27ff.jpg',\n",
              " '/content/CNN_assignment/Skin cancer ISIC The International Skin Imaging Collaboration/Train/pigmented benign keratosis/output/pigmented benign keratosis_original_ISIC_0026958.jpg_6a8256bc-b6e5-4da9-bd5e-ae5b1b8db00e.jpg',\n",
              " '/content/CNN_assignment/Skin cancer ISIC The International Skin Imaging Collaboration/Train/pigmented benign keratosis/output/pigmented benign keratosis_original_ISIC_0026714.jpg_5b815816-2223-4de4-a7be-e1b926ab09ac.jpg',\n",
              " '/content/CNN_assignment/Skin cancer ISIC The International Skin Imaging Collaboration/Train/pigmented benign keratosis/output/pigmented benign keratosis_original_ISIC_0024839.jpg_910dad5f-4931-4837-8bbd-56e05453ddd5.jpg',\n",
              " '/content/CNN_assignment/Skin cancer ISIC The International Skin Imaging Collaboration/Train/pigmented benign keratosis/output/pigmented benign keratosis_original_ISIC_0028611.jpg_3cd2de68-1f3a-4c15-9f07-3c82e87b0610.jpg',\n",
              " '/content/CNN_assignment/Skin cancer ISIC The International Skin Imaging Collaboration/Train/pigmented benign keratosis/output/pigmented benign keratosis_original_ISIC_0028490.jpg_cca5cc1a-a187-43db-ad4e-22d6a4813a3b.jpg',\n",
              " '/content/CNN_assignment/Skin cancer ISIC The International Skin Imaging Collaboration/Train/pigmented benign keratosis/output/pigmented benign keratosis_original_ISIC_0027455.jpg_2f6ae011-6a64-4d21-8a70-335c0bf11853.jpg',\n",
              " '/content/CNN_assignment/Skin cancer ISIC The International Skin Imaging Collaboration/Train/pigmented benign keratosis/output/pigmented benign keratosis_original_ISIC_0027435.jpg_055b76c2-5b62-488e-aa3d-3677e22f3034.jpg',\n",
              " '/content/CNN_assignment/Skin cancer ISIC The International Skin Imaging Collaboration/Train/pigmented benign keratosis/output/pigmented benign keratosis_original_ISIC_0025016.jpg_289bf9cb-e96c-4cc1-a09b-860c753198c9.jpg',\n",
              " '/content/CNN_assignment/Skin cancer ISIC The International Skin Imaging Collaboration/Train/pigmented benign keratosis/output/pigmented benign keratosis_original_ISIC_0024881.jpg_cd5ec0d9-5090-4910-a331-e2f4213c0a48.jpg',\n",
              " '/content/CNN_assignment/Skin cancer ISIC The International Skin Imaging Collaboration/Train/pigmented benign keratosis/output/pigmented benign keratosis_original_ISIC_0027202.jpg_6be727c7-02f5-4eeb-83c9-98673eabcdff.jpg',\n",
              " '/content/CNN_assignment/Skin cancer ISIC The International Skin Imaging Collaboration/Train/pigmented benign keratosis/output/pigmented benign keratosis_original_ISIC_0026961.jpg_9d1124f5-a5ba-41a4-9f13-f080440161f1.jpg',\n",
              " '/content/CNN_assignment/Skin cancer ISIC The International Skin Imaging Collaboration/Train/pigmented benign keratosis/output/pigmented benign keratosis_original_ISIC_0025209.jpg_b0530b3d-84c5-4ce6-b286-6e43c8f84057.jpg',\n",
              " '/content/CNN_assignment/Skin cancer ISIC The International Skin Imaging Collaboration/Train/pigmented benign keratosis/output/pigmented benign keratosis_original_ISIC_0027760.jpg_860de704-c477-41a4-896b-1778cc66ae0c.jpg',\n",
              " '/content/CNN_assignment/Skin cancer ISIC The International Skin Imaging Collaboration/Train/pigmented benign keratosis/output/pigmented benign keratosis_original_ISIC_0025388.jpg_8d58e786-a62d-4508-8629-0d69c965987d.jpg',\n",
              " '/content/CNN_assignment/Skin cancer ISIC The International Skin Imaging Collaboration/Train/pigmented benign keratosis/output/pigmented benign keratosis_original_ISIC_0028294.jpg_e56856a3-8497-4c64-9cca-1145d4abacd8.jpg',\n",
              " '/content/CNN_assignment/Skin cancer ISIC The International Skin Imaging Collaboration/Train/pigmented benign keratosis/output/pigmented benign keratosis_original_ISIC_0024850.jpg_7d0ee29c-60af-4595-831b-811fc08453b2.jpg',\n",
              " '/content/CNN_assignment/Skin cancer ISIC The International Skin Imaging Collaboration/Train/pigmented benign keratosis/output/pigmented benign keratosis_original_ISIC_0027953.jpg_dea24eba-b804-44ec-afbc-9b7d6adc3c8c.jpg',\n",
              " '/content/CNN_assignment/Skin cancer ISIC The International Skin Imaging Collaboration/Train/pigmented benign keratosis/output/pigmented benign keratosis_original_ISIC_0024435.jpg_4fb5ed1b-8964-40b0-a618-eeca4c163a40.jpg',\n",
              " '/content/CNN_assignment/Skin cancer ISIC The International Skin Imaging Collaboration/Train/pigmented benign keratosis/output/pigmented benign keratosis_original_ISIC_0025659.jpg_2343c545-ea03-47b2-8fc0-a4f510445f8c.jpg',\n",
              " '/content/CNN_assignment/Skin cancer ISIC The International Skin Imaging Collaboration/Train/pigmented benign keratosis/output/pigmented benign keratosis_original_ISIC_0027973.jpg_547522de-8f3e-4330-bfee-50de2b8308e9.jpg',\n",
              " '/content/CNN_assignment/Skin cancer ISIC The International Skin Imaging Collaboration/Train/pigmented benign keratosis/output/pigmented benign keratosis_original_ISIC_0028254.jpg_fb9551a9-6b43-49b6-a200-d90fb375bf03.jpg',\n",
              " '/content/CNN_assignment/Skin cancer ISIC The International Skin Imaging Collaboration/Train/pigmented benign keratosis/output/pigmented benign keratosis_original_ISIC_0025374.jpg_916f9913-1374-4857-abf2-d9ed9f3a7eea.jpg',\n",
              " '/content/CNN_assignment/Skin cancer ISIC The International Skin Imaging Collaboration/Train/pigmented benign keratosis/output/pigmented benign keratosis_original_ISIC_0026607.jpg_f61e3bb3-9b67-41fb-a560-07e00c2484be.jpg',\n",
              " '/content/CNN_assignment/Skin cancer ISIC The International Skin Imaging Collaboration/Train/pigmented benign keratosis/output/pigmented benign keratosis_original_ISIC_0028593.jpg_c5eb2427-b24f-47ed-a1e7-31683587aec8.jpg',\n",
              " '/content/CNN_assignment/Skin cancer ISIC The International Skin Imaging Collaboration/Train/pigmented benign keratosis/output/pigmented benign keratosis_original_ISIC_0026316.jpg_4bfc9d0d-5bf4-47a2-8c05-28ba0dede677.jpg',\n",
              " '/content/CNN_assignment/Skin cancer ISIC The International Skin Imaging Collaboration/Train/pigmented benign keratosis/output/pigmented benign keratosis_original_ISIC_0024672.jpg_a1b44495-1321-4da6-901b-aa2b666cb616.jpg',\n",
              " '/content/CNN_assignment/Skin cancer ISIC The International Skin Imaging Collaboration/Train/pigmented benign keratosis/output/pigmented benign keratosis_original_ISIC_0025389.jpg_ed38c0a9-a20f-48b2-a68e-95a0cec5cd4a.jpg',\n",
              " '/content/CNN_assignment/Skin cancer ISIC The International Skin Imaging Collaboration/Train/pigmented benign keratosis/output/pigmented benign keratosis_original_ISIC_0025799.jpg_96c33df0-fdde-47fa-9181-f175b15f20f9.jpg',\n",
              " '/content/CNN_assignment/Skin cancer ISIC The International Skin Imaging Collaboration/Train/pigmented benign keratosis/output/pigmented benign keratosis_original_ISIC_0028497.jpg_3611f71b-a042-4acd-b212-51297d774605.jpg',\n",
              " '/content/CNN_assignment/Skin cancer ISIC The International Skin Imaging Collaboration/Train/pigmented benign keratosis/output/pigmented benign keratosis_original_ISIC_0027960.jpg_710decd8-b4ad-4f3d-90e7-d3c06d562597.jpg',\n",
              " '/content/CNN_assignment/Skin cancer ISIC The International Skin Imaging Collaboration/Train/pigmented benign keratosis/output/pigmented benign keratosis_original_ISIC_0024915.jpg_f35aa88c-a65d-458c-9829-7c5990942f1d.jpg',\n",
              " '/content/CNN_assignment/Skin cancer ISIC The International Skin Imaging Collaboration/Train/pigmented benign keratosis/output/pigmented benign keratosis_original_ISIC_0024477.jpg_5e0e4426-ac77-4cb7-890e-35942117402c.jpg',\n",
              " '/content/CNN_assignment/Skin cancer ISIC The International Skin Imaging Collaboration/Train/pigmented benign keratosis/output/pigmented benign keratosis_original_ISIC_0025507.jpg_f5338859-6a85-45e2-b877-f8fb5d7f9cd7.jpg',\n",
              " '/content/CNN_assignment/Skin cancer ISIC The International Skin Imaging Collaboration/Train/pigmented benign keratosis/output/pigmented benign keratosis_original_ISIC_0025388.jpg_0aecae40-aed3-463d-ae6f-c96e0f9c62c6.jpg',\n",
              " '/content/CNN_assignment/Skin cancer ISIC The International Skin Imaging Collaboration/Train/pigmented benign keratosis/output/pigmented benign keratosis_original_ISIC_0025066.jpg_9ad9f2d9-9ec7-411f-bb21-962d51b0318b.jpg',\n",
              " '/content/CNN_assignment/Skin cancer ISIC The International Skin Imaging Collaboration/Train/pigmented benign keratosis/output/pigmented benign keratosis_original_ISIC_0026967.jpg_6a9f7240-070d-4dd2-a619-ca715269bc92.jpg',\n",
              " '/content/CNN_assignment/Skin cancer ISIC The International Skin Imaging Collaboration/Train/pigmented benign keratosis/output/pigmented benign keratosis_original_ISIC_0027392.jpg_dccaf2a0-8ae8-4a01-abb3-a980ab5a56f8.jpg',\n",
              " '/content/CNN_assignment/Skin cancer ISIC The International Skin Imaging Collaboration/Train/pigmented benign keratosis/output/pigmented benign keratosis_original_ISIC_0026280.jpg_2caf6d93-961e-4e75-92c1-6aea93e41ebb.jpg',\n",
              " '/content/CNN_assignment/Skin cancer ISIC The International Skin Imaging Collaboration/Train/pigmented benign keratosis/output/pigmented benign keratosis_original_ISIC_0026675.jpg_ca2fe7fb-cd09-43dd-bd64-e05319e91f38.jpg',\n",
              " '/content/CNN_assignment/Skin cancer ISIC The International Skin Imaging Collaboration/Train/pigmented benign keratosis/output/pigmented benign keratosis_original_ISIC_0026849.jpg_d7090d4c-112b-4ce2-96af-a299cd9afa7d.jpg',\n",
              " '/content/CNN_assignment/Skin cancer ISIC The International Skin Imaging Collaboration/Train/pigmented benign keratosis/output/pigmented benign keratosis_original_ISIC_0025374.jpg_be27201c-3e37-4876-a33d-83c69c5a752d.jpg',\n",
              " '/content/CNN_assignment/Skin cancer ISIC The International Skin Imaging Collaboration/Train/pigmented benign keratosis/output/pigmented benign keratosis_original_ISIC_0027509.jpg_aa747b31-2cf6-4912-b40b-8e5ee7bee2ff.jpg',\n",
              " '/content/CNN_assignment/Skin cancer ISIC The International Skin Imaging Collaboration/Train/pigmented benign keratosis/output/pigmented benign keratosis_original_ISIC_0027584.jpg_4aefe391-b34e-4221-b2be-4c83c94db5f4.jpg',\n",
              " '/content/CNN_assignment/Skin cancer ISIC The International Skin Imaging Collaboration/Train/pigmented benign keratosis/output/pigmented benign keratosis_original_ISIC_0028448.jpg_5be06317-835e-44f3-8f8a-04ddd9fc2a7f.jpg',\n",
              " '/content/CNN_assignment/Skin cancer ISIC The International Skin Imaging Collaboration/Train/pigmented benign keratosis/output/pigmented benign keratosis_original_ISIC_0027194.jpg_ac35081a-caba-4621-973c-1974fa2ed99c.jpg',\n",
              " '/content/CNN_assignment/Skin cancer ISIC The International Skin Imaging Collaboration/Train/pigmented benign keratosis/output/pigmented benign keratosis_original_ISIC_0027606.jpg_90c7e163-c2fb-45c7-b3d1-04210e741cda.jpg',\n",
              " '/content/CNN_assignment/Skin cancer ISIC The International Skin Imaging Collaboration/Train/pigmented benign keratosis/output/pigmented benign keratosis_original_ISIC_0026301.jpg_95541d37-6038-4244-b604-812ab44171d8.jpg',\n",
              " '/content/CNN_assignment/Skin cancer ISIC The International Skin Imaging Collaboration/Train/pigmented benign keratosis/output/pigmented benign keratosis_original_ISIC_0027801.jpg_454c6b31-450e-4cd3-9c71-97d086823222.jpg',\n",
              " '/content/CNN_assignment/Skin cancer ISIC The International Skin Imaging Collaboration/Train/pigmented benign keratosis/output/pigmented benign keratosis_original_ISIC_0026072.jpg_7a86e795-6aa5-4b14-abe5-ad2a71bee4a7.jpg',\n",
              " '/content/CNN_assignment/Skin cancer ISIC The International Skin Imaging Collaboration/Train/pigmented benign keratosis/output/pigmented benign keratosis_original_ISIC_0024748.jpg_5f5ee6b7-18e7-4b77-88aa-6270fe43c07a.jpg',\n",
              " '/content/CNN_assignment/Skin cancer ISIC The International Skin Imaging Collaboration/Train/pigmented benign keratosis/output/pigmented benign keratosis_original_ISIC_0027194.jpg_cba4b992-17f1-4a47-a5b3-3d999ac596c5.jpg',\n",
              " '/content/CNN_assignment/Skin cancer ISIC The International Skin Imaging Collaboration/Train/pigmented benign keratosis/output/pigmented benign keratosis_original_ISIC_0025345.jpg_9b654d5a-8c0f-4b91-80fa-21405b933a8e.jpg',\n",
              " '/content/CNN_assignment/Skin cancer ISIC The International Skin Imaging Collaboration/Train/pigmented benign keratosis/output/pigmented benign keratosis_original_ISIC_0025583.jpg_a3e6fab4-7f36-4fbc-aeb1-953529fd9b89.jpg',\n",
              " '/content/CNN_assignment/Skin cancer ISIC The International Skin Imaging Collaboration/Train/pigmented benign keratosis/output/pigmented benign keratosis_original_ISIC_0027139.jpg_99de8c2f-954c-46d3-9f7f-2d0f4b209059.jpg',\n",
              " '/content/CNN_assignment/Skin cancer ISIC The International Skin Imaging Collaboration/Train/pigmented benign keratosis/output/pigmented benign keratosis_original_ISIC_0026409.jpg_0e728842-be0a-446b-b1f4-a2062e16d185.jpg',\n",
              " '/content/CNN_assignment/Skin cancer ISIC The International Skin Imaging Collaboration/Train/pigmented benign keratosis/output/pigmented benign keratosis_original_ISIC_0026787.jpg_c9fcd7d8-d30b-429c-9ef4-30cb5fa833e8.jpg',\n",
              " '/content/CNN_assignment/Skin cancer ISIC The International Skin Imaging Collaboration/Train/pigmented benign keratosis/output/pigmented benign keratosis_original_ISIC_0025076.jpg_9bc7cea5-bc80-45b0-b781-3be9a64e359b.jpg',\n",
              " '/content/CNN_assignment/Skin cancer ISIC The International Skin Imaging Collaboration/Train/pigmented benign keratosis/output/pigmented benign keratosis_original_ISIC_0028336.jpg_79b16131-e4a5-45e9-8fca-d0a9bebd81cf.jpg',\n",
              " '/content/CNN_assignment/Skin cancer ISIC The International Skin Imaging Collaboration/Train/pigmented benign keratosis/output/pigmented benign keratosis_original_ISIC_0027737.jpg_456ba69c-cca0-4c49-ac58-16ebecbbf736.jpg',\n",
              " '/content/CNN_assignment/Skin cancer ISIC The International Skin Imaging Collaboration/Train/pigmented benign keratosis/output/pigmented benign keratosis_original_ISIC_0027335.jpg_ff9c5677-795d-4b10-a55f-78a5391c3ac5.jpg',\n",
              " '/content/CNN_assignment/Skin cancer ISIC The International Skin Imaging Collaboration/Train/pigmented benign keratosis/output/pigmented benign keratosis_original_ISIC_0027747.jpg_bc52e999-2dd7-40ae-8deb-47a203d820bb.jpg',\n",
              " '/content/CNN_assignment/Skin cancer ISIC The International Skin Imaging Collaboration/Train/pigmented benign keratosis/output/pigmented benign keratosis_original_ISIC_0025209.jpg_efeb1b21-0587-453b-a7af-59b5c11d2cfb.jpg',\n",
              " '/content/CNN_assignment/Skin cancer ISIC The International Skin Imaging Collaboration/Train/pigmented benign keratosis/output/pigmented benign keratosis_original_ISIC_0026955.jpg_02f47d8c-218a-489a-be22-ec5dd39760ef.jpg',\n",
              " '/content/CNN_assignment/Skin cancer ISIC The International Skin Imaging Collaboration/Train/pigmented benign keratosis/output/pigmented benign keratosis_original_ISIC_0024547.jpg_1eeac956-3ebf-45d5-b59e-8a5a1524669e.jpg',\n",
              " '/content/CNN_assignment/Skin cancer ISIC The International Skin Imaging Collaboration/Train/pigmented benign keratosis/output/pigmented benign keratosis_original_ISIC_0028386.jpg_9c5d7bac-27b9-45d5-90a8-7a178bf463e6.jpg',\n",
              " '/content/CNN_assignment/Skin cancer ISIC The International Skin Imaging Collaboration/Train/pigmented benign keratosis/output/pigmented benign keratosis_original_ISIC_0026958.jpg_7fae0f96-c127-4f13-a203-abadb2fd99a0.jpg',\n",
              " '/content/CNN_assignment/Skin cancer ISIC The International Skin Imaging Collaboration/Train/pigmented benign keratosis/output/pigmented benign keratosis_original_ISIC_0025033.jpg_cf87c98b-6122-4a2f-9e67-84d4ba6ffb42.jpg',\n",
              " '/content/CNN_assignment/Skin cancer ISIC The International Skin Imaging Collaboration/Train/pigmented benign keratosis/output/pigmented benign keratosis_original_ISIC_0028662.jpg_c024f6ba-b4c1-4d5b-a3b7-756cfb4908f8.jpg',\n",
              " '/content/CNN_assignment/Skin cancer ISIC The International Skin Imaging Collaboration/Train/pigmented benign keratosis/output/pigmented benign keratosis_original_ISIC_0027831.jpg_5d4c5bff-47a7-49f8-8d6c-2d114853e1aa.jpg',\n",
              " '/content/CNN_assignment/Skin cancer ISIC The International Skin Imaging Collaboration/Train/pigmented benign keratosis/output/pigmented benign keratosis_original_ISIC_0028607.jpg_3356f478-7fd8-41ac-b56d-ff4c6e63734b.jpg',\n",
              " '/content/CNN_assignment/Skin cancer ISIC The International Skin Imaging Collaboration/Train/pigmented benign keratosis/output/pigmented benign keratosis_original_ISIC_0026135.jpg_1b9a65ae-492f-491c-8ed3-062e788e803a.jpg',\n",
              " '/content/CNN_assignment/Skin cancer ISIC The International Skin Imaging Collaboration/Train/pigmented benign keratosis/output/pigmented benign keratosis_original_ISIC_0024970.jpg_c2cd5e2c-483b-44ed-9921-0a0293c2526b.jpg',\n",
              " '/content/CNN_assignment/Skin cancer ISIC The International Skin Imaging Collaboration/Train/pigmented benign keratosis/output/pigmented benign keratosis_original_ISIC_0026015.jpg_d2883729-eccd-43cd-8f1f-9bb87e21effa.jpg',\n",
              " '/content/CNN_assignment/Skin cancer ISIC The International Skin Imaging Collaboration/Train/pigmented benign keratosis/output/pigmented benign keratosis_original_ISIC_0026524.jpg_4d935377-5056-476e-b476-d67d2eab54a8.jpg',\n",
              " '/content/CNN_assignment/Skin cancer ISIC The International Skin Imaging Collaboration/Train/pigmented benign keratosis/output/pigmented benign keratosis_original_ISIC_0025297.jpg_26c8964b-a6ed-481a-b7f8-fb9958e8b6f8.jpg',\n",
              " '/content/CNN_assignment/Skin cancer ISIC The International Skin Imaging Collaboration/Train/pigmented benign keratosis/output/pigmented benign keratosis_original_ISIC_0028611.jpg_599d6bb7-1ca5-4431-8366-8a3c08201968.jpg',\n",
              " '/content/CNN_assignment/Skin cancer ISIC The International Skin Imaging Collaboration/Train/pigmented benign keratosis/output/pigmented benign keratosis_original_ISIC_0028662.jpg_e12e1960-6efd-4dbd-bcd9-69a017bbfb13.jpg',\n",
              " '/content/CNN_assignment/Skin cancer ISIC The International Skin Imaging Collaboration/Train/pigmented benign keratosis/output/pigmented benign keratosis_original_ISIC_0025434.jpg_6dc2b61f-589a-4cce-b4b1-7ec593595312.jpg',\n",
              " '/content/CNN_assignment/Skin cancer ISIC The International Skin Imaging Collaboration/Train/pigmented benign keratosis/output/pigmented benign keratosis_original_ISIC_0027608.jpg_746062ff-da45-4515-b706-ff9ffefe3f05.jpg',\n",
              " '/content/CNN_assignment/Skin cancer ISIC The International Skin Imaging Collaboration/Train/pigmented benign keratosis/output/pigmented benign keratosis_original_ISIC_0028237.jpg_72612b33-1523-4b37-9370-1310361f9ab1.jpg',\n",
              " '/content/CNN_assignment/Skin cancer ISIC The International Skin Imaging Collaboration/Train/pigmented benign keratosis/output/pigmented benign keratosis_original_ISIC_0027652.jpg_2b0fe803-f0dc-4015-a044-93ed3c8fb894.jpg',\n",
              " '/content/CNN_assignment/Skin cancer ISIC The International Skin Imaging Collaboration/Train/pigmented benign keratosis/output/pigmented benign keratosis_original_ISIC_0026298.jpg_2bcb8038-b09a-4c3d-ae72-4909b86d3fd5.jpg',\n",
              " '/content/CNN_assignment/Skin cancer ISIC The International Skin Imaging Collaboration/Train/pigmented benign keratosis/output/pigmented benign keratosis_original_ISIC_0027681.jpg_41372bdc-c5eb-40c9-8f60-3a7dfa2aed48.jpg',\n",
              " '/content/CNN_assignment/Skin cancer ISIC The International Skin Imaging Collaboration/Train/pigmented benign keratosis/output/pigmented benign keratosis_original_ISIC_0026634.jpg_f78f26ce-df56-4468-8ab1-423a7c872888.jpg',\n",
              " '/content/CNN_assignment/Skin cancer ISIC The International Skin Imaging Collaboration/Train/pigmented benign keratosis/output/pigmented benign keratosis_original_ISIC_0025575.jpg_a8a8241d-d34b-4456-969d-67e1883e5d7b.jpg',\n",
              " '/content/CNN_assignment/Skin cancer ISIC The International Skin Imaging Collaboration/Train/pigmented benign keratosis/output/pigmented benign keratosis_original_ISIC_0027771.jpg_a188fe31-45c2-40d1-b562-accf6b659774.jpg',\n",
              " '/content/CNN_assignment/Skin cancer ISIC The International Skin Imaging Collaboration/Train/pigmented benign keratosis/output/pigmented benign keratosis_original_ISIC_0026790.jpg_64e08735-0f16-4d6f-b4c9-d794b4f4316d.jpg',\n",
              " '/content/CNN_assignment/Skin cancer ISIC The International Skin Imaging Collaboration/Train/pigmented benign keratosis/output/pigmented benign keratosis_original_ISIC_0026907.jpg_53b7d957-f390-4f5f-8f0a-03953e64de6f.jpg',\n",
              " '/content/CNN_assignment/Skin cancer ISIC The International Skin Imaging Collaboration/Train/pigmented benign keratosis/output/pigmented benign keratosis_original_ISIC_0026135.jpg_cebfc6e7-8a26-4940-a575-5419536b3599.jpg',\n",
              " '/content/CNN_assignment/Skin cancer ISIC The International Skin Imaging Collaboration/Train/pigmented benign keratosis/output/pigmented benign keratosis_original_ISIC_0026538.jpg_38d3fca7-1e1a-46e9-af72-3ce0c75d7cc6.jpg',\n",
              " '/content/CNN_assignment/Skin cancer ISIC The International Skin Imaging Collaboration/Train/pigmented benign keratosis/output/pigmented benign keratosis_original_ISIC_0028388.jpg_d0759a74-97d5-4676-9856-8be69add9693.jpg',\n",
              " '/content/CNN_assignment/Skin cancer ISIC The International Skin Imaging Collaboration/Train/pigmented benign keratosis/output/pigmented benign keratosis_original_ISIC_0025703.jpg_8150cc30-2845-45ec-b49d-7b962b3132e8.jpg',\n",
              " '/content/CNN_assignment/Skin cancer ISIC The International Skin Imaging Collaboration/Train/pigmented benign keratosis/output/pigmented benign keratosis_original_ISIC_0026728.jpg_2a3ad027-230f-4696-b46e-5cef3cd9c7b9.jpg',\n",
              " '/content/CNN_assignment/Skin cancer ISIC The International Skin Imaging Collaboration/Train/pigmented benign keratosis/output/pigmented benign keratosis_original_ISIC_0024696.jpg_35cc32bc-76d6-4d61-9e09-22d2b993b7fa.jpg',\n",
              " '/content/CNN_assignment/Skin cancer ISIC The International Skin Imaging Collaboration/Train/pigmented benign keratosis/output/pigmented benign keratosis_original_ISIC_0027996.jpg_9904f253-9c3c-4160-8eee-b3a98246f10f.jpg',\n",
              " '/content/CNN_assignment/Skin cancer ISIC The International Skin Imaging Collaboration/Train/pigmented benign keratosis/output/pigmented benign keratosis_original_ISIC_0025623.jpg_2d012e9b-e5d0-4609-b970-2fedf06faf95.jpg',\n",
              " '/content/CNN_assignment/Skin cancer ISIC The International Skin Imaging Collaboration/Train/pigmented benign keratosis/output/pigmented benign keratosis_original_ISIC_0027023.jpg_131d2086-68ca-42ef-ba77-1d5fa90d639b.jpg',\n",
              " '/content/CNN_assignment/Skin cancer ISIC The International Skin Imaging Collaboration/Train/pigmented benign keratosis/output/pigmented benign keratosis_original_ISIC_0026416.jpg_2584d9fa-4813-4b8b-9510-ac0fa2f9b44a.jpg',\n",
              " '/content/CNN_assignment/Skin cancer ISIC The International Skin Imaging Collaboration/Train/pigmented benign keratosis/output/pigmented benign keratosis_original_ISIC_0025326.jpg_138f3420-618d-4bc0-b50b-9869fab1ec5d.jpg',\n",
              " '/content/CNN_assignment/Skin cancer ISIC The International Skin Imaging Collaboration/Train/pigmented benign keratosis/output/pigmented benign keratosis_original_ISIC_0026867.jpg_2c31f9a4-4fc9-46db-828d-0f35a9300883.jpg',\n",
              " '/content/CNN_assignment/Skin cancer ISIC The International Skin Imaging Collaboration/Train/pigmented benign keratosis/output/pigmented benign keratosis_original_ISIC_0026679.jpg_68afa7d9-f7cb-48ec-97d4-0229640a28a1.jpg',\n",
              " '/content/CNN_assignment/Skin cancer ISIC The International Skin Imaging Collaboration/Train/pigmented benign keratosis/output/pigmented benign keratosis_original_ISIC_0027295.jpg_3bf24b2d-a689-4729-88d1-1150fb80aa44.jpg',\n",
              " '/content/CNN_assignment/Skin cancer ISIC The International Skin Imaging Collaboration/Train/pigmented benign keratosis/output/pigmented benign keratosis_original_ISIC_0028229.jpg_fbd78832-59d0-4e26-98a3-a9da6efe52b0.jpg',\n",
              " '/content/CNN_assignment/Skin cancer ISIC The International Skin Imaging Collaboration/Train/pigmented benign keratosis/output/pigmented benign keratosis_original_ISIC_0026174.jpg_3ce66223-dca2-441f-9913-1c632d64d8a1.jpg',\n",
              " '/content/CNN_assignment/Skin cancer ISIC The International Skin Imaging Collaboration/Train/pigmented benign keratosis/output/pigmented benign keratosis_original_ISIC_0026290.jpg_402747b9-7ba1-4ada-b9c0-65b059066818.jpg',\n",
              " '/content/CNN_assignment/Skin cancer ISIC The International Skin Imaging Collaboration/Train/pigmented benign keratosis/output/pigmented benign keratosis_original_ISIC_0027192.jpg_017ac4fc-ec8e-4706-8972-108dbd51a3fd.jpg',\n",
              " '/content/CNN_assignment/Skin cancer ISIC The International Skin Imaging Collaboration/Train/pigmented benign keratosis/output/pigmented benign keratosis_original_ISIC_0028165.jpg_bb7c9870-3331-4d2e-9976-ec283c8c21f1.jpg',\n",
              " '/content/CNN_assignment/Skin cancer ISIC The International Skin Imaging Collaboration/Train/pigmented benign keratosis/output/pigmented benign keratosis_original_ISIC_0024495.jpg_5e74aa87-d196-461b-83d6-8a23073cf52f.jpg',\n",
              " '/content/CNN_assignment/Skin cancer ISIC The International Skin Imaging Collaboration/Train/pigmented benign keratosis/output/pigmented benign keratosis_original_ISIC_0026843.jpg_e8ef2675-f821-463f-bfe5-0b14ad45310f.jpg',\n",
              " '/content/CNN_assignment/Skin cancer ISIC The International Skin Imaging Collaboration/Train/pigmented benign keratosis/output/pigmented benign keratosis_original_ISIC_0025030.jpg_694e6548-cdee-4363-a47a-7fed56ffe9fb.jpg',\n",
              " '/content/CNN_assignment/Skin cancer ISIC The International Skin Imaging Collaboration/Train/pigmented benign keratosis/output/pigmented benign keratosis_original_ISIC_0026524.jpg_6b024d27-14fd-4f9e-9459-a3ed097ad7ff.jpg',\n",
              " '/content/CNN_assignment/Skin cancer ISIC The International Skin Imaging Collaboration/Train/pigmented benign keratosis/output/pigmented benign keratosis_original_ISIC_0024623.jpg_91ab3d1c-12a1-4fd3-b15e-50782313eca3.jpg',\n",
              " '/content/CNN_assignment/Skin cancer ISIC The International Skin Imaging Collaboration/Train/pigmented benign keratosis/output/pigmented benign keratosis_original_ISIC_0027780.jpg_61097624-7e8b-4dba-8e5f-91b8e7fe9a6f.jpg',\n",
              " '/content/CNN_assignment/Skin cancer ISIC The International Skin Imaging Collaboration/Train/pigmented benign keratosis/output/pigmented benign keratosis_original_ISIC_0025659.jpg_78bc19b9-6b28-4d98-847c-6bbf7756b547.jpg',\n",
              " '/content/CNN_assignment/Skin cancer ISIC The International Skin Imaging Collaboration/Train/pigmented benign keratosis/output/pigmented benign keratosis_original_ISIC_0025199.jpg_0d6aee15-b581-4965-a9b3-ad1b170c74fe.jpg',\n",
              " '/content/CNN_assignment/Skin cancer ISIC The International Skin Imaging Collaboration/Train/pigmented benign keratosis/output/pigmented benign keratosis_original_ISIC_0028165.jpg_944feb71-07e5-426f-bcc0-29a6ff84e713.jpg',\n",
              " '/content/CNN_assignment/Skin cancer ISIC The International Skin Imaging Collaboration/Train/pigmented benign keratosis/output/pigmented benign keratosis_original_ISIC_0025339.jpg_9ae8cbe8-4c21-425d-8e55-fcff8e13d204.jpg',\n",
              " '/content/CNN_assignment/Skin cancer ISIC The International Skin Imaging Collaboration/Train/pigmented benign keratosis/output/pigmented benign keratosis_original_ISIC_0024612.jpg_2914f252-2901-427b-9e2d-f6685fc2289b.jpg',\n",
              " '/content/CNN_assignment/Skin cancer ISIC The International Skin Imaging Collaboration/Train/pigmented benign keratosis/output/pigmented benign keratosis_original_ISIC_0026846.jpg_95ed33cd-a6a3-4e68-b026-e5bdecbbd8ca.jpg',\n",
              " '/content/CNN_assignment/Skin cancer ISIC The International Skin Imaging Collaboration/Train/pigmented benign keratosis/output/pigmented benign keratosis_original_ISIC_0025083.jpg_7ec0539c-8a38-4662-8ac1-c3c087a9ce40.jpg',\n",
              " '/content/CNN_assignment/Skin cancer ISIC The International Skin Imaging Collaboration/Train/pigmented benign keratosis/output/pigmented benign keratosis_original_ISIC_0026959.jpg_944894c6-d326-4c36-979e-ebe878a5e2df.jpg',\n",
              " '/content/CNN_assignment/Skin cancer ISIC The International Skin Imaging Collaboration/Train/pigmented benign keratosis/output/pigmented benign keratosis_original_ISIC_0028646.jpg_4ad5203c-f3a8-4de1-8f7c-35453d04369d.jpg',\n",
              " '/content/CNN_assignment/Skin cancer ISIC The International Skin Imaging Collaboration/Train/pigmented benign keratosis/output/pigmented benign keratosis_original_ISIC_0028622.jpg_87eed587-d5a9-4fc1-bad6-968ca7125e8d.jpg',\n",
              " '/content/CNN_assignment/Skin cancer ISIC The International Skin Imaging Collaboration/Train/pigmented benign keratosis/output/pigmented benign keratosis_original_ISIC_0027916.jpg_6c7b4515-6544-446c-a11f-7d136d8f1c48.jpg',\n",
              " '/content/CNN_assignment/Skin cancer ISIC The International Skin Imaging Collaboration/Train/pigmented benign keratosis/output/pigmented benign keratosis_original_ISIC_0026263.jpg_0b585407-de02-47bd-9c23-8d3f294648e4.jpg',\n",
              " '/content/CNN_assignment/Skin cancer ISIC The International Skin Imaging Collaboration/Train/pigmented benign keratosis/output/pigmented benign keratosis_original_ISIC_0025099.jpg_fff66e5f-5426-404e-8b5f-231baee46194.jpg',\n",
              " '/content/CNN_assignment/Skin cancer ISIC The International Skin Imaging Collaboration/Train/pigmented benign keratosis/output/pigmented benign keratosis_original_ISIC_0027747.jpg_fe4b7dbe-26f4-4a74-b991-b1ef9580eec0.jpg',\n",
              " '/content/CNN_assignment/Skin cancer ISIC The International Skin Imaging Collaboration/Train/pigmented benign keratosis/output/pigmented benign keratosis_original_ISIC_0028607.jpg_64a75526-a6a9-4c35-b5e6-33d5c729d641.jpg',\n",
              " '/content/CNN_assignment/Skin cancer ISIC The International Skin Imaging Collaboration/Train/pigmented benign keratosis/output/pigmented benign keratosis_original_ISIC_0027806.jpg_40f7bac3-e9eb-4876-949a-48399b34f7f4.jpg',\n",
              " '/content/CNN_assignment/Skin cancer ISIC The International Skin Imaging Collaboration/Train/pigmented benign keratosis/output/pigmented benign keratosis_original_ISIC_0024881.jpg_85a4dfd7-5685-42f9-94e0-24db50222286.jpg',\n",
              " '/content/CNN_assignment/Skin cancer ISIC The International Skin Imaging Collaboration/Train/pigmented benign keratosis/output/pigmented benign keratosis_original_ISIC_0028451.jpg_07dcbda4-9bad-40dd-afdf-936c1867a165.jpg',\n",
              " '/content/CNN_assignment/Skin cancer ISIC The International Skin Imaging Collaboration/Train/pigmented benign keratosis/output/pigmented benign keratosis_original_ISIC_0027612.jpg_e456d70d-b3cb-495a-8fee-d23bf646898a.jpg',\n",
              " '/content/CNN_assignment/Skin cancer ISIC The International Skin Imaging Collaboration/Train/pigmented benign keratosis/output/pigmented benign keratosis_original_ISIC_0026514.jpg_588079f6-ed0f-49b8-a444-2d607184ce15.jpg',\n",
              " '/content/CNN_assignment/Skin cancer ISIC The International Skin Imaging Collaboration/Train/pigmented benign keratosis/output/pigmented benign keratosis_original_ISIC_0025928.jpg_27e16c8c-942a-4d5b-b5b5-8808a6ccf90b.jpg',\n",
              " '/content/CNN_assignment/Skin cancer ISIC The International Skin Imaging Collaboration/Train/pigmented benign keratosis/output/pigmented benign keratosis_original_ISIC_0026378.jpg_c649adbc-3c2a-4de1-969e-57ef23170ae7.jpg',\n",
              " '/content/CNN_assignment/Skin cancer ISIC The International Skin Imaging Collaboration/Train/pigmented benign keratosis/output/pigmented benign keratosis_original_ISIC_0027041.jpg_0604dba8-0bad-4154-bb6f-ad8581ef3e5b.jpg',\n",
              " '/content/CNN_assignment/Skin cancer ISIC The International Skin Imaging Collaboration/Train/pigmented benign keratosis/output/pigmented benign keratosis_original_ISIC_0025068.jpg_1112afe2-cd2c-4aee-bf0b-ce05f17d18a3.jpg',\n",
              " '/content/CNN_assignment/Skin cancer ISIC The International Skin Imaging Collaboration/Train/pigmented benign keratosis/output/pigmented benign keratosis_original_ISIC_0025515.jpg_dfe4243c-0bf0-458d-9af1-4be33421d68e.jpg',\n",
              " '/content/CNN_assignment/Skin cancer ISIC The International Skin Imaging Collaboration/Train/pigmented benign keratosis/output/pigmented benign keratosis_original_ISIC_0025330.jpg_5c296969-f40d-495c-a5ee-49f360b2057d.jpg',\n",
              " '/content/CNN_assignment/Skin cancer ISIC The International Skin Imaging Collaboration/Train/pigmented benign keratosis/output/pigmented benign keratosis_original_ISIC_0027053.jpg_5a529f88-4fb2-4df8-ba66-45019c351088.jpg',\n",
              " '/content/CNN_assignment/Skin cancer ISIC The International Skin Imaging Collaboration/Train/pigmented benign keratosis/output/pigmented benign keratosis_original_ISIC_0027982.jpg_9b1db966-b469-4175-9cb7-8685bca7049e.jpg',\n",
              " '/content/CNN_assignment/Skin cancer ISIC The International Skin Imaging Collaboration/Train/pigmented benign keratosis/output/pigmented benign keratosis_original_ISIC_0024547.jpg_9877355f-4750-4e4a-b84f-85f9f6a50ad2.jpg',\n",
              " '/content/CNN_assignment/Skin cancer ISIC The International Skin Imaging Collaboration/Train/pigmented benign keratosis/output/pigmented benign keratosis_original_ISIC_0028020.jpg_bcdbd8e7-8e26-4859-ba7f-3db1b571de7d.jpg',\n",
              " '/content/CNN_assignment/Skin cancer ISIC The International Skin Imaging Collaboration/Train/pigmented benign keratosis/output/pigmented benign keratosis_original_ISIC_0025743.jpg_0f0d9045-8c4b-485b-a6b5-24f28ed9cd40.jpg',\n",
              " '/content/CNN_assignment/Skin cancer ISIC The International Skin Imaging Collaboration/Train/pigmented benign keratosis/output/pigmented benign keratosis_original_ISIC_0024494.jpg_fb4c1cbd-5a92-4bb8-8b6f-66cccb4e45aa.jpg',\n",
              " '/content/CNN_assignment/Skin cancer ISIC The International Skin Imaging Collaboration/Train/pigmented benign keratosis/output/pigmented benign keratosis_original_ISIC_0028622.jpg_4ba332ec-1727-4942-9525-17a324b40e15.jpg',\n",
              " '/content/CNN_assignment/Skin cancer ISIC The International Skin Imaging Collaboration/Train/pigmented benign keratosis/output/pigmented benign keratosis_original_ISIC_0026290.jpg_9f2d16d9-5f28-40c0-ae35-780bae14dbb5.jpg',\n",
              " '/content/CNN_assignment/Skin cancer ISIC The International Skin Imaging Collaboration/Train/pigmented benign keratosis/output/pigmented benign keratosis_original_ISIC_0026663.jpg_dc6b1e63-9fff-491a-b69e-731a10590ee0.jpg',\n",
              " '/content/CNN_assignment/Skin cancer ISIC The International Skin Imaging Collaboration/Train/pigmented benign keratosis/output/pigmented benign keratosis_original_ISIC_0025851.jpg_4e65f18f-af3b-4bf3-a2cf-2bde41121f04.jpg',\n",
              " '/content/CNN_assignment/Skin cancer ISIC The International Skin Imaging Collaboration/Train/pigmented benign keratosis/output/pigmented benign keratosis_original_ISIC_0027202.jpg_a1bfc89e-ddda-4a2d-8b01-d5848841df40.jpg',\n",
              " '/content/CNN_assignment/Skin cancer ISIC The International Skin Imaging Collaboration/Train/pigmented benign keratosis/output/pigmented benign keratosis_original_ISIC_0028550.jpg_7385485f-a8ee-4a55-80d7-4068ac55c3e8.jpg',\n",
              " '/content/CNN_assignment/Skin cancer ISIC The International Skin Imaging Collaboration/Train/pigmented benign keratosis/output/pigmented benign keratosis_original_ISIC_0027167.jpg_eb3d16d4-ea63-47ec-81a6-72c6e2e66375.jpg',\n",
              " '/content/CNN_assignment/Skin cancer ISIC The International Skin Imaging Collaboration/Train/pigmented benign keratosis/output/pigmented benign keratosis_original_ISIC_0025575.jpg_54879599-4178-4f65-b339-a5df6dcc22b4.jpg',\n",
              " '/content/CNN_assignment/Skin cancer ISIC The International Skin Imaging Collaboration/Train/pigmented benign keratosis/output/pigmented benign keratosis_original_ISIC_0024970.jpg_9e0a8154-e5ba-4475-b19c-3e32e3e59d51.jpg',\n",
              " '/content/CNN_assignment/Skin cancer ISIC The International Skin Imaging Collaboration/Train/pigmented benign keratosis/output/pigmented benign keratosis_original_ISIC_0024947.jpg_3fb79d29-da7c-4473-bb2b-9b2d1dbd3ecc.jpg',\n",
              " '/content/CNN_assignment/Skin cancer ISIC The International Skin Imaging Collaboration/Train/pigmented benign keratosis/output/pigmented benign keratosis_original_ISIC_0027771.jpg_a094c2bd-8096-4439-9f31-ea7466b379dc.jpg',\n",
              " '/content/CNN_assignment/Skin cancer ISIC The International Skin Imaging Collaboration/Train/pigmented benign keratosis/output/pigmented benign keratosis_original_ISIC_0027780.jpg_a2338c9f-bd11-44ad-b91c-edd0c1876240.jpg',\n",
              " '/content/CNN_assignment/Skin cancer ISIC The International Skin Imaging Collaboration/Train/pigmented benign keratosis/output/pigmented benign keratosis_original_ISIC_0026861.jpg_6ee9c23d-7226-47f5-af43-9883f95c71bc.jpg',\n",
              " '/content/CNN_assignment/Skin cancer ISIC The International Skin Imaging Collaboration/Train/pigmented benign keratosis/output/pigmented benign keratosis_original_ISIC_0028308.jpg_29f1c405-4057-42e8-9d25-757fc70116fd.jpg',\n",
              " '/content/CNN_assignment/Skin cancer ISIC The International Skin Imaging Collaboration/Train/pigmented benign keratosis/output/pigmented benign keratosis_original_ISIC_0026553.jpg_ac1a318a-375a-4135-aab3-f3443556abc4.jpg',\n",
              " '/content/CNN_assignment/Skin cancer ISIC The International Skin Imaging Collaboration/Train/pigmented benign keratosis/output/pigmented benign keratosis_original_ISIC_0028640.jpg_9523c037-217d-4d3b-ae16-4566d605e55e.jpg',\n",
              " '/content/CNN_assignment/Skin cancer ISIC The International Skin Imaging Collaboration/Train/pigmented benign keratosis/output/pigmented benign keratosis_original_ISIC_0025339.jpg_578d9454-8d65-4fd4-ad4e-f8997e03556f.jpg',\n",
              " '/content/CNN_assignment/Skin cancer ISIC The International Skin Imaging Collaboration/Train/pigmented benign keratosis/output/pigmented benign keratosis_original_ISIC_0025330.jpg_905bd548-ab5a-4929-9d99-a84bcf2a0a2f.jpg',\n",
              " '/content/CNN_assignment/Skin cancer ISIC The International Skin Imaging Collaboration/Train/pigmented benign keratosis/output/pigmented benign keratosis_original_ISIC_0026717.jpg_3ab26d72-8f0b-40dc-a6e5-cd04df08a7ab.jpg',\n",
              " '/content/CNN_assignment/Skin cancer ISIC The International Skin Imaging Collaboration/Train/pigmented benign keratosis/output/pigmented benign keratosis_original_ISIC_0024774.jpg_eea5e01a-2f88-4a78-b91b-57e3cf12a72d.jpg',\n",
              " '/content/CNN_assignment/Skin cancer ISIC The International Skin Imaging Collaboration/Train/pigmented benign keratosis/output/pigmented benign keratosis_original_ISIC_0024435.jpg_31ce3e8e-f4e2-4fcf-8759-cac372ba6a80.jpg',\n",
              " '/content/CNN_assignment/Skin cancer ISIC The International Skin Imaging Collaboration/Train/pigmented benign keratosis/output/pigmented benign keratosis_original_ISIC_0024435.jpg_22283a79-c274-46fa-9eb6-226c17d5d9a4.jpg',\n",
              " '/content/CNN_assignment/Skin cancer ISIC The International Skin Imaging Collaboration/Train/pigmented benign keratosis/output/pigmented benign keratosis_original_ISIC_0026867.jpg_a4b00dde-70bc-4af2-904d-917e02a66de1.jpg',\n",
              " '/content/CNN_assignment/Skin cancer ISIC The International Skin Imaging Collaboration/Train/pigmented benign keratosis/output/pigmented benign keratosis_original_ISIC_0025032.jpg_52df24a9-eb10-4301-9f73-5e7ef93dacad.jpg',\n",
              " '/content/CNN_assignment/Skin cancer ISIC The International Skin Imaging Collaboration/Train/pigmented benign keratosis/output/pigmented benign keratosis_original_ISIC_0025292.jpg_0cff1e63-2f12-4218-aa02-d2337b68e350.jpg',\n",
              " '/content/CNN_assignment/Skin cancer ISIC The International Skin Imaging Collaboration/Train/pigmented benign keratosis/output/pigmented benign keratosis_original_ISIC_0026538.jpg_e1a297fe-8f5b-47f7-8eae-26ea7e518e19.jpg',\n",
              " '/content/CNN_assignment/Skin cancer ISIC The International Skin Imaging Collaboration/Train/pigmented benign keratosis/output/pigmented benign keratosis_original_ISIC_0026523.jpg_fee297a0-048a-4f18-8f48-073b7e27135c.jpg',\n",
              " '/content/CNN_assignment/Skin cancer ISIC The International Skin Imaging Collaboration/Train/pigmented benign keratosis/output/pigmented benign keratosis_original_ISIC_0025030.jpg_78378fcc-f133-4b0a-b96f-409ed29c7454.jpg',\n",
              " '/content/CNN_assignment/Skin cancer ISIC The International Skin Imaging Collaboration/Train/pigmented benign keratosis/output/pigmented benign keratosis_original_ISIC_0028511.jpg_6df71e64-9393-4ec9-8343-1792f97fc4d9.jpg',\n",
              " '/content/CNN_assignment/Skin cancer ISIC The International Skin Imaging Collaboration/Train/pigmented benign keratosis/output/pigmented benign keratosis_original_ISIC_0027455.jpg_3b006137-b5cd-46e4-b9f7-5747e78bda44.jpg',\n",
              " '/content/CNN_assignment/Skin cancer ISIC The International Skin Imaging Collaboration/Train/pigmented benign keratosis/output/pigmented benign keratosis_original_ISIC_0027652.jpg_eb425ac9-1d97-4afb-b724-831a7cdc9cff.jpg',\n",
              " '/content/CNN_assignment/Skin cancer ISIC The International Skin Imaging Collaboration/Train/pigmented benign keratosis/output/pigmented benign keratosis_original_ISIC_0027706.jpg_73ee603b-b57f-43ee-afca-3ec4708e89d2.jpg',\n",
              " '/content/CNN_assignment/Skin cancer ISIC The International Skin Imaging Collaboration/Train/pigmented benign keratosis/output/pigmented benign keratosis_original_ISIC_0027154.jpg_0579e4b6-7200-46e2-83bb-e844fd457891.jpg',\n",
              " '/content/CNN_assignment/Skin cancer ISIC The International Skin Imaging Collaboration/Train/pigmented benign keratosis/output/pigmented benign keratosis_original_ISIC_0025659.jpg_3eb2e330-4929-4696-81e8-81ec1d8fad34.jpg',\n",
              " '/content/CNN_assignment/Skin cancer ISIC The International Skin Imaging Collaboration/Train/pigmented benign keratosis/output/pigmented benign keratosis_original_ISIC_0027608.jpg_2c4125b0-a040-4345-a685-5eac88679301.jpg',\n",
              " '/content/CNN_assignment/Skin cancer ISIC The International Skin Imaging Collaboration/Train/pigmented benign keratosis/output/pigmented benign keratosis_original_ISIC_0025984.jpg_24626e2e-d65d-4455-bd21-507850539099.jpg',\n",
              " '/content/CNN_assignment/Skin cancer ISIC The International Skin Imaging Collaboration/Train/pigmented benign keratosis/output/pigmented benign keratosis_original_ISIC_0027796.jpg_ea65931b-227a-4f11-8959-d6f51a0e41b6.jpg',\n",
              " '/content/CNN_assignment/Skin cancer ISIC The International Skin Imaging Collaboration/Train/pigmented benign keratosis/output/pigmented benign keratosis_original_ISIC_0025851.jpg_764daf87-fefe-4530-96ef-cee3d3099169.jpg',\n",
              " '/content/CNN_assignment/Skin cancer ISIC The International Skin Imaging Collaboration/Train/pigmented benign keratosis/output/pigmented benign keratosis_original_ISIC_0026775.jpg_3f73b0f7-e0e6-4843-98ef-cdd6222ab150.jpg',\n",
              " '/content/CNN_assignment/Skin cancer ISIC The International Skin Imaging Collaboration/Train/pigmented benign keratosis/output/pigmented benign keratosis_original_ISIC_0027194.jpg_9c5f7755-585d-4310-8a2e-12f75fbcdda4.jpg',\n",
              " '/content/CNN_assignment/Skin cancer ISIC The International Skin Imaging Collaboration/Train/pigmented benign keratosis/output/pigmented benign keratosis_original_ISIC_0025654.jpg_6416a57f-69d2-4d9c-9c36-c3769a53fb9e.jpg',\n",
              " '/content/CNN_assignment/Skin cancer ISIC The International Skin Imaging Collaboration/Train/pigmented benign keratosis/output/pigmented benign keratosis_original_ISIC_0025693.jpg_a95fa49f-2a91-4555-9589-366f816a6fa5.jpg',\n",
              " '/content/CNN_assignment/Skin cancer ISIC The International Skin Imaging Collaboration/Train/pigmented benign keratosis/output/pigmented benign keratosis_original_ISIC_0024740.jpg_ba8254e1-0324-4e1d-a872-2e84eba46781.jpg',\n",
              " '/content/CNN_assignment/Skin cancer ISIC The International Skin Imaging Collaboration/Train/pigmented benign keratosis/output/pigmented benign keratosis_original_ISIC_0024910.jpg_e818793d-454f-43eb-bee6-629f45acc0eb.jpg',\n",
              " '/content/CNN_assignment/Skin cancer ISIC The International Skin Imaging Collaboration/Train/pigmented benign keratosis/output/pigmented benign keratosis_original_ISIC_0024623.jpg_92258f34-0acf-46f8-bbda-fe9521688ba4.jpg',\n",
              " '/content/CNN_assignment/Skin cancer ISIC The International Skin Imaging Collaboration/Train/pigmented benign keratosis/output/pigmented benign keratosis_original_ISIC_0025345.jpg_c480389d-acf4-4707-8baa-b9d8ed0b605f.jpg',\n",
              " '/content/CNN_assignment/Skin cancer ISIC The International Skin Imaging Collaboration/Train/pigmented benign keratosis/output/pigmented benign keratosis_original_ISIC_0025982.jpg_65fcdf3a-0c30-44a2-9bf0-5113e7224658.jpg',\n",
              " '/content/CNN_assignment/Skin cancer ISIC The International Skin Imaging Collaboration/Train/pigmented benign keratosis/output/pigmented benign keratosis_original_ISIC_0028607.jpg_96de5cb4-6449-4679-a8c8-e0a20a58169d.jpg',\n",
              " '/content/CNN_assignment/Skin cancer ISIC The International Skin Imaging Collaboration/Train/pigmented benign keratosis/output/pigmented benign keratosis_original_ISIC_0027451.jpg_d4b258bf-1d8e-4edb-beff-318d1cfd5b62.jpg',\n",
              " '/content/CNN_assignment/Skin cancer ISIC The International Skin Imaging Collaboration/Train/pigmented benign keratosis/output/pigmented benign keratosis_original_ISIC_0028623.jpg_1e852bba-9479-483a-b53d-418aaf956570.jpg',\n",
              " '/content/CNN_assignment/Skin cancer ISIC The International Skin Imaging Collaboration/Train/pigmented benign keratosis/output/pigmented benign keratosis_original_ISIC_0026556.jpg_3b7b0bfe-d18c-4116-b817-746335637bb8.jpg',\n",
              " '/content/CNN_assignment/Skin cancer ISIC The International Skin Imaging Collaboration/Train/pigmented benign keratosis/output/pigmented benign keratosis_original_ISIC_0026378.jpg_be8fda0f-3c8f-4860-987c-5c5ea274b432.jpg',\n",
              " '/content/CNN_assignment/Skin cancer ISIC The International Skin Imaging Collaboration/Train/pigmented benign keratosis/output/pigmented benign keratosis_original_ISIC_0026941.jpg_ca81a536-8398-4136-a3c6-ba16e990ba0b.jpg',\n",
              " '/content/CNN_assignment/Skin cancer ISIC The International Skin Imaging Collaboration/Train/pigmented benign keratosis/output/pigmented benign keratosis_original_ISIC_0025351.jpg_0aa8332d-dfc4-4d5c-abe7-6e0bf7ff9bda.jpg',\n",
              " '/content/CNN_assignment/Skin cancer ISIC The International Skin Imaging Collaboration/Train/pigmented benign keratosis/output/pigmented benign keratosis_original_ISIC_0025627.jpg_a5039d2d-629d-4471-bf0b-2d7ded2adfee.jpg',\n",
              " '/content/CNN_assignment/Skin cancer ISIC The International Skin Imaging Collaboration/Train/pigmented benign keratosis/output/pigmented benign keratosis_original_ISIC_0026849.jpg_52e750f9-41fc-465d-b393-0d64a0b3cae5.jpg',\n",
              " '/content/CNN_assignment/Skin cancer ISIC The International Skin Imaging Collaboration/Train/pigmented benign keratosis/output/pigmented benign keratosis_original_ISIC_0027606.jpg_18a7018f-b25d-48b5-932d-c7a5ccb1b620.jpg',\n",
              " '/content/CNN_assignment/Skin cancer ISIC The International Skin Imaging Collaboration/Train/pigmented benign keratosis/output/pigmented benign keratosis_original_ISIC_0027916.jpg_5999db44-a301-4035-873b-4a9b5193ceda.jpg',\n",
              " '/content/CNN_assignment/Skin cancer ISIC The International Skin Imaging Collaboration/Train/pigmented benign keratosis/output/pigmented benign keratosis_original_ISIC_0026248.jpg_8521cc43-441b-4535-afe7-073a17c3d057.jpg',\n",
              " '/content/CNN_assignment/Skin cancer ISIC The International Skin Imaging Collaboration/Train/pigmented benign keratosis/output/pigmented benign keratosis_original_ISIC_0024997.jpg_72ae01c4-5098-442e-8828-9335bf7693e1.jpg',\n",
              " '/content/CNN_assignment/Skin cancer ISIC The International Skin Imaging Collaboration/Train/pigmented benign keratosis/output/pigmented benign keratosis_original_ISIC_0025454.jpg_d9635a04-b250-417b-9579-96be6bc09cbf.jpg',\n",
              " '/content/CNN_assignment/Skin cancer ISIC The International Skin Imaging Collaboration/Train/pigmented benign keratosis/output/pigmented benign keratosis_original_ISIC_0028388.jpg_f868ca21-17d7-42b9-8ff0-d4af3888d610.jpg',\n",
              " '/content/CNN_assignment/Skin cancer ISIC The International Skin Imaging Collaboration/Train/pigmented benign keratosis/output/pigmented benign keratosis_original_ISIC_0025376.jpg_ace16fd0-2480-4ce9-92ee-84582e623705.jpg',\n",
              " '/content/CNN_assignment/Skin cancer ISIC The International Skin Imaging Collaboration/Train/pigmented benign keratosis/output/pigmented benign keratosis_original_ISIC_0025076.jpg_afc5606e-3765-4e3d-9875-2e164b6fd041.jpg',\n",
              " '/content/CNN_assignment/Skin cancer ISIC The International Skin Imaging Collaboration/Train/pigmented benign keratosis/output/pigmented benign keratosis_original_ISIC_0028511.jpg_de9d6db8-2d18-4d8a-8fe5-673d15a21693.jpg',\n",
              " '/content/CNN_assignment/Skin cancer ISIC The International Skin Imaging Collaboration/Train/pigmented benign keratosis/output/pigmented benign keratosis_original_ISIC_0027367.jpg_ca161370-eb27-4f43-922e-1ed8114f297d.jpg',\n",
              " '/content/CNN_assignment/Skin cancer ISIC The International Skin Imaging Collaboration/Train/pigmented benign keratosis/output/pigmented benign keratosis_original_ISIC_0024489.jpg_59ea2498-8768-4817-8a71-23ff75530631.jpg',\n",
              " '/content/CNN_assignment/Skin cancer ISIC The International Skin Imaging Collaboration/Train/pigmented benign keratosis/output/pigmented benign keratosis_original_ISIC_0026790.jpg_d79432ca-6da9-44d1-a072-dde6c8824c07.jpg',\n",
              " '/content/CNN_assignment/Skin cancer ISIC The International Skin Imaging Collaboration/Train/pigmented benign keratosis/output/pigmented benign keratosis_original_ISIC_0026704.jpg_244e4326-0bdb-4d37-8efa-118f1bec558f.jpg',\n",
              " '/content/CNN_assignment/Skin cancer ISIC The International Skin Imaging Collaboration/Train/pigmented benign keratosis/output/pigmented benign keratosis_original_ISIC_0026477.jpg_0cf15638-6cac-49a2-b1e4-b309a6c6f3ab.jpg',\n",
              " '/content/CNN_assignment/Skin cancer ISIC The International Skin Imaging Collaboration/Train/pigmented benign keratosis/output/pigmented benign keratosis_original_ISIC_0028229.jpg_00832242-655f-4e16-a380-53ae74f5b829.jpg',\n",
              " '/content/CNN_assignment/Skin cancer ISIC The International Skin Imaging Collaboration/Train/pigmented benign keratosis/output/pigmented benign keratosis_original_ISIC_0024635.jpg_0033f854-f384-482d-bf4c-5c49fa96e4ca.jpg',\n",
              " '/content/CNN_assignment/Skin cancer ISIC The International Skin Imaging Collaboration/Train/pigmented benign keratosis/output/pigmented benign keratosis_original_ISIC_0027017.jpg_382a2a8b-4aa1-4dcb-a937-fcb2107e966c.jpg',\n",
              " '/content/CNN_assignment/Skin cancer ISIC The International Skin Imaging Collaboration/Train/pigmented benign keratosis/output/pigmented benign keratosis_original_ISIC_0026335.jpg_36b7ee2a-05f7-4aaf-84d7-ce244a61c47d.jpg',\n",
              " '/content/CNN_assignment/Skin cancer ISIC The International Skin Imaging Collaboration/Train/pigmented benign keratosis/output/pigmented benign keratosis_original_ISIC_0027326.jpg_162449e8-3260-4dd2-8c02-f4ba9289e79b.jpg',\n",
              " '/content/CNN_assignment/Skin cancer ISIC The International Skin Imaging Collaboration/Train/pigmented benign keratosis/output/pigmented benign keratosis_original_ISIC_0028229.jpg_c81cdc34-3937-44b0-b4e5-a133358bb731.jpg',\n",
              " '/content/CNN_assignment/Skin cancer ISIC The International Skin Imaging Collaboration/Train/pigmented benign keratosis/output/pigmented benign keratosis_original_ISIC_0026514.jpg_446779d5-5575-4eee-a362-fcf546e32bbd.jpg',\n",
              " '/content/CNN_assignment/Skin cancer ISIC The International Skin Imaging Collaboration/Train/pigmented benign keratosis/output/pigmented benign keratosis_original_ISIC_0025642.jpg_debd86ec-4f2e-4a18-8409-994aaf565329.jpg',\n",
              " '/content/CNN_assignment/Skin cancer ISIC The International Skin Imaging Collaboration/Train/pigmented benign keratosis/output/pigmented benign keratosis_original_ISIC_0026069.jpg_5253efcc-052d-4e13-9683-0552bd72563e.jpg',\n",
              " '/content/CNN_assignment/Skin cancer ISIC The International Skin Imaging Collaboration/Train/pigmented benign keratosis/output/pigmented benign keratosis_original_ISIC_0027820.jpg_d3e69157-a8fa-4f02-9bb3-052242f9be29.jpg',\n",
              " '/content/CNN_assignment/Skin cancer ISIC The International Skin Imaging Collaboration/Train/pigmented benign keratosis/output/pigmented benign keratosis_original_ISIC_0028254.jpg_efe97e2d-b519-4196-8de5-6cc2b9a8e245.jpg',\n",
              " '/content/CNN_assignment/Skin cancer ISIC The International Skin Imaging Collaboration/Train/pigmented benign keratosis/output/pigmented benign keratosis_original_ISIC_0027437.jpg_81c8c93b-c781-4099-b444-96465803870b.jpg',\n",
              " '/content/CNN_assignment/Skin cancer ISIC The International Skin Imaging Collaboration/Train/pigmented benign keratosis/output/pigmented benign keratosis_original_ISIC_0027969.jpg_a5aa115e-d317-4a82-b0da-f21aee25a6ad.jpg',\n",
              " '/content/CNN_assignment/Skin cancer ISIC The International Skin Imaging Collaboration/Train/pigmented benign keratosis/output/pigmented benign keratosis_original_ISIC_0024910.jpg_95baef3a-407c-461b-ae7d-c6016a223786.jpg',\n",
              " '/content/CNN_assignment/Skin cancer ISIC The International Skin Imaging Collaboration/Train/pigmented benign keratosis/output/pigmented benign keratosis_original_ISIC_0025388.jpg_caaa08b0-7495-4dda-85bd-42d2499704a8.jpg',\n",
              " '/content/CNN_assignment/Skin cancer ISIC The International Skin Imaging Collaboration/Train/pigmented benign keratosis/output/pigmented benign keratosis_original_ISIC_0027606.jpg_58c8abb2-f2b4-46f1-9669-2b0b85d97b62.jpg',\n",
              " '/content/CNN_assignment/Skin cancer ISIC The International Skin Imaging Collaboration/Train/pigmented benign keratosis/output/pigmented benign keratosis_original_ISIC_0026135.jpg_0b8f00d6-a192-4309-9ef6-c0989f6a794b.jpg',\n",
              " '/content/CNN_assignment/Skin cancer ISIC The International Skin Imaging Collaboration/Train/pigmented benign keratosis/output/pigmented benign keratosis_original_ISIC_0027287.jpg_8ce8a8e1-a971-43f7-a06e-3d3d37fec4ef.jpg',\n",
              " '/content/CNN_assignment/Skin cancer ISIC The International Skin Imaging Collaboration/Train/pigmented benign keratosis/output/pigmented benign keratosis_original_ISIC_0027780.jpg_91c417b0-db7c-4c75-9a55-de851f3e9c1c.jpg',\n",
              " '/content/CNN_assignment/Skin cancer ISIC The International Skin Imaging Collaboration/Train/pigmented benign keratosis/output/pigmented benign keratosis_original_ISIC_0028656.jpg_7f6e1720-a658-4460-8a1f-09c729d1cc51.jpg',\n",
              " '/content/CNN_assignment/Skin cancer ISIC The International Skin Imaging Collaboration/Train/pigmented benign keratosis/output/pigmented benign keratosis_original_ISIC_0025005.jpg_ffff745d-cd69-418e-b543-7aa728f0df8b.jpg',\n",
              " '/content/CNN_assignment/Skin cancer ISIC The International Skin Imaging Collaboration/Train/pigmented benign keratosis/output/pigmented benign keratosis_original_ISIC_0025465.jpg_92088a13-3fa2-4074-9a00-878c4e08dfb4.jpg',\n",
              " '/content/CNN_assignment/Skin cancer ISIC The International Skin Imaging Collaboration/Train/pigmented benign keratosis/output/pigmented benign keratosis_original_ISIC_0025297.jpg_713f80f7-2652-419a-b7d8-ac4a0671bd6e.jpg',\n",
              " '/content/CNN_assignment/Skin cancer ISIC The International Skin Imaging Collaboration/Train/pigmented benign keratosis/output/pigmented benign keratosis_original_ISIC_0025378.jpg_c5dd9de6-1a6d-4b35-9e38-b2d2ee93a1c4.jpg',\n",
              " '/content/CNN_assignment/Skin cancer ISIC The International Skin Imaging Collaboration/Train/pigmented benign keratosis/output/pigmented benign keratosis_original_ISIC_0027770.jpg_04d8fcda-1f3c-4c97-a687-9292ac3d3ae8.jpg',\n",
              " '/content/CNN_assignment/Skin cancer ISIC The International Skin Imaging Collaboration/Train/pigmented benign keratosis/output/pigmented benign keratosis_original_ISIC_0027513.jpg_3bf66f7a-66f7-4796-bc2c-34489483be64.jpg',\n",
              " '/content/CNN_assignment/Skin cancer ISIC The International Skin Imaging Collaboration/Train/pigmented benign keratosis/output/pigmented benign keratosis_original_ISIC_0025575.jpg_58f95547-32e3-464e-b4d4-79516500b1bf.jpg',\n",
              " '/content/CNN_assignment/Skin cancer ISIC The International Skin Imaging Collaboration/Train/pigmented benign keratosis/output/pigmented benign keratosis_original_ISIC_0025548.jpg_3c239671-9988-4f28-beb2-9a4f564bd1f4.jpg',\n",
              " '/content/CNN_assignment/Skin cancer ISIC The International Skin Imaging Collaboration/Train/pigmented benign keratosis/output/pigmented benign keratosis_original_ISIC_0027219.jpg_1692f4c6-acb4-41da-b2be-65d01c6c312d.jpg',\n",
              " '/content/CNN_assignment/Skin cancer ISIC The International Skin Imaging Collaboration/Train/pigmented benign keratosis/output/pigmented benign keratosis_original_ISIC_0025851.jpg_6bc75387-2048-4185-a8be-588d34967ae5.jpg',\n",
              " '/content/CNN_assignment/Skin cancer ISIC The International Skin Imaging Collaboration/Train/pigmented benign keratosis/output/pigmented benign keratosis_original_ISIC_0027608.jpg_e660dace-9674-48c3-9fb5-2f078e65f1c4.jpg',\n",
              " '/content/CNN_assignment/Skin cancer ISIC The International Skin Imaging Collaboration/Train/pigmented benign keratosis/output/pigmented benign keratosis_original_ISIC_0028611.jpg_956e5533-64a4-42f3-b7c1-34fc11b11efa.jpg',\n",
              " '/content/CNN_assignment/Skin cancer ISIC The International Skin Imaging Collaboration/Train/pigmented benign keratosis/output/pigmented benign keratosis_original_ISIC_0026907.jpg_7acaacf4-2875-4fde-923d-307332da46e5.jpg',\n",
              " '/content/CNN_assignment/Skin cancer ISIC The International Skin Imaging Collaboration/Train/pigmented benign keratosis/output/pigmented benign keratosis_original_ISIC_0027218.jpg_816913cc-f3f3-4a6a-8a35-1bbb5bea4ea2.jpg',\n",
              " '/content/CNN_assignment/Skin cancer ISIC The International Skin Imaging Collaboration/Train/pigmented benign keratosis/output/pigmented benign keratosis_original_ISIC_0026069.jpg_8789a476-ebd8-4c77-9176-11514f601a7d.jpg',\n",
              " '/content/CNN_assignment/Skin cancer ISIC The International Skin Imaging Collaboration/Train/pigmented benign keratosis/output/pigmented benign keratosis_original_ISIC_0025465.jpg_fd41166e-157d-42c7-89ab-98c571a2a3f5.jpg',\n",
              " '/content/CNN_assignment/Skin cancer ISIC The International Skin Imaging Collaboration/Train/pigmented benign keratosis/output/pigmented benign keratosis_original_ISIC_0028120.jpg_301b13d3-5896-42a0-b6ad-3e5789c1457a.jpg',\n",
              " '/content/CNN_assignment/Skin cancer ISIC The International Skin Imaging Collaboration/Train/pigmented benign keratosis/output/pigmented benign keratosis_original_ISIC_0026107.jpg_948de147-5591-4d6c-8ff5-3cff1e773c18.jpg',\n",
              " '/content/CNN_assignment/Skin cancer ISIC The International Skin Imaging Collaboration/Train/pigmented benign keratosis/output/pigmented benign keratosis_original_ISIC_0026947.jpg_2c404dd2-3c8d-4eeb-a90d-507659dceb5d.jpg',\n",
              " '/content/CNN_assignment/Skin cancer ISIC The International Skin Imaging Collaboration/Train/pigmented benign keratosis/output/pigmented benign keratosis_original_ISIC_0025292.jpg_84ba031e-1228-4d51-842f-63371c2d0a2d.jpg',\n",
              " '/content/CNN_assignment/Skin cancer ISIC The International Skin Imaging Collaboration/Train/pigmented benign keratosis/output/pigmented benign keratosis_original_ISIC_0024453.jpg_a724a0f8-7485-43ab-ba42-866ab1a4d993.jpg',\n",
              " '/content/CNN_assignment/Skin cancer ISIC The International Skin Imaging Collaboration/Train/pigmented benign keratosis/output/pigmented benign keratosis_original_ISIC_0025703.jpg_c9b99938-c500-4d8f-81c6-2ad61ab6f09c.jpg',\n",
              " '/content/CNN_assignment/Skin cancer ISIC The International Skin Imaging Collaboration/Train/pigmented benign keratosis/output/pigmented benign keratosis_original_ISIC_0027083.jpg_b0d19d0c-69f6-4e97-9c28-954e018e6b43.jpg',\n",
              " '/content/CNN_assignment/Skin cancer ISIC The International Skin Imaging Collaboration/Train/pigmented benign keratosis/output/pigmented benign keratosis_original_ISIC_0026016.jpg_616df0b1-d25f-4a80-939f-4b6a89b5ec34.jpg',\n",
              " '/content/CNN_assignment/Skin cancer ISIC The International Skin Imaging Collaboration/Train/pigmented benign keratosis/output/pigmented benign keratosis_original_ISIC_0025180.jpg_316068e3-5649-4a54-bd02-528865f7d887.jpg',\n",
              " '/content/CNN_assignment/Skin cancer ISIC The International Skin Imaging Collaboration/Train/pigmented benign keratosis/output/pigmented benign keratosis_original_ISIC_0026794.jpg_6afda70c-79e7-4e82-9dbf-518cc04da88c.jpg',\n",
              " '/content/CNN_assignment/Skin cancer ISIC The International Skin Imaging Collaboration/Train/pigmented benign keratosis/output/pigmented benign keratosis_original_ISIC_0024741.jpg_12008b88-5c92-4ecc-a32c-2b3e9abed851.jpg',\n",
              " '/content/CNN_assignment/Skin cancer ISIC The International Skin Imaging Collaboration/Train/pigmented benign keratosis/output/pigmented benign keratosis_original_ISIC_0024851.jpg_2513075d-7991-4ceb-86a1-de5b98541af3.jpg',\n",
              " '/content/CNN_assignment/Skin cancer ISIC The International Skin Imaging Collaboration/Train/pigmented benign keratosis/output/pigmented benign keratosis_original_ISIC_0027957.jpg_1d4bc24e-cbb9-44a0-8728-25a05d1ebc14.jpg',\n",
              " '/content/CNN_assignment/Skin cancer ISIC The International Skin Imaging Collaboration/Train/pigmented benign keratosis/output/pigmented benign keratosis_original_ISIC_0025703.jpg_4b550afc-f723-488a-a4fa-40d748e2ddca.jpg',\n",
              " '/content/CNN_assignment/Skin cancer ISIC The International Skin Imaging Collaboration/Train/pigmented benign keratosis/output/pigmented benign keratosis_original_ISIC_0026623.jpg_3b755f3f-6fd6-45a5-93f6-5279bd58ccf0.jpg',\n",
              " '/content/CNN_assignment/Skin cancer ISIC The International Skin Imaging Collaboration/Train/pigmented benign keratosis/output/pigmented benign keratosis_original_ISIC_0024782.jpg_e79ed65d-1f9e-448b-ba5a-376db743b5cc.jpg',\n",
              " '/content/CNN_assignment/Skin cancer ISIC The International Skin Imaging Collaboration/Train/pigmented benign keratosis/output/pigmented benign keratosis_original_ISIC_0027435.jpg_88002271-c34c-4fb5-8775-f6693b882f81.jpg',\n",
              " '/content/CNN_assignment/Skin cancer ISIC The International Skin Imaging Collaboration/Train/pigmented benign keratosis/output/pigmented benign keratosis_original_ISIC_0026576.jpg_814ee513-f640-4eb0-a428-b617ac594b89.jpg',\n",
              " '/content/CNN_assignment/Skin cancer ISIC The International Skin Imaging Collaboration/Train/pigmented benign keratosis/output/pigmented benign keratosis_original_ISIC_0028490.jpg_f6a0f4f0-6720-4b16-97fc-f0a766db21e5.jpg',\n",
              " '/content/CNN_assignment/Skin cancer ISIC The International Skin Imaging Collaboration/Train/pigmented benign keratosis/output/pigmented benign keratosis_original_ISIC_0025654.jpg_27284c87-365c-4503-a111-ed9caedf1b2a.jpg',\n",
              " '/content/CNN_assignment/Skin cancer ISIC The International Skin Imaging Collaboration/Train/pigmented benign keratosis/output/pigmented benign keratosis_original_ISIC_0024708.jpg_65daa1fd-8e4e-4ff0-bdc0-50a09fb9d0f0.jpg',\n",
              " '/content/CNN_assignment/Skin cancer ISIC The International Skin Imaging Collaboration/Train/pigmented benign keratosis/output/pigmented benign keratosis_original_ISIC_0025879.jpg_353672d6-ac1b-4686-a1a3-a3c0c30484fc.jpg',\n",
              " '/content/CNN_assignment/Skin cancer ISIC The International Skin Imaging Collaboration/Train/pigmented benign keratosis/output/pigmented benign keratosis_original_ISIC_0025716.jpg_65c329f0-2053-4772-9cfd-7f95f526cb90.jpg',\n",
              " '/content/CNN_assignment/Skin cancer ISIC The International Skin Imaging Collaboration/Train/pigmented benign keratosis/output/pigmented benign keratosis_original_ISIC_0024547.jpg_eebace62-7164-45e0-a6b0-1d8c415e535c.jpg',\n",
              " '/content/CNN_assignment/Skin cancer ISIC The International Skin Imaging Collaboration/Train/pigmented benign keratosis/output/pigmented benign keratosis_original_ISIC_0028294.jpg_26ef4d94-9373-43dd-ae94-a1285d95e24e.jpg',\n",
              " '/content/CNN_assignment/Skin cancer ISIC The International Skin Imaging Collaboration/Train/pigmented benign keratosis/output/pigmented benign keratosis_original_ISIC_0026046.jpg_833a4da2-0337-403a-80b7-2c3b2cd39570.jpg',\n",
              " '/content/CNN_assignment/Skin cancer ISIC The International Skin Imaging Collaboration/Train/pigmented benign keratosis/output/pigmented benign keratosis_original_ISIC_0026273.jpg_8603500c-0672-4dfe-9678-22dc8cb45395.jpg',\n",
              " '/content/CNN_assignment/Skin cancer ISIC The International Skin Imaging Collaboration/Train/pigmented benign keratosis/output/pigmented benign keratosis_original_ISIC_0027270.jpg_902ebaef-24fd-4934-aa83-17fff5610606.jpg',\n",
              " '/content/CNN_assignment/Skin cancer ISIC The International Skin Imaging Collaboration/Train/pigmented benign keratosis/output/pigmented benign keratosis_original_ISIC_0027781.jpg_d4d475ef-047d-4e80-99b1-10f629be78ed.jpg',\n",
              " '/content/CNN_assignment/Skin cancer ISIC The International Skin Imaging Collaboration/Train/pigmented benign keratosis/output/pigmented benign keratosis_original_ISIC_0027023.jpg_958dc455-3293-49e6-831a-1b3e86a56769.jpg',\n",
              " '/content/CNN_assignment/Skin cancer ISIC The International Skin Imaging Collaboration/Train/pigmented benign keratosis/output/pigmented benign keratosis_original_ISIC_0025030.jpg_cba3561b-8d35-498f-96f8-833af12faf78.jpg',\n",
              " '/content/CNN_assignment/Skin cancer ISIC The International Skin Imaging Collaboration/Train/pigmented benign keratosis/output/pigmented benign keratosis_original_ISIC_0025209.jpg_c517f888-ba77-4263-b0a7-d94100e6664c.jpg',\n",
              " '/content/CNN_assignment/Skin cancer ISIC The International Skin Imaging Collaboration/Train/pigmented benign keratosis/output/pigmented benign keratosis_original_ISIC_0024774.jpg_74e9c91e-a690-436d-84ff-e952619426db.jpg',\n",
              " '/content/CNN_assignment/Skin cancer ISIC The International Skin Imaging Collaboration/Train/pigmented benign keratosis/output/pigmented benign keratosis_original_ISIC_0026644.jpg_429d23f1-7636-4835-99ac-9d9df7bc252a.jpg',\n",
              " '/content/CNN_assignment/Skin cancer ISIC The International Skin Imaging Collaboration/Train/pigmented benign keratosis/output/pigmented benign keratosis_original_ISIC_0027344.jpg_4164f6aa-12cf-4605-aff1-2bded56ab0d5.jpg',\n",
              " '/content/CNN_assignment/Skin cancer ISIC The International Skin Imaging Collaboration/Train/pigmented benign keratosis/output/pigmented benign keratosis_original_ISIC_0025431.jpg_727eeb97-9045-4c0c-bc38-7e21ab937ffc.jpg',\n",
              " '/content/CNN_assignment/Skin cancer ISIC The International Skin Imaging Collaboration/Train/pigmented benign keratosis/output/pigmented benign keratosis_original_ISIC_0025431.jpg_efbf773d-f053-4079-be23-a8dd99f28fbb.jpg',\n",
              " '/content/CNN_assignment/Skin cancer ISIC The International Skin Imaging Collaboration/Train/pigmented benign keratosis/output/pigmented benign keratosis_original_ISIC_0026298.jpg_3ae9008b-07ce-4bf2-8f9b-2b6cd66d7420.jpg',\n",
              " '/content/CNN_assignment/Skin cancer ISIC The International Skin Imaging Collaboration/Train/pigmented benign keratosis/output/pigmented benign keratosis_original_ISIC_0025746.jpg_c2db565e-7e78-4636-ba71-f761abaa07f1.jpg',\n",
              " '/content/CNN_assignment/Skin cancer ISIC The International Skin Imaging Collaboration/Train/pigmented benign keratosis/output/pigmented benign keratosis_original_ISIC_0027154.jpg_60aff292-08e1-4e8c-986b-3a1fceacc68c.jpg',\n",
              " '/content/CNN_assignment/Skin cancer ISIC The International Skin Imaging Collaboration/Train/pigmented benign keratosis/output/pigmented benign keratosis_original_ISIC_0026265.jpg_763f5b82-9c52-46f2-8d83-74cbdbb991c1.jpg',\n",
              " '/content/CNN_assignment/Skin cancer ISIC The International Skin Imaging Collaboration/Train/pigmented benign keratosis/output/pigmented benign keratosis_original_ISIC_0024676.jpg_bfc784dd-3079-4f3c-a926-c21da1c7e084.jpg',\n",
              " '/content/CNN_assignment/Skin cancer ISIC The International Skin Imaging Collaboration/Train/pigmented benign keratosis/output/pigmented benign keratosis_original_ISIC_0028100.jpg_5735b000-ad31-489c-9a6d-7b994b89c595.jpg',\n",
              " '/content/CNN_assignment/Skin cancer ISIC The International Skin Imaging Collaboration/Train/pigmented benign keratosis/output/pigmented benign keratosis_original_ISIC_0026959.jpg_595b6cc4-8f0b-43a8-93af-20d6a96055a9.jpg',\n",
              " '/content/CNN_assignment/Skin cancer ISIC The International Skin Imaging Collaboration/Train/pigmented benign keratosis/output/pigmented benign keratosis_original_ISIC_0025659.jpg_5e6f2df9-d39e-4658-95b2-bab85b1f5df9.jpg',\n",
              " '/content/CNN_assignment/Skin cancer ISIC The International Skin Imaging Collaboration/Train/pigmented benign keratosis/output/pigmented benign keratosis_original_ISIC_0027419.jpg_fdc75011-cb69-4adf-b829-37f72dfbae4a.jpg',\n",
              " '/content/CNN_assignment/Skin cancer ISIC The International Skin Imaging Collaboration/Train/pigmented benign keratosis/output/pigmented benign keratosis_original_ISIC_0025876.jpg_50a572ba-f97c-4377-a4a9-c1afe3252684.jpg',\n",
              " '/content/CNN_assignment/Skin cancer ISIC The International Skin Imaging Collaboration/Train/pigmented benign keratosis/output/pigmented benign keratosis_original_ISIC_0024947.jpg_79dda870-16d9-4f03-85ee-064def9770b3.jpg',\n",
              " '/content/CNN_assignment/Skin cancer ISIC The International Skin Imaging Collaboration/Train/pigmented benign keratosis/output/pigmented benign keratosis_original_ISIC_0026844.jpg_c809c561-c6d1-47b3-a46c-236a1253d410.jpg',\n",
              " '/content/CNN_assignment/Skin cancer ISIC The International Skin Imaging Collaboration/Train/pigmented benign keratosis/output/pigmented benign keratosis_original_ISIC_0027967.jpg_97166e16-7da4-4b6f-874c-0608c644d8ac.jpg',\n",
              " '/content/CNN_assignment/Skin cancer ISIC The International Skin Imaging Collaboration/Train/pigmented benign keratosis/output/pigmented benign keratosis_original_ISIC_0025804.jpg_0f66b7b1-f7bb-4679-b926-b46c7c234d0e.jpg',\n",
              " '/content/CNN_assignment/Skin cancer ISIC The International Skin Imaging Collaboration/Train/pigmented benign keratosis/output/pigmented benign keratosis_original_ISIC_0028650.jpg_15247245-227d-404d-8e5e-93f9352e6647.jpg',\n",
              " '/content/CNN_assignment/Skin cancer ISIC The International Skin Imaging Collaboration/Train/pigmented benign keratosis/output/pigmented benign keratosis_original_ISIC_0028611.jpg_cc688ca4-2941-4f53-a117-ca62f9dd18e8.jpg',\n",
              " '/content/CNN_assignment/Skin cancer ISIC The International Skin Imaging Collaboration/Train/pigmented benign keratosis/output/pigmented benign keratosis_original_ISIC_0027053.jpg_efb1c799-f512-4150-beef-c052b8cdad38.jpg',\n",
              " '/content/CNN_assignment/Skin cancer ISIC The International Skin Imaging Collaboration/Train/pigmented benign keratosis/output/pigmented benign keratosis_original_ISIC_0027893.jpg_6bdcf9f4-50c6-44ae-a7b2-2bf5fe125632.jpg',\n",
              " '/content/CNN_assignment/Skin cancer ISIC The International Skin Imaging Collaboration/Train/pigmented benign keratosis/output/pigmented benign keratosis_original_ISIC_0026422.jpg_08010331-5c00-47fa-814a-f700b25d1e3d.jpg',\n",
              " '/content/CNN_assignment/Skin cancer ISIC The International Skin Imaging Collaboration/Train/pigmented benign keratosis/output/pigmented benign keratosis_original_ISIC_0027344.jpg_5123a7fe-0f55-45cd-ba1f-fcf25027ce0f.jpg',\n",
              " '/content/CNN_assignment/Skin cancer ISIC The International Skin Imaging Collaboration/Train/pigmented benign keratosis/output/pigmented benign keratosis_original_ISIC_0024708.jpg_9cd71416-bdc2-4dee-8973-050640968cfd.jpg',\n",
              " '/content/CNN_assignment/Skin cancer ISIC The International Skin Imaging Collaboration/Train/pigmented benign keratosis/output/pigmented benign keratosis_original_ISIC_0028560.jpg_e86150e3-3125-4bcf-849e-d991940093c3.jpg',\n",
              " '/content/CNN_assignment/Skin cancer ISIC The International Skin Imaging Collaboration/Train/pigmented benign keratosis/output/pigmented benign keratosis_original_ISIC_0027739.jpg_a1db75a2-bdac-4b21-87ce-f23e0a80a3bd.jpg',\n",
              " '/content/CNN_assignment/Skin cancer ISIC The International Skin Imaging Collaboration/Train/pigmented benign keratosis/output/pigmented benign keratosis_original_ISIC_0025005.jpg_013309f8-e1d5-4b6d-90de-b76df108803f.jpg',\n",
              " '/content/CNN_assignment/Skin cancer ISIC The International Skin Imaging Collaboration/Train/pigmented benign keratosis/output/pigmented benign keratosis_original_ISIC_0026446.jpg_df935fdd-acbc-4450-9cd7-7147ed015664.jpg',\n",
              " '/content/CNN_assignment/Skin cancer ISIC The International Skin Imaging Collaboration/Train/pigmented benign keratosis/output/pigmented benign keratosis_original_ISIC_0025716.jpg_38e96a25-aef2-48f8-bf78-83fe088bdd3e.jpg',\n",
              " '/content/CNN_assignment/Skin cancer ISIC The International Skin Imaging Collaboration/Train/pigmented benign keratosis/output/pigmented benign keratosis_original_ISIC_0025830.jpg_d04bc460-8693-44e8-b132-212fb27071e8.jpg',\n",
              " '/content/CNN_assignment/Skin cancer ISIC The International Skin Imaging Collaboration/Train/pigmented benign keratosis/output/pigmented benign keratosis_original_ISIC_0027954.jpg_29338d40-00ed-4f05-8e80-fdfedeb8f867.jpg',\n",
              " '/content/CNN_assignment/Skin cancer ISIC The International Skin Imaging Collaboration/Train/pigmented benign keratosis/output/pigmented benign keratosis_original_ISIC_0026961.jpg_ca7cf955-c093-449b-a1f4-17c0640e717f.jpg',\n",
              " '/content/CNN_assignment/Skin cancer ISIC The International Skin Imaging Collaboration/Train/pigmented benign keratosis/output/pigmented benign keratosis_original_ISIC_0026787.jpg_bee85030-1534-4faa-a6a3-4268850068b1.jpg',\n",
              " '/content/CNN_assignment/Skin cancer ISIC The International Skin Imaging Collaboration/Train/pigmented benign keratosis/output/pigmented benign keratosis_original_ISIC_0026532.jpg_3ff59f94-dee2-4109-a647-963e16659d79.jpg',\n",
              " '/content/CNN_assignment/Skin cancer ISIC The International Skin Imaging Collaboration/Train/pigmented benign keratosis/output/pigmented benign keratosis_original_ISIC_0028650.jpg_d3dc9916-ec8c-4924-b58f-e862232d5da3.jpg',\n",
              " '/content/CNN_assignment/Skin cancer ISIC The International Skin Imaging Collaboration/Train/pigmented benign keratosis/output/pigmented benign keratosis_original_ISIC_0026717.jpg_40655e50-9cf8-4eeb-9d2b-7d9f9edab7c8.jpg',\n",
              " '/content/CNN_assignment/Skin cancer ISIC The International Skin Imaging Collaboration/Train/pigmented benign keratosis/output/pigmented benign keratosis_original_ISIC_0026787.jpg_02fce292-60d7-43a8-a71c-a1cec33b6569.jpg',\n",
              " '/content/CNN_assignment/Skin cancer ISIC The International Skin Imaging Collaboration/Train/pigmented benign keratosis/output/pigmented benign keratosis_original_ISIC_0027754.jpg_4c56295b-e330-4c74-bf8b-6061cb6d703d.jpg',\n",
              " '/content/CNN_assignment/Skin cancer ISIC The International Skin Imaging Collaboration/Train/pigmented benign keratosis/output/pigmented benign keratosis_original_ISIC_0026958.jpg_c36767ba-fbff-4250-856b-05ea9585bf42.jpg',\n",
              " '/content/CNN_assignment/Skin cancer ISIC The International Skin Imaging Collaboration/Train/pigmented benign keratosis/output/pigmented benign keratosis_original_ISIC_0026871.jpg_ec40f0dc-2ab3-4dc6-a6bd-196ff7777ecf.jpg',\n",
              " '/content/CNN_assignment/Skin cancer ISIC The International Skin Imaging Collaboration/Train/pigmented benign keratosis/output/pigmented benign keratosis_original_ISIC_0025157.jpg_396b3dc5-3949-4626-a616-a64c2e22a6e4.jpg',\n",
              " '/content/CNN_assignment/Skin cancer ISIC The International Skin Imaging Collaboration/Train/pigmented benign keratosis/output/pigmented benign keratosis_original_ISIC_0027960.jpg_50194b27-a9ae-49bf-b227-c88fcf778109.jpg',\n",
              " '/content/CNN_assignment/Skin cancer ISIC The International Skin Imaging Collaboration/Train/pigmented benign keratosis/output/pigmented benign keratosis_original_ISIC_0024489.jpg_e7d3cb29-c7d8-4890-99df-d452f8ad2fa1.jpg',\n",
              " '/content/CNN_assignment/Skin cancer ISIC The International Skin Imaging Collaboration/Train/pigmented benign keratosis/output/pigmented benign keratosis_original_ISIC_0025030.jpg_0975b27c-d248-46b4-9955-d27fb1465fa5.jpg',\n",
              " '/content/CNN_assignment/Skin cancer ISIC The International Skin Imaging Collaboration/Train/pigmented benign keratosis/output/pigmented benign keratosis_original_ISIC_0027367.jpg_3b2fb929-bd39-4e3c-aaae-38640d710e62.jpg',\n",
              " '/content/CNN_assignment/Skin cancer ISIC The International Skin Imaging Collaboration/Train/pigmented benign keratosis/output/pigmented benign keratosis_original_ISIC_0024997.jpg_131cd9ce-8f2f-400c-81cc-cfc90f91987a.jpg',\n",
              " '/content/CNN_assignment/Skin cancer ISIC The International Skin Imaging Collaboration/Train/pigmented benign keratosis/output/pigmented benign keratosis_original_ISIC_0025140.jpg_b8399714-9563-4f21-a229-c30a0eb6d263.jpg',\n",
              " '/content/CNN_assignment/Skin cancer ISIC The International Skin Imaging Collaboration/Train/pigmented benign keratosis/output/pigmented benign keratosis_original_ISIC_0028052.jpg_f4419492-98ac-4892-83e1-907aa438ddf6.jpg',\n",
              " '/content/CNN_assignment/Skin cancer ISIC The International Skin Imaging Collaboration/Train/pigmented benign keratosis/output/pigmented benign keratosis_original_ISIC_0024947.jpg_81c7bc9b-5574-4864-8c3a-b4d927c7f860.jpg',\n",
              " ...]"
            ]
          },
          "metadata": {
            "tags": []
          },
          "execution_count": 38
        }
      ]
    },
    {
      "cell_type": "code",
      "metadata": {
        "id": "nZvVdF7g3E1z",
        "colab": {
          "base_uri": "https://localhost:8080/"
        },
        "outputId": "7956e579-7854-45b3-e9d4-fef13d305129"
      },
      "source": [
        "lesion_list_new = [os.path.basename(os.path.dirname(os.path.dirname(y))) for y in glob(os.path.join(data_dir_train, '*','output', '*.jpg'))]\n",
        "lesion_list_new"
      ],
      "execution_count": 39,
      "outputs": [
        {
          "output_type": "execute_result",
          "data": {
            "text/plain": [
              "['dermatofibroma',\n",
              " 'dermatofibroma',\n",
              " 'dermatofibroma',\n",
              " 'dermatofibroma',\n",
              " 'dermatofibroma',\n",
              " 'dermatofibroma',\n",
              " 'dermatofibroma',\n",
              " 'dermatofibroma',\n",
              " 'dermatofibroma',\n",
              " 'dermatofibroma',\n",
              " 'dermatofibroma',\n",
              " 'dermatofibroma',\n",
              " 'dermatofibroma',\n",
              " 'dermatofibroma',\n",
              " 'dermatofibroma',\n",
              " 'dermatofibroma',\n",
              " 'dermatofibroma',\n",
              " 'dermatofibroma',\n",
              " 'dermatofibroma',\n",
              " 'dermatofibroma',\n",
              " 'dermatofibroma',\n",
              " 'dermatofibroma',\n",
              " 'dermatofibroma',\n",
              " 'dermatofibroma',\n",
              " 'dermatofibroma',\n",
              " 'dermatofibroma',\n",
              " 'dermatofibroma',\n",
              " 'dermatofibroma',\n",
              " 'dermatofibroma',\n",
              " 'dermatofibroma',\n",
              " 'dermatofibroma',\n",
              " 'dermatofibroma',\n",
              " 'dermatofibroma',\n",
              " 'dermatofibroma',\n",
              " 'dermatofibroma',\n",
              " 'dermatofibroma',\n",
              " 'dermatofibroma',\n",
              " 'dermatofibroma',\n",
              " 'dermatofibroma',\n",
              " 'dermatofibroma',\n",
              " 'dermatofibroma',\n",
              " 'dermatofibroma',\n",
              " 'dermatofibroma',\n",
              " 'dermatofibroma',\n",
              " 'dermatofibroma',\n",
              " 'dermatofibroma',\n",
              " 'dermatofibroma',\n",
              " 'dermatofibroma',\n",
              " 'dermatofibroma',\n",
              " 'dermatofibroma',\n",
              " 'dermatofibroma',\n",
              " 'dermatofibroma',\n",
              " 'dermatofibroma',\n",
              " 'dermatofibroma',\n",
              " 'dermatofibroma',\n",
              " 'dermatofibroma',\n",
              " 'dermatofibroma',\n",
              " 'dermatofibroma',\n",
              " 'dermatofibroma',\n",
              " 'dermatofibroma',\n",
              " 'dermatofibroma',\n",
              " 'dermatofibroma',\n",
              " 'dermatofibroma',\n",
              " 'dermatofibroma',\n",
              " 'dermatofibroma',\n",
              " 'dermatofibroma',\n",
              " 'dermatofibroma',\n",
              " 'dermatofibroma',\n",
              " 'dermatofibroma',\n",
              " 'dermatofibroma',\n",
              " 'dermatofibroma',\n",
              " 'dermatofibroma',\n",
              " 'dermatofibroma',\n",
              " 'dermatofibroma',\n",
              " 'dermatofibroma',\n",
              " 'dermatofibroma',\n",
              " 'dermatofibroma',\n",
              " 'dermatofibroma',\n",
              " 'dermatofibroma',\n",
              " 'dermatofibroma',\n",
              " 'dermatofibroma',\n",
              " 'dermatofibroma',\n",
              " 'dermatofibroma',\n",
              " 'dermatofibroma',\n",
              " 'dermatofibroma',\n",
              " 'dermatofibroma',\n",
              " 'dermatofibroma',\n",
              " 'dermatofibroma',\n",
              " 'dermatofibroma',\n",
              " 'dermatofibroma',\n",
              " 'dermatofibroma',\n",
              " 'dermatofibroma',\n",
              " 'dermatofibroma',\n",
              " 'dermatofibroma',\n",
              " 'dermatofibroma',\n",
              " 'dermatofibroma',\n",
              " 'dermatofibroma',\n",
              " 'dermatofibroma',\n",
              " 'dermatofibroma',\n",
              " 'dermatofibroma',\n",
              " 'dermatofibroma',\n",
              " 'dermatofibroma',\n",
              " 'dermatofibroma',\n",
              " 'dermatofibroma',\n",
              " 'dermatofibroma',\n",
              " 'dermatofibroma',\n",
              " 'dermatofibroma',\n",
              " 'dermatofibroma',\n",
              " 'dermatofibroma',\n",
              " 'dermatofibroma',\n",
              " 'dermatofibroma',\n",
              " 'dermatofibroma',\n",
              " 'dermatofibroma',\n",
              " 'dermatofibroma',\n",
              " 'dermatofibroma',\n",
              " 'dermatofibroma',\n",
              " 'dermatofibroma',\n",
              " 'dermatofibroma',\n",
              " 'dermatofibroma',\n",
              " 'dermatofibroma',\n",
              " 'dermatofibroma',\n",
              " 'dermatofibroma',\n",
              " 'dermatofibroma',\n",
              " 'dermatofibroma',\n",
              " 'dermatofibroma',\n",
              " 'dermatofibroma',\n",
              " 'dermatofibroma',\n",
              " 'dermatofibroma',\n",
              " 'dermatofibroma',\n",
              " 'dermatofibroma',\n",
              " 'dermatofibroma',\n",
              " 'dermatofibroma',\n",
              " 'dermatofibroma',\n",
              " 'dermatofibroma',\n",
              " 'dermatofibroma',\n",
              " 'dermatofibroma',\n",
              " 'dermatofibroma',\n",
              " 'dermatofibroma',\n",
              " 'dermatofibroma',\n",
              " 'dermatofibroma',\n",
              " 'dermatofibroma',\n",
              " 'dermatofibroma',\n",
              " 'dermatofibroma',\n",
              " 'dermatofibroma',\n",
              " 'dermatofibroma',\n",
              " 'dermatofibroma',\n",
              " 'dermatofibroma',\n",
              " 'dermatofibroma',\n",
              " 'dermatofibroma',\n",
              " 'dermatofibroma',\n",
              " 'dermatofibroma',\n",
              " 'dermatofibroma',\n",
              " 'dermatofibroma',\n",
              " 'dermatofibroma',\n",
              " 'dermatofibroma',\n",
              " 'dermatofibroma',\n",
              " 'dermatofibroma',\n",
              " 'dermatofibroma',\n",
              " 'dermatofibroma',\n",
              " 'dermatofibroma',\n",
              " 'dermatofibroma',\n",
              " 'dermatofibroma',\n",
              " 'dermatofibroma',\n",
              " 'dermatofibroma',\n",
              " 'dermatofibroma',\n",
              " 'dermatofibroma',\n",
              " 'dermatofibroma',\n",
              " 'dermatofibroma',\n",
              " 'dermatofibroma',\n",
              " 'dermatofibroma',\n",
              " 'dermatofibroma',\n",
              " 'dermatofibroma',\n",
              " 'dermatofibroma',\n",
              " 'dermatofibroma',\n",
              " 'dermatofibroma',\n",
              " 'dermatofibroma',\n",
              " 'dermatofibroma',\n",
              " 'dermatofibroma',\n",
              " 'dermatofibroma',\n",
              " 'dermatofibroma',\n",
              " 'dermatofibroma',\n",
              " 'dermatofibroma',\n",
              " 'dermatofibroma',\n",
              " 'dermatofibroma',\n",
              " 'dermatofibroma',\n",
              " 'dermatofibroma',\n",
              " 'dermatofibroma',\n",
              " 'dermatofibroma',\n",
              " 'dermatofibroma',\n",
              " 'dermatofibroma',\n",
              " 'dermatofibroma',\n",
              " 'dermatofibroma',\n",
              " 'dermatofibroma',\n",
              " 'dermatofibroma',\n",
              " 'dermatofibroma',\n",
              " 'dermatofibroma',\n",
              " 'dermatofibroma',\n",
              " 'dermatofibroma',\n",
              " 'dermatofibroma',\n",
              " 'dermatofibroma',\n",
              " 'dermatofibroma',\n",
              " 'dermatofibroma',\n",
              " 'dermatofibroma',\n",
              " 'dermatofibroma',\n",
              " 'dermatofibroma',\n",
              " 'dermatofibroma',\n",
              " 'dermatofibroma',\n",
              " 'dermatofibroma',\n",
              " 'dermatofibroma',\n",
              " 'dermatofibroma',\n",
              " 'dermatofibroma',\n",
              " 'dermatofibroma',\n",
              " 'dermatofibroma',\n",
              " 'dermatofibroma',\n",
              " 'dermatofibroma',\n",
              " 'dermatofibroma',\n",
              " 'dermatofibroma',\n",
              " 'dermatofibroma',\n",
              " 'dermatofibroma',\n",
              " 'dermatofibroma',\n",
              " 'dermatofibroma',\n",
              " 'dermatofibroma',\n",
              " 'dermatofibroma',\n",
              " 'dermatofibroma',\n",
              " 'dermatofibroma',\n",
              " 'dermatofibroma',\n",
              " 'dermatofibroma',\n",
              " 'dermatofibroma',\n",
              " 'dermatofibroma',\n",
              " 'dermatofibroma',\n",
              " 'dermatofibroma',\n",
              " 'dermatofibroma',\n",
              " 'dermatofibroma',\n",
              " 'dermatofibroma',\n",
              " 'dermatofibroma',\n",
              " 'dermatofibroma',\n",
              " 'dermatofibroma',\n",
              " 'dermatofibroma',\n",
              " 'dermatofibroma',\n",
              " 'dermatofibroma',\n",
              " 'dermatofibroma',\n",
              " 'dermatofibroma',\n",
              " 'dermatofibroma',\n",
              " 'dermatofibroma',\n",
              " 'dermatofibroma',\n",
              " 'dermatofibroma',\n",
              " 'dermatofibroma',\n",
              " 'dermatofibroma',\n",
              " 'dermatofibroma',\n",
              " 'dermatofibroma',\n",
              " 'dermatofibroma',\n",
              " 'dermatofibroma',\n",
              " 'dermatofibroma',\n",
              " 'dermatofibroma',\n",
              " 'dermatofibroma',\n",
              " 'dermatofibroma',\n",
              " 'dermatofibroma',\n",
              " 'dermatofibroma',\n",
              " 'dermatofibroma',\n",
              " 'dermatofibroma',\n",
              " 'dermatofibroma',\n",
              " 'dermatofibroma',\n",
              " 'dermatofibroma',\n",
              " 'dermatofibroma',\n",
              " 'dermatofibroma',\n",
              " 'dermatofibroma',\n",
              " 'dermatofibroma',\n",
              " 'dermatofibroma',\n",
              " 'dermatofibroma',\n",
              " 'dermatofibroma',\n",
              " 'dermatofibroma',\n",
              " 'dermatofibroma',\n",
              " 'dermatofibroma',\n",
              " 'dermatofibroma',\n",
              " 'dermatofibroma',\n",
              " 'dermatofibroma',\n",
              " 'dermatofibroma',\n",
              " 'dermatofibroma',\n",
              " 'dermatofibroma',\n",
              " 'dermatofibroma',\n",
              " 'dermatofibroma',\n",
              " 'dermatofibroma',\n",
              " 'dermatofibroma',\n",
              " 'dermatofibroma',\n",
              " 'dermatofibroma',\n",
              " 'dermatofibroma',\n",
              " 'dermatofibroma',\n",
              " 'dermatofibroma',\n",
              " 'dermatofibroma',\n",
              " 'dermatofibroma',\n",
              " 'dermatofibroma',\n",
              " 'dermatofibroma',\n",
              " 'dermatofibroma',\n",
              " 'dermatofibroma',\n",
              " 'dermatofibroma',\n",
              " 'dermatofibroma',\n",
              " 'dermatofibroma',\n",
              " 'dermatofibroma',\n",
              " 'dermatofibroma',\n",
              " 'dermatofibroma',\n",
              " 'dermatofibroma',\n",
              " 'dermatofibroma',\n",
              " 'dermatofibroma',\n",
              " 'dermatofibroma',\n",
              " 'dermatofibroma',\n",
              " 'dermatofibroma',\n",
              " 'dermatofibroma',\n",
              " 'dermatofibroma',\n",
              " 'dermatofibroma',\n",
              " 'dermatofibroma',\n",
              " 'dermatofibroma',\n",
              " 'dermatofibroma',\n",
              " 'dermatofibroma',\n",
              " 'dermatofibroma',\n",
              " 'dermatofibroma',\n",
              " 'dermatofibroma',\n",
              " 'dermatofibroma',\n",
              " 'dermatofibroma',\n",
              " 'dermatofibroma',\n",
              " 'dermatofibroma',\n",
              " 'dermatofibroma',\n",
              " 'dermatofibroma',\n",
              " 'dermatofibroma',\n",
              " 'dermatofibroma',\n",
              " 'dermatofibroma',\n",
              " 'dermatofibroma',\n",
              " 'dermatofibroma',\n",
              " 'dermatofibroma',\n",
              " 'dermatofibroma',\n",
              " 'dermatofibroma',\n",
              " 'dermatofibroma',\n",
              " 'dermatofibroma',\n",
              " 'dermatofibroma',\n",
              " 'dermatofibroma',\n",
              " 'dermatofibroma',\n",
              " 'dermatofibroma',\n",
              " 'dermatofibroma',\n",
              " 'dermatofibroma',\n",
              " 'dermatofibroma',\n",
              " 'dermatofibroma',\n",
              " 'dermatofibroma',\n",
              " 'dermatofibroma',\n",
              " 'dermatofibroma',\n",
              " 'dermatofibroma',\n",
              " 'dermatofibroma',\n",
              " 'dermatofibroma',\n",
              " 'dermatofibroma',\n",
              " 'dermatofibroma',\n",
              " 'dermatofibroma',\n",
              " 'dermatofibroma',\n",
              " 'dermatofibroma',\n",
              " 'dermatofibroma',\n",
              " 'dermatofibroma',\n",
              " 'dermatofibroma',\n",
              " 'dermatofibroma',\n",
              " 'dermatofibroma',\n",
              " 'dermatofibroma',\n",
              " 'dermatofibroma',\n",
              " 'dermatofibroma',\n",
              " 'dermatofibroma',\n",
              " 'dermatofibroma',\n",
              " 'dermatofibroma',\n",
              " 'dermatofibroma',\n",
              " 'dermatofibroma',\n",
              " 'dermatofibroma',\n",
              " 'dermatofibroma',\n",
              " 'dermatofibroma',\n",
              " 'dermatofibroma',\n",
              " 'dermatofibroma',\n",
              " 'dermatofibroma',\n",
              " 'dermatofibroma',\n",
              " 'dermatofibroma',\n",
              " 'dermatofibroma',\n",
              " 'dermatofibroma',\n",
              " 'dermatofibroma',\n",
              " 'dermatofibroma',\n",
              " 'dermatofibroma',\n",
              " 'dermatofibroma',\n",
              " 'dermatofibroma',\n",
              " 'dermatofibroma',\n",
              " 'dermatofibroma',\n",
              " 'dermatofibroma',\n",
              " 'dermatofibroma',\n",
              " 'dermatofibroma',\n",
              " 'dermatofibroma',\n",
              " 'dermatofibroma',\n",
              " 'dermatofibroma',\n",
              " 'dermatofibroma',\n",
              " 'dermatofibroma',\n",
              " 'dermatofibroma',\n",
              " 'dermatofibroma',\n",
              " 'dermatofibroma',\n",
              " 'dermatofibroma',\n",
              " 'dermatofibroma',\n",
              " 'dermatofibroma',\n",
              " 'dermatofibroma',\n",
              " 'dermatofibroma',\n",
              " 'dermatofibroma',\n",
              " 'dermatofibroma',\n",
              " 'dermatofibroma',\n",
              " 'dermatofibroma',\n",
              " 'dermatofibroma',\n",
              " 'dermatofibroma',\n",
              " 'dermatofibroma',\n",
              " 'dermatofibroma',\n",
              " 'dermatofibroma',\n",
              " 'dermatofibroma',\n",
              " 'dermatofibroma',\n",
              " 'dermatofibroma',\n",
              " 'dermatofibroma',\n",
              " 'dermatofibroma',\n",
              " 'dermatofibroma',\n",
              " 'dermatofibroma',\n",
              " 'dermatofibroma',\n",
              " 'dermatofibroma',\n",
              " 'dermatofibroma',\n",
              " 'dermatofibroma',\n",
              " 'dermatofibroma',\n",
              " 'dermatofibroma',\n",
              " 'dermatofibroma',\n",
              " 'dermatofibroma',\n",
              " 'dermatofibroma',\n",
              " 'dermatofibroma',\n",
              " 'dermatofibroma',\n",
              " 'dermatofibroma',\n",
              " 'dermatofibroma',\n",
              " 'dermatofibroma',\n",
              " 'dermatofibroma',\n",
              " 'dermatofibroma',\n",
              " 'dermatofibroma',\n",
              " 'dermatofibroma',\n",
              " 'dermatofibroma',\n",
              " 'dermatofibroma',\n",
              " 'dermatofibroma',\n",
              " 'dermatofibroma',\n",
              " 'dermatofibroma',\n",
              " 'dermatofibroma',\n",
              " 'dermatofibroma',\n",
              " 'dermatofibroma',\n",
              " 'dermatofibroma',\n",
              " 'dermatofibroma',\n",
              " 'dermatofibroma',\n",
              " 'dermatofibroma',\n",
              " 'dermatofibroma',\n",
              " 'dermatofibroma',\n",
              " 'dermatofibroma',\n",
              " 'dermatofibroma',\n",
              " 'dermatofibroma',\n",
              " 'dermatofibroma',\n",
              " 'dermatofibroma',\n",
              " 'dermatofibroma',\n",
              " 'dermatofibroma',\n",
              " 'dermatofibroma',\n",
              " 'dermatofibroma',\n",
              " 'dermatofibroma',\n",
              " 'dermatofibroma',\n",
              " 'dermatofibroma',\n",
              " 'dermatofibroma',\n",
              " 'dermatofibroma',\n",
              " 'dermatofibroma',\n",
              " 'dermatofibroma',\n",
              " 'dermatofibroma',\n",
              " 'dermatofibroma',\n",
              " 'dermatofibroma',\n",
              " 'dermatofibroma',\n",
              " 'dermatofibroma',\n",
              " 'dermatofibroma',\n",
              " 'dermatofibroma',\n",
              " 'dermatofibroma',\n",
              " 'dermatofibroma',\n",
              " 'dermatofibroma',\n",
              " 'dermatofibroma',\n",
              " 'dermatofibroma',\n",
              " 'dermatofibroma',\n",
              " 'dermatofibroma',\n",
              " 'dermatofibroma',\n",
              " 'dermatofibroma',\n",
              " 'dermatofibroma',\n",
              " 'dermatofibroma',\n",
              " 'dermatofibroma',\n",
              " 'dermatofibroma',\n",
              " 'dermatofibroma',\n",
              " 'dermatofibroma',\n",
              " 'dermatofibroma',\n",
              " 'dermatofibroma',\n",
              " 'dermatofibroma',\n",
              " 'dermatofibroma',\n",
              " 'dermatofibroma',\n",
              " 'dermatofibroma',\n",
              " 'dermatofibroma',\n",
              " 'dermatofibroma',\n",
              " 'dermatofibroma',\n",
              " 'dermatofibroma',\n",
              " 'dermatofibroma',\n",
              " 'dermatofibroma',\n",
              " 'dermatofibroma',\n",
              " 'dermatofibroma',\n",
              " 'dermatofibroma',\n",
              " 'dermatofibroma',\n",
              " 'dermatofibroma',\n",
              " 'pigmented benign keratosis',\n",
              " 'pigmented benign keratosis',\n",
              " 'pigmented benign keratosis',\n",
              " 'pigmented benign keratosis',\n",
              " 'pigmented benign keratosis',\n",
              " 'pigmented benign keratosis',\n",
              " 'pigmented benign keratosis',\n",
              " 'pigmented benign keratosis',\n",
              " 'pigmented benign keratosis',\n",
              " 'pigmented benign keratosis',\n",
              " 'pigmented benign keratosis',\n",
              " 'pigmented benign keratosis',\n",
              " 'pigmented benign keratosis',\n",
              " 'pigmented benign keratosis',\n",
              " 'pigmented benign keratosis',\n",
              " 'pigmented benign keratosis',\n",
              " 'pigmented benign keratosis',\n",
              " 'pigmented benign keratosis',\n",
              " 'pigmented benign keratosis',\n",
              " 'pigmented benign keratosis',\n",
              " 'pigmented benign keratosis',\n",
              " 'pigmented benign keratosis',\n",
              " 'pigmented benign keratosis',\n",
              " 'pigmented benign keratosis',\n",
              " 'pigmented benign keratosis',\n",
              " 'pigmented benign keratosis',\n",
              " 'pigmented benign keratosis',\n",
              " 'pigmented benign keratosis',\n",
              " 'pigmented benign keratosis',\n",
              " 'pigmented benign keratosis',\n",
              " 'pigmented benign keratosis',\n",
              " 'pigmented benign keratosis',\n",
              " 'pigmented benign keratosis',\n",
              " 'pigmented benign keratosis',\n",
              " 'pigmented benign keratosis',\n",
              " 'pigmented benign keratosis',\n",
              " 'pigmented benign keratosis',\n",
              " 'pigmented benign keratosis',\n",
              " 'pigmented benign keratosis',\n",
              " 'pigmented benign keratosis',\n",
              " 'pigmented benign keratosis',\n",
              " 'pigmented benign keratosis',\n",
              " 'pigmented benign keratosis',\n",
              " 'pigmented benign keratosis',\n",
              " 'pigmented benign keratosis',\n",
              " 'pigmented benign keratosis',\n",
              " 'pigmented benign keratosis',\n",
              " 'pigmented benign keratosis',\n",
              " 'pigmented benign keratosis',\n",
              " 'pigmented benign keratosis',\n",
              " 'pigmented benign keratosis',\n",
              " 'pigmented benign keratosis',\n",
              " 'pigmented benign keratosis',\n",
              " 'pigmented benign keratosis',\n",
              " 'pigmented benign keratosis',\n",
              " 'pigmented benign keratosis',\n",
              " 'pigmented benign keratosis',\n",
              " 'pigmented benign keratosis',\n",
              " 'pigmented benign keratosis',\n",
              " 'pigmented benign keratosis',\n",
              " 'pigmented benign keratosis',\n",
              " 'pigmented benign keratosis',\n",
              " 'pigmented benign keratosis',\n",
              " 'pigmented benign keratosis',\n",
              " 'pigmented benign keratosis',\n",
              " 'pigmented benign keratosis',\n",
              " 'pigmented benign keratosis',\n",
              " 'pigmented benign keratosis',\n",
              " 'pigmented benign keratosis',\n",
              " 'pigmented benign keratosis',\n",
              " 'pigmented benign keratosis',\n",
              " 'pigmented benign keratosis',\n",
              " 'pigmented benign keratosis',\n",
              " 'pigmented benign keratosis',\n",
              " 'pigmented benign keratosis',\n",
              " 'pigmented benign keratosis',\n",
              " 'pigmented benign keratosis',\n",
              " 'pigmented benign keratosis',\n",
              " 'pigmented benign keratosis',\n",
              " 'pigmented benign keratosis',\n",
              " 'pigmented benign keratosis',\n",
              " 'pigmented benign keratosis',\n",
              " 'pigmented benign keratosis',\n",
              " 'pigmented benign keratosis',\n",
              " 'pigmented benign keratosis',\n",
              " 'pigmented benign keratosis',\n",
              " 'pigmented benign keratosis',\n",
              " 'pigmented benign keratosis',\n",
              " 'pigmented benign keratosis',\n",
              " 'pigmented benign keratosis',\n",
              " 'pigmented benign keratosis',\n",
              " 'pigmented benign keratosis',\n",
              " 'pigmented benign keratosis',\n",
              " 'pigmented benign keratosis',\n",
              " 'pigmented benign keratosis',\n",
              " 'pigmented benign keratosis',\n",
              " 'pigmented benign keratosis',\n",
              " 'pigmented benign keratosis',\n",
              " 'pigmented benign keratosis',\n",
              " 'pigmented benign keratosis',\n",
              " 'pigmented benign keratosis',\n",
              " 'pigmented benign keratosis',\n",
              " 'pigmented benign keratosis',\n",
              " 'pigmented benign keratosis',\n",
              " 'pigmented benign keratosis',\n",
              " 'pigmented benign keratosis',\n",
              " 'pigmented benign keratosis',\n",
              " 'pigmented benign keratosis',\n",
              " 'pigmented benign keratosis',\n",
              " 'pigmented benign keratosis',\n",
              " 'pigmented benign keratosis',\n",
              " 'pigmented benign keratosis',\n",
              " 'pigmented benign keratosis',\n",
              " 'pigmented benign keratosis',\n",
              " 'pigmented benign keratosis',\n",
              " 'pigmented benign keratosis',\n",
              " 'pigmented benign keratosis',\n",
              " 'pigmented benign keratosis',\n",
              " 'pigmented benign keratosis',\n",
              " 'pigmented benign keratosis',\n",
              " 'pigmented benign keratosis',\n",
              " 'pigmented benign keratosis',\n",
              " 'pigmented benign keratosis',\n",
              " 'pigmented benign keratosis',\n",
              " 'pigmented benign keratosis',\n",
              " 'pigmented benign keratosis',\n",
              " 'pigmented benign keratosis',\n",
              " 'pigmented benign keratosis',\n",
              " 'pigmented benign keratosis',\n",
              " 'pigmented benign keratosis',\n",
              " 'pigmented benign keratosis',\n",
              " 'pigmented benign keratosis',\n",
              " 'pigmented benign keratosis',\n",
              " 'pigmented benign keratosis',\n",
              " 'pigmented benign keratosis',\n",
              " 'pigmented benign keratosis',\n",
              " 'pigmented benign keratosis',\n",
              " 'pigmented benign keratosis',\n",
              " 'pigmented benign keratosis',\n",
              " 'pigmented benign keratosis',\n",
              " 'pigmented benign keratosis',\n",
              " 'pigmented benign keratosis',\n",
              " 'pigmented benign keratosis',\n",
              " 'pigmented benign keratosis',\n",
              " 'pigmented benign keratosis',\n",
              " 'pigmented benign keratosis',\n",
              " 'pigmented benign keratosis',\n",
              " 'pigmented benign keratosis',\n",
              " 'pigmented benign keratosis',\n",
              " 'pigmented benign keratosis',\n",
              " 'pigmented benign keratosis',\n",
              " 'pigmented benign keratosis',\n",
              " 'pigmented benign keratosis',\n",
              " 'pigmented benign keratosis',\n",
              " 'pigmented benign keratosis',\n",
              " 'pigmented benign keratosis',\n",
              " 'pigmented benign keratosis',\n",
              " 'pigmented benign keratosis',\n",
              " 'pigmented benign keratosis',\n",
              " 'pigmented benign keratosis',\n",
              " 'pigmented benign keratosis',\n",
              " 'pigmented benign keratosis',\n",
              " 'pigmented benign keratosis',\n",
              " 'pigmented benign keratosis',\n",
              " 'pigmented benign keratosis',\n",
              " 'pigmented benign keratosis',\n",
              " 'pigmented benign keratosis',\n",
              " 'pigmented benign keratosis',\n",
              " 'pigmented benign keratosis',\n",
              " 'pigmented benign keratosis',\n",
              " 'pigmented benign keratosis',\n",
              " 'pigmented benign keratosis',\n",
              " 'pigmented benign keratosis',\n",
              " 'pigmented benign keratosis',\n",
              " 'pigmented benign keratosis',\n",
              " 'pigmented benign keratosis',\n",
              " 'pigmented benign keratosis',\n",
              " 'pigmented benign keratosis',\n",
              " 'pigmented benign keratosis',\n",
              " 'pigmented benign keratosis',\n",
              " 'pigmented benign keratosis',\n",
              " 'pigmented benign keratosis',\n",
              " 'pigmented benign keratosis',\n",
              " 'pigmented benign keratosis',\n",
              " 'pigmented benign keratosis',\n",
              " 'pigmented benign keratosis',\n",
              " 'pigmented benign keratosis',\n",
              " 'pigmented benign keratosis',\n",
              " 'pigmented benign keratosis',\n",
              " 'pigmented benign keratosis',\n",
              " 'pigmented benign keratosis',\n",
              " 'pigmented benign keratosis',\n",
              " 'pigmented benign keratosis',\n",
              " 'pigmented benign keratosis',\n",
              " 'pigmented benign keratosis',\n",
              " 'pigmented benign keratosis',\n",
              " 'pigmented benign keratosis',\n",
              " 'pigmented benign keratosis',\n",
              " 'pigmented benign keratosis',\n",
              " 'pigmented benign keratosis',\n",
              " 'pigmented benign keratosis',\n",
              " 'pigmented benign keratosis',\n",
              " 'pigmented benign keratosis',\n",
              " 'pigmented benign keratosis',\n",
              " 'pigmented benign keratosis',\n",
              " 'pigmented benign keratosis',\n",
              " 'pigmented benign keratosis',\n",
              " 'pigmented benign keratosis',\n",
              " 'pigmented benign keratosis',\n",
              " 'pigmented benign keratosis',\n",
              " 'pigmented benign keratosis',\n",
              " 'pigmented benign keratosis',\n",
              " 'pigmented benign keratosis',\n",
              " 'pigmented benign keratosis',\n",
              " 'pigmented benign keratosis',\n",
              " 'pigmented benign keratosis',\n",
              " 'pigmented benign keratosis',\n",
              " 'pigmented benign keratosis',\n",
              " 'pigmented benign keratosis',\n",
              " 'pigmented benign keratosis',\n",
              " 'pigmented benign keratosis',\n",
              " 'pigmented benign keratosis',\n",
              " 'pigmented benign keratosis',\n",
              " 'pigmented benign keratosis',\n",
              " 'pigmented benign keratosis',\n",
              " 'pigmented benign keratosis',\n",
              " 'pigmented benign keratosis',\n",
              " 'pigmented benign keratosis',\n",
              " 'pigmented benign keratosis',\n",
              " 'pigmented benign keratosis',\n",
              " 'pigmented benign keratosis',\n",
              " 'pigmented benign keratosis',\n",
              " 'pigmented benign keratosis',\n",
              " 'pigmented benign keratosis',\n",
              " 'pigmented benign keratosis',\n",
              " 'pigmented benign keratosis',\n",
              " 'pigmented benign keratosis',\n",
              " 'pigmented benign keratosis',\n",
              " 'pigmented benign keratosis',\n",
              " 'pigmented benign keratosis',\n",
              " 'pigmented benign keratosis',\n",
              " 'pigmented benign keratosis',\n",
              " 'pigmented benign keratosis',\n",
              " 'pigmented benign keratosis',\n",
              " 'pigmented benign keratosis',\n",
              " 'pigmented benign keratosis',\n",
              " 'pigmented benign keratosis',\n",
              " 'pigmented benign keratosis',\n",
              " 'pigmented benign keratosis',\n",
              " 'pigmented benign keratosis',\n",
              " 'pigmented benign keratosis',\n",
              " 'pigmented benign keratosis',\n",
              " 'pigmented benign keratosis',\n",
              " 'pigmented benign keratosis',\n",
              " 'pigmented benign keratosis',\n",
              " 'pigmented benign keratosis',\n",
              " 'pigmented benign keratosis',\n",
              " 'pigmented benign keratosis',\n",
              " 'pigmented benign keratosis',\n",
              " 'pigmented benign keratosis',\n",
              " 'pigmented benign keratosis',\n",
              " 'pigmented benign keratosis',\n",
              " 'pigmented benign keratosis',\n",
              " 'pigmented benign keratosis',\n",
              " 'pigmented benign keratosis',\n",
              " 'pigmented benign keratosis',\n",
              " 'pigmented benign keratosis',\n",
              " 'pigmented benign keratosis',\n",
              " 'pigmented benign keratosis',\n",
              " 'pigmented benign keratosis',\n",
              " 'pigmented benign keratosis',\n",
              " 'pigmented benign keratosis',\n",
              " 'pigmented benign keratosis',\n",
              " 'pigmented benign keratosis',\n",
              " 'pigmented benign keratosis',\n",
              " 'pigmented benign keratosis',\n",
              " 'pigmented benign keratosis',\n",
              " 'pigmented benign keratosis',\n",
              " 'pigmented benign keratosis',\n",
              " 'pigmented benign keratosis',\n",
              " 'pigmented benign keratosis',\n",
              " 'pigmented benign keratosis',\n",
              " 'pigmented benign keratosis',\n",
              " 'pigmented benign keratosis',\n",
              " 'pigmented benign keratosis',\n",
              " 'pigmented benign keratosis',\n",
              " 'pigmented benign keratosis',\n",
              " 'pigmented benign keratosis',\n",
              " 'pigmented benign keratosis',\n",
              " 'pigmented benign keratosis',\n",
              " 'pigmented benign keratosis',\n",
              " 'pigmented benign keratosis',\n",
              " 'pigmented benign keratosis',\n",
              " 'pigmented benign keratosis',\n",
              " 'pigmented benign keratosis',\n",
              " 'pigmented benign keratosis',\n",
              " 'pigmented benign keratosis',\n",
              " 'pigmented benign keratosis',\n",
              " 'pigmented benign keratosis',\n",
              " 'pigmented benign keratosis',\n",
              " 'pigmented benign keratosis',\n",
              " 'pigmented benign keratosis',\n",
              " 'pigmented benign keratosis',\n",
              " 'pigmented benign keratosis',\n",
              " 'pigmented benign keratosis',\n",
              " 'pigmented benign keratosis',\n",
              " 'pigmented benign keratosis',\n",
              " 'pigmented benign keratosis',\n",
              " 'pigmented benign keratosis',\n",
              " 'pigmented benign keratosis',\n",
              " 'pigmented benign keratosis',\n",
              " 'pigmented benign keratosis',\n",
              " 'pigmented benign keratosis',\n",
              " 'pigmented benign keratosis',\n",
              " 'pigmented benign keratosis',\n",
              " 'pigmented benign keratosis',\n",
              " 'pigmented benign keratosis',\n",
              " 'pigmented benign keratosis',\n",
              " 'pigmented benign keratosis',\n",
              " 'pigmented benign keratosis',\n",
              " 'pigmented benign keratosis',\n",
              " 'pigmented benign keratosis',\n",
              " 'pigmented benign keratosis',\n",
              " 'pigmented benign keratosis',\n",
              " 'pigmented benign keratosis',\n",
              " 'pigmented benign keratosis',\n",
              " 'pigmented benign keratosis',\n",
              " 'pigmented benign keratosis',\n",
              " 'pigmented benign keratosis',\n",
              " 'pigmented benign keratosis',\n",
              " 'pigmented benign keratosis',\n",
              " 'pigmented benign keratosis',\n",
              " 'pigmented benign keratosis',\n",
              " 'pigmented benign keratosis',\n",
              " 'pigmented benign keratosis',\n",
              " 'pigmented benign keratosis',\n",
              " 'pigmented benign keratosis',\n",
              " 'pigmented benign keratosis',\n",
              " 'pigmented benign keratosis',\n",
              " 'pigmented benign keratosis',\n",
              " 'pigmented benign keratosis',\n",
              " 'pigmented benign keratosis',\n",
              " 'pigmented benign keratosis',\n",
              " 'pigmented benign keratosis',\n",
              " 'pigmented benign keratosis',\n",
              " 'pigmented benign keratosis',\n",
              " 'pigmented benign keratosis',\n",
              " 'pigmented benign keratosis',\n",
              " 'pigmented benign keratosis',\n",
              " 'pigmented benign keratosis',\n",
              " 'pigmented benign keratosis',\n",
              " 'pigmented benign keratosis',\n",
              " 'pigmented benign keratosis',\n",
              " 'pigmented benign keratosis',\n",
              " 'pigmented benign keratosis',\n",
              " 'pigmented benign keratosis',\n",
              " 'pigmented benign keratosis',\n",
              " 'pigmented benign keratosis',\n",
              " 'pigmented benign keratosis',\n",
              " 'pigmented benign keratosis',\n",
              " 'pigmented benign keratosis',\n",
              " 'pigmented benign keratosis',\n",
              " 'pigmented benign keratosis',\n",
              " 'pigmented benign keratosis',\n",
              " 'pigmented benign keratosis',\n",
              " 'pigmented benign keratosis',\n",
              " 'pigmented benign keratosis',\n",
              " 'pigmented benign keratosis',\n",
              " 'pigmented benign keratosis',\n",
              " 'pigmented benign keratosis',\n",
              " 'pigmented benign keratosis',\n",
              " 'pigmented benign keratosis',\n",
              " 'pigmented benign keratosis',\n",
              " 'pigmented benign keratosis',\n",
              " 'pigmented benign keratosis',\n",
              " 'pigmented benign keratosis',\n",
              " 'pigmented benign keratosis',\n",
              " 'pigmented benign keratosis',\n",
              " 'pigmented benign keratosis',\n",
              " 'pigmented benign keratosis',\n",
              " 'pigmented benign keratosis',\n",
              " 'pigmented benign keratosis',\n",
              " 'pigmented benign keratosis',\n",
              " 'pigmented benign keratosis',\n",
              " 'pigmented benign keratosis',\n",
              " 'pigmented benign keratosis',\n",
              " 'pigmented benign keratosis',\n",
              " 'pigmented benign keratosis',\n",
              " 'pigmented benign keratosis',\n",
              " 'pigmented benign keratosis',\n",
              " 'pigmented benign keratosis',\n",
              " 'pigmented benign keratosis',\n",
              " 'pigmented benign keratosis',\n",
              " 'pigmented benign keratosis',\n",
              " 'pigmented benign keratosis',\n",
              " 'pigmented benign keratosis',\n",
              " 'pigmented benign keratosis',\n",
              " 'pigmented benign keratosis',\n",
              " 'pigmented benign keratosis',\n",
              " 'pigmented benign keratosis',\n",
              " 'pigmented benign keratosis',\n",
              " 'pigmented benign keratosis',\n",
              " 'pigmented benign keratosis',\n",
              " 'pigmented benign keratosis',\n",
              " 'pigmented benign keratosis',\n",
              " 'pigmented benign keratosis',\n",
              " 'pigmented benign keratosis',\n",
              " 'pigmented benign keratosis',\n",
              " 'pigmented benign keratosis',\n",
              " 'pigmented benign keratosis',\n",
              " 'pigmented benign keratosis',\n",
              " 'pigmented benign keratosis',\n",
              " 'pigmented benign keratosis',\n",
              " 'pigmented benign keratosis',\n",
              " 'pigmented benign keratosis',\n",
              " 'pigmented benign keratosis',\n",
              " 'pigmented benign keratosis',\n",
              " 'pigmented benign keratosis',\n",
              " 'pigmented benign keratosis',\n",
              " 'pigmented benign keratosis',\n",
              " 'pigmented benign keratosis',\n",
              " 'pigmented benign keratosis',\n",
              " 'pigmented benign keratosis',\n",
              " 'pigmented benign keratosis',\n",
              " 'pigmented benign keratosis',\n",
              " 'pigmented benign keratosis',\n",
              " 'pigmented benign keratosis',\n",
              " 'pigmented benign keratosis',\n",
              " 'pigmented benign keratosis',\n",
              " 'pigmented benign keratosis',\n",
              " 'pigmented benign keratosis',\n",
              " 'pigmented benign keratosis',\n",
              " 'pigmented benign keratosis',\n",
              " 'pigmented benign keratosis',\n",
              " 'pigmented benign keratosis',\n",
              " 'pigmented benign keratosis',\n",
              " 'pigmented benign keratosis',\n",
              " 'pigmented benign keratosis',\n",
              " 'pigmented benign keratosis',\n",
              " 'pigmented benign keratosis',\n",
              " 'pigmented benign keratosis',\n",
              " 'pigmented benign keratosis',\n",
              " 'pigmented benign keratosis',\n",
              " 'pigmented benign keratosis',\n",
              " 'pigmented benign keratosis',\n",
              " 'pigmented benign keratosis',\n",
              " 'pigmented benign keratosis',\n",
              " 'pigmented benign keratosis',\n",
              " 'pigmented benign keratosis',\n",
              " 'pigmented benign keratosis',\n",
              " 'pigmented benign keratosis',\n",
              " 'pigmented benign keratosis',\n",
              " 'pigmented benign keratosis',\n",
              " 'pigmented benign keratosis',\n",
              " 'pigmented benign keratosis',\n",
              " 'pigmented benign keratosis',\n",
              " 'pigmented benign keratosis',\n",
              " 'pigmented benign keratosis',\n",
              " 'pigmented benign keratosis',\n",
              " 'pigmented benign keratosis',\n",
              " 'pigmented benign keratosis',\n",
              " 'pigmented benign keratosis',\n",
              " 'pigmented benign keratosis',\n",
              " 'pigmented benign keratosis',\n",
              " 'pigmented benign keratosis',\n",
              " 'pigmented benign keratosis',\n",
              " 'pigmented benign keratosis',\n",
              " 'pigmented benign keratosis',\n",
              " 'pigmented benign keratosis',\n",
              " 'pigmented benign keratosis',\n",
              " 'pigmented benign keratosis',\n",
              " 'pigmented benign keratosis',\n",
              " 'pigmented benign keratosis',\n",
              " 'pigmented benign keratosis',\n",
              " 'pigmented benign keratosis',\n",
              " 'pigmented benign keratosis',\n",
              " 'pigmented benign keratosis',\n",
              " 'pigmented benign keratosis',\n",
              " 'pigmented benign keratosis',\n",
              " 'pigmented benign keratosis',\n",
              " 'pigmented benign keratosis',\n",
              " 'pigmented benign keratosis',\n",
              " 'pigmented benign keratosis',\n",
              " 'pigmented benign keratosis',\n",
              " 'pigmented benign keratosis',\n",
              " 'pigmented benign keratosis',\n",
              " 'pigmented benign keratosis',\n",
              " 'pigmented benign keratosis',\n",
              " 'pigmented benign keratosis',\n",
              " 'pigmented benign keratosis',\n",
              " 'pigmented benign keratosis',\n",
              " 'pigmented benign keratosis',\n",
              " 'pigmented benign keratosis',\n",
              " 'pigmented benign keratosis',\n",
              " 'pigmented benign keratosis',\n",
              " 'pigmented benign keratosis',\n",
              " 'pigmented benign keratosis',\n",
              " 'pigmented benign keratosis',\n",
              " 'pigmented benign keratosis',\n",
              " 'pigmented benign keratosis',\n",
              " ...]"
            ]
          },
          "metadata": {
            "tags": []
          },
          "execution_count": 39
        }
      ]
    },
    {
      "cell_type": "code",
      "metadata": {
        "id": "okcqVFAA2nxK"
      },
      "source": [
        "dataframe_dict_new = dict(zip(path_list_new, lesion_list_new))"
      ],
      "execution_count": 40,
      "outputs": []
    },
    {
      "cell_type": "code",
      "metadata": {
        "id": "njzBxTNT2nxK"
      },
      "source": [
        "original_df=pd.DataFrame()\r\n",
        "df2 = pd.DataFrame(list(dataframe_dict_new.items()),columns = ['Path','Label'])\r\n",
        "new_df = original_df.append(df2)"
      ],
      "execution_count": 41,
      "outputs": []
    },
    {
      "cell_type": "code",
      "metadata": {
        "id": "5j45rmxd2nxK",
        "colab": {
          "base_uri": "https://localhost:8080/"
        },
        "outputId": "44a06a18-7cc4-46ca-db5e-224cfa4c621e"
      },
      "source": [
        "new_df['Label'].value_counts()"
      ],
      "execution_count": 42,
      "outputs": [
        {
          "output_type": "execute_result",
          "data": {
            "text/plain": [
              "melanoma                      500\n",
              "vascular lesion               500\n",
              "actinic keratosis             500\n",
              "pigmented benign keratosis    500\n",
              "squamous cell carcinoma       500\n",
              "basal cell carcinoma          500\n",
              "dermatofibroma                500\n",
              "seborrheic keratosis          500\n",
              "nevus                         500\n",
              "Name: Label, dtype: int64"
            ]
          },
          "metadata": {
            "tags": []
          },
          "execution_count": 42
        }
      ]
    },
    {
      "cell_type": "markdown",
      "metadata": {
        "id": "9NirFBvGPmgI"
      },
      "source": [
        "So, now we have added 500 images to all the classes to maintain some class balance. We can add more images as we want to improve training process."
      ]
    },
    {
      "cell_type": "markdown",
      "metadata": {
        "id": "9EnspeMbRWNs"
      },
      "source": [
        "#### **Todo**: Train the model on the data created using Augmentor"
      ]
    },
    {
      "cell_type": "code",
      "metadata": {
        "id": "hFcj1XgndRWz"
      },
      "source": [
        "batch_size = 32\n",
        "img_height = 180\n",
        "img_width = 180"
      ],
      "execution_count": 43,
      "outputs": []
    },
    {
      "cell_type": "markdown",
      "metadata": {
        "id": "0haOU11Ey8ey"
      },
      "source": [
        "#### **Todo:** Create a training dataset"
      ]
    },
    {
      "cell_type": "code",
      "metadata": {
        "id": "H4ZY11judRWz",
        "colab": {
          "base_uri": "https://localhost:8080/"
        },
        "outputId": "a2641387-47b7-4e34-9d2d-b30f4d62e119"
      },
      "source": [
        "data_dir_train=pathlib.Path(\"/content/CNN_assignment/Skin cancer ISIC The International Skin Imaging Collaboration/Train/\")\n",
        "train_ds = tf.keras.preprocessing.image_dataset_from_directory(\n",
        "               directory=data_dir_train, labels='inferred', label_mode='categorical', class_names=None,\n",
        "               color_mode='rgb', batch_size=batch_size, image_size=(img_height, img_width),\n",
        "               shuffle=True, seed=123, validation_split=.20, subset=\"training\",\n",
        "              interpolation='nearest', follow_links=False)"
      ],
      "execution_count": 44,
      "outputs": [
        {
          "output_type": "stream",
          "text": [
            "Found 6739 files belonging to 9 classes.\n",
            "Using 5392 files for training.\n"
          ],
          "name": "stdout"
        }
      ]
    },
    {
      "cell_type": "markdown",
      "metadata": {
        "id": "mwNJVDuBP5kf"
      },
      "source": [
        "#### **Todo:** Create a validation dataset"
      ]
    },
    {
      "cell_type": "code",
      "metadata": {
        "id": "TX191d_3dRW0",
        "colab": {
          "base_uri": "https://localhost:8080/"
        },
        "outputId": "91634cc0-2558-4e20-d952-14001b54278b"
      },
      "source": [
        "val_ds = tf.keras.preprocessing.image_dataset_from_directory(\n",
        "               directory=data_dir_train, labels='inferred', label_mode='categorical', class_names=None,\n",
        "               color_mode='rgb', batch_size=batch_size, image_size=(img_height, img_width),\n",
        "               shuffle=True, seed=123, validation_split=.20, subset=\"validation\",\n",
        "              interpolation='nearest', follow_links=False)"
      ],
      "execution_count": 45,
      "outputs": [
        {
          "output_type": "stream",
          "text": [
            "Found 6739 files belonging to 9 classes.\n",
            "Using 1347 files for validation.\n"
          ],
          "name": "stdout"
        }
      ]
    },
    {
      "cell_type": "markdown",
      "metadata": {
        "id": "JaoWeOEpVjqH"
      },
      "source": [
        "#### **Todo:** Create your model (make sure to include normalization)"
      ]
    },
    {
      "cell_type": "code",
      "metadata": {
        "id": "Ch0MuKvFVr7O"
      },
      "source": [
        "## your code goes here\r\n",
        "model = tf.keras.Sequential(\r\n",
        "    preprocessing_layers +\r\n",
        "    core_layers +\r\n",
        "    dense_layers\r\n",
        ")"
      ],
      "execution_count": 46,
      "outputs": []
    },
    {
      "cell_type": "markdown",
      "metadata": {
        "id": "Bu5N9LxkVx1B"
      },
      "source": [
        "#### **Todo:** Compile your model (Choose optimizer and loss function appropriately)"
      ]
    },
    {
      "cell_type": "code",
      "metadata": {
        "id": "H47GWmLbdRW1"
      },
      "source": [
        "## your code goes here\r\n",
        "\r\n",
        "## Your code goes here\r\n",
        "loss = tf.keras.losses.CategoricalCrossentropy(from_logits=True)\r\n",
        "model.compile(optimizer='adam',\r\n",
        "              loss=loss,\r\n",
        "              metrics=['accuracy'])\r\n"
      ],
      "execution_count": 47,
      "outputs": []
    },
    {
      "cell_type": "code",
      "metadata": {
        "colab": {
          "base_uri": "https://localhost:8080/"
        },
        "id": "2mp_iurQxKoE",
        "outputId": "0c4d3066-4c94-4c59-9111-b3dfdb540867"
      },
      "source": [
        "model.summary()"
      ],
      "execution_count": 48,
      "outputs": [
        {
          "output_type": "stream",
          "text": [
            "Model: \"sequential_2\"\n",
            "_________________________________________________________________\n",
            "Layer (type)                 Output Shape              Param #   \n",
            "=================================================================\n",
            "rescaling (Rescaling)        (None, 180, 180, 3)       0         \n",
            "_________________________________________________________________\n",
            "conv2d_3 (Conv2D)            (None, 180, 180, 16)      448       \n",
            "_________________________________________________________________\n",
            "max_pooling2d_3 (MaxPooling2 (None, 90, 90, 16)        0         \n",
            "_________________________________________________________________\n",
            "dropout (Dropout)            (None, 90, 90, 16)        0         \n",
            "_________________________________________________________________\n",
            "conv2d_4 (Conv2D)            (None, 90, 90, 32)        4640      \n",
            "_________________________________________________________________\n",
            "max_pooling2d_4 (MaxPooling2 (None, 45, 45, 32)        0         \n",
            "_________________________________________________________________\n",
            "dropout_1 (Dropout)          (None, 45, 45, 32)        0         \n",
            "_________________________________________________________________\n",
            "conv2d_5 (Conv2D)            (None, 45, 45, 64)        18496     \n",
            "_________________________________________________________________\n",
            "max_pooling2d_5 (MaxPooling2 (None, 22, 22, 64)        0         \n",
            "_________________________________________________________________\n",
            "dropout_2 (Dropout)          (None, 22, 22, 64)        0         \n",
            "_________________________________________________________________\n",
            "flatten_1 (Flatten)          (None, 30976)             0         \n",
            "_________________________________________________________________\n",
            "dense_2 (Dense)              (None, 128)               3965056   \n",
            "_________________________________________________________________\n",
            "dropout_3 (Dropout)          (None, 128)               0         \n",
            "_________________________________________________________________\n",
            "dense_3 (Dense)              (None, 9)                 1161      \n",
            "=================================================================\n",
            "Total params: 3,989,801\n",
            "Trainable params: 3,989,801\n",
            "Non-trainable params: 0\n",
            "_________________________________________________________________\n"
          ],
          "name": "stdout"
        }
      ]
    },
    {
      "cell_type": "markdown",
      "metadata": {
        "id": "9gS-Y1bJV7uy"
      },
      "source": [
        "#### **Todo:**  Train your model"
      ]
    },
    {
      "cell_type": "code",
      "metadata": {
        "id": "fcV6OdI4dRW1",
        "colab": {
          "base_uri": "https://localhost:8080/"
        },
        "outputId": "0fe817dc-5acd-461b-a3bf-12f490bdce34"
      },
      "source": [
        "epochs = 50\n",
        "## Your code goes here, use 50 epochs.\n",
        "##epochs = 20\n",
        "history = model.fit(\n",
        "  train_ds,\n",
        "  validation_data=val_ds,\n",
        "  epochs=epochs\n",
        ")"
      ],
      "execution_count": null,
      "outputs": [
        {
          "output_type": "stream",
          "text": [
            "Epoch 1/50\n",
            "169/169 [==============================] - 38s 214ms/step - loss: 1.3283 - accuracy: 0.5008 - val_loss: 1.2508 - val_accuracy: 0.5538\n",
            "Epoch 2/50\n",
            "169/169 [==============================] - 37s 211ms/step - loss: 1.1756 - accuracy: 0.5530 - val_loss: 1.1760 - val_accuracy: 0.5932\n",
            "Epoch 3/50\n",
            "169/169 [==============================] - 37s 213ms/step - loss: 1.1393 - accuracy: 0.5716 - val_loss: 1.2474 - val_accuracy: 0.5256\n",
            "Epoch 4/50\n",
            "169/169 [==============================] - 37s 210ms/step - loss: 1.0515 - accuracy: 0.6026 - val_loss: 1.0223 - val_accuracy: 0.6333\n",
            "Epoch 5/50\n",
            "169/169 [==============================] - 36s 209ms/step - loss: 0.9692 - accuracy: 0.6377 - val_loss: 0.9726 - val_accuracy: 0.6570\n",
            "Epoch 6/50\n",
            "169/169 [==============================] - 37s 210ms/step - loss: 0.9170 - accuracy: 0.6600 - val_loss: 0.8816 - val_accuracy: 0.6823\n",
            "Epoch 7/50\n",
            "169/169 [==============================] - 37s 211ms/step - loss: 0.8469 - accuracy: 0.6858 - val_loss: 0.9712 - val_accuracy: 0.6444\n",
            "Epoch 8/50\n",
            "169/169 [==============================] - 37s 210ms/step - loss: 0.7506 - accuracy: 0.7186 - val_loss: 0.9723 - val_accuracy: 0.6518\n",
            "Epoch 9/50\n",
            "169/169 [==============================] - 37s 212ms/step - loss: 0.7510 - accuracy: 0.7320 - val_loss: 1.1231 - val_accuracy: 0.6036\n",
            "Epoch 10/50\n",
            "169/169 [==============================] - 36s 209ms/step - loss: 0.7611 - accuracy: 0.7116 - val_loss: 0.7972 - val_accuracy: 0.7275\n",
            "Epoch 11/50\n",
            "169/169 [==============================] - 36s 209ms/step - loss: 0.6591 - accuracy: 0.7498 - val_loss: 0.7537 - val_accuracy: 0.7572\n",
            "Epoch 12/50\n",
            "169/169 [==============================] - 37s 211ms/step - loss: 0.5959 - accuracy: 0.7655 - val_loss: 0.7746 - val_accuracy: 0.7179\n",
            "Epoch 13/50\n",
            "169/169 [==============================] - 37s 211ms/step - loss: 0.5832 - accuracy: 0.7780 - val_loss: 0.7350 - val_accuracy: 0.7365\n",
            "Epoch 14/50\n",
            "169/169 [==============================] - 37s 213ms/step - loss: 0.5536 - accuracy: 0.7905 - val_loss: 0.6257 - val_accuracy: 0.7817\n",
            "Epoch 15/50\n",
            "169/169 [==============================] - 37s 210ms/step - loss: 0.5110 - accuracy: 0.8114 - val_loss: 0.6149 - val_accuracy: 0.7973\n",
            "Epoch 16/50\n",
            "169/169 [==============================] - 36s 209ms/step - loss: 0.5710 - accuracy: 0.7828 - val_loss: 0.7066 - val_accuracy: 0.7691\n",
            "Epoch 17/50\n",
            "169/169 [==============================] - 37s 212ms/step - loss: 0.4657 - accuracy: 0.8243 - val_loss: 0.5785 - val_accuracy: 0.8114\n",
            "Epoch 18/50\n",
            "169/169 [==============================] - 37s 212ms/step - loss: 0.4532 - accuracy: 0.8259 - val_loss: 0.6572 - val_accuracy: 0.7706\n",
            "Epoch 19/50\n",
            "169/169 [==============================] - 37s 210ms/step - loss: 0.4928 - accuracy: 0.8159 - val_loss: 0.5790 - val_accuracy: 0.8137\n",
            "Epoch 20/50\n",
            "169/169 [==============================] - 37s 211ms/step - loss: 0.4636 - accuracy: 0.8284 - val_loss: 0.5750 - val_accuracy: 0.8196\n",
            "Epoch 21/50\n",
            "169/169 [==============================] - 36s 208ms/step - loss: 0.4099 - accuracy: 0.8466 - val_loss: 0.5485 - val_accuracy: 0.8062\n",
            "Epoch 22/50\n",
            "169/169 [==============================] - 37s 213ms/step - loss: 0.3977 - accuracy: 0.8422 - val_loss: 0.6473 - val_accuracy: 0.7951\n",
            "Epoch 23/50\n",
            "169/169 [==============================] - 37s 212ms/step - loss: 0.4088 - accuracy: 0.8497 - val_loss: 0.6343 - val_accuracy: 0.7966\n",
            "Epoch 24/50\n",
            "169/169 [==============================] - 37s 211ms/step - loss: 0.3663 - accuracy: 0.8608 - val_loss: 0.5577 - val_accuracy: 0.8211\n",
            "Epoch 25/50\n",
            "169/169 [==============================] - 37s 211ms/step - loss: 0.3761 - accuracy: 0.8525 - val_loss: 0.5870 - val_accuracy: 0.8248\n",
            "Epoch 26/50\n",
            "169/169 [==============================] - 36s 209ms/step - loss: 0.3971 - accuracy: 0.8452 - val_loss: 0.4966 - val_accuracy: 0.8530\n",
            "Epoch 27/50\n",
            "169/169 [==============================] - 37s 212ms/step - loss: 0.3319 - accuracy: 0.8743 - val_loss: 0.6168 - val_accuracy: 0.8018\n",
            "Epoch 28/50\n",
            "169/169 [==============================] - 37s 211ms/step - loss: 0.3738 - accuracy: 0.8646 - val_loss: 0.6027 - val_accuracy: 0.8137\n",
            "Epoch 29/50\n",
            "169/169 [==============================] - 37s 211ms/step - loss: 0.3782 - accuracy: 0.8549 - val_loss: 0.6038 - val_accuracy: 0.8300\n",
            "Epoch 30/50\n",
            "169/169 [==============================] - 36s 209ms/step - loss: 0.3409 - accuracy: 0.8609 - val_loss: 0.5826 - val_accuracy: 0.8248\n",
            "Epoch 31/50\n",
            "169/169 [==============================] - 37s 210ms/step - loss: 0.3397 - accuracy: 0.8681 - val_loss: 0.5186 - val_accuracy: 0.8448\n",
            "Epoch 32/50\n",
            "169/169 [==============================] - 37s 211ms/step - loss: 0.3051 - accuracy: 0.8840 - val_loss: 0.5450 - val_accuracy: 0.8493\n",
            "Epoch 33/50\n",
            "169/169 [==============================] - 37s 211ms/step - loss: 0.3448 - accuracy: 0.8753 - val_loss: 0.5413 - val_accuracy: 0.8419\n",
            "Epoch 34/50\n",
            "169/169 [==============================] - 37s 212ms/step - loss: 0.3115 - accuracy: 0.8846 - val_loss: 0.7393 - val_accuracy: 0.7929\n",
            "Epoch 35/50\n",
            "169/169 [==============================] - 37s 210ms/step - loss: 0.3790 - accuracy: 0.8587 - val_loss: 0.6360 - val_accuracy: 0.8055\n",
            "Epoch 36/50\n",
            "169/169 [==============================] - 36s 209ms/step - loss: 0.3068 - accuracy: 0.8861 - val_loss: 0.5503 - val_accuracy: 0.8382\n",
            "Epoch 37/50\n",
            "169/169 [==============================] - 37s 211ms/step - loss: 0.3077 - accuracy: 0.8814 - val_loss: 0.6021 - val_accuracy: 0.8248\n",
            "Epoch 38/50\n",
            "169/169 [==============================] - 37s 211ms/step - loss: 0.3222 - accuracy: 0.8719 - val_loss: 0.5477 - val_accuracy: 0.8426\n",
            "Epoch 39/50\n",
            "169/169 [==============================] - 36s 210ms/step - loss: 0.3168 - accuracy: 0.8841 - val_loss: 0.5609 - val_accuracy: 0.8404\n",
            "Epoch 40/50\n",
            " 58/169 [=========>....................] - ETA: 20s - loss: 0.2904 - accuracy: 0.8806"
          ],
          "name": "stdout"
        }
      ]
    },
    {
      "cell_type": "markdown",
      "metadata": {
        "id": "iuvfCTsBWLMp"
      },
      "source": [
        "#### **Todo:**  Visualize the model results"
      ]
    },
    {
      "cell_type": "code",
      "metadata": {
        "id": "lCTXwfkTdRW1"
      },
      "source": [
        "acc = history.history['accuracy']\n",
        "val_acc = history.history['val_accuracy']\n",
        "\n",
        "loss = history.history['loss']\n",
        "val_loss = history.history['val_loss']\n",
        "\n",
        "epochs_range = range(epochs)\n",
        "\n",
        "plt.figure(figsize=(12, 12))\n",
        "plt.subplot(1, 2, 1)\n",
        "plt.plot(epochs_range, acc, label='Training Accuracy')\n",
        "plt.plot(epochs_range, val_acc, label='Validation Accuracy')\n",
        "plt.legend(loc='lower right')\n",
        "plt.title('Training and Validation Accuracy')\n",
        "\n",
        "plt.subplot(1, 2, 2)\n",
        "plt.plot(epochs_range, loss, label='Training Loss')\n",
        "plt.plot(epochs_range, val_loss, label='Validation Loss')\n",
        "plt.legend(loc='upper right')\n",
        "plt.title('Training and Validation Loss')\n",
        "plt.show()"
      ],
      "execution_count": null,
      "outputs": []
    },
    {
      "cell_type": "markdown",
      "metadata": {
        "id": "Way4lakC4_p0"
      },
      "source": [
        "#### **Todo:**  Analyze your results here. Did you get rid of underfitting/overfitting? Did class rebalance help?\n",
        "\n"
      ]
    },
    {
      "cell_type": "code",
      "metadata": {
        "id": "JEmD_HPC8Dfj"
      },
      "source": [
        "## Model summary on the performance train, validation and test set\r\n",
        "print('Model summary after class rebalance')\r\n",
        "print('-----------------------------------------------------------------')\r\n",
        "print('Train accuracy on epoch',epochs,'is',str(100*(acc[epochs-1]))+'%')\r\n",
        "print('Validation accuracy on epoch',epochs,'is',str(100*(val_acc[epochs-1]))+'%')"
      ],
      "execution_count": null,
      "outputs": []
    }
  ]
}