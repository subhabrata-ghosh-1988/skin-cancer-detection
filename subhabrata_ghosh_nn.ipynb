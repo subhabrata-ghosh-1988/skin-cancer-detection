{
  "nbformat": 4,
  "nbformat_minor": 0,
  "metadata": {
    "accelerator": "GPU",
    "colab": {
      "name": "Starter code Assignment CNN Skin Cancer.ipynb",
      "provenance": []
    },
    "kernelspec": {
      "display_name": "Python 3",
      "name": "python3"
    }
  },
  "cells": [
    {
      "cell_type": "markdown",
      "metadata": {
        "id": "yDriIbfa5lwD"
      },
      "source": [
        "Problem statement: To build a CNN based model which can accurately detect melanoma. Melanoma is a type of cancer that can be deadly if not detected early. It accounts for 75% of skin cancer deaths. A solution which can evaluate images and alert the dermatologists about the presence of melanoma has the potential to reduce a lot of manual effort needed in diagnosis."
      ]
    },
    {
      "cell_type": "markdown",
      "metadata": {
        "id": "lvR7ppk77v31"
      },
      "source": [
        "### Importing Skin Cancer Data\n",
        "#### To do: Take necessary actions to read the data"
      ]
    },
    {
      "cell_type": "markdown",
      "metadata": {
        "id": "JfcpIXQZN2Rh"
      },
      "source": [
        "### Importing all the important libraries"
      ]
    },
    {
      "cell_type": "code",
      "metadata": {
        "id": "WC8xCQuELWms"
      },
      "source": [
        "import pathlib\n",
        "import tensorflow as tf\n",
        "import matplotlib.pyplot as plt\n",
        "import numpy as np\n",
        "import pandas as pd\n",
        "import os\n",
        "import PIL\n",
        "from tensorflow import keras\n",
        "from tensorflow.keras import layers\n",
        "from tensorflow.keras.models import Sequential"
      ],
      "execution_count": 1,
      "outputs": []
    },
    {
      "cell_type": "code",
      "metadata": {
        "id": "TYpVPmT5z7AP",
        "colab": {
          "base_uri": "https://localhost:8080/"
        },
        "outputId": "3e371a60-ade3-4b0e-f368-3f90c6259681"
      },
      "source": [
        "## If you are using the data by mounting the google drive, use the following :\r\n",
        "import zipfile\r\n",
        "from google.colab import drive\r\n",
        "\r\n",
        "\r\n",
        "drive.mount('/content/drive', force_remount=True)\r\n",
        "\r\n",
        "## commeted out code to unzip the CNN_assignment.zip\r\n",
        "## zip_ref = zipfile.ZipFile(\"/content/drive/My Drive/ML/CNN_assignment.zip\", 'r')\r\n",
        "## zip_ref.extractall(\"/content/drive/My Drive/ML/CNN_assignment\")\r\n",
        "## zip_ref.close()\r\n",
        "\r\n",
        "##Ref:https://towardsdatascience.com/downloading-datasets-into-google-drive-via-google-colab-bcb1b30b0166"
      ],
      "execution_count": 2,
      "outputs": [
        {
          "output_type": "stream",
          "text": [
            "Mounted at /content/drive\n"
          ],
          "name": "stdout"
        }
      ]
    },
    {
      "cell_type": "markdown",
      "metadata": {
        "id": "RpUsRQwOOL72"
      },
      "source": [
        "This assignment uses a dataset of about 2357 images of skin cancer types. The dataset contains 9 sub-directories in each train and test subdirectories. The 9 sub-directories contains the images of 9 skin cancer types respectively."
      ]
    },
    {
      "cell_type": "code",
      "metadata": {
        "id": "D57L-ovIKtI4"
      },
      "source": [
        "# Defining the path for train and test images\n",
        "## Todo: Update the paths of the train and test dataset\n",
        "data_dir_train = pathlib.Path(\"/content/drive/My Drive/ML/CNN_assignment/Skin cancer ISIC The International Skin Imaging Collaboration/Train\")\n",
        "data_dir_test = pathlib.Path('/content/drive/My Drive/ML/CNN_assignment/Skin cancer ISIC The International Skin Imaging Collaboration/Test')"
      ],
      "execution_count": 3,
      "outputs": []
    },
    {
      "cell_type": "code",
      "metadata": {
        "id": "DqksN1w5Fu-N",
        "colab": {
          "base_uri": "https://localhost:8080/"
        },
        "outputId": "42274ea5-af7c-472b-d975-52b83d4215e6"
      },
      "source": [
        "image_count_train = len(list(data_dir_train.glob('*/*.jpg')))\n",
        "print(image_count_train)\n",
        "image_count_test = len(list(data_dir_test.glob('*/*.jpg')))\n",
        "print(image_count_test)"
      ],
      "execution_count": 4,
      "outputs": [
        {
          "output_type": "stream",
          "text": [
            "2239\n",
            "118\n"
          ],
          "name": "stdout"
        }
      ]
    },
    {
      "cell_type": "markdown",
      "metadata": {
        "id": "O8HkfW3jPJun"
      },
      "source": [
        "### Load using keras.preprocessing\n",
        "\n",
        "Let's load these images off disk using the helpful image_dataset_from_directory utility."
      ]
    },
    {
      "cell_type": "markdown",
      "metadata": {
        "id": "cDBKZG3jPcMc"
      },
      "source": [
        "### Create a dataset\n",
        "\n",
        "Define some parameters for the loader:"
      ]
    },
    {
      "cell_type": "code",
      "metadata": {
        "id": "VLfcXcZ9LjGv"
      },
      "source": [
        "batch_size = 32\n",
        "img_height = 180\n",
        "img_width = 180"
      ],
      "execution_count": 5,
      "outputs": []
    },
    {
      "cell_type": "markdown",
      "metadata": {
        "id": "Y5f5y43GPog1"
      },
      "source": [
        "Use 80% of the images for training, and 20% for validation."
      ]
    },
    {
      "cell_type": "code",
      "metadata": {
        "id": "G1BWmDzr7w-5",
        "colab": {
          "base_uri": "https://localhost:8080/"
        },
        "outputId": "c7e2a6cc-a64f-4320-aeee-f1c94e80735a"
      },
      "source": [
        "## Write your train dataset here\n",
        "## Note use seed=123 while creating your dataset using tf.keras.preprocessing.image_dataset_from_directory\n",
        "## Note, make sure your resize your images to the size img_height*img_width, while writting the dataset\n",
        "train_ds = tf.keras.preprocessing.image_dataset_from_directory(\n",
        "               directory=data_dir_train, labels='inferred', label_mode='categorical', class_names=None,\n",
        "               color_mode='rgb', batch_size=batch_size, image_size=(img_height, img_width),\n",
        "               shuffle=True, seed=123, validation_split=.20, subset=\"training\",\n",
        "              interpolation='nearest', follow_links=False)"
      ],
      "execution_count": 6,
      "outputs": [
        {
          "output_type": "stream",
          "text": [
            "Found 2239 files belonging to 9 classes.\n",
            "Using 1792 files for training.\n"
          ],
          "name": "stdout"
        }
      ]
    },
    {
      "cell_type": "code",
      "metadata": {
        "id": "LYch6-SR-i2g",
        "colab": {
          "base_uri": "https://localhost:8080/"
        },
        "outputId": "0c1e6dfa-cb63-427e-cca1-f608bc9f87e3"
      },
      "source": [
        "## Write your validation dataset here\n",
        "## Note use seed=123 while creating your dataset using tf.keras.preprocessing.image_dataset_from_directory\n",
        "## Note, make sure your resize your images to the size img_height*img_width, while writting the dataset\n",
        "val_ds = tf.keras.preprocessing.image_dataset_from_directory(\n",
        "              directory=data_dir_train, labels='inferred', label_mode='categorical', class_names=None,\n",
        "              color_mode='rgb', batch_size=batch_size, image_size=(img_height, img_width),\n",
        "              shuffle=False, seed=123, validation_split=.20, subset=\"validation\",\n",
        "              interpolation='nearest', follow_links=False)"
      ],
      "execution_count": 7,
      "outputs": [
        {
          "output_type": "stream",
          "text": [
            "Found 2239 files belonging to 9 classes.\n",
            "Using 447 files for validation.\n"
          ],
          "name": "stdout"
        }
      ]
    },
    {
      "cell_type": "code",
      "metadata": {
        "id": "9gWEOH5p6ijO",
        "colab": {
          "base_uri": "https://localhost:8080/"
        },
        "outputId": "35a6f65a-69c5-4fff-ef6c-55f9d5f86447"
      },
      "source": [
        "## Loading the test dataset\r\n",
        "\r\n",
        "test_ds=tf.keras.preprocessing.image_dataset_from_directory(\r\n",
        "        data_dir_test,\r\n",
        "        labels='inferred', label_mode='categorical', class_names=None,\r\n",
        "        color_mode='rgb',\r\n",
        "        image_size=(img_height,img_width),\r\n",
        "        seed=123\r\n",
        "       \r\n",
        "    )"
      ],
      "execution_count": 8,
      "outputs": [
        {
          "output_type": "stream",
          "text": [
            "Found 118 files belonging to 9 classes.\n"
          ],
          "name": "stdout"
        }
      ]
    },
    {
      "cell_type": "code",
      "metadata": {
        "id": "Bk0RV7G7-nad",
        "colab": {
          "base_uri": "https://localhost:8080/"
        },
        "outputId": "297d5c61-dec5-40f9-a517-18b534d34a57"
      },
      "source": [
        "# List out all the classes of skin cancer and store them in a list. \n",
        "# You can find the class names in the class_names attribute on these datasets. \n",
        "# These correspond to the directory names in alphabetical order.\n",
        "class_names = train_ds.class_names\n",
        "print(class_names)"
      ],
      "execution_count": 9,
      "outputs": [
        {
          "output_type": "stream",
          "text": [
            "['actinic keratosis', 'basal cell carcinoma', 'dermatofibroma', 'melanoma', 'nevus', 'pigmented benign keratosis', 'seborrheic keratosis', 'squamous cell carcinoma', 'vascular lesion']\n"
          ],
          "name": "stdout"
        }
      ]
    },
    {
      "cell_type": "markdown",
      "metadata": {
        "id": "jbsm5oYiQH_b"
      },
      "source": [
        "### Visualize the data\n",
        "#### Todo, create a code to visualize one instance of all the nine classes present in the dataset"
      ]
    },
    {
      "cell_type": "code",
      "metadata": {
        "id": "tKILZ48I-q1k",
        "colab": {
          "base_uri": "https://localhost:8080/",
          "height": 326
        },
        "outputId": "aa0133d7-73e2-4620-b327-f7b6a8fc0b7c"
      },
      "source": [
        "from os import listdir\n",
        "from os.path import join\n",
        "import matplotlib.image as mpimg\n",
        "import matplotlib.pyplot as plt\n",
        "\n",
        "### your code goes here, you can use training or validation data to visualize\n",
        "%matplotlib inline\n",
        "image_indexes = [0]\n",
        "selected_image_file_paths = dict()\n",
        "for classification in class_names:\n",
        "    image_directory = join(data_dir_train, classification)\n",
        "    image_file_names = listdir(image_directory)\n",
        "    selected_image_file_paths[classification] = [join(image_directory, image_file_names[i]) for i in image_indexes]\n",
        "\n",
        "number_classes = len(class_names)\n",
        "plt.figure(figsize=(16,16))    \n",
        "for i,classification in enumerate(class_names):\n",
        "    for j,image in enumerate(selected_image_file_paths[classification]):\n",
        "        image_number = (i * len(image_indexes)) + j + 1\n",
        "        ax = plt.subplot(number_classes,3,image_number)\n",
        "        plt.title(classification)\n",
        "        plt.axis(\"off\")\n",
        "        plt.imshow(mpimg.imread(image))\n",
        "\n"
      ],
      "execution_count": 10,
      "outputs": [
        {
          "output_type": "display_data",
          "data": {
            "image/png": "[encoded data removed]",
            "text/plain": [
              "<Figure size 1152x1152 with 9 Axes>"
            ]
          },
          "metadata": {
            "tags": [],
            "needs_background": "light"
          }
        }
      ]
    },
    {
      "cell_type": "markdown",
      "metadata": {
        "id": "8cAZPYaeQjQy"
      },
      "source": [
        "The `image_batch` is a tensor of the shape `(32, 180, 180, 3)`. This is a batch of 32 images of shape `180x180x3` (the last dimension refers to color channels RGB). The `label_batch` is a tensor of the shape `(32,)`, these are corresponding labels to the 32 images."
      ]
    },
    {
      "cell_type": "markdown",
      "metadata": {
        "id": "jzVXBHiyQ7_I"
      },
      "source": [
        "`Dataset.cache()` keeps the images in memory after they're loaded off disk during the first epoch.\n",
        "\n",
        "`Dataset.prefetch()` overlaps data preprocessing and model execution while training."
      ]
    },
    {
      "cell_type": "code",
      "metadata": {
        "id": "7wZlKRBEGNtU"
      },
      "source": [
        "AUTOTUNE = tf.data.experimental.AUTOTUNE\n",
        "x_train_ds = train_ds\n",
        "train_ds = train_ds.cache().shuffle(1000).prefetch(buffer_size=AUTOTUNE)\n",
        "val_ds = val_ds.cache().prefetch(buffer_size=AUTOTUNE)"
      ],
      "execution_count": 11,
      "outputs": []
    },
    {
      "cell_type": "markdown",
      "metadata": {
        "id": "1JEAF6-sRyz8"
      },
      "source": [
        "### Create the model\n",
        "#### Todo: Create a CNN model, which can accurately detect 9 classes present in the dataset. Use ```layers.experimental.preprocessing.Rescaling``` to normalize pixel values between (0,1). The RGB channel values are in the `[0, 255]` range. This is not ideal for a neural network. Here, it is good to standardize values to be in the `[0, 1]`"
      ]
    },
    {
      "cell_type": "code",
      "metadata": {
        "id": "ync9xoW7GZgn"
      },
      "source": [
        "### Your code goes here\n",
        "\n",
        "color_mode = \"rgb\"\n",
        "number_colour_layers = 3\n",
        "image_size = (img_height, img_width)\n",
        "image_shape = image_size + (number_colour_layers,)\n",
        "\n",
        "preprocessing_layers = [\n",
        "    tf.keras.layers.experimental.preprocessing.Rescaling(1./255, input_shape=image_shape)\n",
        "]"
      ],
      "execution_count": 12,
      "outputs": []
    },
    {
      "cell_type": "code",
      "metadata": {
        "id": "Du3tMOiA1xAF"
      },
      "source": [
        "def conv_2d_pooling_layers(filters, number_colour_layers):\r\n",
        "    return [\r\n",
        "        tf.keras.layers.Conv2D(\r\n",
        "            filters,\r\n",
        "            number_colour_layers,\r\n",
        "            padding='same',\r\n",
        "            activation='relu'\r\n",
        "        ),\r\n",
        "        tf.keras.layers.MaxPooling2D()\r\n",
        "    ]\r\n",
        "core_layers = \\\r\n",
        "    conv_2d_pooling_layers(16, number_colour_layers) + \\\r\n",
        "    conv_2d_pooling_layers(32, number_colour_layers) + \\\r\n",
        "    conv_2d_pooling_layers(64, number_colour_layers)"
      ],
      "execution_count": 13,
      "outputs": []
    },
    {
      "cell_type": "code",
      "metadata": {
        "id": "7315BYdP2JaF"
      },
      "source": [
        "dense_layers = [\r\n",
        "    tf.keras.layers.Flatten(),\r\n",
        "    tf.keras.layers.Dense(128, activation='relu'),\r\n",
        "    tf.keras.layers.Dense(number_classes)\r\n",
        "]"
      ],
      "execution_count": 14,
      "outputs": []
    },
    {
      "cell_type": "code",
      "metadata": {
        "id": "8XEqjRV02VYS"
      },
      "source": [
        "model = tf.keras.Sequential(\r\n",
        "    preprocessing_layers +\r\n",
        "    core_layers +\r\n",
        "    dense_layers\r\n",
        ")"
      ],
      "execution_count": 15,
      "outputs": []
    },
    {
      "cell_type": "markdown",
      "metadata": {
        "id": "SDKzJmHwSCtt"
      },
      "source": [
        "### Compile the model\n",
        "Choose an appropirate optimiser and loss function for model training "
      ]
    },
    {
      "cell_type": "code",
      "metadata": {
        "id": "XB8wKtiPGe1j"
      },
      "source": [
        "### Todo, choose an appropirate optimiser and loss function\n",
        "loss = tf.keras.losses.CategoricalCrossentropy(from_logits=True)\n",
        "model.compile(optimizer='adam',\n",
        "              loss=loss,\n",
        "              metrics=['accuracy'])"
      ],
      "execution_count": 16,
      "outputs": []
    },
    {
      "cell_type": "code",
      "metadata": {
        "id": "_ZGWN4MZGhtJ",
        "colab": {
          "base_uri": "https://localhost:8080/"
        },
        "outputId": "a6fa4693-c2da-4b18-98d5-bc78bce921c7"
      },
      "source": [
        "# View the summary of all layers\n",
        "model.summary()"
      ],
      "execution_count": 17,
      "outputs": [
        {
          "output_type": "stream",
          "text": [
            "Model: \"sequential\"\n",
            "_________________________________________________________________\n",
            "Layer (type)                 Output Shape              Param #   \n",
            "=================================================================\n",
            "rescaling (Rescaling)        (None, 180, 180, 3)       0         \n",
            "_________________________________________________________________\n",
            "conv2d (Conv2D)              (None, 180, 180, 16)      448       \n",
            "_________________________________________________________________\n",
            "max_pooling2d (MaxPooling2D) (None, 90, 90, 16)        0         \n",
            "_________________________________________________________________\n",
            "conv2d_1 (Conv2D)            (None, 90, 90, 32)        4640      \n",
            "_________________________________________________________________\n",
            "max_pooling2d_1 (MaxPooling2 (None, 45, 45, 32)        0         \n",
            "_________________________________________________________________\n",
            "conv2d_2 (Conv2D)            (None, 45, 45, 64)        18496     \n",
            "_________________________________________________________________\n",
            "max_pooling2d_2 (MaxPooling2 (None, 22, 22, 64)        0         \n",
            "_________________________________________________________________\n",
            "flatten (Flatten)            (None, 30976)             0         \n",
            "_________________________________________________________________\n",
            "dense (Dense)                (None, 128)               3965056   \n",
            "_________________________________________________________________\n",
            "dense_1 (Dense)              (None, 9)                 1161      \n",
            "=================================================================\n",
            "Total params: 3,989,801\n",
            "Trainable params: 3,989,801\n",
            "Non-trainable params: 0\n",
            "_________________________________________________________________\n"
          ],
          "name": "stdout"
        }
      ]
    },
    {
      "cell_type": "markdown",
      "metadata": {
        "id": "ljD_83rwSl5O"
      },
      "source": [
        "### Train the model"
      ]
    },
    {
      "cell_type": "code",
      "metadata": {
        "id": "Kkfw2rJXGlYC",
        "colab": {
          "base_uri": "https://localhost:8080/"
        },
        "outputId": "8d353c5c-4e6a-48c3-b37a-39f5d3fa0cd0"
      },
      "source": [
        "epochs = 20\n",
        "history = model.fit(\n",
        "  train_ds,\n",
        "  validation_data=val_ds,\n",
        "  epochs=epochs\n",
        ")"
      ],
      "execution_count": 18,
      "outputs": [
        {
          "output_type": "stream",
          "text": [
            "Epoch 1/20\n",
            "56/56 [==============================] - 21s 77ms/step - loss: 2.1525 - accuracy: 0.2410 - val_loss: 2.2073 - val_accuracy: 0.0403\n",
            "Epoch 2/20\n",
            "56/56 [==============================] - 1s 19ms/step - loss: 1.6394 - accuracy: 0.4342 - val_loss: 1.8131 - val_accuracy: 0.2371\n",
            "Epoch 3/20\n",
            "56/56 [==============================] - 1s 18ms/step - loss: 1.3967 - accuracy: 0.4986 - val_loss: 1.6294 - val_accuracy: 0.3870\n",
            "Epoch 4/20\n",
            "56/56 [==============================] - 1s 18ms/step - loss: 1.3342 - accuracy: 0.5266 - val_loss: 1.2029 - val_accuracy: 0.6063\n",
            "Epoch 5/20\n",
            "56/56 [==============================] - 1s 18ms/step - loss: 1.2313 - accuracy: 0.5620 - val_loss: 1.3743 - val_accuracy: 0.4944\n",
            "Epoch 6/20\n",
            "56/56 [==============================] - 1s 18ms/step - loss: 1.1060 - accuracy: 0.6188 - val_loss: 1.4020 - val_accuracy: 0.4362\n",
            "Epoch 7/20\n",
            "56/56 [==============================] - 1s 18ms/step - loss: 1.0849 - accuracy: 0.6131 - val_loss: 1.2611 - val_accuracy: 0.5391\n",
            "Epoch 8/20\n",
            "56/56 [==============================] - 1s 18ms/step - loss: 1.0284 - accuracy: 0.6411 - val_loss: 1.6045 - val_accuracy: 0.4004\n",
            "Epoch 9/20\n",
            "56/56 [==============================] - 1s 18ms/step - loss: 0.9812 - accuracy: 0.6598 - val_loss: 1.1500 - val_accuracy: 0.5906\n",
            "Epoch 10/20\n",
            "56/56 [==============================] - 1s 18ms/step - loss: 0.9186 - accuracy: 0.6586 - val_loss: 1.1946 - val_accuracy: 0.6219\n",
            "Epoch 11/20\n",
            "56/56 [==============================] - 1s 18ms/step - loss: 0.8018 - accuracy: 0.7217 - val_loss: 1.1627 - val_accuracy: 0.5705\n",
            "Epoch 12/20\n",
            "56/56 [==============================] - 1s 18ms/step - loss: 0.7330 - accuracy: 0.7277 - val_loss: 0.9721 - val_accuracy: 0.6935\n",
            "Epoch 13/20\n",
            "56/56 [==============================] - 1s 19ms/step - loss: 0.6002 - accuracy: 0.7869 - val_loss: 0.9794 - val_accuracy: 0.6935\n",
            "Epoch 14/20\n",
            "56/56 [==============================] - 1s 18ms/step - loss: 0.5523 - accuracy: 0.7995 - val_loss: 0.9513 - val_accuracy: 0.7181\n",
            "Epoch 15/20\n",
            "56/56 [==============================] - 1s 18ms/step - loss: 0.4677 - accuracy: 0.8452 - val_loss: 1.0347 - val_accuracy: 0.7069\n",
            "Epoch 16/20\n",
            "56/56 [==============================] - 1s 18ms/step - loss: 0.4264 - accuracy: 0.8428 - val_loss: 1.0838 - val_accuracy: 0.7092\n",
            "Epoch 17/20\n",
            "56/56 [==============================] - 1s 19ms/step - loss: 0.3690 - accuracy: 0.8654 - val_loss: 0.9647 - val_accuracy: 0.7606\n",
            "Epoch 18/20\n",
            "56/56 [==============================] - 1s 19ms/step - loss: 0.3099 - accuracy: 0.8776 - val_loss: 1.0446 - val_accuracy: 0.7159\n",
            "Epoch 19/20\n",
            "56/56 [==============================] - 1s 18ms/step - loss: 0.3176 - accuracy: 0.8888 - val_loss: 1.0730 - val_accuracy: 0.7159\n",
            "Epoch 20/20\n",
            "56/56 [==============================] - 1s 19ms/step - loss: 0.3022 - accuracy: 0.8921 - val_loss: 0.8859 - val_accuracy: 0.8009\n"
          ],
          "name": "stdout"
        }
      ]
    },
    {
      "cell_type": "markdown",
      "metadata": {
        "id": "w3679V8OShSE"
      },
      "source": [
        "### Visualizing training results"
      ]
    },
    {
      "cell_type": "code",
      "metadata": {
        "id": "R1xkgk5nGubz",
        "colab": {
          "base_uri": "https://localhost:8080/",
          "height": 716
        },
        "outputId": "08ec2a62-c64a-4188-8ec3-da73db8ceb1b"
      },
      "source": [
        "acc = history.history['accuracy']\n",
        "val_acc = history.history['val_accuracy']\n",
        "\n",
        "loss = history.history['loss']\n",
        "val_loss = history.history['val_loss']\n",
        "\n",
        "epochs_range = range(epochs)\n",
        "\n",
        "plt.figure(figsize=(12, 12))\n",
        "plt.subplot(1, 2, 1)\n",
        "plt.plot(epochs_range, acc, label='Training Accuracy')\n",
        "plt.plot(epochs_range, val_acc, label='Validation Accuracy')\n",
        "plt.legend(loc='lower right')\n",
        "plt.title('Training and Validation Accuracy')\n",
        "\n",
        "plt.subplot(1, 2, 2)\n",
        "plt.plot(epochs_range, loss, label='Training Loss')\n",
        "plt.plot(epochs_range, val_loss, label='Validation Loss')\n",
        "plt.legend(loc='upper right')\n",
        "plt.title('Training and Validation Loss')\n",
        "plt.show()"
      ],
      "execution_count": 19,
      "outputs": [
        {
          "output_type": "display_data",
          "data": {
            "image/png": "[encoded data removed]",
            "text/plain": [
              "<Figure size 864x864 with 2 Axes>"
            ]
          },
          "metadata": {
            "tags": [],
            "needs_background": "light"
          }
        }
      ]
    },
    {
      "cell_type": "markdown",
      "metadata": {
        "id": "JvPphJYuSZhK"
      },
      "source": [
        "#### Todo: Write your findings after the model fit, see if there is an evidence of model overfit or underfit"
      ]
    },
    {
      "cell_type": "markdown",
      "metadata": {
        "id": "xnUDGgTO4M1i"
      },
      "source": [
        "###Observation\r\n",
        "\r\n",
        "At the end of 20 epochs , the model training has been completed and the training accuracy is very *high*.In general ,This is more likely due to careful control of the conditions in which the data was captured or some augmentation of the images rather than the model itself being particularly good, as it has not been **optimised**.\r\n"
      ]
    },
    {
      "cell_type": "code",
      "metadata": {
        "id": "nphwpmhk63Km",
        "colab": {
          "base_uri": "https://localhost:8080/"
        },
        "outputId": "91cf01ca-d9ba-4a20-ed0a-5b760a8dbdbb"
      },
      "source": [
        "## Let's evaluate the model on the test data\r\n",
        "history_test_model=model.evaluate(test_ds)"
      ],
      "execution_count": 20,
      "outputs": [
        {
          "output_type": "stream",
          "text": [
            "4/4 [==============================] - 4s 36ms/step - loss: 5.0954 - accuracy: 0.3220\n"
          ],
          "name": "stdout"
        }
      ]
    },
    {
      "cell_type": "code",
      "metadata": {
        "colab": {
          "base_uri": "https://localhost:8080/"
        },
        "id": "0sLWXX-ANzdA",
        "outputId": "d3f91a96-8100-455b-de65-46d0fa68d70f"
      },
      "source": [
        "## Model summary on the performance train, validation and test set\r\n",
        "print('Model summary')\r\n",
        "print('-----------------------------------------------------------------')\r\n",
        "print('Train accuracy on epoch',epochs,'is',str(100*(acc[epochs-1]))+'%')\r\n",
        "print('Validation accuracy on epoch',epochs,'is',str(100*(val_acc[epochs-1]))+'%')\r\n",
        "print('Test accuracy: ', str(100*history_test_model[1])+'%')"
      ],
      "execution_count": 21,
      "outputs": [
        {
          "output_type": "stream",
          "text": [
            "Model summary\n",
            "-----------------------------------------------------------------\n",
            "Train accuracy on epoch 20 is 88.671875%\n",
            "Validation accuracy on epoch 20 is 80.08948564529419%\n",
            "Test accuracy:  32.20339119434357%\n"
          ],
          "name": "stdout"
        }
      ]
    },
    {
      "cell_type": "markdown",
      "metadata": {
        "id": "E6yU8NcaQnGj"
      },
      "source": [
        "### Observation\r\n",
        "\r\n",
        "The model performs well on the training data. However , the accuracy for the validation set has stopped improving from epoch 15 and similary the loss remains almost same since epoch 10 in the validation set. The model performs very poorly with the test set. We can conclude that the model is overfitting"
      ]
    },
    {
      "cell_type": "markdown",
      "metadata": {
        "id": "3vRTPbJEn-pX"
      },
      "source": [
        "### Write your findings here"
      ]
    },
    {
      "cell_type": "code",
      "metadata": {
        "id": "22hljAl6GykA"
      },
      "source": [
        "# Todo, after you have analysed the model fit history for presence of underfit or overfit, choose an appropriate data augumentation strategy. \n",
        "# Your code goes here\n"
      ],
      "execution_count": 22,
      "outputs": []
    },
    {
      "cell_type": "code",
      "metadata": {
        "id": "XEjPWh8GG0C7"
      },
      "source": [
        "# Todo, visualize how your augmentation strategy works for one instance of training image.\n",
        "# Your code goes here"
      ],
      "execution_count": 23,
      "outputs": []
    },
    {
      "cell_type": "markdown",
      "metadata": {
        "id": "XhKDHlUdTuSX"
      },
      "source": [
        "### Todo:\n",
        "### Create the model, compile and train the model\n"
      ]
    },
    {
      "cell_type": "code",
      "metadata": {
        "id": "n907nlN0czWq"
      },
      "source": [
        "def drop_out_layers(rate):\r\n",
        "   return [tf.keras.layers.Dropout(rate)]"
      ],
      "execution_count": 24,
      "outputs": []
    },
    {
      "cell_type": "code",
      "metadata": {
        "id": "W3V4l-O9G3dM"
      },
      "source": [
        "## You can use Dropout layer if there is an evidence of overfitting in your findings\r\n",
        "## Your code goes here\r\n",
        "core_layers = \\\r\n",
        "    conv_2d_pooling_layers(16, number_colour_layers) + \\\r\n",
        "    drop_out_layers(0.4)+ \\\r\n",
        "    conv_2d_pooling_layers(32, number_colour_layers) + \\\r\n",
        "    drop_out_layers(0.4)+ \\\r\n",
        "    conv_2d_pooling_layers(64, number_colour_layers) + \\\r\n",
        "    drop_out_layers(0.4)\r\n",
        "\r\n",
        "\r\n",
        "\r\n",
        "dense_layers = [\r\n",
        "    tf.keras.layers.Flatten(),\r\n",
        "    tf.keras.layers.Dense(128, activation='relu'),\r\n",
        "    tf.keras.layers.Dropout(0.2),\r\n",
        "    tf.keras.layers.Dense(number_classes)\r\n",
        "]\r\n",
        "\r\n",
        "model = tf.keras.Sequential(\r\n",
        "    preprocessing_layers +\r\n",
        "    core_layers +\r\n",
        "    dense_layers\r\n",
        ")"
      ],
      "execution_count": 25,
      "outputs": []
    },
    {
      "cell_type": "markdown",
      "metadata": {
        "id": "FfUWFp96UIAN"
      },
      "source": [
        "### Compiling the model"
      ]
    },
    {
      "cell_type": "code",
      "metadata": {
        "id": "_-7yTm8IG8zR"
      },
      "source": [
        "## Your code goes here\r\n",
        "loss = tf.keras.losses.CategoricalCrossentropy(from_logits=True)\r\n",
        "model.compile(optimizer='adam',\r\n",
        "              loss=loss,\r\n",
        "              metrics=['accuracy'])\r\n"
      ],
      "execution_count": 26,
      "outputs": []
    },
    {
      "cell_type": "code",
      "metadata": {
        "colab": {
          "base_uri": "https://localhost:8080/"
        },
        "id": "gD6NLpGbcaSO",
        "outputId": "dab7329c-e956-4b8f-80f3-f2ae0b5dbf33"
      },
      "source": [
        "# View the summary of all layers\r\n",
        "model.summary()"
      ],
      "execution_count": 27,
      "outputs": [
        {
          "output_type": "stream",
          "text": [
            "Model: \"sequential_1\"\n",
            "_________________________________________________________________\n",
            "Layer (type)                 Output Shape              Param #   \n",
            "=================================================================\n",
            "rescaling (Rescaling)        (None, 180, 180, 3)       0         \n",
            "_________________________________________________________________\n",
            "conv2d_3 (Conv2D)            (None, 180, 180, 16)      448       \n",
            "_________________________________________________________________\n",
            "max_pooling2d_3 (MaxPooling2 (None, 90, 90, 16)        0         \n",
            "_________________________________________________________________\n",
            "dropout (Dropout)            (None, 90, 90, 16)        0         \n",
            "_________________________________________________________________\n",
            "conv2d_4 (Conv2D)            (None, 90, 90, 32)        4640      \n",
            "_________________________________________________________________\n",
            "max_pooling2d_4 (MaxPooling2 (None, 45, 45, 32)        0         \n",
            "_________________________________________________________________\n",
            "dropout_1 (Dropout)          (None, 45, 45, 32)        0         \n",
            "_________________________________________________________________\n",
            "conv2d_5 (Conv2D)            (None, 45, 45, 64)        18496     \n",
            "_________________________________________________________________\n",
            "max_pooling2d_5 (MaxPooling2 (None, 22, 22, 64)        0         \n",
            "_________________________________________________________________\n",
            "dropout_2 (Dropout)          (None, 22, 22, 64)        0         \n",
            "_________________________________________________________________\n",
            "flatten_1 (Flatten)          (None, 30976)             0         \n",
            "_________________________________________________________________\n",
            "dense_2 (Dense)              (None, 128)               3965056   \n",
            "_________________________________________________________________\n",
            "dropout_3 (Dropout)          (None, 128)               0         \n",
            "_________________________________________________________________\n",
            "dense_3 (Dense)              (None, 9)                 1161      \n",
            "=================================================================\n",
            "Total params: 3,989,801\n",
            "Trainable params: 3,989,801\n",
            "Non-trainable params: 0\n",
            "_________________________________________________________________\n"
          ],
          "name": "stdout"
        }
      ]
    },
    {
      "cell_type": "markdown",
      "metadata": {
        "id": "kC-D_RWOURp6"
      },
      "source": [
        "### Training the model"
      ]
    },
    {
      "cell_type": "code",
      "metadata": {
        "id": "UcPfkUASHBf9",
        "colab": {
          "base_uri": "https://localhost:8080/"
        },
        "outputId": "ed32f015-2738-443a-d285-972ccbf876af"
      },
      "source": [
        "## Your code goes here, note: train your model for 20 epochs\n",
        "epochs = 20\n",
        "history = model.fit(\n",
        "  train_ds,\n",
        "  validation_data=val_ds,\n",
        "  epochs=epochs\n",
        ")"
      ],
      "execution_count": 28,
      "outputs": [
        {
          "output_type": "stream",
          "text": [
            "Epoch 1/20\n",
            "56/56 [==============================] - 2s 23ms/step - loss: 3.0313 - accuracy: 0.1453 - val_loss: 2.2545 - val_accuracy: 0.0000e+00\n",
            "Epoch 2/20\n",
            "56/56 [==============================] - 1s 20ms/step - loss: 2.0552 - accuracy: 0.2026 - val_loss: 2.3141 - val_accuracy: 0.0000e+00\n",
            "Epoch 3/20\n",
            "56/56 [==============================] - 1s 20ms/step - loss: 2.0057 - accuracy: 0.2267 - val_loss: 2.3583 - val_accuracy: 0.0268\n",
            "Epoch 4/20\n",
            "56/56 [==============================] - 1s 20ms/step - loss: 1.9090 - accuracy: 0.3121 - val_loss: 2.4285 - val_accuracy: 0.0201\n",
            "Epoch 5/20\n",
            "56/56 [==============================] - 1s 20ms/step - loss: 1.8095 - accuracy: 0.3285 - val_loss: 2.2324 - val_accuracy: 0.0425\n",
            "Epoch 6/20\n",
            "56/56 [==============================] - 1s 20ms/step - loss: 1.6927 - accuracy: 0.3806 - val_loss: 2.0930 - val_accuracy: 0.0962\n",
            "Epoch 7/20\n",
            "56/56 [==============================] - 1s 20ms/step - loss: 1.6263 - accuracy: 0.3978 - val_loss: 2.1187 - val_accuracy: 0.0805\n",
            "Epoch 8/20\n",
            "56/56 [==============================] - 1s 20ms/step - loss: 1.6078 - accuracy: 0.4040 - val_loss: 2.0881 - val_accuracy: 0.0828\n",
            "Epoch 9/20\n",
            "56/56 [==============================] - 1s 20ms/step - loss: 1.5664 - accuracy: 0.4342 - val_loss: 2.1317 - val_accuracy: 0.0716\n",
            "Epoch 10/20\n",
            "56/56 [==============================] - 1s 20ms/step - loss: 1.5819 - accuracy: 0.4228 - val_loss: 2.0695 - val_accuracy: 0.0940\n",
            "Epoch 11/20\n",
            "56/56 [==============================] - 1s 20ms/step - loss: 1.5684 - accuracy: 0.4485 - val_loss: 2.0275 - val_accuracy: 0.1029\n",
            "Epoch 12/20\n",
            "56/56 [==============================] - 1s 20ms/step - loss: 1.4986 - accuracy: 0.4569 - val_loss: 2.1128 - val_accuracy: 0.0738\n",
            "Epoch 13/20\n",
            "56/56 [==============================] - 1s 20ms/step - loss: 1.4206 - accuracy: 0.4771 - val_loss: 2.0603 - val_accuracy: 0.1051\n",
            "Epoch 14/20\n",
            "56/56 [==============================] - 1s 20ms/step - loss: 1.3895 - accuracy: 0.4931 - val_loss: 1.8194 - val_accuracy: 0.1387\n",
            "Epoch 15/20\n",
            "56/56 [==============================] - 1s 20ms/step - loss: 1.3985 - accuracy: 0.5096 - val_loss: 1.9057 - val_accuracy: 0.1253\n",
            "Epoch 16/20\n",
            "56/56 [==============================] - 1s 20ms/step - loss: 1.3667 - accuracy: 0.4978 - val_loss: 1.8394 - val_accuracy: 0.2550\n",
            "Epoch 17/20\n",
            "56/56 [==============================] - 1s 20ms/step - loss: 1.3493 - accuracy: 0.5294 - val_loss: 1.7684 - val_accuracy: 0.2595\n",
            "Epoch 18/20\n",
            "56/56 [==============================] - 1s 20ms/step - loss: 1.3089 - accuracy: 0.5295 - val_loss: 1.6730 - val_accuracy: 0.2349\n",
            "Epoch 19/20\n",
            "56/56 [==============================] - 1s 20ms/step - loss: 1.2537 - accuracy: 0.5316 - val_loss: 1.5531 - val_accuracy: 0.3714\n",
            "Epoch 20/20\n",
            "56/56 [==============================] - 1s 20ms/step - loss: 1.2015 - accuracy: 0.5631 - val_loss: 1.4789 - val_accuracy: 0.3803\n"
          ],
          "name": "stdout"
        }
      ]
    },
    {
      "cell_type": "markdown",
      "metadata": {
        "id": "IhNOKtSyUYzC"
      },
      "source": [
        "### Visualizing the results"
      ]
    },
    {
      "cell_type": "code",
      "metadata": {
        "id": "vjN_F4QxHIsh",
        "colab": {
          "base_uri": "https://localhost:8080/",
          "height": 499
        },
        "outputId": "90db0d50-82e9-41fc-d53b-cfb300b85ae2"
      },
      "source": [
        "acc = history.history['accuracy']\n",
        "val_acc = history.history['val_accuracy']\n",
        "\n",
        "loss = history.history['loss']\n",
        "val_loss = history.history['val_loss']\n",
        "\n",
        "epochs_range = range(epochs)\n",
        "\n",
        "plt.figure(figsize=(8, 8))\n",
        "plt.subplot(1, 2, 1)\n",
        "plt.plot(epochs_range, acc, label='Training Accuracy')\n",
        "plt.plot(epochs_range, val_acc, label='Validation Accuracy')\n",
        "plt.legend(loc='lower right')\n",
        "plt.title('Training and Validation Accuracy')\n",
        "\n",
        "plt.subplot(1, 2, 2)\n",
        "plt.plot(epochs_range, loss, label='Training Loss')\n",
        "plt.plot(epochs_range, val_loss, label='Validation Loss')\n",
        "plt.legend(loc='upper right')\n",
        "plt.title('Training and Validation Loss')\n",
        "plt.show()"
      ],
      "execution_count": 29,
      "outputs": [
        {
          "output_type": "display_data",
          "data": {
            "image/png": "[encoded data removed]",
            "text/plain": [
              "<Figure size 576x576 with 2 Axes>"
            ]
          },
          "metadata": {
            "tags": [],
            "needs_background": "light"
          }
        }
      ]
    },
    {
      "cell_type": "code",
      "metadata": {
        "colab": {
          "base_uri": "https://localhost:8080/"
        },
        "id": "Rm19_Dz_eXnv",
        "outputId": "10440c34-ef84-4d84-f375-c5163f6131a8"
      },
      "source": [
        "## Let's evaluate the model on the test data\r\n",
        "history_test_model=model.evaluate(test_ds)"
      ],
      "execution_count": 30,
      "outputs": [
        {
          "output_type": "stream",
          "text": [
            "4/4 [==============================] - 4s 13ms/step - loss: 2.3756 - accuracy: 0.3220\n"
          ],
          "name": "stdout"
        }
      ]
    },
    {
      "cell_type": "code",
      "metadata": {
        "colab": {
          "base_uri": "https://localhost:8080/"
        },
        "id": "PfxWIWgheXl2",
        "outputId": "7950dadc-5429-47ff-e999-1931c0f63341"
      },
      "source": [
        "## Model summary on the performance train, validation and test set\r\n",
        "print('Model summary after adding the Dense layer')\r\n",
        "print('-----------------------------------------------------------------')\r\n",
        "print('Train accuracy on epoch',epochs,'is',str(100*(acc[epochs-1]))+'%')\r\n",
        "print('Validation accuracy on epoch',epochs,'is',str(100*(val_acc[epochs-1]))+'%')\r\n",
        "print('Test accuracy: ', str(100*history_test_model[1])+'%')"
      ],
      "execution_count": 31,
      "outputs": [
        {
          "output_type": "stream",
          "text": [
            "Model summary after adding the Dense layer\n",
            "-----------------------------------------------------------------\n",
            "Train accuracy on epoch 20 is 55.02232313156128%\n",
            "Validation accuracy on epoch 20 is 38.03131878376007%\n",
            "Test accuracy:  32.20339119434357%\n"
          ],
          "name": "stdout"
        }
      ]
    },
    {
      "cell_type": "markdown",
      "metadata": {
        "id": "0-AUR_b7UcaK"
      },
      "source": [
        "#### Todo: Write your findings after the model fit, see if there is an evidence of model overfit or underfit. Do you think there is some improvement now as compared to the previous model run?"
      ]
    },
    {
      "cell_type": "markdown",
      "metadata": {
        "id": "7TdDi4u-VTkW"
      },
      "source": [
        "#### **Todo:** Find the distribution of classes in the training dataset.\n",
        "#### **Context:** Many times real life datasets can have class imbalance, one class can have proportionately higher number of samples compared to the others. Class imbalance can have a detrimental effect on the final model quality. Hence as a sanity check it becomes important to check what is the distribution of classes in the data."
      ]
    },
    {
      "cell_type": "code",
      "metadata": {
        "id": "HAhwYgtTQRzq",
        "colab": {
          "base_uri": "https://localhost:8080/"
        },
        "outputId": "0dc962c1-57b3-48e3-944b-8a0f29da621e"
      },
      "source": [
        "## Your code goes here.\r\n",
        "\r\n",
        "print(x_train_ds.class_names)"
      ],
      "execution_count": 33,
      "outputs": [
        {
          "output_type": "stream",
          "text": [
            "['actinic keratosis', 'basal cell carcinoma', 'dermatofibroma', 'melanoma', 'nevus', 'pigmented benign keratosis', 'seborrheic keratosis', 'squamous cell carcinoma', 'vascular lesion']\n"
          ],
          "name": "stdout"
        }
      ]
    },
    {
      "cell_type": "markdown",
      "metadata": {
        "id": "4csQL1dvO0b2"
      },
      "source": [
        "#### **Todo:** Write your findings here: \n",
        "#### - Which class has the least number of samples?\n",
        "#### - Which classes dominate the data in terms proportionate number of samples?\n"
      ]
    },
    {
      "cell_type": "markdown",
      "metadata": {
        "id": "Hb-stKyHPf8v"
      },
      "source": [
        "#### **Todo:** Rectify the class imbalance\n",
        "#### **Context:** You can use a python package known as `Augmentor` (https://augmentor.readthedocs.io/en/master/) to add more samples across all classes so that none of the classes have very few samples."
      ]
    },
    {
      "cell_type": "code",
      "metadata": {
        "id": "ItAg4rU-SzJh",
        "colab": {
          "base_uri": "https://localhost:8080/"
        },
        "outputId": "0c42758f-1e93-487f-8363-d6951c2771e5"
      },
      "source": [
        "!pip install Augmentor"
      ],
      "execution_count": 34,
      "outputs": [
        {
          "output_type": "stream",
          "text": [
            "Requirement already satisfied: Augmentor in /usr/local/lib/python3.6/dist-packages (0.2.8)\n",
            "Requirement already satisfied: numpy>=1.11.0 in /usr/local/lib/python3.6/dist-packages (from Augmentor) (1.19.5)\n",
            "Requirement already satisfied: future>=0.16.0 in /usr/local/lib/python3.6/dist-packages (from Augmentor) (0.16.0)\n",
            "Requirement already satisfied: tqdm>=4.9.0 in /usr/local/lib/python3.6/dist-packages (from Augmentor) (4.41.1)\n",
            "Requirement already satisfied: Pillow>=5.2.0 in /usr/local/lib/python3.6/dist-packages (from Augmentor) (7.0.0)\n"
          ],
          "name": "stdout"
        }
      ]
    },
    {
      "cell_type": "markdown",
      "metadata": {
        "id": "BZKzTe3zWL4O"
      },
      "source": [
        "To use `Augmentor`, the following general procedure is followed:\n",
        "\n",
        "1. Instantiate a `Pipeline` object pointing to a directory containing your initial image data set.<br>\n",
        "2. Define a number of operations to perform on this data set using your `Pipeline` object.<br>\n",
        "3. Execute these operations by calling the `Pipeline’s` `sample()` method.\n"
      ]
    },
    {
      "cell_type": "code",
      "metadata": {
        "colab": {
          "base_uri": "https://localhost:8080/"
        },
        "id": "9Egt9EHjR-Dd",
        "outputId": "cc330c95-52e1-4639-c58d-4111130244ba"
      },
      "source": [
        "path_to_training_dataset=str(data_dir_train)\n",
        "import Augmentor\n",
        "for i in class_names:\n",
        "    p = Augmentor.Pipeline(path_to_training_dataset+'/' + i)\n",
        "    p.rotate(probability=0.7, max_left_rotation=10, max_right_rotation=10)\n",
        "    p.sample(500) ## We are adding 500 samples per class to make sure that none of the classes are sparse."
      ],
      "execution_count": 38,
      "outputs": [
        {
          "output_type": "stream",
          "text": [
            "Processing <PIL.JpegImagePlugin.JpegImageFile image mode=RGB size=600x450 at 0x7F01EC180048>:   0%|          | 0/500 [00:00<?, ? Samples/s]"
          ],
          "name": "stderr"
        },
        {
          "output_type": "stream",
          "text": [
            "Initialised with 114 image(s) found.\n",
            "Output directory set to /content/drive/My Drive/ML/CNN_assignment/Skin cancer ISIC The International Skin Imaging Collaboration/Train/actinic keratosis/output."
          ],
          "name": "stdout"
        },
        {
          "output_type": "stream",
          "text": [
            "Processing <PIL.JpegImagePlugin.JpegImageFile image mode=RGB size=600x450 at 0x7F01EC0C4518>: 100%|██████████| 500/500 [00:18<00:00, 26.34 Samples/s]\n",
            "Processing <PIL.JpegImagePlugin.JpegImageFile image mode=RGB size=600x450 at 0x7F01F4167A58>:   0%|          | 0/500 [00:00<?, ? Samples/s]"
          ],
          "name": "stderr"
        },
        {
          "output_type": "stream",
          "text": [
            "Initialised with 376 image(s) found.\n",
            "Output directory set to /content/drive/My Drive/ML/CNN_assignment/Skin cancer ISIC The International Skin Imaging Collaboration/Train/basal cell carcinoma/output."
          ],
          "name": "stdout"
        },
        {
          "output_type": "stream",
          "text": [
            "Processing <PIL.JpegImagePlugin.JpegImageFile image mode=RGB size=600x450 at 0x7F01EC06BF98>: 100%|██████████| 500/500 [00:18<00:00, 27.49 Samples/s]\n",
            "Executing Pipeline:   0%|          | 0/500 [00:00<?, ? Samples/s]"
          ],
          "name": "stderr"
        },
        {
          "output_type": "stream",
          "text": [
            "Initialised with 95 image(s) found.\n",
            "Output directory set to /content/drive/My Drive/ML/CNN_assignment/Skin cancer ISIC The International Skin Imaging Collaboration/Train/dermatofibroma/output."
          ],
          "name": "stdout"
        },
        {
          "output_type": "stream",
          "text": [
            "Processing <PIL.JpegImagePlugin.JpegImageFile image mode=RGB size=600x450 at 0x7F01F45147B8>: 100%|██████████| 500/500 [00:18<00:00, 26.53 Samples/s]\n",
            "Executing Pipeline:   0%|          | 0/500 [00:00<?, ? Samples/s]"
          ],
          "name": "stderr"
        },
        {
          "output_type": "stream",
          "text": [
            "Initialised with 438 image(s) found.\n",
            "Output directory set to /content/drive/My Drive/ML/CNN_assignment/Skin cancer ISIC The International Skin Imaging Collaboration/Train/melanoma/output."
          ],
          "name": "stdout"
        },
        {
          "output_type": "stream",
          "text": [
            "Processing <PIL.Image.Image image mode=RGB size=838x614 at 0x7F024008C400>: 100%|██████████| 500/500 [01:26<00:00,  5.81 Samples/s]\n",
            "Executing Pipeline:   0%|          | 0/500 [00:00<?, ? Samples/s]"
          ],
          "name": "stderr"
        },
        {
          "output_type": "stream",
          "text": [
            "Initialised with 357 image(s) found.\n",
            "Output directory set to /content/drive/My Drive/ML/CNN_assignment/Skin cancer ISIC The International Skin Imaging Collaboration/Train/nevus/output."
          ],
          "name": "stdout"
        },
        {
          "output_type": "stream",
          "text": [
            "Processing <PIL.JpegImagePlugin.JpegImageFile image mode=RGB size=600x450 at 0x7F01F5E682E8>: 100%|██████████| 500/500 [01:32<00:00,  5.41 Samples/s]\n",
            "Executing Pipeline:   0%|          | 0/500 [00:00<?, ? Samples/s]"
          ],
          "name": "stderr"
        },
        {
          "output_type": "stream",
          "text": [
            "Initialised with 462 image(s) found.\n",
            "Output directory set to /content/drive/My Drive/ML/CNN_assignment/Skin cancer ISIC The International Skin Imaging Collaboration/Train/pigmented benign keratosis/output."
          ],
          "name": "stdout"
        },
        {
          "output_type": "stream",
          "text": [
            "Processing <PIL.Image.Image image mode=RGB size=600x450 at 0x7F01F438DF60>: 100%|██████████| 500/500 [00:18<00:00, 26.86 Samples/s]\n",
            "Executing Pipeline:   0%|          | 0/500 [00:00<?, ? Samples/s]"
          ],
          "name": "stderr"
        },
        {
          "output_type": "stream",
          "text": [
            "Initialised with 77 image(s) found.\n",
            "Output directory set to /content/drive/My Drive/ML/CNN_assignment/Skin cancer ISIC The International Skin Imaging Collaboration/Train/seborrheic keratosis/output."
          ],
          "name": "stdout"
        },
        {
          "output_type": "stream",
          "text": [
            "Processing <PIL.Image.Image image mode=RGB size=1024x768 at 0x7F02561D4F28>: 100%|██████████| 500/500 [00:40<00:00, 12.35 Samples/s]\n",
            "Processing <PIL.JpegImagePlugin.JpegImageFile image mode=RGB size=600x450 at 0x7F01F44CEA90>:   0%|          | 1/500 [00:00<00:57,  8.66 Samples/s]"
          ],
          "name": "stderr"
        },
        {
          "output_type": "stream",
          "text": [
            "Initialised with 181 image(s) found.\n",
            "Output directory set to /content/drive/My Drive/ML/CNN_assignment/Skin cancer ISIC The International Skin Imaging Collaboration/Train/squamous cell carcinoma/output."
          ],
          "name": "stdout"
        },
        {
          "output_type": "stream",
          "text": [
            "Processing <PIL.JpegImagePlugin.JpegImageFile image mode=RGB size=600x450 at 0x7F01F5E3E828>: 100%|██████████| 500/500 [00:18<00:00, 27.14 Samples/s]\n",
            "Processing <PIL.JpegImagePlugin.JpegImageFile image mode=RGB size=600x450 at 0x7F025ECE6668>:   0%|          | 0/500 [00:00<?, ? Samples/s]"
          ],
          "name": "stderr"
        },
        {
          "output_type": "stream",
          "text": [
            "Initialised with 139 image(s) found.\n",
            "Output directory set to /content/drive/My Drive/ML/CNN_assignment/Skin cancer ISIC The International Skin Imaging Collaboration/Train/vascular lesion/output."
          ],
          "name": "stdout"
        },
        {
          "output_type": "stream",
          "text": [
            "Processing <PIL.Image.Image image mode=RGB size=600x450 at 0x7F024008CCC0>: 100%|██████████| 500/500 [00:18<00:00, 27.11 Samples/s]\n"
          ],
          "name": "stderr"
        }
      ]
    },
    {
      "cell_type": "markdown",
      "metadata": {
        "id": "CcBIFZGbWuFa"
      },
      "source": [
        "Augmentor has stored the augmented images in the output sub-directory of each of the sub-directories of skin cancer types.. Lets take a look at total count of augmented images."
      ]
    },
    {
      "cell_type": "code",
      "metadata": {
        "colab": {
          "base_uri": "https://localhost:8080/"
        },
        "id": "jxWcMqZhdRWz",
        "outputId": "29b0919b-8ffb-47f1-e055-5e51662f048e"
      },
      "source": [
        "from glob import glob\n",
        "image_count_train = len(list(data_dir_train.glob('*/output/*.jpg')))\n",
        "print(image_count_train)"
      ],
      "execution_count": 41,
      "outputs": [
        {
          "output_type": "stream",
          "text": [
            "4500\n"
          ],
          "name": "stdout"
        }
      ]
    },
    {
      "cell_type": "markdown",
      "metadata": {
        "id": "IJ5KarKq4kWJ"
      },
      "source": [
        "### Lets see the distribution of augmented data after adding new images to the original training data."
      ]
    },
    {
      "cell_type": "code",
      "metadata": {
        "id": "6tODrYIY2nxJ",
        "colab": {
          "base_uri": "https://localhost:8080/"
        },
        "outputId": "28130281-952b-4bd0-de79-dcef777fc9f6"
      },
      "source": [
        "path_list = [x for x in glob(os.path.join(data_dir_train, '*','output', '*.jpg'))]\n",
        "path_list_new=path_list\n",
        "path_list"
      ],
      "execution_count": 45,
      "outputs": [
        {
          "output_type": "execute_result",
          "data": {
            "text/plain": [
              "['/content/drive/My Drive/ML/CNN_assignment/Skin cancer ISIC The International Skin Imaging Collaboration/Train/actinic keratosis/output/actinic keratosis_original_ISIC_0031823.jpg_849ef4c3-f8d8-4af7-bc6b-55f313ca24d1.jpg',\n",
              " '/content/drive/My Drive/ML/CNN_assignment/Skin cancer ISIC The International Skin Imaging Collaboration/Train/actinic keratosis/output/actinic keratosis_original_ISIC_0030036.jpg_5046215d-6fc8-4827-b55b-30cc1337f800.jpg',\n",
              " '/content/drive/My Drive/ML/CNN_assignment/Skin cancer ISIC The International Skin Imaging Collaboration/Train/actinic keratosis/output/actinic keratosis_original_ISIC_0030491.jpg_0ef94cf6-2d92-4f06-a7e3-a68cabece536.jpg',\n",
              " '/content/drive/My Drive/ML/CNN_assignment/Skin cancer ISIC The International Skin Imaging Collaboration/Train/actinic keratosis/output/actinic keratosis_original_ISIC_0025953.jpg_d4b069c8-82d4-40b9-a1a7-aea2031489d0.jpg',\n",
              " '/content/drive/My Drive/ML/CNN_assignment/Skin cancer ISIC The International Skin Imaging Collaboration/Train/actinic keratosis/output/actinic keratosis_original_ISIC_0031228.jpg_07a35dfd-51da-4fe8-80b7-32227e400b2d.jpg',\n",
              " '/content/drive/My Drive/ML/CNN_assignment/Skin cancer ISIC The International Skin Imaging Collaboration/Train/actinic keratosis/output/actinic keratosis_original_ISIC_0029659.jpg_5f43cda3-f135-4240-88a1-2f5942a4f763.jpg',\n",
              " '/content/drive/My Drive/ML/CNN_assignment/Skin cancer ISIC The International Skin Imaging Collaboration/Train/actinic keratosis/output/actinic keratosis_original_ISIC_0026857.jpg_ec319878-f38f-4934-a4b6-a1dd8ee849f7.jpg',\n",
              " '/content/drive/My Drive/ML/CNN_assignment/Skin cancer ISIC The International Skin Imaging Collaboration/Train/actinic keratosis/output/actinic keratosis_original_ISIC_0031609.jpg_3c795334-3850-4a56-a016-46e60230cf7a.jpg',\n",
              " '/content/drive/My Drive/ML/CNN_assignment/Skin cancer ISIC The International Skin Imaging Collaboration/Train/actinic keratosis/output/actinic keratosis_original_ISIC_0033456.jpg_b43426af-8be2-493f-8562-0e1a8b46e04c.jpg',\n",
              " '/content/drive/My Drive/ML/CNN_assignment/Skin cancer ISIC The International Skin Imaging Collaboration/Train/actinic keratosis/output/actinic keratosis_original_ISIC_0026194.jpg_d9563c22-e82f-49fd-8c94-6c89cb03536b.jpg',\n",
              " '/content/drive/My Drive/ML/CNN_assignment/Skin cancer ISIC The International Skin Imaging Collaboration/Train/actinic keratosis/output/actinic keratosis_original_ISIC_0028190.jpg_3a263415-1ffe-4564-b4a0-b7e5f183e896.jpg',\n",
              " '/content/drive/My Drive/ML/CNN_assignment/Skin cancer ISIC The International Skin Imaging Collaboration/Train/actinic keratosis/output/actinic keratosis_original_ISIC_0032854.jpg_cf96aced-b6a3-4e0c-a24c-49c5be421c25.jpg',\n",
              " '/content/drive/My Drive/ML/CNN_assignment/Skin cancer ISIC The International Skin Imaging Collaboration/Train/actinic keratosis/output/actinic keratosis_original_ISIC_0029900.jpg_2c341cd2-61ac-41df-a90b-9e992839121e.jpg',\n",
              " '/content/drive/My Drive/ML/CNN_assignment/Skin cancer ISIC The International Skin Imaging Collaboration/Train/actinic keratosis/output/actinic keratosis_original_ISIC_0027447.jpg_1f67e672-7dcb-4a89-a70a-e20366e7eb5d.jpg',\n",
              " '/content/drive/My Drive/ML/CNN_assignment/Skin cancer ISIC The International Skin Imaging Collaboration/Train/actinic keratosis/output/actinic keratosis_original_ISIC_0031335.jpg_d1b2f44a-068b-4950-9872-d0e23e3e9def.jpg',\n",
              " '/content/drive/My Drive/ML/CNN_assignment/Skin cancer ISIC The International Skin Imaging Collaboration/Train/actinic keratosis/output/actinic keratosis_original_ISIC_0029827.jpg_7f611148-a31d-4749-98a4-eda9a14677de.jpg',\n",
              " '/content/drive/My Drive/ML/CNN_assignment/Skin cancer ISIC The International Skin Imaging Collaboration/Train/actinic keratosis/output/actinic keratosis_original_ISIC_0025780.jpg_8544bae7-5a77-455f-bfed-72d87cf78810.jpg',\n",
              " '/content/drive/My Drive/ML/CNN_assignment/Skin cancer ISIC The International Skin Imaging Collaboration/Train/actinic keratosis/output/actinic keratosis_original_ISIC_0031609.jpg_0a7247c3-068d-4d9b-846c-4872a57c450d.jpg',\n",
              " '/content/drive/My Drive/ML/CNN_assignment/Skin cancer ISIC The International Skin Imaging Collaboration/Train/actinic keratosis/output/actinic keratosis_original_ISIC_0029840.jpg_31eed740-d447-46f0-a881-30725bab32ef.jpg',\n",
              " '/content/drive/My Drive/ML/CNN_assignment/Skin cancer ISIC The International Skin Imaging Collaboration/Train/actinic keratosis/output/actinic keratosis_original_ISIC_0027452.jpg_e86ecd54-446d-40e1-8992-89c779d613a7.jpg',\n",
              " '/content/drive/My Drive/ML/CNN_assignment/Skin cancer ISIC The International Skin Imaging Collaboration/Train/actinic keratosis/output/actinic keratosis_original_ISIC_0026468.jpg_44c953be-49e0-40ce-9f1f-332a83f17c32.jpg',\n",
              " '/content/drive/My Drive/ML/CNN_assignment/Skin cancer ISIC The International Skin Imaging Collaboration/Train/actinic keratosis/output/actinic keratosis_original_ISIC_0028517.jpg_fe5a91c3-e20c-4878-83e1-4a25980884c4.jpg',\n",
              " '/content/drive/My Drive/ML/CNN_assignment/Skin cancer ISIC The International Skin Imaging Collaboration/Train/actinic keratosis/output/actinic keratosis_original_ISIC_0025780.jpg_7375f4fe-b528-4222-8434-fd25cec34718.jpg',\n",
              " '/content/drive/My Drive/ML/CNN_assignment/Skin cancer ISIC The International Skin Imaging Collaboration/Train/actinic keratosis/output/actinic keratosis_original_ISIC_0031040.jpg_7c9d5ffb-c6b0-487e-a837-871d0a577ce8.jpg',\n",
              " '/content/drive/My Drive/ML/CNN_assignment/Skin cancer ISIC The International Skin Imaging Collaboration/Train/actinic keratosis/output/actinic keratosis_original_ISIC_0029827.jpg_dc7a5781-94fb-4c73-95cc-c2880f37846f.jpg',\n",
              " '/content/drive/My Drive/ML/CNN_assignment/Skin cancer ISIC The International Skin Imaging Collaboration/Train/actinic keratosis/output/actinic keratosis_original_ISIC_0025825.jpg_ba60f2fa-bfe7-4950-bb28-d26f15e8bf6f.jpg',\n",
              " '/content/drive/My Drive/ML/CNN_assignment/Skin cancer ISIC The International Skin Imaging Collaboration/Train/actinic keratosis/output/actinic keratosis_original_ISIC_0030825.jpg_9a536e22-aa69-4bc3-b525-55f100a00bd8.jpg',\n",
              " '/content/drive/My Drive/ML/CNN_assignment/Skin cancer ISIC The International Skin Imaging Collaboration/Train/actinic keratosis/output/actinic keratosis_original_ISIC_0026709.jpg_acbb6766-f61c-4623-b160-ea0bd2b83c3a.jpg',\n",
              " '/content/drive/My Drive/ML/CNN_assignment/Skin cancer ISIC The International Skin Imaging Collaboration/Train/actinic keratosis/output/actinic keratosis_original_ISIC_0029900.jpg_4cfac573-9051-4c7c-87c2-32bd803f0b65.jpg',\n",
              " '/content/drive/My Drive/ML/CNN_assignment/Skin cancer ISIC The International Skin Imaging Collaboration/Train/actinic keratosis/output/actinic keratosis_original_ISIC_0025803.jpg_aca2438e-7157-4d17-8cf7-25af780cef61.jpg',\n",
              " '/content/drive/My Drive/ML/CNN_assignment/Skin cancer ISIC The International Skin Imaging Collaboration/Train/actinic keratosis/output/actinic keratosis_original_ISIC_0026905.jpg_a8fc2fa7-dcad-4ee2-9346-66258003d37b.jpg',\n",
              " '/content/drive/My Drive/ML/CNN_assignment/Skin cancer ISIC The International Skin Imaging Collaboration/Train/actinic keratosis/output/actinic keratosis_original_ISIC_0031922.jpg_fefdc52e-5c21-4bc6-a077-f2e4988c8a6a.jpg',\n",
              " '/content/drive/My Drive/ML/CNN_assignment/Skin cancer ISIC The International Skin Imaging Collaboration/Train/actinic keratosis/output/actinic keratosis_original_ISIC_0032135.jpg_8f97b62c-6e18-49f2-a649-4d1ce2fee5be.jpg',\n",
              " '/content/drive/My Drive/ML/CNN_assignment/Skin cancer ISIC The International Skin Imaging Collaboration/Train/actinic keratosis/output/actinic keratosis_original_ISIC_0026457.jpg_c6be3ec8-8769-4074-b681-ef0d282246ca.jpg',\n",
              " '/content/drive/My Drive/ML/CNN_assignment/Skin cancer ISIC The International Skin Imaging Collaboration/Train/actinic keratosis/output/actinic keratosis_original_ISIC_0028820.jpg_7498faef-bbd9-43ab-a3e6-7730d3c66dcb.jpg',\n",
              " '/content/drive/My Drive/ML/CNN_assignment/Skin cancer ISIC The International Skin Imaging Collaboration/Train/actinic keratosis/output/actinic keratosis_original_ISIC_0025953.jpg_7f949627-e224-4405-9091-302f12ec1092.jpg',\n",
              " '/content/drive/My Drive/ML/CNN_assignment/Skin cancer ISIC The International Skin Imaging Collaboration/Train/actinic keratosis/output/actinic keratosis_original_ISIC_0027447.jpg_6955877d-b200-4867-8e9d-f8dd8b2c07d7.jpg',\n",
              " '/content/drive/My Drive/ML/CNN_assignment/Skin cancer ISIC The International Skin Imaging Collaboration/Train/actinic keratosis/output/actinic keratosis_original_ISIC_0028820.jpg_e23c38f9-1344-45c4-9733-a612526626c1.jpg',\n",
              " '/content/drive/My Drive/ML/CNN_assignment/Skin cancer ISIC The International Skin Imaging Collaboration/Train/actinic keratosis/output/actinic keratosis_original_ISIC_0026765.jpg_1da2ff56-d910-43dc-870f-53f54006c144.jpg',\n",
              " '/content/drive/My Drive/ML/CNN_assignment/Skin cancer ISIC The International Skin Imaging Collaboration/Train/actinic keratosis/output/actinic keratosis_original_ISIC_0030344.jpg_e1ebfd35-23c6-4e14-bd16-d1baddbaf50a.jpg',\n",
              " '/content/drive/My Drive/ML/CNN_assignment/Skin cancer ISIC The International Skin Imaging Collaboration/Train/actinic keratosis/output/actinic keratosis_original_ISIC_0033358.jpg_3b56ac2e-86f9-415b-9158-85a94266305f.jpg',\n",
              " '/content/drive/My Drive/ML/CNN_assignment/Skin cancer ISIC The International Skin Imaging Collaboration/Train/actinic keratosis/output/actinic keratosis_original_ISIC_0027615.jpg_664f04f6-403c-4c00-ab58-3e3a43642297.jpg',\n",
              " '/content/drive/My Drive/ML/CNN_assignment/Skin cancer ISIC The International Skin Imaging Collaboration/Train/actinic keratosis/output/actinic keratosis_original_ISIC_0031108.jpg_c57f8f89-4750-468a-8864-7326d0ef0a9d.jpg',\n",
              " '/content/drive/My Drive/ML/CNN_assignment/Skin cancer ISIC The International Skin Imaging Collaboration/Train/actinic keratosis/output/actinic keratosis_original_ISIC_0029781.jpg_20a9279a-f5cb-4578-8064-51daf6aeddf4.jpg',\n",
              " '/content/drive/My Drive/ML/CNN_assignment/Skin cancer ISIC The International Skin Imaging Collaboration/Train/actinic keratosis/output/actinic keratosis_original_ISIC_0030877.jpg_64c0d229-49e9-450c-a328-b28e59592913.jpg',\n",
              " '/content/drive/My Drive/ML/CNN_assignment/Skin cancer ISIC The International Skin Imaging Collaboration/Train/actinic keratosis/output/actinic keratosis_original_ISIC_0025957.jpg_22ee6a6b-b5a1-45ab-b1e3-68138445a2a9.jpg',\n",
              " '/content/drive/My Drive/ML/CNN_assignment/Skin cancer ISIC The International Skin Imaging Collaboration/Train/actinic keratosis/output/actinic keratosis_original_ISIC_0033705.jpg_166383ed-c29d-4fc0-b86c-59b99b316f9c.jpg',\n",
              " '/content/drive/My Drive/ML/CNN_assignment/Skin cancer ISIC The International Skin Imaging Collaboration/Train/actinic keratosis/output/actinic keratosis_original_ISIC_0026857.jpg_ba8a713b-5cad-41b9-8b4a-2a34abf2305b.jpg',\n",
              " '/content/drive/My Drive/ML/CNN_assignment/Skin cancer ISIC The International Skin Imaging Collaboration/Train/actinic keratosis/output/actinic keratosis_original_ISIC_0026765.jpg_6ce952d0-5e07-4a86-b36a-549e3839acc2.jpg',\n",
              " '/content/drive/My Drive/ML/CNN_assignment/Skin cancer ISIC The International Skin Imaging Collaboration/Train/actinic keratosis/output/actinic keratosis_original_ISIC_0025992.jpg_73abaa8e-117f-42ca-990a-d7195700f4d1.jpg',\n",
              " '/content/drive/My Drive/ML/CNN_assignment/Skin cancer ISIC The International Skin Imaging Collaboration/Train/actinic keratosis/output/actinic keratosis_original_ISIC_0027580.jpg_0e6f0603-3080-41ff-bd9c-a14f53c5591b.jpg',\n",
              " '/content/drive/My Drive/ML/CNN_assignment/Skin cancer ISIC The International Skin Imaging Collaboration/Train/actinic keratosis/output/actinic keratosis_original_ISIC_0030826.jpg_15f5d28c-d85d-4aba-ae20-59a5568b7853.jpg',\n",
              " '/content/drive/My Drive/ML/CNN_assignment/Skin cancer ISIC The International Skin Imaging Collaboration/Train/actinic keratosis/output/actinic keratosis_original_ISIC_0033705.jpg_836eb710-e882-4e0f-b8b9-037966684844.jpg',\n",
              " '/content/drive/My Drive/ML/CNN_assignment/Skin cancer ISIC The International Skin Imaging Collaboration/Train/actinic keratosis/output/actinic keratosis_original_ISIC_0031381.jpg_e759193b-0299-425b-802d-406cfa669eb1.jpg',\n",
              " '/content/drive/My Drive/ML/CNN_assignment/Skin cancer ISIC The International Skin Imaging Collaboration/Train/actinic keratosis/output/actinic keratosis_original_ISIC_0029713.jpg_efc6e7ed-388e-426a-9de5-c1847d20526d.jpg',\n",
              " '/content/drive/My Drive/ML/CNN_assignment/Skin cancer ISIC The International Skin Imaging Collaboration/Train/actinic keratosis/output/actinic keratosis_original_ISIC_0028854.jpg_9ae18d47-f3d0-481c-9135-08d675ca01e4.jpg',\n",
              " '/content/drive/My Drive/ML/CNN_assignment/Skin cancer ISIC The International Skin Imaging Collaboration/Train/actinic keratosis/output/actinic keratosis_original_ISIC_0025957.jpg_1710762a-2b53-44a1-8479-591b6f4b49ff.jpg',\n",
              " '/content/drive/My Drive/ML/CNN_assignment/Skin cancer ISIC The International Skin Imaging Collaboration/Train/actinic keratosis/output/actinic keratosis_original_ISIC_0033151.jpg_2576a02c-bbcb-4fd5-a853-800f9f244208.jpg',\n",
              " '/content/drive/My Drive/ML/CNN_assignment/Skin cancer ISIC The International Skin Imaging Collaboration/Train/actinic keratosis/output/actinic keratosis_original_ISIC_0027802.jpg_b7d0ebc3-ccb1-4099-bbab-2a92461a93a7.jpg',\n",
              " '/content/drive/My Drive/ML/CNN_assignment/Skin cancer ISIC The International Skin Imaging Collaboration/Train/actinic keratosis/output/actinic keratosis_original_ISIC_0028190.jpg_82ae446d-4ef3-44ef-877f-b9d4cecf0efc.jpg',\n",
              " '/content/drive/My Drive/ML/CNN_assignment/Skin cancer ISIC The International Skin Imaging Collaboration/Train/actinic keratosis/output/actinic keratosis_original_ISIC_0025803.jpg_2200d6a1-c035-4b45-8731-2681a139e4fe.jpg',\n",
              " '/content/drive/My Drive/ML/CNN_assignment/Skin cancer ISIC The International Skin Imaging Collaboration/Train/actinic keratosis/output/actinic keratosis_original_ISIC_0026468.jpg_8117b586-52a4-42ed-9f43-5dcf8d693dd4.jpg',\n",
              " '/content/drive/My Drive/ML/CNN_assignment/Skin cancer ISIC The International Skin Imaging Collaboration/Train/actinic keratosis/output/actinic keratosis_original_ISIC_0031922.jpg_19bba140-93c3-498b-9f87-de9c93a19f34.jpg',\n",
              " '/content/drive/My Drive/ML/CNN_assignment/Skin cancer ISIC The International Skin Imaging Collaboration/Train/actinic keratosis/output/actinic keratosis_original_ISIC_0030036.jpg_5d39bf58-0a73-43ae-8d5c-6dec5b63bc4e.jpg',\n",
              " '/content/drive/My Drive/ML/CNN_assignment/Skin cancer ISIC The International Skin Imaging Collaboration/Train/actinic keratosis/output/actinic keratosis_original_ISIC_0027172.jpg_97f2b0f6-78f5-4256-b89c-818b00a65342.jpg',\n",
              " '/content/drive/My Drive/ML/CNN_assignment/Skin cancer ISIC The International Skin Imaging Collaboration/Train/actinic keratosis/output/actinic keratosis_original_ISIC_0025953.jpg_21a1f18c-b82d-40eb-a288-a36b33d96829.jpg',\n",
              " '/content/drive/My Drive/ML/CNN_assignment/Skin cancer ISIC The International Skin Imaging Collaboration/Train/actinic keratosis/output/actinic keratosis_original_ISIC_0029830.jpg_cd77b5d4-f19f-4e8d-945d-49e180718721.jpg',\n",
              " '/content/drive/My Drive/ML/CNN_assignment/Skin cancer ISIC The International Skin Imaging Collaboration/Train/actinic keratosis/output/actinic keratosis_original_ISIC_0031823.jpg_380e5893-7f5a-4c3a-b603-aaf032873757.jpg',\n",
              " '/content/drive/My Drive/ML/CNN_assignment/Skin cancer ISIC The International Skin Imaging Collaboration/Train/actinic keratosis/output/actinic keratosis_original_ISIC_0029210.jpg_6ff34e9e-83b3-4d76-bbf7-e311e6d9937d.jpg',\n",
              " '/content/drive/My Drive/ML/CNN_assignment/Skin cancer ISIC The International Skin Imaging Collaboration/Train/actinic keratosis/output/actinic keratosis_original_ISIC_0031108.jpg_8ceb32f9-bb96-4d72-89d0-b5b6913bea5e.jpg',\n",
              " '/content/drive/My Drive/ML/CNN_assignment/Skin cancer ISIC The International Skin Imaging Collaboration/Train/actinic keratosis/output/actinic keratosis_original_ISIC_0029025.jpg_4ff62cb1-3ba2-477d-8c04-8060a64818d8.jpg',\n",
              " '/content/drive/My Drive/ML/CNN_assignment/Skin cancer ISIC The International Skin Imaging Collaboration/Train/actinic keratosis/output/actinic keratosis_original_ISIC_0026575.jpg_b798f8fc-a51d-44db-a1f9-e0a496410358.jpg',\n",
              " '/content/drive/My Drive/ML/CNN_assignment/Skin cancer ISIC The International Skin Imaging Collaboration/Train/actinic keratosis/output/actinic keratosis_original_ISIC_0029460.jpg_30933889-467a-4a48-b0d7-9bfe345e03e1.jpg',\n",
              " '/content/drive/My Drive/ML/CNN_assignment/Skin cancer ISIC The International Skin Imaging Collaboration/Train/actinic keratosis/output/actinic keratosis_original_ISIC_0026468.jpg_7d620eae-21a3-4ea8-b855-026a0c3fbb68.jpg',\n",
              " '/content/drive/My Drive/ML/CNN_assignment/Skin cancer ISIC The International Skin Imaging Collaboration/Train/actinic keratosis/output/actinic keratosis_original_ISIC_0032135.jpg_356bcd03-538c-4c93-b227-d0677ccf9506.jpg',\n",
              " '/content/drive/My Drive/ML/CNN_assignment/Skin cancer ISIC The International Skin Imaging Collaboration/Train/actinic keratosis/output/actinic keratosis_original_ISIC_0030586.jpg_779ba815-4758-45af-991f-e7a812b258ae.jpg',\n",
              " '/content/drive/My Drive/ML/CNN_assignment/Skin cancer ISIC The International Skin Imaging Collaboration/Train/actinic keratosis/output/actinic keratosis_original_ISIC_0027172.jpg_9338dfd3-f329-4dab-8e85-b6212438ef9e.jpg',\n",
              " '/content/drive/My Drive/ML/CNN_assignment/Skin cancer ISIC The International Skin Imaging Collaboration/Train/actinic keratosis/output/actinic keratosis_original_ISIC_0026905.jpg_7703d9eb-779c-46cb-967f-309bc3b8d72c.jpg',\n",
              " '/content/drive/My Drive/ML/CNN_assignment/Skin cancer ISIC The International Skin Imaging Collaboration/Train/actinic keratosis/output/actinic keratosis_original_ISIC_0032437.jpg_48f81575-8152-4b94-acf3-ca4c77bcdb6c.jpg',\n",
              " '/content/drive/My Drive/ML/CNN_assignment/Skin cancer ISIC The International Skin Imaging Collaboration/Train/actinic keratosis/output/actinic keratosis_original_ISIC_0029460.jpg_8b37d215-d2b7-4c43-a947-9e8454736b23.jpg',\n",
              " '/content/drive/My Drive/ML/CNN_assignment/Skin cancer ISIC The International Skin Imaging Collaboration/Train/actinic keratosis/output/actinic keratosis_original_ISIC_0030877.jpg_71fe6009-5417-4892-9d51-353f118a18e0.jpg',\n",
              " '/content/drive/My Drive/ML/CNN_assignment/Skin cancer ISIC The International Skin Imaging Collaboration/Train/actinic keratosis/output/actinic keratosis_original_ISIC_0026625.jpg_50fb9914-9516-4ed6-b9fa-7d86525459bf.jpg',\n",
              " '/content/drive/My Drive/ML/CNN_assignment/Skin cancer ISIC The International Skin Imaging Collaboration/Train/actinic keratosis/output/actinic keratosis_original_ISIC_0032404.jpg_23446907-be47-4bdd-9fc6-bdb00dc5a4fe.jpg',\n",
              " '/content/drive/My Drive/ML/CNN_assignment/Skin cancer ISIC The International Skin Imaging Collaboration/Train/actinic keratosis/output/actinic keratosis_original_ISIC_0026457.jpg_2c4b8082-995a-4e7b-ae43-bc5b0c1cc959.jpg',\n",
              " '/content/drive/My Drive/ML/CNN_assignment/Skin cancer ISIC The International Skin Imaging Collaboration/Train/actinic keratosis/output/actinic keratosis_original_ISIC_0029210.jpg_8b083537-2207-46a1-b83f-22842732147a.jpg',\n",
              " '/content/drive/My Drive/ML/CNN_assignment/Skin cancer ISIC The International Skin Imaging Collaboration/Train/actinic keratosis/output/actinic keratosis_original_ISIC_0027254.jpg_c0756554-5242-4e57-bc2f-0c475fae3232.jpg',\n",
              " '/content/drive/My Drive/ML/CNN_assignment/Skin cancer ISIC The International Skin Imaging Collaboration/Train/actinic keratosis/output/actinic keratosis_original_ISIC_0026171.jpg_452290d3-5c07-46e9-bfbd-0846bec7e4a5.jpg',\n",
              " '/content/drive/My Drive/ML/CNN_assignment/Skin cancer ISIC The International Skin Imaging Collaboration/Train/actinic keratosis/output/actinic keratosis_original_ISIC_0029309.jpg_bef9a0ab-33bc-467c-ab7b-378da460a916.jpg',\n",
              " '/content/drive/My Drive/ML/CNN_assignment/Skin cancer ISIC The International Skin Imaging Collaboration/Train/actinic keratosis/output/actinic keratosis_original_ISIC_0030036.jpg_1eafa191-456a-40a1-93dc-a933e2629b67.jpg',\n",
              " '/content/drive/My Drive/ML/CNN_assignment/Skin cancer ISIC The International Skin Imaging Collaboration/Train/actinic keratosis/output/actinic keratosis_original_ISIC_0028517.jpg_647b9371-48ab-4033-9351-22e7b1f8bec2.jpg',\n",
              " '/content/drive/My Drive/ML/CNN_assignment/Skin cancer ISIC The International Skin Imaging Collaboration/Train/actinic keratosis/output/actinic keratosis_original_ISIC_0026984.jpg_7af5a2fd-ca64-405b-8b90-193f11bd3a69.jpg',\n",
              " '/content/drive/My Drive/ML/CNN_assignment/Skin cancer ISIC The International Skin Imaging Collaboration/Train/actinic keratosis/output/actinic keratosis_original_ISIC_0027580.jpg_c2352a49-a809-4e82-9ffd-8bf424d09daa.jpg',\n",
              " '/content/drive/My Drive/ML/CNN_assignment/Skin cancer ISIC The International Skin Imaging Collaboration/Train/actinic keratosis/output/actinic keratosis_original_ISIC_0029915.jpg_34551fae-e17a-417e-a683-da1fe043d378.jpg',\n",
              " '/content/drive/My Drive/ML/CNN_assignment/Skin cancer ISIC The International Skin Imaging Collaboration/Train/actinic keratosis/output/actinic keratosis_original_ISIC_0029840.jpg_a2b1b382-851e-4ca6-857c-9f1f8705aa3d.jpg',\n",
              " '/content/drive/My Drive/ML/CNN_assignment/Skin cancer ISIC The International Skin Imaging Collaboration/Train/actinic keratosis/output/actinic keratosis_original_ISIC_0029830.jpg_a1447244-caba-4fe7-868f-790efd152ea8.jpg',\n",
              " '/content/drive/My Drive/ML/CNN_assignment/Skin cancer ISIC The International Skin Imaging Collaboration/Train/actinic keratosis/output/actinic keratosis_original_ISIC_0026212.jpg_9615290b-eb9c-4944-9a83-4f12e8c56a17.jpg',\n",
              " '/content/drive/My Drive/ML/CNN_assignment/Skin cancer ISIC The International Skin Imaging Collaboration/Train/actinic keratosis/output/actinic keratosis_original_ISIC_0030133.jpg_6c2efa07-1666-4925-8a6d-c68e7fee361d.jpg',\n",
              " '/content/drive/My Drive/ML/CNN_assignment/Skin cancer ISIC The International Skin Imaging Collaboration/Train/actinic keratosis/output/actinic keratosis_original_ISIC_0030655.jpg_0d92a408-637e-4706-9307-95a6c7707a3f.jpg',\n",
              " '/content/drive/My Drive/ML/CNN_assignment/Skin cancer ISIC The International Skin Imaging Collaboration/Train/actinic keratosis/output/actinic keratosis_original_ISIC_0026857.jpg_93d3f134-75e7-4b9a-9153-6570991cba13.jpg',\n",
              " '/content/drive/My Drive/ML/CNN_assignment/Skin cancer ISIC The International Skin Imaging Collaboration/Train/actinic keratosis/output/actinic keratosis_original_ISIC_0026040.jpg_3ebcbfc3-19ce-4f4d-a302-14fe9e94ad3e.jpg',\n",
              " '/content/drive/My Drive/ML/CNN_assignment/Skin cancer ISIC The International Skin Imaging Collaboration/Train/actinic keratosis/output/actinic keratosis_original_ISIC_0032437.jpg_960ce481-5cf2-498a-a23a-f762d7c25681.jpg',\n",
              " '/content/drive/My Drive/ML/CNN_assignment/Skin cancer ISIC The International Skin Imaging Collaboration/Train/actinic keratosis/output/actinic keratosis_original_ISIC_0028990.jpg_2a4e792c-db4a-4669-828d-c4fd5a320626.jpg',\n",
              " '/content/drive/My Drive/ML/CNN_assignment/Skin cancer ISIC The International Skin Imaging Collaboration/Train/actinic keratosis/output/actinic keratosis_original_ISIC_0025825.jpg_89a1adb8-4e96-4de8-80d1-475810a1ffce.jpg',\n",
              " '/content/drive/My Drive/ML/CNN_assignment/Skin cancer ISIC The International Skin Imaging Collaboration/Train/actinic keratosis/output/actinic keratosis_original_ISIC_0026525.jpg_7fdcb9b2-0b7a-4871-bd1a-cf97c8c69321.jpg',\n",
              " '/content/drive/My Drive/ML/CNN_assignment/Skin cancer ISIC The International Skin Imaging Collaboration/Train/actinic keratosis/output/actinic keratosis_original_ISIC_0030825.jpg_210b4814-2d0d-4ac9-9cfc-951170c5c99a.jpg',\n",
              " '/content/drive/My Drive/ML/CNN_assignment/Skin cancer ISIC The International Skin Imaging Collaboration/Train/actinic keratosis/output/actinic keratosis_original_ISIC_0029781.jpg_f0792758-23f3-4581-bae8-421ea6f1f771.jpg',\n",
              " '/content/drive/My Drive/ML/CNN_assignment/Skin cancer ISIC The International Skin Imaging Collaboration/Train/actinic keratosis/output/actinic keratosis_original_ISIC_0029210.jpg_4476dc4b-33fa-453a-8cf3-2490be0bc892.jpg',\n",
              " '/content/drive/My Drive/ML/CNN_assignment/Skin cancer ISIC The International Skin Imaging Collaboration/Train/actinic keratosis/output/actinic keratosis_original_ISIC_0025992.jpg_e1b71052-d4f9-4dee-adde-c674a00aa02a.jpg',\n",
              " '/content/drive/My Drive/ML/CNN_assignment/Skin cancer ISIC The International Skin Imaging Collaboration/Train/actinic keratosis/output/actinic keratosis_original_ISIC_0025803.jpg_98eae554-1165-4039-9e9e-df56addd5e5a.jpg',\n",
              " '/content/drive/My Drive/ML/CNN_assignment/Skin cancer ISIC The International Skin Imaging Collaboration/Train/actinic keratosis/output/actinic keratosis_original_ISIC_0030491.jpg_59702b62-b668-4a0f-a270-f48b33a7d61e.jpg',\n",
              " '/content/drive/My Drive/ML/CNN_assignment/Skin cancer ISIC The International Skin Imaging Collaboration/Train/actinic keratosis/output/actinic keratosis_original_ISIC_0027172.jpg_5a4a6bab-1c36-41b7-948f-205cc49c8626.jpg',\n",
              " '/content/drive/My Drive/ML/CNN_assignment/Skin cancer ISIC The International Skin Imaging Collaboration/Train/actinic keratosis/output/actinic keratosis_original_ISIC_0030142.jpg_3d1c27a1-6331-4360-b980-884f663ef9e5.jpg',\n",
              " '/content/drive/My Drive/ML/CNN_assignment/Skin cancer ISIC The International Skin Imaging Collaboration/Train/actinic keratosis/output/actinic keratosis_original_ISIC_0031823.jpg_bbe020db-1763-49ff-8b3c-a65c040e98fd.jpg',\n",
              " '/content/drive/My Drive/ML/CNN_assignment/Skin cancer ISIC The International Skin Imaging Collaboration/Train/actinic keratosis/output/actinic keratosis_original_ISIC_0027950.jpg_70e02abb-4b4b-4970-b3ee-25dae13d4bb0.jpg',\n",
              " '/content/drive/My Drive/ML/CNN_assignment/Skin cancer ISIC The International Skin Imaging Collaboration/Train/actinic keratosis/output/actinic keratosis_original_ISIC_0028941.jpg_6eb7f4a4-bb7b-4a7c-9285-f72ba3007506.jpg',\n",
              " '/content/drive/My Drive/ML/CNN_assignment/Skin cancer ISIC The International Skin Imaging Collaboration/Train/actinic keratosis/output/actinic keratosis_original_ISIC_0027884.jpg_c3cb0b3a-327c-4dd8-8d61-1acef7aa3aca.jpg',\n",
              " '/content/drive/My Drive/ML/CNN_assignment/Skin cancer ISIC The International Skin Imaging Collaboration/Train/actinic keratosis/output/actinic keratosis_original_ISIC_0028076.jpg_ab47a3bc-3ba7-4d6a-a77f-ab5debfff78d.jpg',\n",
              " '/content/drive/My Drive/ML/CNN_assignment/Skin cancer ISIC The International Skin Imaging Collaboration/Train/actinic keratosis/output/actinic keratosis_original_ISIC_0030463.jpg_9c19d151-9a0e-4482-9c7c-030d35ebfa3c.jpg',\n",
              " '/content/drive/My Drive/ML/CNN_assignment/Skin cancer ISIC The International Skin Imaging Collaboration/Train/actinic keratosis/output/actinic keratosis_original_ISIC_0027884.jpg_905ad0ed-c3a9-4508-8e65-21a83f99e7db.jpg',\n",
              " '/content/drive/My Drive/ML/CNN_assignment/Skin cancer ISIC The International Skin Imaging Collaboration/Train/actinic keratosis/output/actinic keratosis_original_ISIC_0027668.jpg_f73831b8-5941-4e8d-a5c2-c58f0ead0dd9.jpg',\n",
              " '/content/drive/My Drive/ML/CNN_assignment/Skin cancer ISIC The International Skin Imaging Collaboration/Train/actinic keratosis/output/actinic keratosis_original_ISIC_0026905.jpg_aa427524-a3e3-46c0-91b9-5b2d41bd62cc.jpg',\n",
              " '/content/drive/My Drive/ML/CNN_assignment/Skin cancer ISIC The International Skin Imaging Collaboration/Train/actinic keratosis/output/actinic keratosis_original_ISIC_0027958.jpg_903f0058-c197-48a5-bcfa-08e3d56a1e4c.jpg',\n",
              " '/content/drive/My Drive/ML/CNN_assignment/Skin cancer ISIC The International Skin Imaging Collaboration/Train/actinic keratosis/output/actinic keratosis_original_ISIC_0031381.jpg_1754f4e5-c129-4ea8-9327-5be5216c44e9.jpg',\n",
              " '/content/drive/My Drive/ML/CNN_assignment/Skin cancer ISIC The International Skin Imaging Collaboration/Train/actinic keratosis/output/actinic keratosis_original_ISIC_0029210.jpg_82bf60fd-3af9-4d53-90bc-68b41c22e925.jpg',\n",
              " '/content/drive/My Drive/ML/CNN_assignment/Skin cancer ISIC The International Skin Imaging Collaboration/Train/actinic keratosis/output/actinic keratosis_original_ISIC_0030586.jpg_a11381bf-a84e-4f04-b1b8-d5a53f099541.jpg',\n",
              " '/content/drive/My Drive/ML/CNN_assignment/Skin cancer ISIC The International Skin Imaging Collaboration/Train/actinic keratosis/output/actinic keratosis_original_ISIC_0031506.jpg_9b0cbecd-5cd7-46a7-b322-16053a343ddd.jpg',\n",
              " '/content/drive/My Drive/ML/CNN_assignment/Skin cancer ISIC The International Skin Imaging Collaboration/Train/actinic keratosis/output/actinic keratosis_original_ISIC_0026212.jpg_ae4f8449-13c1-4b66-b300-5b7d215b1be4.jpg',\n",
              " '/content/drive/My Drive/ML/CNN_assignment/Skin cancer ISIC The International Skin Imaging Collaboration/Train/actinic keratosis/output/actinic keratosis_original_ISIC_0028076.jpg_6a60304f-3632-4e2a-94ad-2ec23addb460.jpg',\n",
              " '/content/drive/My Drive/ML/CNN_assignment/Skin cancer ISIC The International Skin Imaging Collaboration/Train/actinic keratosis/output/actinic keratosis_original_ISIC_0029781.jpg_7a9866a4-a956-4845-a05d-380524fe77b8.jpg',\n",
              " '/content/drive/My Drive/ML/CNN_assignment/Skin cancer ISIC The International Skin Imaging Collaboration/Train/actinic keratosis/output/actinic keratosis_original_ISIC_0026625.jpg_b59ec9b4-054a-4201-9960-8411a3ac07f1.jpg',\n",
              " '/content/drive/My Drive/ML/CNN_assignment/Skin cancer ISIC The International Skin Imaging Collaboration/Train/actinic keratosis/output/actinic keratosis_original_ISIC_0029659.jpg_034a7ede-53bf-4031-9694-cdd5a2bee946.jpg',\n",
              " '/content/drive/My Drive/ML/CNN_assignment/Skin cancer ISIC The International Skin Imaging Collaboration/Train/actinic keratosis/output/actinic keratosis_original_ISIC_0026650.jpg_9ed64fae-9c2d-4c5b-b608-2caee501cbd3.jpg',\n",
              " '/content/drive/My Drive/ML/CNN_assignment/Skin cancer ISIC The International Skin Imaging Collaboration/Train/actinic keratosis/output/actinic keratosis_original_ISIC_0031609.jpg_6a1e78be-4e06-4f5e-b3a6-e5ac0c773cd3.jpg',\n",
              " '/content/drive/My Drive/ML/CNN_assignment/Skin cancer ISIC The International Skin Imaging Collaboration/Train/actinic keratosis/output/actinic keratosis_original_ISIC_0025780.jpg_d700ea22-79c7-49fa-a4cb-f4b5b454f4f6.jpg',\n",
              " '/content/drive/My Drive/ML/CNN_assignment/Skin cancer ISIC The International Skin Imaging Collaboration/Train/actinic keratosis/output/actinic keratosis_original_ISIC_0031823.jpg_2fbf6755-ec09-4712-aba5-6a446cad9e1d.jpg',\n",
              " '/content/drive/My Drive/ML/CNN_assignment/Skin cancer ISIC The International Skin Imaging Collaboration/Train/actinic keratosis/output/actinic keratosis_original_ISIC_0028990.jpg_022af9ba-2bbf-47c9-9a26-8065abf773db.jpg',\n",
              " '/content/drive/My Drive/ML/CNN_assignment/Skin cancer ISIC The International Skin Imaging Collaboration/Train/actinic keratosis/output/actinic keratosis_original_ISIC_0029900.jpg_38e2f38c-474a-4ae6-bbdb-5c31a5a5bb75.jpg',\n",
              " '/content/drive/My Drive/ML/CNN_assignment/Skin cancer ISIC The International Skin Imaging Collaboration/Train/actinic keratosis/output/actinic keratosis_original_ISIC_0030655.jpg_cdcad19f-5bc3-416e-aa2b-472157a4eaac.jpg',\n",
              " '/content/drive/My Drive/ML/CNN_assignment/Skin cancer ISIC The International Skin Imaging Collaboration/Train/actinic keratosis/output/actinic keratosis_original_ISIC_0028558.jpg_7efbdac4-431a-4507-ac00-017487b024a7.jpg',\n",
              " '/content/drive/My Drive/ML/CNN_assignment/Skin cancer ISIC The International Skin Imaging Collaboration/Train/actinic keratosis/output/actinic keratosis_original_ISIC_0026468.jpg_2c39cd6c-2ca7-440c-b61e-a6d97744e246.jpg',\n",
              " '/content/drive/My Drive/ML/CNN_assignment/Skin cancer ISIC The International Skin Imaging Collaboration/Train/actinic keratosis/output/actinic keratosis_original_ISIC_0027536.jpg_75532089-6042-4a0b-9ba6-ef7a4ce3382b.jpg',\n",
              " '/content/drive/My Drive/ML/CNN_assignment/Skin cancer ISIC The International Skin Imaging Collaboration/Train/actinic keratosis/output/actinic keratosis_original_ISIC_0026765.jpg_40747045-f186-45df-aa08-7547cf0ad1dd.jpg',\n",
              " '/content/drive/My Drive/ML/CNN_assignment/Skin cancer ISIC The International Skin Imaging Collaboration/Train/actinic keratosis/output/actinic keratosis_original_ISIC_0027452.jpg_4cddc9a1-c52a-4115-9e80-1cdd421183f3.jpg',\n",
              " '/content/drive/My Drive/ML/CNN_assignment/Skin cancer ISIC The International Skin Imaging Collaboration/Train/actinic keratosis/output/actinic keratosis_original_ISIC_0033811.jpg_fb0215f6-42ee-4fbe-a375-8c4b008d3cc7.jpg',\n",
              " '/content/drive/My Drive/ML/CNN_assignment/Skin cancer ISIC The International Skin Imaging Collaboration/Train/actinic keratosis/output/actinic keratosis_original_ISIC_0031609.jpg_08f47ab5-d96e-4b65-82d3-0d320947d55e.jpg',\n",
              " '/content/drive/My Drive/ML/CNN_assignment/Skin cancer ISIC The International Skin Imaging Collaboration/Train/actinic keratosis/output/actinic keratosis_original_ISIC_0025803.jpg_1b6075c5-834d-494a-a03a-a6490cdab09b.jpg',\n",
              " '/content/drive/My Drive/ML/CNN_assignment/Skin cancer ISIC The International Skin Imaging Collaboration/Train/actinic keratosis/output/actinic keratosis_original_ISIC_0032206.jpg_936efda0-2f0b-44aa-af7f-ac0d6c034fc1.jpg',\n",
              " '/content/drive/My Drive/ML/CNN_assignment/Skin cancer ISIC The International Skin Imaging Collaboration/Train/actinic keratosis/output/actinic keratosis_original_ISIC_0029900.jpg_547398db-1917-4ca2-b755-0569342015c6.jpg',\n",
              " '/content/drive/My Drive/ML/CNN_assignment/Skin cancer ISIC The International Skin Imaging Collaboration/Train/actinic keratosis/output/actinic keratosis_original_ISIC_0029500.jpg_3328899b-c832-4bf8-8da1-1429f7c374dc.jpg',\n",
              " '/content/drive/My Drive/ML/CNN_assignment/Skin cancer ISIC The International Skin Imaging Collaboration/Train/actinic keratosis/output/actinic keratosis_original_ISIC_0030463.jpg_401d6bbb-4ae8-40a1-aeb5-b9657fdc3cf4.jpg',\n",
              " '/content/drive/My Drive/ML/CNN_assignment/Skin cancer ISIC The International Skin Imaging Collaboration/Train/actinic keratosis/output/actinic keratosis_original_ISIC_0025953.jpg_833ae6a7-0ed8-4189-896e-0ef4fb0a2ea1.jpg',\n",
              " '/content/drive/My Drive/ML/CNN_assignment/Skin cancer ISIC The International Skin Imaging Collaboration/Train/actinic keratosis/output/actinic keratosis_original_ISIC_0026905.jpg_9c13b63a-8540-415c-894b-b23187adc93f.jpg',\n",
              " '/content/drive/My Drive/ML/CNN_assignment/Skin cancer ISIC The International Skin Imaging Collaboration/Train/actinic keratosis/output/actinic keratosis_original_ISIC_0029309.jpg_5bb9878d-c0db-4ecc-a1de-0d8009c57767.jpg',\n",
              " '/content/drive/My Drive/ML/CNN_assignment/Skin cancer ISIC The International Skin Imaging Collaboration/Train/actinic keratosis/output/actinic keratosis_original_ISIC_0026194.jpg_d666ba02-db1d-47eb-990c-609e15fc8c52.jpg',\n",
              " '/content/drive/My Drive/ML/CNN_assignment/Skin cancer ISIC The International Skin Imaging Collaboration/Train/actinic keratosis/output/actinic keratosis_original_ISIC_0030133.jpg_9bc0b47a-6d76-4f49-bd2a-13490ea1abb1.jpg',\n",
              " '/content/drive/My Drive/ML/CNN_assignment/Skin cancer ISIC The International Skin Imaging Collaboration/Train/actinic keratosis/output/actinic keratosis_original_ISIC_0026765.jpg_cd3ee1b1-18d2-4f5e-9c75-1a212f77acd4.jpg',\n",
              " '/content/drive/My Drive/ML/CNN_assignment/Skin cancer ISIC The International Skin Imaging Collaboration/Train/actinic keratosis/output/actinic keratosis_original_ISIC_0028393.jpg_0f57e0de-279a-4265-b894-e1520feb385c.jpg',\n",
              " '/content/drive/My Drive/ML/CNN_assignment/Skin cancer ISIC The International Skin Imaging Collaboration/Train/actinic keratosis/output/actinic keratosis_original_ISIC_0029713.jpg_ea6686df-5559-4174-b3f7-b4f615082c9c.jpg',\n",
              " '/content/drive/My Drive/ML/CNN_assignment/Skin cancer ISIC The International Skin Imaging Collaboration/Train/actinic keratosis/output/actinic keratosis_original_ISIC_0026984.jpg_d276432c-8dac-4901-9e8c-fbab0be3b56d.jpg',\n",
              " '/content/drive/My Drive/ML/CNN_assignment/Skin cancer ISIC The International Skin Imaging Collaboration/Train/actinic keratosis/output/actinic keratosis_original_ISIC_0025957.jpg_d380ce0e-020b-4558-bdc4-8ffe7188401a.jpg',\n",
              " '/content/drive/My Drive/ML/CNN_assignment/Skin cancer ISIC The International Skin Imaging Collaboration/Train/actinic keratosis/output/actinic keratosis_original_ISIC_0028076.jpg_fe65dbd1-6d5b-448b-b808-dd50e81fee4a.jpg',\n",
              " '/content/drive/My Drive/ML/CNN_assignment/Skin cancer ISIC The International Skin Imaging Collaboration/Train/actinic keratosis/output/actinic keratosis_original_ISIC_0026729.jpg_f6785984-e25c-44b3-9583-22ebd0be30c1.jpg',\n",
              " '/content/drive/My Drive/ML/CNN_assignment/Skin cancer ISIC The International Skin Imaging Collaboration/Train/actinic keratosis/output/actinic keratosis_original_ISIC_0032404.jpg_dfe04e4e-9da4-4fb3-a27a-ffb217063b8a.jpg',\n",
              " '/content/drive/My Drive/ML/CNN_assignment/Skin cancer ISIC The International Skin Imaging Collaboration/Train/actinic keratosis/output/actinic keratosis_original_ISIC_0030491.jpg_26d80cf6-bc7f-4743-ad46-c65ecf087966.jpg',\n",
              " '/content/drive/My Drive/ML/CNN_assignment/Skin cancer ISIC The International Skin Imaging Collaboration/Train/actinic keratosis/output/actinic keratosis_original_ISIC_0031609.jpg_f5b6507d-5949-4489-bc87-fcc88cc0fdc6.jpg',\n",
              " '/content/drive/My Drive/ML/CNN_assignment/Skin cancer ISIC The International Skin Imaging Collaboration/Train/actinic keratosis/output/actinic keratosis_original_ISIC_0027950.jpg_15cd4f9a-6b84-490e-bb49-fa99e3e8f898.jpg',\n",
              " '/content/drive/My Drive/ML/CNN_assignment/Skin cancer ISIC The International Skin Imaging Collaboration/Train/actinic keratosis/output/actinic keratosis_original_ISIC_0031506.jpg_6e451863-04cf-4f8c-8ebd-68ac5063e3fc.jpg',\n",
              " '/content/drive/My Drive/ML/CNN_assignment/Skin cancer ISIC The International Skin Imaging Collaboration/Train/actinic keratosis/output/actinic keratosis_original_ISIC_0033866.jpg_1aa72fef-f593-42ec-b5cf-7b2e84b20b44.jpg',\n",
              " '/content/drive/My Drive/ML/CNN_assignment/Skin cancer ISIC The International Skin Imaging Collaboration/Train/actinic keratosis/output/actinic keratosis_original_ISIC_0025992.jpg_6838d0cc-10c2-4e1a-824c-4ebf4ddae1ef.jpg',\n",
              " '/content/drive/My Drive/ML/CNN_assignment/Skin cancer ISIC The International Skin Imaging Collaboration/Train/actinic keratosis/output/actinic keratosis_original_ISIC_0029041.jpg_e045133f-6c89-441b-bae4-90e615e5ea2a.jpg',\n",
              " '/content/drive/My Drive/ML/CNN_assignment/Skin cancer ISIC The International Skin Imaging Collaboration/Train/actinic keratosis/output/actinic keratosis_original_ISIC_0028820.jpg_28e39c06-4191-4eb2-b954-03600415e9b1.jpg',\n",
              " '/content/drive/My Drive/ML/CNN_assignment/Skin cancer ISIC The International Skin Imaging Collaboration/Train/actinic keratosis/output/actinic keratosis_original_ISIC_0028076.jpg_3f17a261-9e3c-4e02-bcce-bbd3c1dcbb26.jpg',\n",
              " '/content/drive/My Drive/ML/CNN_assignment/Skin cancer ISIC The International Skin Imaging Collaboration/Train/actinic keratosis/output/actinic keratosis_original_ISIC_0028558.jpg_e476e6eb-f5e2-4988-a56c-a2fd68f6af9f.jpg',\n",
              " '/content/drive/My Drive/ML/CNN_assignment/Skin cancer ISIC The International Skin Imaging Collaboration/Train/actinic keratosis/output/actinic keratosis_original_ISIC_0026457.jpg_ef3ec979-c424-4e1d-b47e-23e5b01734c2.jpg',\n",
              " '/content/drive/My Drive/ML/CNN_assignment/Skin cancer ISIC The International Skin Imaging Collaboration/Train/actinic keratosis/output/actinic keratosis_original_ISIC_0027580.jpg_2b2ae171-f9b6-477e-991e-094857818767.jpg',\n",
              " '/content/drive/My Drive/ML/CNN_assignment/Skin cancer ISIC The International Skin Imaging Collaboration/Train/actinic keratosis/output/actinic keratosis_original_ISIC_0027580.jpg_54dcc777-3309-4069-9325-a49052db88d2.jpg',\n",
              " '/content/drive/My Drive/ML/CNN_assignment/Skin cancer ISIC The International Skin Imaging Collaboration/Train/actinic keratosis/output/actinic keratosis_original_ISIC_0026905.jpg_18293057-5318-41e8-942b-0f8d70bc668e.jpg',\n",
              " '/content/drive/My Drive/ML/CNN_assignment/Skin cancer ISIC The International Skin Imaging Collaboration/Train/actinic keratosis/output/actinic keratosis_original_ISIC_0027447.jpg_5af07e04-b5f1-4703-ba8e-53632efb0b67.jpg',\n",
              " '/content/drive/My Drive/ML/CNN_assignment/Skin cancer ISIC The International Skin Imaging Collaboration/Train/actinic keratosis/output/actinic keratosis_original_ISIC_0028190.jpg_7ba12d31-2528-4ef5-9796-b024bf75e406.jpg',\n",
              " '/content/drive/My Drive/ML/CNN_assignment/Skin cancer ISIC The International Skin Imaging Collaboration/Train/actinic keratosis/output/actinic keratosis_original_ISIC_0029930.jpg_64716ef2-d686-4bce-843d-82cc55177b37.jpg',\n",
              " '/content/drive/My Drive/ML/CNN_assignment/Skin cancer ISIC The International Skin Imaging Collaboration/Train/actinic keratosis/output/actinic keratosis_original_ISIC_0028517.jpg_5b08e126-79dc-47a7-8493-bf5d0ecab67e.jpg',\n",
              " '/content/drive/My Drive/ML/CNN_assignment/Skin cancer ISIC The International Skin Imaging Collaboration/Train/actinic keratosis/output/actinic keratosis_original_ISIC_0026575.jpg_6e2d4a80-e428-4bc7-846f-0affd2b9771b.jpg',\n",
              " '/content/drive/My Drive/ML/CNN_assignment/Skin cancer ISIC The International Skin Imaging Collaboration/Train/actinic keratosis/output/actinic keratosis_original_ISIC_0025953.jpg_2e48b0b3-dc4b-4403-880c-0073486c2d3a.jpg',\n",
              " '/content/drive/My Drive/ML/CNN_assignment/Skin cancer ISIC The International Skin Imaging Collaboration/Train/actinic keratosis/output/actinic keratosis_original_ISIC_0027958.jpg_e0fe47b8-2ef6-44d2-8721-8d2e1811ad08.jpg',\n",
              " '/content/drive/My Drive/ML/CNN_assignment/Skin cancer ISIC The International Skin Imaging Collaboration/Train/actinic keratosis/output/actinic keratosis_original_ISIC_0027829.jpg_8f1b1d14-c245-416a-a252-2685b7f76452.jpg',\n",
              " '/content/drive/My Drive/ML/CNN_assignment/Skin cancer ISIC The International Skin Imaging Collaboration/Train/actinic keratosis/output/actinic keratosis_original_ISIC_0026457.jpg_a99d5572-2533-4224-9349-0ca79e472869.jpg',\n",
              " '/content/drive/My Drive/ML/CNN_assignment/Skin cancer ISIC The International Skin Imaging Collaboration/Train/actinic keratosis/output/actinic keratosis_original_ISIC_0026575.jpg_2736d6aa-3bdf-437e-86dc-0940b95ee8e1.jpg',\n",
              " '/content/drive/My Drive/ML/CNN_assignment/Skin cancer ISIC The International Skin Imaging Collaboration/Train/actinic keratosis/output/actinic keratosis_original_ISIC_0033358.jpg_f3c9592a-77d4-4af6-abcd-d167b8f7e787.jpg',\n",
              " '/content/drive/My Drive/ML/CNN_assignment/Skin cancer ISIC The International Skin Imaging Collaboration/Train/actinic keratosis/output/actinic keratosis_original_ISIC_0027615.jpg_c7d4f205-cabd-4994-919c-081a356c4f87.jpg',\n",
              " '/content/drive/My Drive/ML/CNN_assignment/Skin cancer ISIC The International Skin Imaging Collaboration/Train/actinic keratosis/output/actinic keratosis_original_ISIC_0031922.jpg_e8e20698-43e8-4887-a86d-051e6669f604.jpg',\n",
              " '/content/drive/My Drive/ML/CNN_assignment/Skin cancer ISIC The International Skin Imaging Collaboration/Train/actinic keratosis/output/actinic keratosis_original_ISIC_0026212.jpg_71c93f63-e1c4-4c4b-a118-75ec19832a1e.jpg',\n",
              " '/content/drive/My Drive/ML/CNN_assignment/Skin cancer ISIC The International Skin Imaging Collaboration/Train/actinic keratosis/output/actinic keratosis_original_ISIC_0029133.jpg_bd62bf7f-610f-4140-b297-c06bc195fa14.jpg',\n",
              " '/content/drive/My Drive/ML/CNN_assignment/Skin cancer ISIC The International Skin Imaging Collaboration/Train/actinic keratosis/output/actinic keratosis_original_ISIC_0027615.jpg_0beac670-0067-479f-9151-fa5d52f1f81d.jpg',\n",
              " '/content/drive/My Drive/ML/CNN_assignment/Skin cancer ISIC The International Skin Imaging Collaboration/Train/actinic keratosis/output/actinic keratosis_original_ISIC_0028854.jpg_9283079c-f8c3-4686-9f06-e14e6d7d3c43.jpg',\n",
              " '/content/drive/My Drive/ML/CNN_assignment/Skin cancer ISIC The International Skin Imaging Collaboration/Train/actinic keratosis/output/actinic keratosis_original_ISIC_0027884.jpg_dcb792dd-e8ab-494d-b5ce-a8946c25bf03.jpg',\n",
              " '/content/drive/My Drive/ML/CNN_assignment/Skin cancer ISIC The International Skin Imaging Collaboration/Train/actinic keratosis/output/actinic keratosis_original_ISIC_0029713.jpg_9a6ef6e1-488f-4346-ac1f-2ad8e9d6cb4e.jpg',\n",
              " '/content/drive/My Drive/ML/CNN_assignment/Skin cancer ISIC The International Skin Imaging Collaboration/Train/actinic keratosis/output/actinic keratosis_original_ISIC_0026468.jpg_c97d9b45-9028-4a51-8f35-7c15ea95d82f.jpg',\n",
              " '/content/drive/My Drive/ML/CNN_assignment/Skin cancer ISIC The International Skin Imaging Collaboration/Train/actinic keratosis/output/actinic keratosis_original_ISIC_0031506.jpg_027e8063-2d08-49d9-bea1-02fc7db9abaa.jpg',\n",
              " '/content/drive/My Drive/ML/CNN_assignment/Skin cancer ISIC The International Skin Imaging Collaboration/Train/actinic keratosis/output/actinic keratosis_original_ISIC_0029830.jpg_7111f4e1-19d9-4985-82ec-3adb7d7dd045.jpg',\n",
              " '/content/drive/My Drive/ML/CNN_assignment/Skin cancer ISIC The International Skin Imaging Collaboration/Train/actinic keratosis/output/actinic keratosis_original_ISIC_0025957.jpg_f5a756f9-83b0-4288-bc26-50eb0cb1e5a5.jpg',\n",
              " '/content/drive/My Drive/ML/CNN_assignment/Skin cancer ISIC The International Skin Imaging Collaboration/Train/actinic keratosis/output/actinic keratosis_original_ISIC_0028990.jpg_dffc60ec-d22a-4873-b055-a7eceda5edf2.jpg',\n",
              " '/content/drive/My Drive/ML/CNN_assignment/Skin cancer ISIC The International Skin Imaging Collaboration/Train/actinic keratosis/output/actinic keratosis_original_ISIC_0031040.jpg_4c4d9274-d8b1-4d10-bf6d-b1017f419c53.jpg',\n",
              " '/content/drive/My Drive/ML/CNN_assignment/Skin cancer ISIC The International Skin Imaging Collaboration/Train/actinic keratosis/output/actinic keratosis_original_ISIC_0029141.jpg_8b0eb80b-f4e5-4626-b8bc-eb27d570d219.jpg',\n",
              " '/content/drive/My Drive/ML/CNN_assignment/Skin cancer ISIC The International Skin Imaging Collaboration/Train/actinic keratosis/output/actinic keratosis_original_ISIC_0030825.jpg_d9fdb0ff-8029-4dc8-98d2-c66c40f31115.jpg',\n",
              " '/content/drive/My Drive/ML/CNN_assignment/Skin cancer ISIC The International Skin Imaging Collaboration/Train/actinic keratosis/output/actinic keratosis_original_ISIC_0031292.jpg_9c0de5f4-c7fc-48f0-8b68-49145800bae0.jpg',\n",
              " '/content/drive/My Drive/ML/CNN_assignment/Skin cancer ISIC The International Skin Imaging Collaboration/Train/actinic keratosis/output/actinic keratosis_original_ISIC_0031292.jpg_37270f1e-ca7f-41d8-a99f-82b50bf86675.jpg',\n",
              " '/content/drive/My Drive/ML/CNN_assignment/Skin cancer ISIC The International Skin Imaging Collaboration/Train/actinic keratosis/output/actinic keratosis_original_ISIC_0028063.jpg_7cb40901-17ce-4133-aec3-9daa24d41dac.jpg',\n",
              " '/content/drive/My Drive/ML/CNN_assignment/Skin cancer ISIC The International Skin Imaging Collaboration/Train/actinic keratosis/output/actinic keratosis_original_ISIC_0026848.jpg_be6ac14d-b974-424f-ad51-132484b37127.jpg',\n",
              " '/content/drive/My Drive/ML/CNN_assignment/Skin cancer ISIC The International Skin Imaging Collaboration/Train/actinic keratosis/output/actinic keratosis_original_ISIC_0029830.jpg_7645f5bf-bd24-401f-addb-863526facfca.jpg',\n",
              " '/content/drive/My Drive/ML/CNN_assignment/Skin cancer ISIC The International Skin Imaging Collaboration/Train/actinic keratosis/output/actinic keratosis_original_ISIC_0031335.jpg_3e9bc678-8ff9-44fd-852d-053b17417ef2.jpg',\n",
              " '/content/drive/My Drive/ML/CNN_assignment/Skin cancer ISIC The International Skin Imaging Collaboration/Train/actinic keratosis/output/actinic keratosis_original_ISIC_0029309.jpg_63d8e5e6-3fd5-4f7d-b5cb-887119026e9e.jpg',\n",
              " '/content/drive/My Drive/ML/CNN_assignment/Skin cancer ISIC The International Skin Imaging Collaboration/Train/actinic keratosis/output/actinic keratosis_original_ISIC_0030655.jpg_9b7026d6-cec4-4b77-963d-20f7100d6a9c.jpg',\n",
              " '/content/drive/My Drive/ML/CNN_assignment/Skin cancer ISIC The International Skin Imaging Collaboration/Train/actinic keratosis/output/actinic keratosis_original_ISIC_0030826.jpg_f3c41d77-5328-41c3-9382-2552dd5263c9.jpg',\n",
              " '/content/drive/My Drive/ML/CNN_assignment/Skin cancer ISIC The International Skin Imaging Collaboration/Train/actinic keratosis/output/actinic keratosis_original_ISIC_0029460.jpg_8bbe2217-3b98-4981-99e3-2af5c73a156c.jpg',\n",
              " '/content/drive/My Drive/ML/CNN_assignment/Skin cancer ISIC The International Skin Imaging Collaboration/Train/actinic keratosis/output/actinic keratosis_original_ISIC_0027452.jpg_4e37c4b3-8011-40b7-b94f-363cecdca22e.jpg',\n",
              " '/content/drive/My Drive/ML/CNN_assignment/Skin cancer ISIC The International Skin Imaging Collaboration/Train/actinic keratosis/output/actinic keratosis_original_ISIC_0030586.jpg_206ea362-899e-4f90-b84a-f6f2af7be256.jpg',\n",
              " '/content/drive/My Drive/ML/CNN_assignment/Skin cancer ISIC The International Skin Imaging Collaboration/Train/actinic keratosis/output/actinic keratosis_original_ISIC_0026984.jpg_afe40271-1403-417d-a442-40e8c9897db2.jpg',\n",
              " '/content/drive/My Drive/ML/CNN_assignment/Skin cancer ISIC The International Skin Imaging Collaboration/Train/actinic keratosis/output/actinic keratosis_original_ISIC_0031292.jpg_81d53733-114c-4adb-93fc-7f5e1ced7c7b.jpg',\n",
              " '/content/drive/My Drive/ML/CNN_assignment/Skin cancer ISIC The International Skin Imaging Collaboration/Train/actinic keratosis/output/actinic keratosis_original_ISIC_0027615.jpg_92d70d51-c53f-4b3d-b766-080b06d41e97.jpg',\n",
              " '/content/drive/My Drive/ML/CNN_assignment/Skin cancer ISIC The International Skin Imaging Collaboration/Train/actinic keratosis/output/actinic keratosis_original_ISIC_0028314.jpg_13668175-7acf-4238-9ff0-0a4d5a18a4c5.jpg',\n",
              " '/content/drive/My Drive/ML/CNN_assignment/Skin cancer ISIC The International Skin Imaging Collaboration/Train/actinic keratosis/output/actinic keratosis_original_ISIC_0026525.jpg_20e1d2f6-cdd2-44b2-94ed-fec2b956c48e.jpg',\n",
              " '/content/drive/My Drive/ML/CNN_assignment/Skin cancer ISIC The International Skin Imaging Collaboration/Train/actinic keratosis/output/actinic keratosis_original_ISIC_0030825.jpg_217e81bf-df1f-4dcb-b4be-481d8c9c7b78.jpg',\n",
              " '/content/drive/My Drive/ML/CNN_assignment/Skin cancer ISIC The International Skin Imaging Collaboration/Train/actinic keratosis/output/actinic keratosis_original_ISIC_0030344.jpg_0970c008-51a9-4bbf-984c-40ee164b2471.jpg',\n",
              " '/content/drive/My Drive/ML/CNN_assignment/Skin cancer ISIC The International Skin Imaging Collaboration/Train/actinic keratosis/output/actinic keratosis_original_ISIC_0031430.jpg_f2715f75-069a-4f30-845d-91f4badf6561.jpg',\n",
              " '/content/drive/My Drive/ML/CNN_assignment/Skin cancer ISIC The International Skin Imaging Collaboration/Train/actinic keratosis/output/actinic keratosis_original_ISIC_0026984.jpg_4adb52e9-78fa-494c-8c06-3634612adaee.jpg',\n",
              " '/content/drive/My Drive/ML/CNN_assignment/Skin cancer ISIC The International Skin Imaging Collaboration/Train/actinic keratosis/output/actinic keratosis_original_ISIC_0026626.jpg_ae0917f7-0ea4-43d8-b38f-41f75a8ad061.jpg',\n",
              " '/content/drive/My Drive/ML/CNN_assignment/Skin cancer ISIC The International Skin Imaging Collaboration/Train/actinic keratosis/output/actinic keratosis_original_ISIC_0032206.jpg_3c10746c-765c-477a-9d5d-2cf45a6d07fc.jpg',\n",
              " '/content/drive/My Drive/ML/CNN_assignment/Skin cancer ISIC The International Skin Imaging Collaboration/Train/actinic keratosis/output/actinic keratosis_original_ISIC_0031381.jpg_24cc483e-a915-49a4-857e-a6a308f657a8.jpg',\n",
              " '/content/drive/My Drive/ML/CNN_assignment/Skin cancer ISIC The International Skin Imaging Collaboration/Train/actinic keratosis/output/actinic keratosis_original_ISIC_0029900.jpg_50bd0694-862a-43e6-a3fa-4893f1120df3.jpg',\n",
              " '/content/drive/My Drive/ML/CNN_assignment/Skin cancer ISIC The International Skin Imaging Collaboration/Train/actinic keratosis/output/actinic keratosis_original_ISIC_0029460.jpg_29226e2f-92ea-46c3-bc48-f43925dc5081.jpg',\n",
              " '/content/drive/My Drive/ML/CNN_assignment/Skin cancer ISIC The International Skin Imaging Collaboration/Train/actinic keratosis/output/actinic keratosis_original_ISIC_0025803.jpg_61bd5037-3bfc-4798-81c1-b7b3bba41693.jpg',\n",
              " '/content/drive/My Drive/ML/CNN_assignment/Skin cancer ISIC The International Skin Imaging Collaboration/Train/actinic keratosis/output/actinic keratosis_original_ISIC_0029460.jpg_d48cd661-cdf5-4889-9144-905b16831438.jpg',\n",
              " '/content/drive/My Drive/ML/CNN_assignment/Skin cancer ISIC The International Skin Imaging Collaboration/Train/actinic keratosis/output/actinic keratosis_original_ISIC_0033358.jpg_3c27f863-c7eb-4499-8675-d5c9e4df77a9.jpg',\n",
              " '/content/drive/My Drive/ML/CNN_assignment/Skin cancer ISIC The International Skin Imaging Collaboration/Train/actinic keratosis/output/actinic keratosis_original_ISIC_0029210.jpg_5350e8f9-ac86-4c40-a08d-82f7ba69eee6.jpg',\n",
              " '/content/drive/My Drive/ML/CNN_assignment/Skin cancer ISIC The International Skin Imaging Collaboration/Train/actinic keratosis/output/actinic keratosis_original_ISIC_0028190.jpg_18fabe37-1bad-48e1-88d7-e6ff0ac15fe6.jpg',\n",
              " '/content/drive/My Drive/ML/CNN_assignment/Skin cancer ISIC The International Skin Imaging Collaboration/Train/actinic keratosis/output/actinic keratosis_original_ISIC_0026626.jpg_d25a4c03-becf-4cf3-851b-130433c30903.jpg',\n",
              " '/content/drive/My Drive/ML/CNN_assignment/Skin cancer ISIC The International Skin Imaging Collaboration/Train/actinic keratosis/output/actinic keratosis_original_ISIC_0033413.jpg_9cce7616-704f-456d-bfba-30ae50aa6b8f.jpg',\n",
              " '/content/drive/My Drive/ML/CNN_assignment/Skin cancer ISIC The International Skin Imaging Collaboration/Train/actinic keratosis/output/actinic keratosis_original_ISIC_0027615.jpg_5736eee4-b19c-4882-bab2-9c60b17e72b5.jpg',\n",
              " '/content/drive/My Drive/ML/CNN_assignment/Skin cancer ISIC The International Skin Imaging Collaboration/Train/actinic keratosis/output/actinic keratosis_original_ISIC_0029460.jpg_2a9b25e0-6d83-4827-87b7-6dd81169aa7a.jpg',\n",
              " '/content/drive/My Drive/ML/CNN_assignment/Skin cancer ISIC The International Skin Imaging Collaboration/Train/actinic keratosis/output/actinic keratosis_original_ISIC_0029309.jpg_c3fae7dc-f9c9-44e2-a227-47480845b739.jpg',\n",
              " '/content/drive/My Drive/ML/CNN_assignment/Skin cancer ISIC The International Skin Imaging Collaboration/Train/actinic keratosis/output/actinic keratosis_original_ISIC_0027562.jpg_f26ffc04-fd21-47af-b977-35b35a17b2fb.jpg',\n",
              " '/content/drive/My Drive/ML/CNN_assignment/Skin cancer ISIC The International Skin Imaging Collaboration/Train/actinic keratosis/output/actinic keratosis_original_ISIC_0027562.jpg_c2a73835-79f0-4079-abbc-4f51878e6d7b.jpg',\n",
              " '/content/drive/My Drive/ML/CNN_assignment/Skin cancer ISIC The International Skin Imaging Collaboration/Train/actinic keratosis/output/actinic keratosis_original_ISIC_0028314.jpg_6ad0e3e7-06c4-4379-8a0f-875fb79c8496.jpg',\n",
              " '/content/drive/My Drive/ML/CNN_assignment/Skin cancer ISIC The International Skin Imaging Collaboration/Train/actinic keratosis/output/actinic keratosis_original_ISIC_0031292.jpg_5d8f4884-2028-462b-8d81-7e0f8d66021c.jpg',\n",
              " '/content/drive/My Drive/ML/CNN_assignment/Skin cancer ISIC The International Skin Imaging Collaboration/Train/actinic keratosis/output/actinic keratosis_original_ISIC_0028393.jpg_095ae5ab-c20b-4411-bb9b-aa0bd3dc789b.jpg',\n",
              " '/content/drive/My Drive/ML/CNN_assignment/Skin cancer ISIC The International Skin Imaging Collaboration/Train/actinic keratosis/output/actinic keratosis_original_ISIC_0027334.jpg_db9edd4a-769d-4ec8-a713-60f088654f07.jpg',\n",
              " '/content/drive/My Drive/ML/CNN_assignment/Skin cancer ISIC The International Skin Imaging Collaboration/Train/actinic keratosis/output/actinic keratosis_original_ISIC_0031430.jpg_1dbcd6f6-348e-4feb-adfd-be9e234dd6be.jpg',\n",
              " '/content/drive/My Drive/ML/CNN_assignment/Skin cancer ISIC The International Skin Imaging Collaboration/Train/actinic keratosis/output/actinic keratosis_original_ISIC_0033413.jpg_b0f031ae-78f4-4af1-bb54-72c638187b6a.jpg',\n",
              " '/content/drive/My Drive/ML/CNN_assignment/Skin cancer ISIC The International Skin Imaging Collaboration/Train/actinic keratosis/output/actinic keratosis_original_ISIC_0030730.jpg_849f6eaf-37f6-4394-867b-c8535687f551.jpg',\n",
              " '/content/drive/My Drive/ML/CNN_assignment/Skin cancer ISIC The International Skin Imaging Collaboration/Train/actinic keratosis/output/actinic keratosis_original_ISIC_0025953.jpg_4a48e91d-1db2-4827-bc91-b9c3acb7e608.jpg',\n",
              " '/content/drive/My Drive/ML/CNN_assignment/Skin cancer ISIC The International Skin Imaging Collaboration/Train/actinic keratosis/output/actinic keratosis_original_ISIC_0029041.jpg_252f6969-4197-4911-9366-4c2cc1f1e3e3.jpg',\n",
              " '/content/drive/My Drive/ML/CNN_assignment/Skin cancer ISIC The International Skin Imaging Collaboration/Train/actinic keratosis/output/actinic keratosis_original_ISIC_0030586.jpg_9acb7201-bbdd-4a57-ad69-d3585daca595.jpg',\n",
              " '/content/drive/My Drive/ML/CNN_assignment/Skin cancer ISIC The International Skin Imaging Collaboration/Train/actinic keratosis/output/actinic keratosis_original_ISIC_0026468.jpg_c07d0bc0-dda0-4c84-bfb1-714520087d59.jpg',\n",
              " '/content/drive/My Drive/ML/CNN_assignment/Skin cancer ISIC The International Skin Imaging Collaboration/Train/actinic keratosis/output/actinic keratosis_original_ISIC_0029659.jpg_d267b524-2365-4499-8566-9cba0d76acd1.jpg',\n",
              " '/content/drive/My Drive/ML/CNN_assignment/Skin cancer ISIC The International Skin Imaging Collaboration/Train/actinic keratosis/output/actinic keratosis_original_ISIC_0031381.jpg_d57716c8-8854-4c2e-bd89-dc0d9efe3a71.jpg',\n",
              " '/content/drive/My Drive/ML/CNN_assignment/Skin cancer ISIC The International Skin Imaging Collaboration/Train/actinic keratosis/output/actinic keratosis_original_ISIC_0026149.jpg_8d5426fc-0ecc-4206-931f-297a03f92ed3.jpg',\n",
              " '/content/drive/My Drive/ML/CNN_assignment/Skin cancer ISIC The International Skin Imaging Collaboration/Train/actinic keratosis/output/actinic keratosis_original_ISIC_0031993.jpg_3ebe7a28-71ae-427c-add4-4ad8d4bc08e9.jpg',\n",
              " '/content/drive/My Drive/ML/CNN_assignment/Skin cancer ISIC The International Skin Imaging Collaboration/Train/actinic keratosis/output/actinic keratosis_original_ISIC_0029500.jpg_7928c862-9261-4db4-9b99-a2300b2f0629.jpg',\n",
              " '/content/drive/My Drive/ML/CNN_assignment/Skin cancer ISIC The International Skin Imaging Collaboration/Train/actinic keratosis/output/actinic keratosis_original_ISIC_0033358.jpg_a92eea65-e8af-417f-94b3-be712c140ce0.jpg',\n",
              " '/content/drive/My Drive/ML/CNN_assignment/Skin cancer ISIC The International Skin Imaging Collaboration/Train/actinic keratosis/output/actinic keratosis_original_ISIC_0029827.jpg_dd39e6da-991d-4169-80ff-8da62cc77ad9.jpg',\n",
              " '/content/drive/My Drive/ML/CNN_assignment/Skin cancer ISIC The International Skin Imaging Collaboration/Train/actinic keratosis/output/actinic keratosis_original_ISIC_0028370.jpg_0d42fc73-5f10-4149-bf35-9859d8e5bb8a.jpg',\n",
              " '/content/drive/My Drive/ML/CNN_assignment/Skin cancer ISIC The International Skin Imaging Collaboration/Train/actinic keratosis/output/actinic keratosis_original_ISIC_0029500.jpg_e3f46846-abc5-43ea-aaff-e248c9865945.jpg',\n",
              " '/content/drive/My Drive/ML/CNN_assignment/Skin cancer ISIC The International Skin Imaging Collaboration/Train/actinic keratosis/output/actinic keratosis_original_ISIC_0028314.jpg_ca163b45-b8ab-48ff-a3b3-98cb10fa4678.jpg',\n",
              " '/content/drive/My Drive/ML/CNN_assignment/Skin cancer ISIC The International Skin Imaging Collaboration/Train/actinic keratosis/output/actinic keratosis_original_ISIC_0030655.jpg_2780ccf3-fb62-450e-8a11-0a142f48c163.jpg',\n",
              " '/content/drive/My Drive/ML/CNN_assignment/Skin cancer ISIC The International Skin Imaging Collaboration/Train/actinic keratosis/output/actinic keratosis_original_ISIC_0026457.jpg_00e72bdb-a9fd-4dbb-a538-e909437b6ad0.jpg',\n",
              " '/content/drive/My Drive/ML/CNN_assignment/Skin cancer ISIC The International Skin Imaging Collaboration/Train/actinic keratosis/output/actinic keratosis_original_ISIC_0025780.jpg_da694c14-dd23-403c-8496-e85f00ccebe8.jpg',\n",
              " '/content/drive/My Drive/ML/CNN_assignment/Skin cancer ISIC The International Skin Imaging Collaboration/Train/actinic keratosis/output/actinic keratosis_original_ISIC_0027172.jpg_2a3bd1a6-7131-45d9-8c30-c24bc427e515.jpg',\n",
              " '/content/drive/My Drive/ML/CNN_assignment/Skin cancer ISIC The International Skin Imaging Collaboration/Train/actinic keratosis/output/actinic keratosis_original_ISIC_0032404.jpg_348451d5-6a6d-4dce-8cf7-8cf7a55e4fb9.jpg',\n",
              " '/content/drive/My Drive/ML/CNN_assignment/Skin cancer ISIC The International Skin Imaging Collaboration/Train/actinic keratosis/output/actinic keratosis_original_ISIC_0029930.jpg_d368f1bf-6c57-426d-9cdd-a4858a8c19ba.jpg',\n",
              " '/content/drive/My Drive/ML/CNN_assignment/Skin cancer ISIC The International Skin Imaging Collaboration/Train/actinic keratosis/output/actinic keratosis_original_ISIC_0031506.jpg_58af215d-faf4-4ecb-9b58-5d56b3f4b99b.jpg',\n",
              " '/content/drive/My Drive/ML/CNN_assignment/Skin cancer ISIC The International Skin Imaging Collaboration/Train/actinic keratosis/output/actinic keratosis_original_ISIC_0029840.jpg_bf6f15cd-22dc-4225-8c9d-8a2de223d2a0.jpg',\n",
              " '/content/drive/My Drive/ML/CNN_assignment/Skin cancer ISIC The International Skin Imaging Collaboration/Train/actinic keratosis/output/actinic keratosis_original_ISIC_0032422.jpg_3edfb6f8-427b-469e-a751-2e65e85c8d1d.jpg',\n",
              " '/content/drive/My Drive/ML/CNN_assignment/Skin cancer ISIC The International Skin Imaging Collaboration/Train/actinic keratosis/output/actinic keratosis_original_ISIC_0026702.jpg_9407ffae-377f-4808-9d45-25f0ef188941.jpg',\n",
              " '/content/drive/My Drive/ML/CNN_assignment/Skin cancer ISIC The International Skin Imaging Collaboration/Train/actinic keratosis/output/actinic keratosis_original_ISIC_0030036.jpg_b090e6b8-bd1f-431c-b178-16cb871b0d7b.jpg',\n",
              " '/content/drive/My Drive/ML/CNN_assignment/Skin cancer ISIC The International Skin Imaging Collaboration/Train/actinic keratosis/output/actinic keratosis_original_ISIC_0030133.jpg_1531c127-74ce-476c-add7-56f145ac2166.jpg',\n",
              " '/content/drive/My Drive/ML/CNN_assignment/Skin cancer ISIC The International Skin Imaging Collaboration/Train/actinic keratosis/output/actinic keratosis_original_ISIC_0028990.jpg_bc84de24-b02d-4baf-b75c-018b1dea8f22.jpg',\n",
              " '/content/drive/My Drive/ML/CNN_assignment/Skin cancer ISIC The International Skin Imaging Collaboration/Train/actinic keratosis/output/actinic keratosis_original_ISIC_0031292.jpg_e4229ed0-c17c-4a1d-ad4d-7e824bcf4f47.jpg',\n",
              " '/content/drive/My Drive/ML/CNN_assignment/Skin cancer ISIC The International Skin Imaging Collaboration/Train/actinic keratosis/output/actinic keratosis_original_ISIC_0028558.jpg_c2f87675-adfb-4c5f-bc0c-21aaad012d4d.jpg',\n",
              " '/content/drive/My Drive/ML/CNN_assignment/Skin cancer ISIC The International Skin Imaging Collaboration/Train/actinic keratosis/output/actinic keratosis_original_ISIC_0026905.jpg_867057cb-a9a8-4465-9b23-bbeb1facbf5a.jpg',\n",
              " '/content/drive/My Drive/ML/CNN_assignment/Skin cancer ISIC The International Skin Imaging Collaboration/Train/actinic keratosis/output/actinic keratosis_original_ISIC_0029915.jpg_eea78ff1-74c2-411e-a8d8-5a0e053c8aff.jpg',\n",
              " '/content/drive/My Drive/ML/CNN_assignment/Skin cancer ISIC The International Skin Imaging Collaboration/Train/actinic keratosis/output/actinic keratosis_original_ISIC_0028820.jpg_7ede88b8-5c23-410f-a5dd-cbb8f2a24f49.jpg',\n",
              " '/content/drive/My Drive/ML/CNN_assignment/Skin cancer ISIC The International Skin Imaging Collaboration/Train/actinic keratosis/output/actinic keratosis_original_ISIC_0027447.jpg_96655d2f-9149-41d8-8eb8-ba6e265ea25e.jpg',\n",
              " '/content/drive/My Drive/ML/CNN_assignment/Skin cancer ISIC The International Skin Imaging Collaboration/Train/actinic keratosis/output/actinic keratosis_original_ISIC_0030463.jpg_d01a94bb-1662-447f-8d36-9838e3961dd0.jpg',\n",
              " '/content/drive/My Drive/ML/CNN_assignment/Skin cancer ISIC The International Skin Imaging Collaboration/Train/actinic keratosis/output/actinic keratosis_original_ISIC_0031430.jpg_d11e2a24-3490-4892-ad40-149bcb5d81a6.jpg',\n",
              " '/content/drive/My Drive/ML/CNN_assignment/Skin cancer ISIC The International Skin Imaging Collaboration/Train/actinic keratosis/output/actinic keratosis_original_ISIC_0031506.jpg_fe21f076-4d57-4dc7-9bff-f304390d56dc.jpg',\n",
              " '/content/drive/My Drive/ML/CNN_assignment/Skin cancer ISIC The International Skin Imaging Collaboration/Train/actinic keratosis/output/actinic keratosis_original_ISIC_0026625.jpg_56f480d6-346f-432e-b59c-fb3caf618dc1.jpg',\n",
              " '/content/drive/My Drive/ML/CNN_assignment/Skin cancer ISIC The International Skin Imaging Collaboration/Train/actinic keratosis/output/actinic keratosis_original_ISIC_0033494.jpg_97ac64b4-efff-4b26-a9b1-3b5d8d46bab5.jpg',\n",
              " '/content/drive/My Drive/ML/CNN_assignment/Skin cancer ISIC The International Skin Imaging Collaboration/Train/actinic keratosis/output/actinic keratosis_original_ISIC_0029915.jpg_de01f26e-3bf6-41f4-91dd-fe65a43b80a9.jpg',\n",
              " '/content/drive/My Drive/ML/CNN_assignment/Skin cancer ISIC The International Skin Imaging Collaboration/Train/actinic keratosis/output/actinic keratosis_original_ISIC_0033456.jpg_7a4f1c99-99e0-4795-b7e6-172f4a566f82.jpg',\n",
              " '/content/drive/My Drive/ML/CNN_assignment/Skin cancer ISIC The International Skin Imaging Collaboration/Train/actinic keratosis/output/actinic keratosis_original_ISIC_0027334.jpg_494ee7d0-307a-4b65-8643-74591e374b5f.jpg',\n",
              " '/content/drive/My Drive/ML/CNN_assignment/Skin cancer ISIC The International Skin Imaging Collaboration/Train/actinic keratosis/output/actinic keratosis_original_ISIC_0033494.jpg_47fedf18-ccee-46a1-9b16-5e0d97774605.jpg',\n",
              " '/content/drive/My Drive/ML/CNN_assignment/Skin cancer ISIC The International Skin Imaging Collaboration/Train/actinic keratosis/output/actinic keratosis_original_ISIC_0025957.jpg_b881473f-0302-45f6-87cf-07ec03edf5cd.jpg',\n",
              " '/content/drive/My Drive/ML/CNN_assignment/Skin cancer ISIC The International Skin Imaging Collaboration/Train/actinic keratosis/output/actinic keratosis_original_ISIC_0032422.jpg_1d9c1c13-7676-4708-bb53-22880f504444.jpg',\n",
              " '/content/drive/My Drive/ML/CNN_assignment/Skin cancer ISIC The International Skin Imaging Collaboration/Train/actinic keratosis/output/actinic keratosis_original_ISIC_0030408.jpg_5f773861-3e3c-4d90-b1f1-6cf685cd42d2.jpg',\n",
              " '/content/drive/My Drive/ML/CNN_assignment/Skin cancer ISIC The International Skin Imaging Collaboration/Train/actinic keratosis/output/actinic keratosis_original_ISIC_0033456.jpg_4d9939f6-b6ae-419a-809b-1af63b897e98.jpg',\n",
              " '/content/drive/My Drive/ML/CNN_assignment/Skin cancer ISIC The International Skin Imaging Collaboration/Train/actinic keratosis/output/actinic keratosis_original_ISIC_0031823.jpg_07462b88-cd51-4b2c-bb6c-24b08013c892.jpg',\n",
              " '/content/drive/My Drive/ML/CNN_assignment/Skin cancer ISIC The International Skin Imaging Collaboration/Train/actinic keratosis/output/actinic keratosis_original_ISIC_0031823.jpg_281f4e2e-c12b-4b01-b84b-bf20040e4efe.jpg',\n",
              " '/content/drive/My Drive/ML/CNN_assignment/Skin cancer ISIC The International Skin Imaging Collaboration/Train/actinic keratosis/output/actinic keratosis_original_ISIC_0030730.jpg_0cecfa53-cf21-4198-8f06-bb2978347b36.jpg',\n",
              " '/content/drive/My Drive/ML/CNN_assignment/Skin cancer ISIC The International Skin Imaging Collaboration/Train/actinic keratosis/output/actinic keratosis_original_ISIC_0027536.jpg_9949f96f-4d3c-45f4-bd24-370c344c1e7d.jpg',\n",
              " '/content/drive/My Drive/ML/CNN_assignment/Skin cancer ISIC The International Skin Imaging Collaboration/Train/actinic keratosis/output/actinic keratosis_original_ISIC_0026905.jpg_be413aef-0586-433b-b4f6-64e18dd13bb1.jpg',\n",
              " '/content/drive/My Drive/ML/CNN_assignment/Skin cancer ISIC The International Skin Imaging Collaboration/Train/actinic keratosis/output/actinic keratosis_original_ISIC_0029500.jpg_65c77d40-31ab-4037-a420-2c2ed37e168d.jpg',\n",
              " '/content/drive/My Drive/ML/CNN_assignment/Skin cancer ISIC The International Skin Imaging Collaboration/Train/actinic keratosis/output/actinic keratosis_original_ISIC_0027615.jpg_6cd78567-1ad9-4c1c-a58f-6b14c2e95365.jpg',\n",
              " '/content/drive/My Drive/ML/CNN_assignment/Skin cancer ISIC The International Skin Imaging Collaboration/Train/actinic keratosis/output/actinic keratosis_original_ISIC_0029500.jpg_8f83b9c9-808b-4ccb-9003-9d1d85127de1.jpg',\n",
              " '/content/drive/My Drive/ML/CNN_assignment/Skin cancer ISIC The International Skin Imaging Collaboration/Train/actinic keratosis/output/actinic keratosis_original_ISIC_0029141.jpg_2e16ba72-abec-45a5-843b-7443cc9ad620.jpg',\n",
              " '/content/drive/My Drive/ML/CNN_assignment/Skin cancer ISIC The International Skin Imaging Collaboration/Train/actinic keratosis/output/actinic keratosis_original_ISIC_0028941.jpg_96fcd625-04e9-47fc-8121-ac4619f50fdb.jpg',\n",
              " '/content/drive/My Drive/ML/CNN_assignment/Skin cancer ISIC The International Skin Imaging Collaboration/Train/actinic keratosis/output/actinic keratosis_original_ISIC_0028190.jpg_f43e2b9b-1bd9-48d0-b3c2-a214c5d20ca4.jpg',\n",
              " '/content/drive/My Drive/ML/CNN_assignment/Skin cancer ISIC The International Skin Imaging Collaboration/Train/actinic keratosis/output/actinic keratosis_original_ISIC_0029830.jpg_141eceff-301d-4de5-b64e-a5d6a39d489d.jpg',\n",
              " '/content/drive/My Drive/ML/CNN_assignment/Skin cancer ISIC The International Skin Imaging Collaboration/Train/actinic keratosis/output/actinic keratosis_original_ISIC_0025825.jpg_d1cb981f-e656-4a76-9067-8524a61318bd.jpg',\n",
              " '/content/drive/My Drive/ML/CNN_assignment/Skin cancer ISIC The International Skin Imaging Collaboration/Train/actinic keratosis/output/actinic keratosis_original_ISIC_0026905.jpg_b09a6576-daaf-4d0c-aee7-b3be5e867f42.jpg',\n",
              " '/content/drive/My Drive/ML/CNN_assignment/Skin cancer ISIC The International Skin Imaging Collaboration/Train/actinic keratosis/output/actinic keratosis_original_ISIC_0033413.jpg_2cdf782b-ea83-45a8-8547-b46d2b24d836.jpg',\n",
              " '/content/drive/My Drive/ML/CNN_assignment/Skin cancer ISIC The International Skin Imaging Collaboration/Train/actinic keratosis/output/actinic keratosis_original_ISIC_0033456.jpg_ba6e88a3-84c5-4c58-97cd-3df3ac92b4be.jpg',\n",
              " '/content/drive/My Drive/ML/CNN_assignment/Skin cancer ISIC The International Skin Imaging Collaboration/Train/actinic keratosis/output/actinic keratosis_original_ISIC_0030142.jpg_5c25e723-8670-4f41-ae7a-9e5f156ebd7b.jpg',\n",
              " '/content/drive/My Drive/ML/CNN_assignment/Skin cancer ISIC The International Skin Imaging Collaboration/Train/actinic keratosis/output/actinic keratosis_original_ISIC_0028063.jpg_3e6f2245-4fc8-42e2-a477-933846a32af6.jpg',\n",
              " '/content/drive/My Drive/ML/CNN_assignment/Skin cancer ISIC The International Skin Imaging Collaboration/Train/actinic keratosis/output/actinic keratosis_original_ISIC_0028370.jpg_9bfc8ae0-af90-4d36-8a9e-ac9982e7eeda.jpg',\n",
              " '/content/drive/My Drive/ML/CNN_assignment/Skin cancer ISIC The International Skin Imaging Collaboration/Train/actinic keratosis/output/actinic keratosis_original_ISIC_0030142.jpg_bd2b3000-13f5-4b5a-abae-5e9c772b5eee.jpg',\n",
              " '/content/drive/My Drive/ML/CNN_assignment/Skin cancer ISIC The International Skin Imaging Collaboration/Train/actinic keratosis/output/actinic keratosis_original_ISIC_0028314.jpg_e11b5938-a9ca-46cc-92d3-d25b46eeef05.jpg',\n",
              " '/content/drive/My Drive/ML/CNN_assignment/Skin cancer ISIC The International Skin Imaging Collaboration/Train/actinic keratosis/output/actinic keratosis_original_ISIC_0031292.jpg_79fab37e-43c6-46e8-a239-b5b02feedfa3.jpg',\n",
              " '/content/drive/My Drive/ML/CNN_assignment/Skin cancer ISIC The International Skin Imaging Collaboration/Train/actinic keratosis/output/actinic keratosis_original_ISIC_0026149.jpg_8d2a6e59-7f92-48f8-9b06-648892ff8d61.jpg',\n",
              " '/content/drive/My Drive/ML/CNN_assignment/Skin cancer ISIC The International Skin Imaging Collaboration/Train/actinic keratosis/output/actinic keratosis_original_ISIC_0027580.jpg_02151e5b-416e-4611-9ae6-60f6e89657b7.jpg',\n",
              " '/content/drive/My Drive/ML/CNN_assignment/Skin cancer ISIC The International Skin Imaging Collaboration/Train/actinic keratosis/output/actinic keratosis_original_ISIC_0030463.jpg_248d3f6e-5f02-4e9b-9a34-6046452200f5.jpg',\n",
              " '/content/drive/My Drive/ML/CNN_assignment/Skin cancer ISIC The International Skin Imaging Collaboration/Train/actinic keratosis/output/actinic keratosis_original_ISIC_0032437.jpg_b82db196-c30e-4bce-a1a5-0015f955ad66.jpg',\n",
              " '/content/drive/My Drive/ML/CNN_assignment/Skin cancer ISIC The International Skin Imaging Collaboration/Train/actinic keratosis/output/actinic keratosis_original_ISIC_0026729.jpg_45645a54-0b91-4356-8999-17baf78ee53e.jpg',\n",
              " '/content/drive/My Drive/ML/CNN_assignment/Skin cancer ISIC The International Skin Imaging Collaboration/Train/actinic keratosis/output/actinic keratosis_original_ISIC_0026194.jpg_a523cf76-c647-421f-af62-f21f8c1a9919.jpg',\n",
              " '/content/drive/My Drive/ML/CNN_assignment/Skin cancer ISIC The International Skin Imaging Collaboration/Train/actinic keratosis/output/actinic keratosis_original_ISIC_0026702.jpg_6b2d4583-6f37-4a12-948e-429e80a050b1.jpg',\n",
              " '/content/drive/My Drive/ML/CNN_assignment/Skin cancer ISIC The International Skin Imaging Collaboration/Train/actinic keratosis/output/actinic keratosis_original_ISIC_0032199.jpg_baedfbf8-139c-4f04-8ed3-a7693db783ec.jpg',\n",
              " '/content/drive/My Drive/ML/CNN_assignment/Skin cancer ISIC The International Skin Imaging Collaboration/Train/actinic keratosis/output/actinic keratosis_original_ISIC_0027668.jpg_789412c7-ff34-4db6-b07b-d0698cd12159.jpg',\n",
              " '/content/drive/My Drive/ML/CNN_assignment/Skin cancer ISIC The International Skin Imaging Collaboration/Train/actinic keratosis/output/actinic keratosis_original_ISIC_0033151.jpg_a0f99da7-038b-44b4-a05e-a05956ec5e82.jpg',\n",
              " '/content/drive/My Drive/ML/CNN_assignment/Skin cancer ISIC The International Skin Imaging Collaboration/Train/actinic keratosis/output/actinic keratosis_original_ISIC_0030877.jpg_fb3e80cf-e365-4a1b-b533-89d6e99e7fb7.jpg',\n",
              " '/content/drive/My Drive/ML/CNN_assignment/Skin cancer ISIC The International Skin Imaging Collaboration/Train/actinic keratosis/output/actinic keratosis_original_ISIC_0025825.jpg_fed2b925-5c03-47a1-9fdd-541d693db3da.jpg',\n",
              " '/content/drive/My Drive/ML/CNN_assignment/Skin cancer ISIC The International Skin Imaging Collaboration/Train/actinic keratosis/output/actinic keratosis_original_ISIC_0029830.jpg_16f2b8ed-2503-4c15-be6c-bfed4bb34d44.jpg',\n",
              " '/content/drive/My Drive/ML/CNN_assignment/Skin cancer ISIC The International Skin Imaging Collaboration/Train/actinic keratosis/output/actinic keratosis_original_ISIC_0033151.jpg_e6495d91-60e6-4d1e-9b2d-9cc926111184.jpg',\n",
              " '/content/drive/My Drive/ML/CNN_assignment/Skin cancer ISIC The International Skin Imaging Collaboration/Train/actinic keratosis/output/actinic keratosis_original_ISIC_0025957.jpg_5db0f95c-ef70-475e-9ec5-6e18a13a2cd3.jpg',\n",
              " '/content/drive/My Drive/ML/CNN_assignment/Skin cancer ISIC The International Skin Imaging Collaboration/Train/actinic keratosis/output/actinic keratosis_original_ISIC_0027884.jpg_75e5c06b-6f09-4f94-80f8-f7a9f4a55cfd.jpg',\n",
              " '/content/drive/My Drive/ML/CNN_assignment/Skin cancer ISIC The International Skin Imaging Collaboration/Train/actinic keratosis/output/actinic keratosis_original_ISIC_0029713.jpg_6bc78bf5-146e-45db-843f-3b26c1ecf303.jpg',\n",
              " '/content/drive/My Drive/ML/CNN_assignment/Skin cancer ISIC The International Skin Imaging Collaboration/Train/actinic keratosis/output/actinic keratosis_original_ISIC_0030730.jpg_83d1194d-0d1d-4ef3-98aa-2c9939d7072d.jpg',\n",
              " '/content/drive/My Drive/ML/CNN_assignment/Skin cancer ISIC The International Skin Imaging Collaboration/Train/actinic keratosis/output/actinic keratosis_original_ISIC_0031506.jpg_8348881c-faf9-4a4f-b4d1-1173bda08363.jpg',\n",
              " '/content/drive/My Drive/ML/CNN_assignment/Skin cancer ISIC The International Skin Imaging Collaboration/Train/actinic keratosis/output/actinic keratosis_original_ISIC_0026765.jpg_de0092f5-2ac2-4da1-8735-f9596cbf210c.jpg',\n",
              " '/content/drive/My Drive/ML/CNN_assignment/Skin cancer ISIC The International Skin Imaging Collaboration/Train/actinic keratosis/output/actinic keratosis_original_ISIC_0027334.jpg_91de60b8-3d75-4b54-8103-d713b7ac0d71.jpg',\n",
              " '/content/drive/My Drive/ML/CNN_assignment/Skin cancer ISIC The International Skin Imaging Collaboration/Train/actinic keratosis/output/actinic keratosis_original_ISIC_0031430.jpg_1b441981-30ed-4766-b447-fd29dfccdfb1.jpg',\n",
              " '/content/drive/My Drive/ML/CNN_assignment/Skin cancer ISIC The International Skin Imaging Collaboration/Train/actinic keratosis/output/actinic keratosis_original_ISIC_0029915.jpg_9d81424c-c9d1-44d3-b7ca-703311284948.jpg',\n",
              " '/content/drive/My Drive/ML/CNN_assignment/Skin cancer ISIC The International Skin Imaging Collaboration/Train/actinic keratosis/output/actinic keratosis_original_ISIC_0033151.jpg_ae26ab14-52a0-48b1-9e92-951cf3cb96d4.jpg',\n",
              " '/content/drive/My Drive/ML/CNN_assignment/Skin cancer ISIC The International Skin Imaging Collaboration/Train/actinic keratosis/output/actinic keratosis_original_ISIC_0027536.jpg_ae1570cc-818e-4b0c-b3f5-fd61b6b3df3d.jpg',\n",
              " '/content/drive/My Drive/ML/CNN_assignment/Skin cancer ISIC The International Skin Imaging Collaboration/Train/actinic keratosis/output/actinic keratosis_original_ISIC_0027802.jpg_f9973261-cf49-4f43-bd8e-4f1e8e2fa14a.jpg',\n",
              " '/content/drive/My Drive/ML/CNN_assignment/Skin cancer ISIC The International Skin Imaging Collaboration/Train/actinic keratosis/output/actinic keratosis_original_ISIC_0029900.jpg_3d494d2c-c49f-45f2-9b15-66c2d52dbd70.jpg',\n",
              " '/content/drive/My Drive/ML/CNN_assignment/Skin cancer ISIC The International Skin Imaging Collaboration/Train/actinic keratosis/output/actinic keratosis_original_ISIC_0027536.jpg_b2980a9c-f583-47a3-9b05-845dc2fc9f90.jpg',\n",
              " '/content/drive/My Drive/ML/CNN_assignment/Skin cancer ISIC The International Skin Imaging Collaboration/Train/actinic keratosis/output/actinic keratosis_original_ISIC_0027668.jpg_6ff83768-6ab7-4981-940c-0814a70acf03.jpg',\n",
              " '/content/drive/My Drive/ML/CNN_assignment/Skin cancer ISIC The International Skin Imaging Collaboration/Train/actinic keratosis/output/actinic keratosis_original_ISIC_0029500.jpg_d81212cc-cb3e-4dbb-8605-aff7a2772168.jpg',\n",
              " '/content/drive/My Drive/ML/CNN_assignment/Skin cancer ISIC The International Skin Imaging Collaboration/Train/actinic keratosis/output/actinic keratosis_original_ISIC_0029830.jpg_cf14dcac-8108-44cd-8570-5e5a356cfc12.jpg',\n",
              " '/content/drive/My Drive/ML/CNN_assignment/Skin cancer ISIC The International Skin Imaging Collaboration/Train/actinic keratosis/output/actinic keratosis_original_ISIC_0029025.jpg_c323451d-e71a-46b5-837c-9a8c172a595d.jpg',\n",
              " '/content/drive/My Drive/ML/CNN_assignment/Skin cancer ISIC The International Skin Imaging Collaboration/Train/actinic keratosis/output/actinic keratosis_original_ISIC_0030825.jpg_8a342398-836d-44ce-9f61-928e671d8dc0.jpg',\n",
              " '/content/drive/My Drive/ML/CNN_assignment/Skin cancer ISIC The International Skin Imaging Collaboration/Train/actinic keratosis/output/actinic keratosis_original_ISIC_0029830.jpg_625d4560-e8e1-4b8a-affb-f2627120bf5a.jpg',\n",
              " '/content/drive/My Drive/ML/CNN_assignment/Skin cancer ISIC The International Skin Imaging Collaboration/Train/actinic keratosis/output/actinic keratosis_original_ISIC_0026626.jpg_4dbc6786-7da5-4c4d-b85b-3a87a564648d.jpg',\n",
              " '/content/drive/My Drive/ML/CNN_assignment/Skin cancer ISIC The International Skin Imaging Collaboration/Train/actinic keratosis/output/actinic keratosis_original_ISIC_0033358.jpg_fcb8a8ff-fda3-4c35-bec6-ef72483452d0.jpg',\n",
              " '/content/drive/My Drive/ML/CNN_assignment/Skin cancer ISIC The International Skin Imaging Collaboration/Train/actinic keratosis/output/actinic keratosis_original_ISIC_0033866.jpg_543af45e-515d-43c8-8381-d2b67bcc976b.jpg',\n",
              " '/content/drive/My Drive/ML/CNN_assignment/Skin cancer ISIC The International Skin Imaging Collaboration/Train/actinic keratosis/output/actinic keratosis_original_ISIC_0033456.jpg_c5e687bd-3a5d-43fe-bee5-ecd7d8105db3.jpg',\n",
              " '/content/drive/My Drive/ML/CNN_assignment/Skin cancer ISIC The International Skin Imaging Collaboration/Train/actinic keratosis/output/actinic keratosis_original_ISIC_0031040.jpg_07175340-6e92-460e-af3e-cd032e403b94.jpg',\n",
              " '/content/drive/My Drive/ML/CNN_assignment/Skin cancer ISIC The International Skin Imaging Collaboration/Train/actinic keratosis/output/actinic keratosis_original_ISIC_0027958.jpg_a2bd2642-c002-4e8d-84fb-4b22d27bfbe6.jpg',\n",
              " '/content/drive/My Drive/ML/CNN_assignment/Skin cancer ISIC The International Skin Imaging Collaboration/Train/actinic keratosis/output/actinic keratosis_original_ISIC_0029830.jpg_739f6ff7-17b4-4517-8e0d-da7fb4cdf54a.jpg',\n",
              " '/content/drive/My Drive/ML/CNN_assignment/Skin cancer ISIC The International Skin Imaging Collaboration/Train/actinic keratosis/output/actinic keratosis_original_ISIC_0025803.jpg_e75de3ff-4448-43df-864a-1aacb9a2b289.jpg',\n",
              " '/content/drive/My Drive/ML/CNN_assignment/Skin cancer ISIC The International Skin Imaging Collaboration/Train/actinic keratosis/output/actinic keratosis_original_ISIC_0033358.jpg_e53c9427-8d41-413a-872f-c056bc24e3e5.jpg',\n",
              " '/content/drive/My Drive/ML/CNN_assignment/Skin cancer ISIC The International Skin Imaging Collaboration/Train/actinic keratosis/output/actinic keratosis_original_ISIC_0029500.jpg_9a23f8ee-212d-4687-bd9a-aa4aab44a048.jpg',\n",
              " '/content/drive/My Drive/ML/CNN_assignment/Skin cancer ISIC The International Skin Imaging Collaboration/Train/actinic keratosis/output/actinic keratosis_original_ISIC_0033358.jpg_1c86bbab-221f-4fbd-b000-70463f351d03.jpg',\n",
              " '/content/drive/My Drive/ML/CNN_assignment/Skin cancer ISIC The International Skin Imaging Collaboration/Train/actinic keratosis/output/actinic keratosis_original_ISIC_0030655.jpg_3c80202f-3267-4dbd-9aea-92fe6ac353d6.jpg',\n",
              " '/content/drive/My Drive/ML/CNN_assignment/Skin cancer ISIC The International Skin Imaging Collaboration/Train/actinic keratosis/output/actinic keratosis_original_ISIC_0027650.jpg_829b594b-dbdc-4298-9881-dff2068964ff.jpg',\n",
              " '/content/drive/My Drive/ML/CNN_assignment/Skin cancer ISIC The International Skin Imaging Collaboration/Train/actinic keratosis/output/actinic keratosis_original_ISIC_0028370.jpg_2ed13517-6f31-4387-b621-27c49b4fc2c9.jpg',\n",
              " '/content/drive/My Drive/ML/CNN_assignment/Skin cancer ISIC The International Skin Imaging Collaboration/Train/actinic keratosis/output/actinic keratosis_original_ISIC_0026626.jpg_23565cbd-3e65-45be-8dd9-856454a3d443.jpg',\n",
              " '/content/drive/My Drive/ML/CNN_assignment/Skin cancer ISIC The International Skin Imaging Collaboration/Train/actinic keratosis/output/actinic keratosis_original_ISIC_0026709.jpg_b6629912-2469-4e8e-997b-aed59b78254c.jpg',\n",
              " '/content/drive/My Drive/ML/CNN_assignment/Skin cancer ISIC The International Skin Imaging Collaboration/Train/actinic keratosis/output/actinic keratosis_original_ISIC_0028517.jpg_d1de05e1-415f-4b4a-b8d7-2377b6739dde.jpg',\n",
              " '/content/drive/My Drive/ML/CNN_assignment/Skin cancer ISIC The International Skin Imaging Collaboration/Train/actinic keratosis/output/actinic keratosis_original_ISIC_0030142.jpg_b6e6a168-b8c9-45b7-88bd-930fd35e7c00.jpg',\n",
              " '/content/drive/My Drive/ML/CNN_assignment/Skin cancer ISIC The International Skin Imaging Collaboration/Train/actinic keratosis/output/actinic keratosis_original_ISIC_0030826.jpg_c9b6d36f-915b-4f29-b396-d51a188eeec4.jpg',\n",
              " '/content/drive/My Drive/ML/CNN_assignment/Skin cancer ISIC The International Skin Imaging Collaboration/Train/actinic keratosis/output/actinic keratosis_original_ISIC_0033494.jpg_f04d0261-9f97-4f90-98ce-0335a2dcdd1e.jpg',\n",
              " '/content/drive/My Drive/ML/CNN_assignment/Skin cancer ISIC The International Skin Imaging Collaboration/Train/actinic keratosis/output/actinic keratosis_original_ISIC_0030142.jpg_76316359-5967-445a-b7fe-04f034f1112a.jpg',\n",
              " '/content/drive/My Drive/ML/CNN_assignment/Skin cancer ISIC The International Skin Imaging Collaboration/Train/actinic keratosis/output/actinic keratosis_original_ISIC_0033358.jpg_10e996f0-bd5f-4c3d-961d-a29227e4e48d.jpg',\n",
              " '/content/drive/My Drive/ML/CNN_assignment/Skin cancer ISIC The International Skin Imaging Collaboration/Train/actinic keratosis/output/actinic keratosis_original_ISIC_0027650.jpg_729ee887-b5c1-4ecc-b458-0234b4d327aa.jpg',\n",
              " '/content/drive/My Drive/ML/CNN_assignment/Skin cancer ISIC The International Skin Imaging Collaboration/Train/actinic keratosis/output/actinic keratosis_original_ISIC_0029041.jpg_3c3502e4-b92f-4531-86a5-a7e721f70efa.jpg',\n",
              " '/content/drive/My Drive/ML/CNN_assignment/Skin cancer ISIC The International Skin Imaging Collaboration/Train/actinic keratosis/output/actinic keratosis_original_ISIC_0030655.jpg_d932076b-a692-4621-865f-b525819f0132.jpg',\n",
              " '/content/drive/My Drive/ML/CNN_assignment/Skin cancer ISIC The International Skin Imaging Collaboration/Train/actinic keratosis/output/actinic keratosis_original_ISIC_0031228.jpg_0e029172-c0dd-4f74-be74-b39a31040d9f.jpg',\n",
              " '/content/drive/My Drive/ML/CNN_assignment/Skin cancer ISIC The International Skin Imaging Collaboration/Train/actinic keratosis/output/actinic keratosis_original_ISIC_0028990.jpg_88a08df3-ea26-4130-9d7d-5942be4e24d0.jpg',\n",
              " '/content/drive/My Drive/ML/CNN_assignment/Skin cancer ISIC The International Skin Imaging Collaboration/Train/actinic keratosis/output/actinic keratosis_original_ISIC_0030826.jpg_b380be72-a5d5-4f5d-b57b-402c61549603.jpg',\n",
              " '/content/drive/My Drive/ML/CNN_assignment/Skin cancer ISIC The International Skin Imaging Collaboration/Train/actinic keratosis/output/actinic keratosis_original_ISIC_0025780.jpg_57450596-ddc6-4031-b9f6-37254e07dcc1.jpg',\n",
              " '/content/drive/My Drive/ML/CNN_assignment/Skin cancer ISIC The International Skin Imaging Collaboration/Train/actinic keratosis/output/actinic keratosis_original_ISIC_0031292.jpg_bdc75add-1a77-4b6d-8b79-f31aa2d0d26d.jpg',\n",
              " '/content/drive/My Drive/ML/CNN_assignment/Skin cancer ISIC The International Skin Imaging Collaboration/Train/actinic keratosis/output/actinic keratosis_original_ISIC_0032404.jpg_fb95850e-c5c7-4e00-935a-764da9dce0c4.jpg',\n",
              " '/content/drive/My Drive/ML/CNN_assignment/Skin cancer ISIC The International Skin Imaging Collaboration/Train/actinic keratosis/output/actinic keratosis_original_ISIC_0027884.jpg_ae9d2e26-9dc9-4f68-8af3-60e7c986a4e3.jpg',\n",
              " '/content/drive/My Drive/ML/CNN_assignment/Skin cancer ISIC The International Skin Imaging Collaboration/Train/actinic keratosis/output/actinic keratosis_original_ISIC_0033358.jpg_edcac181-7057-426c-bb3a-4bb0bbd127bd.jpg',\n",
              " '/content/drive/My Drive/ML/CNN_assignment/Skin cancer ISIC The International Skin Imaging Collaboration/Train/actinic keratosis/output/actinic keratosis_original_ISIC_0029713.jpg_73da59f6-48fb-4204-a720-6e8ec7f17e17.jpg',\n",
              " '/content/drive/My Drive/ML/CNN_assignment/Skin cancer ISIC The International Skin Imaging Collaboration/Train/actinic keratosis/output/actinic keratosis_original_ISIC_0030826.jpg_4ee8f7ec-b63c-4990-87bc-b06b573cd985.jpg',\n",
              " '/content/drive/My Drive/ML/CNN_assignment/Skin cancer ISIC The International Skin Imaging Collaboration/Train/actinic keratosis/output/actinic keratosis_original_ISIC_0026905.jpg_664473e7-419c-4473-8585-d25bd6a437bc.jpg',\n",
              " '/content/drive/My Drive/ML/CNN_assignment/Skin cancer ISIC The International Skin Imaging Collaboration/Train/actinic keratosis/output/actinic keratosis_original_ISIC_0027950.jpg_18050646-c218-4e9c-8895-065a2d07b549.jpg',\n",
              " '/content/drive/My Drive/ML/CNN_assignment/Skin cancer ISIC The International Skin Imaging Collaboration/Train/actinic keratosis/output/actinic keratosis_original_ISIC_0026765.jpg_cddc1a56-4467-4373-a93e-75b23626e30f.jpg',\n",
              " '/content/drive/My Drive/ML/CNN_assignment/Skin cancer ISIC The International Skin Imaging Collaboration/Train/actinic keratosis/output/actinic keratosis_original_ISIC_0030242.jpg_56814d80-8095-4791-9bc1-2da00f30b4f3.jpg',\n",
              " '/content/drive/My Drive/ML/CNN_assignment/Skin cancer ISIC The International Skin Imaging Collaboration/Train/actinic keratosis/output/actinic keratosis_original_ISIC_0027958.jpg_b957d798-3618-4bc2-ab31-2dd3b6284223.jpg',\n",
              " '/content/drive/My Drive/ML/CNN_assignment/Skin cancer ISIC The International Skin Imaging Collaboration/Train/actinic keratosis/output/actinic keratosis_original_ISIC_0032437.jpg_c9564022-3e5c-4efa-b21e-009fb3d4d34e.jpg',\n",
              " '/content/drive/My Drive/ML/CNN_assignment/Skin cancer ISIC The International Skin Imaging Collaboration/Train/actinic keratosis/output/actinic keratosis_original_ISIC_0029460.jpg_658091d7-7414-4c24-9389-809d1d2db4bc.jpg',\n",
              " '/content/drive/My Drive/ML/CNN_assignment/Skin cancer ISIC The International Skin Imaging Collaboration/Train/actinic keratosis/output/actinic keratosis_original_ISIC_0028517.jpg_647c5600-011e-409c-8ea6-f4e57693b91e.jpg',\n",
              " '/content/drive/My Drive/ML/CNN_assignment/Skin cancer ISIC The International Skin Imaging Collaboration/Train/actinic keratosis/output/actinic keratosis_original_ISIC_0029025.jpg_6f1cd081-15ae-4fb7-836b-01a15079d6de.jpg',\n",
              " '/content/drive/My Drive/ML/CNN_assignment/Skin cancer ISIC The International Skin Imaging Collaboration/Train/actinic keratosis/output/actinic keratosis_original_ISIC_0026702.jpg_3340e7c3-0dfa-41b3-ad1b-31a8eaceebe5.jpg',\n",
              " '/content/drive/My Drive/ML/CNN_assignment/Skin cancer ISIC The International Skin Imaging Collaboration/Train/actinic keratosis/output/actinic keratosis_original_ISIC_0031040.jpg_b59cadc5-1bc3-49bd-90ea-60feefbb0df5.jpg',\n",
              " '/content/drive/My Drive/ML/CNN_assignment/Skin cancer ISIC The International Skin Imaging Collaboration/Train/actinic keratosis/output/actinic keratosis_original_ISIC_0033413.jpg_b7b29a01-44fb-45e6-8f29-6bddf70aafd0.jpg',\n",
              " '/content/drive/My Drive/ML/CNN_assignment/Skin cancer ISIC The International Skin Imaging Collaboration/Train/actinic keratosis/output/actinic keratosis_original_ISIC_0026702.jpg_af334088-0a80-4fc3-9378-e95de0b05bbf.jpg',\n",
              " '/content/drive/My Drive/ML/CNN_assignment/Skin cancer ISIC The International Skin Imaging Collaboration/Train/actinic keratosis/output/actinic keratosis_original_ISIC_0031335.jpg_6eb07369-7dbc-4525-b12d-02b127449718.jpg',\n",
              " '/content/drive/My Drive/ML/CNN_assignment/Skin cancer ISIC The International Skin Imaging Collaboration/Train/actinic keratosis/output/actinic keratosis_original_ISIC_0030491.jpg_1bd4d2e5-f873-4e64-ac29-108e39801e62.jpg',\n",
              " '/content/drive/My Drive/ML/CNN_assignment/Skin cancer ISIC The International Skin Imaging Collaboration/Train/actinic keratosis/output/actinic keratosis_original_ISIC_0025992.jpg_0c813f7e-e92c-4f93-b51a-e459f7c651f1.jpg',\n",
              " '/content/drive/My Drive/ML/CNN_assignment/Skin cancer ISIC The International Skin Imaging Collaboration/Train/actinic keratosis/output/actinic keratosis_original_ISIC_0027615.jpg_d6986aa5-3b4d-47f6-94cb-729a75186e58.jpg',\n",
              " '/content/drive/My Drive/ML/CNN_assignment/Skin cancer ISIC The International Skin Imaging Collaboration/Train/actinic keratosis/output/actinic keratosis_original_ISIC_0029659.jpg_40414d5d-c13e-4e33-838b-9023b2e61746.jpg',\n",
              " '/content/drive/My Drive/ML/CNN_assignment/Skin cancer ISIC The International Skin Imaging Collaboration/Train/actinic keratosis/output/actinic keratosis_original_ISIC_0027447.jpg_b8be8914-d6f3-4365-9971-e37f877af541.jpg',\n",
              " '/content/drive/My Drive/ML/CNN_assignment/Skin cancer ISIC The International Skin Imaging Collaboration/Train/actinic keratosis/output/actinic keratosis_original_ISIC_0027884.jpg_461005b0-f68c-4780-bf54-aff5850fe629.jpg',\n",
              " '/content/drive/My Drive/ML/CNN_assignment/Skin cancer ISIC The International Skin Imaging Collaboration/Train/actinic keratosis/output/actinic keratosis_original_ISIC_0027580.jpg_0e9163ba-0520-48b2-9ca7-d8af13a22611.jpg',\n",
              " '/content/drive/My Drive/ML/CNN_assignment/Skin cancer ISIC The International Skin Imaging Collaboration/Train/actinic keratosis/output/actinic keratosis_original_ISIC_0029133.jpg_21311a96-25fc-454e-a4a6-4ac32e53bc55.jpg',\n",
              " '/content/drive/My Drive/ML/CNN_assignment/Skin cancer ISIC The International Skin Imaging Collaboration/Train/actinic keratosis/output/actinic keratosis_original_ISIC_0030143.jpg_3094f8a4-3124-4ca2-8b33-54d2441f3feb.jpg',\n",
              " '/content/drive/My Drive/ML/CNN_assignment/Skin cancer ISIC The International Skin Imaging Collaboration/Train/actinic keratosis/output/actinic keratosis_original_ISIC_0031381.jpg_19a3a524-748a-4a79-9aea-22cbe47e397d.jpg',\n",
              " '/content/drive/My Drive/ML/CNN_assignment/Skin cancer ISIC The International Skin Imaging Collaboration/Train/actinic keratosis/output/actinic keratosis_original_ISIC_0027172.jpg_17c6d52a-1857-4a9c-9f27-f9b6f0ba198e.jpg',\n",
              " '/content/drive/My Drive/ML/CNN_assignment/Skin cancer ISIC The International Skin Imaging Collaboration/Train/actinic keratosis/output/actinic keratosis_original_ISIC_0029840.jpg_61d5cb5e-7007-4f73-92b2-6f95ef307ece.jpg',\n",
              " '/content/drive/My Drive/ML/CNN_assignment/Skin cancer ISIC The International Skin Imaging Collaboration/Train/actinic keratosis/output/actinic keratosis_original_ISIC_0026149.jpg_26464153-4be3-44c4-a0b8-d0bd91484e60.jpg',\n",
              " '/content/drive/My Drive/ML/CNN_assignment/Skin cancer ISIC The International Skin Imaging Collaboration/Train/actinic keratosis/output/actinic keratosis_original_ISIC_0029210.jpg_50e72b28-c965-40a3-b047-81edbeb837f2.jpg',\n",
              " '/content/drive/My Drive/ML/CNN_assignment/Skin cancer ISIC The International Skin Imaging Collaboration/Train/actinic keratosis/output/actinic keratosis_original_ISIC_0025825.jpg_1f16b7dc-841f-401c-95d8-f867a35103a8.jpg',\n",
              " '/content/drive/My Drive/ML/CNN_assignment/Skin cancer ISIC The International Skin Imaging Collaboration/Train/actinic keratosis/output/actinic keratosis_original_ISIC_0029460.jpg_15f7429e-1ca6-4484-8228-7559761ff78f.jpg',\n",
              " '/content/drive/My Drive/ML/CNN_assignment/Skin cancer ISIC The International Skin Imaging Collaboration/Train/actinic keratosis/output/actinic keratosis_original_ISIC_0028393.jpg_e9395499-bec7-414a-a23d-0ea923f322d2.jpg',\n",
              " '/content/drive/My Drive/ML/CNN_assignment/Skin cancer ISIC The International Skin Imaging Collaboration/Train/actinic keratosis/output/actinic keratosis_original_ISIC_0028063.jpg_61bccd86-ae3a-4921-b45a-147245fd9f31.jpg',\n",
              " '/content/drive/My Drive/ML/CNN_assignment/Skin cancer ISIC The International Skin Imaging Collaboration/Train/actinic keratosis/output/actinic keratosis_original_ISIC_0028820.jpg_52c59b3b-a041-4347-86a5-7d12753b39fa.jpg',\n",
              " '/content/drive/My Drive/ML/CNN_assignment/Skin cancer ISIC The International Skin Imaging Collaboration/Train/actinic keratosis/output/actinic keratosis_original_ISIC_0028941.jpg_0f96abad-da74-4fed-8a04-fbb920c86b83.jpg',\n",
              " '/content/drive/My Drive/ML/CNN_assignment/Skin cancer ISIC The International Skin Imaging Collaboration/Train/actinic keratosis/output/actinic keratosis_original_ISIC_0025780.jpg_e243b72c-7bcc-4c11-8a9b-11b0f54c43af.jpg',\n",
              " '/content/drive/My Drive/ML/CNN_assignment/Skin cancer ISIC The International Skin Imaging Collaboration/Train/actinic keratosis/output/actinic keratosis_original_ISIC_0026626.jpg_664ff43f-d2b7-49c1-9402-8ba3a4230912.jpg',\n",
              " '/content/drive/My Drive/ML/CNN_assignment/Skin cancer ISIC The International Skin Imaging Collaboration/Train/actinic keratosis/output/actinic keratosis_original_ISIC_0030877.jpg_3848266f-efd7-4dd7-96e8-bfd8f0dc1251.jpg',\n",
              " '/content/drive/My Drive/ML/CNN_assignment/Skin cancer ISIC The International Skin Imaging Collaboration/Train/actinic keratosis/output/actinic keratosis_original_ISIC_0026468.jpg_3d065eca-f576-46f4-9187-d047a2971e20.jpg',\n",
              " '/content/drive/My Drive/ML/CNN_assignment/Skin cancer ISIC The International Skin Imaging Collaboration/Train/actinic keratosis/output/actinic keratosis_original_ISIC_0031228.jpg_eabf64e8-33a5-46ff-b0c5-e2eb26eab2e2.jpg',\n",
              " '/content/drive/My Drive/ML/CNN_assignment/Skin cancer ISIC The International Skin Imaging Collaboration/Train/actinic keratosis/output/actinic keratosis_original_ISIC_0029930.jpg_41787c9c-f114-4c31-ae34-9bf2523cc333.jpg',\n",
              " '/content/drive/My Drive/ML/CNN_assignment/Skin cancer ISIC The International Skin Imaging Collaboration/Train/actinic keratosis/output/actinic keratosis_original_ISIC_0027615.jpg_df2e3b56-a6d0-4f89-bcfe-d909d40f396f.jpg',\n",
              " '/content/drive/My Drive/ML/CNN_assignment/Skin cancer ISIC The International Skin Imaging Collaboration/Train/actinic keratosis/output/actinic keratosis_original_ISIC_0025953.jpg_6d597188-2fc5-4dc3-bb56-a4ac8b90f56c.jpg',\n",
              " '/content/drive/My Drive/ML/CNN_assignment/Skin cancer ISIC The International Skin Imaging Collaboration/Train/actinic keratosis/output/actinic keratosis_original_ISIC_0030143.jpg_7564ebfc-9ac7-4631-962b-9e6a81b8ab48.jpg',\n",
              " '/content/drive/My Drive/ML/CNN_assignment/Skin cancer ISIC The International Skin Imaging Collaboration/Train/actinic keratosis/output/actinic keratosis_original_ISIC_0029500.jpg_194fd601-c5c0-41e7-ba02-6729b4b5c683.jpg',\n",
              " '/content/drive/My Drive/ML/CNN_assignment/Skin cancer ISIC The International Skin Imaging Collaboration/Train/actinic keratosis/output/actinic keratosis_original_ISIC_0032199.jpg_62457806-2a54-461f-89fb-f2609157256b.jpg',\n",
              " '/content/drive/My Drive/ML/CNN_assignment/Skin cancer ISIC The International Skin Imaging Collaboration/Train/actinic keratosis/output/actinic keratosis_original_ISIC_0027452.jpg_c201bf80-5516-400a-adc9-1db5faea2e3b.jpg',\n",
              " '/content/drive/My Drive/ML/CNN_assignment/Skin cancer ISIC The International Skin Imaging Collaboration/Train/actinic keratosis/output/actinic keratosis_original_ISIC_0026905.jpg_584239ed-1ec7-4149-826b-f367ee43edb8.jpg',\n",
              " '/content/drive/My Drive/ML/CNN_assignment/Skin cancer ISIC The International Skin Imaging Collaboration/Train/actinic keratosis/output/actinic keratosis_original_ISIC_0026626.jpg_3ca3bb44-31a2-49eb-b39b-dcf3cdafecd0.jpg',\n",
              " '/content/drive/My Drive/ML/CNN_assignment/Skin cancer ISIC The International Skin Imaging Collaboration/Train/actinic keratosis/output/actinic keratosis_original_ISIC_0025825.jpg_4737fa06-8ccf-4dd6-8ba1-5cf196e112a4.jpg',\n",
              " '/content/drive/My Drive/ML/CNN_assignment/Skin cancer ISIC The International Skin Imaging Collaboration/Train/actinic keratosis/output/actinic keratosis_original_ISIC_0029930.jpg_54f53cd9-ee3d-406a-8c6c-2efe1b2e6e8f.jpg',\n",
              " '/content/drive/My Drive/ML/CNN_assignment/Skin cancer ISIC The International Skin Imaging Collaboration/Train/actinic keratosis/output/actinic keratosis_original_ISIC_0026171.jpg_ae53cc50-fd60-4d76-9a01-527f8a487259.jpg',\n",
              " '/content/drive/My Drive/ML/CNN_assignment/Skin cancer ISIC The International Skin Imaging Collaboration/Train/actinic keratosis/output/actinic keratosis_original_ISIC_0027580.jpg_9c392a7e-9902-46c5-9ba8-c2011d05fec0.jpg',\n",
              " '/content/drive/My Drive/ML/CNN_assignment/Skin cancer ISIC The International Skin Imaging Collaboration/Train/actinic keratosis/output/actinic keratosis_original_ISIC_0027950.jpg_68587cef-516a-491f-abb6-0416e6ed2797.jpg',\n",
              " '/content/drive/My Drive/ML/CNN_assignment/Skin cancer ISIC The International Skin Imaging Collaboration/Train/actinic keratosis/output/actinic keratosis_original_ISIC_0025825.jpg_24248899-79ea-4aab-b3ce-835664c82a53.jpg',\n",
              " '/content/drive/My Drive/ML/CNN_assignment/Skin cancer ISIC The International Skin Imaging Collaboration/Train/actinic keratosis/output/actinic keratosis_original_ISIC_0026626.jpg_5a4682e7-ac73-4f29-9453-2c09b95b1031.jpg',\n",
              " '/content/drive/My Drive/ML/CNN_assignment/Skin cancer ISIC The International Skin Imaging Collaboration/Train/actinic keratosis/output/actinic keratosis_original_ISIC_0030344.jpg_3616239f-98a7-4b45-9465-9a4a5ec194ad.jpg',\n",
              " '/content/drive/My Drive/ML/CNN_assignment/Skin cancer ISIC The International Skin Imaging Collaboration/Train/actinic keratosis/output/actinic keratosis_original_ISIC_0030825.jpg_60265977-d1ff-47fb-8390-8fe248767e12.jpg',\n",
              " '/content/drive/My Drive/ML/CNN_assignment/Skin cancer ISIC The International Skin Imaging Collaboration/Train/actinic keratosis/output/actinic keratosis_original_ISIC_0029500.jpg_6a6f5a7b-3b5f-4f6d-8180-728a26dd8cb1.jpg',\n",
              " '/content/drive/My Drive/ML/CNN_assignment/Skin cancer ISIC The International Skin Imaging Collaboration/Train/actinic keratosis/output/actinic keratosis_original_ISIC_0033456.jpg_1229fb5d-cd35-4b38-98d1-0fb8685bfdcb.jpg',\n",
              " '/content/drive/My Drive/ML/CNN_assignment/Skin cancer ISIC The International Skin Imaging Collaboration/Train/actinic keratosis/output/actinic keratosis_original_ISIC_0026765.jpg_6cd96519-81ad-4ba8-a326-a3559e005f72.jpg',\n",
              " '/content/drive/My Drive/ML/CNN_assignment/Skin cancer ISIC The International Skin Imaging Collaboration/Train/actinic keratosis/output/actinic keratosis_original_ISIC_0026709.jpg_d031e237-948a-4225-86df-d21ffc05624b.jpg',\n",
              " '/content/drive/My Drive/ML/CNN_assignment/Skin cancer ISIC The International Skin Imaging Collaboration/Train/actinic keratosis/output/actinic keratosis_original_ISIC_0031335.jpg_c54db608-da5b-4538-b463-63f020127767.jpg',\n",
              " '/content/drive/My Drive/ML/CNN_assignment/Skin cancer ISIC The International Skin Imaging Collaboration/Train/actinic keratosis/output/actinic keratosis_original_ISIC_0030491.jpg_872d406d-fbe2-4503-a35b-9497c4e9ebee.jpg',\n",
              " '/content/drive/My Drive/ML/CNN_assignment/Skin cancer ISIC The International Skin Imaging Collaboration/Train/actinic keratosis/output/actinic keratosis_original_ISIC_0028941.jpg_cfc07e5c-16b6-4aa1-84a8-5538ea3d9624.jpg',\n",
              " '/content/drive/My Drive/ML/CNN_assignment/Skin cancer ISIC The International Skin Imaging Collaboration/Train/actinic keratosis/output/actinic keratosis_original_ISIC_0025780.jpg_ccde4287-f291-4e36-bf0e-de53ee9b28ac.jpg',\n",
              " '/content/drive/My Drive/ML/CNN_assignment/Skin cancer ISIC The International Skin Imaging Collaboration/Train/actinic keratosis/output/actinic keratosis_original_ISIC_0030242.jpg_0d4aa819-21af-4d7e-8269-804d8a381dfe.jpg',\n",
              " '/content/drive/My Drive/ML/CNN_assignment/Skin cancer ISIC The International Skin Imaging Collaboration/Train/actinic keratosis/output/actinic keratosis_original_ISIC_0030491.jpg_ca4b1756-5c7a-49d3-9e31-baa0cdc8699c.jpg',\n",
              " '/content/drive/My Drive/ML/CNN_assignment/Skin cancer ISIC The International Skin Imaging Collaboration/Train/actinic keratosis/output/actinic keratosis_original_ISIC_0029133.jpg_c80ed992-10b6-4ace-be89-f51dbc326439.jpg',\n",
              " '/content/drive/My Drive/ML/CNN_assignment/Skin cancer ISIC The International Skin Imaging Collaboration/Train/actinic keratosis/output/actinic keratosis_original_ISIC_0025953.jpg_60b7dac3-e327-4fe5-a93a-7c96929582bb.jpg',\n",
              " '/content/drive/My Drive/ML/CNN_assignment/Skin cancer ISIC The International Skin Imaging Collaboration/Train/actinic keratosis/output/actinic keratosis_original_ISIC_0025803.jpg_3edd4da3-47d5-4401-9c51-b54779ff7c4f.jpg',\n",
              " '/content/drive/My Drive/ML/CNN_assignment/Skin cancer ISIC The International Skin Imaging Collaboration/Train/actinic keratosis/output/actinic keratosis_original_ISIC_0030408.jpg_a61c1cdb-efb0-4701-bdfe-12ae798111d1.jpg',\n",
              " '/content/drive/My Drive/ML/CNN_assignment/Skin cancer ISIC The International Skin Imaging Collaboration/Train/actinic keratosis/output/actinic keratosis_original_ISIC_0029713.jpg_9a2ba219-caa1-4f2d-b642-e160d94b40b1.jpg',\n",
              " '/content/drive/My Drive/ML/CNN_assignment/Skin cancer ISIC The International Skin Imaging Collaboration/Train/actinic keratosis/output/actinic keratosis_original_ISIC_0029659.jpg_b1f0a0fc-11d9-4dd1-8b73-294bfb4f2b6b.jpg',\n",
              " '/content/drive/My Drive/ML/CNN_assignment/Skin cancer ISIC The International Skin Imaging Collaboration/Train/actinic keratosis/output/actinic keratosis_original_ISIC_0027802.jpg_cf8c6927-85c4-40d6-bd69-b305f51c8960.jpg',\n",
              " '/content/drive/My Drive/ML/CNN_assignment/Skin cancer ISIC The International Skin Imaging Collaboration/Train/actinic keratosis/output/actinic keratosis_original_ISIC_0027668.jpg_cea04f31-0156-4bb0-8d83-f13b4b9272a9.jpg',\n",
              " '/content/drive/My Drive/ML/CNN_assignment/Skin cancer ISIC The International Skin Imaging Collaboration/Train/actinic keratosis/output/actinic keratosis_original_ISIC_0032854.jpg_e366d271-c41b-44e0-961c-221a165c3976.jpg',\n",
              " '/content/drive/My Drive/ML/CNN_assignment/Skin cancer ISIC The International Skin Imaging Collaboration/Train/actinic keratosis/output/actinic keratosis_original_ISIC_0030586.jpg_1c3d27ab-2486-4cc1-92b8-4a1b6d666576.jpg',\n",
              " '/content/drive/My Drive/ML/CNN_assignment/Skin cancer ISIC The International Skin Imaging Collaboration/Train/actinic keratosis/output/actinic keratosis_original_ISIC_0027334.jpg_b36c2a91-1d53-4c9a-a185-e8ef7d11ec84.jpg',\n",
              " '/content/drive/My Drive/ML/CNN_assignment/Skin cancer ISIC The International Skin Imaging Collaboration/Train/actinic keratosis/output/actinic keratosis_original_ISIC_0027615.jpg_95f19eb3-3392-4b8e-abd2-3c02827c4b64.jpg',\n",
              " '/content/drive/My Drive/ML/CNN_assignment/Skin cancer ISIC The International Skin Imaging Collaboration/Train/actinic keratosis/output/actinic keratosis_original_ISIC_0030491.jpg_46ed7964-e12c-4740-ab3c-0984876cc2f0.jpg',\n",
              " '/content/drive/My Drive/ML/CNN_assignment/Skin cancer ISIC The International Skin Imaging Collaboration/Train/actinic keratosis/output/actinic keratosis_original_ISIC_0033358.jpg_4f274340-28e4-4f66-833b-aa05da31ddfe.jpg',\n",
              " '/content/drive/My Drive/ML/CNN_assignment/Skin cancer ISIC The International Skin Imaging Collaboration/Train/actinic keratosis/output/actinic keratosis_original_ISIC_0033358.jpg_a65f4c37-03ee-4ff4-adae-b2fd3c5b13c2.jpg',\n",
              " '/content/drive/My Drive/ML/CNN_assignment/Skin cancer ISIC The International Skin Imaging Collaboration/Train/actinic keratosis/output/actinic keratosis_original_ISIC_0032135.jpg_e8bc6b48-dc00-43a9-bebf-fc4fa1c1cfac.jpg',\n",
              " '/content/drive/My Drive/ML/CNN_assignment/Skin cancer ISIC The International Skin Imaging Collaboration/Train/actinic keratosis/output/actinic keratosis_original_ISIC_0025992.jpg_4fb81678-5435-45ba-a381-d767fdf14e84.jpg',\n",
              " '/content/drive/My Drive/ML/CNN_assignment/Skin cancer ISIC The International Skin Imaging Collaboration/Train/actinic keratosis/output/actinic keratosis_original_ISIC_0026650.jpg_b0c520ca-5443-4a07-acef-273d36379d88.jpg',\n",
              " '/content/drive/My Drive/ML/CNN_assignment/Skin cancer ISIC The International Skin Imaging Collaboration/Train/actinic keratosis/output/actinic keratosis_original_ISIC_0025780.jpg_4520c392-2c4b-4a27-8949-8eff25bf69e6.jpg',\n",
              " '/content/drive/My Drive/ML/CNN_assignment/Skin cancer ISIC The International Skin Imaging Collaboration/Train/actinic keratosis/output/actinic keratosis_original_ISIC_0029840.jpg_951c26fa-85eb-49ba-8ed9-ee5334f3a8a2.jpg',\n",
              " '/content/drive/My Drive/ML/CNN_assignment/Skin cancer ISIC The International Skin Imaging Collaboration/Train/actinic keratosis/output/actinic keratosis_original_ISIC_0030655.jpg_c5859a89-0c0c-49ba-b792-2421bf090959.jpg',\n",
              " '/content/drive/My Drive/ML/CNN_assignment/Skin cancer ISIC The International Skin Imaging Collaboration/Train/actinic keratosis/output/actinic keratosis_original_ISIC_0026468.jpg_45c68f6a-7351-422e-9de8-7c40be788e33.jpg',\n",
              " '/content/drive/My Drive/ML/CNN_assignment/Skin cancer ISIC The International Skin Imaging Collaboration/Train/actinic keratosis/output/actinic keratosis_original_ISIC_0029141.jpg_6e4c0c88-9485-4cf2-be8d-def00f872fe0.jpg',\n",
              " '/content/drive/My Drive/ML/CNN_assignment/Skin cancer ISIC The International Skin Imaging Collaboration/Train/actinic keratosis/output/actinic keratosis_original_ISIC_0026848.jpg_d95210db-03d1-4a37-b54d-5dac911786ab.jpg',\n",
              " '/content/drive/My Drive/ML/CNN_assignment/Skin cancer ISIC The International Skin Imaging Collaboration/Train/actinic keratosis/output/actinic keratosis_original_ISIC_0030655.jpg_8797122c-362b-4a6c-822d-dfb1da938543.jpg',\n",
              " '/content/drive/My Drive/ML/CNN_assignment/Skin cancer ISIC The International Skin Imaging Collaboration/Train/actinic keratosis/output/actinic keratosis_original_ISIC_0033456.jpg_8504d74a-23bd-466c-a77f-335c01ebcd1c.jpg',\n",
              " '/content/drive/My Drive/ML/CNN_assignment/Skin cancer ISIC The International Skin Imaging Collaboration/Train/actinic keratosis/output/actinic keratosis_original_ISIC_0028990.jpg_04a70ed1-8376-411e-b82a-e9dcf23f4cff.jpg',\n",
              " '/content/drive/My Drive/ML/CNN_assignment/Skin cancer ISIC The International Skin Imaging Collaboration/Train/actinic keratosis/output/actinic keratosis_original_ISIC_0027650.jpg_c0afefa7-087b-48fa-a265-1d9379faf70b.jpg',\n",
              " '/content/drive/My Drive/ML/CNN_assignment/Skin cancer ISIC The International Skin Imaging Collaboration/Train/actinic keratosis/output/actinic keratosis_original_ISIC_0027802.jpg_b60b1cdd-6333-4745-8e29-c02de47735c4.jpg',\n",
              " '/content/drive/My Drive/ML/CNN_assignment/Skin cancer ISIC The International Skin Imaging Collaboration/Train/actinic keratosis/output/actinic keratosis_original_ISIC_0030344.jpg_828b7223-4adf-49e3-a042-fb865fdf9918.jpg',\n",
              " '/content/drive/My Drive/ML/CNN_assignment/Skin cancer ISIC The International Skin Imaging Collaboration/Train/actinic keratosis/output/actinic keratosis_original_ISIC_0026194.jpg_e794f0f1-f6d2-4484-80d1-21638b7ef37c.jpg',\n",
              " '/content/drive/My Drive/ML/CNN_assignment/Skin cancer ISIC The International Skin Imaging Collaboration/Train/actinic keratosis/output/actinic keratosis_original_ISIC_0030242.jpg_7cad6510-4c15-49d6-a8a1-482920a4eea3.jpg',\n",
              " '/content/drive/My Drive/ML/CNN_assignment/Skin cancer ISIC The International Skin Imaging Collaboration/Train/actinic keratosis/output/actinic keratosis_original_ISIC_0027562.jpg_a96a4695-c746-4cb4-b163-c1b422f0e7ea.jpg',\n",
              " '/content/drive/My Drive/ML/CNN_assignment/Skin cancer ISIC The International Skin Imaging Collaboration/Train/actinic keratosis/output/actinic keratosis_original_ISIC_0026171.jpg_0a288b2f-3c36-42c2-8c5f-ef22b8d9396f.jpg',\n",
              " '/content/drive/My Drive/ML/CNN_assignment/Skin cancer ISIC The International Skin Imaging Collaboration/Train/actinic keratosis/output/actinic keratosis_original_ISIC_0026650.jpg_73e532c9-21bf-4ef9-980c-07d3c24a4bae.jpg',\n",
              " '/content/drive/My Drive/ML/CNN_assignment/Skin cancer ISIC The International Skin Imaging Collaboration/Train/actinic keratosis/output/actinic keratosis_original_ISIC_0028854.jpg_158d453c-850b-4fa6-a2c4-dc31e53538c9.jpg',\n",
              " '/content/drive/My Drive/ML/CNN_assignment/Skin cancer ISIC The International Skin Imaging Collaboration/Train/actinic keratosis/output/actinic keratosis_original_ISIC_0027950.jpg_c1774252-a00f-48c9-82e9-b6cb78df490c.jpg',\n",
              " '/content/drive/My Drive/ML/CNN_assignment/Skin cancer ISIC The International Skin Imaging Collaboration/Train/actinic keratosis/output/actinic keratosis_original_ISIC_0033811.jpg_299d71fe-6c45-482f-b278-3397c1448c68.jpg',\n",
              " '/content/drive/My Drive/ML/CNN_assignment/Skin cancer ISIC The International Skin Imaging Collaboration/Train/actinic keratosis/output/actinic keratosis_original_ISIC_0028063.jpg_09539e6b-d85b-4910-bfde-81647dd858d5.jpg',\n",
              " '/content/drive/My Drive/ML/CNN_assignment/Skin cancer ISIC The International Skin Imaging Collaboration/Train/actinic keratosis/output/actinic keratosis_original_ISIC_0030463.jpg_62ed1413-3da2-428e-a43b-46dafcdce6fb.jpg',\n",
              " '/content/drive/My Drive/ML/CNN_assignment/Skin cancer ISIC The International Skin Imaging Collaboration/Train/actinic keratosis/output/actinic keratosis_original_ISIC_0033705.jpg_c3896666-ec73-48ff-8a3c-cafd67a266f0.jpg',\n",
              " '/content/drive/My Drive/ML/CNN_assignment/Skin cancer ISIC The International Skin Imaging Collaboration/Train/actinic keratosis/output/actinic keratosis_original_ISIC_0030655.jpg_365f24ba-c454-4f9b-8873-24004fe67e4f.jpg',\n",
              " '/content/drive/My Drive/ML/CNN_assignment/Skin cancer ISIC The International Skin Imaging Collaboration/Train/actinic keratosis/output/actinic keratosis_original_ISIC_0027615.jpg_a93230b3-ef4b-4200-86e5-d841784ae446.jpg',\n",
              " '/content/drive/My Drive/ML/CNN_assignment/Skin cancer ISIC The International Skin Imaging Collaboration/Train/actinic keratosis/output/actinic keratosis_original_ISIC_0033494.jpg_88aa5845-337d-4fca-8c30-c944273bba47.jpg',\n",
              " '/content/drive/My Drive/ML/CNN_assignment/Skin cancer ISIC The International Skin Imaging Collaboration/Train/actinic keratosis/output/actinic keratosis_original_ISIC_0027829.jpg_bf58ab66-9f4a-4c2d-b7c1-324a9edaed8a.jpg',\n",
              " '/content/drive/My Drive/ML/CNN_assignment/Skin cancer ISIC The International Skin Imaging Collaboration/Train/actinic keratosis/output/actinic keratosis_original_ISIC_0026857.jpg_d33e2d27-5ff4-46af-9af3-0c0ffbeaef79.jpg',\n",
              " '/content/drive/My Drive/ML/CNN_assignment/Skin cancer ISIC The International Skin Imaging Collaboration/Train/actinic keratosis/output/actinic keratosis_original_ISIC_0029659.jpg_610f4a91-11d4-425d-96ff-1fe87fc762f0.jpg',\n",
              " '/content/drive/My Drive/ML/CNN_assignment/Skin cancer ISIC The International Skin Imaging Collaboration/Train/basal cell carcinoma/output/basal cell carcinoma_original_ISIC_0029564.jpg_d3802a76-3d80-4ca7-9974-5765f201f48b.jpg',\n",
              " '/content/drive/My Drive/ML/CNN_assignment/Skin cancer ISIC The International Skin Imaging Collaboration/Train/basal cell carcinoma/output/basal cell carcinoma_original_ISIC_0030145.jpg_3b6c7f6a-7d33-4387-8a88-8c299b1c22c9.jpg',\n",
              " '/content/drive/My Drive/ML/CNN_assignment/Skin cancer ISIC The International Skin Imaging Collaboration/Train/basal cell carcinoma/output/basal cell carcinoma_original_ISIC_0031154.jpg_17af5332-c71e-4378-85a9-5f9db8935816.jpg',\n",
              " '/content/drive/My Drive/ML/CNN_assignment/Skin cancer ISIC The International Skin Imaging Collaboration/Train/basal cell carcinoma/output/basal cell carcinoma_original_ISIC_0028556.jpg_8217a2e3-dcc7-404e-a3ec-bf80e2af3903.jpg',\n",
              " '/content/drive/My Drive/ML/CNN_assignment/Skin cancer ISIC The International Skin Imaging Collaboration/Train/basal cell carcinoma/output/basal cell carcinoma_original_ISIC_0026855.jpg_cada6fda-914f-4f35-96e0-7740e93f80c2.jpg',\n",
              " '/content/drive/My Drive/ML/CNN_assignment/Skin cancer ISIC The International Skin Imaging Collaboration/Train/basal cell carcinoma/output/basal cell carcinoma_original_ISIC_0029341.jpg_ac0f5560-d2d1-4f93-aae9-0848f7013b53.jpg',\n",
              " '/content/drive/My Drive/ML/CNN_assignment/Skin cancer ISIC The International Skin Imaging Collaboration/Train/basal cell carcinoma/output/basal cell carcinoma_original_ISIC_0027601.jpg_7f459995-3f66-4055-abc4-229b13010605.jpg',\n",
              " '/content/drive/My Drive/ML/CNN_assignment/Skin cancer ISIC The International Skin Imaging Collaboration/Train/basal cell carcinoma/output/basal cell carcinoma_original_ISIC_0029669.jpg_b30e191a-7916-4be9-b776-a0a8e071f301.jpg',\n",
              " '/content/drive/My Drive/ML/CNN_assignment/Skin cancer ISIC The International Skin Imaging Collaboration/Train/basal cell carcinoma/output/basal cell carcinoma_original_ISIC_0027976.jpg_605a7a87-fe26-4661-a88d-b3261a0a7158.jpg',\n",
              " '/content/drive/My Drive/ML/CNN_assignment/Skin cancer ISIC The International Skin Imaging Collaboration/Train/basal cell carcinoma/output/basal cell carcinoma_original_ISIC_0028542.jpg_9c0117b2-1622-4070-80ae-a8d621662461.jpg',\n",
              " '/content/drive/My Drive/ML/CNN_assignment/Skin cancer ISIC The International Skin Imaging Collaboration/Train/basal cell carcinoma/output/basal cell carcinoma_original_ISIC_0030197.jpg_c56bbab0-11ee-459b-8da1-74b76e969a05.jpg',\n",
              " '/content/drive/My Drive/ML/CNN_assignment/Skin cancer ISIC The International Skin Imaging Collaboration/Train/basal cell carcinoma/output/basal cell carcinoma_original_ISIC_0031171.jpg_85eff08c-b872-4d31-b34d-b5af0892f642.jpg',\n",
              " '/content/drive/My Drive/ML/CNN_assignment/Skin cancer ISIC The International Skin Imaging Collaboration/Train/basal cell carcinoma/output/basal cell carcinoma_original_ISIC_0026855.jpg_981d34ee-802c-4ae8-8972-549169da6c5f.jpg',\n",
              " '/content/drive/My Drive/ML/CNN_assignment/Skin cancer ISIC The International Skin Imaging Collaboration/Train/basal cell carcinoma/output/basal cell carcinoma_original_ISIC_0031122.jpg_b77ffcdb-f665-4942-a55d-aa18b9b04c09.jpg',\n",
              " '/content/drive/My Drive/ML/CNN_assignment/Skin cancer ISIC The International Skin Imaging Collaboration/Train/basal cell carcinoma/output/basal cell carcinoma_original_ISIC_0026074.jpg_99661e3d-22fa-4df3-b17f-d7a39cd6c86a.jpg',\n",
              " '/content/drive/My Drive/ML/CNN_assignment/Skin cancer ISIC The International Skin Imaging Collaboration/Train/basal cell carcinoma/output/basal cell carcinoma_original_ISIC_0028113.jpg_40956cb0-c951-4de3-8bf5-dfec73aa4ac0.jpg',\n",
              " '/content/drive/My Drive/ML/CNN_assignment/Skin cancer ISIC The International Skin Imaging Collaboration/Train/basal cell carcinoma/output/basal cell carcinoma_original_ISIC_0030452.jpg_2a8c6493-94b1-432a-b0c0-57e5a70dfa40.jpg',\n",
              " '/content/drive/My Drive/ML/CNN_assignment/Skin cancer ISIC The International Skin Imaging Collaboration/Train/basal cell carcinoma/output/basal cell carcinoma_original_ISIC_0031294.jpg_564d6d26-1141-4e0a-80ad-65ef5ec1e176.jpg',\n",
              " '/content/drive/My Drive/ML/CNN_assignment/Skin cancer ISIC The International Skin Imaging Collaboration/Train/basal cell carcinoma/output/basal cell carcinoma_original_ISIC_0025644.jpg_d9ede5ba-ad90-4ab5-a3fb-0d382c91dbc7.jpg',\n",
              " '/content/drive/My Drive/ML/CNN_assignment/Skin cancer ISIC The International Skin Imaging Collaboration/Train/basal cell carcinoma/output/basal cell carcinoma_original_ISIC_0025557.jpg_a7b0fbaa-06d7-4bc4-a5c1-2fd5e6f4aed5.jpg',\n",
              " '/content/drive/My Drive/ML/CNN_assignment/Skin cancer ISIC The International Skin Imaging Collaboration/Train/basal cell carcinoma/output/basal cell carcinoma_original_ISIC_0025322.jpg_3561998d-b01b-4ecf-af12-98c52919f105.jpg',\n",
              " '/content/drive/My Drive/ML/CNN_assignment/Skin cancer ISIC The International Skin Imaging Collaboration/Train/basal cell carcinoma/output/basal cell carcinoma_original_ISIC_0027531.jpg_4a76f2dd-5365-4278-954c-a24e704df900.jpg',\n",
              " '/content/drive/My Drive/ML/CNN_assignment/Skin cancer ISIC The International Skin Imaging Collaboration/Train/basal cell carcinoma/output/basal cell carcinoma_original_ISIC_0028739.jpg_37537aff-08c6-4af9-8119-7928743718d8.jpg',\n",
              " '/content/drive/My Drive/ML/CNN_assignment/Skin cancer ISIC The International Skin Imaging Collaboration/Train/basal cell carcinoma/output/basal cell carcinoma_original_ISIC_0029412.jpg_02509731-e1fd-4345-84cc-9a241188f270.jpg',\n",
              " '/content/drive/My Drive/ML/CNN_assignment/Skin cancer ISIC The International Skin Imaging Collaboration/Train/basal cell carcinoma/output/basal cell carcinoma_original_ISIC_0027175.jpg_3babb306-2417-4801-b8de-b30125bd9acc.jpg',\n",
              " '/content/drive/My Drive/ML/CNN_assignment/Skin cancer ISIC The International Skin Imaging Collaboration/Train/basal cell carcinoma/output/basal cell carcinoma_original_ISIC_0027976.jpg_aa8eb33a-f97b-49db-8ad3-2f04d1226882.jpg',\n",
              " '/content/drive/My Drive/ML/CNN_assignment/Skin cancer ISIC The International Skin Imaging Collaboration/Train/basal cell carcinoma/output/basal cell carcinoma_original_ISIC_0027858.jpg_7b28f5ca-ac65-4ab5-b102-f3a57674cacb.jpg',\n",
              " '/content/drive/My Drive/ML/CNN_assignment/Skin cancer ISIC The International Skin Imaging Collaboration/Train/basal cell carcinoma/output/basal cell carcinoma_original_ISIC_0030746.jpg_20cd6f2d-6095-498e-9da6-91131b75a450.jpg',\n",
              " '/content/drive/My Drive/ML/CNN_assignment/Skin cancer ISIC The International Skin Imaging Collaboration/Train/basal cell carcinoma/output/basal cell carcinoma_original_ISIC_0028059.jpg_1b330be2-7c9f-4b21-8e89-cada925e80e7.jpg',\n",
              " '/content/drive/My Drive/ML/CNN_assignment/Skin cancer ISIC The International Skin Imaging Collaboration/Train/basal cell carcinoma/output/basal cell carcinoma_original_ISIC_0028113.jpg_a853a1f5-e27e-46d3-a07e-bd3eb63f1128.jpg',\n",
              " '/content/drive/My Drive/ML/CNN_assignment/Skin cancer ISIC The International Skin Imaging Collaboration/Train/basal cell carcinoma/output/basal cell carcinoma_original_ISIC_0029919.jpg_b1b29a54-bc5b-4a94-855a-c4b8654c0541.jpg',\n",
              " '/content/drive/My Drive/ML/CNN_assignment/Skin cancer ISIC The International Skin Imaging Collaboration/Train/basal cell carcinoma/output/basal cell carcinoma_original_ISIC_0024833.jpg_d4150823-2252-4993-842c-7d26e112e5b1.jpg',\n",
              " '/content/drive/My Drive/ML/CNN_assignment/Skin cancer ISIC The International Skin Imaging Collaboration/Train/basal cell carcinoma/output/basal cell carcinoma_original_ISIC_0027337.jpg_613b72c5-d393-4749-a721-bd9780b07bcf.jpg',\n",
              " '/content/drive/My Drive/ML/CNN_assignment/Skin cancer ISIC The International Skin Imaging Collaboration/Train/basal cell carcinoma/output/basal cell carcinoma_original_ISIC_0031009.jpg_d74b12c6-3656-4836-9b1b-e95a78052784.jpg',\n",
              " '/content/drive/My Drive/ML/CNN_assignment/Skin cancer ISIC The International Skin Imaging Collaboration/Train/basal cell carcinoma/output/basal cell carcinoma_original_ISIC_0026090.jpg_10dccd97-9509-4520-b1e0-eb210bb43bc9.jpg',\n",
              " '/content/drive/My Drive/ML/CNN_assignment/Skin cancer ISIC The International Skin Imaging Collaboration/Train/basal cell carcinoma/output/basal cell carcinoma_original_ISIC_0028095.jpg_b7f8d39d-6734-45f6-b4a7-3fd1fb70f792.jpg',\n",
              " '/content/drive/My Drive/ML/CNN_assignment/Skin cancer ISIC The International Skin Imaging Collaboration/Train/basal cell carcinoma/output/basal cell carcinoma_original_ISIC_0026656.jpg_3f43aa3b-7253-4d36-9540-498aa69ac606.jpg',\n",
              " '/content/drive/My Drive/ML/CNN_assignment/Skin cancer ISIC The International Skin Imaging Collaboration/Train/basal cell carcinoma/output/basal cell carcinoma_original_ISIC_0029392.jpg_a9b8e9c7-dd1d-4d75-ac98-2020b6b581d9.jpg',\n",
              " '/content/drive/My Drive/ML/CNN_assignment/Skin cancer ISIC The International Skin Imaging Collaboration/Train/basal cell carcinoma/output/basal cell carcinoma_original_ISIC_0030403.jpg_f3304ced-db31-4a55-ab88-4301aa75c9ac.jpg',\n",
              " '/content/drive/My Drive/ML/CNN_assignment/Skin cancer ISIC The International Skin Imaging Collaboration/Train/basal cell carcinoma/output/basal cell carcinoma_original_ISIC_0028928.jpg_464a422b-3b98-4151-b87e-e19a08f6bf62.jpg',\n",
              " '/content/drive/My Drive/ML/CNN_assignment/Skin cancer ISIC The International Skin Imaging Collaboration/Train/basal cell carcinoma/output/basal cell carcinoma_original_ISIC_0026845.jpg_014905bf-ff53-4108-8247-6494ccceb884.jpg',\n",
              " '/content/drive/My Drive/ML/CNN_assignment/Skin cancer ISIC The International Skin Imaging Collaboration/Train/basal cell carcinoma/output/basal cell carcinoma_original_ISIC_0027629.jpg_1455e6ef-8b26-4f69-aaeb-a29f3ad3048c.jpg',\n",
              " '/content/drive/My Drive/ML/CNN_assignment/Skin cancer ISIC The International Skin Imaging Collaboration/Train/basal cell carcinoma/output/basal cell carcinoma_original_ISIC_0027175.jpg_6958e9b6-7f24-426a-9a2e-fd868777e4f4.jpg',\n",
              " '/content/drive/My Drive/ML/CNN_assignment/Skin cancer ISIC The International Skin Imaging Collaboration/Train/basal cell carcinoma/output/basal cell carcinoma_original_ISIC_0025700.jpg_52ecae4c-a7e6-4dd4-b850-70c0f3d803de.jpg',\n",
              " '/content/drive/My Drive/ML/CNN_assignment/Skin cancer ISIC The International Skin Imaging Collaboration/Train/basal cell carcinoma/output/basal cell carcinoma_original_ISIC_0029655.jpg_e73dc70f-2405-491d-a562-24179df383da.jpg',\n",
              " '/content/drive/My Drive/ML/CNN_assignment/Skin cancer ISIC The International Skin Imaging Collaboration/Train/basal cell carcinoma/output/basal cell carcinoma_original_ISIC_0027704.jpg_04e0f285-5133-4803-ad24-c594771a4bc0.jpg',\n",
              " '/content/drive/My Drive/ML/CNN_assignment/Skin cancer ISIC The International Skin Imaging Collaboration/Train/basal cell carcinoma/output/basal cell carcinoma_original_ISIC_0028818.jpg_9df8a3c9-19a8-49cb-9fd8-8a468905bda2.jpg',\n",
              " '/content/drive/My Drive/ML/CNN_assignment/Skin cancer ISIC The International Skin Imaging Collaboration/Train/basal cell carcinoma/output/basal cell carcinoma_original_ISIC_0028815.jpg_ee42013a-8de4-4c94-bf96-2c8136442248.jpg',\n",
              " '/content/drive/My Drive/ML/CNN_assignment/Skin cancer ISIC The International Skin Imaging Collaboration/Train/basal cell carcinoma/output/basal cell carcinoma_original_ISIC_0025266.jpg_7fd45f7f-777d-45b5-8234-d02f8a8ab4fb.jpg',\n",
              " '/content/drive/My Drive/ML/CNN_assignment/Skin cancer ISIC The International Skin Imaging Collaboration/Train/basal cell carcinoma/output/basal cell carcinoma_original_ISIC_0029220.jpg_c093af21-bdaa-43ff-aa65-1a44e84ff9be.jpg',\n",
              " '/content/drive/My Drive/ML/CNN_assignment/Skin cancer ISIC The International Skin Imaging Collaboration/Train/basal cell carcinoma/output/basal cell carcinoma_original_ISIC_0031272.jpg_d9f03ecb-d32c-4753-9517-b52556f5367f.jpg',\n",
              " '/content/drive/My Drive/ML/CNN_assignment/Skin cancer ISIC The International Skin Imaging Collaboration/Train/basal cell carcinoma/output/basal cell carcinoma_original_ISIC_0030271.jpg_b4b1b080-7a8f-4d3b-ab66-4732504d6aec.jpg',\n",
              " '/content/drive/My Drive/ML/CNN_assignment/Skin cancer ISIC The International Skin Imaging Collaboration/Train/basal cell carcinoma/output/basal cell carcinoma_original_ISIC_0026439.jpg_11bf1c5e-ed27-403f-aab5-28406f72dabb.jpg',\n",
              " '/content/drive/My Drive/ML/CNN_assignment/Skin cancer ISIC The International Skin Imaging Collaboration/Train/basal cell carcinoma/output/basal cell carcinoma_original_ISIC_0024949.jpg_22041b92-c2a2-43c2-9b8d-7a6f7511da0a.jpg',\n",
              " '/content/drive/My Drive/ML/CNN_assignment/Skin cancer ISIC The International Skin Imaging Collaboration/Train/basal cell carcinoma/output/basal cell carcinoma_original_ISIC_0027281.jpg_867dd5e3-c700-42c3-a585-33f18f147df3.jpg',\n",
              " '/content/drive/My Drive/ML/CNN_assignment/Skin cancer ISIC The International Skin Imaging Collaboration/Train/basal cell carcinoma/output/basal cell carcinoma_original_ISIC_0025417.jpg_cd342d27-80a2-441e-9c10-706a0de75de6.jpg',\n",
              " '/content/drive/My Drive/ML/CNN_assignment/Skin cancer ISIC The International Skin Imaging Collaboration/Train/basal cell carcinoma/output/basal cell carcinoma_original_ISIC_0028329.jpg_e6437cfa-d782-4425-9a06-d5dc547999d0.jpg',\n",
              " '/content/drive/My Drive/ML/CNN_assignment/Skin cancer ISIC The International Skin Imaging Collaboration/Train/basal cell carcinoma/output/basal cell carcinoma_original_ISIC_0030868.jpg_b36cf588-cc42-4206-a65d-5b5484a53679.jpg',\n",
              " '/content/drive/My Drive/ML/CNN_assignment/Skin cancer ISIC The International Skin Imaging Collaboration/Train/basal cell carcinoma/output/basal cell carcinoma_original_ISIC_0025644.jpg_fbc1f9a4-06bb-4ce5-a014-229a5f7669ce.jpg',\n",
              " '/content/drive/My Drive/ML/CNN_assignment/Skin cancer ISIC The International Skin Imaging Collaboration/Train/basal cell carcinoma/output/basal cell carcinoma_original_ISIC_0024665.jpg_b6f14d69-9703-4617-9fc0-692ce2e99620.jpg',\n",
              " '/content/drive/My Drive/ML/CNN_assignment/Skin cancer ISIC The International Skin Imaging Collaboration/Train/basal cell carcinoma/output/basal cell carcinoma_original_ISIC_0027595.jpg_9ede36d9-1955-410b-8f88-a717c830c37d.jpg',\n",
              " '/content/drive/My Drive/ML/CNN_assignment/Skin cancer ISIC The International Skin Imaging Collaboration/Train/basal cell carcinoma/output/basal cell carcinoma_original_ISIC_0028197.jpg_ee528222-e461-403c-994b-403bae280d3c.jpg',\n",
              " '/content/drive/My Drive/ML/CNN_assignment/Skin cancer ISIC The International Skin Imaging Collaboration/Train/basal cell carcinoma/output/basal cell carcinoma_original_ISIC_0028653.jpg_e91a0d8c-3645-4ba2-beae-d5270cf0e4d2.jpg',\n",
              " '/content/drive/My Drive/ML/CNN_assignment/Skin cancer ISIC The International Skin Imaging Collaboration/Train/basal cell carcinoma/output/basal cell carcinoma_original_ISIC_0031531.jpg_919a7a33-6e0b-44c9-9545-47a9cdf6a716.jpg',\n",
              " '/content/drive/My Drive/ML/CNN_assignment/Skin cancer ISIC The International Skin Imaging Collaboration/Train/basal cell carcinoma/output/basal cell carcinoma_original_ISIC_0028147.jpg_64177b63-39bb-432e-b376-d5ad2f8d1e58.jpg',\n",
              " '/content/drive/My Drive/ML/CNN_assignment/Skin cancer ISIC The International Skin Imaging Collaboration/Train/basal cell carcinoma/output/basal cell carcinoma_original_ISIC_0028728.jpg_ed87b3cb-fd69-463b-b6ca-39e041f52570.jpg',\n",
              " '/content/drive/My Drive/ML/CNN_assignment/Skin cancer ISIC The International Skin Imaging Collaboration/Train/basal cell carcinoma/output/basal cell carcinoma_original_ISIC_0027545.jpg_b22df118-9ff4-4e44-aa86-6becbd2ae850.jpg',\n",
              " '/content/drive/My Drive/ML/CNN_assignment/Skin cancer ISIC The International Skin Imaging Collaboration/Train/basal cell carcinoma/output/basal cell carcinoma_original_ISIC_0027117.jpg_b229b987-6277-474a-97a6-b06ad4f2b474.jpg',\n",
              " '/content/drive/My Drive/ML/CNN_assignment/Skin cancer ISIC The International Skin Imaging Collaboration/Train/basal cell carcinoma/output/basal cell carcinoma_original_ISIC_0031407.jpg_e2ed77a3-6479-4bb6-851d-9ea81f4092e2.jpg',\n",
              " '/content/drive/My Drive/ML/CNN_assignment/Skin cancer ISIC The International Skin Imaging Collaboration/Train/basal cell carcinoma/output/basal cell carcinoma_original_ISIC_0026192.jpg_f5e921ba-e0da-45c0-bf62-018404a8b2e2.jpg',\n",
              " '/content/drive/My Drive/ML/CNN_assignment/Skin cancer ISIC The International Skin Imaging Collaboration/Train/basal cell carcinoma/output/basal cell carcinoma_original_ISIC_0031225.jpg_5072981f-a607-4341-aaf5-2872fb6fcbe7.jpg',\n",
              " '/content/drive/My Drive/ML/CNN_assignment/Skin cancer ISIC The International Skin Imaging Collaboration/Train/basal cell carcinoma/output/basal cell carcinoma_original_ISIC_0025576.jpg_c76de776-36b4-4b63-989c-818b63946ba1.jpg',\n",
              " '/content/drive/My Drive/ML/CNN_assignment/Skin cancer ISIC The International Skin Imaging Collaboration/Train/basal cell carcinoma/output/basal cell carcinoma_original_ISIC_0028095.jpg_4cdc5a38-1677-4226-8115-1abcf408168f.jpg',\n",
              " '/content/drive/My Drive/ML/CNN_assignment/Skin cancer ISIC The International Skin Imaging Collaboration/Train/basal cell carcinoma/output/basal cell carcinoma_original_ISIC_0025266.jpg_52544752-df24-4893-abc1-6da83f014ecb.jpg',\n",
              " '/content/drive/My Drive/ML/CNN_assignment/Skin cancer ISIC The International Skin Imaging Collaboration/Train/basal cell carcinoma/output/basal cell carcinoma_original_ISIC_0025299.jpg_c8ebdb0d-5693-4976-90e6-60417424ab7e.jpg',\n",
              " '/content/drive/My Drive/ML/CNN_assignment/Skin cancer ISIC The International Skin Imaging Collaboration/Train/basal cell carcinoma/output/basal cell carcinoma_original_ISIC_0024564.jpg_99303d5e-fb28-494b-8c69-0dc784a13d0f.jpg',\n",
              " '/content/drive/My Drive/ML/CNN_assignment/Skin cancer ISIC The International Skin Imaging Collaboration/Train/basal cell carcinoma/output/basal cell carcinoma_original_ISIC_0029489.jpg_60d98c98-95ef-4365-9152-815b7d5a6189.jpg',\n",
              " '/content/drive/My Drive/ML/CNN_assignment/Skin cancer ISIC The International Skin Imaging Collaboration/Train/basal cell carcinoma/output/basal cell carcinoma_original_ISIC_0026343.jpg_dfdf975d-d30a-4c54-93ec-79f811c67ebe.jpg',\n",
              " '/content/drive/My Drive/ML/CNN_assignment/Skin cancer ISIC The International Skin Imaging Collaboration/Train/basal cell carcinoma/output/basal cell carcinoma_original_ISIC_0029919.jpg_0783f244-98e8-4149-940c-1487670c2ca4.jpg',\n",
              " '/content/drive/My Drive/ML/CNN_assignment/Skin cancer ISIC The International Skin Imaging Collaboration/Train/basal cell carcinoma/output/basal cell carcinoma_original_ISIC_0031489.jpg_eeef135f-39f5-45d3-bd68-8558e32f8ed5.jpg',\n",
              " '/content/drive/My Drive/ML/CNN_assignment/Skin cancer ISIC The International Skin Imaging Collaboration/Train/basal cell carcinoma/output/basal cell carcinoma_original_ISIC_0028113.jpg_98f75cea-b247-4e8a-8e37-3f02736598d8.jpg',\n",
              " '/content/drive/My Drive/ML/CNN_assignment/Skin cancer ISIC The International Skin Imaging Collaboration/Train/basal cell carcinoma/output/basal cell carcinoma_original_ISIC_0024582.jpg_ddfdfa89-fb00-456c-b6db-a3d82c2b3fff.jpg',\n",
              " '/content/drive/My Drive/ML/CNN_assignment/Skin cancer ISIC The International Skin Imaging Collaboration/Train/basal cell carcinoma/output/basal cell carcinoma_original_ISIC_0028113.jpg_04e91d58-acf9-472c-9eab-30ceea4ffc9a.jpg',\n",
              " '/content/drive/My Drive/ML/CNN_assignment/Skin cancer ISIC The International Skin Imaging Collaboration/Train/basal cell carcinoma/output/basal cell carcinoma_original_ISIC_0029524.jpg_3b22dc7a-cbbc-4579-8b98-d2579d925829.jpg',\n",
              " '/content/drive/My Drive/ML/CNN_assignment/Skin cancer ISIC The International Skin Imaging Collaboration/Train/basal cell carcinoma/output/basal cell carcinoma_original_ISIC_0028556.jpg_776edc40-6f56-48ba-b0c2-4afaff63a86f.jpg',\n",
              " '/content/drive/My Drive/ML/CNN_assignment/Skin cancer ISIC The International Skin Imaging Collaboration/Train/basal cell carcinoma/output/basal cell carcinoma_original_ISIC_0030138.jpg_bb79a956-3c7e-43bd-9e06-a67e95b05596.jpg',\n",
              " '/content/drive/My Drive/ML/CNN_assignment/Skin cancer ISIC The International Skin Imaging Collaboration/Train/basal cell carcinoma/output/basal cell carcinoma_original_ISIC_0029020.jpg_b62bfd95-7597-4d4d-a01e-2ef24daf67cc.jpg',\n",
              " '/content/drive/My Drive/ML/CNN_assignment/Skin cancer ISIC The International Skin Imaging Collaboration/Train/basal cell carcinoma/output/basal cell carcinoma_original_ISIC_0026091.jpg_6b015256-c046-4697-9ea4-bcd8f7a406a1.jpg',\n",
              " '/content/drive/My Drive/ML/CNN_assignment/Skin cancer ISIC The International Skin Imaging Collaboration/Train/basal cell carcinoma/output/basal cell carcinoma_original_ISIC_0029489.jpg_c63d372e-4c01-4a17-80ce-72c6ce13c968.jpg',\n",
              " '/content/drive/My Drive/ML/CNN_assignment/Skin cancer ISIC The International Skin Imaging Collaboration/Train/basal cell carcinoma/output/basal cell carcinoma_original_ISIC_0031520.jpg_63ecd543-6b5a-4e60-bafa-b8a5acad8170.jpg',\n",
              " '/content/drive/My Drive/ML/CNN_assignment/Skin cancer ISIC The International Skin Imaging Collaboration/Train/basal cell carcinoma/output/basal cell carcinoma_original_ISIC_0024550.jpg_38e49246-20e1-47df-bedc-8351b359c281.jpg',\n",
              " '/content/drive/My Drive/ML/CNN_assignment/Skin cancer ISIC The International Skin Imaging Collaboration/Train/basal cell carcinoma/output/basal cell carcinoma_original_ISIC_0028095.jpg_d0e8a080-70f8-4dbf-b352-3b213dece4f2.jpg',\n",
              " '/content/drive/My Drive/ML/CNN_assignment/Skin cancer ISIC The International Skin Imaging Collaboration/Train/basal cell carcinoma/output/basal cell carcinoma_original_ISIC_0030177.jpg_62c7078c-8f4f-4182-ada4-c16c6e944deb.jpg',\n",
              " '/content/drive/My Drive/ML/CNN_assignment/Skin cancer ISIC The International Skin Imaging Collaboration/Train/basal cell carcinoma/output/basal cell carcinoma_original_ISIC_0027915.jpg_cf8d2a75-2b8b-4dc7-a371-f86a574f9491.jpg',\n",
              " '/content/drive/My Drive/ML/CNN_assignment/Skin cancer ISIC The International Skin Imaging Collaboration/Train/basal cell carcinoma/output/basal cell carcinoma_original_ISIC_0026574.jpg_bf2a031a-4da6-424e-a5b4-8893ca3ae492.jpg',\n",
              " '/content/drive/My Drive/ML/CNN_assignment/Skin cancer ISIC The International Skin Imaging Collaboration/Train/basal cell carcinoma/output/basal cell carcinoma_original_ISIC_0029342.jpg_45e1e4f2-7dc2-4e4a-b9b8-63d2f652a07d.jpg',\n",
              " '/content/drive/My Drive/ML/CNN_assignment/Skin cancer ISIC The International Skin Imaging Collaboration/Train/basal cell carcinoma/output/basal cell carcinoma_original_ISIC_0028739.jpg_8e00c7aa-aff1-42f5-8bf0-1b30b3f6fd19.jpg',\n",
              " '/content/drive/My Drive/ML/CNN_assignment/Skin cancer ISIC The International Skin Imaging Collaboration/Train/basal cell carcinoma/output/basal cell carcinoma_original_ISIC_0028652.jpg_3a8546ce-1f74-429b-a205-14788a5974a3.jpg',\n",
              " '/content/drive/My Drive/ML/CNN_assignment/Skin cancer ISIC The International Skin Imaging Collaboration/Train/basal cell carcinoma/output/basal cell carcinoma_original_ISIC_0027229.jpg_a2e63639-edff-41f1-ad7e-e2d0db57f344.jpg',\n",
              " '/content/drive/My Drive/ML/CNN_assignment/Skin cancer ISIC The International Skin Imaging Collaboration/Train/basal cell carcinoma/output/basal cell carcinoma_original_ISIC_0029747.jpg_50a9e6ff-2a64-4b0e-ac1b-f6890f12c71b.jpg',\n",
              " '/content/drive/My Drive/ML/CNN_assignment/Skin cancer ISIC The International Skin Imaging Collaboration/Train/basal cell carcinoma/output/basal cell carcinoma_original_ISIC_0028687.jpg_0a69b238-c1ae-490b-ba7a-3e3b44c03a52.jpg',\n",
              " '/content/drive/My Drive/ML/CNN_assignment/Skin cancer ISIC The International Skin Imaging Collaboration/Train/basal cell carcinoma/output/basal cell carcinoma_original_ISIC_0030010.jpg_caac3603-96f3-4dd3-b9ce-17f627e08fe0.jpg',\n",
              " '/content/drive/My Drive/ML/CNN_assignment/Skin cancer ISIC The International Skin Imaging Collaboration/Train/basal cell carcinoma/output/basal cell carcinoma_original_ISIC_0029053.jpg_ab838676-209a-4726-b599-adb989d43d73.jpg',\n",
              " '/content/drive/My Drive/ML/CNN_assignment/Skin cancer ISIC The International Skin Imaging Collaboration/Train/basal cell carcinoma/output/basal cell carcinoma_original_ISIC_0030644.jpg_a36d1f42-94f2-432f-b394-d0489427585d.jpg',\n",
              " '/content/drive/My Drive/ML/CNN_assignment/Skin cancer ISIC The International Skin Imaging Collaboration/Train/basal cell carcinoma/output/basal cell carcinoma_original_ISIC_0025691.jpg_fcf22814-3bb0-4a61-b7e9-a2551589b136.jpg',\n",
              " '/content/drive/My Drive/ML/CNN_assignment/Skin cancer ISIC The International Skin Imaging Collaboration/Train/basal cell carcinoma/output/basal cell carcinoma_original_ISIC_0031057.jpg_2d0acd97-7408-464c-8f8d-0529c634bbc4.jpg',\n",
              " '/content/drive/My Drive/ML/CNN_assignment/Skin cancer ISIC The International Skin Imaging Collaboration/Train/basal cell carcinoma/output/basal cell carcinoma_original_ISIC_0031009.jpg_4ebb3cd9-7d1e-48a2-82b9-6de83ba8334d.jpg',\n",
              " '/content/drive/My Drive/ML/CNN_assignment/Skin cancer ISIC The International Skin Imaging Collaboration/Train/basal cell carcinoma/output/basal cell carcinoma_original_ISIC_0026687.jpg_c83993be-d485-4440-b8be-1b359f1fb430.jpg',\n",
              " '/content/drive/My Drive/ML/CNN_assignment/Skin cancer ISIC The International Skin Imaging Collaboration/Train/basal cell carcinoma/output/basal cell carcinoma_original_ISIC_0024666.jpg_63ea7429-4956-4a43-84f9-b5da09475c1c.jpg',\n",
              " '/content/drive/My Drive/ML/CNN_assignment/Skin cancer ISIC The International Skin Imaging Collaboration/Train/basal cell carcinoma/output/basal cell carcinoma_original_ISIC_0030511.jpg_082bd526-623a-4495-9afd-b1ab7b2e4774.jpg',\n",
              " '/content/drive/My Drive/ML/CNN_assignment/Skin cancer ISIC The International Skin Imaging Collaboration/Train/basal cell carcinoma/output/basal cell carcinoma_original_ISIC_0025711.jpg_255d4377-e8e8-4fd1-91e9-b08214e562f8.jpg',\n",
              " '/content/drive/My Drive/ML/CNN_assignment/Skin cancer ISIC The International Skin Imaging Collaboration/Train/basal cell carcinoma/output/basal cell carcinoma_original_ISIC_0028570.jpg_8e6484b7-577c-4514-a091-3a7fc2aebc16.jpg',\n",
              " '/content/drive/My Drive/ML/CNN_assignment/Skin cancer ISIC The International Skin Imaging Collaboration/Train/basal cell carcinoma/output/basal cell carcinoma_original_ISIC_0028871.jpg_79100d45-b0ba-4b41-9c67-bdc5cf4fd990.jpg',\n",
              " '/content/drive/My Drive/ML/CNN_assignment/Skin cancer ISIC The International Skin Imaging Collaboration/Train/basal cell carcinoma/output/basal cell carcinoma_original_ISIC_0030138.jpg_803d83f3-ee37-433b-9f6e-aa6ddbb87f2b.jpg',\n",
              " '/content/drive/My Drive/ML/CNN_assignment/Skin cancer ISIC The International Skin Imaging Collaboration/Train/basal cell carcinoma/output/basal cell carcinoma_original_ISIC_0026902.jpg_c21322ac-6294-4347-9f20-c1ffe68ecc01.jpg',\n",
              " '/content/drive/My Drive/ML/CNN_assignment/Skin cancer ISIC The International Skin Imaging Collaboration/Train/basal cell carcinoma/output/basal cell carcinoma_original_ISIC_0024787.jpg_f3023712-9375-4a4b-b6fc-e6a079886dc7.jpg',\n",
              " '/content/drive/My Drive/ML/CNN_assignment/Skin cancer ISIC The International Skin Imaging Collaboration/Train/basal cell carcinoma/output/basal cell carcinoma_original_ISIC_0024949.jpg_95f806d7-1482-45bb-a1c5-ecbe78bf245e.jpg',\n",
              " '/content/drive/My Drive/ML/CNN_assignment/Skin cancer ISIC The International Skin Imaging Collaboration/Train/basal cell carcinoma/output/basal cell carcinoma_original_ISIC_0025031.jpg_6556f34b-1ba8-40a6-8840-d8c9e4d92523.jpg',\n",
              " '/content/drive/My Drive/ML/CNN_assignment/Skin cancer ISIC The International Skin Imaging Collaboration/Train/basal cell carcinoma/output/basal cell carcinoma_original_ISIC_0026056.jpg_ba8639b3-b214-4194-9951-c25d29b72656.jpg',\n",
              " '/content/drive/My Drive/ML/CNN_assignment/Skin cancer ISIC The International Skin Imaging Collaboration/Train/basal cell carcinoma/output/basal cell carcinoma_original_ISIC_0031236.jpg_2f5d3455-7889-4573-98a5-cd4acd00573f.jpg',\n",
              " '/content/drive/My Drive/ML/CNN_assignment/Skin cancer ISIC The International Skin Imaging Collaboration/Train/basal cell carcinoma/output/basal cell carcinoma_original_ISIC_0025691.jpg_a11ed036-5f7d-4a48-a8c0-0b096b228c8e.jpg',\n",
              " '/content/drive/My Drive/ML/CNN_assignment/Skin cancer ISIC The International Skin Imaging Collaboration/Train/basal cell carcinoma/output/basal cell carcinoma_original_ISIC_0024897.jpg_a58403ef-f38f-409b-b628-689208edf103.jpg',\n",
              " '/content/drive/My Drive/ML/CNN_assignment/Skin cancer ISIC The International Skin Imaging Collaboration/Train/basal cell carcinoma/output/basal cell carcinoma_original_ISIC_0029331.jpg_f2c86b65-f4ed-476e-901a-1dd867d6873a.jpg',\n",
              " '/content/drive/My Drive/ML/CNN_assignment/Skin cancer ISIC The International Skin Imaging Collaboration/Train/basal cell carcinoma/output/basal cell carcinoma_original_ISIC_0024848.jpg_c1c8528c-6f1c-405b-a5b9-09928c751887.jpg',\n",
              " '/content/drive/My Drive/ML/CNN_assignment/Skin cancer ISIC The International Skin Imaging Collaboration/Train/basal cell carcinoma/output/basal cell carcinoma_original_ISIC_0025301.jpg_9d76d191-b27f-496c-88aa-40dca6ec2ddb.jpg',\n",
              " '/content/drive/My Drive/ML/CNN_assignment/Skin cancer ISIC The International Skin Imaging Collaboration/Train/basal cell carcinoma/output/basal cell carcinoma_original_ISIC_0026118.jpg_2bef9058-c12f-48fb-813a-ae6ada4036c4.jpg',\n",
              " '/content/drive/My Drive/ML/CNN_assignment/Skin cancer ISIC The International Skin Imaging Collaboration/Train/basal cell carcinoma/output/basal cell carcinoma_original_ISIC_0031175.jpg_4243e8c5-0f2d-469b-a48f-edb3fac77827.jpg',\n",
              " '/content/drive/My Drive/ML/CNN_assignment/Skin cancer ISIC The International Skin Imaging Collaboration/Train/basal cell carcinoma/output/basal cell carcinoma_original_ISIC_0025617.jpg_3385047f-70ee-4f08-bb46-31bb2df8f5e4.jpg',\n",
              " '/content/drive/My Drive/ML/CNN_assignment/Skin cancer ISIC The International Skin Imaging Collaboration/Train/basal cell carcinoma/output/basal cell carcinoma_original_ISIC_0029755.jpg_bb3991e8-9859-463a-b79d-6995a3317130.jpg',\n",
              " '/content/drive/My Drive/ML/CNN_assignment/Skin cancer ISIC The International Skin Imaging Collaboration/Train/basal cell carcinoma/output/basal cell carcinoma_original_ISIC_0029263.jpg_6de6ce21-ba5c-4f00-a1a9-3dd0b0da894c.jpg',\n",
              " '/content/drive/My Drive/ML/CNN_assignment/Skin cancer ISIC The International Skin Imaging Collaboration/Train/basal cell carcinoma/output/basal cell carcinoma_original_ISIC_0029020.jpg_a6b40aa1-b2c8-4ed3-be20-04a07424144b.jpg',\n",
              " '/content/drive/My Drive/ML/CNN_assignment/Skin cancer ISIC The International Skin Imaging Collaboration/Train/basal cell carcinoma/output/basal cell carcinoma_original_ISIC_0025102.jpg_4d17e3ea-12b2-4a2e-b450-9f3aec127560.jpg',\n",
              " '/content/drive/My Drive/ML/CNN_assignment/Skin cancer ISIC The International Skin Imaging Collaboration/Train/basal cell carcinoma/output/basal cell carcinoma_original_ISIC_0029680.jpg_b5147a3a-079f-4ee3-8c90-6cbbcc8dc748.jpg',\n",
              " '/content/drive/My Drive/ML/CNN_assignment/Skin cancer ISIC The International Skin Imaging Collaboration/Train/basal cell carcinoma/output/basal cell carcinoma_original_ISIC_0029123.jpg_f8819046-fa37-4ddb-8c98-b3241e516087.jpg',\n",
              " '/content/drive/My Drive/ML/CNN_assignment/Skin cancer ISIC The International Skin Imaging Collaboration/Train/basal cell carcinoma/output/basal cell carcinoma_original_ISIC_0024673.jpg_9f1f6527-fd6c-4d93-a9d4-1c55611cd087.jpg',\n",
              " '/content/drive/My Drive/ML/CNN_assignment/Skin cancer ISIC The International Skin Imaging Collaboration/Train/basal cell carcinoma/output/basal cell carcinoma_original_ISIC_0031063.jpg_5d33b11b-65be-4dbc-98a5-9f2e13d29794.jpg',\n",
              " '/content/drive/My Drive/ML/CNN_assignment/Skin cancer ISIC The International Skin Imaging Collaboration/Train/basal cell carcinoma/output/basal cell carcinoma_original_ISIC_0027058.jpg_d18ada11-4d82-4300-85f0-96237708e917.jpg',\n",
              " '/content/drive/My Drive/ML/CNN_assignment/Skin cancer ISIC The International Skin Imaging Collaboration/Train/basal cell carcinoma/output/basal cell carcinoma_original_ISIC_0025046.jpg_486f7424-445c-4dcc-8738-a2736803380a.jpg',\n",
              " '/content/drive/My Drive/ML/CNN_assignment/Skin cancer ISIC The International Skin Imaging Collaboration/Train/basal cell carcinoma/output/basal cell carcinoma_original_ISIC_0028085.jpg_8e3d4c1e-603e-491c-85e5-8ba2632cc739.jpg',\n",
              " '/content/drive/My Drive/ML/CNN_assignment/Skin cancer ISIC The International Skin Imaging Collaboration/Train/basal cell carcinoma/output/basal cell carcinoma_original_ISIC_0028329.jpg_420254f0-2e66-4a87-af58-5dcc96091df6.jpg',\n",
              " '/content/drive/My Drive/ML/CNN_assignment/Skin cancer ISIC The International Skin Imaging Collaboration/Train/basal cell carcinoma/output/basal cell carcinoma_original_ISIC_0030349.jpg_743e3477-5cc7-4d7e-a324-0dd96c1f3d7c.jpg',\n",
              " '/content/drive/My Drive/ML/CNN_assignment/Skin cancer ISIC The International Skin Imaging Collaboration/Train/basal cell carcinoma/output/basal cell carcinoma_original_ISIC_0030690.jpg_0b85c52b-2bb1-4dd8-9b2f-fc4ca89e46c6.jpg',\n",
              " '/content/drive/My Drive/ML/CNN_assignment/Skin cancer ISIC The International Skin Imaging Collaboration/Train/basal cell carcinoma/output/basal cell carcinoma_original_ISIC_0027788.jpg_0cb9d785-fd5a-4c4d-9114-cc7e4fb3ffaa.jpg',\n",
              " '/content/drive/My Drive/ML/CNN_assignment/Skin cancer ISIC The International Skin Imaging Collaboration/Train/basal cell carcinoma/output/basal cell carcinoma_original_ISIC_0025383.jpg_ebdece9e-bde8-4da4-853a-c09420d5b60b.jpg',\n",
              " '/content/drive/My Drive/ML/CNN_assignment/Skin cancer ISIC The International Skin Imaging Collaboration/Train/basal cell carcinoma/output/basal cell carcinoma_original_ISIC_0029669.jpg_95e6761b-2630-4b05-b140-5053aff9050e.jpg',\n",
              " '/content/drive/My Drive/ML/CNN_assignment/Skin cancer ISIC The International Skin Imaging Collaboration/Train/basal cell carcinoma/output/basal cell carcinoma_original_ISIC_0025260.jpg_4c8e4d1d-b551-4929-9252-0af76d90336c.jpg',\n",
              " '/content/drive/My Drive/ML/CNN_assignment/Skin cancer ISIC The International Skin Imaging Collaboration/Train/basal cell carcinoma/output/basal cell carcinoma_original_ISIC_0028050.jpg_6345c64b-4ea7-43d7-87ce-13d54ee79bc9.jpg',\n",
              " '/content/drive/My Drive/ML/CNN_assignment/Skin cancer ISIC The International Skin Imaging Collaboration/Train/basal cell carcinoma/output/basal cell carcinoma_original_ISIC_0029857.jpg_568dd3c3-7f2a-403c-8252-8788772cd1c4.jpg',\n",
              " '/content/drive/My Drive/ML/CNN_assignment/Skin cancer ISIC The International Skin Imaging Collaboration/Train/basal cell carcinoma/output/basal cell carcinoma_original_ISIC_0026324.jpg_9d2ea65b-5ba9-4f70-847e-bc1a573f1af1.jpg',\n",
              " '/content/drive/My Drive/ML/CNN_assignment/Skin cancer ISIC The International Skin Imaging Collaboration/Train/basal cell carcinoma/output/basal cell carcinoma_original_ISIC_0025301.jpg_b432a0bd-3438-488b-a01e-d79d848d5ed6.jpg',\n",
              " '/content/drive/My Drive/ML/CNN_assignment/Skin cancer ISIC The International Skin Imaging Collaboration/Train/basal cell carcinoma/output/basal cell carcinoma_original_ISIC_0029372.jpg_5d6689cf-5725-448c-937a-a05faa799fcb.jpg',\n",
              " '/content/drive/My Drive/ML/CNN_assignment/Skin cancer ISIC The International Skin Imaging Collaboration/Train/basal cell carcinoma/output/basal cell carcinoma_original_ISIC_0025433.jpg_635f2f8f-2587-46a5-89db-a1b6f1ec07f8.jpg',\n",
              " '/content/drive/My Drive/ML/CNN_assignment/Skin cancer ISIC The International Skin Imaging Collaboration/Train/basal cell carcinoma/output/basal cell carcinoma_original_ISIC_0031245.jpg_4fac304a-9a23-486e-a2f3-5f3dfb533581.jpg',\n",
              " '/content/drive/My Drive/ML/CNN_assignment/Skin cancer ISIC The International Skin Imaging Collaboration/Train/basal cell carcinoma/output/basal cell carcinoma_original_ISIC_0030314.jpg_d9d23949-ad0f-4b95-9c04-050f5cabbc72.jpg',\n",
              " '/content/drive/My Drive/ML/CNN_assignment/Skin cancer ISIC The International Skin Imaging Collaboration/Train/basal cell carcinoma/output/basal cell carcinoma_original_ISIC_0026337.jpg_ed23935d-6600-4aae-b295-74d7a45a9eb3.jpg',\n",
              " '/content/drive/My Drive/ML/CNN_assignment/Skin cancer ISIC The International Skin Imaging Collaboration/Train/basal cell carcinoma/output/basal cell carcinoma_original_ISIC_0026074.jpg_766e376a-59e0-4170-96d4-7e6dddf846ac.jpg',\n",
              " '/content/drive/My Drive/ML/CNN_assignment/Skin cancer ISIC The International Skin Imaging Collaboration/Train/basal cell carcinoma/output/basal cell carcinoma_original_ISIC_0024573.jpg_d2cece32-c581-4290-8041-a14a2f3604bd.jpg',\n",
              " '/content/drive/My Drive/ML/CNN_assignment/Skin cancer ISIC The International Skin Imaging Collaboration/Train/basal cell carcinoma/output/basal cell carcinoma_original_ISIC_0027814.jpg_615a1b57-b480-4c2e-875e-ead17506d996.jpg',\n",
              " '/content/drive/My Drive/ML/CNN_assignment/Skin cancer ISIC The International Skin Imaging Collaboration/Train/basal cell carcinoma/output/basal cell carcinoma_original_ISIC_0025260.jpg_7c01b420-9ee9-44d5-92fd-282633b0ee77.jpg',\n",
              " '/content/drive/My Drive/ML/CNN_assignment/Skin cancer ISIC The International Skin Imaging Collaboration/Train/basal cell carcinoma/output/basal cell carcinoma_original_ISIC_0031175.jpg_fc9efa32-1702-49ce-a611-b3ac93dd5a7f.jpg',\n",
              " '/content/drive/My Drive/ML/CNN_assignment/Skin cancer ISIC The International Skin Imaging Collaboration/Train/basal cell carcinoma/output/basal cell carcinoma_original_ISIC_0028095.jpg_6f60237e-2ee8-4f5a-95ff-113dc81ac2ee.jpg',\n",
              " '/content/drive/My Drive/ML/CNN_assignment/Skin cancer ISIC The International Skin Imaging Collaboration/Train/basal cell carcinoma/output/basal cell carcinoma_original_ISIC_0029545.jpg_d269e7e3-d2d4-4b61-940c-bf3c03d2bb26.jpg',\n",
              " '/content/drive/My Drive/ML/CNN_assignment/Skin cancer ISIC The International Skin Imaging Collaboration/Train/basal cell carcinoma/output/basal cell carcinoma_original_ISIC_0026902.jpg_f7edb412-3808-413e-ba36-5fdf3236354f.jpg',\n",
              " '/content/drive/My Drive/ML/CNN_assignment/Skin cancer ISIC The International Skin Imaging Collaboration/Train/basal cell carcinoma/output/basal cell carcinoma_original_ISIC_0026439.jpg_a7f332a7-5047-4eac-b70b-1cd5c83e4413.jpg',\n",
              " '/content/drive/My Drive/ML/CNN_assignment/Skin cancer ISIC The International Skin Imaging Collaboration/Train/basal cell carcinoma/output/basal cell carcinoma_original_ISIC_0028079.jpg_abb57ce1-dc0e-4405-a274-3226a519db4d.jpg',\n",
              " '/content/drive/My Drive/ML/CNN_assignment/Skin cancer ISIC The International Skin Imaging Collaboration/Train/basal cell carcinoma/output/basal cell carcinoma_original_ISIC_0026337.jpg_84601758-ae5f-4450-bb21-3ff5474acef4.jpg',\n",
              " '/content/drive/My Drive/ML/CNN_assignment/Skin cancer ISIC The International Skin Imaging Collaboration/Train/basal cell carcinoma/output/basal cell carcinoma_original_ISIC_0028937.jpg_c6b30e74-5b33-4a3d-9425-2ca6667e9cc4.jpg',\n",
              " '/content/drive/My Drive/ML/CNN_assignment/Skin cancer ISIC The International Skin Imaging Collaboration/Train/basal cell carcinoma/output/basal cell carcinoma_original_ISIC_0025752.jpg_4e602190-127f-498b-aadc-4ccb1d0fc42a.jpg',\n",
              " '/content/drive/My Drive/ML/CNN_assignment/Skin cancer ISIC The International Skin Imaging Collaboration/Train/basal cell carcinoma/output/basal cell carcinoma_original_ISIC_0026902.jpg_48115765-a03e-452f-ac6f-b359cf40de58.jpg',\n",
              " '/content/drive/My Drive/ML/CNN_assignment/Skin cancer ISIC The International Skin Imaging Collaboration/Train/basal cell carcinoma/output/basal cell carcinoma_original_ISIC_0027545.jpg_4e8cf0ed-32e5-420b-8b5b-f06b264d4438.jpg',\n",
              " '/content/drive/My Drive/ML/CNN_assignment/Skin cancer ISIC The International Skin Imaging Collaboration/Train/basal cell carcinoma/output/basal cell carcinoma_original_ISIC_0027189.jpg_6c09a2ca-2eed-4eef-af8a-481782d899d7.jpg',\n",
              " '/content/drive/My Drive/ML/CNN_assignment/Skin cancer ISIC The International Skin Imaging Collaboration/Train/basal cell carcinoma/output/basal cell carcinoma_original_ISIC_0029779.jpg_221bfd28-9172-4d26-80cf-04ad9bfbd1f0.jpg',\n",
              " '/content/drive/My Drive/ML/CNN_assignment/Skin cancer ISIC The International Skin Imaging Collaboration/Train/basal cell carcinoma/output/basal cell carcinoma_original_ISIC_0029341.jpg_2388f4f2-dd17-455b-8795-2b9c689a7e4c.jpg',\n",
              " '/content/drive/My Drive/ML/CNN_assignment/Skin cancer ISIC The International Skin Imaging Collaboration/Train/basal cell carcinoma/output/basal cell carcinoma_original_ISIC_0028350.jpg_98d3776d-6252-4e14-8a63-25659cdfa220.jpg',\n",
              " '/content/drive/My Drive/ML/CNN_assignment/Skin cancer ISIC The International Skin Imaging Collaboration/Train/basal cell carcinoma/output/basal cell carcinoma_original_ISIC_0026496.jpg_6838d3d8-8a28-4c7b-93ba-313ec66ee00b.jpg',\n",
              " '/content/drive/My Drive/ML/CNN_assignment/Skin cancer ISIC The International Skin Imaging Collaboration/Train/basal cell carcinoma/output/basal cell carcinoma_original_ISIC_0029669.jpg_1c7dec9c-0d7c-4681-9a26-9775a13fd1c0.jpg',\n",
              " '/content/drive/My Drive/ML/CNN_assignment/Skin cancer ISIC The International Skin Imaging Collaboration/Train/basal cell carcinoma/output/basal cell carcinoma_original_ISIC_0031057.jpg_d9ff3cb3-2641-4b5c-b266-a9706515da93.jpg',\n",
              " '/content/drive/My Drive/ML/CNN_assignment/Skin cancer ISIC The International Skin Imaging Collaboration/Train/basal cell carcinoma/output/basal cell carcinoma_original_ISIC_0029501.jpg_7856a0de-a5f5-4a09-8829-d5a02fc241b5.jpg',\n",
              " '/content/drive/My Drive/ML/CNN_assignment/Skin cancer ISIC The International Skin Imaging Collaboration/Train/basal cell carcinoma/output/basal cell carcinoma_original_ISIC_0030181.jpg_9fe84a55-9480-4d2b-b3d3-bf84731ac3f6.jpg',\n",
              " '/content/drive/My Drive/ML/CNN_assignment/Skin cancer ISIC The International Skin Imaging Collaboration/Train/basal cell carcinoma/output/basal cell carcinoma_original_ISIC_0025940.jpg_184d5844-2883-498b-a7c2-96af916dc2a4.jpg',\n",
              " '/content/drive/My Drive/ML/CNN_assignment/Skin cancer ISIC The International Skin Imaging Collaboration/Train/basal cell carcinoma/output/basal cell carcinoma_original_ISIC_0028765.jpg_d980812c-4dbc-48d0-8b63-aaa1b227d90f.jpg',\n",
              " '/content/drive/My Drive/ML/CNN_assignment/Skin cancer ISIC The International Skin Imaging Collaboration/Train/basal cell carcinoma/output/basal cell carcinoma_original_ISIC_0026766.jpg_3b3704e4-3268-4b32-adb2-e8491131ff6d.jpg',\n",
              " '/content/drive/My Drive/ML/CNN_assignment/Skin cancer ISIC The International Skin Imaging Collaboration/Train/basal cell carcinoma/output/basal cell carcinoma_original_ISIC_0031272.jpg_f5b493cb-b846-4f41-8252-cab5f50a941a.jpg',\n",
              " '/content/drive/My Drive/ML/CNN_assignment/Skin cancer ISIC The International Skin Imaging Collaboration/Train/basal cell carcinoma/output/basal cell carcinoma_original_ISIC_0026845.jpg_8a5a6344-e297-4184-bf25-697d30e02d4b.jpg',\n",
              " '/content/drive/My Drive/ML/CNN_assignment/Skin cancer ISIC The International Skin Imaging Collaboration/Train/basal cell carcinoma/output/basal cell carcinoma_original_ISIC_0030181.jpg_312e7812-7c4f-4768-89aa-402c1d7f2057.jpg',\n",
              " '/content/drive/My Drive/ML/CNN_assignment/Skin cancer ISIC The International Skin Imaging Collaboration/Train/basal cell carcinoma/output/basal cell carcinoma_original_ISIC_0026350.jpg_2e14a5a7-673f-4444-aa7c-a34b517151a4.jpg',\n",
              " '/content/drive/My Drive/ML/CNN_assignment/Skin cancer ISIC The International Skin Imaging Collaboration/Train/basal cell carcinoma/output/basal cell carcinoma_original_ISIC_0024595.jpg_44fa0c77-23f2-490c-ad2d-a39cea837287.jpg',\n",
              " '/content/drive/My Drive/ML/CNN_assignment/Skin cancer ISIC The International Skin Imaging Collaboration/Train/basal cell carcinoma/output/basal cell carcinoma_original_ISIC_0025718.jpg_32a2570d-f5c3-48e2-b45f-e43af35586f3.jpg',\n",
              " '/content/drive/My Drive/ML/CNN_assignment/Skin cancer ISIC The International Skin Imaging Collaboration/Train/basal cell carcinoma/output/basal cell carcinoma_original_ISIC_0030335.jpg_8a9dc1c4-04ef-4a8b-987b-48edb73b8d5c.jpg',\n",
              " '/content/drive/My Drive/ML/CNN_assignment/Skin cancer ISIC The International Skin Imaging Collaboration/Train/basal cell carcinoma/output/basal cell carcinoma_original_ISIC_0028677.jpg_abd09839-f663-4ca0-af7e-388686b432b1.jpg',\n",
              " '/content/drive/My Drive/ML/CNN_assignment/Skin cancer ISIC The International Skin Imaging Collaboration/Train/basal cell carcinoma/output/basal cell carcinoma_original_ISIC_0030690.jpg_4f8bc47a-2e17-4be0-b20b-eaf5cb482ff9.jpg',\n",
              " '/content/drive/My Drive/ML/CNN_assignment/Skin cancer ISIC The International Skin Imaging Collaboration/Train/basal cell carcinoma/output/basal cell carcinoma_original_ISIC_0028035.jpg_d520db79-a23c-4839-bacc-3889134f368c.jpg',\n",
              " '/content/drive/My Drive/ML/CNN_assignment/Skin cancer ISIC The International Skin Imaging Collaboration/Train/basal cell carcinoma/output/basal cell carcinoma_original_ISIC_0027425.jpg_3a7a4463-2b29-4ba1-a7ad-cf91796a059a.jpg',\n",
              " '/content/drive/My Drive/ML/CNN_assignment/Skin cancer ISIC The International Skin Imaging Collaboration/Train/basal cell carcinoma/output/basal cell carcinoma_original_ISIC_0029489.jpg_648c6276-aabc-48f1-9ddf-0a995529face.jpg',\n",
              " '/content/drive/My Drive/ML/CNN_assignment/Skin cancer ISIC The International Skin Imaging Collaboration/Train/basal cell carcinoma/output/basal cell carcinoma_original_ISIC_0024632.jpg_c7470d08-c8ea-4d9b-a2fe-bffd60db843b.jpg',\n",
              " '/content/drive/My Drive/ML/CNN_assignment/Skin cancer ISIC The International Skin Imaging Collaboration/Train/basal cell carcinoma/output/basal cell carcinoma_original_ISIC_0026988.jpg_6030a489-5583-46aa-ba45-2aed86b126be.jpg',\n",
              " '/content/drive/My Drive/ML/CNN_assignment/Skin cancer ISIC The International Skin Imaging Collaboration/Train/basal cell carcinoma/output/basal cell carcinoma_original_ISIC_0030403.jpg_61472351-a15a-4ccb-8efd-aab001f4eb38.jpg',\n",
              " '/content/drive/My Drive/ML/CNN_assignment/Skin cancer ISIC The International Skin Imaging Collaboration/Train/basal cell carcinoma/output/basal cell carcinoma_original_ISIC_0031442.jpg_c92391fe-2969-4905-a87e-0e1e218d68ff.jpg',\n",
              " '/content/drive/My Drive/ML/CNN_assignment/Skin cancer ISIC The International Skin Imaging Collaboration/Train/basal cell carcinoma/output/basal cell carcinoma_original_ISIC_0026154.jpg_c4dc29e5-3cc7-4ccd-b96c-7bf4aacd613a.jpg',\n",
              " '/content/drive/My Drive/ML/CNN_assignment/Skin cancer ISIC The International Skin Imaging Collaboration/Train/basal cell carcinoma/output/basal cell carcinoma_original_ISIC_0029856.jpg_dc16c632-9934-4273-a3e7-9602c15cf22a.jpg',\n",
              " '/content/drive/My Drive/ML/CNN_assignment/Skin cancer ISIC The International Skin Imaging Collaboration/Train/basal cell carcinoma/output/basal cell carcinoma_original_ISIC_0025383.jpg_d04bdc83-67c6-4f0c-be6f-737b4cee2ef1.jpg',\n",
              " '/content/drive/My Drive/ML/CNN_assignment/Skin cancer ISIC The International Skin Imaging Collaboration/Train/basal cell carcinoma/output/basal cell carcinoma_original_ISIC_0031095.jpg_3b549634-7455-4caf-a492-30e35a0c4f52.jpg',\n",
              " '/content/drive/My Drive/ML/CNN_assignment/Skin cancer ISIC The International Skin Imaging Collaboration/Train/basal cell carcinoma/output/basal cell carcinoma_original_ISIC_0031407.jpg_f347842a-22db-4672-a740-d1655c98e5e3.jpg',\n",
              " '/content/drive/My Drive/ML/CNN_assignment/Skin cancer ISIC The International Skin Imaging Collaboration/Train/basal cell carcinoma/output/basal cell carcinoma_original_ISIC_0025824.jpg_f63136bd-b6c4-423d-bb34-da0dd464cd90.jpg',\n",
              " '/content/drive/My Drive/ML/CNN_assignment/Skin cancer ISIC The International Skin Imaging Collaboration/Train/basal cell carcinoma/output/basal cell carcinoma_original_ISIC_0026829.jpg_a5e0ff11-dbcf-4380-9038-225e76dda285.jpg',\n",
              " '/content/drive/My Drive/ML/CNN_assignment/Skin cancer ISIC The International Skin Imaging Collaboration/Train/basal cell carcinoma/output/basal cell carcinoma_original_ISIC_0027865.jpg_ec310040-31db-4291-9f51-fe41b6ea8625.jpg',\n",
              " '/content/drive/My Drive/ML/CNN_assignment/Skin cancer ISIC The International Skin Imaging Collaboration/Train/basal cell carcinoma/output/basal cell carcinoma_original_ISIC_0027595.jpg_7f524170-6de5-4cb2-a7aa-46b235ec2bd1.jpg',\n",
              " '/content/drive/My Drive/ML/CNN_assignment/Skin cancer ISIC The International Skin Imaging Collaboration/Train/basal cell carcinoma/output/basal cell carcinoma_original_ISIC_0030893.jpg_270db313-9096-4793-b4d2-2282b89baabd.jpg',\n",
              " '/content/drive/My Drive/ML/CNN_assignment/Skin cancer ISIC The International Skin Imaging Collaboration/Train/basal cell carcinoma/output/basal cell carcinoma_original_ISIC_0025718.jpg_5d96f584-2029-4f58-9da2-f95448f59bb9.jpg',\n",
              " '/content/drive/My Drive/ML/CNN_assignment/Skin cancer ISIC The International Skin Imaging Collaboration/Train/basal cell carcinoma/output/basal cell carcinoma_original_ISIC_0026230.jpg_83927472-1330-4a72-ae98-02ef0489af47.jpg',\n",
              " '/content/drive/My Drive/ML/CNN_assignment/Skin cancer ISIC The International Skin Imaging Collaboration/Train/basal cell carcinoma/output/basal cell carcinoma_original_ISIC_0028989.jpg_49ccfd19-2654-4585-a30c-52aeadfa0b5e.jpg',\n",
              " '/content/drive/My Drive/ML/CNN_assignment/Skin cancer ISIC The International Skin Imaging Collaboration/Train/basal cell carcinoma/output/basal cell carcinoma_original_ISIC_0029917.jpg_95cfc8e8-061e-4fe4-92bd-1f8b29c9b72e.jpg',\n",
              " '/content/drive/My Drive/ML/CNN_assignment/Skin cancer ISIC The International Skin Imaging Collaboration/Train/basal cell carcinoma/output/basal cell carcinoma_original_ISIC_0028583.jpg_3d50bbab-4ea2-4689-aa91-25e4f19f3b47.jpg',\n",
              " '/content/drive/My Drive/ML/CNN_assignment/Skin cancer ISIC The International Skin Imaging Collaboration/Train/basal cell carcinoma/output/basal cell carcinoma_original_ISIC_0028079.jpg_e53c8d8d-2a27-4e6c-993e-694bc5f840cb.jpg',\n",
              " '/content/drive/My Drive/ML/CNN_assignment/Skin cancer ISIC The International Skin Imaging Collaboration/Train/basal cell carcinoma/output/basal cell carcinoma_original_ISIC_0029899.jpg_0b82d261-77e4-41ce-8850-60ba41887215.jpg',\n",
              " '/content/drive/My Drive/ML/CNN_assignment/Skin cancer ISIC The International Skin Imaging Collaboration/Train/basal cell carcinoma/output/basal cell carcinoma_original_ISIC_0027093.jpg_f2fb779d-c52b-4145-a3b0-4c7d3ecadf8b.jpg',\n",
              " '/content/drive/My Drive/ML/CNN_assignment/Skin cancer ISIC The International Skin Imaging Collaboration/Train/basal cell carcinoma/output/basal cell carcinoma_original_ISIC_0027425.jpg_b5047c6d-72a1-48b4-b4b4-c3392cf4e04a.jpg',\n",
              " '/content/drive/My Drive/ML/CNN_assignment/Skin cancer ISIC The International Skin Imaging Collaboration/Train/basal cell carcinoma/output/basal cell carcinoma_original_ISIC_0024550.jpg_f4c2fe9b-c30a-45d6-b9e6-3248bcd02d26.jpg',\n",
              " '/content/drive/My Drive/ML/CNN_assignment/Skin cancer ISIC The International Skin Imaging Collaboration/Train/basal cell carcinoma/output/basal cell carcinoma_original_ISIC_0031520.jpg_26c67030-5370-478d-83a1-827307cbf83c.jpg',\n",
              " '/content/drive/My Drive/ML/CNN_assignment/Skin cancer ISIC The International Skin Imaging Collaboration/Train/basal cell carcinoma/output/basal cell carcinoma_original_ISIC_0031351.jpg_12dc4cee-81f7-4ce4-a0b7-c972eac08bef.jpg',\n",
              " '/content/drive/My Drive/ML/CNN_assignment/Skin cancer ISIC The International Skin Imaging Collaboration/Train/basal cell carcinoma/output/basal cell carcinoma_original_ISIC_0031095.jpg_3592e7b1-9bfc-4eeb-873b-94223d070867.jpg',\n",
              " '/content/drive/My Drive/ML/CNN_assignment/Skin cancer ISIC The International Skin Imaging Collaboration/Train/basal cell carcinoma/output/basal cell carcinoma_original_ISIC_0027337.jpg_33231cbe-c52c-4999-b6ce-2075937a3be2.jpg',\n",
              " '/content/drive/My Drive/ML/CNN_assignment/Skin cancer ISIC The International Skin Imaging Collaboration/Train/basal cell carcinoma/output/basal cell carcinoma_original_ISIC_0027281.jpg_09b33529-cfd5-4098-99ea-7fa87465ab2b.jpg',\n",
              " '/content/drive/My Drive/ML/CNN_assignment/Skin cancer ISIC The International Skin Imaging Collaboration/Train/basal cell carcinoma/output/basal cell carcinoma_original_ISIC_0031450.jpg_67ea2244-7908-47b5-8df7-db15239aa743.jpg',\n",
              " '/content/drive/My Drive/ML/CNN_assignment/Skin cancer ISIC The International Skin Imaging Collaboration/Train/basal cell carcinoma/output/basal cell carcinoma_original_ISIC_0025301.jpg_eee08ad4-608b-4314-ae94-99f92ce77742.jpg',\n",
              " '/content/drive/My Drive/ML/CNN_assignment/Skin cancer ISIC The International Skin Imaging Collaboration/Train/basal cell carcinoma/output/basal cell carcinoma_original_ISIC_0028329.jpg_5d865ad1-9d1b-4001-8773-e0bff3b9ec5e.jpg',\n",
              " '/content/drive/My Drive/ML/CNN_assignment/Skin cancer ISIC The International Skin Imaging Collaboration/Train/basal cell carcinoma/output/basal cell carcinoma_original_ISIC_0027722.jpg_d96e7647-a436-4716-be08-76a33cfb8d30.jpg',\n",
              " '/content/drive/My Drive/ML/CNN_assignment/Skin cancer ISIC The International Skin Imaging Collaboration/Train/basal cell carcinoma/output/basal cell carcinoma_original_ISIC_0029391.jpg_d4af8aab-7b59-49f2-82ad-8b4dd561b706.jpg',\n",
              " '/content/drive/My Drive/ML/CNN_assignment/Skin cancer ISIC The International Skin Imaging Collaboration/Train/basal cell carcinoma/output/basal cell carcinoma_original_ISIC_0030778.jpg_f4f78ccf-78ca-458e-a04e-637a7c7f1739.jpg',\n",
              " '/content/drive/My Drive/ML/CNN_assignment/Skin cancer ISIC The International Skin Imaging Collaboration/Train/basal cell carcinoma/output/basal cell carcinoma_original_ISIC_0028677.jpg_0432fc00-4661-434f-9250-3d62e67786d9.jpg',\n",
              " '/content/drive/My Drive/ML/CNN_assignment/Skin cancer ISIC The International Skin Imaging Collaboration/Train/basal cell carcinoma/output/basal cell carcinoma_original_ISIC_0026117.jpg_fc38052d-44ca-4cca-a1d2-94099f544051.jpg',\n",
              " '/content/drive/My Drive/ML/CNN_assignment/Skin cancer ISIC The International Skin Imaging Collaboration/Train/basal cell carcinoma/output/basal cell carcinoma_original_ISIC_0025793.jpg_6dec843a-6527-4b67-a130-973282b5fd23.jpg',\n",
              " '/content/drive/My Drive/ML/CNN_assignment/Skin cancer ISIC The International Skin Imaging Collaboration/Train/basal cell carcinoma/output/basal cell carcinoma_original_ISIC_0028978.jpg_56ce19c4-19a3-4bfa-a7b1-be144ad1a384.jpg',\n",
              " '/content/drive/My Drive/ML/CNN_assignment/Skin cancer ISIC The International Skin Imaging Collaboration/Train/basal cell carcinoma/output/basal cell carcinoma_original_ISIC_0027281.jpg_fcbaa102-35d8-42f1-a234-0e5af5cc6d26.jpg',\n",
              " '/content/drive/My Drive/ML/CNN_assignment/Skin cancer ISIC The International Skin Imaging Collaboration/Train/basal cell carcinoma/output/basal cell carcinoma_original_ISIC_0024984.jpg_54549788-81ed-45ad-8c43-f115e625d676.jpg',\n",
              " '/content/drive/My Drive/ML/CNN_assignment/Skin cancer ISIC The International Skin Imaging Collaboration/Train/basal cell carcinoma/output/basal cell carcinoma_original_ISIC_0029220.jpg_fc078563-a47c-45b5-908f-3cbb25b11746.jpg',\n",
              " '/content/drive/My Drive/ML/CNN_assignment/Skin cancer ISIC The International Skin Imaging Collaboration/Train/basal cell carcinoma/output/basal cell carcinoma_original_ISIC_0031140.jpg_e52a2f5e-3608-4b44-9ca3-bb1385aff405.jpg',\n",
              " '/content/drive/My Drive/ML/CNN_assignment/Skin cancer ISIC The International Skin Imaging Collaboration/Train/basal cell carcinoma/output/basal cell carcinoma_original_ISIC_0028671.jpg_bfe06d2a-d349-4e52-92c8-df44a50834c6.jpg',\n",
              " '/content/drive/My Drive/ML/CNN_assignment/Skin cancer ISIC The International Skin Imaging Collaboration/Train/basal cell carcinoma/output/basal cell carcinoma_original_ISIC_0027117.jpg_ad176f65-c7d9-4b8e-b854-9fa6ad046c43.jpg',\n",
              " '/content/drive/My Drive/ML/CNN_assignment/Skin cancer ISIC The International Skin Imaging Collaboration/Train/basal cell carcinoma/output/basal cell carcinoma_original_ISIC_0031175.jpg_38605383-51ae-408c-bf38-13f8a2df7861.jpg',\n",
              " '/content/drive/My Drive/ML/CNN_assignment/Skin cancer ISIC The International Skin Imaging Collaboration/Train/basal cell carcinoma/output/basal cell carcinoma_original_ISIC_0027058.jpg_f43bcf65-e7cb-42f7-bb95-71659c639899.jpg',\n",
              " '/content/drive/My Drive/ML/CNN_assignment/Skin cancer ISIC The International Skin Imaging Collaboration/Train/basal cell carcinoma/output/basal cell carcinoma_original_ISIC_0031489.jpg_42e4d2a5-dce1-4caf-b734-5862f739285e.jpg',\n",
              " '/content/drive/My Drive/ML/CNN_assignment/Skin cancer ISIC The International Skin Imaging Collaboration/Train/basal cell carcinoma/output/basal cell carcinoma_original_ISIC_0028350.jpg_bd9ed4c7-95ca-4624-a741-25958566a592.jpg',\n",
              " '/content/drive/My Drive/ML/CNN_assignment/Skin cancer ISIC The International Skin Imaging Collaboration/Train/basal cell carcinoma/output/basal cell carcinoma_original_ISIC_0028095.jpg_158b68c1-0a27-48f5-9a12-9cc5d6ff7dbb.jpg',\n",
              " '/content/drive/My Drive/ML/CNN_assignment/Skin cancer ISIC The International Skin Imaging Collaboration/Train/basal cell carcinoma/output/basal cell carcinoma_original_ISIC_0030746.jpg_c7ca1a9f-e1a0-45ba-be19-8ff752d75838.jpg',\n",
              " '/content/drive/My Drive/ML/CNN_assignment/Skin cancer ISIC The International Skin Imaging Collaboration/Train/basal cell carcinoma/output/basal cell carcinoma_original_ISIC_0025102.jpg_f9ba7161-0c4a-47e6-8bad-b005e5eaacbb.jpg',\n",
              " '/content/drive/My Drive/ML/CNN_assignment/Skin cancer ISIC The International Skin Imaging Collaboration/Train/basal cell carcinoma/output/basal cell carcinoma_original_ISIC_0028973.jpg_32afc8ee-801a-4346-9e78-555810d318e3.jpg',\n",
              " '/content/drive/My Drive/ML/CNN_assignment/Skin cancer ISIC The International Skin Imaging Collaboration/Train/basal cell carcinoma/output/basal cell carcinoma_original_ISIC_0028197.jpg_d63a45f7-10f2-4356-9c7e-1e07d5c6e543.jpg',\n",
              " '/content/drive/My Drive/ML/CNN_assignment/Skin cancer ISIC The International Skin Imaging Collaboration/Train/basal cell carcinoma/output/basal cell carcinoma_original_ISIC_0025752.jpg_675c60be-15be-4864-a130-ebebad1fecf7.jpg',\n",
              " '/content/drive/My Drive/ML/CNN_assignment/Skin cancer ISIC The International Skin Imaging Collaboration/Train/basal cell carcinoma/output/basal cell carcinoma_original_ISIC_0029331.jpg_a5f8da09-a64f-4f57-9117-ba2f38410087.jpg',\n",
              " '/content/drive/My Drive/ML/CNN_assignment/Skin cancer ISIC The International Skin Imaging Collaboration/Train/basal cell carcinoma/output/basal cell carcinoma_original_ISIC_0029489.jpg_ea4b9282-377f-4175-8e7f-d405be7025fb.jpg',\n",
              " '/content/drive/My Drive/ML/CNN_assignment/Skin cancer ISIC The International Skin Imaging Collaboration/Train/basal cell carcinoma/output/basal cell carcinoma_original_ISIC_0024897.jpg_d1cefd0b-82b1-4e38-9ccf-6b639b8c3a9d.jpg',\n",
              " '/content/drive/My Drive/ML/CNN_assignment/Skin cancer ISIC The International Skin Imaging Collaboration/Train/basal cell carcinoma/output/basal cell carcinoma_original_ISIC_0026798.jpg_10188c7e-0ad3-427f-853c-3386788784ff.jpg',\n",
              " '/content/drive/My Drive/ML/CNN_assignment/Skin cancer ISIC The International Skin Imaging Collaboration/Train/basal cell carcinoma/output/basal cell carcinoma_original_ISIC_0030755.jpg_33c28582-d12f-491e-b130-b7f14129739e.jpg',\n",
              " '/content/drive/My Drive/ML/CNN_assignment/Skin cancer ISIC The International Skin Imaging Collaboration/Train/basal cell carcinoma/output/basal cell carcinoma_original_ISIC_0028050.jpg_2ba44eb7-055d-4e4a-840c-26319f0a629a.jpg',\n",
              " '/content/drive/My Drive/ML/CNN_assignment/Skin cancer ISIC The International Skin Imaging Collaboration/Train/basal cell carcinoma/output/basal cell carcinoma_original_ISIC_0027058.jpg_112a179f-0a5f-48ef-bb38-db55d5fb9264.jpg',\n",
              " '/content/drive/My Drive/ML/CNN_assignment/Skin cancer ISIC The International Skin Imaging Collaboration/Train/basal cell carcinoma/output/basal cell carcinoma_original_ISIC_0028556.jpg_d666879a-f86a-4ff2-87fa-52bd37f8f481.jpg',\n",
              " '/content/drive/My Drive/ML/CNN_assignment/Skin cancer ISIC The International Skin Imaging Collaboration/Train/basal cell carcinoma/output/basal cell carcinoma_original_ISIC_0025509.jpg_81f445c0-ca8a-44e8-b992-1c829313d945.jpg',\n",
              " '/content/drive/My Drive/ML/CNN_assignment/Skin cancer ISIC The International Skin Imaging Collaboration/Train/basal cell carcinoma/output/basal cell carcinoma_original_ISIC_0024595.jpg_2aa80f4e-7906-488c-9427-49ed1f35600c.jpg',\n",
              " '/content/drive/My Drive/ML/CNN_assignment/Skin cancer ISIC The International Skin Imaging Collaboration/Train/basal cell carcinoma/output/basal cell carcinoma_original_ISIC_0024833.jpg_838f7a88-084e-4c9c-9324-2a2fb39fd910.jpg',\n",
              " '/content/drive/My Drive/ML/CNN_assignment/Skin cancer ISIC The International Skin Imaging Collaboration/Train/basal cell carcinoma/output/basal cell carcinoma_original_ISIC_0028316.jpg_48bc38b2-5c71-4fe0-8f69-c43350fb0f36.jpg',\n",
              " '/content/drive/My Drive/ML/CNN_assignment/Skin cancer ISIC The International Skin Imaging Collaboration/Train/basal cell carcinoma/output/basal cell carcinoma_original_ISIC_0026192.jpg_7f87a081-dea8-4c35-866d-f0f92ab313b2.jpg',\n",
              " '/content/drive/My Drive/ML/CNN_assignment/Skin cancer ISIC The International Skin Imaging Collaboration/Train/basal cell carcinoma/output/basal cell carcinoma_original_ISIC_0027858.jpg_e867e49a-f926-4891-ad71-c123c6b4e21c.jpg',\n",
              " '/content/drive/My Drive/ML/CNN_assignment/Skin cancer ISIC The International Skin Imaging Collaboration/Train/basal cell carcinoma/output/basal cell carcinoma_original_ISIC_0025752.jpg_9e780c15-b3c0-4fca-95bd-12748fe3ee44.jpg',\n",
              " '/content/drive/My Drive/ML/CNN_assignment/Skin cancer ISIC The International Skin Imaging Collaboration/Train/basal cell carcinoma/output/basal cell carcinoma_original_ISIC_0031057.jpg_be213abf-e077-469a-9bfa-ecabdb796d67.jpg',\n",
              " '/content/drive/My Drive/ML/CNN_assignment/Skin cancer ISIC The International Skin Imaging Collaboration/Train/basal cell carcinoma/output/basal cell carcinoma_original_ISIC_0027858.jpg_52842c2c-69f6-45fe-8c25-11df219aa472.jpg',\n",
              " '/content/drive/My Drive/ML/CNN_assignment/Skin cancer ISIC The International Skin Imaging Collaboration/Train/basal cell carcinoma/output/basal cell carcinoma_original_ISIC_0028739.jpg_3966e7d3-6def-4a77-83a4-c747355bd4d6.jpg',\n",
              " '/content/drive/My Drive/ML/CNN_assignment/Skin cancer ISIC The International Skin Imaging Collaboration/Train/basal cell carcinoma/output/basal cell carcinoma_original_ISIC_0029342.jpg_c49a27cd-612f-4103-ba63-fa5ec935f98a.jpg',\n",
              " '/content/drive/My Drive/ML/CNN_assignment/Skin cancer ISIC The International Skin Imaging Collaboration/Train/basal cell carcinoma/output/basal cell carcinoma_original_ISIC_0026968.jpg_e0eb074a-1a06-4df2-99b6-1867ca13ec9c.jpg',\n",
              " '/content/drive/My Drive/ML/CNN_assignment/Skin cancer ISIC The International Skin Imaging Collaboration/Train/basal cell carcinoma/output/basal cell carcinoma_original_ISIC_0030094.jpg_e3f05571-4b97-4e94-9960-ddc83c978084.jpg',\n",
              " '/content/drive/My Drive/ML/CNN_assignment/Skin cancer ISIC The International Skin Imaging Collaboration/Train/basal cell carcinoma/output/basal cell carcinoma_original_ISIC_0030659.jpg_b97b3b38-0162-40a6-9692-5957e808bb44.jpg',\n",
              " '/content/drive/My Drive/ML/CNN_assignment/Skin cancer ISIC The International Skin Imaging Collaboration/Train/basal cell carcinoma/output/basal cell carcinoma_original_ISIC_0029917.jpg_ecac27ac-4b9f-4eac-bdd0-f4db89f03b2a.jpg',\n",
              " '/content/drive/My Drive/ML/CNN_assignment/Skin cancer ISIC The International Skin Imaging Collaboration/Train/basal cell carcinoma/output/basal cell carcinoma_original_ISIC_0028980.jpg_1aac6eb5-c161-4858-9cd6-624ef71c5699.jpg',\n",
              " '/content/drive/My Drive/ML/CNN_assignment/Skin cancer ISIC The International Skin Imaging Collaboration/Train/basal cell carcinoma/output/basal cell carcinoma_original_ISIC_0026831.jpg_ca6c4df4-e5cd-4ac8-a103-c6f3987426d6.jpg',\n",
              " '/content/drive/My Drive/ML/CNN_assignment/Skin cancer ISIC The International Skin Imaging Collaboration/Train/basal cell carcinoma/output/basal cell carcinoma_original_ISIC_0031413.jpg_ccd7c90c-8a6d-4d78-be0a-49a74f6f846a.jpg',\n",
              " '/content/drive/My Drive/ML/CNN_assignment/Skin cancer ISIC The International Skin Imaging Collaboration/Train/basal cell carcinoma/output/basal cell carcinoma_original_ISIC_0027531.jpg_8e564067-d0e8-45bc-a71d-1f512636095a.jpg',\n",
              " '/content/drive/My Drive/ML/CNN_assignment/Skin cancer ISIC The International Skin Imaging Collaboration/Train/basal cell carcinoma/output/basal cell carcinoma_original_ISIC_0027057.jpg_3c059987-9d24-42bb-8170-4be9c3e688eb.jpg',\n",
              " '/content/drive/My Drive/ML/CNN_assignment/Skin cancer ISIC The International Skin Imaging Collaboration/Train/basal cell carcinoma/output/basal cell carcinoma_original_ISIC_0024632.jpg_a9c19690-8bac-49ca-a444-28797332bf4b.jpg',\n",
              " '/content/drive/My Drive/ML/CNN_assignment/Skin cancer ISIC The International Skin Imaging Collaboration/Train/basal cell carcinoma/output/basal cell carcinoma_original_ISIC_0028728.jpg_34582a90-393f-4e42-a805-2215ca7ac2ce.jpg',\n",
              " '/content/drive/My Drive/ML/CNN_assignment/Skin cancer ISIC The International Skin Imaging Collaboration/Train/basal cell carcinoma/output/basal cell carcinoma_original_ISIC_0027858.jpg_6d8e8f94-6b94-4a60-b04c-1205d0b92367.jpg',\n",
              " '/content/drive/My Drive/ML/CNN_assignment/Skin cancer ISIC The International Skin Imaging Collaboration/Train/basal cell carcinoma/output/basal cell carcinoma_original_ISIC_0027291.jpg_0c3bb0e4-8a81-4527-ae44-be4c01aab895.jpg',\n",
              " '/content/drive/My Drive/ML/CNN_assignment/Skin cancer ISIC The International Skin Imaging Collaboration/Train/basal cell carcinoma/output/basal cell carcinoma_original_ISIC_0029372.jpg_7c6773f3-d42e-454a-a29f-bc13cbdeef4c.jpg',\n",
              " '/content/drive/My Drive/ML/CNN_assignment/Skin cancer ISIC The International Skin Imaging Collaboration/Train/basal cell carcinoma/output/basal cell carcinoma_original_ISIC_0029831.jpg_958b368c-eb9b-4e7b-90b2-6dbf6bd9a580.jpg',\n",
              " '/content/drive/My Drive/ML/CNN_assignment/Skin cancer ISIC The International Skin Imaging Collaboration/Train/basal cell carcinoma/output/basal cell carcinoma_original_ISIC_0029020.jpg_941aefac-68ef-446f-8ee3-76a17cb47455.jpg',\n",
              " '/content/drive/My Drive/ML/CNN_assignment/Skin cancer ISIC The International Skin Imaging Collaboration/Train/basal cell carcinoma/output/basal cell carcinoma_original_ISIC_0030755.jpg_55ae48c7-2787-417d-93be-c70b8008c415.jpg',\n",
              " '/content/drive/My Drive/ML/CNN_assignment/Skin cancer ISIC The International Skin Imaging Collaboration/Train/basal cell carcinoma/output/basal cell carcinoma_original_ISIC_0027677.jpg_037927ca-397a-4071-bc41-58216eccb084.jpg',\n",
              " '/content/drive/My Drive/ML/CNN_assignment/Skin cancer ISIC The International Skin Imaging Collaboration/Train/basal cell carcinoma/output/basal cell carcinoma_original_ISIC_0027337.jpg_175578ef-6c51-4344-b8e8-15d168c771b4.jpg',\n",
              " '/content/drive/My Drive/ML/CNN_assignment/Skin cancer ISIC The International Skin Imaging Collaboration/Train/basal cell carcinoma/output/basal cell carcinoma_original_ISIC_0031272.jpg_79e5a8c2-6896-456d-8839-c27937ac2fe3.jpg',\n",
              " '/content/drive/My Drive/ML/CNN_assignment/Skin cancer ISIC The International Skin Imaging Collaboration/Train/basal cell carcinoma/output/basal cell carcinoma_original_ISIC_0029083.jpg_823b7379-9d3e-4375-9922-6f23311532d7.jpg',\n",
              " '/content/drive/My Drive/ML/CNN_assignment/Skin cancer ISIC The International Skin Imaging Collaboration/Train/basal cell carcinoma/output/basal cell carcinoma_original_ISIC_0029644.jpg_09e4488c-85aa-4986-b1fa-b81211bf1f76.jpg',\n",
              " '/content/drive/My Drive/ML/CNN_assignment/Skin cancer ISIC The International Skin Imaging Collaboration/Train/basal cell carcinoma/output/basal cell carcinoma_original_ISIC_0030767.jpg_498f54f9-2c08-408d-8fd6-206b7d96c145.jpg',\n",
              " '/content/drive/My Drive/ML/CNN_assignment/Skin cancer ISIC The International Skin Imaging Collaboration/Train/basal cell carcinoma/output/basal cell carcinoma_original_ISIC_0028050.jpg_66cd28c4-d5fa-4a18-9ce3-4589af5a1c58.jpg',\n",
              " '/content/drive/My Drive/ML/CNN_assignment/Skin cancer ISIC The International Skin Imaging Collaboration/Train/basal cell carcinoma/output/basal cell carcinoma_original_ISIC_0024666.jpg_ff68075c-078c-4408-b43b-22d60fffe582.jpg',\n",
              " '/content/drive/My Drive/ML/CNN_assignment/Skin cancer ISIC The International Skin Imaging Collaboration/Train/basal cell carcinoma/output/basal cell carcinoma_original_ISIC_0029372.jpg_ee0dd3d1-5c2e-420e-9085-af745af11191.jpg',\n",
              " '/content/drive/My Drive/ML/CNN_assignment/Skin cancer ISIC The International Skin Imaging Collaboration/Train/basal cell carcinoma/output/basal cell carcinoma_original_ISIC_0027297.jpg_6933a509-912f-4cb6-a3a6-1fdaaba0cce5.jpg',\n",
              " '/content/drive/My Drive/ML/CNN_assignment/Skin cancer ISIC The International Skin Imaging Collaboration/Train/basal cell carcinoma/output/basal cell carcinoma_original_ISIC_0029951.jpg_1c36db10-98be-4420-90e0-e5adb923c400.jpg',\n",
              " '/content/drive/My Drive/ML/CNN_assignment/Skin cancer ISIC The International Skin Imaging Collaboration/Train/basal cell carcinoma/output/basal cell carcinoma_original_ISIC_0028457.jpg_d3156e2e-daf5-43e7-a933-abddb266c1f3.jpg',\n",
              " '/content/drive/My Drive/ML/CNN_assignment/Skin cancer ISIC The International Skin Imaging Collaboration/Train/basal cell carcinoma/output/basal cell carcinoma_original_ISIC_0029820.jpg_4228f4dc-3cc8-4288-8142-b63ab31f017a.jpg',\n",
              " '/content/drive/My Drive/ML/CNN_assignment/Skin cancer ISIC The International Skin Imaging Collaboration/Train/basal cell carcinoma/output/basal cell carcinoma_original_ISIC_0026855.jpg_cb92722d-043d-490b-8f0d-6fd9626ceaba.jpg',\n",
              " '/content/drive/My Drive/ML/CNN_assignment/Skin cancer ISIC The International Skin Imaging Collaboration/Train/basal cell carcinoma/output/basal cell carcinoma_original_ISIC_0029602.jpg_4e395b76-938e-4f9c-a78d-b7d07318a7b1.jpg',\n",
              " '/content/drive/My Drive/ML/CNN_assignment/Skin cancer ISIC The International Skin Imaging Collaboration/Train/basal cell carcinoma/output/basal cell carcinoma_original_ISIC_0026154.jpg_73b1f214-719e-4525-a705-8aa15f739a33.jpg',\n",
              " '/content/drive/My Drive/ML/CNN_assignment/Skin cancer ISIC The International Skin Imaging Collaboration/Train/basal cell carcinoma/output/basal cell carcinoma_original_ISIC_0024795.jpg_054d61d5-ec0b-40dd-8d7f-c09e8dec4868.jpg',\n",
              " '/content/drive/My Drive/ML/CNN_assignment/Skin cancer ISIC The International Skin Imaging Collaboration/Train/basal cell carcinoma/output/basal cell carcinoma_original_ISIC_0030145.jpg_ffbc32f6-77fe-462b-aafe-61898ddbbb93.jpg',\n",
              " '/content/drive/My Drive/ML/CNN_assignment/Skin cancer ISIC The International Skin Imaging Collaboration/Train/basal cell carcinoma/output/basal cell carcinoma_original_ISIC_0028329.jpg_91c9c329-1bec-4a91-a614-4377d315bf38.jpg',\n",
              " '/content/drive/My Drive/ML/CNN_assignment/Skin cancer ISIC The International Skin Imaging Collaboration/Train/basal cell carcinoma/output/basal cell carcinoma_original_ISIC_0027425.jpg_5b0fddb7-3697-43f4-94e0-69de8e9667b2.jpg',\n",
              " '/content/drive/My Drive/ML/CNN_assignment/Skin cancer ISIC The International Skin Imaging Collaboration/Train/basal cell carcinoma/output/basal cell carcinoma_original_ISIC_0030177.jpg_8641b974-1732-4194-87f4-b89392fae699.jpg',\n",
              " '/content/drive/My Drive/ML/CNN_assignment/Skin cancer ISIC The International Skin Imaging Collaboration/Train/basal cell carcinoma/output/basal cell carcinoma_original_ISIC_0025940.jpg_0afc0a04-03ef-4550-af56-c091ba4aa5e6.jpg',\n",
              " '/content/drive/My Drive/ML/CNN_assignment/Skin cancer ISIC The International Skin Imaging Collaboration/Train/basal cell carcinoma/output/basal cell carcinoma_original_ISIC_0028238.jpg_5fe95b4f-4a50-405f-8c42-89956997a334.jpg',\n",
              " '/content/drive/My Drive/ML/CNN_assignment/Skin cancer ISIC The International Skin Imaging Collaboration/Train/basal cell carcinoma/output/basal cell carcinoma_original_ISIC_0030511.jpg_4a5ec91d-d3a5-4fb9-a2f3-68993a719edb.jpg',\n",
              " '/content/drive/My Drive/ML/CNN_assignment/Skin cancer ISIC The International Skin Imaging Collaboration/Train/basal cell carcinoma/output/basal cell carcinoma_original_ISIC_0027371.jpg_b72dd2e6-1b9b-4b5a-9043-70b56be918a0.jpg',\n",
              " '/content/drive/My Drive/ML/CNN_assignment/Skin cancer ISIC The International Skin Imaging Collaboration/Train/basal cell carcinoma/output/basal cell carcinoma_original_ISIC_0026970.jpg_8f7301e2-c9e1-4bca-8e1d-5dd685384003.jpg',\n",
              " '/content/drive/My Drive/ML/CNN_assignment/Skin cancer ISIC The International Skin Imaging Collaboration/Train/basal cell carcinoma/output/basal cell carcinoma_original_ISIC_0025266.jpg_bc724201-08b5-4529-abf6-c4ed019e7086.jpg',\n",
              " '/content/drive/My Drive/ML/CNN_assignment/Skin cancer ISIC The International Skin Imaging Collaboration/Train/basal cell carcinoma/output/basal cell carcinoma_original_ISIC_0029647.jpg_d521d2e2-d4bb-4c51-800b-22ffb6a862aa.jpg',\n",
              " '/content/drive/My Drive/ML/CNN_assignment/Skin cancer ISIC The International Skin Imaging Collaboration/Train/basal cell carcinoma/output/basal cell carcinoma_original_ISIC_0030010.jpg_ba514d6d-7c8f-486a-8561-b20acc427bdb.jpg',\n",
              " '/content/drive/My Drive/ML/CNN_assignment/Skin cancer ISIC The International Skin Imaging Collaboration/Train/basal cell carcinoma/output/basal cell carcinoma_original_ISIC_0024504.jpg_a715a96e-e838-4828-8d38-c0b730a64563.jpg',\n",
              " '/content/drive/My Drive/ML/CNN_assignment/Skin cancer ISIC The International Skin Imaging Collaboration/Train/basal cell carcinoma/output/basal cell carcinoma_original_ISIC_0026496.jpg_3f213272-967e-4a75-b95b-ea1229d0aa08.jpg',\n",
              " '/content/drive/My Drive/ML/CNN_assignment/Skin cancer ISIC The International Skin Imaging Collaboration/Train/basal cell carcinoma/output/basal cell carcinoma_original_ISIC_0029489.jpg_6fabce2f-4e4f-4cdf-9bc9-9abb947c7243.jpg',\n",
              " '/content/drive/My Drive/ML/CNN_assignment/Skin cancer ISIC The International Skin Imaging Collaboration/Train/basal cell carcinoma/output/basal cell carcinoma_original_ISIC_0025046.jpg_1980188e-146e-4e5c-a949-a5d73c027f8e.jpg',\n",
              " '/content/drive/My Drive/ML/CNN_assignment/Skin cancer ISIC The International Skin Imaging Collaboration/Train/basal cell carcinoma/output/basal cell carcinoma_original_ISIC_0029342.jpg_f45002f8-649b-459d-890c-22e377a5f17a.jpg',\n",
              " '/content/drive/My Drive/ML/CNN_assignment/Skin cancer ISIC The International Skin Imaging Collaboration/Train/basal cell carcinoma/output/basal cell carcinoma_original_ISIC_0025731.jpg_ea57a4f4-cdb5-4356-b00b-781540d07eb7.jpg',\n",
              " '/content/drive/My Drive/ML/CNN_assignment/Skin cancer ISIC The International Skin Imaging Collaboration/Train/basal cell carcinoma/output/basal cell carcinoma_original_ISIC_0030964.jpg_1cacf0f6-6214-4c1b-9992-fea7dbce1418.jpg',\n",
              " '/content/drive/My Drive/ML/CNN_assignment/Skin cancer ISIC The International Skin Imaging Collaboration/Train/basal cell carcinoma/output/basal cell carcinoma_original_ISIC_0028937.jpg_e818d7f8-da45-4ed0-8806-51710caeae34.jpg',\n",
              " '/content/drive/My Drive/ML/CNN_assignment/Skin cancer ISIC The International Skin Imaging Collaboration/Train/basal cell carcinoma/output/basal cell carcinoma_original_ISIC_0027229.jpg_1292c2be-b21c-42d4-b39a-10553e206e23.jpg',\n",
              " '/content/drive/My Drive/ML/CNN_assignment/Skin cancer ISIC The International Skin Imaging Collaboration/Train/basal cell carcinoma/output/basal cell carcinoma_original_ISIC_0026687.jpg_d8d13235-e716-40d9-af52-836c526317ed.jpg',\n",
              " '/content/drive/My Drive/ML/CNN_assignment/Skin cancer ISIC The International Skin Imaging Collaboration/Train/basal cell carcinoma/output/basal cell carcinoma_original_ISIC_0027601.jpg_c2eb77fd-0c97-4ffb-b710-334c3491b174.jpg',\n",
              " '/content/drive/My Drive/ML/CNN_assignment/Skin cancer ISIC The International Skin Imaging Collaboration/Train/basal cell carcinoma/output/basal cell carcinoma_original_ISIC_0029847.jpg_d8230817-97d2-46d5-b24f-c7dab0eff454.jpg',\n",
              " '/content/drive/My Drive/ML/CNN_assignment/Skin cancer ISIC The International Skin Imaging Collaboration/Train/basal cell carcinoma/output/basal cell carcinoma_original_ISIC_0026988.jpg_700f6605-98b6-4ee8-8fe4-97b9e96b5107.jpg',\n",
              " '/content/drive/My Drive/ML/CNN_assignment/Skin cancer ISIC The International Skin Imaging Collaboration/Train/basal cell carcinoma/output/basal cell carcinoma_original_ISIC_0027371.jpg_07700b9c-5436-436f-9b6b-5e23d507fc15.jpg',\n",
              " '/content/drive/My Drive/ML/CNN_assignment/Skin cancer ISIC The International Skin Imaging Collaboration/Train/basal cell carcinoma/output/basal cell carcinoma_original_ISIC_0026829.jpg_a74639db-f638-4644-a2d5-d1789b99f45b.jpg',\n",
              " '/content/drive/My Drive/ML/CNN_assignment/Skin cancer ISIC The International Skin Imaging Collaboration/Train/basal cell carcinoma/output/basal cell carcinoma_original_ISIC_0028728.jpg_8f074915-ef2d-4336-87b9-a335cbe53228.jpg',\n",
              " '/content/drive/My Drive/ML/CNN_assignment/Skin cancer ISIC The International Skin Imaging Collaboration/Train/basal cell carcinoma/output/basal cell carcinoma_original_ISIC_0030010.jpg_32b71365-9c27-40f9-a302-ca90fca5d93f.jpg',\n",
              " '/content/drive/My Drive/ML/CNN_assignment/Skin cancer ISIC The International Skin Imaging Collaboration/Train/basal cell carcinoma/output/basal cell carcinoma_original_ISIC_0025824.jpg_3b147661-ee87-46fe-9d28-a0dbebbbaadb.jpg',\n",
              " '/content/drive/My Drive/ML/CNN_assignment/Skin cancer ISIC The International Skin Imaging Collaboration/Train/basal cell carcinoma/output/basal cell carcinoma_original_ISIC_0029020.jpg_e90b2bcb-172c-493c-807d-0314e4bef606.jpg',\n",
              " '/content/drive/My Drive/ML/CNN_assignment/Skin cancer ISIC The International Skin Imaging Collaboration/Train/basal cell carcinoma/output/basal cell carcinoma_original_ISIC_0025971.jpg_3d41ff47-6354-4a99-aebd-377b65f317a7.jpg',\n",
              " '/content/drive/My Drive/ML/CNN_assignment/Skin cancer ISIC The International Skin Imaging Collaboration/Train/basal cell carcinoma/output/basal cell carcinoma_original_ISIC_0026855.jpg_a36eb36e-3245-45e0-b9d3-ee3878eb061c.jpg',\n",
              " '/content/drive/My Drive/ML/CNN_assignment/Skin cancer ISIC The International Skin Imaging Collaboration/Train/basal cell carcinoma/output/basal cell carcinoma_original_ISIC_0025752.jpg_4f34afa2-36fd-4e35-a79b-3fa48d200544.jpg',\n",
              " '/content/drive/My Drive/ML/CNN_assignment/Skin cancer ISIC The International Skin Imaging Collaboration/Train/basal cell carcinoma/output/basal cell carcinoma_original_ISIC_0031450.jpg_d18380da-d0e6-4cc8-8cec-f73f7786c00f.jpg',\n",
              " '/content/drive/My Drive/ML/CNN_assignment/Skin cancer ISIC The International Skin Imaging Collaboration/Train/basal cell carcinoma/output/basal cell carcinoma_original_ISIC_0028570.jpg_6c2261f0-2b11-4bf8-9c86-afb2c00ccced.jpg',\n",
              " '/content/drive/My Drive/ML/CNN_assignment/Skin cancer ISIC The International Skin Imaging Collaboration/Train/basal cell carcinoma/output/basal cell carcinoma_original_ISIC_0026798.jpg_a138d98a-59bc-464b-a111-c1709250fbd6.jpg',\n",
              " '/content/drive/My Drive/ML/CNN_assignment/Skin cancer ISIC The International Skin Imaging Collaboration/Train/basal cell carcinoma/output/basal cell carcinoma_original_ISIC_0029899.jpg_db24ef18-1891-4113-8659-717f2c0777ec.jpg',\n",
              " '/content/drive/My Drive/ML/CNN_assignment/Skin cancer ISIC The International Skin Imaging Collaboration/Train/basal cell carcinoma/output/basal cell carcinoma_original_ISIC_0024582.jpg_3c643d2c-d876-4311-af45-d2b9e86f0c6b.jpg',\n",
              " '/content/drive/My Drive/ML/CNN_assignment/Skin cancer ISIC The International Skin Imaging Collaboration/Train/basal cell carcinoma/output/basal cell carcinoma_original_ISIC_0031520.jpg_ab7e2644-0309-4c48-9574-dffafa1aa3e3.jpg',\n",
              " '/content/drive/My Drive/ML/CNN_assignment/Skin cancer ISIC The International Skin Imaging Collaboration/Train/basal cell carcinoma/output/basal cell carcinoma_original_ISIC_0026798.jpg_78fe10a5-11e5-4ad4-8201-7e9708365d00.jpg',\n",
              " '/content/drive/My Drive/ML/CNN_assignment/Skin cancer ISIC The International Skin Imaging Collaboration/Train/basal cell carcinoma/output/basal cell carcinoma_original_ISIC_0026230.jpg_885e62ef-0207-4692-8896-fde8c35dc399.jpg',\n",
              " '/content/drive/My Drive/ML/CNN_assignment/Skin cancer ISIC The International Skin Imaging Collaboration/Train/basal cell carcinoma/output/basal cell carcinoma_original_ISIC_0028728.jpg_c92f0bb9-8aea-4f67-b3e1-d63fd364777e.jpg',\n",
              " '/content/drive/My Drive/ML/CNN_assignment/Skin cancer ISIC The International Skin Imaging Collaboration/Train/basal cell carcinoma/output/basal cell carcinoma_original_ISIC_0026090.jpg_d14fac77-1eb8-4ccd-8662-3ca6b34c8ff1.jpg',\n",
              " '/content/drive/My Drive/ML/CNN_assignment/Skin cancer ISIC The International Skin Imaging Collaboration/Train/basal cell carcinoma/output/basal cell carcinoma_original_ISIC_0026643.jpg_222a42bd-2b21-41a3-98b7-c47611ad41b7.jpg',\n",
              " '/content/drive/My Drive/ML/CNN_assignment/Skin cancer ISIC The International Skin Imaging Collaboration/Train/basal cell carcinoma/output/basal cell carcinoma_original_ISIC_0027473.jpg_c49c7758-71c4-4bd1-82b8-e55746715c48.jpg',\n",
              " '/content/drive/My Drive/ML/CNN_assignment/Skin cancer ISIC The International Skin Imaging Collaboration/Train/basal cell carcinoma/output/basal cell carcinoma_original_ISIC_0030712.jpg_24abeaaa-9311-4e42-b2ef-fbbbfb75fd19.jpg',\n",
              " '/content/drive/My Drive/ML/CNN_assignment/Skin cancer ISIC The International Skin Imaging Collaboration/Train/basal cell carcinoma/output/basal cell carcinoma_original_ISIC_0028079.jpg_5290ddd1-22b5-4827-90bf-d78324f75aea.jpg',\n",
              " '/content/drive/My Drive/ML/CNN_assignment/Skin cancer ISIC The International Skin Imaging Collaboration/Train/basal cell carcinoma/output/basal cell carcinoma_original_ISIC_0031009.jpg_cd072a67-72f0-4b0a-a294-1e9a0b2622cf.jpg',\n",
              " '/content/drive/My Drive/ML/CNN_assignment/Skin cancer ISIC The International Skin Imaging Collaboration/Train/basal cell carcinoma/output/basal cell carcinoma_original_ISIC_0030594.jpg_e0850d69-9dc2-4a4a-879e-e9bb4ea5dbc7.jpg',\n",
              " '/content/drive/My Drive/ML/CNN_assignment/Skin cancer ISIC The International Skin Imaging Collaboration/Train/basal cell carcinoma/output/basal cell carcinoma_original_ISIC_0028978.jpg_c155d11e-9b8e-486b-b68e-807bac301032.jpg',\n",
              " '/content/drive/My Drive/ML/CNN_assignment/Skin cancer ISIC The International Skin Imaging Collaboration/Train/basal cell carcinoma/output/basal cell carcinoma_original_ISIC_0027229.jpg_61130b9f-b6bc-4411-b734-04688ea55906.jpg',\n",
              " '/content/drive/My Drive/ML/CNN_assignment/Skin cancer ISIC The International Skin Imaging Collaboration/Train/basal cell carcinoma/output/basal cell carcinoma_original_ISIC_0026350.jpg_aace78a9-b600-4139-9b4f-d219882e9871.jpg',\n",
              " '/content/drive/My Drive/ML/CNN_assignment/Skin cancer ISIC The International Skin Imaging Collaboration/Train/basal cell carcinoma/output/basal cell carcinoma_original_ISIC_0028238.jpg_528b73fc-d717-4b0c-939c-5b8a5becac94.jpg',\n",
              " '/content/drive/My Drive/ML/CNN_assignment/Skin cancer ISIC The International Skin Imaging Collaboration/Train/basal cell carcinoma/output/basal cell carcinoma_original_ISIC_0026324.jpg_c73fb20b-4f4f-440e-8def-88fb6f833fb3.jpg',\n",
              " '/content/drive/My Drive/ML/CNN_assignment/Skin cancer ISIC The International Skin Imaging Collaboration/Train/basal cell carcinoma/output/basal cell carcinoma_original_ISIC_0029974.jpg_ba71f2ac-5ad7-4171-a365-274affd3bb20.jpg',\n",
              " '/content/drive/My Drive/ML/CNN_assignment/Skin cancer ISIC The International Skin Imaging Collaboration/Train/basal cell carcinoma/output/basal cell carcinoma_original_ISIC_0025824.jpg_b4ff0da1-6ca2-49d7-b984-eb17ea160401.jpg',\n",
              " '/content/drive/My Drive/ML/CNN_assignment/Skin cancer ISIC The International Skin Imaging Collaboration/Train/basal cell carcinoma/output/basal cell carcinoma_original_ISIC_0028928.jpg_bc48c68a-e04f-4d5f-a710-7bbd9a66ea92.jpg',\n",
              " '/content/drive/My Drive/ML/CNN_assignment/Skin cancer ISIC The International Skin Imaging Collaboration/Train/basal cell carcinoma/output/basal cell carcinoma_original_ISIC_0027545.jpg_940137bc-b95f-4d2b-b1e7-94ed8d2570ae.jpg',\n",
              " '/content/drive/My Drive/ML/CNN_assignment/Skin cancer ISIC The International Skin Imaging Collaboration/Train/basal cell carcinoma/output/basal cell carcinoma_original_ISIC_0027046.jpg_e5ae5e0b-6b8c-4b02-a6fd-ceee11f83ae1.jpg',\n",
              " '/content/drive/My Drive/ML/CNN_assignment/Skin cancer ISIC The International Skin Imaging Collaboration/Train/basal cell carcinoma/output/basal cell carcinoma_original_ISIC_0030096.jpg_e03c3a81-7b1c-49bb-a4e4-ebe12c60e558.jpg',\n",
              " '/content/drive/My Drive/ML/CNN_assignment/Skin cancer ISIC The International Skin Imaging Collaboration/Train/basal cell carcinoma/output/basal cell carcinoma_original_ISIC_0025700.jpg_e7169218-78e1-4b66-99da-1451c237a43e.jpg',\n",
              " '/content/drive/My Drive/ML/CNN_assignment/Skin cancer ISIC The International Skin Imaging Collaboration/Train/basal cell carcinoma/output/basal cell carcinoma_original_ISIC_0027291.jpg_8f52bf22-c1e1-44e3-af9a-6b538839b1dc.jpg',\n",
              " '/content/drive/My Drive/ML/CNN_assignment/Skin cancer ISIC The International Skin Imaging Collaboration/Train/basal cell carcinoma/output/basal cell carcinoma_original_ISIC_0028084.jpg_36dee3ba-fa8a-4e9f-a4eb-41b4989c1a1b.jpg',\n",
              " '/content/drive/My Drive/ML/CNN_assignment/Skin cancer ISIC The International Skin Imaging Collaboration/Train/basal cell carcinoma/output/basal cell carcinoma_original_ISIC_0027595.jpg_85556145-3207-4416-8001-c4827489264b.jpg',\n",
              " '/content/drive/My Drive/ML/CNN_assignment/Skin cancer ISIC The International Skin Imaging Collaboration/Train/basal cell carcinoma/output/basal cell carcinoma_original_ISIC_0031154.jpg_a4405678-0fef-42d6-a161-fc54f8d1f106.jpg',\n",
              " '/content/drive/My Drive/ML/CNN_assignment/Skin cancer ISIC The International Skin Imaging Collaboration/Train/basal cell carcinoma/output/basal cell carcinoma_original_ISIC_0027146.jpg_f62a154c-6f4b-44f7-99db-3ada709d1a7b.jpg',\n",
              " '/content/drive/My Drive/ML/CNN_assignment/Skin cancer ISIC The International Skin Imaging Collaboration/Train/basal cell carcinoma/output/basal cell carcinoma_original_ISIC_0026056.jpg_c55f1d86-1553-4f4a-ba04-87edd9aac0d9.jpg',\n",
              " '/content/drive/My Drive/ML/CNN_assignment/Skin cancer ISIC The International Skin Imaging Collaboration/Train/basal cell carcinoma/output/basal cell carcinoma_original_ISIC_0029820.jpg_6d3a68cf-a8d2-4f04-9fc8-4869fec63f38.jpg',\n",
              " '/content/drive/My Drive/ML/CNN_assignment/Skin cancer ISIC The International Skin Imaging Collaboration/Train/basal cell carcinoma/output/basal cell carcinoma_original_ISIC_0027865.jpg_7860b20b-8517-403d-96fa-b9cf1aaf28cf.jpg',\n",
              " '/content/drive/My Drive/ML/CNN_assignment/Skin cancer ISIC The International Skin Imaging Collaboration/Train/basal cell carcinoma/output/basal cell carcinoma_original_ISIC_0028238.jpg_d025b7c3-372c-43cd-a32b-15d65efcdaf5.jpg',\n",
              " '/content/drive/My Drive/ML/CNN_assignment/Skin cancer ISIC The International Skin Imaging Collaboration/Train/basal cell carcinoma/output/basal cell carcinoma_original_ISIC_0028583.jpg_c6d44712-31e2-4d5f-add4-7274fb581de6.jpg',\n",
              " '/content/drive/My Drive/ML/CNN_assignment/Skin cancer ISIC The International Skin Imaging Collaboration/Train/basal cell carcinoma/output/basal cell carcinoma_original_ISIC_0028122.jpg_56430cb1-b857-4d78-93f4-d1aede779a5d.jpg',\n",
              " '/content/drive/My Drive/ML/CNN_assignment/Skin cancer ISIC The International Skin Imaging Collaboration/Train/basal cell carcinoma/output/basal cell carcinoma_original_ISIC_0027120.jpg_ab332e65-1618-40b0-9d12-9449c12c37ce.jpg',\n",
              " '/content/drive/My Drive/ML/CNN_assignment/Skin cancer ISIC The International Skin Imaging Collaboration/Train/basal cell carcinoma/output/basal cell carcinoma_original_ISIC_0031284.jpg_8b38360c-44a8-4c93-b397-d38e4f0a0d5c.jpg',\n",
              " '/content/drive/My Drive/ML/CNN_assignment/Skin cancer ISIC The International Skin Imaging Collaboration/Train/basal cell carcinoma/output/basal cell carcinoma_original_ISIC_0031258.jpg_49cac84d-8a66-4df9-9deb-825b3568c051.jpg',\n",
              " '/content/drive/My Drive/ML/CNN_assignment/Skin cancer ISIC The International Skin Imaging Collaboration/Train/basal cell carcinoma/output/basal cell carcinoma_original_ISIC_0031057.jpg_577a696c-1bf4-44e8-8c29-4b604d6f6915.jpg',\n",
              " '/content/drive/My Drive/ML/CNN_assignment/Skin cancer ISIC The International Skin Imaging Collaboration/Train/basal cell carcinoma/output/basal cell carcinoma_original_ISIC_0024573.jpg_0296ec14-e1a2-419c-83bb-3298f1867c22.jpg',\n",
              " '/content/drive/My Drive/ML/CNN_assignment/Skin cancer ISIC The International Skin Imaging Collaboration/Train/basal cell carcinoma/output/basal cell carcinoma_original_ISIC_0025285.jpg_9b168ac3-86c8-4941-940b-0e31f103b1e8.jpg',\n",
              " '/content/drive/My Drive/ML/CNN_assignment/Skin cancer ISIC The International Skin Imaging Collaboration/Train/basal cell carcinoma/output/basal cell carcinoma_original_ISIC_0026453.jpg_bf9a1513-5d34-40cc-a9a8-22db2b77cae1.jpg',\n",
              " '/content/drive/My Drive/ML/CNN_assignment/Skin cancer ISIC The International Skin Imaging Collaboration/Train/basal cell carcinoma/output/basal cell carcinoma_original_ISIC_0031007.jpg_e7430da1-42b5-4829-b9d9-d1430bb45301.jpg',\n",
              " '/content/drive/My Drive/ML/CNN_assignment/Skin cancer ISIC The International Skin Imaging Collaboration/Train/basal cell carcinoma/output/basal cell carcinoma_original_ISIC_0031007.jpg_234e509d-6c57-4a46-beec-c7e2aefbf56f.jpg',\n",
              " '/content/drive/My Drive/ML/CNN_assignment/Skin cancer ISIC The International Skin Imaging Collaboration/Train/basal cell carcinoma/output/basal cell carcinoma_original_ISIC_0028419.jpg_c641312c-2f27-44d9-bcd6-08eab07d1359.jpg',\n",
              " '/content/drive/My Drive/ML/CNN_assignment/Skin cancer ISIC The International Skin Imaging Collaboration/Train/basal cell carcinoma/output/basal cell carcinoma_original_ISIC_0029331.jpg_028a1f48-8fdc-447e-82dd-f329e43e67d1.jpg',\n",
              " '/content/drive/My Drive/ML/CNN_assignment/Skin cancer ISIC The International Skin Imaging Collaboration/Train/basal cell carcinoma/output/basal cell carcinoma_original_ISIC_0030868.jpg_0a09c55d-9485-41ab-87d4-e6bb76195987.jpg',\n",
              " '/content/drive/My Drive/ML/CNN_assignment/Skin cancer ISIC The International Skin Imaging Collaboration/Train/basal cell carcinoma/output/basal cell carcinoma_original_ISIC_0027786.jpg_207fe705-8c56-4d54-aadc-0072ae3fa4d5.jpg',\n",
              " '/content/drive/My Drive/ML/CNN_assignment/Skin cancer ISIC The International Skin Imaging Collaboration/Train/basal cell carcinoma/output/basal cell carcinoma_original_ISIC_0029515.jpg_198e0f6c-3785-49b8-b649-c11449c606ea.jpg',\n",
              " '/content/drive/My Drive/ML/CNN_assignment/Skin cancer ISIC The International Skin Imaging Collaboration/Train/basal cell carcinoma/output/basal cell carcinoma_original_ISIC_0026574.jpg_3b44a5f1-f873-4c9a-b7b0-636fbd00a465.jpg',\n",
              " '/content/drive/My Drive/ML/CNN_assignment/Skin cancer ISIC The International Skin Imaging Collaboration/Train/basal cell carcinoma/output/basal cell carcinoma_original_ISIC_0029602.jpg_e64a2a4a-c982-406d-a813-1335cbd3e5d0.jpg',\n",
              " '/content/drive/My Drive/ML/CNN_assignment/Skin cancer ISIC The International Skin Imaging Collaboration/Train/basal cell carcinoma/output/basal cell carcinoma_original_ISIC_0031442.jpg_4ad120b7-7e62-40c8-a283-a7371b7c6a54.jpg',\n",
              " '/content/drive/My Drive/ML/CNN_assignment/Skin cancer ISIC The International Skin Imaging Collaboration/Train/basal cell carcinoma/output/basal cell carcinoma_original_ISIC_0028688.jpg_a82adf90-b8dd-423b-93f5-ace4b8d6a5ed.jpg',\n",
              " '/content/drive/My Drive/ML/CNN_assignment/Skin cancer ISIC The International Skin Imaging Collaboration/Train/basal cell carcinoma/output/basal cell carcinoma_original_ISIC_0025650.jpg_ffd65f0c-6f9b-47e9-8bef-870d4a7d569e.jpg',\n",
              " '/content/drive/My Drive/ML/CNN_assignment/Skin cancer ISIC The International Skin Imaging Collaboration/Train/basal cell carcinoma/output/basal cell carcinoma_original_ISIC_0028928.jpg_56473d91-9039-4557-8fa2-13ed6fb125dc.jpg',\n",
              " '/content/drive/My Drive/ML/CNN_assignment/Skin cancer ISIC The International Skin Imaging Collaboration/Train/basal cell carcinoma/output/basal cell carcinoma_original_ISIC_0028719.jpg_a1a20d18-1012-4efb-9d96-7e92e2580e88.jpg',\n",
              " '/content/drive/My Drive/ML/CNN_assignment/Skin cancer ISIC The International Skin Imaging Collaboration/Train/basal cell carcinoma/output/basal cell carcinoma_original_ISIC_0029391.jpg_827b9c7f-52d7-4240-a190-58c2b22571bf.jpg',\n",
              " '/content/drive/My Drive/ML/CNN_assignment/Skin cancer ISIC The International Skin Imaging Collaboration/Train/basal cell carcinoma/output/basal cell carcinoma_original_ISIC_0025650.jpg_bc5039c7-dfcb-4bb6-8ca4-83ab3a057157.jpg',\n",
              " '/content/drive/My Drive/ML/CNN_assignment/Skin cancer ISIC The International Skin Imaging Collaboration/Train/basal cell carcinoma/output/basal cell carcinoma_original_ISIC_0029053.jpg_edb094c0-6570-400c-8310-ef741774fa2d.jpg',\n",
              " '/content/drive/My Drive/ML/CNN_assignment/Skin cancer ISIC The International Skin Imaging Collaboration/Train/basal cell carcinoma/output/basal cell carcinoma_original_ISIC_0028652.jpg_0b531af1-4d5b-46fa-940b-63783d39b1e5.jpg',\n",
              " '/content/drive/My Drive/ML/CNN_assignment/Skin cancer ISIC The International Skin Imaging Collaboration/Train/basal cell carcinoma/output/basal cell carcinoma_original_ISIC_0024632.jpg_27dc82e5-3970-4b80-9109-b6e5eae14584.jpg',\n",
              " '/content/drive/My Drive/ML/CNN_assignment/Skin cancer ISIC The International Skin Imaging Collaboration/Train/basal cell carcinoma/output/basal cell carcinoma_original_ISIC_0027229.jpg_190f44a0-35b3-4592-bb72-0817a1ba3187.jpg',\n",
              " '/content/drive/My Drive/ML/CNN_assignment/Skin cancer ISIC The International Skin Imaging Collaboration/Train/basal cell carcinoma/output/basal cell carcinoma_original_ISIC_0025824.jpg_76566cdc-8f3d-40f1-9613-9518c40c701b.jpg',\n",
              " '/content/drive/My Drive/ML/CNN_assignment/Skin cancer ISIC The International Skin Imaging Collaboration/Train/basal cell carcinoma/output/basal cell carcinoma_original_ISIC_0025266.jpg_bf8099fe-a747-4359-af39-b285a5b65b2e.jpg',\n",
              " '/content/drive/My Drive/ML/CNN_assignment/Skin cancer ISIC The International Skin Imaging Collaboration/Train/basal cell carcinoma/output/basal cell carcinoma_original_ISIC_0030868.jpg_bca7e54e-7559-4bdc-b568-7a6a144d6fd0.jpg',\n",
              " '/content/drive/My Drive/ML/CNN_assignment/Skin cancer ISIC The International Skin Imaging Collaboration/Train/basal cell carcinoma/output/basal cell carcinoma_original_ISIC_0026829.jpg_5e3f59c5-78af-4d03-bbbe-d6f2d9994135.jpg',\n",
              " '/content/drive/My Drive/ML/CNN_assignment/Skin cancer ISIC The International Skin Imaging Collaboration/Train/basal cell carcinoma/output/basal cell carcinoma_original_ISIC_0025718.jpg_78700ffd-950b-413b-bc7d-0161bbd12b53.jpg',\n",
              " '/content/drive/My Drive/ML/CNN_assignment/Skin cancer ISIC The International Skin Imaging Collaboration/Train/basal cell carcinoma/output/basal cell carcinoma_original_ISIC_0027998.jpg_3317bb2d-f5b0-4ede-a6b5-9baf760e7041.jpg',\n",
              " '/content/drive/My Drive/ML/CNN_assignment/Skin cancer ISIC The International Skin Imaging Collaboration/Train/basal cell carcinoma/output/basal cell carcinoma_original_ISIC_0026074.jpg_5dfcf5aa-6011-4b75-a295-2344ce2c5e26.jpg',\n",
              " '/content/drive/My Drive/ML/CNN_assignment/Skin cancer ISIC The International Skin Imaging Collaboration/Train/basal cell carcinoma/output/basal cell carcinoma_original_ISIC_0028980.jpg_9746e856-e8d5-43bb-857e-dbaaec172f1c.jpg',\n",
              " '/content/drive/My Drive/ML/CNN_assignment/Skin cancer ISIC The International Skin Imaging Collaboration/Train/basal cell carcinoma/output/basal cell carcinoma_original_ISIC_0027093.jpg_60959dd2-ab04-4919-b8c8-616e223dd0ba.jpg',\n",
              " '/content/drive/My Drive/ML/CNN_assignment/Skin cancer ISIC The International Skin Imaging Collaboration/Train/basal cell carcinoma/output/basal cell carcinoma_original_ISIC_0029192.jpg_89bc4ed9-3735-4cbd-b77e-3551322b41d6.jpg',\n",
              " '/content/drive/My Drive/ML/CNN_assignment/Skin cancer ISIC The International Skin Imaging Collaboration/Train/basal cell carcinoma/output/basal cell carcinoma_original_ISIC_0031351.jpg_22f582e5-1653-44a3-b090-25c94b825b23.jpg',\n",
              " '/content/drive/My Drive/ML/CNN_assignment/Skin cancer ISIC The International Skin Imaging Collaboration/Train/basal cell carcinoma/output/basal cell carcinoma_original_ISIC_0031236.jpg_b64f8609-a727-4495-9fa0-3c79bc06c671.jpg',\n",
              " '/content/drive/My Drive/ML/CNN_assignment/Skin cancer ISIC The International Skin Imaging Collaboration/Train/basal cell carcinoma/output/basal cell carcinoma_original_ISIC_0026091.jpg_26de8056-e68c-43c0-8430-96a3b29166a0.jpg',\n",
              " '/content/drive/My Drive/ML/CNN_assignment/Skin cancer ISIC The International Skin Imaging Collaboration/Train/basal cell carcinoma/output/basal cell carcinoma_original_ISIC_0028687.jpg_019e930d-da9f-4833-8958-7a1c55df6a72.jpg',\n",
              " '/content/drive/My Drive/ML/CNN_assignment/Skin cancer ISIC The International Skin Imaging Collaboration/Train/basal cell carcinoma/output/basal cell carcinoma_original_ISIC_0030574.jpg_05452641-8939-4d05-95e8-d11a67be8cbb.jpg',\n",
              " '/content/drive/My Drive/ML/CNN_assignment/Skin cancer ISIC The International Skin Imaging Collaboration/Train/basal cell carcinoma/output/basal cell carcinoma_original_ISIC_0027093.jpg_2b34d664-70f2-4ce6-8bdd-dd4651ae92a9.jpg',\n",
              " '/content/drive/My Drive/ML/CNN_assignment/Skin cancer ISIC The International Skin Imaging Collaboration/Train/basal cell carcinoma/output/basal cell carcinoma_original_ISIC_0030197.jpg_3f6faeeb-32b9-4853-b7ec-7ce2d5196ce5.jpg',\n",
              " '/content/drive/My Drive/ML/CNN_assignment/Skin cancer ISIC The International Skin Imaging Collaboration/Train/basal cell carcinoma/output/basal cell carcinoma_original_ISIC_0027146.jpg_7635323c-1248-427c-8825-7d46d479f42e.jpg',\n",
              " '/content/drive/My Drive/ML/CNN_assignment/Skin cancer ISIC The International Skin Imaging Collaboration/Train/basal cell carcinoma/output/basal cell carcinoma_original_ISIC_0029515.jpg_291c2b93-3565-4ec5-a00c-1e56bcf33f2d.jpg',\n",
              " '/content/drive/My Drive/ML/CNN_assignment/Skin cancer ISIC The International Skin Imaging Collaboration/Train/basal cell carcinoma/output/basal cell carcinoma_original_ISIC_0030197.jpg_669738ab-b910-45c4-bb6c-d24d25be9f8c.jpg',\n",
              " '/content/drive/My Drive/ML/CNN_assignment/Skin cancer ISIC The International Skin Imaging Collaboration/Train/basal cell carcinoma/output/basal cell carcinoma_original_ISIC_0031614.jpg_516c0de0-4055-48b2-87af-baea38cd79c1.jpg',\n",
              " '/content/drive/My Drive/ML/CNN_assignment/Skin cancer ISIC The International Skin Imaging Collaboration/Train/basal cell carcinoma/output/basal cell carcinoma_original_ISIC_0026433.jpg_a76d4e62-b005-4a28-b144-00e7237fdf0a.jpg',\n",
              " '/content/drive/My Drive/ML/CNN_assignment/Skin cancer ISIC The International Skin Imaging Collaboration/Train/basal cell carcinoma/output/basal cell carcinoma_original_ISIC_0031585.jpg_4e117bf3-5169-4f8f-b90b-260d105ad90c.jpg',\n",
              " '/content/drive/My Drive/ML/CNN_assignment/Skin cancer ISIC The International Skin Imaging Collaboration/Train/basal cell carcinoma/output/basal cell carcinoma_original_ISIC_0027229.jpg_cb7ef823-4529-40b6-a103-6b7640e9eb8b.jpg',\n",
              " '/content/drive/My Drive/ML/CNN_assignment/Skin cancer ISIC The International Skin Imaging Collaboration/Train/basal cell carcinoma/output/basal cell carcinoma_original_ISIC_0026952.jpg_7a3ef6c6-0ec2-4e75-9fb1-4ded939f5473.jpg',\n",
              " '/content/drive/My Drive/ML/CNN_assignment/Skin cancer ISIC The International Skin Imaging Collaboration/Train/basal cell carcinoma/output/basal cell carcinoma_original_ISIC_0024673.jpg_5b91e920-ed1e-4d0f-910f-7e39b9d63346.jpg',\n",
              " '/content/drive/My Drive/ML/CNN_assignment/Skin cancer ISIC The International Skin Imaging Collaboration/Train/basal cell carcinoma/output/basal cell carcinoma_original_ISIC_0028556.jpg_f6ecdf32-9d57-4140-8703-ebd908ac70ee.jpg',\n",
              " '/content/drive/My Drive/ML/CNN_assignment/Skin cancer ISIC The International Skin Imaging Collaboration/Train/basal cell carcinoma/output/basal cell carcinoma_original_ISIC_0030181.jpg_2f20a468-0fd9-40dd-a9f5-fc0dda78aa91.jpg',\n",
              " '/content/drive/My Drive/ML/CNN_assignment/Skin cancer ISIC The International Skin Imaging Collaboration/Train/basal cell carcinoma/output/basal cell carcinoma_original_ISIC_0031140.jpg_a32915f7-d323-4ef8-9279-806fb1509629.jpg',\n",
              " '/content/drive/My Drive/ML/CNN_assignment/Skin cancer ISIC The International Skin Imaging Collaboration/Train/basal cell carcinoma/output/basal cell carcinoma_original_ISIC_0030230.jpg_bf1a114e-5cbe-481b-b783-527c1c7c0cec.jpg',\n",
              " '/content/drive/My Drive/ML/CNN_assignment/Skin cancer ISIC The International Skin Imaging Collaboration/Train/basal cell carcinoma/output/basal cell carcinoma_original_ISIC_0029857.jpg_62df9c04-cc21-4738-9bda-bc5d0010bf32.jpg',\n",
              " '/content/drive/My Drive/ML/CNN_assignment/Skin cancer ISIC The International Skin Imaging Collaboration/Train/basal cell carcinoma/output/basal cell carcinoma_original_ISIC_0030644.jpg_70515059-3624-4ae4-8df4-9e4bf31743ce.jpg',\n",
              " '/content/drive/My Drive/ML/CNN_assignment/Skin cancer ISIC The International Skin Imaging Collaboration/Train/basal cell carcinoma/output/basal cell carcinoma_original_ISIC_0030915.jpg_698bcfc8-6ce8-4b03-a884-237298fe0fd5.jpg',\n",
              " '/content/drive/My Drive/ML/CNN_assignment/Skin cancer ISIC The International Skin Imaging Collaboration/Train/basal cell carcinoma/output/basal cell carcinoma_original_ISIC_0028693.jpg_17c8c2f2-9248-4173-9b05-95483bdf2534.jpg',\n",
              " '/content/drive/My Drive/ML/CNN_assignment/Skin cancer ISIC The International Skin Imaging Collaboration/Train/basal cell carcinoma/output/basal cell carcinoma_original_ISIC_0028197.jpg_65f37dda-0a9f-424f-82a2-5e6f85556dda.jpg',\n",
              " '/content/drive/My Drive/ML/CNN_assignment/Skin cancer ISIC The International Skin Imaging Collaboration/Train/basal cell carcinoma/output/basal cell carcinoma_original_ISIC_0024590.jpg_79558d3c-9d11-4408-8ba5-117c2d989464.jpg',\n",
              " '/content/drive/My Drive/ML/CNN_assignment/Skin cancer ISIC The International Skin Imaging Collaboration/Train/basal cell carcinoma/output/basal cell carcinoma_original_ISIC_0031552.jpg_d77d3660-1e24-47ab-9e57-b9abae787fb1.jpg',\n",
              " '/content/drive/My Drive/ML/CNN_assignment/Skin cancer ISIC The International Skin Imaging Collaboration/Train/basal cell carcinoma/output/basal cell carcinoma_original_ISIC_0028323.jpg_a18ddef3-6749-4c8a-b90b-e99d103acff6.jpg',\n",
              " '/content/drive/My Drive/ML/CNN_assignment/Skin cancer ISIC The International Skin Imaging Collaboration/Train/basal cell carcinoma/output/basal cell carcinoma_original_ISIC_0027525.jpg_1db86c8a-1d15-4488-be88-1bc860854d85.jpg',\n",
              " '/content/drive/My Drive/ML/CNN_assignment/Skin cancer ISIC The International Skin Imaging Collaboration/Train/basal cell carcinoma/output/basal cell carcinoma_original_ISIC_0027004.jpg_fb4e8c66-17ff-4075-b7db-cf1ec03d8076.jpg',\n",
              " '/content/drive/My Drive/ML/CNN_assignment/Skin cancer ISIC The International Skin Imaging Collaboration/Train/basal cell carcinoma/output/basal cell carcinoma_original_ISIC_0028197.jpg_24a53e43-e99c-4088-b730-03381fb6aa53.jpg',\n",
              " '/content/drive/My Drive/ML/CNN_assignment/Skin cancer ISIC The International Skin Imaging Collaboration/Train/basal cell carcinoma/output/basal cell carcinoma_original_ISIC_0028747.jpg_81f9d3dc-1821-48ae-b147-1c350af14dc4.jpg',\n",
              " '/content/drive/My Drive/ML/CNN_assignment/Skin cancer ISIC The International Skin Imaging Collaboration/Train/basal cell carcinoma/output/basal cell carcinoma_original_ISIC_0027819.jpg_8184b32b-7d85-4215-9fd0-9d49abcccf65.jpg',\n",
              " '/content/drive/My Drive/ML/CNN_assignment/Skin cancer ISIC The International Skin Imaging Collaboration/Train/basal cell carcinoma/output/basal cell carcinoma_original_ISIC_0027744.jpg_831a201d-8311-409d-ac36-03ef0d8d4163.jpg',\n",
              " '/content/drive/My Drive/ML/CNN_assignment/Skin cancer ISIC The International Skin Imaging Collaboration/Train/basal cell carcinoma/output/basal cell carcinoma_original_ISIC_0030230.jpg_7d0aabf2-4e35-499e-a35a-c48b4a4cc149.jpg',\n",
              " '/content/drive/My Drive/ML/CNN_assignment/Skin cancer ISIC The International Skin Imaging Collaboration/Train/basal cell carcinoma/output/basal cell carcinoma_original_ISIC_0027371.jpg_19b86fa8-50f0-448e-b000-23e953203740.jpg',\n",
              " '/content/drive/My Drive/ML/CNN_assignment/Skin cancer ISIC The International Skin Imaging Collaboration/Train/basal cell carcinoma/output/basal cell carcinoma_original_ISIC_0025793.jpg_9fc279f9-b979-484e-9410-73be6f4c09ad.jpg',\n",
              " '/content/drive/My Drive/ML/CNN_assignment/Skin cancer ISIC The International Skin Imaging Collaboration/Train/basal cell carcinoma/output/basal cell carcinoma_original_ISIC_0026760.jpg_fcb00ac4-359a-485c-8b2b-d8cbe87d380c.jpg',\n",
              " '/content/drive/My Drive/ML/CNN_assignment/Skin cancer ISIC The International Skin Imaging Collaboration/Train/basal cell carcinoma/output/basal cell carcinoma_original_ISIC_0025285.jpg_0dd6d8df-b084-420c-b53c-b439d7b2aaac.jpg',\n",
              " '/content/drive/My Drive/ML/CNN_assignment/Skin cancer ISIC The International Skin Imaging Collaboration/Train/basal cell carcinoma/output/basal cell carcinoma_original_ISIC_0030594.jpg_2ab84569-315a-4365-abbc-8d730fcbacaa.jpg',\n",
              " '/content/drive/My Drive/ML/CNN_assignment/Skin cancer ISIC The International Skin Imaging Collaboration/Train/basal cell carcinoma/output/basal cell carcinoma_original_ISIC_0025509.jpg_36aea196-6b08-424e-9337-22779163aaaa.jpg',\n",
              " '/content/drive/My Drive/ML/CNN_assignment/Skin cancer ISIC The International Skin Imaging Collaboration/Train/basal cell carcinoma/output/basal cell carcinoma_original_ISIC_0027525.jpg_9c5668cc-c207-4d77-a40c-0948546f93ec.jpg',\n",
              " '/content/drive/My Drive/ML/CNN_assignment/Skin cancer ISIC The International Skin Imaging Collaboration/Train/basal cell carcinoma/output/basal cell carcinoma_original_ISIC_0029412.jpg_86286e62-1ea4-4dac-9ebc-0794b84a0002.jpg',\n",
              " '/content/drive/My Drive/ML/CNN_assignment/Skin cancer ISIC The International Skin Imaging Collaboration/Train/basal cell carcinoma/output/basal cell carcinoma_original_ISIC_0024984.jpg_07600c84-3cb3-4aa5-adb7-19e22abb44aa.jpg',\n",
              " '/content/drive/My Drive/ML/CNN_assignment/Skin cancer ISIC The International Skin Imaging Collaboration/Train/basal cell carcinoma/output/basal cell carcinoma_original_ISIC_0029201.jpg_413828c7-d10a-43ac-a7cb-aa52fe316778.jpg',\n",
              " '/content/drive/My Drive/ML/CNN_assignment/Skin cancer ISIC The International Skin Imaging Collaboration/Train/basal cell carcinoma/output/basal cell carcinoma_original_ISIC_0027004.jpg_f12b4b30-e78f-4384-941e-e5f2ae7b73e1.jpg',\n",
              " '/content/drive/My Drive/ML/CNN_assignment/Skin cancer ISIC The International Skin Imaging Collaboration/Train/basal cell carcinoma/output/basal cell carcinoma_original_ISIC_0031569.jpg_b100138c-7ccc-4fad-a0cb-7717a3c5026b.jpg',\n",
              " '/content/drive/My Drive/ML/CNN_assignment/Skin cancer ISIC The International Skin Imaging Collaboration/Train/basal cell carcinoma/output/basal cell carcinoma_original_ISIC_0025617.jpg_ccc9ed07-9416-413e-9afe-d012b347123e.jpg',\n",
              " '/content/drive/My Drive/ML/CNN_assignment/Skin cancer ISIC The International Skin Imaging Collaboration/Train/basal cell carcinoma/output/basal cell carcinoma_original_ISIC_0030511.jpg_38e4a9dd-e99f-49e8-b7cd-c721552a44e6.jpg',\n",
              " '/content/drive/My Drive/ML/CNN_assignment/Skin cancer ISIC The International Skin Imaging Collaboration/Train/basal cell carcinoma/output/basal cell carcinoma_original_ISIC_0027788.jpg_9b127d26-cfbf-4e74-8fee-f48931ea812a.jpg',\n",
              " '/content/drive/My Drive/ML/CNN_assignment/Skin cancer ISIC The International Skin Imaging Collaboration/Train/basal cell carcinoma/output/basal cell carcinoma_original_ISIC_0025383.jpg_d7a5b623-591f-42b7-b88c-b4fac96da870.jpg',\n",
              " '/content/drive/My Drive/ML/CNN_assignment/Skin cancer ISIC The International Skin Imaging Collaboration/Train/basal cell carcinoma/output/basal cell carcinoma_original_ISIC_0026574.jpg_6379d53d-907a-4b28-a6b5-5049ed8c1422.jpg',\n",
              " '/content/drive/My Drive/ML/CNN_assignment/Skin cancer ISIC The International Skin Imaging Collaboration/Train/basal cell carcinoma/output/basal cell carcinoma_original_ISIC_0026988.jpg_d84e9fc7-dc17-407c-b6f6-a1164e9e5a28.jpg',\n",
              " '/content/drive/My Drive/ML/CNN_assignment/Skin cancer ISIC The International Skin Imaging Collaboration/Train/basal cell carcinoma/output/basal cell carcinoma_original_ISIC_0026978.jpg_e0a5de46-6d66-4fbf-a889-ea1faba3ae93.jpg',\n",
              " '/content/drive/My Drive/ML/CNN_assignment/Skin cancer ISIC The International Skin Imaging Collaboration/Train/basal cell carcinoma/output/basal cell carcinoma_original_ISIC_0030915.jpg_2f6f9ddf-d142-4ba1-8dab-d00e1757fcb4.jpg',\n",
              " '/content/drive/My Drive/ML/CNN_assignment/Skin cancer ISIC The International Skin Imaging Collaboration/Train/basal cell carcinoma/output/basal cell carcinoma_original_ISIC_0027281.jpg_10b7c268-818e-42cd-9833-52eb90f6cc37.jpg',\n",
              " '/content/drive/My Drive/ML/CNN_assignment/Skin cancer ISIC The International Skin Imaging Collaboration/Train/basal cell carcinoma/output/basal cell carcinoma_original_ISIC_0027117.jpg_c281d5f6-929d-422e-8f25-088136301a9f.jpg',\n",
              " '/content/drive/My Drive/ML/CNN_assignment/Skin cancer ISIC The International Skin Imaging Collaboration/Train/basal cell carcinoma/output/basal cell carcinoma_original_ISIC_0026760.jpg_fe0376c6-6071-49c8-b1a9-84438806cf08.jpg',\n",
              " '/content/drive/My Drive/ML/CNN_assignment/Skin cancer ISIC The International Skin Imaging Collaboration/Train/basal cell carcinoma/output/basal cell carcinoma_original_ISIC_0025102.jpg_0dbad381-7dad-4f94-a933-72db887ca394.jpg',\n",
              " '/content/drive/My Drive/ML/CNN_assignment/Skin cancer ISIC The International Skin Imaging Collaboration/Train/basal cell carcinoma/output/basal cell carcinoma_original_ISIC_0025691.jpg_f226c9a8-d532-4f6e-a6bc-345241588202.jpg',\n",
              " '/content/drive/My Drive/ML/CNN_assignment/Skin cancer ISIC The International Skin Imaging Collaboration/Train/basal cell carcinoma/output/basal cell carcinoma_original_ISIC_0026845.jpg_d93df981-d20d-4da5-a4d8-d91767ca2fb2.jpg',\n",
              " '/content/drive/My Drive/ML/CNN_assignment/Skin cancer ISIC The International Skin Imaging Collaboration/Train/basal cell carcinoma/output/basal cell carcinoma_original_ISIC_0024665.jpg_775f3b82-8b42-4061-96e1-656130378fa7.jpg',\n",
              " '/content/drive/My Drive/ML/CNN_assignment/Skin cancer ISIC The International Skin Imaging Collaboration/Train/basal cell carcinoma/output/basal cell carcinoma_original_ISIC_0029391.jpg_b72080fb-0a50-4ae6-9780-41ef3fb788b4.jpg',\n",
              " '/content/drive/My Drive/ML/CNN_assignment/Skin cancer ISIC The International Skin Imaging Collaboration/Train/basal cell carcinoma/output/basal cell carcinoma_original_ISIC_0024848.jpg_a8bca307-a395-48c9-bbd5-36c99d1f8177.jpg',\n",
              " '/content/drive/My Drive/ML/CNN_assignment/Skin cancer ISIC The International Skin Imaging Collaboration/Train/basal cell carcinoma/output/basal cell carcinoma_original_ISIC_0024590.jpg_3cc415fc-ae19-4d00-bef9-5928c7fed675.jpg',\n",
              " '/content/drive/My Drive/ML/CNN_assignment/Skin cancer ISIC The International Skin Imaging Collaboration/Train/basal cell carcinoma/output/basal cell carcinoma_original_ISIC_0026988.jpg_74eda0a9-32ca-4d26-8073-b44eb68cb713.jpg',\n",
              " '/content/drive/My Drive/ML/CNN_assignment/Skin cancer ISIC The International Skin Imaging Collaboration/Train/basal cell carcinoma/output/basal cell carcinoma_original_ISIC_0029951.jpg_64659223-4181-40cc-8b46-f95cfb5c9777.jpg',\n",
              " '/content/drive/My Drive/ML/CNN_assignment/Skin cancer ISIC The International Skin Imaging Collaboration/Train/basal cell carcinoma/output/basal cell carcinoma_original_ISIC_0026940.jpg_c3ae6d17-3c96-4e1a-b771-398176d594fd.jpg',\n",
              " '/content/drive/My Drive/ML/CNN_assignment/Skin cancer ISIC The International Skin Imaging Collaboration/Train/basal cell carcinoma/output/basal cell carcinoma_original_ISIC_0028035.jpg_d3293715-314a-471c-8822-c4547254134d.jpg',\n",
              " '/content/drive/My Drive/ML/CNN_assignment/Skin cancer ISIC The International Skin Imaging Collaboration/Train/basal cell carcinoma/output/basal cell carcinoma_original_ISIC_0026324.jpg_206f6460-fa90-4af9-9f4c-30f329811542.jpg',\n",
              " '/content/drive/My Drive/ML/CNN_assignment/Skin cancer ISIC The International Skin Imaging Collaboration/Train/basal cell carcinoma/output/basal cell carcinoma_original_ISIC_0026656.jpg_e7d8e911-403f-4836-9b22-b66d0eb6879f.jpg',\n",
              " '/content/drive/My Drive/ML/CNN_assignment/Skin cancer ISIC The International Skin Imaging Collaboration/Train/basal cell carcinoma/output/basal cell carcinoma_original_ISIC_0024515.jpg_3d79364b-a13d-4777-9980-8f09c3408798.jpg',\n",
              " '/content/drive/My Drive/ML/CNN_assignment/Skin cancer ISIC The International Skin Imaging Collaboration/Train/basal cell carcinoma/output/basal cell carcinoma_original_ISIC_0026968.jpg_cbb61861-9003-4ca6-add0-3139d0775771.jpg',\n",
              " '/content/drive/My Drive/ML/CNN_assignment/Skin cancer ISIC The International Skin Imaging Collaboration/Train/basal cell carcinoma/output/basal cell carcinoma_original_ISIC_0028577.jpg_44e6fa29-856a-4f72-affd-1970afe2ff01.jpg',\n",
              " '/content/drive/My Drive/ML/CNN_assignment/Skin cancer ISIC The International Skin Imaging Collaboration/Train/basal cell carcinoma/output/basal cell carcinoma_original_ISIC_0031169.jpg_5aff6ce4-349d-4530-9ba1-5b0ce4b7aa1b.jpg',\n",
              " '/content/drive/My Drive/ML/CNN_assignment/Skin cancer ISIC The International Skin Imaging Collaboration/Train/basal cell carcinoma/output/basal cell carcinoma_original_ISIC_0031272.jpg_e8d6f39a-015f-46f0-8e04-6db21c09b142.jpg',\n",
              " '/content/drive/My Drive/ML/CNN_assignment/Skin cancer ISIC The International Skin Imaging Collaboration/Train/basal cell carcinoma/output/basal cell carcinoma_original_ISIC_0028329.jpg_a2e965a7-52b3-4f12-98a4-8fb7abc0c459.jpg',\n",
              " '/content/drive/My Drive/ML/CNN_assignment/Skin cancer ISIC The International Skin Imaging Collaboration/Train/basal cell carcinoma/output/basal cell carcinoma_original_ISIC_0030230.jpg_8d7b3599-4a03-4657-9eed-a91cdd2d0ac2.jpg',\n",
              " '/content/drive/My Drive/ML/CNN_assignment/Skin cancer ISIC The International Skin Imaging Collaboration/Train/basal cell carcinoma/output/basal cell carcinoma_original_ISIC_0029546.jpg_20592029-0fe8-4da9-830a-1674540f6a24.jpg',\n",
              " '/content/drive/My Drive/ML/CNN_assignment/Skin cancer ISIC The International Skin Imaging Collaboration/Train/basal cell carcinoma/output/basal cell carcinoma_original_ISIC_0025362.jpg_77f1ed52-211f-4b79-9303-aef3360d2f9d.jpg',\n",
              " '/content/drive/My Drive/ML/CNN_assignment/Skin cancer ISIC The International Skin Imaging Collaboration/Train/basal cell carcinoma/output/basal cell carcinoma_original_ISIC_0028323.jpg_6d3afd58-0203-41a3-bf3b-5ca92b77b722.jpg',\n",
              " '/content/drive/My Drive/ML/CNN_assignment/Skin cancer ISIC The International Skin Imaging Collaboration/Train/basal cell carcinoma/output/basal cell carcinoma_original_ISIC_0031266.jpg_68ccc549-a671-49d8-8988-45d4332547a3.jpg',\n",
              " '/content/drive/My Drive/ML/CNN_assignment/Skin cancer ISIC The International Skin Imaging Collaboration/Train/basal cell carcinoma/output/basal cell carcinoma_original_ISIC_0024743.jpg_a116a132-de68-43a0-a934-1ca106a66bdd.jpg',\n",
              " '/content/drive/My Drive/ML/CNN_assignment/Skin cancer ISIC The International Skin Imaging Collaboration/Train/basal cell carcinoma/output/basal cell carcinoma_original_ISIC_0030197.jpg_f8b3900d-44d9-4e85-8791-9a22562dd48f.jpg',\n",
              " '/content/drive/My Drive/ML/CNN_assignment/Skin cancer ISIC The International Skin Imaging Collaboration/Train/basal cell carcinoma/output/basal cell carcinoma_original_ISIC_0024897.jpg_b23e8947-6857-4195-82ef-a56cb6b609f9.jpg',\n",
              " '/content/drive/My Drive/ML/CNN_assignment/Skin cancer ISIC The International Skin Imaging Collaboration/Train/basal cell carcinoma/output/basal cell carcinoma_original_ISIC_0025818.jpg_d58814ef-de51-4fbe-8bc1-6f4113186432.jpg',\n",
              " '/content/drive/My Drive/ML/CNN_assignment/Skin cancer ISIC The International Skin Imaging Collaboration/Train/basal cell carcinoma/output/basal cell carcinoma_original_ISIC_0028652.jpg_a4f7e659-599a-438d-8026-4e3e930a5537.jpg',\n",
              " '/content/drive/My Drive/ML/CNN_assignment/Skin cancer ISIC The International Skin Imaging Collaboration/Train/basal cell carcinoma/output/basal cell carcinoma_original_ISIC_0026056.jpg_94aa8ba1-b13d-444d-9286-eed18ce25584.jpg',\n",
              " ...]"
            ]
          },
          "metadata": {
            "tags": []
          },
          "execution_count": 45
        }
      ]
    },
    {
      "cell_type": "code",
      "metadata": {
        "id": "nZvVdF7g3E1z",
        "colab": {
          "base_uri": "https://localhost:8080/"
        },
        "outputId": "af44a476-0502-4926-f394-63aa702fe6dc"
      },
      "source": [
        "lesion_list_new = [os.path.basename(os.path.dirname(os.path.dirname(y))) for y in glob(os.path.join(data_dir_train, '*','output', '*.jpg'))]\n",
        "lesion_list_new"
      ],
      "execution_count": 43,
      "outputs": [
        {
          "output_type": "execute_result",
          "data": {
            "text/plain": [
              "['actinic keratosis',\n",
              " 'actinic keratosis',\n",
              " 'actinic keratosis',\n",
              " 'actinic keratosis',\n",
              " 'actinic keratosis',\n",
              " 'actinic keratosis',\n",
              " 'actinic keratosis',\n",
              " 'actinic keratosis',\n",
              " 'actinic keratosis',\n",
              " 'actinic keratosis',\n",
              " 'actinic keratosis',\n",
              " 'actinic keratosis',\n",
              " 'actinic keratosis',\n",
              " 'actinic keratosis',\n",
              " 'actinic keratosis',\n",
              " 'actinic keratosis',\n",
              " 'actinic keratosis',\n",
              " 'actinic keratosis',\n",
              " 'actinic keratosis',\n",
              " 'actinic keratosis',\n",
              " 'actinic keratosis',\n",
              " 'actinic keratosis',\n",
              " 'actinic keratosis',\n",
              " 'actinic keratosis',\n",
              " 'actinic keratosis',\n",
              " 'actinic keratosis',\n",
              " 'actinic keratosis',\n",
              " 'actinic keratosis',\n",
              " 'actinic keratosis',\n",
              " 'actinic keratosis',\n",
              " 'actinic keratosis',\n",
              " 'actinic keratosis',\n",
              " 'actinic keratosis',\n",
              " 'actinic keratosis',\n",
              " 'actinic keratosis',\n",
              " 'actinic keratosis',\n",
              " 'actinic keratosis',\n",
              " 'actinic keratosis',\n",
              " 'actinic keratosis',\n",
              " 'actinic keratosis',\n",
              " 'actinic keratosis',\n",
              " 'actinic keratosis',\n",
              " 'actinic keratosis',\n",
              " 'actinic keratosis',\n",
              " 'actinic keratosis',\n",
              " 'actinic keratosis',\n",
              " 'actinic keratosis',\n",
              " 'actinic keratosis',\n",
              " 'actinic keratosis',\n",
              " 'actinic keratosis',\n",
              " 'actinic keratosis',\n",
              " 'actinic keratosis',\n",
              " 'actinic keratosis',\n",
              " 'actinic keratosis',\n",
              " 'actinic keratosis',\n",
              " 'actinic keratosis',\n",
              " 'actinic keratosis',\n",
              " 'actinic keratosis',\n",
              " 'actinic keratosis',\n",
              " 'actinic keratosis',\n",
              " 'actinic keratosis',\n",
              " 'actinic keratosis',\n",
              " 'actinic keratosis',\n",
              " 'actinic keratosis',\n",
              " 'actinic keratosis',\n",
              " 'actinic keratosis',\n",
              " 'actinic keratosis',\n",
              " 'actinic keratosis',\n",
              " 'actinic keratosis',\n",
              " 'actinic keratosis',\n",
              " 'actinic keratosis',\n",
              " 'actinic keratosis',\n",
              " 'actinic keratosis',\n",
              " 'actinic keratosis',\n",
              " 'actinic keratosis',\n",
              " 'actinic keratosis',\n",
              " 'actinic keratosis',\n",
              " 'actinic keratosis',\n",
              " 'actinic keratosis',\n",
              " 'actinic keratosis',\n",
              " 'actinic keratosis',\n",
              " 'actinic keratosis',\n",
              " 'actinic keratosis',\n",
              " 'actinic keratosis',\n",
              " 'actinic keratosis',\n",
              " 'actinic keratosis',\n",
              " 'actinic keratosis',\n",
              " 'actinic keratosis',\n",
              " 'actinic keratosis',\n",
              " 'actinic keratosis',\n",
              " 'actinic keratosis',\n",
              " 'actinic keratosis',\n",
              " 'actinic keratosis',\n",
              " 'actinic keratosis',\n",
              " 'actinic keratosis',\n",
              " 'actinic keratosis',\n",
              " 'actinic keratosis',\n",
              " 'actinic keratosis',\n",
              " 'actinic keratosis',\n",
              " 'actinic keratosis',\n",
              " 'actinic keratosis',\n",
              " 'actinic keratosis',\n",
              " 'actinic keratosis',\n",
              " 'actinic keratosis',\n",
              " 'actinic keratosis',\n",
              " 'actinic keratosis',\n",
              " 'actinic keratosis',\n",
              " 'actinic keratosis',\n",
              " 'actinic keratosis',\n",
              " 'actinic keratosis',\n",
              " 'actinic keratosis',\n",
              " 'actinic keratosis',\n",
              " 'actinic keratosis',\n",
              " 'actinic keratosis',\n",
              " 'actinic keratosis',\n",
              " 'actinic keratosis',\n",
              " 'actinic keratosis',\n",
              " 'actinic keratosis',\n",
              " 'actinic keratosis',\n",
              " 'actinic keratosis',\n",
              " 'actinic keratosis',\n",
              " 'actinic keratosis',\n",
              " 'actinic keratosis',\n",
              " 'actinic keratosis',\n",
              " 'actinic keratosis',\n",
              " 'actinic keratosis',\n",
              " 'actinic keratosis',\n",
              " 'actinic keratosis',\n",
              " 'actinic keratosis',\n",
              " 'actinic keratosis',\n",
              " 'actinic keratosis',\n",
              " 'actinic keratosis',\n",
              " 'actinic keratosis',\n",
              " 'actinic keratosis',\n",
              " 'actinic keratosis',\n",
              " 'actinic keratosis',\n",
              " 'actinic keratosis',\n",
              " 'actinic keratosis',\n",
              " 'actinic keratosis',\n",
              " 'actinic keratosis',\n",
              " 'actinic keratosis',\n",
              " 'actinic keratosis',\n",
              " 'actinic keratosis',\n",
              " 'actinic keratosis',\n",
              " 'actinic keratosis',\n",
              " 'actinic keratosis',\n",
              " 'actinic keratosis',\n",
              " 'actinic keratosis',\n",
              " 'actinic keratosis',\n",
              " 'actinic keratosis',\n",
              " 'actinic keratosis',\n",
              " 'actinic keratosis',\n",
              " 'actinic keratosis',\n",
              " 'actinic keratosis',\n",
              " 'actinic keratosis',\n",
              " 'actinic keratosis',\n",
              " 'actinic keratosis',\n",
              " 'actinic keratosis',\n",
              " 'actinic keratosis',\n",
              " 'actinic keratosis',\n",
              " 'actinic keratosis',\n",
              " 'actinic keratosis',\n",
              " 'actinic keratosis',\n",
              " 'actinic keratosis',\n",
              " 'actinic keratosis',\n",
              " 'actinic keratosis',\n",
              " 'actinic keratosis',\n",
              " 'actinic keratosis',\n",
              " 'actinic keratosis',\n",
              " 'actinic keratosis',\n",
              " 'actinic keratosis',\n",
              " 'actinic keratosis',\n",
              " 'actinic keratosis',\n",
              " 'actinic keratosis',\n",
              " 'actinic keratosis',\n",
              " 'actinic keratosis',\n",
              " 'actinic keratosis',\n",
              " 'actinic keratosis',\n",
              " 'actinic keratosis',\n",
              " 'actinic keratosis',\n",
              " 'actinic keratosis',\n",
              " 'actinic keratosis',\n",
              " 'actinic keratosis',\n",
              " 'actinic keratosis',\n",
              " 'actinic keratosis',\n",
              " 'actinic keratosis',\n",
              " 'actinic keratosis',\n",
              " 'actinic keratosis',\n",
              " 'actinic keratosis',\n",
              " 'actinic keratosis',\n",
              " 'actinic keratosis',\n",
              " 'actinic keratosis',\n",
              " 'actinic keratosis',\n",
              " 'actinic keratosis',\n",
              " 'actinic keratosis',\n",
              " 'actinic keratosis',\n",
              " 'actinic keratosis',\n",
              " 'actinic keratosis',\n",
              " 'actinic keratosis',\n",
              " 'actinic keratosis',\n",
              " 'actinic keratosis',\n",
              " 'actinic keratosis',\n",
              " 'actinic keratosis',\n",
              " 'actinic keratosis',\n",
              " 'actinic keratosis',\n",
              " 'actinic keratosis',\n",
              " 'actinic keratosis',\n",
              " 'actinic keratosis',\n",
              " 'actinic keratosis',\n",
              " 'actinic keratosis',\n",
              " 'actinic keratosis',\n",
              " 'actinic keratosis',\n",
              " 'actinic keratosis',\n",
              " 'actinic keratosis',\n",
              " 'actinic keratosis',\n",
              " 'actinic keratosis',\n",
              " 'actinic keratosis',\n",
              " 'actinic keratosis',\n",
              " 'actinic keratosis',\n",
              " 'actinic keratosis',\n",
              " 'actinic keratosis',\n",
              " 'actinic keratosis',\n",
              " 'actinic keratosis',\n",
              " 'actinic keratosis',\n",
              " 'actinic keratosis',\n",
              " 'actinic keratosis',\n",
              " 'actinic keratosis',\n",
              " 'actinic keratosis',\n",
              " 'actinic keratosis',\n",
              " 'actinic keratosis',\n",
              " 'actinic keratosis',\n",
              " 'actinic keratosis',\n",
              " 'actinic keratosis',\n",
              " 'actinic keratosis',\n",
              " 'actinic keratosis',\n",
              " 'actinic keratosis',\n",
              " 'actinic keratosis',\n",
              " 'actinic keratosis',\n",
              " 'actinic keratosis',\n",
              " 'actinic keratosis',\n",
              " 'actinic keratosis',\n",
              " 'actinic keratosis',\n",
              " 'actinic keratosis',\n",
              " 'actinic keratosis',\n",
              " 'actinic keratosis',\n",
              " 'actinic keratosis',\n",
              " 'actinic keratosis',\n",
              " 'actinic keratosis',\n",
              " 'actinic keratosis',\n",
              " 'actinic keratosis',\n",
              " 'actinic keratosis',\n",
              " 'actinic keratosis',\n",
              " 'actinic keratosis',\n",
              " 'actinic keratosis',\n",
              " 'actinic keratosis',\n",
              " 'actinic keratosis',\n",
              " 'actinic keratosis',\n",
              " 'actinic keratosis',\n",
              " 'actinic keratosis',\n",
              " 'actinic keratosis',\n",
              " 'actinic keratosis',\n",
              " 'actinic keratosis',\n",
              " 'actinic keratosis',\n",
              " 'actinic keratosis',\n",
              " 'actinic keratosis',\n",
              " 'actinic keratosis',\n",
              " 'actinic keratosis',\n",
              " 'actinic keratosis',\n",
              " 'actinic keratosis',\n",
              " 'actinic keratosis',\n",
              " 'actinic keratosis',\n",
              " 'actinic keratosis',\n",
              " 'actinic keratosis',\n",
              " 'actinic keratosis',\n",
              " 'actinic keratosis',\n",
              " 'actinic keratosis',\n",
              " 'actinic keratosis',\n",
              " 'actinic keratosis',\n",
              " 'actinic keratosis',\n",
              " 'actinic keratosis',\n",
              " 'actinic keratosis',\n",
              " 'actinic keratosis',\n",
              " 'actinic keratosis',\n",
              " 'actinic keratosis',\n",
              " 'actinic keratosis',\n",
              " 'actinic keratosis',\n",
              " 'actinic keratosis',\n",
              " 'actinic keratosis',\n",
              " 'actinic keratosis',\n",
              " 'actinic keratosis',\n",
              " 'actinic keratosis',\n",
              " 'actinic keratosis',\n",
              " 'actinic keratosis',\n",
              " 'actinic keratosis',\n",
              " 'actinic keratosis',\n",
              " 'actinic keratosis',\n",
              " 'actinic keratosis',\n",
              " 'actinic keratosis',\n",
              " 'actinic keratosis',\n",
              " 'actinic keratosis',\n",
              " 'actinic keratosis',\n",
              " 'actinic keratosis',\n",
              " 'actinic keratosis',\n",
              " 'actinic keratosis',\n",
              " 'actinic keratosis',\n",
              " 'actinic keratosis',\n",
              " 'actinic keratosis',\n",
              " 'actinic keratosis',\n",
              " 'actinic keratosis',\n",
              " 'actinic keratosis',\n",
              " 'actinic keratosis',\n",
              " 'actinic keratosis',\n",
              " 'actinic keratosis',\n",
              " 'actinic keratosis',\n",
              " 'actinic keratosis',\n",
              " 'actinic keratosis',\n",
              " 'actinic keratosis',\n",
              " 'actinic keratosis',\n",
              " 'actinic keratosis',\n",
              " 'actinic keratosis',\n",
              " 'actinic keratosis',\n",
              " 'actinic keratosis',\n",
              " 'actinic keratosis',\n",
              " 'actinic keratosis',\n",
              " 'actinic keratosis',\n",
              " 'actinic keratosis',\n",
              " 'actinic keratosis',\n",
              " 'actinic keratosis',\n",
              " 'actinic keratosis',\n",
              " 'actinic keratosis',\n",
              " 'actinic keratosis',\n",
              " 'actinic keratosis',\n",
              " 'actinic keratosis',\n",
              " 'actinic keratosis',\n",
              " 'actinic keratosis',\n",
              " 'actinic keratosis',\n",
              " 'actinic keratosis',\n",
              " 'actinic keratosis',\n",
              " 'actinic keratosis',\n",
              " 'actinic keratosis',\n",
              " 'actinic keratosis',\n",
              " 'actinic keratosis',\n",
              " 'actinic keratosis',\n",
              " 'actinic keratosis',\n",
              " 'actinic keratosis',\n",
              " 'actinic keratosis',\n",
              " 'actinic keratosis',\n",
              " 'actinic keratosis',\n",
              " 'actinic keratosis',\n",
              " 'actinic keratosis',\n",
              " 'actinic keratosis',\n",
              " 'actinic keratosis',\n",
              " 'actinic keratosis',\n",
              " 'actinic keratosis',\n",
              " 'actinic keratosis',\n",
              " 'actinic keratosis',\n",
              " 'actinic keratosis',\n",
              " 'actinic keratosis',\n",
              " 'actinic keratosis',\n",
              " 'actinic keratosis',\n",
              " 'actinic keratosis',\n",
              " 'actinic keratosis',\n",
              " 'actinic keratosis',\n",
              " 'actinic keratosis',\n",
              " 'actinic keratosis',\n",
              " 'actinic keratosis',\n",
              " 'actinic keratosis',\n",
              " 'actinic keratosis',\n",
              " 'actinic keratosis',\n",
              " 'actinic keratosis',\n",
              " 'actinic keratosis',\n",
              " 'actinic keratosis',\n",
              " 'actinic keratosis',\n",
              " 'actinic keratosis',\n",
              " 'actinic keratosis',\n",
              " 'actinic keratosis',\n",
              " 'actinic keratosis',\n",
              " 'actinic keratosis',\n",
              " 'actinic keratosis',\n",
              " 'actinic keratosis',\n",
              " 'actinic keratosis',\n",
              " 'actinic keratosis',\n",
              " 'actinic keratosis',\n",
              " 'actinic keratosis',\n",
              " 'actinic keratosis',\n",
              " 'actinic keratosis',\n",
              " 'actinic keratosis',\n",
              " 'actinic keratosis',\n",
              " 'actinic keratosis',\n",
              " 'actinic keratosis',\n",
              " 'actinic keratosis',\n",
              " 'actinic keratosis',\n",
              " 'actinic keratosis',\n",
              " 'actinic keratosis',\n",
              " 'actinic keratosis',\n",
              " 'actinic keratosis',\n",
              " 'actinic keratosis',\n",
              " 'actinic keratosis',\n",
              " 'actinic keratosis',\n",
              " 'actinic keratosis',\n",
              " 'actinic keratosis',\n",
              " 'actinic keratosis',\n",
              " 'actinic keratosis',\n",
              " 'actinic keratosis',\n",
              " 'actinic keratosis',\n",
              " 'actinic keratosis',\n",
              " 'actinic keratosis',\n",
              " 'actinic keratosis',\n",
              " 'actinic keratosis',\n",
              " 'actinic keratosis',\n",
              " 'actinic keratosis',\n",
              " 'actinic keratosis',\n",
              " 'actinic keratosis',\n",
              " 'actinic keratosis',\n",
              " 'actinic keratosis',\n",
              " 'actinic keratosis',\n",
              " 'actinic keratosis',\n",
              " 'actinic keratosis',\n",
              " 'actinic keratosis',\n",
              " 'actinic keratosis',\n",
              " 'actinic keratosis',\n",
              " 'actinic keratosis',\n",
              " 'actinic keratosis',\n",
              " 'actinic keratosis',\n",
              " 'actinic keratosis',\n",
              " 'actinic keratosis',\n",
              " 'actinic keratosis',\n",
              " 'actinic keratosis',\n",
              " 'actinic keratosis',\n",
              " 'actinic keratosis',\n",
              " 'actinic keratosis',\n",
              " 'actinic keratosis',\n",
              " 'actinic keratosis',\n",
              " 'actinic keratosis',\n",
              " 'actinic keratosis',\n",
              " 'actinic keratosis',\n",
              " 'actinic keratosis',\n",
              " 'actinic keratosis',\n",
              " 'actinic keratosis',\n",
              " 'actinic keratosis',\n",
              " 'actinic keratosis',\n",
              " 'actinic keratosis',\n",
              " 'actinic keratosis',\n",
              " 'actinic keratosis',\n",
              " 'actinic keratosis',\n",
              " 'actinic keratosis',\n",
              " 'actinic keratosis',\n",
              " 'actinic keratosis',\n",
              " 'actinic keratosis',\n",
              " 'actinic keratosis',\n",
              " 'actinic keratosis',\n",
              " 'actinic keratosis',\n",
              " 'actinic keratosis',\n",
              " 'actinic keratosis',\n",
              " 'actinic keratosis',\n",
              " 'actinic keratosis',\n",
              " 'actinic keratosis',\n",
              " 'actinic keratosis',\n",
              " 'actinic keratosis',\n",
              " 'actinic keratosis',\n",
              " 'actinic keratosis',\n",
              " 'actinic keratosis',\n",
              " 'actinic keratosis',\n",
              " 'actinic keratosis',\n",
              " 'actinic keratosis',\n",
              " 'actinic keratosis',\n",
              " 'actinic keratosis',\n",
              " 'actinic keratosis',\n",
              " 'actinic keratosis',\n",
              " 'actinic keratosis',\n",
              " 'actinic keratosis',\n",
              " 'actinic keratosis',\n",
              " 'actinic keratosis',\n",
              " 'actinic keratosis',\n",
              " 'actinic keratosis',\n",
              " 'actinic keratosis',\n",
              " 'actinic keratosis',\n",
              " 'actinic keratosis',\n",
              " 'actinic keratosis',\n",
              " 'actinic keratosis',\n",
              " 'actinic keratosis',\n",
              " 'actinic keratosis',\n",
              " 'actinic keratosis',\n",
              " 'actinic keratosis',\n",
              " 'actinic keratosis',\n",
              " 'actinic keratosis',\n",
              " 'actinic keratosis',\n",
              " 'actinic keratosis',\n",
              " 'actinic keratosis',\n",
              " 'actinic keratosis',\n",
              " 'actinic keratosis',\n",
              " 'actinic keratosis',\n",
              " 'actinic keratosis',\n",
              " 'actinic keratosis',\n",
              " 'actinic keratosis',\n",
              " 'actinic keratosis',\n",
              " 'actinic keratosis',\n",
              " 'actinic keratosis',\n",
              " 'actinic keratosis',\n",
              " 'actinic keratosis',\n",
              " 'basal cell carcinoma',\n",
              " 'basal cell carcinoma',\n",
              " 'basal cell carcinoma',\n",
              " 'basal cell carcinoma',\n",
              " 'basal cell carcinoma',\n",
              " 'basal cell carcinoma',\n",
              " 'basal cell carcinoma',\n",
              " 'basal cell carcinoma',\n",
              " 'basal cell carcinoma',\n",
              " 'basal cell carcinoma',\n",
              " 'basal cell carcinoma',\n",
              " 'basal cell carcinoma',\n",
              " 'basal cell carcinoma',\n",
              " 'basal cell carcinoma',\n",
              " 'basal cell carcinoma',\n",
              " 'basal cell carcinoma',\n",
              " 'basal cell carcinoma',\n",
              " 'basal cell carcinoma',\n",
              " 'basal cell carcinoma',\n",
              " 'basal cell carcinoma',\n",
              " 'basal cell carcinoma',\n",
              " 'basal cell carcinoma',\n",
              " 'basal cell carcinoma',\n",
              " 'basal cell carcinoma',\n",
              " 'basal cell carcinoma',\n",
              " 'basal cell carcinoma',\n",
              " 'basal cell carcinoma',\n",
              " 'basal cell carcinoma',\n",
              " 'basal cell carcinoma',\n",
              " 'basal cell carcinoma',\n",
              " 'basal cell carcinoma',\n",
              " 'basal cell carcinoma',\n",
              " 'basal cell carcinoma',\n",
              " 'basal cell carcinoma',\n",
              " 'basal cell carcinoma',\n",
              " 'basal cell carcinoma',\n",
              " 'basal cell carcinoma',\n",
              " 'basal cell carcinoma',\n",
              " 'basal cell carcinoma',\n",
              " 'basal cell carcinoma',\n",
              " 'basal cell carcinoma',\n",
              " 'basal cell carcinoma',\n",
              " 'basal cell carcinoma',\n",
              " 'basal cell carcinoma',\n",
              " 'basal cell carcinoma',\n",
              " 'basal cell carcinoma',\n",
              " 'basal cell carcinoma',\n",
              " 'basal cell carcinoma',\n",
              " 'basal cell carcinoma',\n",
              " 'basal cell carcinoma',\n",
              " 'basal cell carcinoma',\n",
              " 'basal cell carcinoma',\n",
              " 'basal cell carcinoma',\n",
              " 'basal cell carcinoma',\n",
              " 'basal cell carcinoma',\n",
              " 'basal cell carcinoma',\n",
              " 'basal cell carcinoma',\n",
              " 'basal cell carcinoma',\n",
              " 'basal cell carcinoma',\n",
              " 'basal cell carcinoma',\n",
              " 'basal cell carcinoma',\n",
              " 'basal cell carcinoma',\n",
              " 'basal cell carcinoma',\n",
              " 'basal cell carcinoma',\n",
              " 'basal cell carcinoma',\n",
              " 'basal cell carcinoma',\n",
              " 'basal cell carcinoma',\n",
              " 'basal cell carcinoma',\n",
              " 'basal cell carcinoma',\n",
              " 'basal cell carcinoma',\n",
              " 'basal cell carcinoma',\n",
              " 'basal cell carcinoma',\n",
              " 'basal cell carcinoma',\n",
              " 'basal cell carcinoma',\n",
              " 'basal cell carcinoma',\n",
              " 'basal cell carcinoma',\n",
              " 'basal cell carcinoma',\n",
              " 'basal cell carcinoma',\n",
              " 'basal cell carcinoma',\n",
              " 'basal cell carcinoma',\n",
              " 'basal cell carcinoma',\n",
              " 'basal cell carcinoma',\n",
              " 'basal cell carcinoma',\n",
              " 'basal cell carcinoma',\n",
              " 'basal cell carcinoma',\n",
              " 'basal cell carcinoma',\n",
              " 'basal cell carcinoma',\n",
              " 'basal cell carcinoma',\n",
              " 'basal cell carcinoma',\n",
              " 'basal cell carcinoma',\n",
              " 'basal cell carcinoma',\n",
              " 'basal cell carcinoma',\n",
              " 'basal cell carcinoma',\n",
              " 'basal cell carcinoma',\n",
              " 'basal cell carcinoma',\n",
              " 'basal cell carcinoma',\n",
              " 'basal cell carcinoma',\n",
              " 'basal cell carcinoma',\n",
              " 'basal cell carcinoma',\n",
              " 'basal cell carcinoma',\n",
              " 'basal cell carcinoma',\n",
              " 'basal cell carcinoma',\n",
              " 'basal cell carcinoma',\n",
              " 'basal cell carcinoma',\n",
              " 'basal cell carcinoma',\n",
              " 'basal cell carcinoma',\n",
              " 'basal cell carcinoma',\n",
              " 'basal cell carcinoma',\n",
              " 'basal cell carcinoma',\n",
              " 'basal cell carcinoma',\n",
              " 'basal cell carcinoma',\n",
              " 'basal cell carcinoma',\n",
              " 'basal cell carcinoma',\n",
              " 'basal cell carcinoma',\n",
              " 'basal cell carcinoma',\n",
              " 'basal cell carcinoma',\n",
              " 'basal cell carcinoma',\n",
              " 'basal cell carcinoma',\n",
              " 'basal cell carcinoma',\n",
              " 'basal cell carcinoma',\n",
              " 'basal cell carcinoma',\n",
              " 'basal cell carcinoma',\n",
              " 'basal cell carcinoma',\n",
              " 'basal cell carcinoma',\n",
              " 'basal cell carcinoma',\n",
              " 'basal cell carcinoma',\n",
              " 'basal cell carcinoma',\n",
              " 'basal cell carcinoma',\n",
              " 'basal cell carcinoma',\n",
              " 'basal cell carcinoma',\n",
              " 'basal cell carcinoma',\n",
              " 'basal cell carcinoma',\n",
              " 'basal cell carcinoma',\n",
              " 'basal cell carcinoma',\n",
              " 'basal cell carcinoma',\n",
              " 'basal cell carcinoma',\n",
              " 'basal cell carcinoma',\n",
              " 'basal cell carcinoma',\n",
              " 'basal cell carcinoma',\n",
              " 'basal cell carcinoma',\n",
              " 'basal cell carcinoma',\n",
              " 'basal cell carcinoma',\n",
              " 'basal cell carcinoma',\n",
              " 'basal cell carcinoma',\n",
              " 'basal cell carcinoma',\n",
              " 'basal cell carcinoma',\n",
              " 'basal cell carcinoma',\n",
              " 'basal cell carcinoma',\n",
              " 'basal cell carcinoma',\n",
              " 'basal cell carcinoma',\n",
              " 'basal cell carcinoma',\n",
              " 'basal cell carcinoma',\n",
              " 'basal cell carcinoma',\n",
              " 'basal cell carcinoma',\n",
              " 'basal cell carcinoma',\n",
              " 'basal cell carcinoma',\n",
              " 'basal cell carcinoma',\n",
              " 'basal cell carcinoma',\n",
              " 'basal cell carcinoma',\n",
              " 'basal cell carcinoma',\n",
              " 'basal cell carcinoma',\n",
              " 'basal cell carcinoma',\n",
              " 'basal cell carcinoma',\n",
              " 'basal cell carcinoma',\n",
              " 'basal cell carcinoma',\n",
              " 'basal cell carcinoma',\n",
              " 'basal cell carcinoma',\n",
              " 'basal cell carcinoma',\n",
              " 'basal cell carcinoma',\n",
              " 'basal cell carcinoma',\n",
              " 'basal cell carcinoma',\n",
              " 'basal cell carcinoma',\n",
              " 'basal cell carcinoma',\n",
              " 'basal cell carcinoma',\n",
              " 'basal cell carcinoma',\n",
              " 'basal cell carcinoma',\n",
              " 'basal cell carcinoma',\n",
              " 'basal cell carcinoma',\n",
              " 'basal cell carcinoma',\n",
              " 'basal cell carcinoma',\n",
              " 'basal cell carcinoma',\n",
              " 'basal cell carcinoma',\n",
              " 'basal cell carcinoma',\n",
              " 'basal cell carcinoma',\n",
              " 'basal cell carcinoma',\n",
              " 'basal cell carcinoma',\n",
              " 'basal cell carcinoma',\n",
              " 'basal cell carcinoma',\n",
              " 'basal cell carcinoma',\n",
              " 'basal cell carcinoma',\n",
              " 'basal cell carcinoma',\n",
              " 'basal cell carcinoma',\n",
              " 'basal cell carcinoma',\n",
              " 'basal cell carcinoma',\n",
              " 'basal cell carcinoma',\n",
              " 'basal cell carcinoma',\n",
              " 'basal cell carcinoma',\n",
              " 'basal cell carcinoma',\n",
              " 'basal cell carcinoma',\n",
              " 'basal cell carcinoma',\n",
              " 'basal cell carcinoma',\n",
              " 'basal cell carcinoma',\n",
              " 'basal cell carcinoma',\n",
              " 'basal cell carcinoma',\n",
              " 'basal cell carcinoma',\n",
              " 'basal cell carcinoma',\n",
              " 'basal cell carcinoma',\n",
              " 'basal cell carcinoma',\n",
              " 'basal cell carcinoma',\n",
              " 'basal cell carcinoma',\n",
              " 'basal cell carcinoma',\n",
              " 'basal cell carcinoma',\n",
              " 'basal cell carcinoma',\n",
              " 'basal cell carcinoma',\n",
              " 'basal cell carcinoma',\n",
              " 'basal cell carcinoma',\n",
              " 'basal cell carcinoma',\n",
              " 'basal cell carcinoma',\n",
              " 'basal cell carcinoma',\n",
              " 'basal cell carcinoma',\n",
              " 'basal cell carcinoma',\n",
              " 'basal cell carcinoma',\n",
              " 'basal cell carcinoma',\n",
              " 'basal cell carcinoma',\n",
              " 'basal cell carcinoma',\n",
              " 'basal cell carcinoma',\n",
              " 'basal cell carcinoma',\n",
              " 'basal cell carcinoma',\n",
              " 'basal cell carcinoma',\n",
              " 'basal cell carcinoma',\n",
              " 'basal cell carcinoma',\n",
              " 'basal cell carcinoma',\n",
              " 'basal cell carcinoma',\n",
              " 'basal cell carcinoma',\n",
              " 'basal cell carcinoma',\n",
              " 'basal cell carcinoma',\n",
              " 'basal cell carcinoma',\n",
              " 'basal cell carcinoma',\n",
              " 'basal cell carcinoma',\n",
              " 'basal cell carcinoma',\n",
              " 'basal cell carcinoma',\n",
              " 'basal cell carcinoma',\n",
              " 'basal cell carcinoma',\n",
              " 'basal cell carcinoma',\n",
              " 'basal cell carcinoma',\n",
              " 'basal cell carcinoma',\n",
              " 'basal cell carcinoma',\n",
              " 'basal cell carcinoma',\n",
              " 'basal cell carcinoma',\n",
              " 'basal cell carcinoma',\n",
              " 'basal cell carcinoma',\n",
              " 'basal cell carcinoma',\n",
              " 'basal cell carcinoma',\n",
              " 'basal cell carcinoma',\n",
              " 'basal cell carcinoma',\n",
              " 'basal cell carcinoma',\n",
              " 'basal cell carcinoma',\n",
              " 'basal cell carcinoma',\n",
              " 'basal cell carcinoma',\n",
              " 'basal cell carcinoma',\n",
              " 'basal cell carcinoma',\n",
              " 'basal cell carcinoma',\n",
              " 'basal cell carcinoma',\n",
              " 'basal cell carcinoma',\n",
              " 'basal cell carcinoma',\n",
              " 'basal cell carcinoma',\n",
              " 'basal cell carcinoma',\n",
              " 'basal cell carcinoma',\n",
              " 'basal cell carcinoma',\n",
              " 'basal cell carcinoma',\n",
              " 'basal cell carcinoma',\n",
              " 'basal cell carcinoma',\n",
              " 'basal cell carcinoma',\n",
              " 'basal cell carcinoma',\n",
              " 'basal cell carcinoma',\n",
              " 'basal cell carcinoma',\n",
              " 'basal cell carcinoma',\n",
              " 'basal cell carcinoma',\n",
              " 'basal cell carcinoma',\n",
              " 'basal cell carcinoma',\n",
              " 'basal cell carcinoma',\n",
              " 'basal cell carcinoma',\n",
              " 'basal cell carcinoma',\n",
              " 'basal cell carcinoma',\n",
              " 'basal cell carcinoma',\n",
              " 'basal cell carcinoma',\n",
              " 'basal cell carcinoma',\n",
              " 'basal cell carcinoma',\n",
              " 'basal cell carcinoma',\n",
              " 'basal cell carcinoma',\n",
              " 'basal cell carcinoma',\n",
              " 'basal cell carcinoma',\n",
              " 'basal cell carcinoma',\n",
              " 'basal cell carcinoma',\n",
              " 'basal cell carcinoma',\n",
              " 'basal cell carcinoma',\n",
              " 'basal cell carcinoma',\n",
              " 'basal cell carcinoma',\n",
              " 'basal cell carcinoma',\n",
              " 'basal cell carcinoma',\n",
              " 'basal cell carcinoma',\n",
              " 'basal cell carcinoma',\n",
              " 'basal cell carcinoma',\n",
              " 'basal cell carcinoma',\n",
              " 'basal cell carcinoma',\n",
              " 'basal cell carcinoma',\n",
              " 'basal cell carcinoma',\n",
              " 'basal cell carcinoma',\n",
              " 'basal cell carcinoma',\n",
              " 'basal cell carcinoma',\n",
              " 'basal cell carcinoma',\n",
              " 'basal cell carcinoma',\n",
              " 'basal cell carcinoma',\n",
              " 'basal cell carcinoma',\n",
              " 'basal cell carcinoma',\n",
              " 'basal cell carcinoma',\n",
              " 'basal cell carcinoma',\n",
              " 'basal cell carcinoma',\n",
              " 'basal cell carcinoma',\n",
              " 'basal cell carcinoma',\n",
              " 'basal cell carcinoma',\n",
              " 'basal cell carcinoma',\n",
              " 'basal cell carcinoma',\n",
              " 'basal cell carcinoma',\n",
              " 'basal cell carcinoma',\n",
              " 'basal cell carcinoma',\n",
              " 'basal cell carcinoma',\n",
              " 'basal cell carcinoma',\n",
              " 'basal cell carcinoma',\n",
              " 'basal cell carcinoma',\n",
              " 'basal cell carcinoma',\n",
              " 'basal cell carcinoma',\n",
              " 'basal cell carcinoma',\n",
              " 'basal cell carcinoma',\n",
              " 'basal cell carcinoma',\n",
              " 'basal cell carcinoma',\n",
              " 'basal cell carcinoma',\n",
              " 'basal cell carcinoma',\n",
              " 'basal cell carcinoma',\n",
              " 'basal cell carcinoma',\n",
              " 'basal cell carcinoma',\n",
              " 'basal cell carcinoma',\n",
              " 'basal cell carcinoma',\n",
              " 'basal cell carcinoma',\n",
              " 'basal cell carcinoma',\n",
              " 'basal cell carcinoma',\n",
              " 'basal cell carcinoma',\n",
              " 'basal cell carcinoma',\n",
              " 'basal cell carcinoma',\n",
              " 'basal cell carcinoma',\n",
              " 'basal cell carcinoma',\n",
              " 'basal cell carcinoma',\n",
              " 'basal cell carcinoma',\n",
              " 'basal cell carcinoma',\n",
              " 'basal cell carcinoma',\n",
              " 'basal cell carcinoma',\n",
              " 'basal cell carcinoma',\n",
              " 'basal cell carcinoma',\n",
              " 'basal cell carcinoma',\n",
              " 'basal cell carcinoma',\n",
              " 'basal cell carcinoma',\n",
              " 'basal cell carcinoma',\n",
              " 'basal cell carcinoma',\n",
              " 'basal cell carcinoma',\n",
              " 'basal cell carcinoma',\n",
              " 'basal cell carcinoma',\n",
              " 'basal cell carcinoma',\n",
              " 'basal cell carcinoma',\n",
              " 'basal cell carcinoma',\n",
              " 'basal cell carcinoma',\n",
              " 'basal cell carcinoma',\n",
              " 'basal cell carcinoma',\n",
              " 'basal cell carcinoma',\n",
              " 'basal cell carcinoma',\n",
              " 'basal cell carcinoma',\n",
              " 'basal cell carcinoma',\n",
              " 'basal cell carcinoma',\n",
              " 'basal cell carcinoma',\n",
              " 'basal cell carcinoma',\n",
              " 'basal cell carcinoma',\n",
              " 'basal cell carcinoma',\n",
              " 'basal cell carcinoma',\n",
              " 'basal cell carcinoma',\n",
              " 'basal cell carcinoma',\n",
              " 'basal cell carcinoma',\n",
              " 'basal cell carcinoma',\n",
              " 'basal cell carcinoma',\n",
              " 'basal cell carcinoma',\n",
              " 'basal cell carcinoma',\n",
              " 'basal cell carcinoma',\n",
              " 'basal cell carcinoma',\n",
              " 'basal cell carcinoma',\n",
              " 'basal cell carcinoma',\n",
              " 'basal cell carcinoma',\n",
              " 'basal cell carcinoma',\n",
              " 'basal cell carcinoma',\n",
              " 'basal cell carcinoma',\n",
              " 'basal cell carcinoma',\n",
              " 'basal cell carcinoma',\n",
              " 'basal cell carcinoma',\n",
              " 'basal cell carcinoma',\n",
              " 'basal cell carcinoma',\n",
              " 'basal cell carcinoma',\n",
              " 'basal cell carcinoma',\n",
              " 'basal cell carcinoma',\n",
              " 'basal cell carcinoma',\n",
              " 'basal cell carcinoma',\n",
              " 'basal cell carcinoma',\n",
              " 'basal cell carcinoma',\n",
              " 'basal cell carcinoma',\n",
              " 'basal cell carcinoma',\n",
              " 'basal cell carcinoma',\n",
              " 'basal cell carcinoma',\n",
              " 'basal cell carcinoma',\n",
              " 'basal cell carcinoma',\n",
              " 'basal cell carcinoma',\n",
              " 'basal cell carcinoma',\n",
              " 'basal cell carcinoma',\n",
              " 'basal cell carcinoma',\n",
              " 'basal cell carcinoma',\n",
              " 'basal cell carcinoma',\n",
              " 'basal cell carcinoma',\n",
              " 'basal cell carcinoma',\n",
              " 'basal cell carcinoma',\n",
              " 'basal cell carcinoma',\n",
              " 'basal cell carcinoma',\n",
              " 'basal cell carcinoma',\n",
              " 'basal cell carcinoma',\n",
              " 'basal cell carcinoma',\n",
              " 'basal cell carcinoma',\n",
              " 'basal cell carcinoma',\n",
              " 'basal cell carcinoma',\n",
              " 'basal cell carcinoma',\n",
              " 'basal cell carcinoma',\n",
              " 'basal cell carcinoma',\n",
              " 'basal cell carcinoma',\n",
              " 'basal cell carcinoma',\n",
              " 'basal cell carcinoma',\n",
              " 'basal cell carcinoma',\n",
              " 'basal cell carcinoma',\n",
              " 'basal cell carcinoma',\n",
              " 'basal cell carcinoma',\n",
              " 'basal cell carcinoma',\n",
              " 'basal cell carcinoma',\n",
              " 'basal cell carcinoma',\n",
              " 'basal cell carcinoma',\n",
              " 'basal cell carcinoma',\n",
              " 'basal cell carcinoma',\n",
              " 'basal cell carcinoma',\n",
              " 'basal cell carcinoma',\n",
              " 'basal cell carcinoma',\n",
              " 'basal cell carcinoma',\n",
              " 'basal cell carcinoma',\n",
              " 'basal cell carcinoma',\n",
              " 'basal cell carcinoma',\n",
              " 'basal cell carcinoma',\n",
              " 'basal cell carcinoma',\n",
              " 'basal cell carcinoma',\n",
              " 'basal cell carcinoma',\n",
              " 'basal cell carcinoma',\n",
              " 'basal cell carcinoma',\n",
              " 'basal cell carcinoma',\n",
              " 'basal cell carcinoma',\n",
              " 'basal cell carcinoma',\n",
              " 'basal cell carcinoma',\n",
              " 'basal cell carcinoma',\n",
              " 'basal cell carcinoma',\n",
              " 'basal cell carcinoma',\n",
              " 'basal cell carcinoma',\n",
              " 'basal cell carcinoma',\n",
              " 'basal cell carcinoma',\n",
              " 'basal cell carcinoma',\n",
              " 'basal cell carcinoma',\n",
              " 'basal cell carcinoma',\n",
              " 'basal cell carcinoma',\n",
              " 'basal cell carcinoma',\n",
              " 'basal cell carcinoma',\n",
              " 'basal cell carcinoma',\n",
              " 'basal cell carcinoma',\n",
              " 'basal cell carcinoma',\n",
              " 'basal cell carcinoma',\n",
              " 'basal cell carcinoma',\n",
              " 'basal cell carcinoma',\n",
              " 'basal cell carcinoma',\n",
              " 'basal cell carcinoma',\n",
              " 'basal cell carcinoma',\n",
              " 'basal cell carcinoma',\n",
              " 'basal cell carcinoma',\n",
              " 'basal cell carcinoma',\n",
              " 'basal cell carcinoma',\n",
              " 'basal cell carcinoma',\n",
              " 'basal cell carcinoma',\n",
              " 'basal cell carcinoma',\n",
              " 'basal cell carcinoma',\n",
              " 'basal cell carcinoma',\n",
              " 'basal cell carcinoma',\n",
              " 'basal cell carcinoma',\n",
              " 'basal cell carcinoma',\n",
              " 'basal cell carcinoma',\n",
              " 'basal cell carcinoma',\n",
              " ...]"
            ]
          },
          "metadata": {
            "tags": []
          },
          "execution_count": 43
        }
      ]
    },
    {
      "cell_type": "code",
      "metadata": {
        "id": "okcqVFAA2nxK"
      },
      "source": [
        "dataframe_dict_new = dict(zip(path_list_new, lesion_list_new))"
      ],
      "execution_count": 46,
      "outputs": []
    },
    {
      "cell_type": "code",
      "metadata": {
        "id": "njzBxTNT2nxK"
      },
      "source": [
        "original_df=pd.DataFrame()\r\n",
        "df2 = pd.DataFrame(list(dataframe_dict_new.items()),columns = ['Path','Label'])\r\n",
        "new_df = original_df.append(df2)"
      ],
      "execution_count": 48,
      "outputs": []
    },
    {
      "cell_type": "code",
      "metadata": {
        "id": "5j45rmxd2nxK",
        "colab": {
          "base_uri": "https://localhost:8080/"
        },
        "outputId": "d32cdc4d-2092-4719-f649-854e1bffc1fd"
      },
      "source": [
        "new_df['Label'].value_counts()"
      ],
      "execution_count": 49,
      "outputs": [
        {
          "output_type": "execute_result",
          "data": {
            "text/plain": [
              "seborrheic keratosis          500\n",
              "dermatofibroma                500\n",
              "actinic keratosis             500\n",
              "nevus                         500\n",
              "squamous cell carcinoma       500\n",
              "vascular lesion               500\n",
              "melanoma                      500\n",
              "pigmented benign keratosis    500\n",
              "basal cell carcinoma          500\n",
              "Name: Label, dtype: int64"
            ]
          },
          "metadata": {
            "tags": []
          },
          "execution_count": 49
        }
      ]
    },
    {
      "cell_type": "markdown",
      "metadata": {
        "id": "9NirFBvGPmgI"
      },
      "source": [
        "So, now we have added 500 images to all the classes to maintain some class balance. We can add more images as we want to improve training process."
      ]
    },
    {
      "cell_type": "markdown",
      "metadata": {
        "id": "9EnspeMbRWNs"
      },
      "source": [
        "#### **Todo**: Train the model on the data created using Augmentor"
      ]
    },
    {
      "cell_type": "code",
      "metadata": {
        "id": "hFcj1XgndRWz"
      },
      "source": [
        "batch_size = 32\n",
        "img_height = 180\n",
        "img_width = 180"
      ],
      "execution_count": 50,
      "outputs": []
    },
    {
      "cell_type": "markdown",
      "metadata": {
        "id": "0haOU11Ey8ey"
      },
      "source": [
        "#### **Todo:** Create a training dataset"
      ]
    },
    {
      "cell_type": "code",
      "metadata": {
        "id": "H4ZY11judRWz",
        "colab": {
          "base_uri": "https://localhost:8080/"
        },
        "outputId": "2196465c-7f05-4533-dd67-135f2b4950c1"
      },
      "source": [
        "data_dir_train=pathlib.Path(\"/content/drive/My Drive/ML/CNN_assignment/Skin cancer ISIC The International Skin Imaging Collaboration/Train/\")\n",
        "train_ds = tf.keras.preprocessing.image_dataset_from_directory(\n",
        "               directory=data_dir_train, labels='inferred', label_mode='categorical', class_names=None,\n",
        "               color_mode='rgb', batch_size=batch_size, image_size=(img_height, img_width),\n",
        "               shuffle=True, seed=123, validation_split=.20, subset=\"training\",\n",
        "              interpolation='nearest', follow_links=False)"
      ],
      "execution_count": 65,
      "outputs": [
        {
          "output_type": "stream",
          "text": [
            "Found 6739 files belonging to 9 classes.\n",
            "Using 5392 files for training.\n"
          ],
          "name": "stdout"
        }
      ]
    },
    {
      "cell_type": "markdown",
      "metadata": {
        "id": "mwNJVDuBP5kf"
      },
      "source": [
        "#### **Todo:** Create a validation dataset"
      ]
    },
    {
      "cell_type": "code",
      "metadata": {
        "id": "TX191d_3dRW0",
        "colab": {
          "base_uri": "https://localhost:8080/"
        },
        "outputId": "314e62b6-ce0a-4f0a-dbe7-9c8389f5bd3e"
      },
      "source": [
        "val_ds = tf.keras.preprocessing.image_dataset_from_directory(\n",
        "               directory=data_dir_train, labels='inferred', label_mode='categorical', class_names=None,\n",
        "               color_mode='rgb', batch_size=batch_size, image_size=(img_height, img_width),\n",
        "               shuffle=True, seed=123, validation_split=.20, subset=\"validation\",\n",
        "              interpolation='nearest', follow_links=False)"
      ],
      "execution_count": 66,
      "outputs": [
        {
          "output_type": "stream",
          "text": [
            "Found 6739 files belonging to 9 classes.\n",
            "Using 1347 files for validation.\n"
          ],
          "name": "stdout"
        }
      ]
    },
    {
      "cell_type": "markdown",
      "metadata": {
        "id": "JaoWeOEpVjqH"
      },
      "source": [
        "#### **Todo:** Create your model (make sure to include normalization)"
      ]
    },
    {
      "cell_type": "code",
      "metadata": {
        "id": "Ch0MuKvFVr7O"
      },
      "source": [
        "## your code goes here\r\n",
        "model = tf.keras.Sequential(\r\n",
        "    preprocessing_layers +\r\n",
        "    core_layers +\r\n",
        "    dense_layers\r\n",
        ")"
      ],
      "execution_count": 67,
      "outputs": []
    },
    {
      "cell_type": "markdown",
      "metadata": {
        "id": "Bu5N9LxkVx1B"
      },
      "source": [
        "#### **Todo:** Compile your model (Choose optimizer and loss function appropriately)"
      ]
    },
    {
      "cell_type": "code",
      "metadata": {
        "id": "H47GWmLbdRW1"
      },
      "source": [
        "## your code goes here\r\n",
        "\r\n",
        "## Your code goes here\r\n",
        "loss = tf.keras.losses.CategoricalCrossentropy(from_logits=True)\r\n",
        "model.compile(optimizer='adam',\r\n",
        "              loss=loss,\r\n",
        "              metrics=['accuracy'])\r\n"
      ],
      "execution_count": 68,
      "outputs": []
    },
    {
      "cell_type": "code",
      "metadata": {
        "id": "2mp_iurQxKoE",
        "outputId": "a8bd075e-f924-4ca5-c04b-31f7171770c5",
        "colab": {
          "base_uri": "https://localhost:8080/"
        }
      },
      "source": [
        "model.summary()"
      ],
      "execution_count": 61,
      "outputs": [
        {
          "output_type": "stream",
          "text": [
            "Model: \"sequential_2\"\n",
            "_________________________________________________________________\n",
            "Layer (type)                 Output Shape              Param #   \n",
            "=================================================================\n",
            "rescaling (Rescaling)        (None, 180, 180, 3)       0         \n",
            "_________________________________________________________________\n",
            "conv2d_3 (Conv2D)            (None, 180, 180, 16)      448       \n",
            "_________________________________________________________________\n",
            "max_pooling2d_3 (MaxPooling2 (None, 90, 90, 16)        0         \n",
            "_________________________________________________________________\n",
            "dropout (Dropout)            (None, 90, 90, 16)        0         \n",
            "_________________________________________________________________\n",
            "conv2d_4 (Conv2D)            (None, 90, 90, 32)        4640      \n",
            "_________________________________________________________________\n",
            "max_pooling2d_4 (MaxPooling2 (None, 45, 45, 32)        0         \n",
            "_________________________________________________________________\n",
            "dropout_1 (Dropout)          (None, 45, 45, 32)        0         \n",
            "_________________________________________________________________\n",
            "conv2d_5 (Conv2D)            (None, 45, 45, 64)        18496     \n",
            "_________________________________________________________________\n",
            "max_pooling2d_5 (MaxPooling2 (None, 22, 22, 64)        0         \n",
            "_________________________________________________________________\n",
            "dropout_2 (Dropout)          (None, 22, 22, 64)        0         \n",
            "_________________________________________________________________\n",
            "flatten_1 (Flatten)          (None, 30976)             0         \n",
            "_________________________________________________________________\n",
            "dense_2 (Dense)              (None, 128)               3965056   \n",
            "_________________________________________________________________\n",
            "dropout_3 (Dropout)          (None, 128)               0         \n",
            "_________________________________________________________________\n",
            "dense_3 (Dense)              (None, 9)                 1161      \n",
            "=================================================================\n",
            "Total params: 3,989,801\n",
            "Trainable params: 3,989,801\n",
            "Non-trainable params: 0\n",
            "_________________________________________________________________\n"
          ],
          "name": "stdout"
        }
      ]
    },
    {
      "cell_type": "markdown",
      "metadata": {
        "id": "9gS-Y1bJV7uy"
      },
      "source": [
        "#### **Todo:**  Train your model"
      ]
    },
    {
      "cell_type": "code",
      "metadata": {
        "id": "fcV6OdI4dRW1",
        "colab": {
          "base_uri": "https://localhost:8080/"
        },
        "outputId": "d33f9d25-9c80-4d51-ecfc-b5566e981c98"
      },
      "source": [
        "epochs = 50\n",
        "## Your code goes here, use 50 epochs.\n",
        "##epochs = 20\n",
        "history = model.fit(\n",
        "  train_ds,\n",
        "  validation_data=val_ds,\n",
        "  epochs=epochs\n",
        ")"
      ],
      "execution_count": 69,
      "outputs": [
        {
          "output_type": "stream",
          "text": [
            "Epoch 1/50\n",
            "169/169 [==============================] - 47s 271ms/step - loss: 1.5333 - accuracy: 0.4266 - val_loss: 1.4030 - val_accuracy: 0.4803\n",
            "Epoch 2/50\n",
            "169/169 [==============================] - 43s 247ms/step - loss: 1.3484 - accuracy: 0.4728 - val_loss: 1.3123 - val_accuracy: 0.5048\n",
            "Epoch 3/50\n",
            "169/169 [==============================] - 43s 248ms/step - loss: 1.3118 - accuracy: 0.4890 - val_loss: 1.2623 - val_accuracy: 0.5041\n",
            "Epoch 4/50\n",
            "169/169 [==============================] - 43s 246ms/step - loss: 1.2740 - accuracy: 0.5188 - val_loss: 1.1684 - val_accuracy: 0.5546\n",
            "Epoch 5/50\n",
            "169/169 [==============================] - 43s 249ms/step - loss: 1.1954 - accuracy: 0.5284 - val_loss: 1.1743 - val_accuracy: 0.5516\n",
            "Epoch 6/50\n",
            "169/169 [==============================] - 43s 246ms/step - loss: 1.1428 - accuracy: 0.5588 - val_loss: 1.2049 - val_accuracy: 0.5293\n",
            "Epoch 7/50\n",
            "169/169 [==============================] - 43s 247ms/step - loss: 1.1304 - accuracy: 0.5659 - val_loss: 1.0320 - val_accuracy: 0.6385\n",
            "Epoch 8/50\n",
            "169/169 [==============================] - 43s 247ms/step - loss: 1.0461 - accuracy: 0.5887 - val_loss: 1.0119 - val_accuracy: 0.6273\n",
            "Epoch 9/50\n",
            "169/169 [==============================] - 43s 248ms/step - loss: 1.0001 - accuracy: 0.6090 - val_loss: 1.0307 - val_accuracy: 0.6266\n",
            "Epoch 10/50\n",
            "169/169 [==============================] - 43s 245ms/step - loss: 0.9636 - accuracy: 0.6243 - val_loss: 1.0051 - val_accuracy: 0.6258\n",
            "Epoch 11/50\n",
            "169/169 [==============================] - 43s 246ms/step - loss: 0.9558 - accuracy: 0.6293 - val_loss: 0.9724 - val_accuracy: 0.6295\n",
            "Epoch 12/50\n",
            "169/169 [==============================] - 43s 248ms/step - loss: 0.8775 - accuracy: 0.6598 - val_loss: 0.9236 - val_accuracy: 0.6548\n",
            "Epoch 13/50\n",
            "169/169 [==============================] - 43s 245ms/step - loss: 0.8017 - accuracy: 0.6853 - val_loss: 1.0096 - val_accuracy: 0.6303\n",
            "Epoch 14/50\n",
            "169/169 [==============================] - 43s 246ms/step - loss: 0.8710 - accuracy: 0.6698 - val_loss: 0.8237 - val_accuracy: 0.7105\n",
            "Epoch 15/50\n",
            "169/169 [==============================] - 43s 246ms/step - loss: 0.8117 - accuracy: 0.6657 - val_loss: 0.8389 - val_accuracy: 0.6852\n",
            "Epoch 16/50\n",
            "169/169 [==============================] - 43s 246ms/step - loss: 0.7827 - accuracy: 0.6854 - val_loss: 0.8712 - val_accuracy: 0.6971\n",
            "Epoch 17/50\n",
            "169/169 [==============================] - 42s 244ms/step - loss: 0.7443 - accuracy: 0.6995 - val_loss: 0.8618 - val_accuracy: 0.7023\n",
            "Epoch 18/50\n",
            "169/169 [==============================] - 43s 245ms/step - loss: 0.7499 - accuracy: 0.7026 - val_loss: 0.7909 - val_accuracy: 0.7246\n",
            "Epoch 19/50\n",
            "169/169 [==============================] - 43s 248ms/step - loss: 0.6976 - accuracy: 0.7215 - val_loss: 0.8279 - val_accuracy: 0.7127\n",
            "Epoch 20/50\n",
            "169/169 [==============================] - 43s 245ms/step - loss: 0.6853 - accuracy: 0.7326 - val_loss: 0.7919 - val_accuracy: 0.7246\n",
            "Epoch 21/50\n",
            "169/169 [==============================] - 43s 245ms/step - loss: 0.6529 - accuracy: 0.7318 - val_loss: 0.8599 - val_accuracy: 0.6912\n",
            "Epoch 22/50\n",
            "169/169 [==============================] - 43s 247ms/step - loss: 0.6650 - accuracy: 0.7324 - val_loss: 0.7989 - val_accuracy: 0.7305\n",
            "Epoch 23/50\n",
            "169/169 [==============================] - 43s 245ms/step - loss: 0.6075 - accuracy: 0.7605 - val_loss: 0.7472 - val_accuracy: 0.7528\n",
            "Epoch 24/50\n",
            "169/169 [==============================] - 43s 245ms/step - loss: 0.5967 - accuracy: 0.7489 - val_loss: 0.7608 - val_accuracy: 0.7372\n",
            "Epoch 25/50\n",
            "169/169 [==============================] - 43s 245ms/step - loss: 0.6042 - accuracy: 0.7601 - val_loss: 0.6906 - val_accuracy: 0.7765\n",
            "Epoch 26/50\n",
            "169/169 [==============================] - 43s 247ms/step - loss: 0.6009 - accuracy: 0.7584 - val_loss: 0.7464 - val_accuracy: 0.7580\n",
            "Epoch 27/50\n",
            "169/169 [==============================] - 43s 245ms/step - loss: 0.5397 - accuracy: 0.7876 - val_loss: 0.7453 - val_accuracy: 0.7602\n",
            "Epoch 28/50\n",
            "169/169 [==============================] - 43s 245ms/step - loss: 0.5865 - accuracy: 0.7546 - val_loss: 0.7063 - val_accuracy: 0.7543\n",
            "Epoch 29/50\n",
            "169/169 [==============================] - 43s 246ms/step - loss: 0.5380 - accuracy: 0.7743 - val_loss: 0.7371 - val_accuracy: 0.7647\n",
            "Epoch 30/50\n",
            "169/169 [==============================] - 43s 245ms/step - loss: 0.5140 - accuracy: 0.7810 - val_loss: 0.7172 - val_accuracy: 0.7587\n",
            "Epoch 31/50\n",
            "169/169 [==============================] - 43s 244ms/step - loss: 0.5125 - accuracy: 0.7890 - val_loss: 0.7997 - val_accuracy: 0.7684\n",
            "Epoch 32/50\n",
            "169/169 [==============================] - 43s 244ms/step - loss: 0.5258 - accuracy: 0.7797 - val_loss: 0.7339 - val_accuracy: 0.7647\n",
            "Epoch 33/50\n",
            "169/169 [==============================] - 43s 245ms/step - loss: 0.5364 - accuracy: 0.7938 - val_loss: 0.6964 - val_accuracy: 0.7936\n",
            "Epoch 34/50\n",
            "169/169 [==============================] - 43s 245ms/step - loss: 0.5022 - accuracy: 0.8036 - val_loss: 0.7893 - val_accuracy: 0.7647\n",
            "Epoch 35/50\n",
            "169/169 [==============================] - 43s 245ms/step - loss: 0.4991 - accuracy: 0.8050 - val_loss: 0.7132 - val_accuracy: 0.7661\n",
            "Epoch 36/50\n",
            "169/169 [==============================] - 43s 245ms/step - loss: 0.4944 - accuracy: 0.8038 - val_loss: 0.7391 - val_accuracy: 0.7765\n",
            "Epoch 37/50\n",
            "169/169 [==============================] - 43s 245ms/step - loss: 0.4833 - accuracy: 0.7933 - val_loss: 0.8380 - val_accuracy: 0.7558\n",
            "Epoch 38/50\n",
            "169/169 [==============================] - 43s 244ms/step - loss: 0.4949 - accuracy: 0.7962 - val_loss: 0.8145 - val_accuracy: 0.7543\n",
            "Epoch 39/50\n",
            "169/169 [==============================] - 43s 245ms/step - loss: 0.4779 - accuracy: 0.8088 - val_loss: 0.7530 - val_accuracy: 0.7951\n",
            "Epoch 40/50\n",
            "169/169 [==============================] - 43s 245ms/step - loss: 0.4354 - accuracy: 0.8251 - val_loss: 0.7526 - val_accuracy: 0.7906\n",
            "Epoch 41/50\n",
            "169/169 [==============================] - 43s 246ms/step - loss: 0.4653 - accuracy: 0.8096 - val_loss: 0.8609 - val_accuracy: 0.7676\n",
            "Epoch 42/50\n",
            "169/169 [==============================] - 43s 244ms/step - loss: 0.4717 - accuracy: 0.8160 - val_loss: 0.7407 - val_accuracy: 0.7906\n",
            "Epoch 43/50\n",
            "169/169 [==============================] - 43s 246ms/step - loss: 0.4805 - accuracy: 0.8155 - val_loss: 0.7311 - val_accuracy: 0.7973\n",
            "Epoch 44/50\n",
            "169/169 [==============================] - 42s 243ms/step - loss: 0.4336 - accuracy: 0.8288 - val_loss: 0.6754 - val_accuracy: 0.7996\n",
            "Epoch 45/50\n",
            "169/169 [==============================] - 43s 246ms/step - loss: 0.4720 - accuracy: 0.8136 - val_loss: 0.7442 - val_accuracy: 0.7988\n",
            "Epoch 46/50\n",
            "169/169 [==============================] - 42s 244ms/step - loss: 0.4165 - accuracy: 0.8320 - val_loss: 0.7110 - val_accuracy: 0.8010\n",
            "Epoch 47/50\n",
            "169/169 [==============================] - 43s 245ms/step - loss: 0.4317 - accuracy: 0.8283 - val_loss: 0.8033 - val_accuracy: 0.7929\n",
            "Epoch 48/50\n",
            "169/169 [==============================] - 43s 245ms/step - loss: 0.4213 - accuracy: 0.8309 - val_loss: 0.7441 - val_accuracy: 0.7921\n",
            "Epoch 49/50\n",
            "169/169 [==============================] - 43s 245ms/step - loss: 0.4309 - accuracy: 0.8245 - val_loss: 0.6859 - val_accuracy: 0.7951\n",
            "Epoch 50/50\n",
            "169/169 [==============================] - 43s 245ms/step - loss: 0.4097 - accuracy: 0.8341 - val_loss: 0.8252 - val_accuracy: 0.7736\n"
          ],
          "name": "stdout"
        }
      ]
    },
    {
      "cell_type": "markdown",
      "metadata": {
        "id": "iuvfCTsBWLMp"
      },
      "source": [
        "#### **Todo:**  Visualize the model results"
      ]
    },
    {
      "cell_type": "code",
      "metadata": {
        "id": "lCTXwfkTdRW1",
        "colab": {
          "base_uri": "https://localhost:8080/",
          "height": 716
        },
        "outputId": "16e82485-8f5e-4230-a915-d206ada4248a"
      },
      "source": [
        "acc = history.history['accuracy']\n",
        "val_acc = history.history['val_accuracy']\n",
        "\n",
        "loss = history.history['loss']\n",
        "val_loss = history.history['val_loss']\n",
        "\n",
        "epochs_range = range(epochs)\n",
        "\n",
        "plt.figure(figsize=(12, 12))\n",
        "plt.subplot(1, 2, 1)\n",
        "plt.plot(epochs_range, acc, label='Training Accuracy')\n",
        "plt.plot(epochs_range, val_acc, label='Validation Accuracy')\n",
        "plt.legend(loc='lower right')\n",
        "plt.title('Training and Validation Accuracy')\n",
        "\n",
        "plt.subplot(1, 2, 2)\n",
        "plt.plot(epochs_range, loss, label='Training Loss')\n",
        "plt.plot(epochs_range, val_loss, label='Validation Loss')\n",
        "plt.legend(loc='upper right')\n",
        "plt.title('Training and Validation Loss')\n",
        "plt.show()"
      ],
      "execution_count": 71,
      "outputs": [
        {
          "output_type": "display_data",
          "data": {
            "image/png": "[encoded data removed]",
            "text/plain": [
              "<Figure size 864x864 with 2 Axes>"
            ]
          },
          "metadata": {
            "tags": [],
            "needs_background": "light"
          }
        }
      ]
    },
    {
      "cell_type": "markdown",
      "metadata": {
        "id": "Way4lakC4_p0"
      },
      "source": [
        "#### **Todo:**  Analyze your results here. Did you get rid of underfitting/overfitting? Did class rebalance help?\n",
        "\n"
      ]
    },
    {
      "cell_type": "code",
      "metadata": {
        "id": "nV2BHg1dWrdY",
        "colab": {
          "base_uri": "https://localhost:8080/"
        },
        "outputId": "f514727e-f688-4695-b79d-f4b92b43cc1f"
      },
      "source": [
        "## Let's evaluate the model on the test data\r\n",
        "history_test_model=model.evaluate(test_ds)"
      ],
      "execution_count": 72,
      "outputs": [
        {
          "output_type": "stream",
          "text": [
            "4/4 [==============================] - 4s 13ms/step - loss: 5.7008 - accuracy: 0.4237\n"
          ],
          "name": "stdout"
        }
      ]
    },
    {
      "cell_type": "code",
      "metadata": {
        "id": "JEmD_HPC8Dfj",
        "outputId": "c3549bec-d119-4d24-b447-b3e22bcb5d05",
        "colab": {
          "base_uri": "https://localhost:8080/"
        }
      },
      "source": [
        "## Model summary on the performance train, validation and test set\r\n",
        "print('Model summary after class rebalance')\r\n",
        "print('-----------------------------------------------------------------')\r\n",
        "print('Train accuracy on epoch',epochs,'is',str(100*(acc[epochs-1]))+'%')\r\n",
        "print('Validation accuracy on epoch',epochs,'is',str(100*(val_acc[epochs-1]))+'%')\r\n",
        "print('Test accuracy: ', str(100*history_test_model[1])+'%')"
      ],
      "execution_count": 73,
      "outputs": [
        {
          "output_type": "stream",
          "text": [
            "Model summary after class rebalance\n",
            "-----------------------------------------------------------------\n",
            "Train accuracy on epoch 50 is 83.23442339897156%\n",
            "Validation accuracy on epoch 50 is 77.35708951950073%\n",
            "Test accuracy:  42.37288236618042%\n"
          ],
          "name": "stdout"
        }
      ]
    }
  ]
}